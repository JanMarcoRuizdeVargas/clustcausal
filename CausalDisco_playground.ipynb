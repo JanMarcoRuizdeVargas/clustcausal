{
 "cells": [
  {
   "cell_type": "code",
   "execution_count": 1,
   "metadata": {},
   "outputs": [
    {
     "name": "stderr",
     "output_type": "stream",
     "text": [
      "Detecting 1 CUDA device(s).\n",
      "2023-09-02 16:54:52,463 - c:\\Users\\JanMarco\\MLProjects\\Masterthesis\\masterthesis\\mthesis\\lib\\site-packages\\rpy2\\situation.py[line:41] - INFO: cffi mode is CFFI_MODE.ANY\n",
      "2023-09-02 16:54:52,468 - c:\\Users\\JanMarco\\MLProjects\\Masterthesis\\masterthesis\\mthesis\\lib\\site-packages\\rpy2\\situation.py[line:218] - INFO: R home found: C:\\Program Files\\R\\R-4.3.1\n",
      "2023-09-02 16:54:52,490 - c:\\Users\\JanMarco\\MLProjects\\Masterthesis\\masterthesis\\mthesis\\lib\\site-packages\\rpy2\\rinterface_lib\\embedded.py[line:20] - INFO: Default options to initialize R: rpy2, --quiet, --no-save\n",
      "IProgress not found. Please update jupyter and ipywidgets. See https://ipywidgets.readthedocs.io/en/stable/user_install.html\n"
     ]
    }
   ],
   "source": [
    "%load_ext autoreload\n",
    "%autoreload 2\n",
    "from clustercausal.experiments.Simulator import Simulator"
   ]
  },
  {
   "cell_type": "code",
   "execution_count": null,
   "metadata": {},
   "outputs": [],
   "source": []
  }
 ],
 "metadata": {
  "kernelspec": {
   "display_name": "mthesis",
   "language": "python",
   "name": "python3"
  },
  "language_info": {
   "codemirror_mode": {
    "name": "ipython",
    "version": 3
   },
   "file_extension": ".py",
   "mimetype": "text/x-python",
   "name": "python",
   "nbconvert_exporter": "python",
   "pygments_lexer": "ipython3",
   "version": "3.10.0"
  },
  "orig_nbformat": 4
 },
 "nbformat": 4,
 "nbformat_minor": 2
}
