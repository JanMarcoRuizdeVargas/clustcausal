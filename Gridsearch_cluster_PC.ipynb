{
 "cells": [
  {
   "cell_type": "markdown",
   "metadata": {},
   "source": [
    "### Notebook for testing gridsearch for cluster PC"
   ]
  },
  {
   "cell_type": "code",
   "execution_count": 1,
   "metadata": {},
   "outputs": [
    {
     "name": "stderr",
     "output_type": "stream",
     "text": [
      "c:\\Users\\JanMarco\\MLProjects\\Masterthesis\\masterthesis\\mthesis\\lib\\site-packages\\tqdm\\auto.py:21: TqdmWarning: IProgress not found. Please update jupyter and ipywidgets. See https://ipywidgets.readthedocs.io/en/stable/user_install.html\n",
      "  from .autonotebook import tqdm as notebook_tqdm\n"
     ]
    }
   ],
   "source": [
    "%load_ext autoreload\n",
    "%autoreload 2\n",
    "from clustercausal.experiments.ExperimentRunner import ExperimentRunner\n",
    "import itertools\n",
    "import yaml"
   ]
  },
  {
   "cell_type": "code",
   "execution_count": 2,
   "metadata": {},
   "outputs": [
    {
     "name": "stdout",
     "output_type": "stream",
     "text": [
      "Number of experiments: 144\n"
     ]
    }
   ],
   "source": [
    "config_path = 'clustercausal/experiments/configs/cluster_pc.yaml'\n",
    "experiment = ExperimentRunner(config_path)"
   ]
  },
  {
   "cell_type": "code",
   "execution_count": 3,
   "metadata": {},
   "outputs": [
    {
     "name": "stderr",
     "output_type": "stream",
     "text": [
      "2023-08-02 14:01:31,651 - c:\\Users\\JanMarco\\MLProjects\\Masterthesis\\masterthesis\\mthesis\\lib\\site-packages\\castle\\datasets\\simulator.py[line:270] - INFO: Finished synthetic dataset\n",
      "2023-08-02 14:01:31,698 - c:\\Users\\JanMarco\\MLProjects\\Masterthesis\\masterthesis\\mthesis\\lib\\site-packages\\castle\\datasets\\simulator.py[line:270] - INFO: Finished synthetic dataset\n",
      "2023-08-02 14:01:31,743 - c:\\Users\\JanMarco\\MLProjects\\Masterthesis\\masterthesis\\mthesis\\lib\\site-packages\\castle\\datasets\\simulator.py[line:270] - INFO: Finished synthetic dataset\n",
      "2023-08-02 14:01:31,839 - c:\\Users\\JanMarco\\MLProjects\\Masterthesis\\masterthesis\\mthesis\\lib\\site-packages\\castle\\datasets\\simulator.py[line:270] - INFO: Finished synthetic dataset\n"
     ]
    },
    {
     "name": "stdout",
     "output_type": "stream",
     "text": [
      "Running experiment with parameters: {'n_nodes': 5, 'n_edges': 14, 'dag_method': 'erdos_renyi', 'n_clusters': 3, 'weight_range': [-1, 2], 'scm_method': 'linear', 'sample_size': 100, 'seed': None, 'node_names': None, 'noise_scale': 1, 'distribution_type': 'gauss'}\n",
      "Warning: n_edges is not exact due to gcastle implementation\n",
      "Duration of algorithm was 0.01sec\n",
      "Running experiment with parameters: {'n_nodes': 5, 'n_edges': 14, 'dag_method': 'erdos_renyi', 'n_clusters': 3, 'weight_range': [-1, 2], 'scm_method': 'linear', 'sample_size': 100, 'seed': None, 'node_names': None, 'noise_scale': 1, 'distribution_type': 'exp'}\n",
      "Warning: n_edges is not exact due to gcastle implementation\n",
      "Duration of algorithm was 0.01sec\n",
      "Running experiment with parameters: {'n_nodes': 5, 'n_edges': 14, 'dag_method': 'erdos_renyi', 'n_clusters': 3, 'weight_range': [-1, 2], 'scm_method': 'linear', 'sample_size': 100, 'seed': None, 'node_names': None, 'noise_scale': 1, 'distribution_type': 'gumbel'}\n",
      "Warning: n_edges is not exact due to gcastle implementation\n",
      "Duration of algorithm was 0.05sec\n",
      "Running experiment with parameters: {'n_nodes': 5, 'n_edges': 14, 'dag_method': 'erdos_renyi', 'n_clusters': 5, 'weight_range': [-1, 2], 'scm_method': 'linear', 'sample_size': 100, 'seed': None, 'node_names': None, 'noise_scale': 1, 'distribution_type': 'gauss'}\n",
      "Warning: n_edges is not exact due to gcastle implementation\n"
     ]
    },
    {
     "name": "stderr",
     "output_type": "stream",
     "text": [
      "c:\\Users\\JanMarco\\MLProjects\\Masterthesis\\masterthesis\\mthesis\\lib\\site-packages\\causallearn\\graph\\ArrowConfusion.py:92: RuntimeWarning: invalid value encountered in double_scalars\n",
      "  return self.__arrowsTp / (self.__arrowsTp + self.__arrowsFp)\n",
      "c:\\Users\\JanMarco\\MLProjects\\Masterthesis\\masterthesis\\mthesis\\lib\\site-packages\\causallearn\\graph\\ArrowConfusion.py:98: RuntimeWarning: invalid value encountered in double_scalars\n",
      "  return self.__arrowsTpCE / (self.__arrowsTpCE + self.__arrowsFpCE)\n",
      "2023-08-02 14:01:31,895 - c:\\Users\\JanMarco\\MLProjects\\Masterthesis\\masterthesis\\mthesis\\lib\\site-packages\\castle\\datasets\\simulator.py[line:270] - INFO: Finished synthetic dataset\n",
      "2023-08-02 14:01:31,960 - c:\\Users\\JanMarco\\MLProjects\\Masterthesis\\masterthesis\\mthesis\\lib\\site-packages\\castle\\datasets\\simulator.py[line:270] - INFO: Finished synthetic dataset\n",
      "2023-08-02 14:01:32,012 - c:\\Users\\JanMarco\\MLProjects\\Masterthesis\\masterthesis\\mthesis\\lib\\site-packages\\castle\\datasets\\simulator.py[line:270] - INFO: Finished synthetic dataset\n"
     ]
    },
    {
     "name": "stdout",
     "output_type": "stream",
     "text": [
      "Duration of algorithm was 0.02sec\n",
      "Running experiment with parameters: {'n_nodes': 5, 'n_edges': 14, 'dag_method': 'erdos_renyi', 'n_clusters': 5, 'weight_range': [-1, 2], 'scm_method': 'linear', 'sample_size': 100, 'seed': None, 'node_names': None, 'noise_scale': 1, 'distribution_type': 'exp'}\n",
      "Warning: n_edges is not exact due to gcastle implementation\n",
      "Duration of algorithm was 0.02sec\n",
      "Running experiment with parameters: {'n_nodes': 5, 'n_edges': 14, 'dag_method': 'erdos_renyi', 'n_clusters': 5, 'weight_range': [-1, 2], 'scm_method': 'linear', 'sample_size': 100, 'seed': None, 'node_names': None, 'noise_scale': 1, 'distribution_type': 'gumbel'}\n",
      "Warning: n_edges is not exact due to gcastle implementation\n",
      "Duration of algorithm was 0.02sec\n",
      "Running experiment with parameters: {'n_nodes': 5, 'n_edges': 14, 'dag_method': 'scale_free', 'n_clusters': 3, 'weight_range': [-1, 2], 'scm_method': 'linear', 'sample_size': 100, 'seed': None, 'node_names': None, 'noise_scale': 1, 'distribution_type': 'gauss'}\n",
      "Warning: n_edges is not exact due to gcastle implementation\n",
      "Duration of algorithm was 0.01sec\n"
     ]
    },
    {
     "name": "stderr",
     "output_type": "stream",
     "text": [
      "2023-08-02 14:01:32,061 - c:\\Users\\JanMarco\\MLProjects\\Masterthesis\\masterthesis\\mthesis\\lib\\site-packages\\castle\\datasets\\simulator.py[line:270] - INFO: Finished synthetic dataset\n",
      "2023-08-02 14:01:32,112 - c:\\Users\\JanMarco\\MLProjects\\Masterthesis\\masterthesis\\mthesis\\lib\\site-packages\\castle\\datasets\\simulator.py[line:270] - INFO: Finished synthetic dataset\n",
      "2023-08-02 14:01:32,156 - c:\\Users\\JanMarco\\MLProjects\\Masterthesis\\masterthesis\\mthesis\\lib\\site-packages\\castle\\datasets\\simulator.py[line:270] - INFO: Finished synthetic dataset\n",
      "2023-08-02 14:01:32,197 - c:\\Users\\JanMarco\\MLProjects\\Masterthesis\\masterthesis\\mthesis\\lib\\site-packages\\castle\\datasets\\simulator.py[line:270] - INFO: Finished synthetic dataset\n",
      "2023-08-02 14:01:32,241 - c:\\Users\\JanMarco\\MLProjects\\Masterthesis\\masterthesis\\mthesis\\lib\\site-packages\\castle\\datasets\\simulator.py[line:270] - INFO: Finished synthetic dataset\n"
     ]
    },
    {
     "name": "stdout",
     "output_type": "stream",
     "text": [
      "Running experiment with parameters: {'n_nodes': 5, 'n_edges': 14, 'dag_method': 'scale_free', 'n_clusters': 3, 'weight_range': [-1, 2], 'scm_method': 'linear', 'sample_size': 100, 'seed': None, 'node_names': None, 'noise_scale': 1, 'distribution_type': 'exp'}\n",
      "Warning: n_edges is not exact due to gcastle implementation\n",
      "Duration of algorithm was 0.01sec\n",
      "Running experiment with parameters: {'n_nodes': 5, 'n_edges': 14, 'dag_method': 'scale_free', 'n_clusters': 3, 'weight_range': [-1, 2], 'scm_method': 'linear', 'sample_size': 100, 'seed': None, 'node_names': None, 'noise_scale': 1, 'distribution_type': 'gumbel'}\n",
      "Warning: n_edges is not exact due to gcastle implementation\n",
      "Duration of algorithm was 0.01sec\n",
      "Running experiment with parameters: {'n_nodes': 5, 'n_edges': 14, 'dag_method': 'scale_free', 'n_clusters': 5, 'weight_range': [-1, 2], 'scm_method': 'linear', 'sample_size': 100, 'seed': None, 'node_names': None, 'noise_scale': 1, 'distribution_type': 'gauss'}\n",
      "Warning: n_edges is not exact due to gcastle implementation\n",
      "Duration of algorithm was 0.01sec\n",
      "Running experiment with parameters: {'n_nodes': 5, 'n_edges': 14, 'dag_method': 'scale_free', 'n_clusters': 5, 'weight_range': [-1, 2], 'scm_method': 'linear', 'sample_size': 100, 'seed': None, 'node_names': None, 'noise_scale': 1, 'distribution_type': 'exp'}\n",
      "Warning: n_edges is not exact due to gcastle implementation\n",
      "Duration of algorithm was 0.01sec\n",
      "Running experiment with parameters: {'n_nodes': 5, 'n_edges': 14, 'dag_method': 'scale_free', 'n_clusters': 5, 'weight_range': [-1, 2], 'scm_method': 'linear', 'sample_size': 100, 'seed': None, 'node_names': None, 'noise_scale': 1, 'distribution_type': 'gumbel'}\n",
      "Warning: n_edges is not exact due to gcastle implementation\n"
     ]
    },
    {
     "name": "stderr",
     "output_type": "stream",
     "text": [
      "2023-08-02 14:01:32,286 - c:\\Users\\JanMarco\\MLProjects\\Masterthesis\\masterthesis\\mthesis\\lib\\site-packages\\castle\\datasets\\simulator.py[line:270] - INFO: Finished synthetic dataset\n",
      "2023-08-02 14:01:32,350 - c:\\Users\\JanMarco\\MLProjects\\Masterthesis\\masterthesis\\mthesis\\lib\\site-packages\\castle\\datasets\\simulator.py[line:270] - INFO: Finished synthetic dataset\n",
      "2023-08-02 14:01:32,418 - c:\\Users\\JanMarco\\MLProjects\\Masterthesis\\masterthesis\\mthesis\\lib\\site-packages\\castle\\datasets\\simulator.py[line:270] - INFO: Finished synthetic dataset\n"
     ]
    },
    {
     "name": "stdout",
     "output_type": "stream",
     "text": [
      "Duration of algorithm was 0.01sec\n",
      "Running experiment with parameters: {'n_nodes': 5, 'n_edges': 14, 'dag_method': 'hierarchical', 'n_clusters': 3, 'weight_range': [-1, 2], 'scm_method': 'linear', 'sample_size': 100, 'seed': None, 'node_names': None, 'noise_scale': 1, 'distribution_type': 'gauss'}\n",
      "Warning: n_edges is not exact due to gcastle implementation\n",
      "Duration of algorithm was 0.02sec\n",
      "Running experiment with parameters: {'n_nodes': 5, 'n_edges': 14, 'dag_method': 'hierarchical', 'n_clusters': 3, 'weight_range': [-1, 2], 'scm_method': 'linear', 'sample_size': 100, 'seed': None, 'node_names': None, 'noise_scale': 1, 'distribution_type': 'exp'}\n",
      "Warning: n_edges is not exact due to gcastle implementation\n",
      "Duration of algorithm was 0.02sec\n",
      "Running experiment with parameters: {'n_nodes': 5, 'n_edges': 14, 'dag_method': 'hierarchical', 'n_clusters': 3, 'weight_range': [-1, 2], 'scm_method': 'linear', 'sample_size': 100, 'seed': None, 'node_names': None, 'noise_scale': 1, 'distribution_type': 'gumbel'}\n",
      "Warning: n_edges is not exact due to gcastle implementation\n",
      "Duration of algorithm was 0.03sec\n"
     ]
    },
    {
     "name": "stderr",
     "output_type": "stream",
     "text": [
      "2023-08-02 14:01:32,510 - c:\\Users\\JanMarco\\MLProjects\\Masterthesis\\masterthesis\\mthesis\\lib\\site-packages\\castle\\datasets\\simulator.py[line:270] - INFO: Finished synthetic dataset\n",
      "2023-08-02 14:01:32,577 - c:\\Users\\JanMarco\\MLProjects\\Masterthesis\\masterthesis\\mthesis\\lib\\site-packages\\castle\\datasets\\simulator.py[line:270] - INFO: Finished synthetic dataset\n",
      "2023-08-02 14:01:32,636 - c:\\Users\\JanMarco\\MLProjects\\Masterthesis\\masterthesis\\mthesis\\lib\\site-packages\\castle\\datasets\\simulator.py[line:270] - INFO: Finished synthetic dataset\n",
      "2023-08-02 14:01:32,689 - c:\\Users\\JanMarco\\MLProjects\\Masterthesis\\masterthesis\\mthesis\\lib\\site-packages\\castle\\datasets\\simulator.py[line:270] - INFO: Finished synthetic dataset\n"
     ]
    },
    {
     "name": "stdout",
     "output_type": "stream",
     "text": [
      "Running experiment with parameters: {'n_nodes': 5, 'n_edges': 14, 'dag_method': 'hierarchical', 'n_clusters': 5, 'weight_range': [-1, 2], 'scm_method': 'linear', 'sample_size': 100, 'seed': None, 'node_names': None, 'noise_scale': 1, 'distribution_type': 'gauss'}\n",
      "Warning: n_edges is not exact due to gcastle implementation\n",
      "Duration of algorithm was 0.02sec\n",
      "Running experiment with parameters: {'n_nodes': 5, 'n_edges': 14, 'dag_method': 'hierarchical', 'n_clusters': 5, 'weight_range': [-1, 2], 'scm_method': 'linear', 'sample_size': 100, 'seed': None, 'node_names': None, 'noise_scale': 1, 'distribution_type': 'exp'}\n",
      "Warning: n_edges is not exact due to gcastle implementation\n",
      "Duration of algorithm was 0.02sec\n",
      "Running experiment with parameters: {'n_nodes': 5, 'n_edges': 14, 'dag_method': 'hierarchical', 'n_clusters': 5, 'weight_range': [-1, 2], 'scm_method': 'linear', 'sample_size': 100, 'seed': None, 'node_names': None, 'noise_scale': 1, 'distribution_type': 'gumbel'}\n",
      "Warning: n_edges is not exact due to gcastle implementation\n",
      "Duration of algorithm was 0.02sec\n",
      "Running experiment with parameters: {'n_nodes': 5, 'n_edges': 21, 'dag_method': 'erdos_renyi', 'n_clusters': 3, 'weight_range': [-1, 2], 'scm_method': 'linear', 'sample_size': 100, 'seed': None, 'node_names': None, 'noise_scale': 1, 'distribution_type': 'gauss'}\n",
      "Warning: n_edges is not exact due to gcastle implementation\n"
     ]
    },
    {
     "name": "stderr",
     "output_type": "stream",
     "text": [
      "2023-08-02 14:01:32,742 - c:\\Users\\JanMarco\\MLProjects\\Masterthesis\\masterthesis\\mthesis\\lib\\site-packages\\castle\\datasets\\simulator.py[line:270] - INFO: Finished synthetic dataset\n",
      "2023-08-02 14:01:32,788 - c:\\Users\\JanMarco\\MLProjects\\Masterthesis\\masterthesis\\mthesis\\lib\\site-packages\\castle\\datasets\\simulator.py[line:270] - INFO: Finished synthetic dataset\n",
      "2023-08-02 14:01:32,851 - c:\\Users\\JanMarco\\MLProjects\\Masterthesis\\masterthesis\\mthesis\\lib\\site-packages\\castle\\datasets\\simulator.py[line:270] - INFO: Finished synthetic dataset\n"
     ]
    },
    {
     "name": "stdout",
     "output_type": "stream",
     "text": [
      "Duration of algorithm was 0.01sec\n",
      "Running experiment with parameters: {'n_nodes': 5, 'n_edges': 21, 'dag_method': 'erdos_renyi', 'n_clusters': 3, 'weight_range': [-1, 2], 'scm_method': 'linear', 'sample_size': 100, 'seed': None, 'node_names': None, 'noise_scale': 1, 'distribution_type': 'exp'}\n",
      "Warning: n_edges is not exact due to gcastle implementation\n",
      "Duration of algorithm was 0.01sec\n",
      "Running experiment with parameters: {'n_nodes': 5, 'n_edges': 21, 'dag_method': 'erdos_renyi', 'n_clusters': 3, 'weight_range': [-1, 2], 'scm_method': 'linear', 'sample_size': 100, 'seed': None, 'node_names': None, 'noise_scale': 1, 'distribution_type': 'gumbel'}\n",
      "Warning: n_edges is not exact due to gcastle implementation\n",
      "Duration of algorithm was 0.02sec\n",
      "Running experiment with parameters: {'n_nodes': 5, 'n_edges': 21, 'dag_method': 'erdos_renyi', 'n_clusters': 5, 'weight_range': [-1, 2], 'scm_method': 'linear', 'sample_size': 100, 'seed': None, 'node_names': None, 'noise_scale': 1, 'distribution_type': 'gauss'}\n",
      "Warning: n_edges is not exact due to gcastle implementation\n",
      "Duration of algorithm was 0.03sec\n"
     ]
    },
    {
     "name": "stderr",
     "output_type": "stream",
     "text": [
      "2023-08-02 14:01:32,940 - c:\\Users\\JanMarco\\MLProjects\\Masterthesis\\masterthesis\\mthesis\\lib\\site-packages\\castle\\datasets\\simulator.py[line:270] - INFO: Finished synthetic dataset\n",
      "2023-08-02 14:01:33,006 - c:\\Users\\JanMarco\\MLProjects\\Masterthesis\\masterthesis\\mthesis\\lib\\site-packages\\castle\\datasets\\simulator.py[line:270] - INFO: Finished synthetic dataset\n",
      "2023-08-02 14:01:33,079 - c:\\Users\\JanMarco\\MLProjects\\Masterthesis\\masterthesis\\mthesis\\lib\\site-packages\\castle\\datasets\\simulator.py[line:270] - INFO: Finished synthetic dataset\n",
      "2023-08-02 14:01:33,128 - c:\\Users\\JanMarco\\MLProjects\\Masterthesis\\masterthesis\\mthesis\\lib\\site-packages\\castle\\datasets\\simulator.py[line:270] - INFO: Finished synthetic dataset\n"
     ]
    },
    {
     "name": "stdout",
     "output_type": "stream",
     "text": [
      "Running experiment with parameters: {'n_nodes': 5, 'n_edges': 21, 'dag_method': 'erdos_renyi', 'n_clusters': 5, 'weight_range': [-1, 2], 'scm_method': 'linear', 'sample_size': 100, 'seed': None, 'node_names': None, 'noise_scale': 1, 'distribution_type': 'exp'}\n",
      "Warning: n_edges is not exact due to gcastle implementation\n",
      "Duration of algorithm was 0.02sec\n",
      "Running experiment with parameters: {'n_nodes': 5, 'n_edges': 21, 'dag_method': 'erdos_renyi', 'n_clusters': 5, 'weight_range': [-1, 2], 'scm_method': 'linear', 'sample_size': 100, 'seed': None, 'node_names': None, 'noise_scale': 1, 'distribution_type': 'gumbel'}\n",
      "Warning: n_edges is not exact due to gcastle implementation\n",
      "Duration of algorithm was 0.02sec\n",
      "Running experiment with parameters: {'n_nodes': 5, 'n_edges': 21, 'dag_method': 'scale_free', 'n_clusters': 3, 'weight_range': [-1, 2], 'scm_method': 'linear', 'sample_size': 100, 'seed': None, 'node_names': None, 'noise_scale': 1, 'distribution_type': 'gauss'}\n",
      "Warning: n_edges is not exact due to gcastle implementation\n",
      "Duration of algorithm was 0.01sec\n",
      "Running experiment with parameters: {'n_nodes': 5, 'n_edges': 21, 'dag_method': 'scale_free', 'n_clusters': 3, 'weight_range': [-1, 2], 'scm_method': 'linear', 'sample_size': 100, 'seed': None, 'node_names': None, 'noise_scale': 1, 'distribution_type': 'exp'}\n",
      "Warning: n_edges is not exact due to gcastle implementation\n"
     ]
    },
    {
     "name": "stderr",
     "output_type": "stream",
     "text": [
      "2023-08-02 14:01:33,183 - c:\\Users\\JanMarco\\MLProjects\\Masterthesis\\masterthesis\\mthesis\\lib\\site-packages\\castle\\datasets\\simulator.py[line:270] - INFO: Finished synthetic dataset\n",
      "2023-08-02 14:01:33,241 - c:\\Users\\JanMarco\\MLProjects\\Masterthesis\\masterthesis\\mthesis\\lib\\site-packages\\castle\\datasets\\simulator.py[line:270] - INFO: Finished synthetic dataset\n",
      "2023-08-02 14:01:33,331 - c:\\Users\\JanMarco\\MLProjects\\Masterthesis\\masterthesis\\mthesis\\lib\\site-packages\\castle\\datasets\\simulator.py[line:270] - INFO: Finished synthetic dataset\n"
     ]
    },
    {
     "name": "stdout",
     "output_type": "stream",
     "text": [
      "Duration of algorithm was 0.01sec\n",
      "Running experiment with parameters: {'n_nodes': 5, 'n_edges': 21, 'dag_method': 'scale_free', 'n_clusters': 3, 'weight_range': [-1, 2], 'scm_method': 'linear', 'sample_size': 100, 'seed': None, 'node_names': None, 'noise_scale': 1, 'distribution_type': 'gumbel'}\n",
      "Warning: n_edges is not exact due to gcastle implementation\n",
      "Duration of algorithm was 0.02sec\n",
      "Running experiment with parameters: {'n_nodes': 5, 'n_edges': 21, 'dag_method': 'scale_free', 'n_clusters': 5, 'weight_range': [-1, 2], 'scm_method': 'linear', 'sample_size': 100, 'seed': None, 'node_names': None, 'noise_scale': 1, 'distribution_type': 'gauss'}\n",
      "Warning: n_edges is not exact due to gcastle implementation\n",
      "Duration of algorithm was 0.02sec\n",
      "Running experiment with parameters: {'n_nodes': 5, 'n_edges': 21, 'dag_method': 'scale_free', 'n_clusters': 5, 'weight_range': [-1, 2], 'scm_method': 'linear', 'sample_size': 100, 'seed': None, 'node_names': None, 'noise_scale': 1, 'distribution_type': 'exp'}\n",
      "Warning: n_edges is not exact due to gcastle implementation\n"
     ]
    },
    {
     "name": "stderr",
     "output_type": "stream",
     "text": [
      "2023-08-02 14:01:33,540 - c:\\Users\\JanMarco\\MLProjects\\Masterthesis\\masterthesis\\mthesis\\lib\\site-packages\\castle\\datasets\\simulator.py[line:270] - INFO: Finished synthetic dataset\n"
     ]
    },
    {
     "name": "stdout",
     "output_type": "stream",
     "text": [
      "Duration of algorithm was 0.07sec\n",
      "Running experiment with parameters: {'n_nodes': 5, 'n_edges': 21, 'dag_method': 'scale_free', 'n_clusters': 5, 'weight_range': [-1, 2], 'scm_method': 'linear', 'sample_size': 100, 'seed': None, 'node_names': None, 'noise_scale': 1, 'distribution_type': 'gumbel'}\n",
      "Warning: n_edges is not exact due to gcastle implementation\n",
      "Duration of algorithm was 0.01sec\n"
     ]
    },
    {
     "name": "stderr",
     "output_type": "stream",
     "text": [
      "2023-08-02 14:01:33,666 - c:\\Users\\JanMarco\\MLProjects\\Masterthesis\\masterthesis\\mthesis\\lib\\site-packages\\castle\\datasets\\simulator.py[line:270] - INFO: Finished synthetic dataset\n",
      "2023-08-02 14:01:33,814 - c:\\Users\\JanMarco\\MLProjects\\Masterthesis\\masterthesis\\mthesis\\lib\\site-packages\\castle\\datasets\\simulator.py[line:270] - INFO: Finished synthetic dataset\n"
     ]
    },
    {
     "name": "stdout",
     "output_type": "stream",
     "text": [
      "Running experiment with parameters: {'n_nodes': 5, 'n_edges': 21, 'dag_method': 'hierarchical', 'n_clusters': 3, 'weight_range': [-1, 2], 'scm_method': 'linear', 'sample_size': 100, 'seed': None, 'node_names': None, 'noise_scale': 1, 'distribution_type': 'gauss'}\n",
      "Warning: n_edges is not exact due to gcastle implementation\n",
      "Duration of algorithm was 0.04sec\n",
      "Running experiment with parameters: {'n_nodes': 5, 'n_edges': 21, 'dag_method': 'hierarchical', 'n_clusters': 3, 'weight_range': [-1, 2], 'scm_method': 'linear', 'sample_size': 100, 'seed': None, 'node_names': None, 'noise_scale': 1, 'distribution_type': 'exp'}\n",
      "Warning: n_edges is not exact due to gcastle implementation\n"
     ]
    },
    {
     "name": "stderr",
     "output_type": "stream",
     "text": [
      "2023-08-02 14:01:33,951 - c:\\Users\\JanMarco\\MLProjects\\Masterthesis\\masterthesis\\mthesis\\lib\\site-packages\\castle\\datasets\\simulator.py[line:270] - INFO: Finished synthetic dataset\n",
      "2023-08-02 14:01:34,051 - c:\\Users\\JanMarco\\MLProjects\\Masterthesis\\masterthesis\\mthesis\\lib\\site-packages\\castle\\datasets\\simulator.py[line:270] - INFO: Finished synthetic dataset\n"
     ]
    },
    {
     "name": "stdout",
     "output_type": "stream",
     "text": [
      "Duration of algorithm was 0.06sec\n",
      "Running experiment with parameters: {'n_nodes': 5, 'n_edges': 21, 'dag_method': 'hierarchical', 'n_clusters': 3, 'weight_range': [-1, 2], 'scm_method': 'linear', 'sample_size': 100, 'seed': None, 'node_names': None, 'noise_scale': 1, 'distribution_type': 'gumbel'}\n",
      "Warning: n_edges is not exact due to gcastle implementation\n",
      "Duration of algorithm was 0.04sec\n",
      "Running experiment with parameters: {'n_nodes': 5, 'n_edges': 21, 'dag_method': 'hierarchical', 'n_clusters': 5, 'weight_range': [-1, 2], 'scm_method': 'linear', 'sample_size': 100, 'seed': None, 'node_names': None, 'noise_scale': 1, 'distribution_type': 'gauss'}\n",
      "Warning: n_edges is not exact due to gcastle implementation\n",
      "Duration of algorithm was 0.02sec\n"
     ]
    },
    {
     "name": "stderr",
     "output_type": "stream",
     "text": [
      "2023-08-02 14:01:34,123 - c:\\Users\\JanMarco\\MLProjects\\Masterthesis\\masterthesis\\mthesis\\lib\\site-packages\\castle\\datasets\\simulator.py[line:270] - INFO: Finished synthetic dataset\n",
      "2023-08-02 14:01:34,197 - c:\\Users\\JanMarco\\MLProjects\\Masterthesis\\masterthesis\\mthesis\\lib\\site-packages\\castle\\datasets\\simulator.py[line:270] - INFO: Finished synthetic dataset\n",
      "2023-08-02 14:01:34,247 - c:\\Users\\JanMarco\\MLProjects\\Masterthesis\\masterthesis\\mthesis\\lib\\site-packages\\castle\\datasets\\simulator.py[line:270] - INFO: Finished synthetic dataset\n"
     ]
    },
    {
     "name": "stdout",
     "output_type": "stream",
     "text": [
      "Running experiment with parameters: {'n_nodes': 5, 'n_edges': 21, 'dag_method': 'hierarchical', 'n_clusters': 5, 'weight_range': [-1, 2], 'scm_method': 'linear', 'sample_size': 100, 'seed': None, 'node_names': None, 'noise_scale': 1, 'distribution_type': 'exp'}\n",
      "Warning: n_edges is not exact due to gcastle implementation\n",
      "Duration of algorithm was 0.02sec\n",
      "Running experiment with parameters: {'n_nodes': 5, 'n_edges': 21, 'dag_method': 'hierarchical', 'n_clusters': 5, 'weight_range': [-1, 2], 'scm_method': 'linear', 'sample_size': 100, 'seed': None, 'node_names': None, 'noise_scale': 1, 'distribution_type': 'gumbel'}\n",
      "Warning: n_edges is not exact due to gcastle implementation\n",
      "Duration of algorithm was 0.01sec\n",
      "Running experiment with parameters: {'n_nodes': 10, 'n_edges': 14, 'dag_method': 'erdos_renyi', 'n_clusters': 3, 'weight_range': [-1, 2], 'scm_method': 'linear', 'sample_size': 100, 'seed': None, 'node_names': None, 'noise_scale': 1, 'distribution_type': 'gauss'}\n",
      "Warning: n_edges is not exact due to gcastle implementation\n",
      "Duration of algorithm was 0.08sec\n"
     ]
    },
    {
     "name": "stderr",
     "output_type": "stream",
     "text": [
      "2023-08-02 14:01:34,443 - c:\\Users\\JanMarco\\MLProjects\\Masterthesis\\masterthesis\\mthesis\\lib\\site-packages\\castle\\datasets\\simulator.py[line:270] - INFO: Finished synthetic dataset\n"
     ]
    },
    {
     "name": "stdout",
     "output_type": "stream",
     "text": [
      "Running experiment with parameters: {'n_nodes': 10, 'n_edges': 14, 'dag_method': 'erdos_renyi', 'n_clusters': 3, 'weight_range': [-1, 2], 'scm_method': 'linear', 'sample_size': 100, 'seed': None, 'node_names': None, 'noise_scale': 1, 'distribution_type': 'exp'}\n",
      "Warning: n_edges is not exact due to gcastle implementation\n",
      "Duration of algorithm was 0.18sec\n"
     ]
    },
    {
     "name": "stderr",
     "output_type": "stream",
     "text": [
      "2023-08-02 14:01:34,769 - c:\\Users\\JanMarco\\MLProjects\\Masterthesis\\masterthesis\\mthesis\\lib\\site-packages\\castle\\datasets\\simulator.py[line:270] - INFO: Finished synthetic dataset\n"
     ]
    },
    {
     "name": "stdout",
     "output_type": "stream",
     "text": [
      "Running experiment with parameters: {'n_nodes': 10, 'n_edges': 14, 'dag_method': 'erdos_renyi', 'n_clusters': 3, 'weight_range': [-1, 2], 'scm_method': 'linear', 'sample_size': 100, 'seed': None, 'node_names': None, 'noise_scale': 1, 'distribution_type': 'gumbel'}\n",
      "Warning: n_edges is not exact due to gcastle implementation\n",
      "Duration of algorithm was 0.09sec\n"
     ]
    },
    {
     "name": "stderr",
     "output_type": "stream",
     "text": [
      "2023-08-02 14:01:34,996 - c:\\Users\\JanMarco\\MLProjects\\Masterthesis\\masterthesis\\mthesis\\lib\\site-packages\\castle\\datasets\\simulator.py[line:270] - INFO: Finished synthetic dataset\n",
      "2023-08-02 14:01:35,184 - c:\\Users\\JanMarco\\MLProjects\\Masterthesis\\masterthesis\\mthesis\\lib\\site-packages\\castle\\datasets\\simulator.py[line:270] - INFO: Finished synthetic dataset\n"
     ]
    },
    {
     "name": "stdout",
     "output_type": "stream",
     "text": [
      "Running experiment with parameters: {'n_nodes': 10, 'n_edges': 14, 'dag_method': 'erdos_renyi', 'n_clusters': 5, 'weight_range': [-1, 2], 'scm_method': 'linear', 'sample_size': 100, 'seed': None, 'node_names': None, 'noise_scale': 1, 'distribution_type': 'gauss'}\n",
      "Warning: n_edges is not exact due to gcastle implementation\n",
      "Duration of algorithm was 0.07sec\n",
      "Running experiment with parameters: {'n_nodes': 10, 'n_edges': 14, 'dag_method': 'erdos_renyi', 'n_clusters': 5, 'weight_range': [-1, 2], 'scm_method': 'linear', 'sample_size': 100, 'seed': None, 'node_names': None, 'noise_scale': 1, 'distribution_type': 'exp'}\n",
      "Warning: n_edges is not exact due to gcastle implementation\n"
     ]
    },
    {
     "name": "stderr",
     "output_type": "stream",
     "text": [
      "2023-08-02 14:01:35,432 - c:\\Users\\JanMarco\\MLProjects\\Masterthesis\\masterthesis\\mthesis\\lib\\site-packages\\castle\\datasets\\simulator.py[line:270] - INFO: Finished synthetic dataset\n"
     ]
    },
    {
     "name": "stdout",
     "output_type": "stream",
     "text": [
      "Duration of algorithm was 0.07sec\n",
      "Running experiment with parameters: {'n_nodes': 10, 'n_edges': 14, 'dag_method': 'erdos_renyi', 'n_clusters': 5, 'weight_range': [-1, 2], 'scm_method': 'linear', 'sample_size': 100, 'seed': None, 'node_names': None, 'noise_scale': 1, 'distribution_type': 'gumbel'}\n",
      "Warning: n_edges is not exact due to gcastle implementation\n"
     ]
    },
    {
     "name": "stderr",
     "output_type": "stream",
     "text": [
      "2023-08-02 14:01:35,669 - c:\\Users\\JanMarco\\MLProjects\\Masterthesis\\masterthesis\\mthesis\\lib\\site-packages\\castle\\datasets\\simulator.py[line:270] - INFO: Finished synthetic dataset\n"
     ]
    },
    {
     "name": "stdout",
     "output_type": "stream",
     "text": [
      "Duration of algorithm was 0.08sec\n",
      "Running experiment with parameters: {'n_nodes': 10, 'n_edges': 14, 'dag_method': 'scale_free', 'n_clusters': 3, 'weight_range': [-1, 2], 'scm_method': 'linear', 'sample_size': 100, 'seed': None, 'node_names': None, 'noise_scale': 1, 'distribution_type': 'gauss'}\n",
      "Warning: n_edges is not exact due to gcastle implementation\n"
     ]
    },
    {
     "name": "stderr",
     "output_type": "stream",
     "text": [
      "2023-08-02 14:01:35,907 - c:\\Users\\JanMarco\\MLProjects\\Masterthesis\\masterthesis\\mthesis\\lib\\site-packages\\castle\\datasets\\simulator.py[line:270] - INFO: Finished synthetic dataset\n"
     ]
    },
    {
     "name": "stdout",
     "output_type": "stream",
     "text": [
      "Duration of algorithm was 0.08sec\n",
      "Running experiment with parameters: {'n_nodes': 10, 'n_edges': 14, 'dag_method': 'scale_free', 'n_clusters': 3, 'weight_range': [-1, 2], 'scm_method': 'linear', 'sample_size': 100, 'seed': None, 'node_names': None, 'noise_scale': 1, 'distribution_type': 'exp'}\n",
      "Warning: n_edges is not exact due to gcastle implementation\n",
      "Duration of algorithm was 0.08sec\n"
     ]
    },
    {
     "name": "stderr",
     "output_type": "stream",
     "text": [
      "2023-08-02 14:01:36,194 - c:\\Users\\JanMarco\\MLProjects\\Masterthesis\\masterthesis\\mthesis\\lib\\site-packages\\castle\\datasets\\simulator.py[line:270] - INFO: Finished synthetic dataset\n"
     ]
    },
    {
     "name": "stdout",
     "output_type": "stream",
     "text": [
      "Running experiment with parameters: {'n_nodes': 10, 'n_edges': 14, 'dag_method': 'scale_free', 'n_clusters': 3, 'weight_range': [-1, 2], 'scm_method': 'linear', 'sample_size': 100, 'seed': None, 'node_names': None, 'noise_scale': 1, 'distribution_type': 'gumbel'}\n",
      "Warning: n_edges is not exact due to gcastle implementation\n"
     ]
    },
    {
     "name": "stderr",
     "output_type": "stream",
     "text": [
      "2023-08-02 14:01:36,574 - c:\\Users\\JanMarco\\MLProjects\\Masterthesis\\masterthesis\\mthesis\\lib\\site-packages\\castle\\datasets\\simulator.py[line:270] - INFO: Finished synthetic dataset\n"
     ]
    },
    {
     "name": "stdout",
     "output_type": "stream",
     "text": [
      "Duration of algorithm was 0.19sec\n",
      "Running experiment with parameters: {'n_nodes': 10, 'n_edges': 14, 'dag_method': 'scale_free', 'n_clusters': 5, 'weight_range': [-1, 2], 'scm_method': 'linear', 'sample_size': 100, 'seed': None, 'node_names': None, 'noise_scale': 1, 'distribution_type': 'gauss'}\n",
      "Warning: n_edges is not exact due to gcastle implementation\n"
     ]
    },
    {
     "name": "stderr",
     "output_type": "stream",
     "text": [
      "2023-08-02 14:01:36,776 - c:\\Users\\JanMarco\\MLProjects\\Masterthesis\\masterthesis\\mthesis\\lib\\site-packages\\castle\\datasets\\simulator.py[line:270] - INFO: Finished synthetic dataset\n"
     ]
    },
    {
     "name": "stdout",
     "output_type": "stream",
     "text": [
      "Duration of algorithm was 0.07sec\n",
      "Running experiment with parameters: {'n_nodes': 10, 'n_edges': 14, 'dag_method': 'scale_free', 'n_clusters': 5, 'weight_range': [-1, 2], 'scm_method': 'linear', 'sample_size': 100, 'seed': None, 'node_names': None, 'noise_scale': 1, 'distribution_type': 'exp'}\n",
      "Warning: n_edges is not exact due to gcastle implementation\n",
      "Duration of algorithm was 0.05sec\n"
     ]
    },
    {
     "name": "stderr",
     "output_type": "stream",
     "text": [
      "2023-08-02 14:01:36,945 - c:\\Users\\JanMarco\\MLProjects\\Masterthesis\\masterthesis\\mthesis\\lib\\site-packages\\castle\\datasets\\simulator.py[line:270] - INFO: Finished synthetic dataset\n",
      "2023-08-02 14:01:37,087 - c:\\Users\\JanMarco\\MLProjects\\Masterthesis\\masterthesis\\mthesis\\lib\\site-packages\\castle\\datasets\\simulator.py[line:270] - INFO: Finished synthetic dataset\n"
     ]
    },
    {
     "name": "stdout",
     "output_type": "stream",
     "text": [
      "Running experiment with parameters: {'n_nodes': 10, 'n_edges': 14, 'dag_method': 'scale_free', 'n_clusters': 5, 'weight_range': [-1, 2], 'scm_method': 'linear', 'sample_size': 100, 'seed': None, 'node_names': None, 'noise_scale': 1, 'distribution_type': 'gumbel'}\n",
      "Warning: n_edges is not exact due to gcastle implementation\n",
      "Duration of algorithm was 0.06sec\n",
      "Running experiment with parameters: {'n_nodes': 10, 'n_edges': 14, 'dag_method': 'hierarchical', 'n_clusters': 3, 'weight_range': [-1, 2], 'scm_method': 'linear', 'sample_size': 100, 'seed': None, 'node_names': None, 'noise_scale': 1, 'distribution_type': 'gauss'}\n",
      "Warning: n_edges is not exact due to gcastle implementation\n"
     ]
    },
    {
     "name": "stderr",
     "output_type": "stream",
     "text": [
      "2023-08-02 14:01:37,329 - c:\\Users\\JanMarco\\MLProjects\\Masterthesis\\masterthesis\\mthesis\\lib\\site-packages\\castle\\datasets\\simulator.py[line:270] - INFO: Finished synthetic dataset\n"
     ]
    },
    {
     "name": "stdout",
     "output_type": "stream",
     "text": [
      "Duration of algorithm was 0.09sec\n",
      "Running experiment with parameters: {'n_nodes': 10, 'n_edges': 14, 'dag_method': 'hierarchical', 'n_clusters': 3, 'weight_range': [-1, 2], 'scm_method': 'linear', 'sample_size': 100, 'seed': None, 'node_names': None, 'noise_scale': 1, 'distribution_type': 'exp'}\n",
      "Warning: n_edges is not exact due to gcastle implementation\n"
     ]
    },
    {
     "name": "stderr",
     "output_type": "stream",
     "text": [
      "2023-08-02 14:01:37,597 - c:\\Users\\JanMarco\\MLProjects\\Masterthesis\\masterthesis\\mthesis\\lib\\site-packages\\castle\\datasets\\simulator.py[line:270] - INFO: Finished synthetic dataset\n"
     ]
    },
    {
     "name": "stdout",
     "output_type": "stream",
     "text": [
      "Duration of algorithm was 0.11sec\n",
      "Running experiment with parameters: {'n_nodes': 10, 'n_edges': 14, 'dag_method': 'hierarchical', 'n_clusters': 3, 'weight_range': [-1, 2], 'scm_method': 'linear', 'sample_size': 100, 'seed': None, 'node_names': None, 'noise_scale': 1, 'distribution_type': 'gumbel'}\n",
      "Warning: n_edges is not exact due to gcastle implementation\n"
     ]
    },
    {
     "name": "stderr",
     "output_type": "stream",
     "text": [
      "2023-08-02 14:01:37,880 - c:\\Users\\JanMarco\\MLProjects\\Masterthesis\\masterthesis\\mthesis\\lib\\site-packages\\castle\\datasets\\simulator.py[line:270] - INFO: Finished synthetic dataset\n"
     ]
    },
    {
     "name": "stdout",
     "output_type": "stream",
     "text": [
      "Duration of algorithm was 0.11sec\n",
      "Running experiment with parameters: {'n_nodes': 10, 'n_edges': 14, 'dag_method': 'hierarchical', 'n_clusters': 5, 'weight_range': [-1, 2], 'scm_method': 'linear', 'sample_size': 100, 'seed': None, 'node_names': None, 'noise_scale': 1, 'distribution_type': 'gauss'}\n",
      "Warning: n_edges is not exact due to gcastle implementation\n",
      "Duration of algorithm was 0.25sec\n",
      "Running experiment with parameters: {'n_nodes': 10, 'n_edges': 14, 'dag_method': 'hierarchical', 'n_clusters': 5, 'weight_range': [-1, 2], 'scm_method': 'linear', 'sample_size': 100, 'seed': None, 'node_names': None, 'noise_scale': 1, 'distribution_type': 'exp'}\n",
      "Warning: n_edges is not exact due to gcastle implementation\n"
     ]
    },
    {
     "name": "stderr",
     "output_type": "stream",
     "text": [
      "2023-08-02 14:01:38,338 - c:\\Users\\JanMarco\\MLProjects\\Masterthesis\\masterthesis\\mthesis\\lib\\site-packages\\castle\\datasets\\simulator.py[line:270] - INFO: Finished synthetic dataset\n",
      "2023-08-02 14:01:39,054 - c:\\Users\\JanMarco\\MLProjects\\Masterthesis\\masterthesis\\mthesis\\lib\\site-packages\\castle\\datasets\\simulator.py[line:270] - INFO: Finished synthetic dataset\n"
     ]
    },
    {
     "name": "stdout",
     "output_type": "stream",
     "text": [
      "Duration of algorithm was 0.48sec\n",
      "Running experiment with parameters: {'n_nodes': 10, 'n_edges': 14, 'dag_method': 'hierarchical', 'n_clusters': 5, 'weight_range': [-1, 2], 'scm_method': 'linear', 'sample_size': 100, 'seed': None, 'node_names': None, 'noise_scale': 1, 'distribution_type': 'gumbel'}\n",
      "Warning: n_edges is not exact due to gcastle implementation\n"
     ]
    },
    {
     "name": "stderr",
     "output_type": "stream",
     "text": [
      "2023-08-02 14:01:39,357 - c:\\Users\\JanMarco\\MLProjects\\Masterthesis\\masterthesis\\mthesis\\lib\\site-packages\\castle\\datasets\\simulator.py[line:270] - INFO: Finished synthetic dataset\n"
     ]
    },
    {
     "name": "stdout",
     "output_type": "stream",
     "text": [
      "Duration of algorithm was 0.13sec\n",
      "Running experiment with parameters: {'n_nodes': 10, 'n_edges': 21, 'dag_method': 'erdos_renyi', 'n_clusters': 3, 'weight_range': [-1, 2], 'scm_method': 'linear', 'sample_size': 100, 'seed': None, 'node_names': None, 'noise_scale': 1, 'distribution_type': 'gauss'}\n",
      "Warning: n_edges is not exact due to gcastle implementation\n"
     ]
    },
    {
     "name": "stderr",
     "output_type": "stream",
     "text": [
      "2023-08-02 14:01:39,612 - c:\\Users\\JanMarco\\MLProjects\\Masterthesis\\masterthesis\\mthesis\\lib\\site-packages\\castle\\datasets\\simulator.py[line:270] - INFO: Finished synthetic dataset\n"
     ]
    },
    {
     "name": "stdout",
     "output_type": "stream",
     "text": [
      "Duration of algorithm was 0.12sec\n",
      "Running experiment with parameters: {'n_nodes': 10, 'n_edges': 21, 'dag_method': 'erdos_renyi', 'n_clusters': 3, 'weight_range': [-1, 2], 'scm_method': 'linear', 'sample_size': 100, 'seed': None, 'node_names': None, 'noise_scale': 1, 'distribution_type': 'exp'}\n",
      "Warning: n_edges is not exact due to gcastle implementation\n",
      "Duration of algorithm was 0.07sec\n"
     ]
    },
    {
     "name": "stderr",
     "output_type": "stream",
     "text": [
      "2023-08-02 14:01:39,764 - c:\\Users\\JanMarco\\MLProjects\\Masterthesis\\masterthesis\\mthesis\\lib\\site-packages\\castle\\datasets\\simulator.py[line:270] - INFO: Finished synthetic dataset\n"
     ]
    },
    {
     "name": "stdout",
     "output_type": "stream",
     "text": [
      "Running experiment with parameters: {'n_nodes': 10, 'n_edges': 21, 'dag_method': 'erdos_renyi', 'n_clusters': 3, 'weight_range': [-1, 2], 'scm_method': 'linear', 'sample_size': 100, 'seed': None, 'node_names': None, 'noise_scale': 1, 'distribution_type': 'gumbel'}\n",
      "Warning: n_edges is not exact due to gcastle implementation\n",
      "Duration of algorithm was 0.10sec\n"
     ]
    },
    {
     "name": "stderr",
     "output_type": "stream",
     "text": [
      "2023-08-02 14:01:40,018 - c:\\Users\\JanMarco\\MLProjects\\Masterthesis\\masterthesis\\mthesis\\lib\\site-packages\\castle\\datasets\\simulator.py[line:270] - INFO: Finished synthetic dataset\n",
      "2023-08-02 14:01:40,206 - c:\\Users\\JanMarco\\MLProjects\\Masterthesis\\masterthesis\\mthesis\\lib\\site-packages\\castle\\datasets\\simulator.py[line:270] - INFO: Finished synthetic dataset\n"
     ]
    },
    {
     "name": "stdout",
     "output_type": "stream",
     "text": [
      "Running experiment with parameters: {'n_nodes': 10, 'n_edges': 21, 'dag_method': 'erdos_renyi', 'n_clusters': 5, 'weight_range': [-1, 2], 'scm_method': 'linear', 'sample_size': 100, 'seed': None, 'node_names': None, 'noise_scale': 1, 'distribution_type': 'gauss'}\n",
      "Warning: n_edges is not exact due to gcastle implementation\n",
      "Duration of algorithm was 0.08sec\n",
      "Running experiment with parameters: {'n_nodes': 10, 'n_edges': 21, 'dag_method': 'erdos_renyi', 'n_clusters': 5, 'weight_range': [-1, 2], 'scm_method': 'linear', 'sample_size': 100, 'seed': None, 'node_names': None, 'noise_scale': 1, 'distribution_type': 'exp'}\n",
      "Warning: n_edges is not exact due to gcastle implementation\n"
     ]
    },
    {
     "name": "stderr",
     "output_type": "stream",
     "text": [
      "2023-08-02 14:01:40,431 - c:\\Users\\JanMarco\\MLProjects\\Masterthesis\\masterthesis\\mthesis\\lib\\site-packages\\castle\\datasets\\simulator.py[line:270] - INFO: Finished synthetic dataset\n"
     ]
    },
    {
     "name": "stdout",
     "output_type": "stream",
     "text": [
      "Duration of algorithm was 0.09sec\n",
      "Running experiment with parameters: {'n_nodes': 10, 'n_edges': 21, 'dag_method': 'erdos_renyi', 'n_clusters': 5, 'weight_range': [-1, 2], 'scm_method': 'linear', 'sample_size': 100, 'seed': None, 'node_names': None, 'noise_scale': 1, 'distribution_type': 'gumbel'}\n",
      "Warning: n_edges is not exact due to gcastle implementation\n",
      "Duration of algorithm was 0.07sec\n"
     ]
    },
    {
     "name": "stderr",
     "output_type": "stream",
     "text": [
      "2023-08-02 14:01:40,616 - c:\\Users\\JanMarco\\MLProjects\\Masterthesis\\masterthesis\\mthesis\\lib\\site-packages\\castle\\datasets\\simulator.py[line:270] - INFO: Finished synthetic dataset\n"
     ]
    },
    {
     "name": "stdout",
     "output_type": "stream",
     "text": [
      "Running experiment with parameters: {'n_nodes': 10, 'n_edges': 21, 'dag_method': 'scale_free', 'n_clusters': 3, 'weight_range': [-1, 2], 'scm_method': 'linear', 'sample_size': 100, 'seed': None, 'node_names': None, 'noise_scale': 1, 'distribution_type': 'gauss'}\n",
      "Warning: n_edges is not exact due to gcastle implementation\n",
      "Duration of algorithm was 0.10sec\n"
     ]
    },
    {
     "name": "stderr",
     "output_type": "stream",
     "text": [
      "2023-08-02 14:01:40,865 - c:\\Users\\JanMarco\\MLProjects\\Masterthesis\\masterthesis\\mthesis\\lib\\site-packages\\castle\\datasets\\simulator.py[line:270] - INFO: Finished synthetic dataset\n"
     ]
    },
    {
     "name": "stdout",
     "output_type": "stream",
     "text": [
      "Running experiment with parameters: {'n_nodes': 10, 'n_edges': 21, 'dag_method': 'scale_free', 'n_clusters': 3, 'weight_range': [-1, 2], 'scm_method': 'linear', 'sample_size': 100, 'seed': None, 'node_names': None, 'noise_scale': 1, 'distribution_type': 'exp'}\n",
      "Warning: n_edges is not exact due to gcastle implementation\n",
      "Duration of algorithm was 0.13sec\n"
     ]
    },
    {
     "name": "stderr",
     "output_type": "stream",
     "text": [
      "2023-08-02 14:01:41,140 - c:\\Users\\JanMarco\\MLProjects\\Masterthesis\\masterthesis\\mthesis\\lib\\site-packages\\castle\\datasets\\simulator.py[line:270] - INFO: Finished synthetic dataset\n",
      "2023-08-02 14:01:41,324 - c:\\Users\\JanMarco\\MLProjects\\Masterthesis\\masterthesis\\mthesis\\lib\\site-packages\\castle\\datasets\\simulator.py[line:270] - INFO: Finished synthetic dataset\n"
     ]
    },
    {
     "name": "stdout",
     "output_type": "stream",
     "text": [
      "Running experiment with parameters: {'n_nodes': 10, 'n_edges': 21, 'dag_method': 'scale_free', 'n_clusters': 3, 'weight_range': [-1, 2], 'scm_method': 'linear', 'sample_size': 100, 'seed': None, 'node_names': None, 'noise_scale': 1, 'distribution_type': 'gumbel'}\n",
      "Warning: n_edges is not exact due to gcastle implementation\n",
      "Duration of algorithm was 0.08sec\n",
      "Running experiment with parameters: {'n_nodes': 10, 'n_edges': 21, 'dag_method': 'scale_free', 'n_clusters': 5, 'weight_range': [-1, 2], 'scm_method': 'linear', 'sample_size': 100, 'seed': None, 'node_names': None, 'noise_scale': 1, 'distribution_type': 'gauss'}\n",
      "Warning: n_edges is not exact due to gcastle implementation\n"
     ]
    },
    {
     "name": "stderr",
     "output_type": "stream",
     "text": [
      "2023-08-02 14:01:41,472 - c:\\Users\\JanMarco\\MLProjects\\Masterthesis\\masterthesis\\mthesis\\lib\\site-packages\\castle\\datasets\\simulator.py[line:270] - INFO: Finished synthetic dataset\n"
     ]
    },
    {
     "name": "stdout",
     "output_type": "stream",
     "text": [
      "Duration of algorithm was 0.06sec\n",
      "Running experiment with parameters: {'n_nodes': 10, 'n_edges': 21, 'dag_method': 'scale_free', 'n_clusters': 5, 'weight_range': [-1, 2], 'scm_method': 'linear', 'sample_size': 100, 'seed': None, 'node_names': None, 'noise_scale': 1, 'distribution_type': 'exp'}\n",
      "Warning: n_edges is not exact due to gcastle implementation\n",
      "Duration of algorithm was 0.09sec\n"
     ]
    },
    {
     "name": "stderr",
     "output_type": "stream",
     "text": [
      "2023-08-02 14:01:41,722 - c:\\Users\\JanMarco\\MLProjects\\Masterthesis\\masterthesis\\mthesis\\lib\\site-packages\\castle\\datasets\\simulator.py[line:270] - INFO: Finished synthetic dataset\n",
      "2023-08-02 14:01:41,893 - c:\\Users\\JanMarco\\MLProjects\\Masterthesis\\masterthesis\\mthesis\\lib\\site-packages\\castle\\datasets\\simulator.py[line:270] - INFO: Finished synthetic dataset\n"
     ]
    },
    {
     "name": "stdout",
     "output_type": "stream",
     "text": [
      "Running experiment with parameters: {'n_nodes': 10, 'n_edges': 21, 'dag_method': 'scale_free', 'n_clusters': 5, 'weight_range': [-1, 2], 'scm_method': 'linear', 'sample_size': 100, 'seed': None, 'node_names': None, 'noise_scale': 1, 'distribution_type': 'gumbel'}\n",
      "Warning: n_edges is not exact due to gcastle implementation\n",
      "Duration of algorithm was 0.08sec\n",
      "Running experiment with parameters: {'n_nodes': 10, 'n_edges': 21, 'dag_method': 'hierarchical', 'n_clusters': 3, 'weight_range': [-1, 2], 'scm_method': 'linear', 'sample_size': 100, 'seed': None, 'node_names': None, 'noise_scale': 1, 'distribution_type': 'gauss'}\n",
      "Warning: n_edges is not exact due to gcastle implementation\n"
     ]
    },
    {
     "name": "stderr",
     "output_type": "stream",
     "text": [
      "2023-08-02 14:01:42,179 - c:\\Users\\JanMarco\\MLProjects\\Masterthesis\\masterthesis\\mthesis\\lib\\site-packages\\castle\\datasets\\simulator.py[line:270] - INFO: Finished synthetic dataset\n"
     ]
    },
    {
     "name": "stdout",
     "output_type": "stream",
     "text": [
      "Duration of algorithm was 0.14sec\n",
      "Running experiment with parameters: {'n_nodes': 10, 'n_edges': 21, 'dag_method': 'hierarchical', 'n_clusters': 3, 'weight_range': [-1, 2], 'scm_method': 'linear', 'sample_size': 100, 'seed': None, 'node_names': None, 'noise_scale': 1, 'distribution_type': 'exp'}\n",
      "Warning: n_edges is not exact due to gcastle implementation\n"
     ]
    },
    {
     "name": "stderr",
     "output_type": "stream",
     "text": [
      "2023-08-02 14:01:42,460 - c:\\Users\\JanMarco\\MLProjects\\Masterthesis\\masterthesis\\mthesis\\lib\\site-packages\\castle\\datasets\\simulator.py[line:270] - INFO: Finished synthetic dataset\n"
     ]
    },
    {
     "name": "stdout",
     "output_type": "stream",
     "text": [
      "Duration of algorithm was 0.13sec\n",
      "Running experiment with parameters: {'n_nodes': 10, 'n_edges': 21, 'dag_method': 'hierarchical', 'n_clusters': 3, 'weight_range': [-1, 2], 'scm_method': 'linear', 'sample_size': 100, 'seed': None, 'node_names': None, 'noise_scale': 1, 'distribution_type': 'gumbel'}\n",
      "Warning: n_edges is not exact due to gcastle implementation\n"
     ]
    },
    {
     "name": "stderr",
     "output_type": "stream",
     "text": [
      "2023-08-02 14:01:42,730 - c:\\Users\\JanMarco\\MLProjects\\Masterthesis\\masterthesis\\mthesis\\lib\\site-packages\\castle\\datasets\\simulator.py[line:270] - INFO: Finished synthetic dataset\n"
     ]
    },
    {
     "name": "stdout",
     "output_type": "stream",
     "text": [
      "Duration of algorithm was 0.13sec\n",
      "Running experiment with parameters: {'n_nodes': 10, 'n_edges': 21, 'dag_method': 'hierarchical', 'n_clusters': 5, 'weight_range': [-1, 2], 'scm_method': 'linear', 'sample_size': 100, 'seed': None, 'node_names': None, 'noise_scale': 1, 'distribution_type': 'gauss'}\n",
      "Warning: n_edges is not exact due to gcastle implementation\n"
     ]
    },
    {
     "name": "stderr",
     "output_type": "stream",
     "text": [
      "2023-08-02 14:01:42,997 - c:\\Users\\JanMarco\\MLProjects\\Masterthesis\\masterthesis\\mthesis\\lib\\site-packages\\castle\\datasets\\simulator.py[line:270] - INFO: Finished synthetic dataset\n"
     ]
    },
    {
     "name": "stdout",
     "output_type": "stream",
     "text": [
      "Duration of algorithm was 0.13sec\n",
      "Running experiment with parameters: {'n_nodes': 10, 'n_edges': 21, 'dag_method': 'hierarchical', 'n_clusters': 5, 'weight_range': [-1, 2], 'scm_method': 'linear', 'sample_size': 100, 'seed': None, 'node_names': None, 'noise_scale': 1, 'distribution_type': 'exp'}\n",
      "Warning: n_edges is not exact due to gcastle implementation\n",
      "Duration of algorithm was 0.11sec\n"
     ]
    },
    {
     "name": "stderr",
     "output_type": "stream",
     "text": [
      "2023-08-02 14:01:43,656 - c:\\Users\\JanMarco\\MLProjects\\Masterthesis\\masterthesis\\mthesis\\lib\\site-packages\\castle\\datasets\\simulator.py[line:270] - INFO: Finished synthetic dataset\n"
     ]
    },
    {
     "name": "stdout",
     "output_type": "stream",
     "text": [
      "Running experiment with parameters: {'n_nodes': 10, 'n_edges': 21, 'dag_method': 'hierarchical', 'n_clusters': 5, 'weight_range': [-1, 2], 'scm_method': 'linear', 'sample_size': 100, 'seed': None, 'node_names': None, 'noise_scale': 1, 'distribution_type': 'gumbel'}\n",
      "Warning: n_edges is not exact due to gcastle implementation\n"
     ]
    },
    {
     "name": "stderr",
     "output_type": "stream",
     "text": [
      "2023-08-02 14:01:44,030 - c:\\Users\\JanMarco\\MLProjects\\Masterthesis\\masterthesis\\mthesis\\lib\\site-packages\\castle\\datasets\\simulator.py[line:270] - INFO: Finished synthetic dataset\n"
     ]
    },
    {
     "name": "stdout",
     "output_type": "stream",
     "text": [
      "Duration of algorithm was 0.16sec\n",
      "Running experiment with parameters: {'n_nodes': 5, 'n_edges': 14, 'dag_method': 'erdos_renyi', 'n_clusters': 3, 'weight_range': [-1, 2], 'scm_method': 'nonlinear', 'sample_size': 100, 'seed': None, 'node_names': None, 'noise_scale': 1, 'distribution_type': 'mlp'}\n",
      "Warning: n_edges is not exact due to gcastle implementation\n",
      "Duration of algorithm was 0.03sec\n"
     ]
    },
    {
     "name": "stderr",
     "output_type": "stream",
     "text": [
      "2023-08-02 14:01:44,109 - c:\\Users\\JanMarco\\MLProjects\\Masterthesis\\masterthesis\\mthesis\\lib\\site-packages\\castle\\datasets\\simulator.py[line:270] - INFO: Finished synthetic dataset\n",
      "2023-08-02 14:01:44,199 - c:\\Users\\JanMarco\\MLProjects\\Masterthesis\\masterthesis\\mthesis\\lib\\site-packages\\castle\\datasets\\simulator.py[line:270] - INFO: Finished synthetic dataset\n",
      "2023-08-02 14:01:44,245 - c:\\Users\\JanMarco\\MLProjects\\Masterthesis\\masterthesis\\mthesis\\lib\\site-packages\\castle\\datasets\\simulator.py[line:270] - INFO: Finished synthetic dataset\n",
      "2023-08-02 14:01:44,309 - c:\\Users\\JanMarco\\MLProjects\\Masterthesis\\masterthesis\\mthesis\\lib\\site-packages\\castle\\datasets\\simulator.py[line:270] - INFO: Finished synthetic dataset\n"
     ]
    },
    {
     "name": "stdout",
     "output_type": "stream",
     "text": [
      "Running experiment with parameters: {'n_nodes': 5, 'n_edges': 14, 'dag_method': 'erdos_renyi', 'n_clusters': 3, 'weight_range': [-1, 2], 'scm_method': 'nonlinear', 'sample_size': 100, 'seed': None, 'node_names': None, 'noise_scale': 1, 'distribution_type': 'mim'}\n",
      "Warning: n_edges is not exact due to gcastle implementation\n",
      "Duration of algorithm was 0.02sec\n",
      "Running experiment with parameters: {'n_nodes': 5, 'n_edges': 14, 'dag_method': 'erdos_renyi', 'n_clusters': 3, 'weight_range': [-1, 2], 'scm_method': 'nonlinear', 'sample_size': 100, 'seed': None, 'node_names': None, 'noise_scale': 1, 'distribution_type': 'gp'}\n",
      "Warning: n_edges is not exact due to gcastle implementation\n",
      "Duration of algorithm was 0.01sec\n",
      "Running experiment with parameters: {'n_nodes': 5, 'n_edges': 14, 'dag_method': 'erdos_renyi', 'n_clusters': 5, 'weight_range': [-1, 2], 'scm_method': 'nonlinear', 'sample_size': 100, 'seed': None, 'node_names': None, 'noise_scale': 1, 'distribution_type': 'mlp'}\n",
      "Warning: n_edges is not exact due to gcastle implementation\n",
      "Duration of algorithm was 0.03sec\n",
      "Running experiment with parameters: {'n_nodes': 5, 'n_edges': 14, 'dag_method': 'erdos_renyi', 'n_clusters': 5, 'weight_range': [-1, 2], 'scm_method': 'nonlinear', 'sample_size': 100, 'seed': None, 'node_names': None, 'noise_scale': 1, 'distribution_type': 'mim'}\n",
      "Warning: n_edges is not exact due to gcastle implementation\n"
     ]
    },
    {
     "name": "stderr",
     "output_type": "stream",
     "text": [
      "2023-08-02 14:01:44,389 - c:\\Users\\JanMarco\\MLProjects\\Masterthesis\\masterthesis\\mthesis\\lib\\site-packages\\castle\\datasets\\simulator.py[line:270] - INFO: Finished synthetic dataset\n",
      "2023-08-02 14:01:44,433 - c:\\Users\\JanMarco\\MLProjects\\Masterthesis\\masterthesis\\mthesis\\lib\\site-packages\\castle\\datasets\\simulator.py[line:270] - INFO: Finished synthetic dataset\n",
      "c:\\Users\\JanMarco\\MLProjects\\Masterthesis\\masterthesis\\mthesis\\lib\\site-packages\\causallearn\\graph\\ArrowConfusion.py:92: RuntimeWarning: invalid value encountered in double_scalars\n",
      "  return self.__arrowsTp / (self.__arrowsTp + self.__arrowsFp)\n",
      "c:\\Users\\JanMarco\\MLProjects\\Masterthesis\\masterthesis\\mthesis\\lib\\site-packages\\causallearn\\graph\\ArrowConfusion.py:98: RuntimeWarning: invalid value encountered in double_scalars\n",
      "  return self.__arrowsTpCE / (self.__arrowsTpCE + self.__arrowsFpCE)\n",
      "2023-08-02 14:01:44,473 - c:\\Users\\JanMarco\\MLProjects\\Masterthesis\\masterthesis\\mthesis\\lib\\site-packages\\castle\\datasets\\simulator.py[line:270] - INFO: Finished synthetic dataset\n"
     ]
    },
    {
     "name": "stdout",
     "output_type": "stream",
     "text": [
      "Duration of algorithm was 0.01sec\n",
      "Running experiment with parameters: {'n_nodes': 5, 'n_edges': 14, 'dag_method': 'erdos_renyi', 'n_clusters': 5, 'weight_range': [-1, 2], 'scm_method': 'nonlinear', 'sample_size': 100, 'seed': None, 'node_names': None, 'noise_scale': 1, 'distribution_type': 'gp'}\n",
      "Warning: n_edges is not exact due to gcastle implementation\n",
      "Duration of algorithm was 0.01sec\n",
      "Running experiment with parameters: {'n_nodes': 5, 'n_edges': 14, 'dag_method': 'scale_free', 'n_clusters': 3, 'weight_range': [-1, 2], 'scm_method': 'nonlinear', 'sample_size': 100, 'seed': None, 'node_names': None, 'noise_scale': 1, 'distribution_type': 'mlp'}\n",
      "Warning: n_edges is not exact due to gcastle implementation\n",
      "Duration of algorithm was 0.01sec\n",
      "Running experiment with parameters: {'n_nodes': 5, 'n_edges': 14, 'dag_method': 'scale_free', 'n_clusters': 3, 'weight_range': [-1, 2], 'scm_method': 'nonlinear', 'sample_size': 100, 'seed': None, 'node_names': None, 'noise_scale': 1, 'distribution_type': 'mim'}\n",
      "Warning: n_edges is not exact due to gcastle implementation\n",
      "Duration of algorithm was 0.01sec\n",
      "Running experiment with parameters: {'n_nodes': 5, 'n_edges': 14, 'dag_method': 'scale_free', 'n_clusters': 3, 'weight_range': [-1, 2], 'scm_method': 'nonlinear', 'sample_size': 100, 'seed': None, 'node_names': None, 'noise_scale': 1, 'distribution_type': 'gp'}\n",
      "Warning: n_edges is not exact due to gcastle implementation\n"
     ]
    },
    {
     "name": "stderr",
     "output_type": "stream",
     "text": [
      "2023-08-02 14:01:44,532 - c:\\Users\\JanMarco\\MLProjects\\Masterthesis\\masterthesis\\mthesis\\lib\\site-packages\\castle\\datasets\\simulator.py[line:270] - INFO: Finished synthetic dataset\n",
      "c:\\Users\\JanMarco\\MLProjects\\Masterthesis\\masterthesis\\mthesis\\lib\\site-packages\\causallearn\\graph\\ArrowConfusion.py:92: RuntimeWarning: invalid value encountered in double_scalars\n",
      "  return self.__arrowsTp / (self.__arrowsTp + self.__arrowsFp)\n",
      "c:\\Users\\JanMarco\\MLProjects\\Masterthesis\\masterthesis\\mthesis\\lib\\site-packages\\causallearn\\graph\\ArrowConfusion.py:98: RuntimeWarning: invalid value encountered in double_scalars\n",
      "  return self.__arrowsTpCE / (self.__arrowsTpCE + self.__arrowsFpCE)\n",
      "2023-08-02 14:01:44,564 - c:\\Users\\JanMarco\\MLProjects\\Masterthesis\\masterthesis\\mthesis\\lib\\site-packages\\castle\\datasets\\simulator.py[line:270] - INFO: Finished synthetic dataset\n",
      "2023-08-02 14:01:44,603 - c:\\Users\\JanMarco\\MLProjects\\Masterthesis\\masterthesis\\mthesis\\lib\\site-packages\\castle\\datasets\\simulator.py[line:270] - INFO: Finished synthetic dataset\n",
      "2023-08-02 14:01:44,675 - c:\\Users\\JanMarco\\MLProjects\\Masterthesis\\masterthesis\\mthesis\\lib\\site-packages\\castle\\datasets\\simulator.py[line:270] - INFO: Finished synthetic dataset\n",
      "2023-08-02 14:01:44,717 - c:\\Users\\JanMarco\\MLProjects\\Masterthesis\\masterthesis\\mthesis\\lib\\site-packages\\castle\\datasets\\simulator.py[line:270] - INFO: Finished synthetic dataset\n"
     ]
    },
    {
     "name": "stdout",
     "output_type": "stream",
     "text": [
      "Duration of algorithm was 0.01sec\n",
      "Running experiment with parameters: {'n_nodes': 5, 'n_edges': 14, 'dag_method': 'scale_free', 'n_clusters': 5, 'weight_range': [-1, 2], 'scm_method': 'nonlinear', 'sample_size': 100, 'seed': None, 'node_names': None, 'noise_scale': 1, 'distribution_type': 'mlp'}\n",
      "Warning: n_edges is not exact due to gcastle implementation\n",
      "Duration of algorithm was 0.01sec\n",
      "Running experiment with parameters: {'n_nodes': 5, 'n_edges': 14, 'dag_method': 'scale_free', 'n_clusters': 5, 'weight_range': [-1, 2], 'scm_method': 'nonlinear', 'sample_size': 100, 'seed': None, 'node_names': None, 'noise_scale': 1, 'distribution_type': 'mim'}\n",
      "Warning: n_edges is not exact due to gcastle implementation\n",
      "Duration of algorithm was 0.01sec\n",
      "Running experiment with parameters: {'n_nodes': 5, 'n_edges': 14, 'dag_method': 'scale_free', 'n_clusters': 5, 'weight_range': [-1, 2], 'scm_method': 'nonlinear', 'sample_size': 100, 'seed': None, 'node_names': None, 'noise_scale': 1, 'distribution_type': 'gp'}\n",
      "Warning: n_edges is not exact due to gcastle implementation\n",
      "Duration of algorithm was 0.01sec\n",
      "Running experiment with parameters: {'n_nodes': 5, 'n_edges': 14, 'dag_method': 'hierarchical', 'n_clusters': 3, 'weight_range': [-1, 2], 'scm_method': 'nonlinear', 'sample_size': 100, 'seed': None, 'node_names': None, 'noise_scale': 1, 'distribution_type': 'mlp'}\n",
      "Warning: n_edges is not exact due to gcastle implementation\n",
      "Duration of algorithm was 0.01sec\n"
     ]
    },
    {
     "name": "stderr",
     "output_type": "stream",
     "text": [
      "c:\\Users\\JanMarco\\MLProjects\\Masterthesis\\masterthesis\\mthesis\\lib\\site-packages\\causallearn\\graph\\ArrowConfusion.py:92: RuntimeWarning: invalid value encountered in double_scalars\n",
      "  return self.__arrowsTp / (self.__arrowsTp + self.__arrowsFp)\n",
      "c:\\Users\\JanMarco\\MLProjects\\Masterthesis\\masterthesis\\mthesis\\lib\\site-packages\\causallearn\\graph\\ArrowConfusion.py:98: RuntimeWarning: invalid value encountered in double_scalars\n",
      "  return self.__arrowsTpCE / (self.__arrowsTpCE + self.__arrowsFpCE)\n",
      "2023-08-02 14:01:44,805 - c:\\Users\\JanMarco\\MLProjects\\Masterthesis\\masterthesis\\mthesis\\lib\\site-packages\\castle\\datasets\\simulator.py[line:270] - INFO: Finished synthetic dataset\n",
      "2023-08-02 14:01:44,877 - c:\\Users\\JanMarco\\MLProjects\\Masterthesis\\masterthesis\\mthesis\\lib\\site-packages\\castle\\datasets\\simulator.py[line:270] - INFO: Finished synthetic dataset\n",
      "c:\\Users\\JanMarco\\MLProjects\\Masterthesis\\masterthesis\\mthesis\\lib\\site-packages\\causallearn\\graph\\ArrowConfusion.py:92: RuntimeWarning: invalid value encountered in double_scalars\n",
      "  return self.__arrowsTp / (self.__arrowsTp + self.__arrowsFp)\n",
      "c:\\Users\\JanMarco\\MLProjects\\Masterthesis\\masterthesis\\mthesis\\lib\\site-packages\\causallearn\\graph\\ArrowConfusion.py:98: RuntimeWarning: invalid value encountered in double_scalars\n",
      "  return self.__arrowsTpCE / (self.__arrowsTpCE + self.__arrowsFpCE)\n",
      "2023-08-02 14:01:44,908 - c:\\Users\\JanMarco\\MLProjects\\Masterthesis\\masterthesis\\mthesis\\lib\\site-packages\\castle\\datasets\\simulator.py[line:270] - INFO: Finished synthetic dataset\n",
      "2023-08-02 14:01:44,954 - c:\\Users\\JanMarco\\MLProjects\\Masterthesis\\masterthesis\\mthesis\\lib\\site-packages\\castle\\datasets\\simulator.py[line:270] - INFO: Finished synthetic dataset\n"
     ]
    },
    {
     "name": "stdout",
     "output_type": "stream",
     "text": [
      "Running experiment with parameters: {'n_nodes': 5, 'n_edges': 14, 'dag_method': 'hierarchical', 'n_clusters': 3, 'weight_range': [-1, 2], 'scm_method': 'nonlinear', 'sample_size': 100, 'seed': None, 'node_names': None, 'noise_scale': 1, 'distribution_type': 'mim'}\n",
      "Warning: n_edges is not exact due to gcastle implementation\n",
      "Duration of algorithm was 0.01sec\n",
      "Running experiment with parameters: {'n_nodes': 5, 'n_edges': 14, 'dag_method': 'hierarchical', 'n_clusters': 3, 'weight_range': [-1, 2], 'scm_method': 'nonlinear', 'sample_size': 100, 'seed': None, 'node_names': None, 'noise_scale': 1, 'distribution_type': 'gp'}\n",
      "Warning: n_edges is not exact due to gcastle implementation\n",
      "Duration of algorithm was 0.01sec\n",
      "Running experiment with parameters: {'n_nodes': 5, 'n_edges': 14, 'dag_method': 'hierarchical', 'n_clusters': 5, 'weight_range': [-1, 2], 'scm_method': 'nonlinear', 'sample_size': 100, 'seed': None, 'node_names': None, 'noise_scale': 1, 'distribution_type': 'mlp'}\n",
      "Warning: n_edges is not exact due to gcastle implementation\n",
      "Duration of algorithm was 0.01sec\n",
      "Running experiment with parameters: {'n_nodes': 5, 'n_edges': 14, 'dag_method': 'hierarchical', 'n_clusters': 5, 'weight_range': [-1, 2], 'scm_method': 'nonlinear', 'sample_size': 100, 'seed': None, 'node_names': None, 'noise_scale': 1, 'distribution_type': 'mim'}\n",
      "Warning: n_edges is not exact due to gcastle implementation\n",
      "Duration of algorithm was 0.01sec\n"
     ]
    },
    {
     "name": "stderr",
     "output_type": "stream",
     "text": [
      "2023-08-02 14:01:45,031 - c:\\Users\\JanMarco\\MLProjects\\Masterthesis\\masterthesis\\mthesis\\lib\\site-packages\\castle\\datasets\\simulator.py[line:270] - INFO: Finished synthetic dataset\n",
      "2023-08-02 14:01:45,073 - c:\\Users\\JanMarco\\MLProjects\\Masterthesis\\masterthesis\\mthesis\\lib\\site-packages\\castle\\datasets\\simulator.py[line:270] - INFO: Finished synthetic dataset\n",
      "2023-08-02 14:01:45,121 - c:\\Users\\JanMarco\\MLProjects\\Masterthesis\\masterthesis\\mthesis\\lib\\site-packages\\castle\\datasets\\simulator.py[line:270] - INFO: Finished synthetic dataset\n",
      "2023-08-02 14:01:45,202 - c:\\Users\\JanMarco\\MLProjects\\Masterthesis\\masterthesis\\mthesis\\lib\\site-packages\\castle\\datasets\\simulator.py[line:270] - INFO: Finished synthetic dataset\n"
     ]
    },
    {
     "name": "stdout",
     "output_type": "stream",
     "text": [
      "Running experiment with parameters: {'n_nodes': 5, 'n_edges': 14, 'dag_method': 'hierarchical', 'n_clusters': 5, 'weight_range': [-1, 2], 'scm_method': 'nonlinear', 'sample_size': 100, 'seed': None, 'node_names': None, 'noise_scale': 1, 'distribution_type': 'gp'}\n",
      "Warning: n_edges is not exact due to gcastle implementation\n",
      "Duration of algorithm was 0.01sec\n",
      "Running experiment with parameters: {'n_nodes': 5, 'n_edges': 21, 'dag_method': 'erdos_renyi', 'n_clusters': 3, 'weight_range': [-1, 2], 'scm_method': 'nonlinear', 'sample_size': 100, 'seed': None, 'node_names': None, 'noise_scale': 1, 'distribution_type': 'mlp'}\n",
      "Warning: n_edges is not exact due to gcastle implementation\n",
      "Duration of algorithm was 0.02sec\n",
      "Running experiment with parameters: {'n_nodes': 5, 'n_edges': 21, 'dag_method': 'erdos_renyi', 'n_clusters': 3, 'weight_range': [-1, 2], 'scm_method': 'nonlinear', 'sample_size': 100, 'seed': None, 'node_names': None, 'noise_scale': 1, 'distribution_type': 'mim'}\n",
      "Warning: n_edges is not exact due to gcastle implementation\n",
      "Duration of algorithm was 0.01sec\n",
      "Running experiment with parameters: {'n_nodes': 5, 'n_edges': 21, 'dag_method': 'erdos_renyi', 'n_clusters': 3, 'weight_range': [-1, 2], 'scm_method': 'nonlinear', 'sample_size': 100, 'seed': None, 'node_names': None, 'noise_scale': 1, 'distribution_type': 'gp'}\n",
      "Warning: n_edges is not exact due to gcastle implementation\n"
     ]
    },
    {
     "name": "stderr",
     "output_type": "stream",
     "text": [
      "2023-08-02 14:01:45,248 - c:\\Users\\JanMarco\\MLProjects\\Masterthesis\\masterthesis\\mthesis\\lib\\site-packages\\castle\\datasets\\simulator.py[line:270] - INFO: Finished synthetic dataset\n",
      "c:\\Users\\JanMarco\\MLProjects\\Masterthesis\\masterthesis\\mthesis\\lib\\site-packages\\causallearn\\graph\\ArrowConfusion.py:92: RuntimeWarning: invalid value encountered in double_scalars\n",
      "  return self.__arrowsTp / (self.__arrowsTp + self.__arrowsFp)\n",
      "c:\\Users\\JanMarco\\MLProjects\\Masterthesis\\masterthesis\\mthesis\\lib\\site-packages\\causallearn\\graph\\ArrowConfusion.py:98: RuntimeWarning: invalid value encountered in double_scalars\n",
      "  return self.__arrowsTpCE / (self.__arrowsTpCE + self.__arrowsFpCE)\n",
      "2023-08-02 14:01:45,312 - c:\\Users\\JanMarco\\MLProjects\\Masterthesis\\masterthesis\\mthesis\\lib\\site-packages\\castle\\datasets\\simulator.py[line:270] - INFO: Finished synthetic dataset\n"
     ]
    },
    {
     "name": "stdout",
     "output_type": "stream",
     "text": [
      "Duration of algorithm was 0.01sec\n",
      "Running experiment with parameters: {'n_nodes': 5, 'n_edges': 21, 'dag_method': 'erdos_renyi', 'n_clusters': 5, 'weight_range': [-1, 2], 'scm_method': 'nonlinear', 'sample_size': 100, 'seed': None, 'node_names': None, 'noise_scale': 1, 'distribution_type': 'mlp'}\n",
      "Warning: n_edges is not exact due to gcastle implementation\n",
      "Duration of algorithm was 0.02sec\n",
      "Running experiment with parameters: {'n_nodes': 5, 'n_edges': 21, 'dag_method': 'erdos_renyi', 'n_clusters': 5, 'weight_range': [-1, 2], 'scm_method': 'nonlinear', 'sample_size': 100, 'seed': None, 'node_names': None, 'noise_scale': 1, 'distribution_type': 'mim'}\n",
      "Warning: n_edges is not exact due to gcastle implementation\n",
      "Duration of algorithm was 0.02sec\n",
      "Running experiment with parameters: {'n_nodes': 5, 'n_edges': 21, 'dag_method': 'erdos_renyi', 'n_clusters': 5, 'weight_range': [-1, 2], 'scm_method': 'nonlinear', 'sample_size': 100, 'seed': None, 'node_names': None, 'noise_scale': 1, 'distribution_type': 'gp'}\n",
      "Warning: n_edges is not exact due to gcastle implementation\n"
     ]
    },
    {
     "name": "stderr",
     "output_type": "stream",
     "text": [
      "2023-08-02 14:01:45,439 - c:\\Users\\JanMarco\\MLProjects\\Masterthesis\\masterthesis\\mthesis\\lib\\site-packages\\castle\\datasets\\simulator.py[line:270] - INFO: Finished synthetic dataset\n",
      "2023-08-02 14:01:45,482 - c:\\Users\\JanMarco\\MLProjects\\Masterthesis\\masterthesis\\mthesis\\lib\\site-packages\\castle\\datasets\\simulator.py[line:270] - INFO: Finished synthetic dataset\n",
      "c:\\Users\\JanMarco\\MLProjects\\Masterthesis\\masterthesis\\mthesis\\lib\\site-packages\\causallearn\\graph\\ArrowConfusion.py:92: RuntimeWarning: invalid value encountered in double_scalars\n",
      "  return self.__arrowsTp / (self.__arrowsTp + self.__arrowsFp)\n",
      "c:\\Users\\JanMarco\\MLProjects\\Masterthesis\\masterthesis\\mthesis\\lib\\site-packages\\causallearn\\graph\\ArrowConfusion.py:98: RuntimeWarning: invalid value encountered in double_scalars\n",
      "  return self.__arrowsTpCE / (self.__arrowsTpCE + self.__arrowsFpCE)\n",
      "2023-08-02 14:01:45,523 - c:\\Users\\JanMarco\\MLProjects\\Masterthesis\\masterthesis\\mthesis\\lib\\site-packages\\castle\\datasets\\simulator.py[line:270] - INFO: Finished synthetic dataset\n",
      "2023-08-02 14:01:45,596 - c:\\Users\\JanMarco\\MLProjects\\Masterthesis\\masterthesis\\mthesis\\lib\\site-packages\\castle\\datasets\\simulator.py[line:270] - INFO: Finished synthetic dataset\n",
      "c:\\Users\\JanMarco\\MLProjects\\Masterthesis\\masterthesis\\mthesis\\lib\\site-packages\\causallearn\\graph\\ArrowConfusion.py:92: RuntimeWarning: invalid value encountered in double_scalars\n",
      "  return self.__arrowsTp / (self.__arrowsTp + self.__arrowsFp)\n",
      "c:\\Users\\JanMarco\\MLProjects\\Masterthesis\\masterthesis\\mthesis\\lib\\site-packages\\causallearn\\graph\\ArrowConfusion.py:98: RuntimeWarning: invalid value encountered in double_scalars\n",
      "  return self.__arrowsTpCE / (self.__arrowsTpCE + self.__arrowsFpCE)\n",
      "2023-08-02 14:01:45,631 - c:\\Users\\JanMarco\\MLProjects\\Masterthesis\\masterthesis\\mthesis\\lib\\site-packages\\castle\\datasets\\simulator.py[line:270] - INFO: Finished synthetic dataset\n"
     ]
    },
    {
     "name": "stdout",
     "output_type": "stream",
     "text": [
      "Duration of algorithm was 0.01sec\n",
      "Running experiment with parameters: {'n_nodes': 5, 'n_edges': 21, 'dag_method': 'scale_free', 'n_clusters': 3, 'weight_range': [-1, 2], 'scm_method': 'nonlinear', 'sample_size': 100, 'seed': None, 'node_names': None, 'noise_scale': 1, 'distribution_type': 'mlp'}\n",
      "Warning: n_edges is not exact due to gcastle implementation\n",
      "Duration of algorithm was 0.01sec\n",
      "Running experiment with parameters: {'n_nodes': 5, 'n_edges': 21, 'dag_method': 'scale_free', 'n_clusters': 3, 'weight_range': [-1, 2], 'scm_method': 'nonlinear', 'sample_size': 100, 'seed': None, 'node_names': None, 'noise_scale': 1, 'distribution_type': 'mim'}\n",
      "Warning: n_edges is not exact due to gcastle implementation\n",
      "Duration of algorithm was 0.01sec\n",
      "Running experiment with parameters: {'n_nodes': 5, 'n_edges': 21, 'dag_method': 'scale_free', 'n_clusters': 3, 'weight_range': [-1, 2], 'scm_method': 'nonlinear', 'sample_size': 100, 'seed': None, 'node_names': None, 'noise_scale': 1, 'distribution_type': 'gp'}\n",
      "Warning: n_edges is not exact due to gcastle implementation\n",
      "Duration of algorithm was 0.01sec\n",
      "Running experiment with parameters: {'n_nodes': 5, 'n_edges': 21, 'dag_method': 'scale_free', 'n_clusters': 5, 'weight_range': [-1, 2], 'scm_method': 'nonlinear', 'sample_size': 100, 'seed': None, 'node_names': None, 'noise_scale': 1, 'distribution_type': 'mlp'}\n",
      "Warning: n_edges is not exact due to gcastle implementation\n"
     ]
    },
    {
     "name": "stderr",
     "output_type": "stream",
     "text": [
      "2023-08-02 14:01:45,716 - c:\\Users\\JanMarco\\MLProjects\\Masterthesis\\masterthesis\\mthesis\\lib\\site-packages\\castle\\datasets\\simulator.py[line:270] - INFO: Finished synthetic dataset\n",
      "2023-08-02 14:01:45,797 - c:\\Users\\JanMarco\\MLProjects\\Masterthesis\\masterthesis\\mthesis\\lib\\site-packages\\castle\\datasets\\simulator.py[line:270] - INFO: Finished synthetic dataset\n",
      "c:\\Users\\JanMarco\\MLProjects\\Masterthesis\\masterthesis\\mthesis\\lib\\site-packages\\causallearn\\graph\\ArrowConfusion.py:92: RuntimeWarning: invalid value encountered in double_scalars\n",
      "  return self.__arrowsTp / (self.__arrowsTp + self.__arrowsFp)\n",
      "c:\\Users\\JanMarco\\MLProjects\\Masterthesis\\masterthesis\\mthesis\\lib\\site-packages\\causallearn\\graph\\ArrowConfusion.py:98: RuntimeWarning: invalid value encountered in double_scalars\n",
      "  return self.__arrowsTpCE / (self.__arrowsTpCE + self.__arrowsFpCE)\n",
      "2023-08-02 14:01:45,858 - c:\\Users\\JanMarco\\MLProjects\\Masterthesis\\masterthesis\\mthesis\\lib\\site-packages\\castle\\datasets\\simulator.py[line:270] - INFO: Finished synthetic dataset\n"
     ]
    },
    {
     "name": "stdout",
     "output_type": "stream",
     "text": [
      "Duration of algorithm was 0.01sec\n",
      "Running experiment with parameters: {'n_nodes': 5, 'n_edges': 21, 'dag_method': 'scale_free', 'n_clusters': 5, 'weight_range': [-1, 2], 'scm_method': 'nonlinear', 'sample_size': 100, 'seed': None, 'node_names': None, 'noise_scale': 1, 'distribution_type': 'mim'}\n",
      "Warning: n_edges is not exact due to gcastle implementation\n",
      "Duration of algorithm was 0.01sec\n",
      "Running experiment with parameters: {'n_nodes': 5, 'n_edges': 21, 'dag_method': 'scale_free', 'n_clusters': 5, 'weight_range': [-1, 2], 'scm_method': 'nonlinear', 'sample_size': 100, 'seed': None, 'node_names': None, 'noise_scale': 1, 'distribution_type': 'gp'}\n",
      "Warning: n_edges is not exact due to gcastle implementation\n",
      "Duration of algorithm was 0.01sec\n",
      "Running experiment with parameters: {'n_nodes': 5, 'n_edges': 21, 'dag_method': 'hierarchical', 'n_clusters': 3, 'weight_range': [-1, 2], 'scm_method': 'nonlinear', 'sample_size': 100, 'seed': None, 'node_names': None, 'noise_scale': 1, 'distribution_type': 'mlp'}\n",
      "Warning: n_edges is not exact due to gcastle implementation\n"
     ]
    },
    {
     "name": "stderr",
     "output_type": "stream",
     "text": [
      "2023-08-02 14:01:46,005 - c:\\Users\\JanMarco\\MLProjects\\Masterthesis\\masterthesis\\mthesis\\lib\\site-packages\\castle\\datasets\\simulator.py[line:270] - INFO: Finished synthetic dataset\n"
     ]
    },
    {
     "name": "stdout",
     "output_type": "stream",
     "text": [
      "Duration of algorithm was 0.03sec\n",
      "Running experiment with parameters: {'n_nodes': 5, 'n_edges': 21, 'dag_method': 'hierarchical', 'n_clusters': 3, 'weight_range': [-1, 2], 'scm_method': 'nonlinear', 'sample_size': 100, 'seed': None, 'node_names': None, 'noise_scale': 1, 'distribution_type': 'mim'}\n",
      "Warning: n_edges is not exact due to gcastle implementation\n",
      "Duration of algorithm was 0.03sec\n",
      "Running experiment with parameters: {'n_nodes': 5, 'n_edges': 21, 'dag_method': 'hierarchical', 'n_clusters': 3, 'weight_range': [-1, 2], 'scm_method': 'nonlinear', 'sample_size': 100, 'seed': None, 'node_names': None, 'noise_scale': 1, 'distribution_type': 'gp'}\n",
      "Warning: n_edges is not exact due to gcastle implementation\n"
     ]
    },
    {
     "name": "stderr",
     "output_type": "stream",
     "text": [
      "2023-08-02 14:01:46,230 - c:\\Users\\JanMarco\\MLProjects\\Masterthesis\\masterthesis\\mthesis\\lib\\site-packages\\castle\\datasets\\simulator.py[line:270] - INFO: Finished synthetic dataset\n",
      "2023-08-02 14:01:46,378 - c:\\Users\\JanMarco\\MLProjects\\Masterthesis\\masterthesis\\mthesis\\lib\\site-packages\\castle\\datasets\\simulator.py[line:270] - INFO: Finished synthetic dataset\n",
      "c:\\Users\\JanMarco\\MLProjects\\Masterthesis\\masterthesis\\mthesis\\lib\\site-packages\\causallearn\\graph\\ArrowConfusion.py:92: RuntimeWarning: invalid value encountered in double_scalars\n",
      "  return self.__arrowsTp / (self.__arrowsTp + self.__arrowsFp)\n",
      "c:\\Users\\JanMarco\\MLProjects\\Masterthesis\\masterthesis\\mthesis\\lib\\site-packages\\causallearn\\graph\\ArrowConfusion.py:98: RuntimeWarning: invalid value encountered in double_scalars\n",
      "  return self.__arrowsTpCE / (self.__arrowsTpCE + self.__arrowsFpCE)\n",
      "2023-08-02 14:01:46,473 - c:\\Users\\JanMarco\\MLProjects\\Masterthesis\\masterthesis\\mthesis\\lib\\site-packages\\castle\\datasets\\simulator.py[line:270] - INFO: Finished synthetic dataset\n"
     ]
    },
    {
     "name": "stdout",
     "output_type": "stream",
     "text": [
      "Duration of algorithm was 0.04sec\n",
      "Running experiment with parameters: {'n_nodes': 5, 'n_edges': 21, 'dag_method': 'hierarchical', 'n_clusters': 5, 'weight_range': [-1, 2], 'scm_method': 'nonlinear', 'sample_size': 100, 'seed': None, 'node_names': None, 'noise_scale': 1, 'distribution_type': 'mlp'}\n",
      "Warning: n_edges is not exact due to gcastle implementation\n",
      "Duration of algorithm was 0.03sec\n",
      "Running experiment with parameters: {'n_nodes': 5, 'n_edges': 21, 'dag_method': 'hierarchical', 'n_clusters': 5, 'weight_range': [-1, 2], 'scm_method': 'nonlinear', 'sample_size': 100, 'seed': None, 'node_names': None, 'noise_scale': 1, 'distribution_type': 'mim'}\n",
      "Warning: n_edges is not exact due to gcastle implementation\n"
     ]
    },
    {
     "name": "stderr",
     "output_type": "stream",
     "text": [
      "2023-08-02 14:01:46,575 - c:\\Users\\JanMarco\\MLProjects\\Masterthesis\\masterthesis\\mthesis\\lib\\site-packages\\castle\\datasets\\simulator.py[line:270] - INFO: Finished synthetic dataset\n",
      "2023-08-02 14:01:46,629 - c:\\Users\\JanMarco\\MLProjects\\Masterthesis\\masterthesis\\mthesis\\lib\\site-packages\\castle\\datasets\\simulator.py[line:270] - INFO: Finished synthetic dataset\n"
     ]
    },
    {
     "name": "stdout",
     "output_type": "stream",
     "text": [
      "Duration of algorithm was 0.02sec\n",
      "Running experiment with parameters: {'n_nodes': 5, 'n_edges': 21, 'dag_method': 'hierarchical', 'n_clusters': 5, 'weight_range': [-1, 2], 'scm_method': 'nonlinear', 'sample_size': 100, 'seed': None, 'node_names': None, 'noise_scale': 1, 'distribution_type': 'gp'}\n",
      "Warning: n_edges is not exact due to gcastle implementation\n",
      "Duration of algorithm was 0.01sec\n",
      "Running experiment with parameters: {'n_nodes': 10, 'n_edges': 14, 'dag_method': 'erdos_renyi', 'n_clusters': 3, 'weight_range': [-1, 2], 'scm_method': 'nonlinear', 'sample_size': 100, 'seed': None, 'node_names': None, 'noise_scale': 1, 'distribution_type': 'mlp'}\n",
      "Warning: n_edges is not exact due to gcastle implementation\n"
     ]
    },
    {
     "name": "stderr",
     "output_type": "stream",
     "text": [
      "2023-08-02 14:01:46,793 - c:\\Users\\JanMarco\\MLProjects\\Masterthesis\\masterthesis\\mthesis\\lib\\site-packages\\castle\\datasets\\simulator.py[line:270] - INFO: Finished synthetic dataset\n"
     ]
    },
    {
     "name": "stdout",
     "output_type": "stream",
     "text": [
      "Duration of algorithm was 0.08sec\n",
      "Running experiment with parameters: {'n_nodes': 10, 'n_edges': 14, 'dag_method': 'erdos_renyi', 'n_clusters': 3, 'weight_range': [-1, 2], 'scm_method': 'nonlinear', 'sample_size': 100, 'seed': None, 'node_names': None, 'noise_scale': 1, 'distribution_type': 'mim'}\n",
      "Warning: n_edges is not exact due to gcastle implementation\n",
      "Duration of algorithm was 0.09sec\n"
     ]
    },
    {
     "name": "stderr",
     "output_type": "stream",
     "text": [
      "2023-08-02 14:01:47,044 - c:\\Users\\JanMarco\\MLProjects\\Masterthesis\\masterthesis\\mthesis\\lib\\site-packages\\castle\\datasets\\simulator.py[line:270] - INFO: Finished synthetic dataset\n",
      "2023-08-02 14:01:47,157 - c:\\Users\\JanMarco\\MLProjects\\Masterthesis\\masterthesis\\mthesis\\lib\\site-packages\\castle\\datasets\\simulator.py[line:270] - INFO: Finished synthetic dataset\n"
     ]
    },
    {
     "name": "stdout",
     "output_type": "stream",
     "text": [
      "Running experiment with parameters: {'n_nodes': 10, 'n_edges': 14, 'dag_method': 'erdos_renyi', 'n_clusters': 3, 'weight_range': [-1, 2], 'scm_method': 'nonlinear', 'sample_size': 100, 'seed': None, 'node_names': None, 'noise_scale': 1, 'distribution_type': 'gp'}\n",
      "Warning: n_edges is not exact due to gcastle implementation\n",
      "Duration of algorithm was 0.05sec\n",
      "Running experiment with parameters: {'n_nodes': 10, 'n_edges': 14, 'dag_method': 'erdos_renyi', 'n_clusters': 5, 'weight_range': [-1, 2], 'scm_method': 'nonlinear', 'sample_size': 100, 'seed': None, 'node_names': None, 'noise_scale': 1, 'distribution_type': 'mlp'}\n",
      "Warning: n_edges is not exact due to gcastle implementation\n"
     ]
    },
    {
     "name": "stderr",
     "output_type": "stream",
     "text": [
      "2023-08-02 14:01:47,315 - c:\\Users\\JanMarco\\MLProjects\\Masterthesis\\masterthesis\\mthesis\\lib\\site-packages\\castle\\datasets\\simulator.py[line:270] - INFO: Finished synthetic dataset\n"
     ]
    },
    {
     "name": "stdout",
     "output_type": "stream",
     "text": [
      "Duration of algorithm was 0.09sec\n",
      "Running experiment with parameters: {'n_nodes': 10, 'n_edges': 14, 'dag_method': 'erdos_renyi', 'n_clusters': 5, 'weight_range': [-1, 2], 'scm_method': 'nonlinear', 'sample_size': 100, 'seed': None, 'node_names': None, 'noise_scale': 1, 'distribution_type': 'mim'}\n",
      "Warning: n_edges is not exact due to gcastle implementation\n",
      "Duration of algorithm was 0.04sec\n",
      "Running experiment with parameters: {'n_nodes': 10, 'n_edges': 14, 'dag_method': 'erdos_renyi', 'n_clusters': 5, 'weight_range': [-1, 2], 'scm_method': 'nonlinear', 'sample_size': 100, 'seed': None, 'node_names': None, 'noise_scale': 1, 'distribution_type': 'gp'}\n",
      "Warning: n_edges is not exact due to gcastle implementation\n"
     ]
    },
    {
     "name": "stderr",
     "output_type": "stream",
     "text": [
      "2023-08-02 14:01:47,480 - c:\\Users\\JanMarco\\MLProjects\\Masterthesis\\masterthesis\\mthesis\\lib\\site-packages\\castle\\datasets\\simulator.py[line:270] - INFO: Finished synthetic dataset\n",
      "2023-08-02 14:01:47,572 - c:\\Users\\JanMarco\\MLProjects\\Masterthesis\\masterthesis\\mthesis\\lib\\site-packages\\castle\\datasets\\simulator.py[line:270] - INFO: Finished synthetic dataset\n"
     ]
    },
    {
     "name": "stdout",
     "output_type": "stream",
     "text": [
      "Duration of algorithm was 0.04sec\n",
      "Running experiment with parameters: {'n_nodes': 10, 'n_edges': 14, 'dag_method': 'scale_free', 'n_clusters': 3, 'weight_range': [-1, 2], 'scm_method': 'nonlinear', 'sample_size': 100, 'seed': None, 'node_names': None, 'noise_scale': 1, 'distribution_type': 'mlp'}\n",
      "Warning: n_edges is not exact due to gcastle implementation\n",
      "Duration of algorithm was 0.05sec\n"
     ]
    },
    {
     "name": "stderr",
     "output_type": "stream",
     "text": [
      "c:\\Users\\JanMarco\\MLProjects\\Masterthesis\\masterthesis\\mthesis\\lib\\site-packages\\causallearn\\graph\\ArrowConfusion.py:92: RuntimeWarning: invalid value encountered in double_scalars\n",
      "  return self.__arrowsTp / (self.__arrowsTp + self.__arrowsFp)\n",
      "c:\\Users\\JanMarco\\MLProjects\\Masterthesis\\masterthesis\\mthesis\\lib\\site-packages\\causallearn\\graph\\ArrowConfusion.py:98: RuntimeWarning: invalid value encountered in double_scalars\n",
      "  return self.__arrowsTpCE / (self.__arrowsTpCE + self.__arrowsFpCE)\n",
      "2023-08-02 14:01:47,745 - c:\\Users\\JanMarco\\MLProjects\\Masterthesis\\masterthesis\\mthesis\\lib\\site-packages\\castle\\datasets\\simulator.py[line:270] - INFO: Finished synthetic dataset\n",
      "2023-08-02 14:01:47,890 - c:\\Users\\JanMarco\\MLProjects\\Masterthesis\\masterthesis\\mthesis\\lib\\site-packages\\castle\\datasets\\simulator.py[line:270] - INFO: Finished synthetic dataset\n"
     ]
    },
    {
     "name": "stdout",
     "output_type": "stream",
     "text": [
      "Running experiment with parameters: {'n_nodes': 10, 'n_edges': 14, 'dag_method': 'scale_free', 'n_clusters': 3, 'weight_range': [-1, 2], 'scm_method': 'nonlinear', 'sample_size': 100, 'seed': None, 'node_names': None, 'noise_scale': 1, 'distribution_type': 'mim'}\n",
      "Warning: n_edges is not exact due to gcastle implementation\n",
      "Duration of algorithm was 0.05sec\n",
      "Running experiment with parameters: {'n_nodes': 10, 'n_edges': 14, 'dag_method': 'scale_free', 'n_clusters': 3, 'weight_range': [-1, 2], 'scm_method': 'nonlinear', 'sample_size': 100, 'seed': None, 'node_names': None, 'noise_scale': 1, 'distribution_type': 'gp'}\n",
      "Warning: n_edges is not exact due to gcastle implementation\n",
      "Duration of algorithm was 0.04sec\n"
     ]
    },
    {
     "name": "stderr",
     "output_type": "stream",
     "text": [
      "2023-08-02 14:01:47,997 - c:\\Users\\JanMarco\\MLProjects\\Masterthesis\\masterthesis\\mthesis\\lib\\site-packages\\castle\\datasets\\simulator.py[line:270] - INFO: Finished synthetic dataset\n",
      "c:\\Users\\JanMarco\\MLProjects\\Masterthesis\\masterthesis\\mthesis\\lib\\site-packages\\causallearn\\graph\\ArrowConfusion.py:92: RuntimeWarning: invalid value encountered in double_scalars\n",
      "  return self.__arrowsTp / (self.__arrowsTp + self.__arrowsFp)\n",
      "c:\\Users\\JanMarco\\MLProjects\\Masterthesis\\masterthesis\\mthesis\\lib\\site-packages\\causallearn\\graph\\ArrowConfusion.py:98: RuntimeWarning: invalid value encountered in double_scalars\n",
      "  return self.__arrowsTpCE / (self.__arrowsTpCE + self.__arrowsFpCE)\n",
      "2023-08-02 14:01:48,112 - c:\\Users\\JanMarco\\MLProjects\\Masterthesis\\masterthesis\\mthesis\\lib\\site-packages\\castle\\datasets\\simulator.py[line:270] - INFO: Finished synthetic dataset\n"
     ]
    },
    {
     "name": "stdout",
     "output_type": "stream",
     "text": [
      "Running experiment with parameters: {'n_nodes': 10, 'n_edges': 14, 'dag_method': 'scale_free', 'n_clusters': 5, 'weight_range': [-1, 2], 'scm_method': 'nonlinear', 'sample_size': 100, 'seed': None, 'node_names': None, 'noise_scale': 1, 'distribution_type': 'mlp'}\n",
      "Warning: n_edges is not exact due to gcastle implementation\n",
      "Duration of algorithm was 0.05sec\n",
      "Running experiment with parameters: {'n_nodes': 10, 'n_edges': 14, 'dag_method': 'scale_free', 'n_clusters': 5, 'weight_range': [-1, 2], 'scm_method': 'nonlinear', 'sample_size': 100, 'seed': None, 'node_names': None, 'noise_scale': 1, 'distribution_type': 'mim'}\n",
      "Warning: n_edges is not exact due to gcastle implementation\n",
      "Duration of algorithm was 0.04sec\n"
     ]
    },
    {
     "name": "stderr",
     "output_type": "stream",
     "text": [
      "2023-08-02 14:01:48,261 - c:\\Users\\JanMarco\\MLProjects\\Masterthesis\\masterthesis\\mthesis\\lib\\site-packages\\castle\\datasets\\simulator.py[line:270] - INFO: Finished synthetic dataset\n"
     ]
    },
    {
     "name": "stdout",
     "output_type": "stream",
     "text": [
      "Running experiment with parameters: {'n_nodes': 10, 'n_edges': 14, 'dag_method': 'scale_free', 'n_clusters': 5, 'weight_range': [-1, 2], 'scm_method': 'nonlinear', 'sample_size': 100, 'seed': None, 'node_names': None, 'noise_scale': 1, 'distribution_type': 'gp'}\n",
      "Warning: n_edges is not exact due to gcastle implementation\n",
      "Duration of algorithm was 0.04sec\n"
     ]
    },
    {
     "name": "stderr",
     "output_type": "stream",
     "text": [
      "2023-08-02 14:01:48,466 - c:\\Users\\JanMarco\\MLProjects\\Masterthesis\\masterthesis\\mthesis\\lib\\site-packages\\castle\\datasets\\simulator.py[line:270] - INFO: Finished synthetic dataset\n"
     ]
    },
    {
     "name": "stdout",
     "output_type": "stream",
     "text": [
      "Running experiment with parameters: {'n_nodes': 10, 'n_edges': 14, 'dag_method': 'hierarchical', 'n_clusters': 3, 'weight_range': [-1, 2], 'scm_method': 'nonlinear', 'sample_size': 100, 'seed': None, 'node_names': None, 'noise_scale': 1, 'distribution_type': 'mlp'}\n",
      "Warning: n_edges is not exact due to gcastle implementation\n"
     ]
    },
    {
     "name": "stderr",
     "output_type": "stream",
     "text": [
      "2023-08-02 14:01:49,016 - c:\\Users\\JanMarco\\MLProjects\\Masterthesis\\masterthesis\\mthesis\\lib\\site-packages\\castle\\datasets\\simulator.py[line:270] - INFO: Finished synthetic dataset\n"
     ]
    },
    {
     "name": "stdout",
     "output_type": "stream",
     "text": [
      "Duration of algorithm was 0.34sec\n",
      "Running experiment with parameters: {'n_nodes': 10, 'n_edges': 14, 'dag_method': 'hierarchical', 'n_clusters': 3, 'weight_range': [-1, 2], 'scm_method': 'nonlinear', 'sample_size': 100, 'seed': None, 'node_names': None, 'noise_scale': 1, 'distribution_type': 'mim'}\n",
      "Warning: n_edges is not exact due to gcastle implementation\n"
     ]
    },
    {
     "name": "stderr",
     "output_type": "stream",
     "text": [
      "2023-08-02 14:01:49,337 - c:\\Users\\JanMarco\\MLProjects\\Masterthesis\\masterthesis\\mthesis\\lib\\site-packages\\castle\\datasets\\simulator.py[line:270] - INFO: Finished synthetic dataset\n"
     ]
    },
    {
     "name": "stdout",
     "output_type": "stream",
     "text": [
      "Duration of algorithm was 0.15sec\n",
      "Running experiment with parameters: {'n_nodes': 10, 'n_edges': 14, 'dag_method': 'hierarchical', 'n_clusters': 3, 'weight_range': [-1, 2], 'scm_method': 'nonlinear', 'sample_size': 100, 'seed': None, 'node_names': None, 'noise_scale': 1, 'distribution_type': 'gp'}\n",
      "Warning: n_edges is not exact due to gcastle implementation\n"
     ]
    },
    {
     "name": "stderr",
     "output_type": "stream",
     "text": [
      "2023-08-02 14:01:49,468 - c:\\Users\\JanMarco\\MLProjects\\Masterthesis\\masterthesis\\mthesis\\lib\\site-packages\\castle\\datasets\\simulator.py[line:270] - INFO: Finished synthetic dataset\n"
     ]
    },
    {
     "name": "stdout",
     "output_type": "stream",
     "text": [
      "Duration of algorithm was 0.05sec\n",
      "Running experiment with parameters: {'n_nodes': 10, 'n_edges': 14, 'dag_method': 'hierarchical', 'n_clusters': 5, 'weight_range': [-1, 2], 'scm_method': 'nonlinear', 'sample_size': 100, 'seed': None, 'node_names': None, 'noise_scale': 1, 'distribution_type': 'mlp'}\n",
      "Warning: n_edges is not exact due to gcastle implementation\n",
      "Duration of algorithm was 0.10sec\n"
     ]
    },
    {
     "name": "stderr",
     "output_type": "stream",
     "text": [
      "2023-08-02 14:01:49,721 - c:\\Users\\JanMarco\\MLProjects\\Masterthesis\\masterthesis\\mthesis\\lib\\site-packages\\castle\\datasets\\simulator.py[line:270] - INFO: Finished synthetic dataset\n"
     ]
    },
    {
     "name": "stdout",
     "output_type": "stream",
     "text": [
      "Running experiment with parameters: {'n_nodes': 10, 'n_edges': 14, 'dag_method': 'hierarchical', 'n_clusters': 5, 'weight_range': [-1, 2], 'scm_method': 'nonlinear', 'sample_size': 100, 'seed': None, 'node_names': None, 'noise_scale': 1, 'distribution_type': 'mim'}\n",
      "Warning: n_edges is not exact due to gcastle implementation\n",
      "Duration of algorithm was 0.05sec\n",
      "Running experiment with parameters: {'n_nodes': 10, 'n_edges': 14, 'dag_method': 'hierarchical', 'n_clusters': 5, 'weight_range': [-1, 2], 'scm_method': 'nonlinear', 'sample_size': 100, 'seed': None, 'node_names': None, 'noise_scale': 1, 'distribution_type': 'gp'}\n",
      "Warning: n_edges is not exact due to gcastle implementation\n"
     ]
    },
    {
     "name": "stderr",
     "output_type": "stream",
     "text": [
      "2023-08-02 14:01:49,947 - c:\\Users\\JanMarco\\MLProjects\\Masterthesis\\masterthesis\\mthesis\\lib\\site-packages\\castle\\datasets\\simulator.py[line:270] - INFO: Finished synthetic dataset\n",
      "2023-08-02 14:01:50,051 - c:\\Users\\JanMarco\\MLProjects\\Masterthesis\\masterthesis\\mthesis\\lib\\site-packages\\castle\\datasets\\simulator.py[line:270] - INFO: Finished synthetic dataset\n"
     ]
    },
    {
     "name": "stdout",
     "output_type": "stream",
     "text": [
      "Duration of algorithm was 0.05sec\n",
      "Running experiment with parameters: {'n_nodes': 10, 'n_edges': 21, 'dag_method': 'erdos_renyi', 'n_clusters': 3, 'weight_range': [-1, 2], 'scm_method': 'nonlinear', 'sample_size': 100, 'seed': None, 'node_names': None, 'noise_scale': 1, 'distribution_type': 'mlp'}\n",
      "Warning: n_edges is not exact due to gcastle implementation\n",
      "Duration of algorithm was 0.07sec\n",
      "Running experiment with parameters: {'n_nodes': 10, 'n_edges': 21, 'dag_method': 'erdos_renyi', 'n_clusters': 3, 'weight_range': [-1, 2], 'scm_method': 'nonlinear', 'sample_size': 100, 'seed': None, 'node_names': None, 'noise_scale': 1, 'distribution_type': 'mim'}\n",
      "Warning: n_edges is not exact due to gcastle implementation\n"
     ]
    },
    {
     "name": "stderr",
     "output_type": "stream",
     "text": [
      "2023-08-02 14:01:50,207 - c:\\Users\\JanMarco\\MLProjects\\Masterthesis\\masterthesis\\mthesis\\lib\\site-packages\\castle\\datasets\\simulator.py[line:270] - INFO: Finished synthetic dataset\n",
      "2023-08-02 14:01:50,424 - c:\\Users\\JanMarco\\MLProjects\\Masterthesis\\masterthesis\\mthesis\\lib\\site-packages\\castle\\datasets\\simulator.py[line:270] - INFO: Finished synthetic dataset\n"
     ]
    },
    {
     "name": "stdout",
     "output_type": "stream",
     "text": [
      "Duration of algorithm was 0.08sec\n",
      "Running experiment with parameters: {'n_nodes': 10, 'n_edges': 21, 'dag_method': 'erdos_renyi', 'n_clusters': 3, 'weight_range': [-1, 2], 'scm_method': 'nonlinear', 'sample_size': 100, 'seed': None, 'node_names': None, 'noise_scale': 1, 'distribution_type': 'gp'}\n",
      "Warning: n_edges is not exact due to gcastle implementation\n",
      "Duration of algorithm was 0.07sec\n"
     ]
    },
    {
     "name": "stderr",
     "output_type": "stream",
     "text": [
      "2023-08-02 14:01:50,658 - c:\\Users\\JanMarco\\MLProjects\\Masterthesis\\masterthesis\\mthesis\\lib\\site-packages\\castle\\datasets\\simulator.py[line:270] - INFO: Finished synthetic dataset\n"
     ]
    },
    {
     "name": "stdout",
     "output_type": "stream",
     "text": [
      "Running experiment with parameters: {'n_nodes': 10, 'n_edges': 21, 'dag_method': 'erdos_renyi', 'n_clusters': 5, 'weight_range': [-1, 2], 'scm_method': 'nonlinear', 'sample_size': 100, 'seed': None, 'node_names': None, 'noise_scale': 1, 'distribution_type': 'mlp'}\n",
      "Warning: n_edges is not exact due to gcastle implementation\n"
     ]
    },
    {
     "name": "stderr",
     "output_type": "stream",
     "text": [
      "2023-08-02 14:01:51,020 - c:\\Users\\JanMarco\\MLProjects\\Masterthesis\\masterthesis\\mthesis\\lib\\site-packages\\castle\\datasets\\simulator.py[line:270] - INFO: Finished synthetic dataset\n"
     ]
    },
    {
     "name": "stdout",
     "output_type": "stream",
     "text": [
      "Duration of algorithm was 0.23sec\n",
      "Running experiment with parameters: {'n_nodes': 10, 'n_edges': 21, 'dag_method': 'erdos_renyi', 'n_clusters': 5, 'weight_range': [-1, 2], 'scm_method': 'nonlinear', 'sample_size': 100, 'seed': None, 'node_names': None, 'noise_scale': 1, 'distribution_type': 'mim'}\n",
      "Warning: n_edges is not exact due to gcastle implementation\n",
      "Duration of algorithm was 0.06sec\n"
     ]
    },
    {
     "name": "stderr",
     "output_type": "stream",
     "text": [
      "2023-08-02 14:01:51,197 - c:\\Users\\JanMarco\\MLProjects\\Masterthesis\\masterthesis\\mthesis\\lib\\site-packages\\castle\\datasets\\simulator.py[line:270] - INFO: Finished synthetic dataset\n",
      "c:\\Users\\JanMarco\\MLProjects\\Masterthesis\\masterthesis\\mthesis\\lib\\site-packages\\causallearn\\graph\\ArrowConfusion.py:92: RuntimeWarning: invalid value encountered in double_scalars\n",
      "  return self.__arrowsTp / (self.__arrowsTp + self.__arrowsFp)\n",
      "c:\\Users\\JanMarco\\MLProjects\\Masterthesis\\masterthesis\\mthesis\\lib\\site-packages\\causallearn\\graph\\ArrowConfusion.py:98: RuntimeWarning: invalid value encountered in double_scalars\n",
      "  return self.__arrowsTpCE / (self.__arrowsTpCE + self.__arrowsFpCE)\n",
      "2023-08-02 14:01:51,298 - c:\\Users\\JanMarco\\MLProjects\\Masterthesis\\masterthesis\\mthesis\\lib\\site-packages\\castle\\datasets\\simulator.py[line:270] - INFO: Finished synthetic dataset\n"
     ]
    },
    {
     "name": "stdout",
     "output_type": "stream",
     "text": [
      "Running experiment with parameters: {'n_nodes': 10, 'n_edges': 21, 'dag_method': 'erdos_renyi', 'n_clusters': 5, 'weight_range': [-1, 2], 'scm_method': 'nonlinear', 'sample_size': 100, 'seed': None, 'node_names': None, 'noise_scale': 1, 'distribution_type': 'gp'}\n",
      "Warning: n_edges is not exact due to gcastle implementation\n",
      "Duration of algorithm was 0.03sec\n",
      "Running experiment with parameters: {'n_nodes': 10, 'n_edges': 21, 'dag_method': 'scale_free', 'n_clusters': 3, 'weight_range': [-1, 2], 'scm_method': 'nonlinear', 'sample_size': 100, 'seed': None, 'node_names': None, 'noise_scale': 1, 'distribution_type': 'mlp'}\n",
      "Warning: n_edges is not exact due to gcastle implementation\n"
     ]
    },
    {
     "name": "stderr",
     "output_type": "stream",
     "text": [
      "2023-08-02 14:01:51,501 - c:\\Users\\JanMarco\\MLProjects\\Masterthesis\\masterthesis\\mthesis\\lib\\site-packages\\castle\\datasets\\simulator.py[line:270] - INFO: Finished synthetic dataset\n"
     ]
    },
    {
     "name": "stdout",
     "output_type": "stream",
     "text": [
      "Duration of algorithm was 0.13sec\n",
      "Running experiment with parameters: {'n_nodes': 10, 'n_edges': 21, 'dag_method': 'scale_free', 'n_clusters': 3, 'weight_range': [-1, 2], 'scm_method': 'nonlinear', 'sample_size': 100, 'seed': None, 'node_names': None, 'noise_scale': 1, 'distribution_type': 'mim'}\n",
      "Warning: n_edges is not exact due to gcastle implementation\n",
      "Duration of algorithm was 0.07sec\n",
      "Running experiment with parameters: {'n_nodes': 10, 'n_edges': 21, 'dag_method': 'scale_free', 'n_clusters': 3, 'weight_range': [-1, 2], 'scm_method': 'nonlinear', 'sample_size': 100, 'seed': None, 'node_names': None, 'noise_scale': 1, 'distribution_type': 'gp'}\n",
      "Warning: n_edges is not exact due to gcastle implementation\n"
     ]
    },
    {
     "name": "stderr",
     "output_type": "stream",
     "text": [
      "2023-08-02 14:01:51,684 - c:\\Users\\JanMarco\\MLProjects\\Masterthesis\\masterthesis\\mthesis\\lib\\site-packages\\castle\\datasets\\simulator.py[line:270] - INFO: Finished synthetic dataset\n",
      "c:\\Users\\JanMarco\\MLProjects\\Masterthesis\\masterthesis\\mthesis\\lib\\site-packages\\causallearn\\graph\\ArrowConfusion.py:98: RuntimeWarning: invalid value encountered in double_scalars\n",
      "  return self.__arrowsTpCE / (self.__arrowsTpCE + self.__arrowsFpCE)\n",
      "2023-08-02 14:01:51,786 - c:\\Users\\JanMarco\\MLProjects\\Masterthesis\\masterthesis\\mthesis\\lib\\site-packages\\castle\\datasets\\simulator.py[line:270] - INFO: Finished synthetic dataset\n"
     ]
    },
    {
     "name": "stdout",
     "output_type": "stream",
     "text": [
      "Duration of algorithm was 0.04sec\n",
      "Running experiment with parameters: {'n_nodes': 10, 'n_edges': 21, 'dag_method': 'scale_free', 'n_clusters': 5, 'weight_range': [-1, 2], 'scm_method': 'nonlinear', 'sample_size': 100, 'seed': None, 'node_names': None, 'noise_scale': 1, 'distribution_type': 'mlp'}\n",
      "Warning: n_edges is not exact due to gcastle implementation\n",
      "Duration of algorithm was 0.08sec\n"
     ]
    },
    {
     "name": "stderr",
     "output_type": "stream",
     "text": [
      "c:\\Users\\JanMarco\\MLProjects\\Masterthesis\\masterthesis\\mthesis\\lib\\site-packages\\causallearn\\graph\\ArrowConfusion.py:92: RuntimeWarning: invalid value encountered in double_scalars\n",
      "  return self.__arrowsTp / (self.__arrowsTp + self.__arrowsFp)\n",
      "2023-08-02 14:01:51,975 - c:\\Users\\JanMarco\\MLProjects\\Masterthesis\\masterthesis\\mthesis\\lib\\site-packages\\castle\\datasets\\simulator.py[line:270] - INFO: Finished synthetic dataset\n",
      "2023-08-02 14:01:52,128 - c:\\Users\\JanMarco\\MLProjects\\Masterthesis\\masterthesis\\mthesis\\lib\\site-packages\\castle\\datasets\\simulator.py[line:270] - INFO: Finished synthetic dataset\n"
     ]
    },
    {
     "name": "stdout",
     "output_type": "stream",
     "text": [
      "Running experiment with parameters: {'n_nodes': 10, 'n_edges': 21, 'dag_method': 'scale_free', 'n_clusters': 5, 'weight_range': [-1, 2], 'scm_method': 'nonlinear', 'sample_size': 100, 'seed': None, 'node_names': None, 'noise_scale': 1, 'distribution_type': 'mim'}\n",
      "Warning: n_edges is not exact due to gcastle implementation\n",
      "Duration of algorithm was 0.05sec\n",
      "Running experiment with parameters: {'n_nodes': 10, 'n_edges': 21, 'dag_method': 'scale_free', 'n_clusters': 5, 'weight_range': [-1, 2], 'scm_method': 'nonlinear', 'sample_size': 100, 'seed': None, 'node_names': None, 'noise_scale': 1, 'distribution_type': 'gp'}\n",
      "Warning: n_edges is not exact due to gcastle implementation\n",
      "Duration of algorithm was 0.03sec\n"
     ]
    },
    {
     "name": "stderr",
     "output_type": "stream",
     "text": [
      "2023-08-02 14:01:52,214 - c:\\Users\\JanMarco\\MLProjects\\Masterthesis\\masterthesis\\mthesis\\lib\\site-packages\\castle\\datasets\\simulator.py[line:270] - INFO: Finished synthetic dataset\n"
     ]
    },
    {
     "name": "stdout",
     "output_type": "stream",
     "text": [
      "Running experiment with parameters: {'n_nodes': 10, 'n_edges': 21, 'dag_method': 'hierarchical', 'n_clusters': 3, 'weight_range': [-1, 2], 'scm_method': 'nonlinear', 'sample_size': 100, 'seed': None, 'node_names': None, 'noise_scale': 1, 'distribution_type': 'mlp'}\n",
      "Warning: n_edges is not exact due to gcastle implementation\n"
     ]
    },
    {
     "name": "stderr",
     "output_type": "stream",
     "text": [
      "2023-08-02 14:01:52,581 - c:\\Users\\JanMarco\\MLProjects\\Masterthesis\\masterthesis\\mthesis\\lib\\site-packages\\castle\\datasets\\simulator.py[line:270] - INFO: Finished synthetic dataset\n"
     ]
    },
    {
     "name": "stdout",
     "output_type": "stream",
     "text": [
      "Duration of algorithm was 0.15sec\n",
      "Running experiment with parameters: {'n_nodes': 10, 'n_edges': 21, 'dag_method': 'hierarchical', 'n_clusters': 3, 'weight_range': [-1, 2], 'scm_method': 'nonlinear', 'sample_size': 100, 'seed': None, 'node_names': None, 'noise_scale': 1, 'distribution_type': 'mim'}\n",
      "Warning: n_edges is not exact due to gcastle implementation\n",
      "Duration of algorithm was 0.11sec\n"
     ]
    },
    {
     "name": "stderr",
     "output_type": "stream",
     "text": [
      "2023-08-02 14:01:53,109 - c:\\Users\\JanMarco\\MLProjects\\Masterthesis\\masterthesis\\mthesis\\lib\\site-packages\\castle\\datasets\\simulator.py[line:270] - INFO: Finished synthetic dataset\n"
     ]
    },
    {
     "name": "stdout",
     "output_type": "stream",
     "text": [
      "Running experiment with parameters: {'n_nodes': 10, 'n_edges': 21, 'dag_method': 'hierarchical', 'n_clusters': 3, 'weight_range': [-1, 2], 'scm_method': 'nonlinear', 'sample_size': 100, 'seed': None, 'node_names': None, 'noise_scale': 1, 'distribution_type': 'gp'}\n",
      "Warning: n_edges is not exact due to gcastle implementation\n"
     ]
    },
    {
     "name": "stderr",
     "output_type": "stream",
     "text": [
      "2023-08-02 14:01:53,330 - c:\\Users\\JanMarco\\MLProjects\\Masterthesis\\masterthesis\\mthesis\\lib\\site-packages\\castle\\datasets\\simulator.py[line:270] - INFO: Finished synthetic dataset\n"
     ]
    },
    {
     "name": "stdout",
     "output_type": "stream",
     "text": [
      "Duration of algorithm was 0.11sec\n",
      "Running experiment with parameters: {'n_nodes': 10, 'n_edges': 21, 'dag_method': 'hierarchical', 'n_clusters': 5, 'weight_range': [-1, 2], 'scm_method': 'nonlinear', 'sample_size': 100, 'seed': None, 'node_names': None, 'noise_scale': 1, 'distribution_type': 'mlp'}\n",
      "Warning: n_edges is not exact due to gcastle implementation\n"
     ]
    },
    {
     "name": "stderr",
     "output_type": "stream",
     "text": [
      "2023-08-02 14:01:53,655 - c:\\Users\\JanMarco\\MLProjects\\Masterthesis\\masterthesis\\mthesis\\lib\\site-packages\\castle\\datasets\\simulator.py[line:270] - INFO: Finished synthetic dataset\n"
     ]
    },
    {
     "name": "stdout",
     "output_type": "stream",
     "text": [
      "Duration of algorithm was 0.18sec\n",
      "Running experiment with parameters: {'n_nodes': 10, 'n_edges': 21, 'dag_method': 'hierarchical', 'n_clusters': 5, 'weight_range': [-1, 2], 'scm_method': 'nonlinear', 'sample_size': 100, 'seed': None, 'node_names': None, 'noise_scale': 1, 'distribution_type': 'mim'}\n",
      "Warning: n_edges is not exact due to gcastle implementation\n"
     ]
    },
    {
     "name": "stderr",
     "output_type": "stream",
     "text": [
      "2023-08-02 14:01:53,940 - c:\\Users\\JanMarco\\MLProjects\\Masterthesis\\masterthesis\\mthesis\\lib\\site-packages\\castle\\datasets\\simulator.py[line:270] - INFO: Finished synthetic dataset\n"
     ]
    },
    {
     "name": "stdout",
     "output_type": "stream",
     "text": [
      "Duration of algorithm was 0.11sec\n",
      "Running experiment with parameters: {'n_nodes': 10, 'n_edges': 21, 'dag_method': 'hierarchical', 'n_clusters': 5, 'weight_range': [-1, 2], 'scm_method': 'nonlinear', 'sample_size': 100, 'seed': None, 'node_names': None, 'noise_scale': 1, 'distribution_type': 'gp'}\n",
      "Warning: n_edges is not exact due to gcastle implementation\n",
      "Duration of algorithm was 0.05sec\n"
     ]
    }
   ],
   "source": [
    "experiment.run_gridsearch_experiment()"
   ]
  },
  {
   "cell_type": "code",
   "execution_count": 4,
   "metadata": {},
   "outputs": [
    {
     "data": {
      "text/plain": [
       "['gauss', 'exp', 'gumbel']"
      ]
     },
     "execution_count": 4,
     "metadata": {},
     "output_type": "execute_result"
    }
   ],
   "source": [
    "with open ('clustercausal/experiments/configs/cluster_pc.yaml', 'r') as file:\n",
    "    config = yaml.safe_load(file)\n",
    "num_experiments = 0\n",
    "for key in config.keys():\n",
    "    num_experiments += len(config[key])\n",
    "# print(f'Number of experiments: {num_experiments}')\n",
    "config['lin_distribution_type']"
   ]
  },
  {
   "cell_type": "code",
   "execution_count": 5,
   "metadata": {},
   "outputs": [
    {
     "ename": "NameError",
     "evalue": "name 'gridsearch_name' is not defined",
     "output_type": "error",
     "traceback": [
      "\u001b[1;31m---------------------------------------------------------------------------\u001b[0m",
      "\u001b[1;31mNameError\u001b[0m                                 Traceback (most recent call last)",
      "Cell \u001b[1;32mIn[5], line 2\u001b[0m\n\u001b[0;32m      1\u001b[0m \u001b[39mimport\u001b[39;00m \u001b[39mos\u001b[39;00m\n\u001b[1;32m----> 2\u001b[0m file_path \u001b[39m=\u001b[39m os\u001b[39m.\u001b[39mpath\u001b[39m.\u001b[39mjoin(gridsearch_name, folder_name)\n\u001b[0;32m      3\u001b[0m file_name \u001b[39m=\u001b[39m \u001b[39m\"\u001b[39m\u001b[39mbase_evaluation_results.yaml\u001b[39m\u001b[39m\"\u001b[39m\n\u001b[0;32m      4\u001b[0m file_path \u001b[39m=\u001b[39m os\u001b[39m.\u001b[39mpath\u001b[39m.\u001b[39mjoin(\n\u001b[0;32m      5\u001b[0m     \u001b[39m\"\u001b[39m\u001b[39mclustercausal\u001b[39m\u001b[39m\"\u001b[39m,\n\u001b[0;32m      6\u001b[0m     \u001b[39m\"\u001b[39m\u001b[39mexperiments\u001b[39m\u001b[39m\"\u001b[39m,\n\u001b[1;32m   (...)\u001b[0m\n\u001b[0;32m      9\u001b[0m     file_name,\n\u001b[0;32m     10\u001b[0m )\n",
      "\u001b[1;31mNameError\u001b[0m: name 'gridsearch_name' is not defined"
     ]
    }
   ],
   "source": [
    "import os\n",
    "file_path = os.path.join(gridsearch_name, folder_name)\n",
    "file_name = \"base_evaluation_results.yaml\"\n",
    "file_path = os.path.join(\n",
    "    \"clustercausal\",\n",
    "    \"experiments\",\n",
    "    \"results\",\n",
    "    file_path,\n",
    "    file_name,\n",
    ")"
   ]
  },
  {
   "cell_type": "code",
   "execution_count": null,
   "metadata": {},
   "outputs": [
    {
     "data": {
      "text/plain": [
       "'clustercausal\\\\experiments\\\\results'"
      ]
     },
     "execution_count": 12,
     "metadata": {},
     "output_type": "execute_result"
    }
   ],
   "source": [
    "file_path = os.path.join(\n",
    "            \"clustercausal\",\n",
    "            \"experiments\",\n",
    "            \"results\")\n",
    "file_path"
   ]
  },
  {
   "cell_type": "code",
   "execution_count": null,
   "metadata": {},
   "outputs": [],
   "source": [
    "import yaml\n",
    "\n",
    "# Your dictionary\n",
    "dict_data = {\n",
    "    \"name\": \"John\",\n",
    "    \"age\": 30,\n",
    "    \"city\": \"New York\"\n",
    "}\n",
    "\n",
    "# Saving dictionary as a YAML file\n",
    "with open('clustercausal/experiments/results/dict_data.yaml', 'w') as yaml_file:\n",
    "    yaml.dump(dict_data, yaml_file)\n"
   ]
  },
  {
   "cell_type": "code",
   "execution_count": null,
   "metadata": {},
   "outputs": [],
   "source": [
    "if not os.path.exists('clustercausal/experiments/results/test'):\n",
    "            os.makedirs('clustercausal/experiments/results/test')"
   ]
  },
  {
   "cell_type": "code",
   "execution_count": null,
   "metadata": {},
   "outputs": [
    {
     "data": {
      "text/plain": [
       "'ClusterPC_2023-08-02 12:50:11.962628'"
      ]
     },
     "execution_count": 33,
     "metadata": {},
     "output_type": "execute_result"
    }
   ],
   "source": [
    "import datetime\n",
    "'ClusterPC_'+str(datetime.datetime.now())"
   ]
  }
 ],
 "metadata": {
  "kernelspec": {
   "display_name": "mthesis",
   "language": "python",
   "name": "python3"
  },
  "language_info": {
   "codemirror_mode": {
    "name": "ipython",
    "version": 3
   },
   "file_extension": ".py",
   "mimetype": "text/x-python",
   "name": "python",
   "nbconvert_exporter": "python",
   "pygments_lexer": "ipython3",
   "version": "3.10.0"
  },
  "orig_nbformat": 4
 },
 "nbformat": 4,
 "nbformat_minor": 2
}
