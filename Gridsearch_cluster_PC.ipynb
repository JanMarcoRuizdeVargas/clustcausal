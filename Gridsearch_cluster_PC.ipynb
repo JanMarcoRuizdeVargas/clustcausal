{
 "cells": [
  {
   "cell_type": "markdown",
   "metadata": {},
   "source": [
    "### Notebook for testing gridsearch for cluster PC"
   ]
  },
  {
   "cell_type": "code",
   "execution_count": 97,
   "metadata": {},
   "outputs": [
    {
     "name": "stdout",
     "output_type": "stream",
     "text": [
      "The autoreload extension is already loaded. To reload it, use:\n",
      "  %reload_ext autoreload\n"
     ]
    }
   ],
   "source": [
    "%load_ext autoreload\n",
    "%autoreload 2\n",
    "from clustercausal.experiments.ExperimentRunner import ExperimentRunner\n",
    "import itertools\n",
    "import yaml\n",
    "import os\n",
    "import pickle\n",
    "import pandas as pd"
   ]
  },
  {
   "cell_type": "code",
   "execution_count": 98,
   "metadata": {},
   "outputs": [
    {
     "name": "stdout",
     "output_type": "stream",
     "text": [
      "Number of experiments: 144\n"
     ]
    }
   ],
   "source": [
    "config_path = 'clustercausal/experiments/configs/cluster_pc.yaml'\n",
    "experiment = ExperimentRunner(config_path)"
   ]
  },
  {
   "cell_type": "code",
   "execution_count": 99,
   "metadata": {},
   "outputs": [
    {
     "name": "stderr",
     "output_type": "stream",
     "text": [
      "2023-08-17 13:39:28,256 - c:\\Users\\JanMarco\\MLProjects\\Masterthesis\\masterthesis\\mthesis\\lib\\site-packages\\castle\\datasets\\simulator.py[line:270] - INFO: Finished synthetic dataset\n"
     ]
    },
    {
     "name": "stdout",
     "output_type": "stream",
     "text": [
      "Warning: n_edges is not exact due to gcastle implementation\n",
      "Duration of algorithm was 0.09sec\n",
      "Warning: n_edges is not exact due to gcastle implementation\n"
     ]
    },
    {
     "name": "stderr",
     "output_type": "stream",
     "text": [
      "2023-08-17 13:39:28,462 - c:\\Users\\JanMarco\\MLProjects\\Masterthesis\\masterthesis\\mthesis\\lib\\site-packages\\castle\\datasets\\simulator.py[line:270] - INFO: Finished synthetic dataset\n",
      "2023-08-17 13:39:28,669 - c:\\Users\\JanMarco\\MLProjects\\Masterthesis\\masterthesis\\mthesis\\lib\\site-packages\\castle\\datasets\\simulator.py[line:270] - INFO: Finished synthetic dataset\n"
     ]
    },
    {
     "name": "stdout",
     "output_type": "stream",
     "text": [
      "Duration of algorithm was 0.09sec\n",
      "Warning: n_edges is not exact due to gcastle implementation\n",
      "Duration of algorithm was 0.09sec\n"
     ]
    },
    {
     "name": "stderr",
     "output_type": "stream",
     "text": [
      "2023-08-17 13:39:28,927 - c:\\Users\\JanMarco\\MLProjects\\Masterthesis\\masterthesis\\mthesis\\lib\\site-packages\\castle\\datasets\\simulator.py[line:270] - INFO: Finished synthetic dataset\n",
      "2023-08-17 13:39:29,063 - c:\\Users\\JanMarco\\MLProjects\\Masterthesis\\masterthesis\\mthesis\\lib\\site-packages\\castle\\datasets\\simulator.py[line:270] - INFO: Finished synthetic dataset\n"
     ]
    },
    {
     "name": "stdout",
     "output_type": "stream",
     "text": [
      "Warning: n_edges is not exact due to gcastle implementation\n",
      "Duration of algorithm was 0.05sec\n",
      "Warning: n_edges is not exact due to gcastle implementation\n"
     ]
    },
    {
     "name": "stderr",
     "output_type": "stream",
     "text": [
      "2023-08-17 13:39:29,265 - c:\\Users\\JanMarco\\MLProjects\\Masterthesis\\masterthesis\\mthesis\\lib\\site-packages\\castle\\datasets\\simulator.py[line:270] - INFO: Finished synthetic dataset\n"
     ]
    },
    {
     "name": "stdout",
     "output_type": "stream",
     "text": [
      "Duration of algorithm was 0.06sec\n",
      "Warning: n_edges is not exact due to gcastle implementation\n",
      "Duration of algorithm was 0.08sec\n"
     ]
    },
    {
     "name": "stderr",
     "output_type": "stream",
     "text": [
      "c:\\Users\\JanMarco\\MLProjects\\Masterthesis\\masterthesis\\mthesis\\lib\\site-packages\\causallearn\\graph\\ArrowConfusion.py:92: RuntimeWarning: invalid value encountered in double_scalars\n",
      "  return self.__arrowsTp / (self.__arrowsTp + self.__arrowsFp)\n",
      "c:\\Users\\JanMarco\\MLProjects\\Masterthesis\\masterthesis\\mthesis\\lib\\site-packages\\causallearn\\graph\\ArrowConfusion.py:98: RuntimeWarning: invalid value encountered in double_scalars\n",
      "  return self.__arrowsTpCE / (self.__arrowsTpCE + self.__arrowsFpCE)\n",
      "2023-08-17 13:39:29,500 - c:\\Users\\JanMarco\\MLProjects\\Masterthesis\\masterthesis\\mthesis\\lib\\site-packages\\castle\\datasets\\simulator.py[line:270] - INFO: Finished synthetic dataset\n",
      "2023-08-17 13:39:29,621 - c:\\Users\\JanMarco\\MLProjects\\Masterthesis\\masterthesis\\mthesis\\lib\\site-packages\\castle\\datasets\\simulator.py[line:270] - INFO: Finished synthetic dataset\n"
     ]
    },
    {
     "name": "stdout",
     "output_type": "stream",
     "text": [
      "Warning: n_edges is not exact due to gcastle implementation\n",
      "Duration of algorithm was 0.04sec\n",
      "Warning: n_edges is not exact due to gcastle implementation\n"
     ]
    },
    {
     "name": "stderr",
     "output_type": "stream",
     "text": [
      "2023-08-17 13:39:29,849 - c:\\Users\\JanMarco\\MLProjects\\Masterthesis\\masterthesis\\mthesis\\lib\\site-packages\\castle\\datasets\\simulator.py[line:270] - INFO: Finished synthetic dataset\n"
     ]
    },
    {
     "name": "stdout",
     "output_type": "stream",
     "text": [
      "Duration of algorithm was 0.09sec\n",
      "Warning: n_edges is not exact due to gcastle implementation\n",
      "Duration of algorithm was 0.05sec\n"
     ]
    },
    {
     "name": "stderr",
     "output_type": "stream",
     "text": [
      "2023-08-17 13:39:30,003 - c:\\Users\\JanMarco\\MLProjects\\Masterthesis\\masterthesis\\mthesis\\lib\\site-packages\\castle\\datasets\\simulator.py[line:270] - INFO: Finished synthetic dataset\n",
      "2023-08-17 13:39:30,135 - c:\\Users\\JanMarco\\MLProjects\\Masterthesis\\masterthesis\\mthesis\\lib\\site-packages\\castle\\datasets\\simulator.py[line:270] - INFO: Finished synthetic dataset\n"
     ]
    },
    {
     "name": "stdout",
     "output_type": "stream",
     "text": [
      "Warning: n_edges is not exact due to gcastle implementation\n",
      "Duration of algorithm was 0.05sec\n",
      "Warning: n_edges is not exact due to gcastle implementation\n"
     ]
    },
    {
     "name": "stderr",
     "output_type": "stream",
     "text": [
      "2023-08-17 13:39:30,427 - c:\\Users\\JanMarco\\MLProjects\\Masterthesis\\masterthesis\\mthesis\\lib\\site-packages\\castle\\datasets\\simulator.py[line:270] - INFO: Finished synthetic dataset\n"
     ]
    },
    {
     "name": "stdout",
     "output_type": "stream",
     "text": [
      "Duration of algorithm was 0.09sec\n",
      "Warning: n_edges is not exact due to gcastle implementation\n"
     ]
    },
    {
     "name": "stderr",
     "output_type": "stream",
     "text": [
      "2023-08-17 13:39:30,633 - c:\\Users\\JanMarco\\MLProjects\\Masterthesis\\masterthesis\\mthesis\\lib\\site-packages\\castle\\datasets\\simulator.py[line:270] - INFO: Finished synthetic dataset\n"
     ]
    },
    {
     "name": "stdout",
     "output_type": "stream",
     "text": [
      "Duration of algorithm was 0.05sec\n",
      "Warning: n_edges is not exact due to gcastle implementation\n",
      "Duration of algorithm was 0.11sec\n",
      "Warning: n_edges is not exact due to gcastle implementation\n"
     ]
    },
    {
     "name": "stderr",
     "output_type": "stream",
     "text": [
      "2023-08-17 13:39:30,952 - c:\\Users\\JanMarco\\MLProjects\\Masterthesis\\masterthesis\\mthesis\\lib\\site-packages\\castle\\datasets\\simulator.py[line:270] - INFO: Finished synthetic dataset\n",
      "2023-08-17 13:39:31,255 - c:\\Users\\JanMarco\\MLProjects\\Masterthesis\\masterthesis\\mthesis\\lib\\site-packages\\castle\\datasets\\simulator.py[line:270] - INFO: Finished synthetic dataset\n"
     ]
    },
    {
     "name": "stdout",
     "output_type": "stream",
     "text": [
      "Duration of algorithm was 0.13sec\n",
      "Warning: n_edges is not exact due to gcastle implementation\n"
     ]
    },
    {
     "name": "stderr",
     "output_type": "stream",
     "text": [
      "2023-08-17 13:39:31,508 - c:\\Users\\JanMarco\\MLProjects\\Masterthesis\\masterthesis\\mthesis\\lib\\site-packages\\castle\\datasets\\simulator.py[line:270] - INFO: Finished synthetic dataset\n"
     ]
    },
    {
     "name": "stdout",
     "output_type": "stream",
     "text": [
      "Duration of algorithm was 0.09sec\n",
      "Warning: n_edges is not exact due to gcastle implementation\n"
     ]
    },
    {
     "name": "stderr",
     "output_type": "stream",
     "text": [
      "2023-08-17 13:39:31,733 - c:\\Users\\JanMarco\\MLProjects\\Masterthesis\\masterthesis\\mthesis\\lib\\site-packages\\castle\\datasets\\simulator.py[line:270] - INFO: Finished synthetic dataset\n"
     ]
    },
    {
     "name": "stdout",
     "output_type": "stream",
     "text": [
      "Duration of algorithm was 0.09sec\n",
      "Warning: n_edges is not exact due to gcastle implementation\n"
     ]
    },
    {
     "name": "stderr",
     "output_type": "stream",
     "text": [
      "2023-08-17 13:39:31,988 - c:\\Users\\JanMarco\\MLProjects\\Masterthesis\\masterthesis\\mthesis\\lib\\site-packages\\castle\\datasets\\simulator.py[line:270] - INFO: Finished synthetic dataset\n"
     ]
    },
    {
     "name": "stdout",
     "output_type": "stream",
     "text": [
      "Duration of algorithm was 0.11sec\n",
      "Warning: n_edges is not exact due to gcastle implementation\n"
     ]
    },
    {
     "name": "stderr",
     "output_type": "stream",
     "text": [
      "2023-08-17 13:39:32,266 - c:\\Users\\JanMarco\\MLProjects\\Masterthesis\\masterthesis\\mthesis\\lib\\site-packages\\castle\\datasets\\simulator.py[line:270] - INFO: Finished synthetic dataset\n"
     ]
    },
    {
     "name": "stdout",
     "output_type": "stream",
     "text": [
      "Duration of algorithm was 0.11sec\n",
      "Warning: n_edges is not exact due to gcastle implementation\n"
     ]
    },
    {
     "name": "stderr",
     "output_type": "stream",
     "text": [
      "2023-08-17 13:39:32,652 - c:\\Users\\JanMarco\\MLProjects\\Masterthesis\\masterthesis\\mthesis\\lib\\site-packages\\castle\\datasets\\simulator.py[line:270] - INFO: Finished synthetic dataset\n"
     ]
    },
    {
     "name": "stdout",
     "output_type": "stream",
     "text": [
      "Duration of algorithm was 0.19sec\n",
      "Warning: n_edges is not exact due to gcastle implementation\n"
     ]
    },
    {
     "name": "stderr",
     "output_type": "stream",
     "text": [
      "2023-08-17 13:39:32,911 - c:\\Users\\JanMarco\\MLProjects\\Masterthesis\\masterthesis\\mthesis\\lib\\site-packages\\castle\\datasets\\simulator.py[line:270] - INFO: Finished synthetic dataset\n"
     ]
    },
    {
     "name": "stdout",
     "output_type": "stream",
     "text": [
      "Duration of algorithm was 0.10sec\n",
      "Warning: n_edges is not exact due to gcastle implementation\n",
      "Duration of algorithm was 0.08sec\n"
     ]
    },
    {
     "name": "stderr",
     "output_type": "stream",
     "text": [
      "2023-08-17 13:39:33,123 - c:\\Users\\JanMarco\\MLProjects\\Masterthesis\\masterthesis\\mthesis\\lib\\site-packages\\castle\\datasets\\simulator.py[line:270] - INFO: Finished synthetic dataset\n"
     ]
    },
    {
     "name": "stdout",
     "output_type": "stream",
     "text": [
      "Warning: n_edges is not exact due to gcastle implementation\n",
      "Duration of algorithm was 0.10sec\n"
     ]
    },
    {
     "name": "stderr",
     "output_type": "stream",
     "text": [
      "2023-08-17 13:39:33,386 - c:\\Users\\JanMarco\\MLProjects\\Masterthesis\\masterthesis\\mthesis\\lib\\site-packages\\castle\\datasets\\simulator.py[line:270] - INFO: Finished synthetic dataset\n"
     ]
    },
    {
     "name": "stdout",
     "output_type": "stream",
     "text": [
      "Warning: n_edges is not exact due to gcastle implementation\n",
      "Duration of algorithm was 0.13sec\n"
     ]
    },
    {
     "name": "stderr",
     "output_type": "stream",
     "text": [
      "2023-08-17 13:39:33,716 - c:\\Users\\JanMarco\\MLProjects\\Masterthesis\\masterthesis\\mthesis\\lib\\site-packages\\castle\\datasets\\simulator.py[line:270] - INFO: Finished synthetic dataset\n"
     ]
    },
    {
     "name": "stdout",
     "output_type": "stream",
     "text": [
      "Warning: n_edges is not exact due to gcastle implementation\n",
      "Duration of algorithm was 0.09sec\n"
     ]
    },
    {
     "name": "stderr",
     "output_type": "stream",
     "text": [
      "2023-08-17 13:39:33,956 - c:\\Users\\JanMarco\\MLProjects\\Masterthesis\\masterthesis\\mthesis\\lib\\site-packages\\castle\\datasets\\simulator.py[line:270] - INFO: Finished synthetic dataset\n"
     ]
    },
    {
     "name": "stdout",
     "output_type": "stream",
     "text": [
      "Warning: n_edges is not exact due to gcastle implementation\n",
      "Duration of algorithm was 0.13sec\n"
     ]
    },
    {
     "name": "stderr",
     "output_type": "stream",
     "text": [
      "2023-08-17 13:39:34,250 - c:\\Users\\JanMarco\\MLProjects\\Masterthesis\\masterthesis\\mthesis\\lib\\site-packages\\castle\\datasets\\simulator.py[line:270] - INFO: Finished synthetic dataset\n"
     ]
    },
    {
     "name": "stdout",
     "output_type": "stream",
     "text": [
      "Warning: n_edges is not exact due to gcastle implementation\n",
      "Duration of algorithm was 0.09sec\n"
     ]
    },
    {
     "name": "stderr",
     "output_type": "stream",
     "text": [
      "2023-08-17 13:39:34,497 - c:\\Users\\JanMarco\\MLProjects\\Masterthesis\\masterthesis\\mthesis\\lib\\site-packages\\castle\\datasets\\simulator.py[line:270] - INFO: Finished synthetic dataset\n"
     ]
    },
    {
     "name": "stdout",
     "output_type": "stream",
     "text": [
      "Warning: n_edges is not exact due to gcastle implementation\n",
      "Duration of algorithm was 0.08sec\n"
     ]
    },
    {
     "name": "stderr",
     "output_type": "stream",
     "text": [
      "2023-08-17 13:39:34,712 - c:\\Users\\JanMarco\\MLProjects\\Masterthesis\\masterthesis\\mthesis\\lib\\site-packages\\castle\\datasets\\simulator.py[line:270] - INFO: Finished synthetic dataset\n"
     ]
    },
    {
     "name": "stdout",
     "output_type": "stream",
     "text": [
      "Warning: n_edges is not exact due to gcastle implementation\n",
      "Duration of algorithm was 0.13sec\n"
     ]
    },
    {
     "name": "stderr",
     "output_type": "stream",
     "text": [
      "2023-08-17 13:39:34,979 - c:\\Users\\JanMarco\\MLProjects\\Masterthesis\\masterthesis\\mthesis\\lib\\site-packages\\castle\\datasets\\simulator.py[line:270] - INFO: Finished synthetic dataset\n",
      "2023-08-17 13:39:35,172 - c:\\Users\\JanMarco\\MLProjects\\Masterthesis\\masterthesis\\mthesis\\lib\\site-packages\\castle\\datasets\\simulator.py[line:270] - INFO: Finished synthetic dataset\n"
     ]
    },
    {
     "name": "stdout",
     "output_type": "stream",
     "text": [
      "Warning: n_edges is not exact due to gcastle implementation\n",
      "Duration of algorithm was 0.07sec\n",
      "Warning: n_edges is not exact due to gcastle implementation\n"
     ]
    },
    {
     "name": "stderr",
     "output_type": "stream",
     "text": [
      "2023-08-17 13:39:35,442 - c:\\Users\\JanMarco\\MLProjects\\Masterthesis\\masterthesis\\mthesis\\lib\\site-packages\\castle\\datasets\\simulator.py[line:270] - INFO: Finished synthetic dataset\n"
     ]
    },
    {
     "name": "stdout",
     "output_type": "stream",
     "text": [
      "Duration of algorithm was 0.09sec\n",
      "Warning: n_edges is not exact due to gcastle implementation\n"
     ]
    },
    {
     "name": "stderr",
     "output_type": "stream",
     "text": [
      "2023-08-17 13:39:35,588 - c:\\Users\\JanMarco\\MLProjects\\Masterthesis\\masterthesis\\mthesis\\lib\\site-packages\\castle\\datasets\\simulator.py[line:270] - INFO: Finished synthetic dataset\n"
     ]
    },
    {
     "name": "stdout",
     "output_type": "stream",
     "text": [
      "Duration of algorithm was 0.06sec\n",
      "Warning: n_edges is not exact due to gcastle implementation\n"
     ]
    },
    {
     "name": "stderr",
     "output_type": "stream",
     "text": [
      "2023-08-17 13:39:35,871 - c:\\Users\\JanMarco\\MLProjects\\Masterthesis\\masterthesis\\mthesis\\lib\\site-packages\\castle\\datasets\\simulator.py[line:270] - INFO: Finished synthetic dataset\n"
     ]
    },
    {
     "name": "stdout",
     "output_type": "stream",
     "text": [
      "Duration of algorithm was 0.12sec\n",
      "Warning: n_edges is not exact due to gcastle implementation\n"
     ]
    },
    {
     "name": "stderr",
     "output_type": "stream",
     "text": [
      "2023-08-17 13:39:36,109 - c:\\Users\\JanMarco\\MLProjects\\Masterthesis\\masterthesis\\mthesis\\lib\\site-packages\\castle\\datasets\\simulator.py[line:270] - INFO: Finished synthetic dataset\n"
     ]
    },
    {
     "name": "stdout",
     "output_type": "stream",
     "text": [
      "Duration of algorithm was 0.09sec\n",
      "Warning: n_edges is not exact due to gcastle implementation\n"
     ]
    },
    {
     "name": "stderr",
     "output_type": "stream",
     "text": [
      "2023-08-17 13:39:36,336 - c:\\Users\\JanMarco\\MLProjects\\Masterthesis\\masterthesis\\mthesis\\lib\\site-packages\\castle\\datasets\\simulator.py[line:270] - INFO: Finished synthetic dataset\n"
     ]
    },
    {
     "name": "stdout",
     "output_type": "stream",
     "text": [
      "Duration of algorithm was 0.09sec\n",
      "Warning: n_edges is not exact due to gcastle implementation\n",
      "Duration of algorithm was 0.08sec\n"
     ]
    },
    {
     "name": "stderr",
     "output_type": "stream",
     "text": [
      "2023-08-17 13:39:36,547 - c:\\Users\\JanMarco\\MLProjects\\Masterthesis\\masterthesis\\mthesis\\lib\\site-packages\\castle\\datasets\\simulator.py[line:270] - INFO: Finished synthetic dataset\n"
     ]
    },
    {
     "name": "stdout",
     "output_type": "stream",
     "text": [
      "Warning: n_edges is not exact due to gcastle implementation\n",
      "Duration of algorithm was 0.09sec\n"
     ]
    },
    {
     "name": "stderr",
     "output_type": "stream",
     "text": [
      "2023-08-17 13:39:36,790 - c:\\Users\\JanMarco\\MLProjects\\Masterthesis\\masterthesis\\mthesis\\lib\\site-packages\\castle\\datasets\\simulator.py[line:270] - INFO: Finished synthetic dataset\n"
     ]
    },
    {
     "name": "stdout",
     "output_type": "stream",
     "text": [
      "Warning: n_edges is not exact due to gcastle implementation\n",
      "Duration of algorithm was 0.28sec\n"
     ]
    },
    {
     "name": "stderr",
     "output_type": "stream",
     "text": [
      "2023-08-17 13:39:37,417 - c:\\Users\\JanMarco\\MLProjects\\Masterthesis\\masterthesis\\mthesis\\lib\\site-packages\\castle\\datasets\\simulator.py[line:270] - INFO: Finished synthetic dataset\n"
     ]
    },
    {
     "name": "stdout",
     "output_type": "stream",
     "text": [
      "Warning: n_edges is not exact due to gcastle implementation\n",
      "Duration of algorithm was 0.19sec\n"
     ]
    },
    {
     "name": "stderr",
     "output_type": "stream",
     "text": [
      "2023-08-17 13:39:37,830 - c:\\Users\\JanMarco\\MLProjects\\Masterthesis\\masterthesis\\mthesis\\lib\\site-packages\\castle\\datasets\\simulator.py[line:270] - INFO: Finished synthetic dataset\n"
     ]
    },
    {
     "name": "stdout",
     "output_type": "stream",
     "text": [
      "Warning: n_edges is not exact due to gcastle implementation\n",
      "Duration of algorithm was 0.18sec\n"
     ]
    },
    {
     "name": "stderr",
     "output_type": "stream",
     "text": [
      "2023-08-17 13:39:38,242 - c:\\Users\\JanMarco\\MLProjects\\Masterthesis\\masterthesis\\mthesis\\lib\\site-packages\\castle\\datasets\\simulator.py[line:270] - INFO: Finished synthetic dataset\n"
     ]
    },
    {
     "name": "stdout",
     "output_type": "stream",
     "text": [
      "Warning: n_edges is not exact due to gcastle implementation\n",
      "Duration of algorithm was 0.16sec\n"
     ]
    },
    {
     "name": "stderr",
     "output_type": "stream",
     "text": [
      "2023-08-17 13:39:38,625 - c:\\Users\\JanMarco\\MLProjects\\Masterthesis\\masterthesis\\mthesis\\lib\\site-packages\\castle\\datasets\\simulator.py[line:270] - INFO: Finished synthetic dataset\n"
     ]
    },
    {
     "name": "stdout",
     "output_type": "stream",
     "text": [
      "Warning: n_edges is not exact due to gcastle implementation\n",
      "Duration of algorithm was 0.19sec\n"
     ]
    },
    {
     "name": "stderr",
     "output_type": "stream",
     "text": [
      "2023-08-17 13:39:39,016 - c:\\Users\\JanMarco\\MLProjects\\Masterthesis\\masterthesis\\mthesis\\lib\\site-packages\\castle\\datasets\\simulator.py[line:270] - INFO: Finished synthetic dataset\n"
     ]
    },
    {
     "name": "stdout",
     "output_type": "stream",
     "text": [
      "Warning: n_edges is not exact due to gcastle implementation\n",
      "Duration of algorithm was 0.17sec\n"
     ]
    },
    {
     "name": "stderr",
     "output_type": "stream",
     "text": [
      "2023-08-17 13:39:39,392 - c:\\Users\\JanMarco\\MLProjects\\Masterthesis\\masterthesis\\mthesis\\lib\\site-packages\\castle\\datasets\\simulator.py[line:270] - INFO: Finished synthetic dataset\n"
     ]
    },
    {
     "name": "stdout",
     "output_type": "stream",
     "text": [
      "Warning: n_edges is not exact due to gcastle implementation\n",
      "Duration of algorithm was 0.20sec\n"
     ]
    },
    {
     "name": "stderr",
     "output_type": "stream",
     "text": [
      "2023-08-17 13:39:39,813 - c:\\Users\\JanMarco\\MLProjects\\Masterthesis\\masterthesis\\mthesis\\lib\\site-packages\\castle\\datasets\\simulator.py[line:270] - INFO: Finished synthetic dataset\n"
     ]
    },
    {
     "name": "stdout",
     "output_type": "stream",
     "text": [
      "Warning: n_edges is not exact due to gcastle implementation\n",
      "Duration of algorithm was 0.20sec\n"
     ]
    },
    {
     "name": "stderr",
     "output_type": "stream",
     "text": [
      "2023-08-17 13:39:40,477 - c:\\Users\\JanMarco\\MLProjects\\Masterthesis\\masterthesis\\mthesis\\lib\\site-packages\\castle\\datasets\\simulator.py[line:270] - INFO: Finished synthetic dataset\n"
     ]
    },
    {
     "name": "stdout",
     "output_type": "stream",
     "text": [
      "Warning: n_edges is not exact due to gcastle implementation\n",
      "Duration of algorithm was 0.44sec\n"
     ]
    },
    {
     "name": "stderr",
     "output_type": "stream",
     "text": [
      "2023-08-17 13:39:41,233 - c:\\Users\\JanMarco\\MLProjects\\Masterthesis\\masterthesis\\mthesis\\lib\\site-packages\\castle\\datasets\\simulator.py[line:270] - INFO: Finished synthetic dataset\n"
     ]
    },
    {
     "name": "stdout",
     "output_type": "stream",
     "text": [
      "Warning: n_edges is not exact due to gcastle implementation\n",
      "Duration of algorithm was 0.37sec\n"
     ]
    },
    {
     "name": "stderr",
     "output_type": "stream",
     "text": [
      "2023-08-17 13:39:41,885 - c:\\Users\\JanMarco\\MLProjects\\Masterthesis\\masterthesis\\mthesis\\lib\\site-packages\\castle\\datasets\\simulator.py[line:270] - INFO: Finished synthetic dataset\n"
     ]
    },
    {
     "name": "stdout",
     "output_type": "stream",
     "text": [
      "Warning: n_edges is not exact due to gcastle implementation\n",
      "Duration of algorithm was 0.17sec\n"
     ]
    },
    {
     "name": "stderr",
     "output_type": "stream",
     "text": [
      "2023-08-17 13:39:42,342 - c:\\Users\\JanMarco\\MLProjects\\Masterthesis\\masterthesis\\mthesis\\lib\\site-packages\\castle\\datasets\\simulator.py[line:270] - INFO: Finished synthetic dataset\n"
     ]
    },
    {
     "name": "stdout",
     "output_type": "stream",
     "text": [
      "Warning: n_edges is not exact due to gcastle implementation\n",
      "Duration of algorithm was 0.19sec\n"
     ]
    },
    {
     "name": "stderr",
     "output_type": "stream",
     "text": [
      "2023-08-17 13:39:42,937 - c:\\Users\\JanMarco\\MLProjects\\Masterthesis\\masterthesis\\mthesis\\lib\\site-packages\\castle\\datasets\\simulator.py[line:270] - INFO: Finished synthetic dataset\n"
     ]
    },
    {
     "name": "stdout",
     "output_type": "stream",
     "text": [
      "Warning: n_edges is not exact due to gcastle implementation\n",
      "Duration of algorithm was 0.61sec\n"
     ]
    },
    {
     "name": "stderr",
     "output_type": "stream",
     "text": [
      "2023-08-17 13:39:44,450 - c:\\Users\\JanMarco\\MLProjects\\Masterthesis\\masterthesis\\mthesis\\lib\\site-packages\\castle\\datasets\\simulator.py[line:270] - INFO: Finished synthetic dataset\n"
     ]
    },
    {
     "name": "stdout",
     "output_type": "stream",
     "text": [
      "Warning: n_edges is not exact due to gcastle implementation\n",
      "Duration of algorithm was 0.86sec\n"
     ]
    },
    {
     "name": "stderr",
     "output_type": "stream",
     "text": [
      "2023-08-17 13:39:46,445 - c:\\Users\\JanMarco\\MLProjects\\Masterthesis\\masterthesis\\mthesis\\lib\\site-packages\\castle\\datasets\\simulator.py[line:270] - INFO: Finished synthetic dataset\n"
     ]
    },
    {
     "name": "stdout",
     "output_type": "stream",
     "text": [
      "Warning: n_edges is not exact due to gcastle implementation\n",
      "Duration of algorithm was 0.53sec\n"
     ]
    },
    {
     "name": "stderr",
     "output_type": "stream",
     "text": [
      "2023-08-17 13:39:47,810 - c:\\Users\\JanMarco\\MLProjects\\Masterthesis\\masterthesis\\mthesis\\lib\\site-packages\\castle\\datasets\\simulator.py[line:270] - INFO: Finished synthetic dataset\n"
     ]
    },
    {
     "name": "stdout",
     "output_type": "stream",
     "text": [
      "Warning: n_edges is not exact due to gcastle implementation\n",
      "Duration of algorithm was 0.59sec\n"
     ]
    },
    {
     "name": "stderr",
     "output_type": "stream",
     "text": [
      "2023-08-17 13:39:49,345 - c:\\Users\\JanMarco\\MLProjects\\Masterthesis\\masterthesis\\mthesis\\lib\\site-packages\\castle\\datasets\\simulator.py[line:270] - INFO: Finished synthetic dataset\n"
     ]
    },
    {
     "name": "stdout",
     "output_type": "stream",
     "text": [
      "Warning: n_edges is not exact due to gcastle implementation\n",
      "Duration of algorithm was 0.64sec\n"
     ]
    },
    {
     "name": "stderr",
     "output_type": "stream",
     "text": [
      "2023-08-17 13:39:50,935 - c:\\Users\\JanMarco\\MLProjects\\Masterthesis\\masterthesis\\mthesis\\lib\\site-packages\\castle\\datasets\\simulator.py[line:270] - INFO: Finished synthetic dataset\n"
     ]
    },
    {
     "name": "stdout",
     "output_type": "stream",
     "text": [
      "Warning: n_edges is not exact due to gcastle implementation\n",
      "Duration of algorithm was 0.59sec\n"
     ]
    },
    {
     "name": "stderr",
     "output_type": "stream",
     "text": [
      "2023-08-17 13:39:52,217 - c:\\Users\\JanMarco\\MLProjects\\Masterthesis\\masterthesis\\mthesis\\lib\\site-packages\\castle\\datasets\\simulator.py[line:270] - INFO: Finished synthetic dataset\n"
     ]
    },
    {
     "name": "stdout",
     "output_type": "stream",
     "text": [
      "Warning: n_edges is not exact due to gcastle implementation\n",
      "Duration of algorithm was 0.46sec\n"
     ]
    },
    {
     "name": "stderr",
     "output_type": "stream",
     "text": [
      "2023-08-17 13:39:53,323 - c:\\Users\\JanMarco\\MLProjects\\Masterthesis\\masterthesis\\mthesis\\lib\\site-packages\\castle\\datasets\\simulator.py[line:270] - INFO: Finished synthetic dataset\n"
     ]
    },
    {
     "name": "stdout",
     "output_type": "stream",
     "text": [
      "Warning: n_edges is not exact due to gcastle implementation\n",
      "Duration of algorithm was 0.30sec\n"
     ]
    },
    {
     "name": "stderr",
     "output_type": "stream",
     "text": [
      "2023-08-17 13:39:53,884 - c:\\Users\\JanMarco\\MLProjects\\Masterthesis\\masterthesis\\mthesis\\lib\\site-packages\\castle\\datasets\\simulator.py[line:270] - INFO: Finished synthetic dataset\n"
     ]
    },
    {
     "name": "stdout",
     "output_type": "stream",
     "text": [
      "Warning: n_edges is not exact due to gcastle implementation\n",
      "Duration of algorithm was 0.18sec\n"
     ]
    },
    {
     "name": "stderr",
     "output_type": "stream",
     "text": [
      "2023-08-17 13:39:54,217 - c:\\Users\\JanMarco\\MLProjects\\Masterthesis\\masterthesis\\mthesis\\lib\\site-packages\\castle\\datasets\\simulator.py[line:270] - INFO: Finished synthetic dataset\n"
     ]
    },
    {
     "name": "stdout",
     "output_type": "stream",
     "text": [
      "Warning: n_edges is not exact due to gcastle implementation\n",
      "Duration of algorithm was 0.32sec\n"
     ]
    },
    {
     "name": "stderr",
     "output_type": "stream",
     "text": [
      "2023-08-17 13:39:54,999 - c:\\Users\\JanMarco\\MLProjects\\Masterthesis\\masterthesis\\mthesis\\lib\\site-packages\\castle\\datasets\\simulator.py[line:270] - INFO: Finished synthetic dataset\n"
     ]
    },
    {
     "name": "stdout",
     "output_type": "stream",
     "text": [
      "Warning: n_edges is not exact due to gcastle implementation\n",
      "Duration of algorithm was 0.27sec\n"
     ]
    },
    {
     "name": "stderr",
     "output_type": "stream",
     "text": [
      "2023-08-17 13:39:55,699 - c:\\Users\\JanMarco\\MLProjects\\Masterthesis\\masterthesis\\mthesis\\lib\\site-packages\\castle\\datasets\\simulator.py[line:270] - INFO: Finished synthetic dataset\n"
     ]
    },
    {
     "name": "stdout",
     "output_type": "stream",
     "text": [
      "Warning: n_edges is not exact due to gcastle implementation\n",
      "Duration of algorithm was 0.20sec\n"
     ]
    },
    {
     "name": "stderr",
     "output_type": "stream",
     "text": [
      "2023-08-17 13:39:56,182 - c:\\Users\\JanMarco\\MLProjects\\Masterthesis\\masterthesis\\mthesis\\lib\\site-packages\\castle\\datasets\\simulator.py[line:270] - INFO: Finished synthetic dataset\n"
     ]
    },
    {
     "name": "stdout",
     "output_type": "stream",
     "text": [
      "Warning: n_edges is not exact due to gcastle implementation\n",
      "Duration of algorithm was 0.52sec\n"
     ]
    },
    {
     "name": "stderr",
     "output_type": "stream",
     "text": [
      "2023-08-17 13:39:57,258 - c:\\Users\\JanMarco\\MLProjects\\Masterthesis\\masterthesis\\mthesis\\lib\\site-packages\\castle\\datasets\\simulator.py[line:270] - INFO: Finished synthetic dataset\n"
     ]
    },
    {
     "name": "stdout",
     "output_type": "stream",
     "text": [
      "Warning: n_edges is not exact due to gcastle implementation\n",
      "Duration of algorithm was 0.34sec\n"
     ]
    },
    {
     "name": "stderr",
     "output_type": "stream",
     "text": [
      "2023-08-17 13:39:57,991 - c:\\Users\\JanMarco\\MLProjects\\Masterthesis\\masterthesis\\mthesis\\lib\\site-packages\\castle\\datasets\\simulator.py[line:270] - INFO: Finished synthetic dataset\n"
     ]
    },
    {
     "name": "stdout",
     "output_type": "stream",
     "text": [
      "Warning: n_edges is not exact due to gcastle implementation\n",
      "Duration of algorithm was 0.34sec\n"
     ]
    },
    {
     "name": "stderr",
     "output_type": "stream",
     "text": [
      "2023-08-17 13:39:58,720 - c:\\Users\\JanMarco\\MLProjects\\Masterthesis\\masterthesis\\mthesis\\lib\\site-packages\\castle\\datasets\\simulator.py[line:270] - INFO: Finished synthetic dataset\n"
     ]
    },
    {
     "name": "stdout",
     "output_type": "stream",
     "text": [
      "Warning: n_edges is not exact due to gcastle implementation\n",
      "Duration of algorithm was 0.38sec\n"
     ]
    },
    {
     "name": "stderr",
     "output_type": "stream",
     "text": [
      "2023-08-17 13:39:59,692 - c:\\Users\\JanMarco\\MLProjects\\Masterthesis\\masterthesis\\mthesis\\lib\\site-packages\\castle\\datasets\\simulator.py[line:270] - INFO: Finished synthetic dataset\n"
     ]
    },
    {
     "name": "stdout",
     "output_type": "stream",
     "text": [
      "Warning: n_edges is not exact due to gcastle implementation\n",
      "Duration of algorithm was 0.37sec\n"
     ]
    },
    {
     "name": "stderr",
     "output_type": "stream",
     "text": [
      "2023-08-17 13:40:00,457 - c:\\Users\\JanMarco\\MLProjects\\Masterthesis\\masterthesis\\mthesis\\lib\\site-packages\\castle\\datasets\\simulator.py[line:270] - INFO: Finished synthetic dataset\n"
     ]
    },
    {
     "name": "stdout",
     "output_type": "stream",
     "text": [
      "Warning: n_edges is not exact due to gcastle implementation\n",
      "Duration of algorithm was 0.38sec\n"
     ]
    },
    {
     "name": "stderr",
     "output_type": "stream",
     "text": [
      "2023-08-17 13:40:01,387 - c:\\Users\\JanMarco\\MLProjects\\Masterthesis\\masterthesis\\mthesis\\lib\\site-packages\\castle\\datasets\\simulator.py[line:270] - INFO: Finished synthetic dataset\n"
     ]
    },
    {
     "name": "stdout",
     "output_type": "stream",
     "text": [
      "Warning: n_edges is not exact due to gcastle implementation\n",
      "Duration of algorithm was 0.74sec\n"
     ]
    },
    {
     "name": "stderr",
     "output_type": "stream",
     "text": [
      "2023-08-17 13:40:03,206 - c:\\Users\\JanMarco\\MLProjects\\Masterthesis\\masterthesis\\mthesis\\lib\\site-packages\\castle\\datasets\\simulator.py[line:270] - INFO: Finished synthetic dataset\n"
     ]
    },
    {
     "name": "stdout",
     "output_type": "stream",
     "text": [
      "Warning: n_edges is not exact due to gcastle implementation\n",
      "Duration of algorithm was 0.54sec\n"
     ]
    },
    {
     "name": "stderr",
     "output_type": "stream",
     "text": [
      "2023-08-17 13:40:04,352 - c:\\Users\\JanMarco\\MLProjects\\Masterthesis\\masterthesis\\mthesis\\lib\\site-packages\\castle\\datasets\\simulator.py[line:270] - INFO: Finished synthetic dataset\n"
     ]
    },
    {
     "name": "stdout",
     "output_type": "stream",
     "text": [
      "Warning: n_edges is not exact due to gcastle implementation\n",
      "Duration of algorithm was 0.58sec\n"
     ]
    },
    {
     "name": "stderr",
     "output_type": "stream",
     "text": [
      "2023-08-17 13:40:05,485 - c:\\Users\\JanMarco\\MLProjects\\Masterthesis\\masterthesis\\mthesis\\lib\\site-packages\\castle\\datasets\\simulator.py[line:270] - INFO: Finished synthetic dataset\n"
     ]
    },
    {
     "name": "stdout",
     "output_type": "stream",
     "text": [
      "Warning: n_edges is not exact due to gcastle implementation\n",
      "Duration of algorithm was 0.47sec\n"
     ]
    },
    {
     "name": "stderr",
     "output_type": "stream",
     "text": [
      "2023-08-17 13:40:06,937 - c:\\Users\\JanMarco\\MLProjects\\Masterthesis\\masterthesis\\mthesis\\lib\\site-packages\\castle\\datasets\\simulator.py[line:270] - INFO: Finished synthetic dataset\n"
     ]
    },
    {
     "name": "stdout",
     "output_type": "stream",
     "text": [
      "Warning: n_edges is not exact due to gcastle implementation\n",
      "Duration of algorithm was 0.52sec\n"
     ]
    },
    {
     "name": "stderr",
     "output_type": "stream",
     "text": [
      "2023-08-17 13:40:08,303 - c:\\Users\\JanMarco\\MLProjects\\Masterthesis\\masterthesis\\mthesis\\lib\\site-packages\\castle\\datasets\\simulator.py[line:270] - INFO: Finished synthetic dataset\n"
     ]
    },
    {
     "name": "stdout",
     "output_type": "stream",
     "text": [
      "Warning: n_edges is not exact due to gcastle implementation\n",
      "Duration of algorithm was 0.55sec\n"
     ]
    },
    {
     "name": "stderr",
     "output_type": "stream",
     "text": [
      "2023-08-17 13:40:09,573 - c:\\Users\\JanMarco\\MLProjects\\Masterthesis\\masterthesis\\mthesis\\lib\\site-packages\\castle\\datasets\\simulator.py[line:270] - INFO: Finished synthetic dataset\n",
      "2023-08-17 13:40:09,733 - c:\\Users\\JanMarco\\MLProjects\\Masterthesis\\masterthesis\\mthesis\\lib\\site-packages\\castle\\datasets\\simulator.py[line:270] - INFO: Finished synthetic dataset\n"
     ]
    },
    {
     "name": "stdout",
     "output_type": "stream",
     "text": [
      "Warning: n_edges is not exact due to gcastle implementation\n",
      "Duration of algorithm was 0.06sec\n",
      "Warning: n_edges is not exact due to gcastle implementation\n",
      "Duration of algorithm was 0.04sec\n"
     ]
    },
    {
     "name": "stderr",
     "output_type": "stream",
     "text": [
      "2023-08-17 13:40:09,897 - c:\\Users\\JanMarco\\MLProjects\\Masterthesis\\masterthesis\\mthesis\\lib\\site-packages\\castle\\datasets\\simulator.py[line:270] - INFO: Finished synthetic dataset\n",
      "2023-08-17 13:40:10,002 - c:\\Users\\JanMarco\\MLProjects\\Masterthesis\\masterthesis\\mthesis\\lib\\site-packages\\castle\\datasets\\simulator.py[line:270] - INFO: Finished synthetic dataset\n"
     ]
    },
    {
     "name": "stdout",
     "output_type": "stream",
     "text": [
      "Warning: n_edges is not exact due to gcastle implementation\n",
      "Duration of algorithm was 0.04sec\n",
      "Warning: n_edges is not exact due to gcastle implementation\n"
     ]
    },
    {
     "name": "stderr",
     "output_type": "stream",
     "text": [
      "2023-08-17 13:40:10,105 - c:\\Users\\JanMarco\\MLProjects\\Masterthesis\\masterthesis\\mthesis\\lib\\site-packages\\castle\\datasets\\simulator.py[line:270] - INFO: Finished synthetic dataset\n"
     ]
    },
    {
     "name": "stdout",
     "output_type": "stream",
     "text": [
      "Duration of algorithm was 0.04sec\n",
      "Warning: n_edges is not exact due to gcastle implementation\n",
      "Duration of algorithm was 0.04sec\n",
      "Warning: n_edges is not exact due to gcastle implementation\n"
     ]
    },
    {
     "name": "stderr",
     "output_type": "stream",
     "text": [
      "2023-08-17 13:40:10,275 - c:\\Users\\JanMarco\\MLProjects\\Masterthesis\\masterthesis\\mthesis\\lib\\site-packages\\castle\\datasets\\simulator.py[line:270] - INFO: Finished synthetic dataset\n",
      "c:\\Users\\JanMarco\\MLProjects\\Masterthesis\\masterthesis\\clustercausal\\experiments\\Evaluator.py:119: RuntimeWarning: invalid value encountered in double_scalars\n",
      "  \"\"\"\n",
      "c:\\Users\\JanMarco\\MLProjects\\Masterthesis\\masterthesis\\clustercausal\\experiments\\Evaluator.py:131: RuntimeWarning: invalid value encountered in double_scalars\n",
      "2023-08-17 13:40:10,362 - c:\\Users\\JanMarco\\MLProjects\\Masterthesis\\masterthesis\\mthesis\\lib\\site-packages\\castle\\datasets\\simulator.py[line:270] - INFO: Finished synthetic dataset\n",
      "2023-08-17 13:40:10,518 - c:\\Users\\JanMarco\\MLProjects\\Masterthesis\\masterthesis\\mthesis\\lib\\site-packages\\castle\\datasets\\simulator.py[line:270] - INFO: Finished synthetic dataset\n"
     ]
    },
    {
     "name": "stdout",
     "output_type": "stream",
     "text": [
      "Duration of algorithm was 0.03sec\n",
      "Warning: n_edges is not exact due to gcastle implementation\n",
      "Duration of algorithm was 0.06sec\n",
      "Warning: n_edges is not exact due to gcastle implementation\n"
     ]
    },
    {
     "name": "stderr",
     "output_type": "stream",
     "text": [
      "2023-08-17 13:40:10,719 - c:\\Users\\JanMarco\\MLProjects\\Masterthesis\\masterthesis\\mthesis\\lib\\site-packages\\castle\\datasets\\simulator.py[line:270] - INFO: Finished synthetic dataset\n",
      "2023-08-17 13:40:10,815 - c:\\Users\\JanMarco\\MLProjects\\Masterthesis\\masterthesis\\mthesis\\lib\\site-packages\\castle\\datasets\\simulator.py[line:270] - INFO: Finished synthetic dataset\n"
     ]
    },
    {
     "name": "stdout",
     "output_type": "stream",
     "text": [
      "Duration of algorithm was 0.06sec\n",
      "Warning: n_edges is not exact due to gcastle implementation\n",
      "Duration of algorithm was 0.03sec\n",
      "Warning: n_edges is not exact due to gcastle implementation\n"
     ]
    },
    {
     "name": "stderr",
     "output_type": "stream",
     "text": [
      "2023-08-17 13:40:10,989 - c:\\Users\\JanMarco\\MLProjects\\Masterthesis\\masterthesis\\mthesis\\lib\\site-packages\\castle\\datasets\\simulator.py[line:270] - INFO: Finished synthetic dataset\n"
     ]
    },
    {
     "name": "stdout",
     "output_type": "stream",
     "text": [
      "Duration of algorithm was 0.06sec\n",
      "Warning: n_edges is not exact due to gcastle implementation\n",
      "Duration of algorithm was 0.04sec\n"
     ]
    },
    {
     "name": "stderr",
     "output_type": "stream",
     "text": [
      "2023-08-17 13:40:11,201 - c:\\Users\\JanMarco\\MLProjects\\Masterthesis\\masterthesis\\mthesis\\lib\\site-packages\\castle\\datasets\\simulator.py[line:270] - INFO: Finished synthetic dataset\n",
      "c:\\Users\\JanMarco\\MLProjects\\Masterthesis\\masterthesis\\mthesis\\lib\\site-packages\\causallearn\\graph\\ArrowConfusion.py:92: RuntimeWarning: invalid value encountered in double_scalars\n",
      "  return self.__arrowsTp / (self.__arrowsTp + self.__arrowsFp)\n",
      "c:\\Users\\JanMarco\\MLProjects\\Masterthesis\\masterthesis\\mthesis\\lib\\site-packages\\causallearn\\graph\\ArrowConfusion.py:98: RuntimeWarning: invalid value encountered in double_scalars\n",
      "  return self.__arrowsTpCE / (self.__arrowsTpCE + self.__arrowsFpCE)\n",
      "2023-08-17 13:40:11,300 - c:\\Users\\JanMarco\\MLProjects\\Masterthesis\\masterthesis\\mthesis\\lib\\site-packages\\castle\\datasets\\simulator.py[line:270] - INFO: Finished synthetic dataset\n"
     ]
    },
    {
     "name": "stdout",
     "output_type": "stream",
     "text": [
      "Warning: n_edges is not exact due to gcastle implementation\n",
      "Duration of algorithm was 0.03sec\n",
      "Warning: n_edges is not exact due to gcastle implementation\n"
     ]
    },
    {
     "name": "stderr",
     "output_type": "stream",
     "text": [
      "2023-08-17 13:40:11,507 - c:\\Users\\JanMarco\\MLProjects\\Masterthesis\\masterthesis\\mthesis\\lib\\site-packages\\castle\\datasets\\simulator.py[line:270] - INFO: Finished synthetic dataset\n"
     ]
    },
    {
     "name": "stdout",
     "output_type": "stream",
     "text": [
      "Duration of algorithm was 0.09sec\n",
      "Warning: n_edges is not exact due to gcastle implementation\n",
      "Duration of algorithm was 0.05sec\n"
     ]
    },
    {
     "name": "stderr",
     "output_type": "stream",
     "text": [
      "2023-08-17 13:40:11,711 - c:\\Users\\JanMarco\\MLProjects\\Masterthesis\\masterthesis\\mthesis\\lib\\site-packages\\castle\\datasets\\simulator.py[line:270] - INFO: Finished synthetic dataset\n",
      "2023-08-17 13:40:11,834 - c:\\Users\\JanMarco\\MLProjects\\Masterthesis\\masterthesis\\mthesis\\lib\\site-packages\\castle\\datasets\\simulator.py[line:270] - INFO: Finished synthetic dataset\n"
     ]
    },
    {
     "name": "stdout",
     "output_type": "stream",
     "text": [
      "Warning: n_edges is not exact due to gcastle implementation\n",
      "Duration of algorithm was 0.04sec\n",
      "Warning: n_edges is not exact due to gcastle implementation\n"
     ]
    },
    {
     "name": "stderr",
     "output_type": "stream",
     "text": [
      "2023-08-17 13:40:12,051 - c:\\Users\\JanMarco\\MLProjects\\Masterthesis\\masterthesis\\mthesis\\lib\\site-packages\\castle\\datasets\\simulator.py[line:270] - INFO: Finished synthetic dataset\n"
     ]
    },
    {
     "name": "stdout",
     "output_type": "stream",
     "text": [
      "Duration of algorithm was 0.08sec\n",
      "Warning: n_edges is not exact due to gcastle implementation\n",
      "Duration of algorithm was 0.05sec\n"
     ]
    },
    {
     "name": "stderr",
     "output_type": "stream",
     "text": [
      "2023-08-17 13:40:12,262 - c:\\Users\\JanMarco\\MLProjects\\Masterthesis\\masterthesis\\mthesis\\lib\\site-packages\\castle\\datasets\\simulator.py[line:270] - INFO: Finished synthetic dataset\n",
      "2023-08-17 13:40:12,346 - c:\\Users\\JanMarco\\MLProjects\\Masterthesis\\masterthesis\\mthesis\\lib\\site-packages\\castle\\datasets\\simulator.py[line:270] - INFO: Finished synthetic dataset\n"
     ]
    },
    {
     "name": "stdout",
     "output_type": "stream",
     "text": [
      "Warning: n_edges is not exact due to gcastle implementation\n",
      "Duration of algorithm was 0.03sec\n",
      "Warning: n_edges is not exact due to gcastle implementation\n"
     ]
    },
    {
     "name": "stderr",
     "output_type": "stream",
     "text": [
      "2023-08-17 13:40:12,548 - c:\\Users\\JanMarco\\MLProjects\\Masterthesis\\masterthesis\\mthesis\\lib\\site-packages\\castle\\datasets\\simulator.py[line:270] - INFO: Finished synthetic dataset\n"
     ]
    },
    {
     "name": "stdout",
     "output_type": "stream",
     "text": [
      "Duration of algorithm was 0.06sec\n",
      "Warning: n_edges is not exact due to gcastle implementation\n",
      "Duration of algorithm was 0.06sec\n"
     ]
    },
    {
     "name": "stderr",
     "output_type": "stream",
     "text": [
      "2023-08-17 13:40:12,769 - c:\\Users\\JanMarco\\MLProjects\\Masterthesis\\masterthesis\\mthesis\\lib\\site-packages\\castle\\datasets\\simulator.py[line:270] - INFO: Finished synthetic dataset\n",
      "c:\\Users\\JanMarco\\MLProjects\\Masterthesis\\masterthesis\\clustercausal\\experiments\\Evaluator.py:119: RuntimeWarning: invalid value encountered in double_scalars\n",
      "  \"\"\"\n",
      "c:\\Users\\JanMarco\\MLProjects\\Masterthesis\\masterthesis\\clustercausal\\experiments\\Evaluator.py:131: RuntimeWarning: invalid value encountered in double_scalars\n",
      "2023-08-17 13:40:12,876 - c:\\Users\\JanMarco\\MLProjects\\Masterthesis\\masterthesis\\mthesis\\lib\\site-packages\\castle\\datasets\\simulator.py[line:270] - INFO: Finished synthetic dataset\n"
     ]
    },
    {
     "name": "stdout",
     "output_type": "stream",
     "text": [
      "Warning: n_edges is not exact due to gcastle implementation\n",
      "Duration of algorithm was 0.04sec\n",
      "Warning: n_edges is not exact due to gcastle implementation\n"
     ]
    },
    {
     "name": "stderr",
     "output_type": "stream",
     "text": [
      "2023-08-17 13:40:13,040 - c:\\Users\\JanMarco\\MLProjects\\Masterthesis\\masterthesis\\mthesis\\lib\\site-packages\\castle\\datasets\\simulator.py[line:270] - INFO: Finished synthetic dataset\n"
     ]
    },
    {
     "name": "stdout",
     "output_type": "stream",
     "text": [
      "Duration of algorithm was 0.06sec\n",
      "Warning: n_edges is not exact due to gcastle implementation\n",
      "Duration of algorithm was 0.05sec\n"
     ]
    },
    {
     "name": "stderr",
     "output_type": "stream",
     "text": [
      "2023-08-17 13:40:13,298 - c:\\Users\\JanMarco\\MLProjects\\Masterthesis\\masterthesis\\mthesis\\lib\\site-packages\\castle\\datasets\\simulator.py[line:270] - INFO: Finished synthetic dataset\n",
      "2023-08-17 13:40:13,416 - c:\\Users\\JanMarco\\MLProjects\\Masterthesis\\masterthesis\\mthesis\\lib\\site-packages\\castle\\datasets\\simulator.py[line:270] - INFO: Finished synthetic dataset\n"
     ]
    },
    {
     "name": "stdout",
     "output_type": "stream",
     "text": [
      "Warning: n_edges is not exact due to gcastle implementation\n",
      "Duration of algorithm was 0.04sec\n",
      "Warning: n_edges is not exact due to gcastle implementation\n"
     ]
    },
    {
     "name": "stderr",
     "output_type": "stream",
     "text": [
      "2023-08-17 13:40:13,631 - c:\\Users\\JanMarco\\MLProjects\\Masterthesis\\masterthesis\\mthesis\\lib\\site-packages\\castle\\datasets\\simulator.py[line:270] - INFO: Finished synthetic dataset\n"
     ]
    },
    {
     "name": "stdout",
     "output_type": "stream",
     "text": [
      "Duration of algorithm was 0.12sec\n",
      "Warning: n_edges is not exact due to gcastle implementation\n",
      "Duration of algorithm was 0.05sec\n"
     ]
    },
    {
     "name": "stderr",
     "output_type": "stream",
     "text": [
      "2023-08-17 13:40:13,832 - c:\\Users\\JanMarco\\MLProjects\\Masterthesis\\masterthesis\\mthesis\\lib\\site-packages\\castle\\datasets\\simulator.py[line:270] - INFO: Finished synthetic dataset\n",
      "c:\\Users\\JanMarco\\MLProjects\\Masterthesis\\masterthesis\\clustercausal\\experiments\\Evaluator.py:119: RuntimeWarning: invalid value encountered in double_scalars\n",
      "  \"\"\"\n",
      "c:\\Users\\JanMarco\\MLProjects\\Masterthesis\\masterthesis\\clustercausal\\experiments\\Evaluator.py:131: RuntimeWarning: invalid value encountered in double_scalars\n",
      "2023-08-17 13:40:13,923 - c:\\Users\\JanMarco\\MLProjects\\Masterthesis\\masterthesis\\mthesis\\lib\\site-packages\\castle\\datasets\\simulator.py[line:270] - INFO: Finished synthetic dataset\n"
     ]
    },
    {
     "name": "stdout",
     "output_type": "stream",
     "text": [
      "Warning: n_edges is not exact due to gcastle implementation\n",
      "Duration of algorithm was 0.03sec\n",
      "Warning: n_edges is not exact due to gcastle implementation\n",
      "Duration of algorithm was 0.08sec\n"
     ]
    },
    {
     "name": "stderr",
     "output_type": "stream",
     "text": [
      "2023-08-17 13:40:14,130 - c:\\Users\\JanMarco\\MLProjects\\Masterthesis\\masterthesis\\mthesis\\lib\\site-packages\\castle\\datasets\\simulator.py[line:270] - INFO: Finished synthetic dataset\n",
      "2023-08-17 13:40:14,324 - c:\\Users\\JanMarco\\MLProjects\\Masterthesis\\masterthesis\\mthesis\\lib\\site-packages\\castle\\datasets\\simulator.py[line:270] - INFO: Finished synthetic dataset\n"
     ]
    },
    {
     "name": "stdout",
     "output_type": "stream",
     "text": [
      "Warning: n_edges is not exact due to gcastle implementation\n",
      "Duration of algorithm was 0.05sec\n",
      "Warning: n_edges is not exact due to gcastle implementation\n"
     ]
    },
    {
     "name": "stderr",
     "output_type": "stream",
     "text": [
      "2023-08-17 13:40:14,414 - c:\\Users\\JanMarco\\MLProjects\\Masterthesis\\masterthesis\\mthesis\\lib\\site-packages\\castle\\datasets\\simulator.py[line:270] - INFO: Finished synthetic dataset\n"
     ]
    },
    {
     "name": "stdout",
     "output_type": "stream",
     "text": [
      "Duration of algorithm was 0.03sec\n",
      "Warning: n_edges is not exact due to gcastle implementation\n",
      "Duration of algorithm was 0.09sec\n"
     ]
    },
    {
     "name": "stderr",
     "output_type": "stream",
     "text": [
      "2023-08-17 13:40:14,689 - c:\\Users\\JanMarco\\MLProjects\\Masterthesis\\masterthesis\\mthesis\\lib\\site-packages\\castle\\datasets\\simulator.py[line:270] - INFO: Finished synthetic dataset\n",
      "2023-08-17 13:40:14,881 - c:\\Users\\JanMarco\\MLProjects\\Masterthesis\\masterthesis\\mthesis\\lib\\site-packages\\castle\\datasets\\simulator.py[line:270] - INFO: Finished synthetic dataset\n"
     ]
    },
    {
     "name": "stdout",
     "output_type": "stream",
     "text": [
      "Warning: n_edges is not exact due to gcastle implementation\n",
      "Duration of algorithm was 0.06sec\n",
      "Warning: n_edges is not exact due to gcastle implementation\n"
     ]
    },
    {
     "name": "stderr",
     "output_type": "stream",
     "text": [
      "2023-08-17 13:40:14,972 - c:\\Users\\JanMarco\\MLProjects\\Masterthesis\\masterthesis\\mthesis\\lib\\site-packages\\castle\\datasets\\simulator.py[line:270] - INFO: Finished synthetic dataset\n"
     ]
    },
    {
     "name": "stdout",
     "output_type": "stream",
     "text": [
      "Duration of algorithm was 0.03sec\n",
      "Warning: n_edges is not exact due to gcastle implementation\n",
      "Duration of algorithm was 0.08sec\n"
     ]
    },
    {
     "name": "stderr",
     "output_type": "stream",
     "text": [
      "2023-08-17 13:40:15,207 - c:\\Users\\JanMarco\\MLProjects\\Masterthesis\\masterthesis\\mthesis\\lib\\site-packages\\castle\\datasets\\simulator.py[line:270] - INFO: Finished synthetic dataset\n"
     ]
    },
    {
     "name": "stdout",
     "output_type": "stream",
     "text": [
      "Warning: n_edges is not exact due to gcastle implementation\n",
      "Duration of algorithm was 0.06sec\n",
      "Warning: n_edges is not exact due to gcastle implementation\n"
     ]
    },
    {
     "name": "stderr",
     "output_type": "stream",
     "text": [
      "2023-08-17 13:40:15,432 - c:\\Users\\JanMarco\\MLProjects\\Masterthesis\\masterthesis\\mthesis\\lib\\site-packages\\castle\\datasets\\simulator.py[line:270] - INFO: Finished synthetic dataset\n",
      "2023-08-17 13:40:15,519 - c:\\Users\\JanMarco\\MLProjects\\Masterthesis\\masterthesis\\mthesis\\lib\\site-packages\\castle\\datasets\\simulator.py[line:270] - INFO: Finished synthetic dataset\n"
     ]
    },
    {
     "name": "stdout",
     "output_type": "stream",
     "text": [
      "Duration of algorithm was 0.03sec\n",
      "Warning: n_edges is not exact due to gcastle implementation\n",
      "Duration of algorithm was 0.20sec\n"
     ]
    },
    {
     "name": "stderr",
     "output_type": "stream",
     "text": [
      "c:\\Users\\JanMarco\\MLProjects\\Masterthesis\\masterthesis\\mthesis\\lib\\site-packages\\causallearn\\graph\\ArrowConfusion.py:92: RuntimeWarning: invalid value encountered in double_scalars\n",
      "  return self.__arrowsTp / (self.__arrowsTp + self.__arrowsFp)\n",
      "c:\\Users\\JanMarco\\MLProjects\\Masterthesis\\masterthesis\\mthesis\\lib\\site-packages\\causallearn\\graph\\ArrowConfusion.py:98: RuntimeWarning: invalid value encountered in double_scalars\n",
      "  return self.__arrowsTpCE / (self.__arrowsTpCE + self.__arrowsFpCE)\n",
      "2023-08-17 13:40:15,960 - c:\\Users\\JanMarco\\MLProjects\\Masterthesis\\masterthesis\\mthesis\\lib\\site-packages\\castle\\datasets\\simulator.py[line:270] - INFO: Finished synthetic dataset\n"
     ]
    },
    {
     "name": "stdout",
     "output_type": "stream",
     "text": [
      "Warning: n_edges is not exact due to gcastle implementation\n",
      "Duration of algorithm was 0.14sec\n"
     ]
    },
    {
     "name": "stderr",
     "output_type": "stream",
     "text": [
      "2023-08-17 13:40:16,318 - c:\\Users\\JanMarco\\MLProjects\\Masterthesis\\masterthesis\\mthesis\\lib\\site-packages\\castle\\datasets\\simulator.py[line:270] - INFO: Finished synthetic dataset\n"
     ]
    },
    {
     "name": "stdout",
     "output_type": "stream",
     "text": [
      "Warning: n_edges is not exact due to gcastle implementation\n"
     ]
    },
    {
     "name": "stderr",
     "output_type": "stream",
     "text": [
      "2023-08-17 13:40:16,628 - c:\\Users\\JanMarco\\MLProjects\\Masterthesis\\masterthesis\\mthesis\\lib\\site-packages\\castle\\datasets\\simulator.py[line:270] - INFO: Finished synthetic dataset\n"
     ]
    },
    {
     "name": "stdout",
     "output_type": "stream",
     "text": [
      "Duration of algorithm was 0.16sec\n",
      "Warning: n_edges is not exact due to gcastle implementation\n"
     ]
    },
    {
     "name": "stderr",
     "output_type": "stream",
     "text": [
      "2023-08-17 13:40:17,022 - c:\\Users\\JanMarco\\MLProjects\\Masterthesis\\masterthesis\\mthesis\\lib\\site-packages\\castle\\datasets\\simulator.py[line:270] - INFO: Finished synthetic dataset\n"
     ]
    },
    {
     "name": "stdout",
     "output_type": "stream",
     "text": [
      "Duration of algorithm was 0.20sec\n",
      "Warning: n_edges is not exact due to gcastle implementation\n",
      "Duration of algorithm was 0.13sec\n",
      "Warning: n_edges is not exact due to gcastle implementation\n"
     ]
    },
    {
     "name": "stderr",
     "output_type": "stream",
     "text": [
      "2023-08-17 13:40:17,386 - c:\\Users\\JanMarco\\MLProjects\\Masterthesis\\masterthesis\\mthesis\\lib\\site-packages\\castle\\datasets\\simulator.py[line:270] - INFO: Finished synthetic dataset\n",
      "2023-08-17 13:40:17,634 - c:\\Users\\JanMarco\\MLProjects\\Masterthesis\\masterthesis\\mthesis\\lib\\site-packages\\castle\\datasets\\simulator.py[line:270] - INFO: Finished synthetic dataset\n"
     ]
    },
    {
     "name": "stdout",
     "output_type": "stream",
     "text": [
      "Duration of algorithm was 0.12sec\n",
      "Warning: n_edges is not exact due to gcastle implementation\n"
     ]
    },
    {
     "name": "stderr",
     "output_type": "stream",
     "text": [
      "2023-08-17 13:40:18,004 - c:\\Users\\JanMarco\\MLProjects\\Masterthesis\\masterthesis\\mthesis\\lib\\site-packages\\castle\\datasets\\simulator.py[line:270] - INFO: Finished synthetic dataset\n"
     ]
    },
    {
     "name": "stdout",
     "output_type": "stream",
     "text": [
      "Duration of algorithm was 0.20sec\n",
      "Warning: n_edges is not exact due to gcastle implementation\n",
      "Duration of algorithm was 0.17sec\n",
      "Warning: n_edges is not exact due to gcastle implementation\n"
     ]
    },
    {
     "name": "stderr",
     "output_type": "stream",
     "text": [
      "2023-08-17 13:40:18,418 - c:\\Users\\JanMarco\\MLProjects\\Masterthesis\\masterthesis\\mthesis\\lib\\site-packages\\castle\\datasets\\simulator.py[line:270] - INFO: Finished synthetic dataset\n",
      "2023-08-17 13:40:18,692 - c:\\Users\\JanMarco\\MLProjects\\Masterthesis\\masterthesis\\mthesis\\lib\\site-packages\\castle\\datasets\\simulator.py[line:270] - INFO: Finished synthetic dataset\n"
     ]
    },
    {
     "name": "stdout",
     "output_type": "stream",
     "text": [
      "Duration of algorithm was 0.13sec\n",
      "Warning: n_edges is not exact due to gcastle implementation\n",
      "Duration of algorithm was 0.26sec\n"
     ]
    },
    {
     "name": "stderr",
     "output_type": "stream",
     "text": [
      "c:\\Users\\JanMarco\\MLProjects\\Masterthesis\\masterthesis\\clustercausal\\experiments\\Evaluator.py:119: RuntimeWarning: invalid value encountered in double_scalars\n",
      "  \"\"\"\n",
      "c:\\Users\\JanMarco\\MLProjects\\Masterthesis\\masterthesis\\mthesis\\lib\\site-packages\\causallearn\\graph\\ArrowConfusion.py:98: RuntimeWarning: invalid value encountered in double_scalars\n",
      "  return self.__arrowsTpCE / (self.__arrowsTpCE + self.__arrowsFpCE)\n",
      "2023-08-17 13:40:19,454 - c:\\Users\\JanMarco\\MLProjects\\Masterthesis\\masterthesis\\mthesis\\lib\\site-packages\\castle\\datasets\\simulator.py[line:270] - INFO: Finished synthetic dataset\n"
     ]
    },
    {
     "name": "stdout",
     "output_type": "stream",
     "text": [
      "Warning: n_edges is not exact due to gcastle implementation\n",
      "Duration of algorithm was 0.14sec\n"
     ]
    },
    {
     "name": "stderr",
     "output_type": "stream",
     "text": [
      "2023-08-17 13:40:19,850 - c:\\Users\\JanMarco\\MLProjects\\Masterthesis\\masterthesis\\mthesis\\lib\\site-packages\\castle\\datasets\\simulator.py[line:270] - INFO: Finished synthetic dataset\n"
     ]
    },
    {
     "name": "stdout",
     "output_type": "stream",
     "text": [
      "Warning: n_edges is not exact due to gcastle implementation\n"
     ]
    },
    {
     "name": "stderr",
     "output_type": "stream",
     "text": [
      "2023-08-17 13:40:20,132 - c:\\Users\\JanMarco\\MLProjects\\Masterthesis\\masterthesis\\mthesis\\lib\\site-packages\\castle\\datasets\\simulator.py[line:270] - INFO: Finished synthetic dataset\n"
     ]
    },
    {
     "name": "stdout",
     "output_type": "stream",
     "text": [
      "Duration of algorithm was 0.13sec\n",
      "Warning: n_edges is not exact due to gcastle implementation\n",
      "Duration of algorithm was 0.36sec\n"
     ]
    },
    {
     "name": "stderr",
     "output_type": "stream",
     "text": [
      "2023-08-17 13:40:20,873 - c:\\Users\\JanMarco\\MLProjects\\Masterthesis\\masterthesis\\mthesis\\lib\\site-packages\\castle\\datasets\\simulator.py[line:270] - INFO: Finished synthetic dataset\n"
     ]
    },
    {
     "name": "stdout",
     "output_type": "stream",
     "text": [
      "Warning: n_edges is not exact due to gcastle implementation\n",
      "Duration of algorithm was 0.21sec\n"
     ]
    },
    {
     "name": "stderr",
     "output_type": "stream",
     "text": [
      "2023-08-17 13:40:21,569 - c:\\Users\\JanMarco\\MLProjects\\Masterthesis\\masterthesis\\mthesis\\lib\\site-packages\\castle\\datasets\\simulator.py[line:270] - INFO: Finished synthetic dataset\n"
     ]
    },
    {
     "name": "stdout",
     "output_type": "stream",
     "text": [
      "Warning: n_edges is not exact due to gcastle implementation\n"
     ]
    },
    {
     "name": "stderr",
     "output_type": "stream",
     "text": [
      "2023-08-17 13:40:21,941 - c:\\Users\\JanMarco\\MLProjects\\Masterthesis\\masterthesis\\mthesis\\lib\\site-packages\\castle\\datasets\\simulator.py[line:270] - INFO: Finished synthetic dataset\n"
     ]
    },
    {
     "name": "stdout",
     "output_type": "stream",
     "text": [
      "Duration of algorithm was 0.18sec\n",
      "Warning: n_edges is not exact due to gcastle implementation\n",
      "Duration of algorithm was 0.30sec\n"
     ]
    },
    {
     "name": "stderr",
     "output_type": "stream",
     "text": [
      "2023-08-17 13:40:22,750 - c:\\Users\\JanMarco\\MLProjects\\Masterthesis\\masterthesis\\mthesis\\lib\\site-packages\\castle\\datasets\\simulator.py[line:270] - INFO: Finished synthetic dataset\n"
     ]
    },
    {
     "name": "stdout",
     "output_type": "stream",
     "text": [
      "Warning: n_edges is not exact due to gcastle implementation\n",
      "Duration of algorithm was 0.23sec\n"
     ]
    },
    {
     "name": "stderr",
     "output_type": "stream",
     "text": [
      "2023-08-17 13:40:23,368 - c:\\Users\\JanMarco\\MLProjects\\Masterthesis\\masterthesis\\mthesis\\lib\\site-packages\\castle\\datasets\\simulator.py[line:270] - INFO: Finished synthetic dataset\n"
     ]
    },
    {
     "name": "stdout",
     "output_type": "stream",
     "text": [
      "Warning: n_edges is not exact due to gcastle implementation\n",
      "Duration of algorithm was 0.11sec\n"
     ]
    },
    {
     "name": "stderr",
     "output_type": "stream",
     "text": [
      "c:\\Users\\JanMarco\\MLProjects\\Masterthesis\\masterthesis\\mthesis\\lib\\site-packages\\causallearn\\graph\\ArrowConfusion.py:92: RuntimeWarning: invalid value encountered in double_scalars\n",
      "  return self.__arrowsTp / (self.__arrowsTp + self.__arrowsFp)\n",
      "c:\\Users\\JanMarco\\MLProjects\\Masterthesis\\masterthesis\\mthesis\\lib\\site-packages\\causallearn\\graph\\ArrowConfusion.py:98: RuntimeWarning: invalid value encountered in double_scalars\n",
      "  return self.__arrowsTpCE / (self.__arrowsTpCE + self.__arrowsFpCE)\n",
      "2023-08-17 13:40:23,614 - c:\\Users\\JanMarco\\MLProjects\\Masterthesis\\masterthesis\\mthesis\\lib\\site-packages\\castle\\datasets\\simulator.py[line:270] - INFO: Finished synthetic dataset\n"
     ]
    },
    {
     "name": "stdout",
     "output_type": "stream",
     "text": [
      "Warning: n_edges is not exact due to gcastle implementation\n",
      "Duration of algorithm was 0.29sec\n"
     ]
    },
    {
     "name": "stderr",
     "output_type": "stream",
     "text": [
      "c:\\Users\\JanMarco\\MLProjects\\Masterthesis\\masterthesis\\clustercausal\\experiments\\Evaluator.py:119: RuntimeWarning: invalid value encountered in double_scalars\n",
      "  \"\"\"\n",
      "c:\\Users\\JanMarco\\MLProjects\\Masterthesis\\masterthesis\\clustercausal\\experiments\\Evaluator.py:131: RuntimeWarning: invalid value encountered in double_scalars\n",
      "2023-08-17 13:40:24,362 - c:\\Users\\JanMarco\\MLProjects\\Masterthesis\\masterthesis\\mthesis\\lib\\site-packages\\castle\\datasets\\simulator.py[line:270] - INFO: Finished synthetic dataset\n"
     ]
    },
    {
     "name": "stdout",
     "output_type": "stream",
     "text": [
      "Warning: n_edges is not exact due to gcastle implementation\n",
      "Duration of algorithm was 0.16sec\n"
     ]
    },
    {
     "name": "stderr",
     "output_type": "stream",
     "text": [
      "2023-08-17 13:40:24,789 - c:\\Users\\JanMarco\\MLProjects\\Masterthesis\\masterthesis\\mthesis\\lib\\site-packages\\castle\\datasets\\simulator.py[line:270] - INFO: Finished synthetic dataset\n"
     ]
    },
    {
     "name": "stdout",
     "output_type": "stream",
     "text": [
      "Warning: n_edges is not exact due to gcastle implementation\n"
     ]
    },
    {
     "name": "stderr",
     "output_type": "stream",
     "text": [
      "2023-08-17 13:40:25,093 - c:\\Users\\JanMarco\\MLProjects\\Masterthesis\\masterthesis\\mthesis\\lib\\site-packages\\castle\\datasets\\simulator.py[line:270] - INFO: Finished synthetic dataset\n"
     ]
    },
    {
     "name": "stdout",
     "output_type": "stream",
     "text": [
      "Duration of algorithm was 0.15sec\n",
      "Warning: n_edges is not exact due to gcastle implementation\n",
      "Duration of algorithm was 0.24sec\n"
     ]
    },
    {
     "name": "stderr",
     "output_type": "stream",
     "text": [
      "2023-08-17 13:40:25,615 - c:\\Users\\JanMarco\\MLProjects\\Masterthesis\\masterthesis\\mthesis\\lib\\site-packages\\castle\\datasets\\simulator.py[line:270] - INFO: Finished synthetic dataset\n"
     ]
    },
    {
     "name": "stdout",
     "output_type": "stream",
     "text": [
      "Warning: n_edges is not exact due to gcastle implementation\n",
      "Duration of algorithm was 0.19sec\n"
     ]
    },
    {
     "name": "stderr",
     "output_type": "stream",
     "text": [
      "2023-08-17 13:40:26,122 - c:\\Users\\JanMarco\\MLProjects\\Masterthesis\\masterthesis\\mthesis\\lib\\site-packages\\castle\\datasets\\simulator.py[line:270] - INFO: Finished synthetic dataset\n"
     ]
    },
    {
     "name": "stdout",
     "output_type": "stream",
     "text": [
      "Warning: n_edges is not exact due to gcastle implementation\n"
     ]
    },
    {
     "name": "stderr",
     "output_type": "stream",
     "text": [
      "2023-08-17 13:40:26,393 - c:\\Users\\JanMarco\\MLProjects\\Masterthesis\\masterthesis\\mthesis\\lib\\site-packages\\castle\\datasets\\simulator.py[line:270] - INFO: Finished synthetic dataset\n"
     ]
    },
    {
     "name": "stdout",
     "output_type": "stream",
     "text": [
      "Duration of algorithm was 0.13sec\n",
      "Warning: n_edges is not exact due to gcastle implementation\n",
      "Duration of algorithm was 0.35sec\n"
     ]
    },
    {
     "name": "stderr",
     "output_type": "stream",
     "text": [
      "2023-08-17 13:40:27,254 - c:\\Users\\JanMarco\\MLProjects\\Masterthesis\\masterthesis\\mthesis\\lib\\site-packages\\castle\\datasets\\simulator.py[line:270] - INFO: Finished synthetic dataset\n"
     ]
    },
    {
     "name": "stdout",
     "output_type": "stream",
     "text": [
      "Warning: n_edges is not exact due to gcastle implementation\n",
      "Duration of algorithm was 0.19sec\n"
     ]
    },
    {
     "name": "stderr",
     "output_type": "stream",
     "text": [
      "2023-08-17 13:40:27,730 - c:\\Users\\JanMarco\\MLProjects\\Masterthesis\\masterthesis\\mthesis\\lib\\site-packages\\castle\\datasets\\simulator.py[line:270] - INFO: Finished synthetic dataset\n"
     ]
    },
    {
     "name": "stdout",
     "output_type": "stream",
     "text": [
      "Warning: n_edges is not exact due to gcastle implementation\n"
     ]
    },
    {
     "name": "stderr",
     "output_type": "stream",
     "text": [
      "2023-08-17 13:40:28,042 - c:\\Users\\JanMarco\\MLProjects\\Masterthesis\\masterthesis\\mthesis\\lib\\site-packages\\castle\\datasets\\simulator.py[line:270] - INFO: Finished synthetic dataset\n"
     ]
    },
    {
     "name": "stdout",
     "output_type": "stream",
     "text": [
      "Duration of algorithm was 0.16sec\n",
      "Warning: n_edges is not exact due to gcastle implementation\n",
      "Duration of algorithm was 0.32sec\n"
     ]
    },
    {
     "name": "stderr",
     "output_type": "stream",
     "text": [
      "2023-08-17 13:40:28,967 - c:\\Users\\JanMarco\\MLProjects\\Masterthesis\\masterthesis\\mthesis\\lib\\site-packages\\castle\\datasets\\simulator.py[line:270] - INFO: Finished synthetic dataset\n"
     ]
    },
    {
     "name": "stdout",
     "output_type": "stream",
     "text": [
      "Warning: n_edges is not exact due to gcastle implementation\n",
      "Duration of algorithm was 0.21sec\n"
     ]
    },
    {
     "name": "stderr",
     "output_type": "stream",
     "text": [
      "2023-08-17 13:40:29,753 - c:\\Users\\JanMarco\\MLProjects\\Masterthesis\\masterthesis\\mthesis\\lib\\site-packages\\castle\\datasets\\simulator.py[line:270] - INFO: Finished synthetic dataset\n"
     ]
    },
    {
     "name": "stdout",
     "output_type": "stream",
     "text": [
      "Warning: n_edges is not exact due to gcastle implementation\n"
     ]
    },
    {
     "name": "stderr",
     "output_type": "stream",
     "text": [
      "2023-08-17 13:40:30,050 - c:\\Users\\JanMarco\\MLProjects\\Masterthesis\\masterthesis\\mthesis\\lib\\site-packages\\castle\\datasets\\simulator.py[line:270] - INFO: Finished synthetic dataset\n"
     ]
    },
    {
     "name": "stdout",
     "output_type": "stream",
     "text": [
      "Duration of algorithm was 0.16sec\n",
      "Warning: n_edges is not exact due to gcastle implementation\n",
      "Duration of algorithm was 0.55sec\n"
     ]
    },
    {
     "name": "stderr",
     "output_type": "stream",
     "text": [
      "2023-08-17 13:40:31,540 - c:\\Users\\JanMarco\\MLProjects\\Masterthesis\\masterthesis\\mthesis\\lib\\site-packages\\castle\\datasets\\simulator.py[line:270] - INFO: Finished synthetic dataset\n"
     ]
    },
    {
     "name": "stdout",
     "output_type": "stream",
     "text": [
      "Warning: n_edges is not exact due to gcastle implementation\n",
      "Duration of algorithm was 0.21sec\n"
     ]
    },
    {
     "name": "stderr",
     "output_type": "stream",
     "text": [
      "2023-08-17 13:40:32,174 - c:\\Users\\JanMarco\\MLProjects\\Masterthesis\\masterthesis\\mthesis\\lib\\site-packages\\castle\\datasets\\simulator.py[line:270] - INFO: Finished synthetic dataset\n"
     ]
    },
    {
     "name": "stdout",
     "output_type": "stream",
     "text": [
      "Warning: n_edges is not exact due to gcastle implementation\n",
      "Duration of algorithm was 0.13sec\n"
     ]
    },
    {
     "name": "stderr",
     "output_type": "stream",
     "text": [
      "c:\\Users\\JanMarco\\MLProjects\\Masterthesis\\masterthesis\\mthesis\\lib\\site-packages\\causallearn\\graph\\ArrowConfusion.py:92: RuntimeWarning: invalid value encountered in double_scalars\n",
      "  return self.__arrowsTp / (self.__arrowsTp + self.__arrowsFp)\n",
      "c:\\Users\\JanMarco\\MLProjects\\Masterthesis\\masterthesis\\mthesis\\lib\\site-packages\\causallearn\\graph\\ArrowConfusion.py:98: RuntimeWarning: invalid value encountered in double_scalars\n",
      "  return self.__arrowsTpCE / (self.__arrowsTpCE + self.__arrowsFpCE)\n",
      "2023-08-17 13:40:32,431 - c:\\Users\\JanMarco\\MLProjects\\Masterthesis\\masterthesis\\mthesis\\lib\\site-packages\\castle\\datasets\\simulator.py[line:270] - INFO: Finished synthetic dataset\n"
     ]
    },
    {
     "name": "stdout",
     "output_type": "stream",
     "text": [
      "Warning: n_edges is not exact due to gcastle implementation\n",
      "Duration of algorithm was 0.63sec\n"
     ]
    },
    {
     "name": "stderr",
     "output_type": "stream",
     "text": [
      "2023-08-17 13:40:33,507 - c:\\Users\\JanMarco\\MLProjects\\Masterthesis\\masterthesis\\mthesis\\lib\\site-packages\\castle\\datasets\\simulator.py[line:270] - INFO: Finished synthetic dataset\n"
     ]
    },
    {
     "name": "stdout",
     "output_type": "stream",
     "text": [
      "Warning: n_edges is not exact due to gcastle implementation\n",
      "Duration of algorithm was 0.25sec\n"
     ]
    },
    {
     "name": "stderr",
     "output_type": "stream",
     "text": [
      "2023-08-17 13:40:34,325 - c:\\Users\\JanMarco\\MLProjects\\Masterthesis\\masterthesis\\mthesis\\lib\\site-packages\\castle\\datasets\\simulator.py[line:270] - INFO: Finished synthetic dataset\n"
     ]
    },
    {
     "name": "stdout",
     "output_type": "stream",
     "text": [
      "Warning: n_edges is not exact due to gcastle implementation\n",
      "Duration of algorithm was 0.14sec\n"
     ]
    }
   ],
   "source": [
    "experiment.run_gridsearch_experiment()"
   ]
  },
  {
   "cell_type": "code",
   "execution_count": 100,
   "metadata": {},
   "outputs": [
    {
     "data": {
      "text/plain": [
       "['gauss', 'exp', 'gumbel']"
      ]
     },
     "execution_count": 100,
     "metadata": {},
     "output_type": "execute_result"
    }
   ],
   "source": [
    "with open ('clustercausal/experiments/configs/cluster_pc.yaml', 'r') as file:\n",
    "    config = yaml.safe_load(file)\n",
    "num_experiments = 0\n",
    "for key in config.keys():\n",
    "    num_experiments += len(config[key])\n",
    "# print(f'Number of experiments: {num_experiments}')\n",
    "config['lin_distribution_type']"
   ]
  },
  {
   "cell_type": "code",
   "execution_count": 101,
   "metadata": {},
   "outputs": [
    {
     "name": "stdout",
     "output_type": "stream",
     "text": [
      "Directory of the first 'experiment' inside the first 'gridsearch': clustercausal\\experiments\\results\\ClusterPC_2023-08-16 14-23-07.067298\\erdos_renyi_10_nodes_14_edges_3_clusters_exp\n"
     ]
    }
   ],
   "source": [
    "# Define the base directory\n",
    "base_directory = os.path.normpath('clustercausal/experiments/results')\n",
    "\n",
    "# List all subdirectories in the base directory (i.e., all the 'gridsearch' directories)\n",
    "dirs_gridsearch = [d for d in os.listdir(base_directory) if os.path.isdir(os.path.join(base_directory, d))]\n",
    "\n",
    "# If there's at least one 'gridsearch' directory\n",
    "if dirs_gridsearch:\n",
    "    first_gridsearch_directory = os.path.normpath(os.path.join(base_directory, dirs_gridsearch[0]))\n",
    "\n",
    "    # List all subdirectories inside the first 'gridsearch' directory (i.e., all the 'experiment' directories)\n",
    "    dirs_experiment = [d for d in os.listdir(first_gridsearch_directory) if os.path.isdir(os.path.join(first_gridsearch_directory, d))]\n",
    "\n",
    "    # If there's at least one 'experiment' directory inside the first 'gridsearch' directory\n",
    "    if dirs_experiment:\n",
    "        first_experiment_directory = os.path.normpath(os.path.join(first_gridsearch_directory, dirs_experiment[0]))\n",
    "        print(f\"Directory of the first 'experiment' inside the first 'gridsearch': {first_experiment_directory}\")\n",
    "    else:\n",
    "        print(f\"No 'experiment' directories found inside {first_gridsearch_directory}.\")\n",
    "else:\n",
    "    print(\"No 'gridsearch' directories found in the base directory.\")"
   ]
  },
  {
   "cell_type": "code",
   "execution_count": 102,
   "metadata": {},
   "outputs": [
    {
     "name": "stdout",
     "output_type": "stream",
     "text": [
      "{'base_evaluation_results': {'adj_false_negative': 4, 'adj_false_positive': 1, 'adj_precision': 0.8888888888888888, 'adj_recall': 0.6666666666666666, 'adj_true_negative': 32, 'adj_true_positive': 8, 'arrow_false_negative': 7.0, 'arrow_false_negative_ce': 3.0, 'arrow_false_positive': 3.0, 'arrow_false_positive_ce': 2.0, 'arrow_precision': 0.625, 'arrow_precision_ce': 0.7142857142857143, 'arrow_recall': 0.4166666666666667, 'arrow_recall_ce': 0.625, 'arrow_true_negative': 85.0, 'arrow_true_negative_ce': 90.0, 'arrow_true_positive': 5.0, 'arrow_true_positive_ce': 5.0, 'base_shd': 7}, 'cluster_evaluation_results': {'adj_false_negative': 4, 'adj_false_positive': 1, 'adj_precision': 0.8888888888888888, 'adj_recall': 0.6666666666666666, 'adj_true_negative': 32, 'adj_true_positive': 8, 'arrow_false_negative': 5.0, 'arrow_false_negative_ce': 1.0, 'arrow_false_positive': 1.0, 'arrow_false_positive_ce': 0.0, 'arrow_precision': 0.875, 'arrow_precision_ce': 1.0, 'arrow_recall': 0.5833333333333334, 'arrow_recall_ce': 0.875, 'arrow_true_negative': 87.0, 'arrow_true_negative_ce': 92.0, 'arrow_true_positive': 7.0, 'arrow_true_positive_ce': 7.0, 'cluster_shd': 5}, 'settings': {'dag_method': 'erdos_renyi', 'distribution_type': 'exp', 'n_clusters': 3, 'n_edges': 14, 'n_nodes': 10, 'noise_scale': 1, 'sample_size': 100, 'scm_method': 'linear', 'seed': None, 'weight_range': (-1, 2)}}\n"
     ]
    }
   ],
   "source": [
    "# Path to the results.yaml file in the first directory\n",
    "results_file_path = os.path.normpath(os.path.join(first_experiment_directory, 'results.yaml'))\n",
    "\n",
    "# Check if results.yaml exists\n",
    "if os.path.exists(results_file_path):\n",
    "    # Open the results.yaml file with YAML\n",
    "    with open(results_file_path, 'r') as file:\n",
    "        result_dict = yaml.load(file, Loader = yaml.FullLoader)\n",
    "    print(result_dict)\n",
    "else:\n",
    "    print(f\"'results.yaml' not found in {first_experiment_directory}.\")"
   ]
  },
  {
   "cell_type": "code",
   "execution_count": 103,
   "metadata": {},
   "outputs": [
    {
     "name": "stdout",
     "output_type": "stream",
     "text": [
      "<causallearn.graph.GraphClass.CausalGraph object at 0x000001B36F7E0550>\n"
     ]
    },
    {
     "data": {
      "image/png": "[encoded data removed]",
      "text/plain": [
       "<Figure size 1440x864 with 1 Axes>"
      ]
     },
     "metadata": {
      "needs_background": "light"
     },
     "output_type": "display_data"
    }
   ],
   "source": [
    "# Path to the cluster_est_graph.pkl file in the directory\n",
    "pkl_file_path = os.path.normpath(os.path.join(first_experiment_directory, 'cluster_est_graph.pkl'))\n",
    "\n",
    "# Check if cluster_est_graph.pkl exists\n",
    "if os.path.exists(pkl_file_path):\n",
    "    # Load the cluster_est_graph.pkl file\n",
    "    with open(pkl_file_path, 'rb') as file:\n",
    "        cluster_est_graph = pickle.load(file)\n",
    "    print(cluster_est_graph)\n",
    "else:\n",
    "    print(f\"'cluster_est_graph.pkl' not found in {first_experiment_directory}.\")\n",
    "cluster_est_graph.draw_pydot_graph()"
   ]
  },
  {
   "cell_type": "code",
   "execution_count": 104,
   "metadata": {},
   "outputs": [
    {
     "name": "stdout",
     "output_type": "stream",
     "text": [
      "<causallearn.graph.GraphClass.CausalGraph object at 0x000001B3754941C0>\n"
     ]
    },
    {
     "data": {
      "image/png": "[encoded data removed]",
      "text/plain": [
       "<Figure size 1440x864 with 1 Axes>"
      ]
     },
     "metadata": {
      "needs_background": "light"
     },
     "output_type": "display_data"
    }
   ],
   "source": [
    "# Path to the base_est_graph.pkl file in the directory\n",
    "pkl_file_path = os.path.normpath(os.path.join(first_experiment_directory, 'base_est_graph.pkl'))\n",
    "\n",
    "# Check if base_est_graph.pkl exists\n",
    "if os.path.exists(pkl_file_path):\n",
    "    # Load the base_est_graph.pkl file\n",
    "    with open(pkl_file_path, 'rb') as file:\n",
    "        base_est_graph = pickle.load(file)\n",
    "    print(base_est_graph)\n",
    "else:\n",
    "    print(f\"'base_est_graph.pkl' not found in {first_experiment_directory}.\")\n",
    "base_est_graph.draw_pydot_graph()"
   ]
  },
  {
   "cell_type": "code",
   "execution_count": 105,
   "metadata": {},
   "outputs": [
    {
     "name": "stdout",
     "output_type": "stream",
     "text": [
      "<clustercausal.clusterdag.ClusterDAG.ClusterDAG object at 0x000001B35DC9DE40>\n"
     ]
    },
    {
     "data": {
      "image/png": "[encoded data removed]",
      "text/plain": [
       "<Figure size 1440x864 with 1 Axes>"
      ]
     },
     "metadata": {
      "needs_background": "light"
     },
     "output_type": "display_data"
    }
   ],
   "source": [
    "# Path to the cluster_dag.pkl file in the directory\n",
    "pkl_file_path = os.path.normpath(os.path.join(first_experiment_directory, 'cluster_dag.pkl'))\n",
    "\n",
    "# Check if cluster_dag.pkl exists\n",
    "if os.path.exists(pkl_file_path):\n",
    "    # Load the cluster_dag.pkl file\n",
    "    with open(pkl_file_path, 'rb') as file:\n",
    "        cluster_dag = pickle.load(file)\n",
    "    print(cluster_dag)\n",
    "else:\n",
    "    print(f\"'cluster_dag.pkl' not found in {first_experiment_directory}.\")\n",
    "\n",
    "cluster_dag.true_dag.draw_pydot_graph()"
   ]
  },
  {
   "cell_type": "markdown",
   "metadata": {},
   "source": [
    "### Load all results and visualize"
   ]
  },
  {
   "cell_type": "code",
   "execution_count": 114,
   "metadata": {},
   "outputs": [
    {
     "name": "stdout",
     "output_type": "stream",
     "text": [
      "Gridsearch directory: clustercausal/experiments/_results/ClusterPC_2023-08-17 13-39-28.254059\n"
     ]
    }
   ],
   "source": [
    "gridssearch_directory =  'clustercausal\\experiments\\_results\\ClusterPC_2023-08-17 13-39-28.254059' #first_gridsearch_directory\n",
    "gridssearch_directory = gridssearch_directory.replace('\\\\', '/')\n",
    "print(f\"Gridsearch directory: {gridssearch_directory}\")"
   ]
  },
  {
   "cell_type": "code",
   "execution_count": 115,
   "metadata": {},
   "outputs": [],
   "source": [
    "from clustercausal.utils.Utils import *\n",
    "pd.set_option('display.max_columns', None)\n",
    "data = load_data(gridssearch_directory)"
   ]
  },
  {
   "cell_type": "code",
   "execution_count": 116,
   "metadata": {},
   "outputs": [
    {
     "data": {
      "text/plain": [
       "(144, 54)"
      ]
     },
     "execution_count": 116,
     "metadata": {},
     "output_type": "execute_result"
    }
   ],
   "source": [
    "data.shape"
   ]
  },
  {
   "cell_type": "code",
   "execution_count": 117,
   "metadata": {},
   "outputs": [
    {
     "data": {
      "text/html": [
       "<div>\n",
       "<style scoped>\n",
       "    .dataframe tbody tr th:only-of-type {\n",
       "        vertical-align: middle;\n",
       "    }\n",
       "\n",
       "    .dataframe tbody tr th {\n",
       "        vertical-align: top;\n",
       "    }\n",
       "\n",
       "    .dataframe thead th {\n",
       "        text-align: right;\n",
       "    }\n",
       "</style>\n",
       "<table border=\"1\" class=\"dataframe\">\n",
       "  <thead>\n",
       "    <tr style=\"text-align: right;\">\n",
       "      <th></th>\n",
       "      <th>base_adj_f1_score</th>\n",
       "      <th>base_adj_false_negative</th>\n",
       "      <th>base_adj_false_positive</th>\n",
       "      <th>base_adj_precision</th>\n",
       "      <th>base_adj_recall</th>\n",
       "      <th>base_adj_true_negative</th>\n",
       "      <th>base_adj_true_positive</th>\n",
       "      <th>base_arrow_f1_score</th>\n",
       "      <th>base_arrow_f1_score_ce</th>\n",
       "      <th>base_arrow_false_negative</th>\n",
       "      <th>base_arrow_false_negative_ce</th>\n",
       "      <th>base_arrow_false_positive</th>\n",
       "      <th>base_arrow_false_positive_ce</th>\n",
       "      <th>base_arrow_precision</th>\n",
       "      <th>base_arrow_precision_ce</th>\n",
       "      <th>base_arrow_recall</th>\n",
       "      <th>base_arrow_recall_ce</th>\n",
       "      <th>base_arrow_true_negative</th>\n",
       "      <th>base_arrow_true_negative_ce</th>\n",
       "      <th>base_arrow_true_positive</th>\n",
       "      <th>base_arrow_true_positive_ce</th>\n",
       "      <th>base_base_shd</th>\n",
       "      <th>cluster_adj_f1_score</th>\n",
       "      <th>cluster_adj_false_negative</th>\n",
       "      <th>cluster_adj_false_positive</th>\n",
       "      <th>cluster_adj_precision</th>\n",
       "      <th>cluster_adj_recall</th>\n",
       "      <th>cluster_adj_true_negative</th>\n",
       "      <th>cluster_adj_true_positive</th>\n",
       "      <th>cluster_arrow_f1_score</th>\n",
       "      <th>cluster_arrow_f1_score_ce</th>\n",
       "      <th>cluster_arrow_false_negative</th>\n",
       "      <th>cluster_arrow_false_negative_ce</th>\n",
       "      <th>cluster_arrow_false_positive</th>\n",
       "      <th>cluster_arrow_false_positive_ce</th>\n",
       "      <th>cluster_arrow_precision</th>\n",
       "      <th>cluster_arrow_precision_ce</th>\n",
       "      <th>cluster_arrow_recall</th>\n",
       "      <th>cluster_arrow_recall_ce</th>\n",
       "      <th>cluster_arrow_true_negative</th>\n",
       "      <th>cluster_arrow_true_negative_ce</th>\n",
       "      <th>cluster_arrow_true_positive</th>\n",
       "      <th>cluster_arrow_true_positive_ce</th>\n",
       "      <th>cluster_cluster_shd</th>\n",
       "      <th>dag_method</th>\n",
       "      <th>distribution_type</th>\n",
       "      <th>n_clusters</th>\n",
       "      <th>n_edges</th>\n",
       "      <th>n_nodes</th>\n",
       "      <th>noise_scale</th>\n",
       "      <th>sample_size</th>\n",
       "      <th>scm_method</th>\n",
       "      <th>seed</th>\n",
       "      <th>weight_range</th>\n",
       "    </tr>\n",
       "  </thead>\n",
       "  <tbody>\n",
       "    <tr>\n",
       "      <th>0</th>\n",
       "      <td>0.571429</td>\n",
       "      <td>10</td>\n",
       "      <td>2</td>\n",
       "      <td>0.80</td>\n",
       "      <td>0.444444</td>\n",
       "      <td>25</td>\n",
       "      <td>8</td>\n",
       "      <td>0.160000</td>\n",
       "      <td>0.307692</td>\n",
       "      <td>16.0</td>\n",
       "      <td>6.0</td>\n",
       "      <td>5.0</td>\n",
       "      <td>3.0</td>\n",
       "      <td>0.285714</td>\n",
       "      <td>0.400000</td>\n",
       "      <td>0.111111</td>\n",
       "      <td>0.250000</td>\n",
       "      <td>77.0</td>\n",
       "      <td>89.0</td>\n",
       "      <td>2.0</td>\n",
       "      <td>2.0</td>\n",
       "      <td>15</td>\n",
       "      <td>0.647059</td>\n",
       "      <td>7</td>\n",
       "      <td>5</td>\n",
       "      <td>0.687500</td>\n",
       "      <td>0.611111</td>\n",
       "      <td>22</td>\n",
       "      <td>11</td>\n",
       "      <td>0.500000</td>\n",
       "      <td>0.800000</td>\n",
       "      <td>10.0</td>\n",
       "      <td>3.0</td>\n",
       "      <td>6.0</td>\n",
       "      <td>1.0</td>\n",
       "      <td>0.571429</td>\n",
       "      <td>0.888889</td>\n",
       "      <td>0.444444</td>\n",
       "      <td>0.727273</td>\n",
       "      <td>76.0</td>\n",
       "      <td>88.0</td>\n",
       "      <td>8.0</td>\n",
       "      <td>8.0</td>\n",
       "      <td>13</td>\n",
       "      <td>erdos_renyi</td>\n",
       "      <td>exp</td>\n",
       "      <td>3</td>\n",
       "      <td>21</td>\n",
       "      <td>10</td>\n",
       "      <td>1</td>\n",
       "      <td>100</td>\n",
       "      <td>linear</td>\n",
       "      <td>None</td>\n",
       "      <td>(-1, 2)</td>\n",
       "    </tr>\n",
       "    <tr>\n",
       "      <th>1</th>\n",
       "      <td>0.461538</td>\n",
       "      <td>12</td>\n",
       "      <td>2</td>\n",
       "      <td>0.75</td>\n",
       "      <td>0.333333</td>\n",
       "      <td>25</td>\n",
       "      <td>6</td>\n",
       "      <td>0.260870</td>\n",
       "      <td>0.666667</td>\n",
       "      <td>15.0</td>\n",
       "      <td>3.0</td>\n",
       "      <td>2.0</td>\n",
       "      <td>0.0</td>\n",
       "      <td>0.600000</td>\n",
       "      <td>1.000000</td>\n",
       "      <td>0.166667</td>\n",
       "      <td>0.500000</td>\n",
       "      <td>80.0</td>\n",
       "      <td>94.0</td>\n",
       "      <td>3.0</td>\n",
       "      <td>3.0</td>\n",
       "      <td>14</td>\n",
       "      <td>0.666667</td>\n",
       "      <td>7</td>\n",
       "      <td>4</td>\n",
       "      <td>0.733333</td>\n",
       "      <td>0.611111</td>\n",
       "      <td>23</td>\n",
       "      <td>11</td>\n",
       "      <td>0.533333</td>\n",
       "      <td>0.842105</td>\n",
       "      <td>10.0</td>\n",
       "      <td>3.0</td>\n",
       "      <td>4.0</td>\n",
       "      <td>0.0</td>\n",
       "      <td>0.666667</td>\n",
       "      <td>1.000000</td>\n",
       "      <td>0.444444</td>\n",
       "      <td>0.727273</td>\n",
       "      <td>78.0</td>\n",
       "      <td>89.0</td>\n",
       "      <td>8.0</td>\n",
       "      <td>8.0</td>\n",
       "      <td>11</td>\n",
       "      <td>erdos_renyi</td>\n",
       "      <td>gauss</td>\n",
       "      <td>3</td>\n",
       "      <td>21</td>\n",
       "      <td>10</td>\n",
       "      <td>1</td>\n",
       "      <td>100</td>\n",
       "      <td>linear</td>\n",
       "      <td>None</td>\n",
       "      <td>(-1, 2)</td>\n",
       "    </tr>\n",
       "    <tr>\n",
       "      <th>2</th>\n",
       "      <td>0.428571</td>\n",
       "      <td>16</td>\n",
       "      <td>0</td>\n",
       "      <td>1.00</td>\n",
       "      <td>0.272727</td>\n",
       "      <td>23</td>\n",
       "      <td>6</td>\n",
       "      <td>0.296296</td>\n",
       "      <td>0.727273</td>\n",
       "      <td>18.0</td>\n",
       "      <td>2.0</td>\n",
       "      <td>1.0</td>\n",
       "      <td>1.0</td>\n",
       "      <td>0.800000</td>\n",
       "      <td>0.800000</td>\n",
       "      <td>0.181818</td>\n",
       "      <td>0.666667</td>\n",
       "      <td>77.0</td>\n",
       "      <td>93.0</td>\n",
       "      <td>4.0</td>\n",
       "      <td>4.0</td>\n",
       "      <td>17</td>\n",
       "      <td>0.428571</td>\n",
       "      <td>16</td>\n",
       "      <td>0</td>\n",
       "      <td>1.000000</td>\n",
       "      <td>0.272727</td>\n",
       "      <td>23</td>\n",
       "      <td>6</td>\n",
       "      <td>0.428571</td>\n",
       "      <td>1.000000</td>\n",
       "      <td>16.0</td>\n",
       "      <td>0.0</td>\n",
       "      <td>0.0</td>\n",
       "      <td>0.0</td>\n",
       "      <td>1.000000</td>\n",
       "      <td>1.000000</td>\n",
       "      <td>0.272727</td>\n",
       "      <td>1.000000</td>\n",
       "      <td>78.0</td>\n",
       "      <td>94.0</td>\n",
       "      <td>6.0</td>\n",
       "      <td>6.0</td>\n",
       "      <td>16</td>\n",
       "      <td>erdos_renyi</td>\n",
       "      <td>gp</td>\n",
       "      <td>3</td>\n",
       "      <td>21</td>\n",
       "      <td>10</td>\n",
       "      <td>1</td>\n",
       "      <td>100</td>\n",
       "      <td>nonlinear</td>\n",
       "      <td>None</td>\n",
       "      <td>(-1, 2)</td>\n",
       "    </tr>\n",
       "    <tr>\n",
       "      <th>3</th>\n",
       "      <td>0.562500</td>\n",
       "      <td>14</td>\n",
       "      <td>0</td>\n",
       "      <td>1.00</td>\n",
       "      <td>0.391304</td>\n",
       "      <td>22</td>\n",
       "      <td>9</td>\n",
       "      <td>0.200000</td>\n",
       "      <td>0.375000</td>\n",
       "      <td>20.0</td>\n",
       "      <td>6.0</td>\n",
       "      <td>4.0</td>\n",
       "      <td>4.0</td>\n",
       "      <td>0.428571</td>\n",
       "      <td>0.428571</td>\n",
       "      <td>0.130435</td>\n",
       "      <td>0.333333</td>\n",
       "      <td>73.0</td>\n",
       "      <td>87.0</td>\n",
       "      <td>3.0</td>\n",
       "      <td>3.0</td>\n",
       "      <td>18</td>\n",
       "      <td>0.750000</td>\n",
       "      <td>8</td>\n",
       "      <td>2</td>\n",
       "      <td>0.882353</td>\n",
       "      <td>0.652174</td>\n",
       "      <td>20</td>\n",
       "      <td>15</td>\n",
       "      <td>0.648649</td>\n",
       "      <td>0.888889</td>\n",
       "      <td>11.0</td>\n",
       "      <td>3.0</td>\n",
       "      <td>2.0</td>\n",
       "      <td>0.0</td>\n",
       "      <td>0.857143</td>\n",
       "      <td>1.000000</td>\n",
       "      <td>0.521739</td>\n",
       "      <td>0.800000</td>\n",
       "      <td>75.0</td>\n",
       "      <td>85.0</td>\n",
       "      <td>12.0</td>\n",
       "      <td>12.0</td>\n",
       "      <td>10</td>\n",
       "      <td>erdos_renyi</td>\n",
       "      <td>gumbel</td>\n",
       "      <td>3</td>\n",
       "      <td>21</td>\n",
       "      <td>10</td>\n",
       "      <td>1</td>\n",
       "      <td>100</td>\n",
       "      <td>linear</td>\n",
       "      <td>None</td>\n",
       "      <td>(-1, 2)</td>\n",
       "    </tr>\n",
       "    <tr>\n",
       "      <th>4</th>\n",
       "      <td>0.625000</td>\n",
       "      <td>12</td>\n",
       "      <td>0</td>\n",
       "      <td>1.00</td>\n",
       "      <td>0.454545</td>\n",
       "      <td>23</td>\n",
       "      <td>10</td>\n",
       "      <td>0.333333</td>\n",
       "      <td>0.555556</td>\n",
       "      <td>17.0</td>\n",
       "      <td>5.0</td>\n",
       "      <td>3.0</td>\n",
       "      <td>3.0</td>\n",
       "      <td>0.625000</td>\n",
       "      <td>0.625000</td>\n",
       "      <td>0.227273</td>\n",
       "      <td>0.500000</td>\n",
       "      <td>75.0</td>\n",
       "      <td>87.0</td>\n",
       "      <td>5.0</td>\n",
       "      <td>5.0</td>\n",
       "      <td>15</td>\n",
       "      <td>0.606061</td>\n",
       "      <td>12</td>\n",
       "      <td>1</td>\n",
       "      <td>0.909091</td>\n",
       "      <td>0.454545</td>\n",
       "      <td>22</td>\n",
       "      <td>10</td>\n",
       "      <td>0.545455</td>\n",
       "      <td>0.900000</td>\n",
       "      <td>13.0</td>\n",
       "      <td>1.0</td>\n",
       "      <td>2.0</td>\n",
       "      <td>1.0</td>\n",
       "      <td>0.818182</td>\n",
       "      <td>0.900000</td>\n",
       "      <td>0.409091</td>\n",
       "      <td>0.900000</td>\n",
       "      <td>76.0</td>\n",
       "      <td>89.0</td>\n",
       "      <td>9.0</td>\n",
       "      <td>9.0</td>\n",
       "      <td>14</td>\n",
       "      <td>erdos_renyi</td>\n",
       "      <td>mim</td>\n",
       "      <td>3</td>\n",
       "      <td>21</td>\n",
       "      <td>10</td>\n",
       "      <td>1</td>\n",
       "      <td>100</td>\n",
       "      <td>nonlinear</td>\n",
       "      <td>None</td>\n",
       "      <td>(-1, 2)</td>\n",
       "    </tr>\n",
       "  </tbody>\n",
       "</table>\n",
       "</div>"
      ],
      "text/plain": [
       "   base_adj_f1_score base_adj_false_negative base_adj_false_positive  \\\n",
       "0           0.571429                      10                       2   \n",
       "1           0.461538                      12                       2   \n",
       "2           0.428571                      16                       0   \n",
       "3           0.562500                      14                       0   \n",
       "4           0.625000                      12                       0   \n",
       "\n",
       "   base_adj_precision  base_adj_recall base_adj_true_negative  \\\n",
       "0                0.80         0.444444                     25   \n",
       "1                0.75         0.333333                     25   \n",
       "2                1.00         0.272727                     23   \n",
       "3                1.00         0.391304                     22   \n",
       "4                1.00         0.454545                     23   \n",
       "\n",
       "  base_adj_true_positive  base_arrow_f1_score  base_arrow_f1_score_ce  \\\n",
       "0                      8             0.160000                0.307692   \n",
       "1                      6             0.260870                0.666667   \n",
       "2                      6             0.296296                0.727273   \n",
       "3                      9             0.200000                0.375000   \n",
       "4                     10             0.333333                0.555556   \n",
       "\n",
       "   base_arrow_false_negative  base_arrow_false_negative_ce  \\\n",
       "0                       16.0                           6.0   \n",
       "1                       15.0                           3.0   \n",
       "2                       18.0                           2.0   \n",
       "3                       20.0                           6.0   \n",
       "4                       17.0                           5.0   \n",
       "\n",
       "   base_arrow_false_positive  base_arrow_false_positive_ce  \\\n",
       "0                        5.0                           3.0   \n",
       "1                        2.0                           0.0   \n",
       "2                        1.0                           1.0   \n",
       "3                        4.0                           4.0   \n",
       "4                        3.0                           3.0   \n",
       "\n",
       "   base_arrow_precision  base_arrow_precision_ce  base_arrow_recall  \\\n",
       "0              0.285714                 0.400000           0.111111   \n",
       "1              0.600000                 1.000000           0.166667   \n",
       "2              0.800000                 0.800000           0.181818   \n",
       "3              0.428571                 0.428571           0.130435   \n",
       "4              0.625000                 0.625000           0.227273   \n",
       "\n",
       "   base_arrow_recall_ce  base_arrow_true_negative  \\\n",
       "0              0.250000                      77.0   \n",
       "1              0.500000                      80.0   \n",
       "2              0.666667                      77.0   \n",
       "3              0.333333                      73.0   \n",
       "4              0.500000                      75.0   \n",
       "\n",
       "   base_arrow_true_negative_ce  base_arrow_true_positive  \\\n",
       "0                         89.0                       2.0   \n",
       "1                         94.0                       3.0   \n",
       "2                         93.0                       4.0   \n",
       "3                         87.0                       3.0   \n",
       "4                         87.0                       5.0   \n",
       "\n",
       "   base_arrow_true_positive_ce base_base_shd  cluster_adj_f1_score  \\\n",
       "0                          2.0            15              0.647059   \n",
       "1                          3.0            14              0.666667   \n",
       "2                          4.0            17              0.428571   \n",
       "3                          3.0            18              0.750000   \n",
       "4                          5.0            15              0.606061   \n",
       "\n",
       "  cluster_adj_false_negative cluster_adj_false_positive  \\\n",
       "0                          7                          5   \n",
       "1                          7                          4   \n",
       "2                         16                          0   \n",
       "3                          8                          2   \n",
       "4                         12                          1   \n",
       "\n",
       "   cluster_adj_precision  cluster_adj_recall cluster_adj_true_negative  \\\n",
       "0               0.687500            0.611111                        22   \n",
       "1               0.733333            0.611111                        23   \n",
       "2               1.000000            0.272727                        23   \n",
       "3               0.882353            0.652174                        20   \n",
       "4               0.909091            0.454545                        22   \n",
       "\n",
       "  cluster_adj_true_positive  cluster_arrow_f1_score  \\\n",
       "0                        11                0.500000   \n",
       "1                        11                0.533333   \n",
       "2                         6                0.428571   \n",
       "3                        15                0.648649   \n",
       "4                        10                0.545455   \n",
       "\n",
       "   cluster_arrow_f1_score_ce  cluster_arrow_false_negative  \\\n",
       "0                   0.800000                          10.0   \n",
       "1                   0.842105                          10.0   \n",
       "2                   1.000000                          16.0   \n",
       "3                   0.888889                          11.0   \n",
       "4                   0.900000                          13.0   \n",
       "\n",
       "   cluster_arrow_false_negative_ce  cluster_arrow_false_positive  \\\n",
       "0                              3.0                           6.0   \n",
       "1                              3.0                           4.0   \n",
       "2                              0.0                           0.0   \n",
       "3                              3.0                           2.0   \n",
       "4                              1.0                           2.0   \n",
       "\n",
       "   cluster_arrow_false_positive_ce  cluster_arrow_precision  \\\n",
       "0                              1.0                 0.571429   \n",
       "1                              0.0                 0.666667   \n",
       "2                              0.0                 1.000000   \n",
       "3                              0.0                 0.857143   \n",
       "4                              1.0                 0.818182   \n",
       "\n",
       "   cluster_arrow_precision_ce  cluster_arrow_recall  cluster_arrow_recall_ce  \\\n",
       "0                    0.888889              0.444444                 0.727273   \n",
       "1                    1.000000              0.444444                 0.727273   \n",
       "2                    1.000000              0.272727                 1.000000   \n",
       "3                    1.000000              0.521739                 0.800000   \n",
       "4                    0.900000              0.409091                 0.900000   \n",
       "\n",
       "   cluster_arrow_true_negative  cluster_arrow_true_negative_ce  \\\n",
       "0                         76.0                            88.0   \n",
       "1                         78.0                            89.0   \n",
       "2                         78.0                            94.0   \n",
       "3                         75.0                            85.0   \n",
       "4                         76.0                            89.0   \n",
       "\n",
       "   cluster_arrow_true_positive  cluster_arrow_true_positive_ce  \\\n",
       "0                          8.0                             8.0   \n",
       "1                          8.0                             8.0   \n",
       "2                          6.0                             6.0   \n",
       "3                         12.0                            12.0   \n",
       "4                          9.0                             9.0   \n",
       "\n",
       "  cluster_cluster_shd   dag_method distribution_type n_clusters n_edges  \\\n",
       "0                  13  erdos_renyi               exp          3      21   \n",
       "1                  11  erdos_renyi             gauss          3      21   \n",
       "2                  16  erdos_renyi                gp          3      21   \n",
       "3                  10  erdos_renyi            gumbel          3      21   \n",
       "4                  14  erdos_renyi               mim          3      21   \n",
       "\n",
       "  n_nodes noise_scale sample_size scm_method  seed weight_range  \n",
       "0      10           1         100     linear  None      (-1, 2)  \n",
       "1      10           1         100     linear  None      (-1, 2)  \n",
       "2      10           1         100  nonlinear  None      (-1, 2)  \n",
       "3      10           1         100     linear  None      (-1, 2)  \n",
       "4      10           1         100  nonlinear  None      (-1, 2)  "
      ]
     },
     "execution_count": 117,
     "metadata": {},
     "output_type": "execute_result"
    }
   ],
   "source": [
    "data.head()"
   ]
  },
  {
   "cell_type": "code",
   "execution_count": 121,
   "metadata": {},
   "outputs": [
    {
     "data": {
      "text/html": [
       "<div>\n",
       "<style scoped>\n",
       "    .dataframe tbody tr th:only-of-type {\n",
       "        vertical-align: middle;\n",
       "    }\n",
       "\n",
       "    .dataframe tbody tr th {\n",
       "        vertical-align: top;\n",
       "    }\n",
       "\n",
       "    .dataframe thead th {\n",
       "        text-align: right;\n",
       "    }\n",
       "</style>\n",
       "<table border=\"1\" class=\"dataframe\">\n",
       "  <thead>\n",
       "    <tr style=\"text-align: right;\">\n",
       "      <th></th>\n",
       "      <th>0</th>\n",
       "    </tr>\n",
       "  </thead>\n",
       "  <tbody>\n",
       "    <tr>\n",
       "      <th>base_adj_precision</th>\n",
       "      <td>0.863572</td>\n",
       "    </tr>\n",
       "    <tr>\n",
       "      <th>cluster_adj_precision</th>\n",
       "      <td>0.816073</td>\n",
       "    </tr>\n",
       "    <tr>\n",
       "      <th>base_adj_recall</th>\n",
       "      <td>0.337600</td>\n",
       "    </tr>\n",
       "    <tr>\n",
       "      <th>cluster_adj_recall</th>\n",
       "      <td>0.451676</td>\n",
       "    </tr>\n",
       "    <tr>\n",
       "      <th>base_adj_f1_score</th>\n",
       "      <td>0.456766</td>\n",
       "    </tr>\n",
       "    <tr>\n",
       "      <th>cluster_adj_f1_score</th>\n",
       "      <td>0.547910</td>\n",
       "    </tr>\n",
       "    <tr>\n",
       "      <th>base_base_shd</th>\n",
       "      <td>39.166667</td>\n",
       "    </tr>\n",
       "    <tr>\n",
       "      <th>cluster_cluster_shd</th>\n",
       "      <td>34.097222</td>\n",
       "    </tr>\n",
       "  </tbody>\n",
       "</table>\n",
       "</div>"
      ],
      "text/plain": [
       "                               0\n",
       "base_adj_precision      0.863572\n",
       "cluster_adj_precision   0.816073\n",
       "base_adj_recall         0.337600\n",
       "cluster_adj_recall      0.451676\n",
       "base_adj_f1_score       0.456766\n",
       "cluster_adj_f1_score    0.547910\n",
       "base_base_shd          39.166667\n",
       "cluster_cluster_shd    34.097222"
      ]
     },
     "execution_count": 121,
     "metadata": {},
     "output_type": "execute_result"
    }
   ],
   "source": [
    "selected_metrics = ['base_adj_precision', 'cluster_adj_precision', 'base_adj_recall', 'cluster_adj_recall', 'base_adj_f1_score', 'cluster_adj_f1_score', 'base_base_shd', 'cluster_cluster_shd']\n",
    "pd.DataFrame(data[selected_metrics].mean())"
   ]
  },
  {
   "cell_type": "code",
   "execution_count": null,
   "metadata": {},
   "outputs": [],
   "source": []
  }
 ],
 "metadata": {
  "kernelspec": {
   "display_name": "mthesis",
   "language": "python",
   "name": "python3"
  },
  "language_info": {
   "codemirror_mode": {
    "name": "ipython",
    "version": 3
   },
   "file_extension": ".py",
   "mimetype": "text/x-python",
   "name": "python",
   "nbconvert_exporter": "python",
   "pygments_lexer": "ipython3",
   "version": "3.10.0"
  },
  "orig_nbformat": 4
 },
 "nbformat": 4,
 "nbformat_minor": 2
}
