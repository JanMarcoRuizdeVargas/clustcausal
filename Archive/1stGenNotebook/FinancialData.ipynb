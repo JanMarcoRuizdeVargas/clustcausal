{
 "cells": [
  {
   "cell_type": "code",
   "execution_count": 21,
   "metadata": {},
   "outputs": [],
   "source": [
    "import pandas as pd\n",
    "import pandas_datareader as pdr\n",
    "import yfinance as yf\n",
    "import matplotlib.pyplot as plt"
   ]
  },
  {
   "cell_type": "code",
   "execution_count": 22,
   "metadata": {},
   "outputs": [],
   "source": [
    "nvda = pdr.get_data_yahoo('NVDA')"
   ]
  },
  {
   "cell_type": "code",
   "execution_count": 23,
   "metadata": {},
   "outputs": [
    {
     "data": {
      "text/html": [
       "<div>\n",
       "<style scoped>\n",
       "    .dataframe tbody tr th:only-of-type {\n",
       "        vertical-align: middle;\n",
       "    }\n",
       "\n",
       "    .dataframe tbody tr th {\n",
       "        vertical-align: top;\n",
       "    }\n",
       "\n",
       "    .dataframe thead th {\n",
       "        text-align: right;\n",
       "    }\n",
       "</style>\n",
       "<table border=\"1\" class=\"dataframe\">\n",
       "  <thead>\n",
       "    <tr style=\"text-align: right;\">\n",
       "      <th></th>\n",
       "      <th>High</th>\n",
       "      <th>Low</th>\n",
       "      <th>Open</th>\n",
       "      <th>Close</th>\n",
       "      <th>Volume</th>\n",
       "      <th>Adj Close</th>\n",
       "    </tr>\n",
       "    <tr>\n",
       "      <th>Date</th>\n",
       "      <th></th>\n",
       "      <th></th>\n",
       "      <th></th>\n",
       "      <th></th>\n",
       "      <th></th>\n",
       "      <th></th>\n",
       "    </tr>\n",
       "  </thead>\n",
       "  <tbody>\n",
       "    <tr>\n",
       "      <th>2017-07-21</th>\n",
       "      <td>42.325001</td>\n",
       "      <td>41.522499</td>\n",
       "      <td>41.667500</td>\n",
       "      <td>42.025002</td>\n",
       "      <td>64833200.0</td>\n",
       "      <td>41.558514</td>\n",
       "    </tr>\n",
       "    <tr>\n",
       "      <th>2017-07-24</th>\n",
       "      <td>42.195000</td>\n",
       "      <td>41.430000</td>\n",
       "      <td>42.097500</td>\n",
       "      <td>41.537498</td>\n",
       "      <td>65252400.0</td>\n",
       "      <td>41.076420</td>\n",
       "    </tr>\n",
       "    <tr>\n",
       "      <th>2017-07-25</th>\n",
       "      <td>41.482498</td>\n",
       "      <td>40.895000</td>\n",
       "      <td>41.305000</td>\n",
       "      <td>41.337502</td>\n",
       "      <td>49655600.0</td>\n",
       "      <td>40.878647</td>\n",
       "    </tr>\n",
       "    <tr>\n",
       "      <th>2017-07-26</th>\n",
       "      <td>42.482498</td>\n",
       "      <td>41.462502</td>\n",
       "      <td>41.919998</td>\n",
       "      <td>41.814999</td>\n",
       "      <td>64040400.0</td>\n",
       "      <td>41.350845</td>\n",
       "    </tr>\n",
       "    <tr>\n",
       "      <th>2017-07-27</th>\n",
       "      <td>42.185001</td>\n",
       "      <td>39.389999</td>\n",
       "      <td>42.067501</td>\n",
       "      <td>40.435001</td>\n",
       "      <td>78285600.0</td>\n",
       "      <td>39.986168</td>\n",
       "    </tr>\n",
       "  </tbody>\n",
       "</table>\n",
       "</div>"
      ],
      "text/plain": [
       "                 High        Low       Open      Close      Volume  Adj Close\n",
       "Date                                                                         \n",
       "2017-07-21  42.325001  41.522499  41.667500  42.025002  64833200.0  41.558514\n",
       "2017-07-24  42.195000  41.430000  42.097500  41.537498  65252400.0  41.076420\n",
       "2017-07-25  41.482498  40.895000  41.305000  41.337502  49655600.0  40.878647\n",
       "2017-07-26  42.482498  41.462502  41.919998  41.814999  64040400.0  41.350845\n",
       "2017-07-27  42.185001  39.389999  42.067501  40.435001  78285600.0  39.986168"
      ]
     },
     "execution_count": 23,
     "metadata": {},
     "output_type": "execute_result"
    }
   ],
   "source": [
    "nvda.head()"
   ]
  },
  {
   "cell_type": "code",
   "execution_count": 28,
   "metadata": {},
   "outputs": [
    {
     "data": {
      "text/plain": [
       "[<matplotlib.lines.Line2D at 0x2a7919f4670>,\n",
       " <matplotlib.lines.Line2D at 0x2a7919f4760>,\n",
       " <matplotlib.lines.Line2D at 0x2a7919f46d0>,\n",
       " <matplotlib.lines.Line2D at 0x2a7919f48b0>,\n",
       " <matplotlib.lines.Line2D at 0x2a7919f49d0>]"
      ]
     },
     "execution_count": 28,
     "metadata": {},
     "output_type": "execute_result"
    },
    {
     "data": {
      "image/png": "[encoded data removed]",
      "text/plain": [
       "<Figure size 432x288 with 1 Axes>"
      ]
     },
     "metadata": {
      "needs_background": "light"
     },
     "output_type": "display_data"
    }
   ],
   "source": [
    "plt.plot(nvda.loc[:, nvda.columns != 'Volume'])"
   ]
  },
  {
   "cell_type": "code",
   "execution_count": null,
   "metadata": {},
   "outputs": [],
   "source": []
  }
 ],
 "metadata": {
  "kernelspec": {
   "display_name": "Python 3.8.5 ('mthesis': venv)",
   "language": "python",
   "name": "python3"
  },
  "language_info": {
   "codemirror_mode": {
    "name": "ipython",
    "version": 3
   },
   "file_extension": ".py",
   "mimetype": "text/x-python",
   "name": "python",
   "nbconvert_exporter": "python",
   "pygments_lexer": "ipython3",
   "version": "3.8.5 (default, Sep  3 2020, 21:29:08) [MSC v.1916 64 bit (AMD64)]"
  },
  "orig_nbformat": 4,
  "vscode": {
   "interpreter": {
    "hash": "a929f65748da7f515d0b4adc6802f06287f5b727acaa3a8a2c499e3cd255a24f"
   }
  }
 },
 "nbformat": 4,
 "nbformat_minor": 2
}
