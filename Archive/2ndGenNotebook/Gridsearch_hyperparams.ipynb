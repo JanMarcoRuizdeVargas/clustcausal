{
 "cells": [
  {
   "cell_type": "code",
   "execution_count": 3,
   "metadata": {},
   "outputs": [
    {
     "name": "stderr",
     "output_type": "stream",
     "text": [
      "Detecting 1 CUDA device(s).\n",
      "2023-08-23 23:38:22,628 - c:\\Users\\JanMarco\\MLProjects\\Masterthesis\\masterthesis\\mthesis\\lib\\site-packages\\rpy2\\situation.py[line:41] - INFO: cffi mode is CFFI_MODE.ANY\n",
      "2023-08-23 23:38:22,634 - c:\\Users\\JanMarco\\MLProjects\\Masterthesis\\masterthesis\\mthesis\\lib\\site-packages\\rpy2\\situation.py[line:218] - INFO: R home found: C:\\Program Files\\R\\R-4.3.1\n",
      "2023-08-23 23:38:22,650 - c:\\Users\\JanMarco\\MLProjects\\Masterthesis\\masterthesis\\mthesis\\lib\\site-packages\\rpy2\\rinterface_lib\\embedded.py[line:20] - INFO: Default options to initialize R: rpy2, --quiet, --no-save\n",
      "IProgress not found. Please update jupyter and ipywidgets. See https://ipywidgets.readthedocs.io/en/stable/user_install.html\n"
     ]
    }
   ],
   "source": [
    "%load_ext autoreload\n",
    "%autoreload 2\n",
    "from clustercausal.experiments.ExperimentRunner import ExperimentRunner\n",
    "import itertools\n",
    "import yaml\n",
    "import os\n",
    "import pickle\n",
    "import pandas as pd\n",
    "from clustercausal.utils.Utils import *"
   ]
  },
  {
   "cell_type": "code",
   "execution_count": 3,
   "metadata": {},
   "outputs": [
    {
     "name": "stderr",
     "output_type": "stream",
     "text": [
      "2023-08-23 15:07:26,447 - c:\\Users\\JanMarco\\MLProjects\\Masterthesis\\masterthesis\\mthesis\\lib\\site-packages\\castle\\datasets\\simulator.py[line:270] - INFO: Finished synthetic dataset\n"
     ]
    },
    {
     "name": "stdout",
     "output_type": "stream",
     "text": [
      "Number of experiments: 384\n",
      "Warning: n_edges is not exact due to gcastle implementation\n",
      "Duration of algorithm was 0.32sec\n"
     ]
    },
    {
     "name": "stderr",
     "output_type": "stream",
     "text": [
      "2023-08-23 15:07:39,339 - c:\\Users\\JanMarco\\MLProjects\\Masterthesis\\masterthesis\\mthesis\\lib\\site-packages\\castle\\datasets\\simulator.py[line:270] - INFO: Finished synthetic dataset\n"
     ]
    },
    {
     "name": "stdout",
     "output_type": "stream",
     "text": [
      "Warning: n_edges is not exact due to gcastle implementation\n",
      "Duration of algorithm was 0.21sec\n"
     ]
    },
    {
     "name": "stderr",
     "output_type": "stream",
     "text": [
      "2023-08-23 15:07:50,026 - c:\\Users\\JanMarco\\MLProjects\\Masterthesis\\masterthesis\\mthesis\\lib\\site-packages\\castle\\datasets\\simulator.py[line:270] - INFO: Finished synthetic dataset\n"
     ]
    },
    {
     "name": "stdout",
     "output_type": "stream",
     "text": [
      "Warning: n_edges is not exact due to gcastle implementation\n",
      "Duration of algorithm was 0.30sec\n"
     ]
    },
    {
     "name": "stderr",
     "output_type": "stream",
     "text": [
      "2023-08-23 15:07:59,877 - c:\\Users\\JanMarco\\MLProjects\\Masterthesis\\masterthesis\\mthesis\\lib\\site-packages\\castle\\datasets\\simulator.py[line:270] - INFO: Finished synthetic dataset\n"
     ]
    },
    {
     "name": "stdout",
     "output_type": "stream",
     "text": [
      "Warning: n_edges is not exact due to gcastle implementation\n",
      "Duration of algorithm was 0.54sec\n"
     ]
    },
    {
     "name": "stderr",
     "output_type": "stream",
     "text": [
      "2023-08-23 15:08:10,296 - c:\\Users\\JanMarco\\MLProjects\\Masterthesis\\masterthesis\\mthesis\\lib\\site-packages\\castle\\datasets\\simulator.py[line:270] - INFO: Finished synthetic dataset\n"
     ]
    },
    {
     "name": "stdout",
     "output_type": "stream",
     "text": [
      "Warning: n_edges is not exact due to gcastle implementation\n",
      "Duration of algorithm was 0.38sec\n"
     ]
    },
    {
     "name": "stderr",
     "output_type": "stream",
     "text": [
      "2023-08-23 15:08:20,562 - c:\\Users\\JanMarco\\MLProjects\\Masterthesis\\masterthesis\\mthesis\\lib\\site-packages\\castle\\datasets\\simulator.py[line:270] - INFO: Finished synthetic dataset\n"
     ]
    },
    {
     "name": "stdout",
     "output_type": "stream",
     "text": [
      "Warning: n_edges is not exact due to gcastle implementation\n",
      "Duration of algorithm was 0.27sec\n"
     ]
    },
    {
     "name": "stderr",
     "output_type": "stream",
     "text": [
      "2023-08-23 15:08:30,252 - c:\\Users\\JanMarco\\MLProjects\\Masterthesis\\masterthesis\\mthesis\\lib\\site-packages\\castle\\datasets\\simulator.py[line:270] - INFO: Finished synthetic dataset\n"
     ]
    },
    {
     "name": "stdout",
     "output_type": "stream",
     "text": [
      "Warning: n_edges is not exact due to gcastle implementation\n",
      "Duration of algorithm was 0.45sec\n"
     ]
    },
    {
     "name": "stderr",
     "output_type": "stream",
     "text": [
      "2023-08-23 15:08:40,285 - c:\\Users\\JanMarco\\MLProjects\\Masterthesis\\masterthesis\\mthesis\\lib\\site-packages\\castle\\datasets\\simulator.py[line:270] - INFO: Finished synthetic dataset\n"
     ]
    },
    {
     "name": "stdout",
     "output_type": "stream",
     "text": [
      "Warning: n_edges is not exact due to gcastle implementation\n",
      "Duration of algorithm was 0.75sec\n"
     ]
    },
    {
     "name": "stderr",
     "output_type": "stream",
     "text": [
      "2023-08-23 15:08:51,038 - c:\\Users\\JanMarco\\MLProjects\\Masterthesis\\masterthesis\\mthesis\\lib\\site-packages\\castle\\datasets\\simulator.py[line:270] - INFO: Finished synthetic dataset\n"
     ]
    },
    {
     "name": "stdout",
     "output_type": "stream",
     "text": [
      "Warning: n_edges is not exact due to gcastle implementation\n",
      "Duration of algorithm was 0.49sec\n"
     ]
    },
    {
     "name": "stderr",
     "output_type": "stream",
     "text": [
      "2023-08-23 15:09:01,147 - c:\\Users\\JanMarco\\MLProjects\\Masterthesis\\masterthesis\\mthesis\\lib\\site-packages\\castle\\datasets\\simulator.py[line:270] - INFO: Finished synthetic dataset\n"
     ]
    },
    {
     "name": "stdout",
     "output_type": "stream",
     "text": [
      "Warning: n_edges is not exact due to gcastle implementation\n",
      "Duration of algorithm was 0.36sec\n"
     ]
    },
    {
     "name": "stderr",
     "output_type": "stream",
     "text": [
      "2023-08-23 15:09:10,974 - c:\\Users\\JanMarco\\MLProjects\\Masterthesis\\masterthesis\\mthesis\\lib\\site-packages\\castle\\datasets\\simulator.py[line:270] - INFO: Finished synthetic dataset\n"
     ]
    },
    {
     "name": "stdout",
     "output_type": "stream",
     "text": [
      "Warning: n_edges is not exact due to gcastle implementation\n",
      "Duration of algorithm was 0.60sec\n"
     ]
    },
    {
     "name": "stderr",
     "output_type": "stream",
     "text": [
      "2023-08-23 15:09:21,561 - c:\\Users\\JanMarco\\MLProjects\\Masterthesis\\masterthesis\\mthesis\\lib\\site-packages\\castle\\datasets\\simulator.py[line:270] - INFO: Finished synthetic dataset\n"
     ]
    },
    {
     "name": "stdout",
     "output_type": "stream",
     "text": [
      "Warning: n_edges is not exact due to gcastle implementation\n",
      "Duration of algorithm was 0.36sec\n"
     ]
    },
    {
     "name": "stderr",
     "output_type": "stream",
     "text": [
      "2023-08-23 15:09:31,410 - c:\\Users\\JanMarco\\MLProjects\\Masterthesis\\masterthesis\\mthesis\\lib\\site-packages\\castle\\datasets\\simulator.py[line:270] - INFO: Finished synthetic dataset\n"
     ]
    },
    {
     "name": "stdout",
     "output_type": "stream",
     "text": [
      "Warning: n_edges is not exact due to gcastle implementation\n",
      "Duration of algorithm was 0.22sec\n"
     ]
    },
    {
     "name": "stderr",
     "output_type": "stream",
     "text": [
      "2023-08-23 15:09:41,133 - c:\\Users\\JanMarco\\MLProjects\\Masterthesis\\masterthesis\\mthesis\\lib\\site-packages\\castle\\datasets\\simulator.py[line:270] - INFO: Finished synthetic dataset\n"
     ]
    },
    {
     "name": "stdout",
     "output_type": "stream",
     "text": [
      "Warning: n_edges is not exact due to gcastle implementation\n",
      "Duration of algorithm was 0.35sec\n"
     ]
    },
    {
     "name": "stderr",
     "output_type": "stream",
     "text": [
      "2023-08-23 15:09:51,035 - c:\\Users\\JanMarco\\MLProjects\\Masterthesis\\masterthesis\\mthesis\\lib\\site-packages\\castle\\datasets\\simulator.py[line:270] - INFO: Finished synthetic dataset\n"
     ]
    },
    {
     "name": "stdout",
     "output_type": "stream",
     "text": [
      "Warning: n_edges is not exact due to gcastle implementation\n",
      "Duration of algorithm was 0.31sec\n"
     ]
    },
    {
     "name": "stderr",
     "output_type": "stream",
     "text": [
      "2023-08-23 15:10:01,031 - c:\\Users\\JanMarco\\MLProjects\\Masterthesis\\masterthesis\\mthesis\\lib\\site-packages\\castle\\datasets\\simulator.py[line:270] - INFO: Finished synthetic dataset\n"
     ]
    },
    {
     "name": "stdout",
     "output_type": "stream",
     "text": [
      "Warning: n_edges is not exact due to gcastle implementation\n",
      "Duration of algorithm was 0.40sec\n"
     ]
    },
    {
     "name": "stderr",
     "output_type": "stream",
     "text": [
      "2023-08-23 15:10:14,448 - c:\\Users\\JanMarco\\MLProjects\\Masterthesis\\masterthesis\\mthesis\\lib\\site-packages\\castle\\datasets\\simulator.py[line:270] - INFO: Finished synthetic dataset\n"
     ]
    },
    {
     "name": "stdout",
     "output_type": "stream",
     "text": [
      "Warning: n_edges is not exact due to gcastle implementation\n",
      "Duration of algorithm was 0.27sec\n"
     ]
    },
    {
     "name": "stderr",
     "output_type": "stream",
     "text": [
      "2023-08-23 15:10:24,310 - c:\\Users\\JanMarco\\MLProjects\\Masterthesis\\masterthesis\\mthesis\\lib\\site-packages\\castle\\datasets\\simulator.py[line:270] - INFO: Finished synthetic dataset\n"
     ]
    },
    {
     "name": "stdout",
     "output_type": "stream",
     "text": [
      "Warning: n_edges is not exact due to gcastle implementation\n",
      "Duration of algorithm was 0.32sec\n"
     ]
    },
    {
     "name": "stderr",
     "output_type": "stream",
     "text": [
      "2023-08-23 15:10:34,205 - c:\\Users\\JanMarco\\MLProjects\\Masterthesis\\masterthesis\\mthesis\\lib\\site-packages\\castle\\datasets\\simulator.py[line:270] - INFO: Finished synthetic dataset\n"
     ]
    },
    {
     "name": "stdout",
     "output_type": "stream",
     "text": [
      "Warning: n_edges is not exact due to gcastle implementation\n",
      "Duration of algorithm was 0.27sec\n"
     ]
    },
    {
     "name": "stderr",
     "output_type": "stream",
     "text": [
      "2023-08-23 15:10:44,008 - c:\\Users\\JanMarco\\MLProjects\\Masterthesis\\masterthesis\\mthesis\\lib\\site-packages\\castle\\datasets\\simulator.py[line:270] - INFO: Finished synthetic dataset\n"
     ]
    },
    {
     "name": "stdout",
     "output_type": "stream",
     "text": [
      "Warning: n_edges is not exact due to gcastle implementation\n",
      "Duration of algorithm was 0.69sec\n"
     ]
    },
    {
     "name": "stderr",
     "output_type": "stream",
     "text": [
      "2023-08-23 15:10:54,866 - c:\\Users\\JanMarco\\MLProjects\\Masterthesis\\masterthesis\\mthesis\\lib\\site-packages\\castle\\datasets\\simulator.py[line:270] - INFO: Finished synthetic dataset\n"
     ]
    },
    {
     "name": "stdout",
     "output_type": "stream",
     "text": [
      "Warning: n_edges is not exact due to gcastle implementation\n",
      "Duration of algorithm was 0.36sec\n"
     ]
    },
    {
     "name": "stderr",
     "output_type": "stream",
     "text": [
      "2023-08-23 15:11:07,745 - c:\\Users\\JanMarco\\MLProjects\\Masterthesis\\masterthesis\\mthesis\\lib\\site-packages\\castle\\datasets\\simulator.py[line:270] - INFO: Finished synthetic dataset\n"
     ]
    },
    {
     "name": "stdout",
     "output_type": "stream",
     "text": [
      "Warning: n_edges is not exact due to gcastle implementation\n",
      "Duration of algorithm was 0.33sec\n"
     ]
    },
    {
     "name": "stderr",
     "output_type": "stream",
     "text": [
      "2023-08-23 15:11:17,623 - c:\\Users\\JanMarco\\MLProjects\\Masterthesis\\masterthesis\\mthesis\\lib\\site-packages\\castle\\datasets\\simulator.py[line:270] - INFO: Finished synthetic dataset\n"
     ]
    },
    {
     "name": "stdout",
     "output_type": "stream",
     "text": [
      "Warning: n_edges is not exact due to gcastle implementation\n",
      "Duration of algorithm was 0.33sec\n"
     ]
    },
    {
     "name": "stderr",
     "output_type": "stream",
     "text": [
      "2023-08-23 15:11:27,461 - c:\\Users\\JanMarco\\MLProjects\\Masterthesis\\masterthesis\\mthesis\\lib\\site-packages\\castle\\datasets\\simulator.py[line:270] - INFO: Finished synthetic dataset\n"
     ]
    },
    {
     "name": "stdout",
     "output_type": "stream",
     "text": [
      "Warning: n_edges is not exact due to gcastle implementation\n",
      "Duration of algorithm was 0.30sec\n"
     ]
    },
    {
     "name": "stderr",
     "output_type": "stream",
     "text": [
      "2023-08-23 15:11:37,343 - c:\\Users\\JanMarco\\MLProjects\\Masterthesis\\masterthesis\\mthesis\\lib\\site-packages\\castle\\datasets\\simulator.py[line:270] - INFO: Finished synthetic dataset\n"
     ]
    },
    {
     "name": "stdout",
     "output_type": "stream",
     "text": [
      "Warning: n_edges is not exact due to gcastle implementation\n",
      "Duration of algorithm was 0.75sec\n"
     ]
    },
    {
     "name": "stderr",
     "output_type": "stream",
     "text": [
      "2023-08-23 15:11:48,302 - c:\\Users\\JanMarco\\MLProjects\\Masterthesis\\masterthesis\\mthesis\\lib\\site-packages\\castle\\datasets\\simulator.py[line:270] - INFO: Finished synthetic dataset\n"
     ]
    },
    {
     "name": "stdout",
     "output_type": "stream",
     "text": [
      "Warning: n_edges is not exact due to gcastle implementation\n",
      "Duration of algorithm was 0.66sec\n"
     ]
    },
    {
     "name": "stderr",
     "output_type": "stream",
     "text": [
      "2023-08-23 15:11:58,866 - c:\\Users\\JanMarco\\MLProjects\\Masterthesis\\masterthesis\\mthesis\\lib\\site-packages\\castle\\datasets\\simulator.py[line:270] - INFO: Finished synthetic dataset\n"
     ]
    },
    {
     "name": "stdout",
     "output_type": "stream",
     "text": [
      "Warning: n_edges is not exact due to gcastle implementation\n",
      "Duration of algorithm was 0.90sec\n"
     ]
    },
    {
     "name": "stderr",
     "output_type": "stream",
     "text": [
      "2023-08-23 15:12:10,477 - c:\\Users\\JanMarco\\MLProjects\\Masterthesis\\masterthesis\\mthesis\\lib\\site-packages\\castle\\datasets\\simulator.py[line:270] - INFO: Finished synthetic dataset\n"
     ]
    },
    {
     "name": "stdout",
     "output_type": "stream",
     "text": [
      "Warning: n_edges is not exact due to gcastle implementation\n",
      "Duration of algorithm was 1.24sec\n"
     ]
    },
    {
     "name": "stderr",
     "output_type": "stream",
     "text": [
      "2023-08-23 15:12:22,648 - c:\\Users\\JanMarco\\MLProjects\\Masterthesis\\masterthesis\\mthesis\\lib\\site-packages\\castle\\datasets\\simulator.py[line:270] - INFO: Finished synthetic dataset\n"
     ]
    },
    {
     "name": "stdout",
     "output_type": "stream",
     "text": [
      "Warning: n_edges is not exact due to gcastle implementation\n",
      "Duration of algorithm was 0.85sec\n"
     ]
    },
    {
     "name": "stderr",
     "output_type": "stream",
     "text": [
      "2023-08-23 15:12:33,904 - c:\\Users\\JanMarco\\MLProjects\\Masterthesis\\masterthesis\\mthesis\\lib\\site-packages\\castle\\datasets\\simulator.py[line:270] - INFO: Finished synthetic dataset\n"
     ]
    },
    {
     "name": "stdout",
     "output_type": "stream",
     "text": [
      "Warning: n_edges is not exact due to gcastle implementation\n",
      "Duration of algorithm was 0.64sec\n"
     ]
    },
    {
     "name": "stderr",
     "output_type": "stream",
     "text": [
      "2023-08-23 15:12:44,316 - c:\\Users\\JanMarco\\MLProjects\\Masterthesis\\masterthesis\\mthesis\\lib\\site-packages\\castle\\datasets\\simulator.py[line:270] - INFO: Finished synthetic dataset\n"
     ]
    },
    {
     "name": "stdout",
     "output_type": "stream",
     "text": [
      "Warning: n_edges is not exact due to gcastle implementation\n",
      "Duration of algorithm was 0.66sec\n"
     ]
    },
    {
     "name": "stderr",
     "output_type": "stream",
     "text": [
      "2023-08-23 15:12:55,498 - c:\\Users\\JanMarco\\MLProjects\\Masterthesis\\masterthesis\\mthesis\\lib\\site-packages\\castle\\datasets\\simulator.py[line:270] - INFO: Finished synthetic dataset\n"
     ]
    },
    {
     "name": "stdout",
     "output_type": "stream",
     "text": [
      "Warning: n_edges is not exact due to gcastle implementation\n",
      "Duration of algorithm was 0.68sec\n"
     ]
    },
    {
     "name": "stderr",
     "output_type": "stream",
     "text": [
      "2023-08-23 15:13:06,436 - c:\\Users\\JanMarco\\MLProjects\\Masterthesis\\masterthesis\\mthesis\\lib\\site-packages\\castle\\datasets\\simulator.py[line:270] - INFO: Finished synthetic dataset\n"
     ]
    },
    {
     "name": "stdout",
     "output_type": "stream",
     "text": [
      "Warning: n_edges is not exact due to gcastle implementation\n",
      "Duration of algorithm was 0.55sec\n"
     ]
    },
    {
     "name": "stderr",
     "output_type": "stream",
     "text": [
      "2023-08-23 15:13:17,944 - c:\\Users\\JanMarco\\MLProjects\\Masterthesis\\masterthesis\\mthesis\\lib\\site-packages\\castle\\datasets\\simulator.py[line:270] - INFO: Finished synthetic dataset\n"
     ]
    },
    {
     "name": "stdout",
     "output_type": "stream",
     "text": [
      "Warning: n_edges is not exact due to gcastle implementation\n",
      "Duration of algorithm was 0.76sec\n"
     ]
    },
    {
     "name": "stderr",
     "output_type": "stream",
     "text": [
      "2023-08-23 15:13:28,705 - c:\\Users\\JanMarco\\MLProjects\\Masterthesis\\masterthesis\\mthesis\\lib\\site-packages\\castle\\datasets\\simulator.py[line:270] - INFO: Finished synthetic dataset\n"
     ]
    },
    {
     "name": "stdout",
     "output_type": "stream",
     "text": [
      "Warning: n_edges is not exact due to gcastle implementation\n",
      "Duration of algorithm was 0.77sec\n"
     ]
    },
    {
     "name": "stderr",
     "output_type": "stream",
     "text": [
      "2023-08-23 15:13:40,407 - c:\\Users\\JanMarco\\MLProjects\\Masterthesis\\masterthesis\\mthesis\\lib\\site-packages\\castle\\datasets\\simulator.py[line:270] - INFO: Finished synthetic dataset\n"
     ]
    },
    {
     "name": "stdout",
     "output_type": "stream",
     "text": [
      "Warning: n_edges is not exact due to gcastle implementation\n",
      "Duration of algorithm was 0.74sec\n"
     ]
    },
    {
     "name": "stderr",
     "output_type": "stream",
     "text": [
      "2023-08-23 15:13:51,288 - c:\\Users\\JanMarco\\MLProjects\\Masterthesis\\masterthesis\\mthesis\\lib\\site-packages\\castle\\datasets\\simulator.py[line:270] - INFO: Finished synthetic dataset\n"
     ]
    },
    {
     "name": "stdout",
     "output_type": "stream",
     "text": [
      "Warning: n_edges is not exact due to gcastle implementation\n",
      "Duration of algorithm was 0.52sec\n"
     ]
    },
    {
     "name": "stderr",
     "output_type": "stream",
     "text": [
      "2023-08-23 15:14:01,749 - c:\\Users\\JanMarco\\MLProjects\\Masterthesis\\masterthesis\\mthesis\\lib\\site-packages\\castle\\datasets\\simulator.py[line:270] - INFO: Finished synthetic dataset\n"
     ]
    },
    {
     "name": "stdout",
     "output_type": "stream",
     "text": [
      "Warning: n_edges is not exact due to gcastle implementation\n",
      "Duration of algorithm was 0.46sec\n"
     ]
    },
    {
     "name": "stderr",
     "output_type": "stream",
     "text": [
      "2023-08-23 15:14:11,861 - c:\\Users\\JanMarco\\MLProjects\\Masterthesis\\masterthesis\\mthesis\\lib\\site-packages\\castle\\datasets\\simulator.py[line:270] - INFO: Finished synthetic dataset\n"
     ]
    },
    {
     "name": "stdout",
     "output_type": "stream",
     "text": [
      "Warning: n_edges is not exact due to gcastle implementation\n",
      "Duration of algorithm was 0.54sec\n"
     ]
    },
    {
     "name": "stderr",
     "output_type": "stream",
     "text": [
      "2023-08-23 15:14:22,101 - c:\\Users\\JanMarco\\MLProjects\\Masterthesis\\masterthesis\\mthesis\\lib\\site-packages\\castle\\datasets\\simulator.py[line:270] - INFO: Finished synthetic dataset\n"
     ]
    },
    {
     "name": "stdout",
     "output_type": "stream",
     "text": [
      "Warning: n_edges is not exact due to gcastle implementation\n",
      "Duration of algorithm was 0.63sec\n"
     ]
    },
    {
     "name": "stderr",
     "output_type": "stream",
     "text": [
      "2023-08-23 15:14:32,850 - c:\\Users\\JanMarco\\MLProjects\\Masterthesis\\masterthesis\\mthesis\\lib\\site-packages\\castle\\datasets\\simulator.py[line:270] - INFO: Finished synthetic dataset\n"
     ]
    },
    {
     "name": "stdout",
     "output_type": "stream",
     "text": [
      "Warning: n_edges is not exact due to gcastle implementation\n",
      "Duration of algorithm was 0.55sec\n"
     ]
    },
    {
     "name": "stderr",
     "output_type": "stream",
     "text": [
      "2023-08-23 15:14:43,400 - c:\\Users\\JanMarco\\MLProjects\\Masterthesis\\masterthesis\\mthesis\\lib\\site-packages\\castle\\datasets\\simulator.py[line:270] - INFO: Finished synthetic dataset\n"
     ]
    },
    {
     "name": "stdout",
     "output_type": "stream",
     "text": [
      "Warning: n_edges is not exact due to gcastle implementation\n",
      "Duration of algorithm was 0.45sec\n"
     ]
    },
    {
     "name": "stderr",
     "output_type": "stream",
     "text": [
      "2023-08-23 15:14:53,458 - c:\\Users\\JanMarco\\MLProjects\\Masterthesis\\masterthesis\\mthesis\\lib\\site-packages\\castle\\datasets\\simulator.py[line:270] - INFO: Finished synthetic dataset\n"
     ]
    },
    {
     "name": "stdout",
     "output_type": "stream",
     "text": [
      "Warning: n_edges is not exact due to gcastle implementation\n",
      "Duration of algorithm was 0.77sec\n"
     ]
    },
    {
     "name": "stderr",
     "output_type": "stream",
     "text": [
      "2023-08-23 15:15:04,382 - c:\\Users\\JanMarco\\MLProjects\\Masterthesis\\masterthesis\\mthesis\\lib\\site-packages\\castle\\datasets\\simulator.py[line:270] - INFO: Finished synthetic dataset\n"
     ]
    },
    {
     "name": "stdout",
     "output_type": "stream",
     "text": [
      "Warning: n_edges is not exact due to gcastle implementation\n",
      "Duration of algorithm was 0.86sec\n"
     ]
    },
    {
     "name": "stderr",
     "output_type": "stream",
     "text": [
      "2023-08-23 15:15:15,557 - c:\\Users\\JanMarco\\MLProjects\\Masterthesis\\masterthesis\\mthesis\\lib\\site-packages\\castle\\datasets\\simulator.py[line:270] - INFO: Finished synthetic dataset\n"
     ]
    },
    {
     "name": "stdout",
     "output_type": "stream",
     "text": [
      "Warning: n_edges is not exact due to gcastle implementation\n",
      "Duration of algorithm was 0.75sec\n"
     ]
    },
    {
     "name": "stderr",
     "output_type": "stream",
     "text": [
      "2023-08-23 15:15:29,585 - c:\\Users\\JanMarco\\MLProjects\\Masterthesis\\masterthesis\\mthesis\\lib\\site-packages\\castle\\datasets\\simulator.py[line:270] - INFO: Finished synthetic dataset\n"
     ]
    },
    {
     "name": "stdout",
     "output_type": "stream",
     "text": [
      "Warning: n_edges is not exact due to gcastle implementation\n",
      "Duration of algorithm was 0.70sec\n"
     ]
    },
    {
     "name": "stderr",
     "output_type": "stream",
     "text": [
      "2023-08-23 15:15:40,268 - c:\\Users\\JanMarco\\MLProjects\\Masterthesis\\masterthesis\\mthesis\\lib\\site-packages\\castle\\datasets\\simulator.py[line:270] - INFO: Finished synthetic dataset\n"
     ]
    },
    {
     "name": "stdout",
     "output_type": "stream",
     "text": [
      "Warning: n_edges is not exact due to gcastle implementation\n",
      "Duration of algorithm was 0.62sec\n"
     ]
    },
    {
     "name": "stderr",
     "output_type": "stream",
     "text": [
      "2023-08-23 15:15:50,968 - c:\\Users\\JanMarco\\MLProjects\\Masterthesis\\masterthesis\\mthesis\\lib\\site-packages\\castle\\datasets\\simulator.py[line:270] - INFO: Finished synthetic dataset\n"
     ]
    },
    {
     "name": "stdout",
     "output_type": "stream",
     "text": [
      "Warning: n_edges is not exact due to gcastle implementation\n",
      "Duration of algorithm was 0.52sec\n"
     ]
    },
    {
     "name": "stderr",
     "output_type": "stream",
     "text": [
      "2023-08-23 15:16:01,302 - c:\\Users\\JanMarco\\MLProjects\\Masterthesis\\masterthesis\\mthesis\\lib\\site-packages\\castle\\datasets\\simulator.py[line:270] - INFO: Finished synthetic dataset\n"
     ]
    },
    {
     "name": "stdout",
     "output_type": "stream",
     "text": [
      "Warning: n_edges is not exact due to gcastle implementation\n",
      "Duration of algorithm was 1.19sec\n"
     ]
    },
    {
     "name": "stderr",
     "output_type": "stream",
     "text": [
      "2023-08-23 15:16:12,917 - c:\\Users\\JanMarco\\MLProjects\\Masterthesis\\masterthesis\\mthesis\\lib\\site-packages\\castle\\datasets\\simulator.py[line:270] - INFO: Finished synthetic dataset\n"
     ]
    },
    {
     "name": "stdout",
     "output_type": "stream",
     "text": [
      "Warning: n_edges is not exact due to gcastle implementation\n",
      "Duration of algorithm was 1.41sec\n"
     ]
    },
    {
     "name": "stderr",
     "output_type": "stream",
     "text": [
      "2023-08-23 15:16:24,914 - c:\\Users\\JanMarco\\MLProjects\\Masterthesis\\masterthesis\\mthesis\\lib\\site-packages\\castle\\datasets\\simulator.py[line:270] - INFO: Finished synthetic dataset\n"
     ]
    },
    {
     "name": "stdout",
     "output_type": "stream",
     "text": [
      "Warning: n_edges is not exact due to gcastle implementation\n",
      "Duration of algorithm was 1.31sec\n"
     ]
    },
    {
     "name": "stderr",
     "output_type": "stream",
     "text": [
      "2023-08-23 15:16:37,616 - c:\\Users\\JanMarco\\MLProjects\\Masterthesis\\masterthesis\\mthesis\\lib\\site-packages\\castle\\datasets\\simulator.py[line:270] - INFO: Finished synthetic dataset\n"
     ]
    },
    {
     "name": "stdout",
     "output_type": "stream",
     "text": [
      "Warning: n_edges is not exact due to gcastle implementation\n",
      "Duration of algorithm was 1.83sec\n"
     ]
    },
    {
     "name": "stderr",
     "output_type": "stream",
     "text": [
      "2023-08-23 15:16:50,098 - c:\\Users\\JanMarco\\MLProjects\\Masterthesis\\masterthesis\\mthesis\\lib\\site-packages\\castle\\datasets\\simulator.py[line:270] - INFO: Finished synthetic dataset\n"
     ]
    },
    {
     "name": "stdout",
     "output_type": "stream",
     "text": [
      "Warning: n_edges is not exact due to gcastle implementation\n",
      "Duration of algorithm was 1.09sec\n"
     ]
    },
    {
     "name": "stderr",
     "output_type": "stream",
     "text": [
      "2023-08-23 15:17:01,363 - c:\\Users\\JanMarco\\MLProjects\\Masterthesis\\masterthesis\\mthesis\\lib\\site-packages\\castle\\datasets\\simulator.py[line:270] - INFO: Finished synthetic dataset\n"
     ]
    },
    {
     "name": "stdout",
     "output_type": "stream",
     "text": [
      "Warning: n_edges is not exact due to gcastle implementation\n",
      "Duration of algorithm was 1.26sec\n"
     ]
    },
    {
     "name": "stderr",
     "output_type": "stream",
     "text": [
      "2023-08-23 15:17:13,167 - c:\\Users\\JanMarco\\MLProjects\\Masterthesis\\masterthesis\\mthesis\\lib\\site-packages\\castle\\datasets\\simulator.py[line:270] - INFO: Finished synthetic dataset\n"
     ]
    },
    {
     "name": "stdout",
     "output_type": "stream",
     "text": [
      "Warning: n_edges is not exact due to gcastle implementation\n",
      "Duration of algorithm was 1.75sec\n"
     ]
    },
    {
     "name": "stderr",
     "output_type": "stream",
     "text": [
      "2023-08-23 15:17:26,404 - c:\\Users\\JanMarco\\MLProjects\\Masterthesis\\masterthesis\\mthesis\\lib\\site-packages\\castle\\datasets\\simulator.py[line:270] - INFO: Finished synthetic dataset\n"
     ]
    },
    {
     "name": "stdout",
     "output_type": "stream",
     "text": [
      "Warning: n_edges is not exact due to gcastle implementation\n",
      "Duration of algorithm was 2.00sec\n"
     ]
    },
    {
     "name": "stderr",
     "output_type": "stream",
     "text": [
      "2023-08-23 15:17:46,344 - c:\\Users\\JanMarco\\MLProjects\\Masterthesis\\masterthesis\\mthesis\\lib\\site-packages\\castle\\datasets\\simulator.py[line:270] - INFO: Finished synthetic dataset\n"
     ]
    },
    {
     "name": "stdout",
     "output_type": "stream",
     "text": [
      "Warning: n_edges is not exact due to gcastle implementation\n",
      "Duration of algorithm was 1.99sec\n"
     ]
    },
    {
     "name": "stderr",
     "output_type": "stream",
     "text": [
      "2023-08-23 15:18:00,075 - c:\\Users\\JanMarco\\MLProjects\\Masterthesis\\masterthesis\\mthesis\\lib\\site-packages\\castle\\datasets\\simulator.py[line:270] - INFO: Finished synthetic dataset\n"
     ]
    },
    {
     "name": "stdout",
     "output_type": "stream",
     "text": [
      "Warning: n_edges is not exact due to gcastle implementation\n",
      "Duration of algorithm was 2.38sec\n"
     ]
    },
    {
     "name": "stderr",
     "output_type": "stream",
     "text": [
      "2023-08-23 15:18:13,675 - c:\\Users\\JanMarco\\MLProjects\\Masterthesis\\masterthesis\\mthesis\\lib\\site-packages\\castle\\datasets\\simulator.py[line:270] - INFO: Finished synthetic dataset\n"
     ]
    },
    {
     "name": "stdout",
     "output_type": "stream",
     "text": [
      "Warning: n_edges is not exact due to gcastle implementation\n",
      "Duration of algorithm was 2.33sec\n"
     ]
    },
    {
     "name": "stderr",
     "output_type": "stream",
     "text": [
      "2023-08-23 15:18:27,373 - c:\\Users\\JanMarco\\MLProjects\\Masterthesis\\masterthesis\\mthesis\\lib\\site-packages\\castle\\datasets\\simulator.py[line:270] - INFO: Finished synthetic dataset\n"
     ]
    },
    {
     "name": "stdout",
     "output_type": "stream",
     "text": [
      "Warning: n_edges is not exact due to gcastle implementation\n",
      "Duration of algorithm was 1.65sec\n"
     ]
    },
    {
     "name": "stderr",
     "output_type": "stream",
     "text": [
      "2023-08-23 15:18:40,090 - c:\\Users\\JanMarco\\MLProjects\\Masterthesis\\masterthesis\\mthesis\\lib\\site-packages\\castle\\datasets\\simulator.py[line:270] - INFO: Finished synthetic dataset\n"
     ]
    },
    {
     "name": "stdout",
     "output_type": "stream",
     "text": [
      "Warning: n_edges is not exact due to gcastle implementation\n",
      "Duration of algorithm was 2.07sec\n"
     ]
    },
    {
     "name": "stderr",
     "output_type": "stream",
     "text": [
      "2023-08-23 15:18:52,947 - c:\\Users\\JanMarco\\MLProjects\\Masterthesis\\masterthesis\\mthesis\\lib\\site-packages\\castle\\datasets\\simulator.py[line:270] - INFO: Finished synthetic dataset\n"
     ]
    },
    {
     "name": "stdout",
     "output_type": "stream",
     "text": [
      "Warning: n_edges is not exact due to gcastle implementation\n",
      "Duration of algorithm was 1.44sec\n"
     ]
    },
    {
     "name": "stderr",
     "output_type": "stream",
     "text": [
      "2023-08-23 15:19:04,874 - c:\\Users\\JanMarco\\MLProjects\\Masterthesis\\masterthesis\\mthesis\\lib\\site-packages\\castle\\datasets\\simulator.py[line:270] - INFO: Finished synthetic dataset\n"
     ]
    },
    {
     "name": "stdout",
     "output_type": "stream",
     "text": [
      "Warning: n_edges is not exact due to gcastle implementation\n",
      "Duration of algorithm was 1.16sec\n"
     ]
    },
    {
     "name": "stderr",
     "output_type": "stream",
     "text": [
      "2023-08-23 15:19:16,256 - c:\\Users\\JanMarco\\MLProjects\\Masterthesis\\masterthesis\\mthesis\\lib\\site-packages\\castle\\datasets\\simulator.py[line:270] - INFO: Finished synthetic dataset\n"
     ]
    },
    {
     "name": "stdout",
     "output_type": "stream",
     "text": [
      "Warning: n_edges is not exact due to gcastle implementation\n",
      "Duration of algorithm was 1.26sec\n"
     ]
    },
    {
     "name": "stderr",
     "output_type": "stream",
     "text": [
      "2023-08-23 15:19:28,835 - c:\\Users\\JanMarco\\MLProjects\\Masterthesis\\masterthesis\\mthesis\\lib\\site-packages\\castle\\datasets\\simulator.py[line:270] - INFO: Finished synthetic dataset\n"
     ]
    },
    {
     "name": "stdout",
     "output_type": "stream",
     "text": [
      "Warning: n_edges is not exact due to gcastle implementation\n",
      "Duration of algorithm was 1.45sec\n"
     ]
    },
    {
     "name": "stderr",
     "output_type": "stream",
     "text": [
      "2023-08-23 15:19:42,827 - c:\\Users\\JanMarco\\MLProjects\\Masterthesis\\masterthesis\\mthesis\\lib\\site-packages\\castle\\datasets\\simulator.py[line:270] - INFO: Finished synthetic dataset\n"
     ]
    },
    {
     "name": "stdout",
     "output_type": "stream",
     "text": [
      "Warning: n_edges is not exact due to gcastle implementation\n",
      "Duration of algorithm was 1.58sec\n"
     ]
    },
    {
     "name": "stderr",
     "output_type": "stream",
     "text": [
      "2023-08-23 15:19:54,675 - c:\\Users\\JanMarco\\MLProjects\\Masterthesis\\masterthesis\\mthesis\\lib\\site-packages\\castle\\datasets\\simulator.py[line:270] - INFO: Finished synthetic dataset\n"
     ]
    },
    {
     "name": "stdout",
     "output_type": "stream",
     "text": [
      "Warning: n_edges is not exact due to gcastle implementation\n",
      "Duration of algorithm was 1.67sec\n"
     ]
    },
    {
     "name": "stderr",
     "output_type": "stream",
     "text": [
      "2023-08-23 15:20:06,815 - c:\\Users\\JanMarco\\MLProjects\\Masterthesis\\masterthesis\\mthesis\\lib\\site-packages\\castle\\datasets\\simulator.py[line:270] - INFO: Finished synthetic dataset\n"
     ]
    },
    {
     "name": "stdout",
     "output_type": "stream",
     "text": [
      "Warning: n_edges is not exact due to gcastle implementation\n",
      "Duration of algorithm was 1.73sec\n"
     ]
    },
    {
     "name": "stderr",
     "output_type": "stream",
     "text": [
      "2023-08-23 15:20:19,121 - c:\\Users\\JanMarco\\MLProjects\\Masterthesis\\masterthesis\\mthesis\\lib\\site-packages\\castle\\datasets\\simulator.py[line:270] - INFO: Finished synthetic dataset\n"
     ]
    },
    {
     "name": "stdout",
     "output_type": "stream",
     "text": [
      "Warning: n_edges is not exact due to gcastle implementation\n",
      "Duration of algorithm was 2.04sec\n"
     ]
    },
    {
     "name": "stderr",
     "output_type": "stream",
     "text": [
      "2023-08-23 15:20:32,088 - c:\\Users\\JanMarco\\MLProjects\\Masterthesis\\masterthesis\\mthesis\\lib\\site-packages\\castle\\datasets\\simulator.py[line:270] - INFO: Finished synthetic dataset\n"
     ]
    },
    {
     "name": "stdout",
     "output_type": "stream",
     "text": [
      "Warning: n_edges is not exact due to gcastle implementation\n",
      "Duration of algorithm was 1.72sec\n"
     ]
    },
    {
     "name": "stderr",
     "output_type": "stream",
     "text": [
      "2023-08-23 15:20:45,821 - c:\\Users\\JanMarco\\MLProjects\\Masterthesis\\masterthesis\\mthesis\\lib\\site-packages\\castle\\datasets\\simulator.py[line:270] - INFO: Finished synthetic dataset\n"
     ]
    },
    {
     "name": "stdout",
     "output_type": "stream",
     "text": [
      "Warning: n_edges is not exact due to gcastle implementation\n",
      "Duration of algorithm was 2.23sec\n"
     ]
    },
    {
     "name": "stderr",
     "output_type": "stream",
     "text": [
      "2023-08-23 15:20:59,025 - c:\\Users\\JanMarco\\MLProjects\\Masterthesis\\masterthesis\\mthesis\\lib\\site-packages\\castle\\datasets\\simulator.py[line:270] - INFO: Finished synthetic dataset\n"
     ]
    },
    {
     "name": "stdout",
     "output_type": "stream",
     "text": [
      "Warning: n_edges is not exact due to gcastle implementation\n",
      "Duration of algorithm was 2.72sec\n"
     ]
    },
    {
     "name": "stderr",
     "output_type": "stream",
     "text": [
      "2023-08-23 15:21:16,279 - c:\\Users\\JanMarco\\MLProjects\\Masterthesis\\masterthesis\\mthesis\\lib\\site-packages\\castle\\datasets\\simulator.py[line:270] - INFO: Finished synthetic dataset\n"
     ]
    },
    {
     "name": "stdout",
     "output_type": "stream",
     "text": [
      "Warning: n_edges is not exact due to gcastle implementation\n",
      "Duration of algorithm was 0.39sec\n"
     ]
    },
    {
     "name": "stderr",
     "output_type": "stream",
     "text": [
      "2023-08-23 15:21:26,065 - c:\\Users\\JanMarco\\MLProjects\\Masterthesis\\masterthesis\\mthesis\\lib\\site-packages\\castle\\datasets\\simulator.py[line:270] - INFO: Finished synthetic dataset\n"
     ]
    },
    {
     "name": "stdout",
     "output_type": "stream",
     "text": [
      "Warning: n_edges is not exact due to gcastle implementation\n",
      "Duration of algorithm was 0.58sec\n"
     ]
    },
    {
     "name": "stderr",
     "output_type": "stream",
     "text": [
      "2023-08-23 15:21:36,497 - c:\\Users\\JanMarco\\MLProjects\\Masterthesis\\masterthesis\\mthesis\\lib\\site-packages\\castle\\datasets\\simulator.py[line:270] - INFO: Finished synthetic dataset\n"
     ]
    },
    {
     "name": "stdout",
     "output_type": "stream",
     "text": [
      "Warning: n_edges is not exact due to gcastle implementation\n",
      "Duration of algorithm was 0.55sec\n"
     ]
    },
    {
     "name": "stderr",
     "output_type": "stream",
     "text": [
      "2023-08-23 15:21:46,897 - c:\\Users\\JanMarco\\MLProjects\\Masterthesis\\masterthesis\\mthesis\\lib\\site-packages\\castle\\datasets\\simulator.py[line:270] - INFO: Finished synthetic dataset\n"
     ]
    },
    {
     "name": "stdout",
     "output_type": "stream",
     "text": [
      "Warning: n_edges is not exact due to gcastle implementation\n",
      "Duration of algorithm was 0.64sec\n"
     ]
    },
    {
     "name": "stderr",
     "output_type": "stream",
     "text": [
      "2023-08-23 15:21:57,492 - c:\\Users\\JanMarco\\MLProjects\\Masterthesis\\masterthesis\\mthesis\\lib\\site-packages\\castle\\datasets\\simulator.py[line:270] - INFO: Finished synthetic dataset\n"
     ]
    },
    {
     "name": "stdout",
     "output_type": "stream",
     "text": [
      "Warning: n_edges is not exact due to gcastle implementation\n",
      "Duration of algorithm was 0.48sec\n"
     ]
    },
    {
     "name": "stderr",
     "output_type": "stream",
     "text": [
      "2023-08-23 15:22:07,551 - c:\\Users\\JanMarco\\MLProjects\\Masterthesis\\masterthesis\\mthesis\\lib\\site-packages\\castle\\datasets\\simulator.py[line:270] - INFO: Finished synthetic dataset\n"
     ]
    },
    {
     "name": "stdout",
     "output_type": "stream",
     "text": [
      "Warning: n_edges is not exact due to gcastle implementation\n",
      "Duration of algorithm was 1.05sec\n"
     ]
    },
    {
     "name": "stderr",
     "output_type": "stream",
     "text": [
      "2023-08-23 15:22:18,844 - c:\\Users\\JanMarco\\MLProjects\\Masterthesis\\masterthesis\\mthesis\\lib\\site-packages\\castle\\datasets\\simulator.py[line:270] - INFO: Finished synthetic dataset\n"
     ]
    },
    {
     "name": "stdout",
     "output_type": "stream",
     "text": [
      "Warning: n_edges is not exact due to gcastle implementation\n",
      "Duration of algorithm was 0.75sec\n"
     ]
    },
    {
     "name": "stderr",
     "output_type": "stream",
     "text": [
      "2023-08-23 15:22:29,085 - c:\\Users\\JanMarco\\MLProjects\\Masterthesis\\masterthesis\\mthesis\\lib\\site-packages\\castle\\datasets\\simulator.py[line:270] - INFO: Finished synthetic dataset\n"
     ]
    },
    {
     "name": "stdout",
     "output_type": "stream",
     "text": [
      "Warning: n_edges is not exact due to gcastle implementation\n",
      "Duration of algorithm was 1.15sec\n"
     ]
    },
    {
     "name": "stderr",
     "output_type": "stream",
     "text": [
      "2023-08-23 15:22:40,618 - c:\\Users\\JanMarco\\MLProjects\\Masterthesis\\masterthesis\\mthesis\\lib\\site-packages\\castle\\datasets\\simulator.py[line:270] - INFO: Finished synthetic dataset\n"
     ]
    },
    {
     "name": "stdout",
     "output_type": "stream",
     "text": [
      "Warning: n_edges is not exact due to gcastle implementation\n",
      "Duration of algorithm was 0.84sec\n"
     ]
    },
    {
     "name": "stderr",
     "output_type": "stream",
     "text": [
      "2023-08-23 15:22:51,706 - c:\\Users\\JanMarco\\MLProjects\\Masterthesis\\masterthesis\\mthesis\\lib\\site-packages\\castle\\datasets\\simulator.py[line:270] - INFO: Finished synthetic dataset\n"
     ]
    },
    {
     "name": "stdout",
     "output_type": "stream",
     "text": [
      "Warning: n_edges is not exact due to gcastle implementation\n",
      "Duration of algorithm was 1.17sec\n"
     ]
    },
    {
     "name": "stderr",
     "output_type": "stream",
     "text": [
      "2023-08-23 15:23:04,853 - c:\\Users\\JanMarco\\MLProjects\\Masterthesis\\masterthesis\\mthesis\\lib\\site-packages\\castle\\datasets\\simulator.py[line:270] - INFO: Finished synthetic dataset\n"
     ]
    },
    {
     "name": "stdout",
     "output_type": "stream",
     "text": [
      "Warning: n_edges is not exact due to gcastle implementation\n",
      "Duration of algorithm was 1.63sec\n"
     ]
    },
    {
     "name": "stderr",
     "output_type": "stream",
     "text": [
      "2023-08-23 15:23:17,867 - c:\\Users\\JanMarco\\MLProjects\\Masterthesis\\masterthesis\\mthesis\\lib\\site-packages\\castle\\datasets\\simulator.py[line:270] - INFO: Finished synthetic dataset\n"
     ]
    },
    {
     "name": "stdout",
     "output_type": "stream",
     "text": [
      "Warning: n_edges is not exact due to gcastle implementation\n",
      "Duration of algorithm was 1.09sec\n"
     ]
    },
    {
     "name": "stderr",
     "output_type": "stream",
     "text": [
      "2023-08-23 15:23:29,013 - c:\\Users\\JanMarco\\MLProjects\\Masterthesis\\masterthesis\\mthesis\\lib\\site-packages\\castle\\datasets\\simulator.py[line:270] - INFO: Finished synthetic dataset\n"
     ]
    },
    {
     "name": "stdout",
     "output_type": "stream",
     "text": [
      "Warning: n_edges is not exact due to gcastle implementation\n",
      "Duration of algorithm was 0.82sec\n"
     ]
    },
    {
     "name": "stderr",
     "output_type": "stream",
     "text": [
      "2023-08-23 15:23:39,927 - c:\\Users\\JanMarco\\MLProjects\\Masterthesis\\masterthesis\\mthesis\\lib\\site-packages\\castle\\datasets\\simulator.py[line:270] - INFO: Finished synthetic dataset\n"
     ]
    },
    {
     "name": "stdout",
     "output_type": "stream",
     "text": [
      "Warning: n_edges is not exact due to gcastle implementation\n",
      "Duration of algorithm was 0.73sec\n"
     ]
    },
    {
     "name": "stderr",
     "output_type": "stream",
     "text": [
      "2023-08-23 15:23:50,666 - c:\\Users\\JanMarco\\MLProjects\\Masterthesis\\masterthesis\\mthesis\\lib\\site-packages\\castle\\datasets\\simulator.py[line:270] - INFO: Finished synthetic dataset\n"
     ]
    },
    {
     "name": "stdout",
     "output_type": "stream",
     "text": [
      "Warning: n_edges is not exact due to gcastle implementation\n",
      "Duration of algorithm was 0.99sec\n"
     ]
    },
    {
     "name": "stderr",
     "output_type": "stream",
     "text": [
      "2023-08-23 15:24:02,139 - c:\\Users\\JanMarco\\MLProjects\\Masterthesis\\masterthesis\\mthesis\\lib\\site-packages\\castle\\datasets\\simulator.py[line:270] - INFO: Finished synthetic dataset\n"
     ]
    },
    {
     "name": "stdout",
     "output_type": "stream",
     "text": [
      "Warning: n_edges is not exact due to gcastle implementation\n",
      "Duration of algorithm was 0.97sec\n"
     ]
    },
    {
     "name": "stderr",
     "output_type": "stream",
     "text": [
      "2023-08-23 15:24:13,396 - c:\\Users\\JanMarco\\MLProjects\\Masterthesis\\masterthesis\\mthesis\\lib\\site-packages\\castle\\datasets\\simulator.py[line:270] - INFO: Finished synthetic dataset\n"
     ]
    },
    {
     "name": "stdout",
     "output_type": "stream",
     "text": [
      "Warning: n_edges is not exact due to gcastle implementation\n",
      "Duration of algorithm was 0.76sec\n"
     ]
    },
    {
     "name": "stderr",
     "output_type": "stream",
     "text": [
      "2023-08-23 15:24:24,438 - c:\\Users\\JanMarco\\MLProjects\\Masterthesis\\masterthesis\\mthesis\\lib\\site-packages\\castle\\datasets\\simulator.py[line:270] - INFO: Finished synthetic dataset\n"
     ]
    },
    {
     "name": "stdout",
     "output_type": "stream",
     "text": [
      "Warning: n_edges is not exact due to gcastle implementation\n",
      "Duration of algorithm was 0.71sec\n"
     ]
    },
    {
     "name": "stderr",
     "output_type": "stream",
     "text": [
      "2023-08-23 15:24:35,069 - c:\\Users\\JanMarco\\MLProjects\\Masterthesis\\masterthesis\\mthesis\\lib\\site-packages\\castle\\datasets\\simulator.py[line:270] - INFO: Finished synthetic dataset\n"
     ]
    },
    {
     "name": "stdout",
     "output_type": "stream",
     "text": [
      "Warning: n_edges is not exact due to gcastle implementation\n",
      "Duration of algorithm was 0.88sec\n"
     ]
    },
    {
     "name": "stderr",
     "output_type": "stream",
     "text": [
      "2023-08-23 15:24:46,281 - c:\\Users\\JanMarco\\MLProjects\\Masterthesis\\masterthesis\\mthesis\\lib\\site-packages\\castle\\datasets\\simulator.py[line:270] - INFO: Finished synthetic dataset\n"
     ]
    },
    {
     "name": "stdout",
     "output_type": "stream",
     "text": [
      "Warning: n_edges is not exact due to gcastle implementation\n",
      "Duration of algorithm was 0.70sec\n"
     ]
    },
    {
     "name": "stderr",
     "output_type": "stream",
     "text": [
      "2023-08-23 15:24:56,912 - c:\\Users\\JanMarco\\MLProjects\\Masterthesis\\masterthesis\\mthesis\\lib\\site-packages\\castle\\datasets\\simulator.py[line:270] - INFO: Finished synthetic dataset\n"
     ]
    },
    {
     "name": "stdout",
     "output_type": "stream",
     "text": [
      "Warning: n_edges is not exact due to gcastle implementation\n",
      "Duration of algorithm was 0.49sec\n"
     ]
    },
    {
     "name": "stderr",
     "output_type": "stream",
     "text": [
      "2023-08-23 15:25:07,081 - c:\\Users\\JanMarco\\MLProjects\\Masterthesis\\masterthesis\\mthesis\\lib\\site-packages\\castle\\datasets\\simulator.py[line:270] - INFO: Finished synthetic dataset\n"
     ]
    },
    {
     "name": "stdout",
     "output_type": "stream",
     "text": [
      "Warning: n_edges is not exact due to gcastle implementation\n",
      "Duration of algorithm was 1.24sec\n"
     ]
    },
    {
     "name": "stderr",
     "output_type": "stream",
     "text": [
      "2023-08-23 15:25:19,078 - c:\\Users\\JanMarco\\MLProjects\\Masterthesis\\masterthesis\\mthesis\\lib\\site-packages\\castle\\datasets\\simulator.py[line:270] - INFO: Finished synthetic dataset\n"
     ]
    },
    {
     "name": "stdout",
     "output_type": "stream",
     "text": [
      "Warning: n_edges is not exact due to gcastle implementation\n",
      "Duration of algorithm was 0.86sec\n"
     ]
    },
    {
     "name": "stderr",
     "output_type": "stream",
     "text": [
      "2023-08-23 15:25:30,308 - c:\\Users\\JanMarco\\MLProjects\\Masterthesis\\masterthesis\\mthesis\\lib\\site-packages\\castle\\datasets\\simulator.py[line:270] - INFO: Finished synthetic dataset\n"
     ]
    },
    {
     "name": "stdout",
     "output_type": "stream",
     "text": [
      "Warning: n_edges is not exact due to gcastle implementation\n",
      "Duration of algorithm was 1.06sec\n"
     ]
    },
    {
     "name": "stderr",
     "output_type": "stream",
     "text": [
      "2023-08-23 15:25:41,709 - c:\\Users\\JanMarco\\MLProjects\\Masterthesis\\masterthesis\\mthesis\\lib\\site-packages\\castle\\datasets\\simulator.py[line:270] - INFO: Finished synthetic dataset\n"
     ]
    },
    {
     "name": "stdout",
     "output_type": "stream",
     "text": [
      "Warning: n_edges is not exact due to gcastle implementation\n",
      "Duration of algorithm was 0.84sec\n"
     ]
    },
    {
     "name": "stderr",
     "output_type": "stream",
     "text": [
      "2023-08-23 15:25:52,548 - c:\\Users\\JanMarco\\MLProjects\\Masterthesis\\masterthesis\\mthesis\\lib\\site-packages\\castle\\datasets\\simulator.py[line:270] - INFO: Finished synthetic dataset\n"
     ]
    },
    {
     "name": "stdout",
     "output_type": "stream",
     "text": [
      "Warning: n_edges is not exact due to gcastle implementation\n",
      "Duration of algorithm was 0.62sec\n"
     ]
    },
    {
     "name": "stderr",
     "output_type": "stream",
     "text": [
      "2023-08-23 15:26:02,863 - c:\\Users\\JanMarco\\MLProjects\\Masterthesis\\masterthesis\\mthesis\\lib\\site-packages\\castle\\datasets\\simulator.py[line:270] - INFO: Finished synthetic dataset\n"
     ]
    },
    {
     "name": "stdout",
     "output_type": "stream",
     "text": [
      "Warning: n_edges is not exact due to gcastle implementation\n",
      "Duration of algorithm was 0.59sec\n"
     ]
    },
    {
     "name": "stderr",
     "output_type": "stream",
     "text": [
      "2023-08-23 15:26:13,183 - c:\\Users\\JanMarco\\MLProjects\\Masterthesis\\masterthesis\\mthesis\\lib\\site-packages\\castle\\datasets\\simulator.py[line:270] - INFO: Finished synthetic dataset\n"
     ]
    },
    {
     "name": "stdout",
     "output_type": "stream",
     "text": [
      "Warning: n_edges is not exact due to gcastle implementation\n",
      "Duration of algorithm was 0.82sec\n"
     ]
    },
    {
     "name": "stderr",
     "output_type": "stream",
     "text": [
      "2023-08-23 15:26:24,008 - c:\\Users\\JanMarco\\MLProjects\\Masterthesis\\masterthesis\\mthesis\\lib\\site-packages\\castle\\datasets\\simulator.py[line:270] - INFO: Finished synthetic dataset\n"
     ]
    },
    {
     "name": "stdout",
     "output_type": "stream",
     "text": [
      "Warning: n_edges is not exact due to gcastle implementation\n",
      "Duration of algorithm was 0.65sec\n"
     ]
    },
    {
     "name": "stderr",
     "output_type": "stream",
     "text": [
      "2023-08-23 15:26:34,469 - c:\\Users\\JanMarco\\MLProjects\\Masterthesis\\masterthesis\\mthesis\\lib\\site-packages\\castle\\datasets\\simulator.py[line:270] - INFO: Finished synthetic dataset\n"
     ]
    },
    {
     "name": "stdout",
     "output_type": "stream",
     "text": [
      "Warning: n_edges is not exact due to gcastle implementation\n",
      "Duration of algorithm was 0.83sec\n"
     ]
    },
    {
     "name": "stderr",
     "output_type": "stream",
     "text": [
      "2023-08-23 15:26:49,008 - c:\\Users\\JanMarco\\MLProjects\\Masterthesis\\masterthesis\\mthesis\\lib\\site-packages\\castle\\datasets\\simulator.py[line:270] - INFO: Finished synthetic dataset\n"
     ]
    },
    {
     "name": "stdout",
     "output_type": "stream",
     "text": [
      "Warning: n_edges is not exact due to gcastle implementation\n",
      "Duration of algorithm was 0.80sec\n"
     ]
    },
    {
     "name": "stderr",
     "output_type": "stream",
     "text": [
      "2023-08-23 15:27:00,429 - c:\\Users\\JanMarco\\MLProjects\\Masterthesis\\masterthesis\\mthesis\\lib\\site-packages\\castle\\datasets\\simulator.py[line:270] - INFO: Finished synthetic dataset\n"
     ]
    },
    {
     "name": "stdout",
     "output_type": "stream",
     "text": [
      "Warning: n_edges is not exact due to gcastle implementation\n",
      "Duration of algorithm was 0.84sec\n"
     ]
    },
    {
     "name": "stderr",
     "output_type": "stream",
     "text": [
      "2023-08-23 15:27:11,263 - c:\\Users\\JanMarco\\MLProjects\\Masterthesis\\masterthesis\\mthesis\\lib\\site-packages\\castle\\datasets\\simulator.py[line:270] - INFO: Finished synthetic dataset\n"
     ]
    },
    {
     "name": "stdout",
     "output_type": "stream",
     "text": [
      "Warning: n_edges is not exact due to gcastle implementation\n",
      "Duration of algorithm was 0.87sec\n"
     ]
    },
    {
     "name": "stderr",
     "output_type": "stream",
     "text": [
      "2023-08-23 15:27:22,056 - c:\\Users\\JanMarco\\MLProjects\\Masterthesis\\masterthesis\\mthesis\\lib\\site-packages\\castle\\datasets\\simulator.py[line:270] - INFO: Finished synthetic dataset\n"
     ]
    },
    {
     "name": "stdout",
     "output_type": "stream",
     "text": [
      "Warning: n_edges is not exact due to gcastle implementation\n",
      "Duration of algorithm was 1.07sec\n"
     ]
    },
    {
     "name": "stderr",
     "output_type": "stream",
     "text": [
      "2023-08-23 15:27:33,164 - c:\\Users\\JanMarco\\MLProjects\\Masterthesis\\masterthesis\\mthesis\\lib\\site-packages\\castle\\datasets\\simulator.py[line:270] - INFO: Finished synthetic dataset\n"
     ]
    },
    {
     "name": "stdout",
     "output_type": "stream",
     "text": [
      "Warning: n_edges is not exact due to gcastle implementation\n",
      "Duration of algorithm was 1.25sec\n"
     ]
    },
    {
     "name": "stderr",
     "output_type": "stream",
     "text": [
      "2023-08-23 15:27:46,707 - c:\\Users\\JanMarco\\MLProjects\\Masterthesis\\masterthesis\\mthesis\\lib\\site-packages\\castle\\datasets\\simulator.py[line:270] - INFO: Finished synthetic dataset\n"
     ]
    },
    {
     "name": "stdout",
     "output_type": "stream",
     "text": [
      "Warning: n_edges is not exact due to gcastle implementation\n",
      "Duration of algorithm was 0.85sec\n"
     ]
    },
    {
     "name": "stderr",
     "output_type": "stream",
     "text": [
      "2023-08-23 15:27:57,895 - c:\\Users\\JanMarco\\MLProjects\\Masterthesis\\masterthesis\\mthesis\\lib\\site-packages\\castle\\datasets\\simulator.py[line:270] - INFO: Finished synthetic dataset\n"
     ]
    },
    {
     "name": "stdout",
     "output_type": "stream",
     "text": [
      "Warning: n_edges is not exact due to gcastle implementation\n",
      "Duration of algorithm was 0.31sec\n"
     ]
    },
    {
     "name": "stderr",
     "output_type": "stream",
     "text": [
      "2023-08-23 15:28:07,690 - c:\\Users\\JanMarco\\MLProjects\\Masterthesis\\masterthesis\\mthesis\\lib\\site-packages\\castle\\datasets\\simulator.py[line:270] - INFO: Finished synthetic dataset\n"
     ]
    },
    {
     "name": "stdout",
     "output_type": "stream",
     "text": [
      "Warning: n_edges is not exact due to gcastle implementation\n",
      "Duration of algorithm was 0.44sec\n"
     ]
    },
    {
     "name": "stderr",
     "output_type": "stream",
     "text": [
      "2023-08-23 15:28:17,874 - c:\\Users\\JanMarco\\MLProjects\\Masterthesis\\masterthesis\\mthesis\\lib\\site-packages\\castle\\datasets\\simulator.py[line:270] - INFO: Finished synthetic dataset\n"
     ]
    },
    {
     "name": "stdout",
     "output_type": "stream",
     "text": [
      "Warning: n_edges is not exact due to gcastle implementation\n",
      "Duration of algorithm was 0.69sec\n"
     ]
    },
    {
     "name": "stderr",
     "output_type": "stream",
     "text": [
      "2023-08-23 15:28:29,003 - c:\\Users\\JanMarco\\MLProjects\\Masterthesis\\masterthesis\\mthesis\\lib\\site-packages\\castle\\datasets\\simulator.py[line:270] - INFO: Finished synthetic dataset\n"
     ]
    },
    {
     "name": "stdout",
     "output_type": "stream",
     "text": [
      "Warning: n_edges is not exact due to gcastle implementation\n",
      "Duration of algorithm was 0.42sec\n"
     ]
    },
    {
     "name": "stderr",
     "output_type": "stream",
     "text": [
      "2023-08-23 15:28:39,175 - c:\\Users\\JanMarco\\MLProjects\\Masterthesis\\masterthesis\\mthesis\\lib\\site-packages\\castle\\datasets\\simulator.py[line:270] - INFO: Finished synthetic dataset\n"
     ]
    },
    {
     "name": "stdout",
     "output_type": "stream",
     "text": [
      "Warning: n_edges is not exact due to gcastle implementation\n",
      "Duration of algorithm was 0.45sec\n"
     ]
    },
    {
     "name": "stderr",
     "output_type": "stream",
     "text": [
      "2023-08-23 15:28:49,441 - c:\\Users\\JanMarco\\MLProjects\\Masterthesis\\masterthesis\\mthesis\\lib\\site-packages\\castle\\datasets\\simulator.py[line:270] - INFO: Finished synthetic dataset\n"
     ]
    },
    {
     "name": "stdout",
     "output_type": "stream",
     "text": [
      "Warning: n_edges is not exact due to gcastle implementation\n",
      "Duration of algorithm was 0.53sec\n"
     ]
    },
    {
     "name": "stderr",
     "output_type": "stream",
     "text": [
      "2023-08-23 15:29:02,929 - c:\\Users\\JanMarco\\MLProjects\\Masterthesis\\masterthesis\\mthesis\\lib\\site-packages\\castle\\datasets\\simulator.py[line:270] - INFO: Finished synthetic dataset\n"
     ]
    },
    {
     "name": "stdout",
     "output_type": "stream",
     "text": [
      "Warning: n_edges is not exact due to gcastle implementation\n",
      "Duration of algorithm was 0.67sec\n"
     ]
    },
    {
     "name": "stderr",
     "output_type": "stream",
     "text": [
      "2023-08-23 15:29:13,553 - c:\\Users\\JanMarco\\MLProjects\\Masterthesis\\masterthesis\\mthesis\\lib\\site-packages\\castle\\datasets\\simulator.py[line:270] - INFO: Finished synthetic dataset\n"
     ]
    },
    {
     "name": "stdout",
     "output_type": "stream",
     "text": [
      "Warning: n_edges is not exact due to gcastle implementation\n",
      "Duration of algorithm was 0.63sec\n"
     ]
    },
    {
     "name": "stderr",
     "output_type": "stream",
     "text": [
      "2023-08-23 15:29:24,025 - c:\\Users\\JanMarco\\MLProjects\\Masterthesis\\masterthesis\\mthesis\\lib\\site-packages\\castle\\datasets\\simulator.py[line:270] - INFO: Finished synthetic dataset\n"
     ]
    },
    {
     "name": "stdout",
     "output_type": "stream",
     "text": [
      "Warning: n_edges is not exact due to gcastle implementation\n",
      "Duration of algorithm was 0.65sec\n"
     ]
    },
    {
     "name": "stderr",
     "output_type": "stream",
     "text": [
      "2023-08-23 15:29:34,929 - c:\\Users\\JanMarco\\MLProjects\\Masterthesis\\masterthesis\\mthesis\\lib\\site-packages\\castle\\datasets\\simulator.py[line:270] - INFO: Finished synthetic dataset\n"
     ]
    },
    {
     "name": "stdout",
     "output_type": "stream",
     "text": [
      "Warning: n_edges is not exact due to gcastle implementation\n",
      "Duration of algorithm was 0.61sec\n"
     ]
    },
    {
     "name": "stderr",
     "output_type": "stream",
     "text": [
      "2023-08-23 15:29:45,495 - c:\\Users\\JanMarco\\MLProjects\\Masterthesis\\masterthesis\\mthesis\\lib\\site-packages\\castle\\datasets\\simulator.py[line:270] - INFO: Finished synthetic dataset\n"
     ]
    },
    {
     "name": "stdout",
     "output_type": "stream",
     "text": [
      "Warning: n_edges is not exact due to gcastle implementation\n",
      "Duration of algorithm was 1.07sec\n"
     ]
    },
    {
     "name": "stderr",
     "output_type": "stream",
     "text": [
      "2023-08-23 15:29:57,000 - c:\\Users\\JanMarco\\MLProjects\\Masterthesis\\masterthesis\\mthesis\\lib\\site-packages\\castle\\datasets\\simulator.py[line:270] - INFO: Finished synthetic dataset\n"
     ]
    },
    {
     "name": "stdout",
     "output_type": "stream",
     "text": [
      "Warning: n_edges is not exact due to gcastle implementation\n",
      "Duration of algorithm was 0.71sec\n"
     ]
    },
    {
     "name": "stderr",
     "output_type": "stream",
     "text": [
      "2023-08-23 15:30:08,897 - c:\\Users\\JanMarco\\MLProjects\\Masterthesis\\masterthesis\\mthesis\\lib\\site-packages\\castle\\datasets\\simulator.py[line:270] - INFO: Finished synthetic dataset\n"
     ]
    },
    {
     "name": "stdout",
     "output_type": "stream",
     "text": [
      "Warning: n_edges is not exact due to gcastle implementation\n",
      "Duration of algorithm was 1.15sec\n"
     ]
    },
    {
     "name": "stderr",
     "output_type": "stream",
     "text": [
      "2023-08-23 15:30:20,455 - c:\\Users\\JanMarco\\MLProjects\\Masterthesis\\masterthesis\\mthesis\\lib\\site-packages\\castle\\datasets\\simulator.py[line:270] - INFO: Finished synthetic dataset\n"
     ]
    },
    {
     "name": "stdout",
     "output_type": "stream",
     "text": [
      "Warning: n_edges is not exact due to gcastle implementation\n",
      "Duration of algorithm was 1.67sec\n"
     ]
    },
    {
     "name": "stderr",
     "output_type": "stream",
     "text": [
      "2023-08-23 15:30:34,133 - c:\\Users\\JanMarco\\MLProjects\\Masterthesis\\masterthesis\\mthesis\\lib\\site-packages\\castle\\datasets\\simulator.py[line:270] - INFO: Finished synthetic dataset\n"
     ]
    },
    {
     "name": "stdout",
     "output_type": "stream",
     "text": [
      "Warning: n_edges is not exact due to gcastle implementation\n",
      "Duration of algorithm was 1.38sec\n"
     ]
    },
    {
     "name": "stderr",
     "output_type": "stream",
     "text": [
      "2023-08-23 15:30:46,923 - c:\\Users\\JanMarco\\MLProjects\\Masterthesis\\masterthesis\\mthesis\\lib\\site-packages\\castle\\datasets\\simulator.py[line:270] - INFO: Finished synthetic dataset\n"
     ]
    },
    {
     "name": "stdout",
     "output_type": "stream",
     "text": [
      "Warning: n_edges is not exact due to gcastle implementation\n",
      "Duration of algorithm was 2.02sec\n"
     ]
    },
    {
     "name": "stderr",
     "output_type": "stream",
     "text": [
      "2023-08-23 15:31:03,099 - c:\\Users\\JanMarco\\MLProjects\\Masterthesis\\masterthesis\\mthesis\\lib\\site-packages\\castle\\datasets\\simulator.py[line:270] - INFO: Finished synthetic dataset\n"
     ]
    },
    {
     "name": "stdout",
     "output_type": "stream",
     "text": [
      "Warning: n_edges is not exact due to gcastle implementation\n",
      "Duration of algorithm was 1.61sec\n"
     ]
    },
    {
     "name": "stderr",
     "output_type": "stream",
     "text": [
      "2023-08-23 15:31:16,417 - c:\\Users\\JanMarco\\MLProjects\\Masterthesis\\masterthesis\\mthesis\\lib\\site-packages\\castle\\datasets\\simulator.py[line:270] - INFO: Finished synthetic dataset\n"
     ]
    },
    {
     "name": "stdout",
     "output_type": "stream",
     "text": [
      "Warning: n_edges is not exact due to gcastle implementation\n",
      "Duration of algorithm was 1.54sec\n"
     ]
    },
    {
     "name": "stderr",
     "output_type": "stream",
     "text": [
      "2023-08-23 15:31:29,137 - c:\\Users\\JanMarco\\MLProjects\\Masterthesis\\masterthesis\\mthesis\\lib\\site-packages\\castle\\datasets\\simulator.py[line:270] - INFO: Finished synthetic dataset\n"
     ]
    },
    {
     "name": "stdout",
     "output_type": "stream",
     "text": [
      "Warning: n_edges is not exact due to gcastle implementation\n",
      "Duration of algorithm was 2.14sec\n"
     ]
    },
    {
     "name": "stderr",
     "output_type": "stream",
     "text": [
      "2023-08-23 15:31:47,293 - c:\\Users\\JanMarco\\MLProjects\\Masterthesis\\masterthesis\\mthesis\\lib\\site-packages\\castle\\datasets\\simulator.py[line:270] - INFO: Finished synthetic dataset\n"
     ]
    },
    {
     "name": "stdout",
     "output_type": "stream",
     "text": [
      "Warning: n_edges is not exact due to gcastle implementation\n",
      "Duration of algorithm was 2.40sec\n"
     ]
    },
    {
     "name": "stderr",
     "output_type": "stream",
     "text": [
      "2023-08-23 15:32:02,349 - c:\\Users\\JanMarco\\MLProjects\\Masterthesis\\masterthesis\\mthesis\\lib\\site-packages\\castle\\datasets\\simulator.py[line:270] - INFO: Finished synthetic dataset\n"
     ]
    },
    {
     "name": "stdout",
     "output_type": "stream",
     "text": [
      "Warning: n_edges is not exact due to gcastle implementation\n",
      "Duration of algorithm was 1.87sec\n"
     ]
    },
    {
     "name": "stderr",
     "output_type": "stream",
     "text": [
      "2023-08-23 15:32:15,305 - c:\\Users\\JanMarco\\MLProjects\\Masterthesis\\masterthesis\\mthesis\\lib\\site-packages\\castle\\datasets\\simulator.py[line:270] - INFO: Finished synthetic dataset\n"
     ]
    },
    {
     "name": "stdout",
     "output_type": "stream",
     "text": [
      "Warning: n_edges is not exact due to gcastle implementation\n",
      "Duration of algorithm was 2.23sec\n"
     ]
    },
    {
     "name": "stderr",
     "output_type": "stream",
     "text": [
      "2023-08-23 15:32:52,118 - c:\\Users\\JanMarco\\MLProjects\\Masterthesis\\masterthesis\\mthesis\\lib\\site-packages\\castle\\datasets\\simulator.py[line:270] - INFO: Finished synthetic dataset\n"
     ]
    },
    {
     "name": "stdout",
     "output_type": "stream",
     "text": [
      "Warning: n_edges is not exact due to gcastle implementation\n",
      "Duration of algorithm was 1.79sec\n"
     ]
    },
    {
     "name": "stderr",
     "output_type": "stream",
     "text": [
      "2023-08-23 15:33:05,392 - c:\\Users\\JanMarco\\MLProjects\\Masterthesis\\masterthesis\\mthesis\\lib\\site-packages\\castle\\datasets\\simulator.py[line:270] - INFO: Finished synthetic dataset\n"
     ]
    },
    {
     "name": "stdout",
     "output_type": "stream",
     "text": [
      "Warning: n_edges is not exact due to gcastle implementation\n",
      "Duration of algorithm was 2.13sec\n"
     ]
    },
    {
     "name": "stderr",
     "output_type": "stream",
     "text": [
      "2023-08-23 15:33:21,110 - c:\\Users\\JanMarco\\MLProjects\\Masterthesis\\masterthesis\\mthesis\\lib\\site-packages\\castle\\datasets\\simulator.py[line:270] - INFO: Finished synthetic dataset\n"
     ]
    },
    {
     "name": "stdout",
     "output_type": "stream",
     "text": [
      "Warning: n_edges is not exact due to gcastle implementation\n",
      "Duration of algorithm was 1.20sec\n"
     ]
    },
    {
     "name": "stderr",
     "output_type": "stream",
     "text": [
      "2023-08-23 15:33:33,311 - c:\\Users\\JanMarco\\MLProjects\\Masterthesis\\masterthesis\\mthesis\\lib\\site-packages\\castle\\datasets\\simulator.py[line:270] - INFO: Finished synthetic dataset\n"
     ]
    },
    {
     "name": "stdout",
     "output_type": "stream",
     "text": [
      "Warning: n_edges is not exact due to gcastle implementation\n",
      "Duration of algorithm was 1.25sec\n"
     ]
    },
    {
     "name": "stderr",
     "output_type": "stream",
     "text": [
      "2023-08-23 15:33:46,014 - c:\\Users\\JanMarco\\MLProjects\\Masterthesis\\masterthesis\\mthesis\\lib\\site-packages\\castle\\datasets\\simulator.py[line:270] - INFO: Finished synthetic dataset\n"
     ]
    },
    {
     "name": "stdout",
     "output_type": "stream",
     "text": [
      "Warning: n_edges is not exact due to gcastle implementation\n",
      "Duration of algorithm was 1.31sec\n"
     ]
    },
    {
     "name": "stderr",
     "output_type": "stream",
     "text": [
      "2023-08-23 15:33:58,619 - c:\\Users\\JanMarco\\MLProjects\\Masterthesis\\masterthesis\\mthesis\\lib\\site-packages\\castle\\datasets\\simulator.py[line:270] - INFO: Finished synthetic dataset\n"
     ]
    },
    {
     "name": "stdout",
     "output_type": "stream",
     "text": [
      "Warning: n_edges is not exact due to gcastle implementation\n",
      "Duration of algorithm was 1.40sec\n"
     ]
    },
    {
     "name": "stderr",
     "output_type": "stream",
     "text": [
      "2023-08-23 15:34:11,345 - c:\\Users\\JanMarco\\MLProjects\\Masterthesis\\masterthesis\\mthesis\\lib\\site-packages\\castle\\datasets\\simulator.py[line:270] - INFO: Finished synthetic dataset\n"
     ]
    },
    {
     "name": "stdout",
     "output_type": "stream",
     "text": [
      "Warning: n_edges is not exact due to gcastle implementation\n",
      "Duration of algorithm was 1.44sec\n"
     ]
    },
    {
     "name": "stderr",
     "output_type": "stream",
     "text": [
      "2023-08-23 15:34:23,334 - c:\\Users\\JanMarco\\MLProjects\\Masterthesis\\masterthesis\\mthesis\\lib\\site-packages\\castle\\datasets\\simulator.py[line:270] - INFO: Finished synthetic dataset\n"
     ]
    },
    {
     "name": "stdout",
     "output_type": "stream",
     "text": [
      "Warning: n_edges is not exact due to gcastle implementation\n",
      "Duration of algorithm was 1.26sec\n"
     ]
    },
    {
     "name": "stderr",
     "output_type": "stream",
     "text": [
      "2023-08-23 15:34:36,830 - c:\\Users\\JanMarco\\MLProjects\\Masterthesis\\masterthesis\\mthesis\\lib\\site-packages\\castle\\datasets\\simulator.py[line:270] - INFO: Finished synthetic dataset\n"
     ]
    },
    {
     "name": "stdout",
     "output_type": "stream",
     "text": [
      "Warning: n_edges is not exact due to gcastle implementation\n",
      "Duration of algorithm was 1.68sec\n"
     ]
    },
    {
     "name": "stderr",
     "output_type": "stream",
     "text": [
      "2023-08-23 15:34:49,853 - c:\\Users\\JanMarco\\MLProjects\\Masterthesis\\masterthesis\\mthesis\\lib\\site-packages\\castle\\datasets\\simulator.py[line:270] - INFO: Finished synthetic dataset\n"
     ]
    },
    {
     "name": "stdout",
     "output_type": "stream",
     "text": [
      "Warning: n_edges is not exact due to gcastle implementation\n",
      "Duration of algorithm was 1.68sec\n"
     ]
    },
    {
     "name": "stderr",
     "output_type": "stream",
     "text": [
      "2023-08-23 15:35:02,312 - c:\\Users\\JanMarco\\MLProjects\\Masterthesis\\masterthesis\\mthesis\\lib\\site-packages\\castle\\datasets\\simulator.py[line:270] - INFO: Finished synthetic dataset\n"
     ]
    },
    {
     "name": "stdout",
     "output_type": "stream",
     "text": [
      "Warning: n_edges is not exact due to gcastle implementation\n",
      "Duration of algorithm was 1.51sec\n"
     ]
    },
    {
     "name": "stderr",
     "output_type": "stream",
     "text": [
      "2023-08-23 15:35:14,834 - c:\\Users\\JanMarco\\MLProjects\\Masterthesis\\masterthesis\\mthesis\\lib\\site-packages\\castle\\datasets\\simulator.py[line:270] - INFO: Finished synthetic dataset\n"
     ]
    },
    {
     "name": "stdout",
     "output_type": "stream",
     "text": [
      "Warning: n_edges is not exact due to gcastle implementation\n",
      "Duration of algorithm was 1.84sec\n"
     ]
    },
    {
     "name": "stderr",
     "output_type": "stream",
     "text": [
      "2023-08-23 15:35:32,001 - c:\\Users\\JanMarco\\MLProjects\\Masterthesis\\masterthesis\\mthesis\\lib\\site-packages\\castle\\datasets\\simulator.py[line:270] - INFO: Finished synthetic dataset\n"
     ]
    },
    {
     "name": "stdout",
     "output_type": "stream",
     "text": [
      "Warning: n_edges is not exact due to gcastle implementation\n",
      "Duration of algorithm was 1.73sec\n"
     ]
    },
    {
     "name": "stderr",
     "output_type": "stream",
     "text": [
      "2023-08-23 15:35:44,798 - c:\\Users\\JanMarco\\MLProjects\\Masterthesis\\masterthesis\\mthesis\\lib\\site-packages\\castle\\datasets\\simulator.py[line:270] - INFO: Finished synthetic dataset\n"
     ]
    },
    {
     "name": "stdout",
     "output_type": "stream",
     "text": [
      "Warning: n_edges is not exact due to gcastle implementation\n",
      "Duration of algorithm was 1.70sec\n"
     ]
    },
    {
     "name": "stderr",
     "output_type": "stream",
     "text": [
      "2023-08-23 15:35:57,136 - c:\\Users\\JanMarco\\MLProjects\\Masterthesis\\masterthesis\\mthesis\\lib\\site-packages\\castle\\datasets\\simulator.py[line:270] - INFO: Finished synthetic dataset\n"
     ]
    },
    {
     "name": "stdout",
     "output_type": "stream",
     "text": [
      "Warning: n_edges is not exact due to gcastle implementation\n",
      "Duration of algorithm was 0.77sec\n"
     ]
    },
    {
     "name": "stderr",
     "output_type": "stream",
     "text": [
      "2023-08-23 15:36:09,363 - c:\\Users\\JanMarco\\MLProjects\\Masterthesis\\masterthesis\\mthesis\\lib\\site-packages\\castle\\datasets\\simulator.py[line:270] - INFO: Finished synthetic dataset\n"
     ]
    },
    {
     "name": "stdout",
     "output_type": "stream",
     "text": [
      "Warning: n_edges is not exact due to gcastle implementation\n",
      "Duration of algorithm was 0.47sec\n"
     ]
    },
    {
     "name": "stderr",
     "output_type": "stream",
     "text": [
      "2023-08-23 15:36:19,977 - c:\\Users\\JanMarco\\MLProjects\\Masterthesis\\masterthesis\\mthesis\\lib\\site-packages\\castle\\datasets\\simulator.py[line:270] - INFO: Finished synthetic dataset\n"
     ]
    },
    {
     "name": "stdout",
     "output_type": "stream",
     "text": [
      "Warning: n_edges is not exact due to gcastle implementation\n",
      "Duration of algorithm was 0.65sec\n"
     ]
    },
    {
     "name": "stderr",
     "output_type": "stream",
     "text": [
      "2023-08-23 15:36:30,668 - c:\\Users\\JanMarco\\MLProjects\\Masterthesis\\masterthesis\\mthesis\\lib\\site-packages\\castle\\datasets\\simulator.py[line:270] - INFO: Finished synthetic dataset\n"
     ]
    },
    {
     "name": "stdout",
     "output_type": "stream",
     "text": [
      "Warning: n_edges is not exact due to gcastle implementation\n",
      "Duration of algorithm was 0.67sec\n"
     ]
    },
    {
     "name": "stderr",
     "output_type": "stream",
     "text": [
      "2023-08-23 15:36:41,542 - c:\\Users\\JanMarco\\MLProjects\\Masterthesis\\masterthesis\\mthesis\\lib\\site-packages\\castle\\datasets\\simulator.py[line:270] - INFO: Finished synthetic dataset\n"
     ]
    },
    {
     "name": "stdout",
     "output_type": "stream",
     "text": [
      "Warning: n_edges is not exact due to gcastle implementation\n",
      "Duration of algorithm was 0.66sec\n"
     ]
    },
    {
     "name": "stderr",
     "output_type": "stream",
     "text": [
      "2023-08-23 15:36:52,281 - c:\\Users\\JanMarco\\MLProjects\\Masterthesis\\masterthesis\\mthesis\\lib\\site-packages\\castle\\datasets\\simulator.py[line:270] - INFO: Finished synthetic dataset\n"
     ]
    },
    {
     "name": "stdout",
     "output_type": "stream",
     "text": [
      "Warning: n_edges is not exact due to gcastle implementation\n",
      "Duration of algorithm was 0.40sec\n"
     ]
    },
    {
     "name": "stderr",
     "output_type": "stream",
     "text": [
      "2023-08-23 15:37:02,944 - c:\\Users\\JanMarco\\MLProjects\\Masterthesis\\masterthesis\\mthesis\\lib\\site-packages\\castle\\datasets\\simulator.py[line:270] - INFO: Finished synthetic dataset\n"
     ]
    },
    {
     "name": "stdout",
     "output_type": "stream",
     "text": [
      "Warning: n_edges is not exact due to gcastle implementation\n",
      "Duration of algorithm was 0.74sec\n"
     ]
    },
    {
     "name": "stderr",
     "output_type": "stream",
     "text": [
      "2023-08-23 15:37:14,616 - c:\\Users\\JanMarco\\MLProjects\\Masterthesis\\masterthesis\\mthesis\\lib\\site-packages\\castle\\datasets\\simulator.py[line:270] - INFO: Finished synthetic dataset\n"
     ]
    },
    {
     "name": "stdout",
     "output_type": "stream",
     "text": [
      "Warning: n_edges is not exact due to gcastle implementation\n",
      "Duration of algorithm was 0.59sec\n"
     ]
    },
    {
     "name": "stderr",
     "output_type": "stream",
     "text": [
      "2023-08-23 15:37:25,612 - c:\\Users\\JanMarco\\MLProjects\\Masterthesis\\masterthesis\\mthesis\\lib\\site-packages\\castle\\datasets\\simulator.py[line:270] - INFO: Finished synthetic dataset\n"
     ]
    },
    {
     "name": "stdout",
     "output_type": "stream",
     "text": [
      "Warning: n_edges is not exact due to gcastle implementation\n",
      "Duration of algorithm was 0.55sec\n"
     ]
    },
    {
     "name": "stderr",
     "output_type": "stream",
     "text": [
      "2023-08-23 15:37:38,845 - c:\\Users\\JanMarco\\MLProjects\\Masterthesis\\masterthesis\\mthesis\\lib\\site-packages\\castle\\datasets\\simulator.py[line:270] - INFO: Finished synthetic dataset\n"
     ]
    },
    {
     "name": "stdout",
     "output_type": "stream",
     "text": [
      "Warning: n_edges is not exact due to gcastle implementation\n",
      "Duration of algorithm was 1.45sec\n"
     ]
    },
    {
     "name": "stderr",
     "output_type": "stream",
     "text": [
      "2023-08-23 15:37:51,819 - c:\\Users\\JanMarco\\MLProjects\\Masterthesis\\masterthesis\\mthesis\\lib\\site-packages\\castle\\datasets\\simulator.py[line:270] - INFO: Finished synthetic dataset\n"
     ]
    },
    {
     "name": "stdout",
     "output_type": "stream",
     "text": [
      "Warning: n_edges is not exact due to gcastle implementation\n",
      "Duration of algorithm was 0.71sec\n"
     ]
    },
    {
     "name": "stderr",
     "output_type": "stream",
     "text": [
      "2023-08-23 15:38:02,956 - c:\\Users\\JanMarco\\MLProjects\\Masterthesis\\masterthesis\\mthesis\\lib\\site-packages\\castle\\datasets\\simulator.py[line:270] - INFO: Finished synthetic dataset\n"
     ]
    },
    {
     "name": "stdout",
     "output_type": "stream",
     "text": [
      "Warning: n_edges is not exact due to gcastle implementation\n",
      "Duration of algorithm was 0.71sec\n"
     ]
    },
    {
     "name": "stderr",
     "output_type": "stream",
     "text": [
      "2023-08-23 15:38:14,024 - c:\\Users\\JanMarco\\MLProjects\\Masterthesis\\masterthesis\\mthesis\\lib\\site-packages\\castle\\datasets\\simulator.py[line:270] - INFO: Finished synthetic dataset\n"
     ]
    },
    {
     "name": "stdout",
     "output_type": "stream",
     "text": [
      "Warning: n_edges is not exact due to gcastle implementation\n",
      "Duration of algorithm was 0.59sec\n"
     ]
    },
    {
     "name": "stderr",
     "output_type": "stream",
     "text": [
      "2023-08-23 15:38:24,852 - c:\\Users\\JanMarco\\MLProjects\\Masterthesis\\masterthesis\\mthesis\\lib\\site-packages\\castle\\datasets\\simulator.py[line:270] - INFO: Finished synthetic dataset\n"
     ]
    },
    {
     "name": "stdout",
     "output_type": "stream",
     "text": [
      "Warning: n_edges is not exact due to gcastle implementation\n",
      "Duration of algorithm was 0.32sec\n"
     ]
    },
    {
     "name": "stderr",
     "output_type": "stream",
     "text": [
      "2023-08-23 15:38:35,210 - c:\\Users\\JanMarco\\MLProjects\\Masterthesis\\masterthesis\\mthesis\\lib\\site-packages\\castle\\datasets\\simulator.py[line:270] - INFO: Finished synthetic dataset\n"
     ]
    },
    {
     "name": "stdout",
     "output_type": "stream",
     "text": [
      "Warning: n_edges is not exact due to gcastle implementation\n",
      "Duration of algorithm was 0.43sec\n"
     ]
    },
    {
     "name": "stderr",
     "output_type": "stream",
     "text": [
      "2023-08-23 15:38:46,175 - c:\\Users\\JanMarco\\MLProjects\\Masterthesis\\masterthesis\\mthesis\\lib\\site-packages\\castle\\datasets\\simulator.py[line:270] - INFO: Finished synthetic dataset\n"
     ]
    },
    {
     "name": "stdout",
     "output_type": "stream",
     "text": [
      "Warning: n_edges is not exact due to gcastle implementation\n",
      "Duration of algorithm was 0.64sec\n"
     ]
    },
    {
     "name": "stderr",
     "output_type": "stream",
     "text": [
      "2023-08-23 15:38:57,393 - c:\\Users\\JanMarco\\MLProjects\\Masterthesis\\masterthesis\\mthesis\\lib\\site-packages\\castle\\datasets\\simulator.py[line:270] - INFO: Finished synthetic dataset\n"
     ]
    },
    {
     "name": "stdout",
     "output_type": "stream",
     "text": [
      "Warning: n_edges is not exact due to gcastle implementation\n",
      "Duration of algorithm was 0.49sec\n"
     ]
    },
    {
     "name": "stderr",
     "output_type": "stream",
     "text": [
      "2023-08-23 15:39:07,643 - c:\\Users\\JanMarco\\MLProjects\\Masterthesis\\masterthesis\\mthesis\\lib\\site-packages\\castle\\datasets\\simulator.py[line:270] - INFO: Finished synthetic dataset\n"
     ]
    },
    {
     "name": "stdout",
     "output_type": "stream",
     "text": [
      "Warning: n_edges is not exact due to gcastle implementation\n",
      "Duration of algorithm was 0.84sec\n"
     ]
    },
    {
     "name": "stderr",
     "output_type": "stream",
     "text": [
      "2023-08-23 15:39:19,450 - c:\\Users\\JanMarco\\MLProjects\\Masterthesis\\masterthesis\\mthesis\\lib\\site-packages\\castle\\datasets\\simulator.py[line:270] - INFO: Finished synthetic dataset\n"
     ]
    },
    {
     "name": "stdout",
     "output_type": "stream",
     "text": [
      "Warning: n_edges is not exact due to gcastle implementation\n",
      "Duration of algorithm was 0.42sec\n"
     ]
    },
    {
     "name": "stderr",
     "output_type": "stream",
     "text": [
      "2023-08-23 15:39:29,961 - c:\\Users\\JanMarco\\MLProjects\\Masterthesis\\masterthesis\\mthesis\\lib\\site-packages\\castle\\datasets\\simulator.py[line:270] - INFO: Finished synthetic dataset\n"
     ]
    },
    {
     "name": "stdout",
     "output_type": "stream",
     "text": [
      "Warning: n_edges is not exact due to gcastle implementation\n",
      "Duration of algorithm was 0.83sec\n"
     ]
    },
    {
     "name": "stderr",
     "output_type": "stream",
     "text": [
      "2023-08-23 15:39:41,658 - c:\\Users\\JanMarco\\MLProjects\\Masterthesis\\masterthesis\\mthesis\\lib\\site-packages\\castle\\datasets\\simulator.py[line:270] - INFO: Finished synthetic dataset\n"
     ]
    },
    {
     "name": "stdout",
     "output_type": "stream",
     "text": [
      "Warning: n_edges is not exact due to gcastle implementation\n",
      "Duration of algorithm was 0.38sec\n"
     ]
    },
    {
     "name": "stderr",
     "output_type": "stream",
     "text": [
      "2023-08-23 15:39:52,160 - c:\\Users\\JanMarco\\MLProjects\\Masterthesis\\masterthesis\\mthesis\\lib\\site-packages\\castle\\datasets\\simulator.py[line:270] - INFO: Finished synthetic dataset\n"
     ]
    },
    {
     "name": "stdout",
     "output_type": "stream",
     "text": [
      "Warning: n_edges is not exact due to gcastle implementation\n",
      "Duration of algorithm was 1.10sec\n"
     ]
    },
    {
     "name": "stderr",
     "output_type": "stream",
     "text": [
      "2023-08-23 15:40:04,212 - c:\\Users\\JanMarco\\MLProjects\\Masterthesis\\masterthesis\\mthesis\\lib\\site-packages\\castle\\datasets\\simulator.py[line:270] - INFO: Finished synthetic dataset\n"
     ]
    },
    {
     "name": "stdout",
     "output_type": "stream",
     "text": [
      "Warning: n_edges is not exact due to gcastle implementation\n",
      "Duration of algorithm was 0.53sec\n"
     ]
    },
    {
     "name": "stderr",
     "output_type": "stream",
     "text": [
      "2023-08-23 15:40:14,681 - c:\\Users\\JanMarco\\MLProjects\\Masterthesis\\masterthesis\\mthesis\\lib\\site-packages\\castle\\datasets\\simulator.py[line:270] - INFO: Finished synthetic dataset\n"
     ]
    },
    {
     "name": "stdout",
     "output_type": "stream",
     "text": [
      "Warning: n_edges is not exact due to gcastle implementation\n",
      "Duration of algorithm was 0.79sec\n"
     ]
    },
    {
     "name": "stderr",
     "output_type": "stream",
     "text": [
      "2023-08-23 15:40:25,885 - c:\\Users\\JanMarco\\MLProjects\\Masterthesis\\masterthesis\\mthesis\\lib\\site-packages\\castle\\datasets\\simulator.py[line:270] - INFO: Finished synthetic dataset\n"
     ]
    },
    {
     "name": "stdout",
     "output_type": "stream",
     "text": [
      "Warning: n_edges is not exact due to gcastle implementation\n",
      "Duration of algorithm was 0.72sec\n"
     ]
    },
    {
     "name": "stderr",
     "output_type": "stream",
     "text": [
      "2023-08-23 15:40:36,645 - c:\\Users\\JanMarco\\MLProjects\\Masterthesis\\masterthesis\\mthesis\\lib\\site-packages\\castle\\datasets\\simulator.py[line:270] - INFO: Finished synthetic dataset\n"
     ]
    },
    {
     "name": "stdout",
     "output_type": "stream",
     "text": [
      "Warning: n_edges is not exact due to gcastle implementation\n",
      "Duration of algorithm was 0.71sec\n"
     ]
    },
    {
     "name": "stderr",
     "output_type": "stream",
     "text": [
      "2023-08-23 15:40:50,157 - c:\\Users\\JanMarco\\MLProjects\\Masterthesis\\masterthesis\\mthesis\\lib\\site-packages\\castle\\datasets\\simulator.py[line:270] - INFO: Finished synthetic dataset\n"
     ]
    },
    {
     "name": "stdout",
     "output_type": "stream",
     "text": [
      "Warning: n_edges is not exact due to gcastle implementation\n",
      "Duration of algorithm was 0.86sec\n"
     ]
    },
    {
     "name": "stderr",
     "output_type": "stream",
     "text": [
      "2023-08-23 15:41:02,621 - c:\\Users\\JanMarco\\MLProjects\\Masterthesis\\masterthesis\\mthesis\\lib\\site-packages\\castle\\datasets\\simulator.py[line:270] - INFO: Finished synthetic dataset\n"
     ]
    },
    {
     "name": "stdout",
     "output_type": "stream",
     "text": [
      "Warning: n_edges is not exact due to gcastle implementation\n",
      "Duration of algorithm was 0.71sec\n"
     ]
    },
    {
     "name": "stderr",
     "output_type": "stream",
     "text": [
      "2023-08-23 15:41:16,273 - c:\\Users\\JanMarco\\MLProjects\\Masterthesis\\masterthesis\\mthesis\\lib\\site-packages\\castle\\datasets\\simulator.py[line:270] - INFO: Finished synthetic dataset\n"
     ]
    },
    {
     "name": "stdout",
     "output_type": "stream",
     "text": [
      "Warning: n_edges is not exact due to gcastle implementation\n",
      "Duration of algorithm was 0.55sec\n"
     ]
    },
    {
     "name": "stderr",
     "output_type": "stream",
     "text": [
      "2023-08-23 15:41:26,933 - c:\\Users\\JanMarco\\MLProjects\\Masterthesis\\masterthesis\\mthesis\\lib\\site-packages\\castle\\datasets\\simulator.py[line:270] - INFO: Finished synthetic dataset\n"
     ]
    },
    {
     "name": "stdout",
     "output_type": "stream",
     "text": [
      "Warning: n_edges is not exact due to gcastle implementation\n",
      "Duration of algorithm was 0.90sec\n"
     ]
    },
    {
     "name": "stderr",
     "output_type": "stream",
     "text": [
      "2023-08-23 15:41:38,745 - c:\\Users\\JanMarco\\MLProjects\\Masterthesis\\masterthesis\\mthesis\\lib\\site-packages\\castle\\datasets\\simulator.py[line:270] - INFO: Finished synthetic dataset\n"
     ]
    },
    {
     "name": "stdout",
     "output_type": "stream",
     "text": [
      "Warning: n_edges is not exact due to gcastle implementation\n",
      "Duration of algorithm was 1.13sec\n"
     ]
    },
    {
     "name": "stderr",
     "output_type": "stream",
     "text": [
      "2023-08-23 15:41:50,462 - c:\\Users\\JanMarco\\MLProjects\\Masterthesis\\masterthesis\\mthesis\\lib\\site-packages\\castle\\datasets\\simulator.py[line:270] - INFO: Finished synthetic dataset\n"
     ]
    },
    {
     "name": "stdout",
     "output_type": "stream",
     "text": [
      "Warning: n_edges is not exact due to gcastle implementation\n",
      "Duration of algorithm was 0.62sec\n"
     ]
    },
    {
     "name": "stderr",
     "output_type": "stream",
     "text": [
      "2023-08-23 15:42:02,570 - c:\\Users\\JanMarco\\MLProjects\\Masterthesis\\masterthesis\\mthesis\\lib\\site-packages\\castle\\datasets\\simulator.py[line:270] - INFO: Finished synthetic dataset\n"
     ]
    },
    {
     "name": "stdout",
     "output_type": "stream",
     "text": [
      "Warning: n_edges is not exact due to gcastle implementation\n",
      "Duration of algorithm was 0.82sec\n"
     ]
    },
    {
     "name": "stderr",
     "output_type": "stream",
     "text": [
      "2023-08-23 15:42:14,022 - c:\\Users\\JanMarco\\MLProjects\\Masterthesis\\masterthesis\\mthesis\\lib\\site-packages\\castle\\datasets\\simulator.py[line:270] - INFO: Finished synthetic dataset\n"
     ]
    },
    {
     "name": "stdout",
     "output_type": "stream",
     "text": [
      "Warning: n_edges is not exact due to gcastle implementation\n",
      "Duration of algorithm was 0.82sec\n"
     ]
    },
    {
     "name": "stderr",
     "output_type": "stream",
     "text": [
      "2023-08-23 15:42:25,231 - c:\\Users\\JanMarco\\MLProjects\\Masterthesis\\masterthesis\\mthesis\\lib\\site-packages\\castle\\datasets\\simulator.py[line:270] - INFO: Finished synthetic dataset\n"
     ]
    },
    {
     "name": "stdout",
     "output_type": "stream",
     "text": [
      "Warning: n_edges is not exact due to gcastle implementation\n",
      "Duration of algorithm was 0.73sec\n"
     ]
    },
    {
     "name": "stderr",
     "output_type": "stream",
     "text": [
      "2023-08-23 15:42:36,255 - c:\\Users\\JanMarco\\MLProjects\\Masterthesis\\masterthesis\\mthesis\\lib\\site-packages\\castle\\datasets\\simulator.py[line:270] - INFO: Finished synthetic dataset\n"
     ]
    },
    {
     "name": "stdout",
     "output_type": "stream",
     "text": [
      "Warning: n_edges is not exact due to gcastle implementation\n",
      "Duration of algorithm was 1.06sec\n"
     ]
    },
    {
     "name": "stderr",
     "output_type": "stream",
     "text": [
      "2023-08-23 15:42:48,023 - c:\\Users\\JanMarco\\MLProjects\\Masterthesis\\masterthesis\\mthesis\\lib\\site-packages\\castle\\datasets\\simulator.py[line:270] - INFO: Finished synthetic dataset\n"
     ]
    },
    {
     "name": "stdout",
     "output_type": "stream",
     "text": [
      "Warning: n_edges is not exact due to gcastle implementation\n",
      "Duration of algorithm was 0.41sec\n"
     ]
    },
    {
     "name": "stderr",
     "output_type": "stream",
     "text": [
      "2023-08-23 15:42:58,296 - c:\\Users\\JanMarco\\MLProjects\\Masterthesis\\masterthesis\\mthesis\\lib\\site-packages\\castle\\datasets\\simulator.py[line:270] - INFO: Finished synthetic dataset\n"
     ]
    },
    {
     "name": "stdout",
     "output_type": "stream",
     "text": [
      "Warning: n_edges is not exact due to gcastle implementation\n",
      "Duration of algorithm was 0.53sec\n"
     ]
    },
    {
     "name": "stderr",
     "output_type": "stream",
     "text": [
      "2023-08-23 15:43:08,884 - c:\\Users\\JanMarco\\MLProjects\\Masterthesis\\masterthesis\\mthesis\\lib\\site-packages\\castle\\datasets\\simulator.py[line:270] - INFO: Finished synthetic dataset\n"
     ]
    },
    {
     "name": "stdout",
     "output_type": "stream",
     "text": [
      "Warning: n_edges is not exact due to gcastle implementation\n",
      "Duration of algorithm was 0.45sec\n"
     ]
    },
    {
     "name": "stderr",
     "output_type": "stream",
     "text": [
      "2023-08-23 15:43:19,402 - c:\\Users\\JanMarco\\MLProjects\\Masterthesis\\masterthesis\\mthesis\\lib\\site-packages\\castle\\datasets\\simulator.py[line:270] - INFO: Finished synthetic dataset\n"
     ]
    },
    {
     "name": "stdout",
     "output_type": "stream",
     "text": [
      "Warning: n_edges is not exact due to gcastle implementation\n",
      "Duration of algorithm was 0.71sec\n"
     ]
    },
    {
     "name": "stderr",
     "output_type": "stream",
     "text": [
      "2023-08-23 15:43:31,761 - c:\\Users\\JanMarco\\MLProjects\\Masterthesis\\masterthesis\\mthesis\\lib\\site-packages\\castle\\datasets\\simulator.py[line:270] - INFO: Finished synthetic dataset\n"
     ]
    },
    {
     "name": "stdout",
     "output_type": "stream",
     "text": [
      "Warning: n_edges is not exact due to gcastle implementation\n",
      "Duration of algorithm was 0.69sec\n"
     ]
    },
    {
     "name": "stderr",
     "output_type": "stream",
     "text": [
      "2023-08-23 15:43:42,613 - c:\\Users\\JanMarco\\MLProjects\\Masterthesis\\masterthesis\\mthesis\\lib\\site-packages\\castle\\datasets\\simulator.py[line:270] - INFO: Finished synthetic dataset\n"
     ]
    },
    {
     "name": "stdout",
     "output_type": "stream",
     "text": [
      "Warning: n_edges is not exact due to gcastle implementation\n",
      "Duration of algorithm was 0.61sec\n"
     ]
    },
    {
     "name": "stderr",
     "output_type": "stream",
     "text": [
      "2023-08-23 15:43:54,587 - c:\\Users\\JanMarco\\MLProjects\\Masterthesis\\masterthesis\\mthesis\\lib\\site-packages\\castle\\datasets\\simulator.py[line:270] - INFO: Finished synthetic dataset\n"
     ]
    },
    {
     "name": "stdout",
     "output_type": "stream",
     "text": [
      "Warning: n_edges is not exact due to gcastle implementation\n",
      "Duration of algorithm was 0.71sec\n"
     ]
    },
    {
     "name": "stderr",
     "output_type": "stream",
     "text": [
      "2023-08-23 15:44:06,586 - c:\\Users\\JanMarco\\MLProjects\\Masterthesis\\masterthesis\\mthesis\\lib\\site-packages\\castle\\datasets\\simulator.py[line:270] - INFO: Finished synthetic dataset\n"
     ]
    },
    {
     "name": "stdout",
     "output_type": "stream",
     "text": [
      "Warning: n_edges is not exact due to gcastle implementation\n",
      "Duration of algorithm was 0.63sec\n"
     ]
    },
    {
     "name": "stderr",
     "output_type": "stream",
     "text": [
      "2023-08-23 15:44:22,361 - c:\\Users\\JanMarco\\MLProjects\\Masterthesis\\masterthesis\\mthesis\\lib\\site-packages\\castle\\datasets\\simulator.py[line:270] - INFO: Finished synthetic dataset\n"
     ]
    },
    {
     "name": "stdout",
     "output_type": "stream",
     "text": [
      "Warning: n_edges is not exact due to gcastle implementation\n",
      "Duration of algorithm was 0.68sec\n"
     ]
    },
    {
     "name": "stderr",
     "output_type": "stream",
     "text": [
      "2023-08-23 15:44:34,139 - c:\\Users\\JanMarco\\MLProjects\\Masterthesis\\masterthesis\\mthesis\\lib\\site-packages\\castle\\datasets\\simulator.py[line:270] - INFO: Finished synthetic dataset\n"
     ]
    },
    {
     "name": "stdout",
     "output_type": "stream",
     "text": [
      "Warning: n_edges is not exact due to gcastle implementation\n",
      "Duration of algorithm was 1.08sec\n"
     ]
    },
    {
     "name": "stderr",
     "output_type": "stream",
     "text": [
      "2023-08-23 15:44:46,577 - c:\\Users\\JanMarco\\MLProjects\\Masterthesis\\masterthesis\\mthesis\\lib\\site-packages\\castle\\datasets\\simulator.py[line:270] - INFO: Finished synthetic dataset\n"
     ]
    },
    {
     "name": "stdout",
     "output_type": "stream",
     "text": [
      "Warning: n_edges is not exact due to gcastle implementation\n",
      "Duration of algorithm was 0.73sec\n"
     ]
    },
    {
     "name": "stderr",
     "output_type": "stream",
     "text": [
      "2023-08-23 15:44:58,258 - c:\\Users\\JanMarco\\MLProjects\\Masterthesis\\masterthesis\\mthesis\\lib\\site-packages\\castle\\datasets\\simulator.py[line:270] - INFO: Finished synthetic dataset\n"
     ]
    },
    {
     "name": "stdout",
     "output_type": "stream",
     "text": [
      "Warning: n_edges is not exact due to gcastle implementation\n",
      "Duration of algorithm was 0.97sec\n"
     ]
    },
    {
     "name": "stderr",
     "output_type": "stream",
     "text": [
      "2023-08-23 15:45:10,176 - c:\\Users\\JanMarco\\MLProjects\\Masterthesis\\masterthesis\\mthesis\\lib\\site-packages\\castle\\datasets\\simulator.py[line:270] - INFO: Finished synthetic dataset\n"
     ]
    },
    {
     "name": "stdout",
     "output_type": "stream",
     "text": [
      "Warning: n_edges is not exact due to gcastle implementation\n",
      "Duration of algorithm was 4.02sec\n"
     ]
    },
    {
     "name": "stderr",
     "output_type": "stream",
     "text": [
      "2023-08-23 15:45:28,163 - c:\\Users\\JanMarco\\MLProjects\\Masterthesis\\masterthesis\\mthesis\\lib\\site-packages\\castle\\datasets\\simulator.py[line:270] - INFO: Finished synthetic dataset\n"
     ]
    },
    {
     "name": "stdout",
     "output_type": "stream",
     "text": [
      "Warning: n_edges is not exact due to gcastle implementation\n",
      "Duration of algorithm was 3.43sec\n"
     ]
    },
    {
     "name": "stderr",
     "output_type": "stream",
     "text": [
      "2023-08-23 15:45:44,447 - c:\\Users\\JanMarco\\MLProjects\\Masterthesis\\masterthesis\\mthesis\\lib\\site-packages\\castle\\datasets\\simulator.py[line:270] - INFO: Finished synthetic dataset\n"
     ]
    },
    {
     "name": "stdout",
     "output_type": "stream",
     "text": [
      "Warning: n_edges is not exact due to gcastle implementation\n",
      "Duration of algorithm was 3.51sec\n"
     ]
    },
    {
     "name": "stderr",
     "output_type": "stream",
     "text": [
      "2023-08-23 15:46:01,253 - c:\\Users\\JanMarco\\MLProjects\\Masterthesis\\masterthesis\\mthesis\\lib\\site-packages\\castle\\datasets\\simulator.py[line:270] - INFO: Finished synthetic dataset\n"
     ]
    },
    {
     "name": "stdout",
     "output_type": "stream",
     "text": [
      "Warning: n_edges is not exact due to gcastle implementation\n",
      "Duration of algorithm was 4.09sec\n"
     ]
    },
    {
     "name": "stderr",
     "output_type": "stream",
     "text": [
      "2023-08-23 15:46:20,477 - c:\\Users\\JanMarco\\MLProjects\\Masterthesis\\masterthesis\\mthesis\\lib\\site-packages\\castle\\datasets\\simulator.py[line:270] - INFO: Finished synthetic dataset\n"
     ]
    },
    {
     "name": "stdout",
     "output_type": "stream",
     "text": [
      "Warning: n_edges is not exact due to gcastle implementation\n",
      "Duration of algorithm was 4.59sec\n"
     ]
    },
    {
     "name": "stderr",
     "output_type": "stream",
     "text": [
      "2023-08-23 15:46:39,072 - c:\\Users\\JanMarco\\MLProjects\\Masterthesis\\masterthesis\\mthesis\\lib\\site-packages\\castle\\datasets\\simulator.py[line:270] - INFO: Finished synthetic dataset\n"
     ]
    },
    {
     "name": "stdout",
     "output_type": "stream",
     "text": [
      "Warning: n_edges is not exact due to gcastle implementation\n",
      "Duration of algorithm was 4.08sec\n"
     ]
    },
    {
     "name": "stderr",
     "output_type": "stream",
     "text": [
      "2023-08-23 15:46:56,827 - c:\\Users\\JanMarco\\MLProjects\\Masterthesis\\masterthesis\\mthesis\\lib\\site-packages\\castle\\datasets\\simulator.py[line:270] - INFO: Finished synthetic dataset\n"
     ]
    },
    {
     "name": "stdout",
     "output_type": "stream",
     "text": [
      "Warning: n_edges is not exact due to gcastle implementation\n",
      "Duration of algorithm was 4.69sec\n"
     ]
    },
    {
     "name": "stderr",
     "output_type": "stream",
     "text": [
      "2023-08-23 16:33:20,118 - c:\\Users\\JanMarco\\MLProjects\\Masterthesis\\masterthesis\\mthesis\\lib\\site-packages\\castle\\datasets\\simulator.py[line:270] - INFO: Finished synthetic dataset\n"
     ]
    },
    {
     "name": "stdout",
     "output_type": "stream",
     "text": [
      "Warning: n_edges is not exact due to gcastle implementation\n",
      "Duration of algorithm was 5.21sec\n"
     ]
    },
    {
     "name": "stderr",
     "output_type": "stream",
     "text": [
      "2023-08-23 16:33:41,061 - c:\\Users\\JanMarco\\MLProjects\\Masterthesis\\masterthesis\\mthesis\\lib\\site-packages\\castle\\datasets\\simulator.py[line:270] - INFO: Finished synthetic dataset\n"
     ]
    },
    {
     "name": "stdout",
     "output_type": "stream",
     "text": [
      "Warning: n_edges is not exact due to gcastle implementation\n",
      "Duration of algorithm was 5.76sec\n"
     ]
    },
    {
     "name": "stderr",
     "output_type": "stream",
     "text": [
      "2023-08-23 16:34:02,968 - c:\\Users\\JanMarco\\MLProjects\\Masterthesis\\masterthesis\\mthesis\\lib\\site-packages\\castle\\datasets\\simulator.py[line:270] - INFO: Finished synthetic dataset\n"
     ]
    },
    {
     "name": "stdout",
     "output_type": "stream",
     "text": [
      "Warning: n_edges is not exact due to gcastle implementation\n",
      "Duration of algorithm was 6.16sec\n"
     ]
    },
    {
     "name": "stderr",
     "output_type": "stream",
     "text": [
      "2023-08-23 16:34:25,574 - c:\\Users\\JanMarco\\MLProjects\\Masterthesis\\masterthesis\\mthesis\\lib\\site-packages\\castle\\datasets\\simulator.py[line:270] - INFO: Finished synthetic dataset\n"
     ]
    },
    {
     "name": "stdout",
     "output_type": "stream",
     "text": [
      "Warning: n_edges is not exact due to gcastle implementation\n",
      "Duration of algorithm was 5.52sec\n"
     ]
    },
    {
     "name": "stderr",
     "output_type": "stream",
     "text": [
      "2023-08-23 16:34:47,049 - c:\\Users\\JanMarco\\MLProjects\\Masterthesis\\masterthesis\\mthesis\\lib\\site-packages\\castle\\datasets\\simulator.py[line:270] - INFO: Finished synthetic dataset\n"
     ]
    },
    {
     "name": "stdout",
     "output_type": "stream",
     "text": [
      "Warning: n_edges is not exact due to gcastle implementation\n",
      "Duration of algorithm was 5.94sec\n"
     ]
    },
    {
     "name": "stderr",
     "output_type": "stream",
     "text": [
      "2023-08-23 16:35:08,648 - c:\\Users\\JanMarco\\MLProjects\\Masterthesis\\masterthesis\\mthesis\\lib\\site-packages\\castle\\datasets\\simulator.py[line:270] - INFO: Finished synthetic dataset\n"
     ]
    },
    {
     "name": "stdout",
     "output_type": "stream",
     "text": [
      "Warning: n_edges is not exact due to gcastle implementation\n",
      "Duration of algorithm was 3.50sec\n"
     ]
    },
    {
     "name": "stderr",
     "output_type": "stream",
     "text": [
      "2023-08-23 16:35:51,800 - c:\\Users\\JanMarco\\MLProjects\\Masterthesis\\masterthesis\\mthesis\\lib\\site-packages\\castle\\datasets\\simulator.py[line:270] - INFO: Finished synthetic dataset\n"
     ]
    },
    {
     "name": "stdout",
     "output_type": "stream",
     "text": [
      "Warning: n_edges is not exact due to gcastle implementation\n",
      "Duration of algorithm was 3.41sec\n"
     ]
    },
    {
     "name": "stderr",
     "output_type": "stream",
     "text": [
      "2023-08-23 16:36:09,722 - c:\\Users\\JanMarco\\MLProjects\\Masterthesis\\masterthesis\\mthesis\\lib\\site-packages\\castle\\datasets\\simulator.py[line:270] - INFO: Finished synthetic dataset\n"
     ]
    },
    {
     "name": "stdout",
     "output_type": "stream",
     "text": [
      "Warning: n_edges is not exact due to gcastle implementation\n",
      "Duration of algorithm was 3.63sec\n"
     ]
    },
    {
     "name": "stderr",
     "output_type": "stream",
     "text": [
      "2023-08-23 16:36:25,972 - c:\\Users\\JanMarco\\MLProjects\\Masterthesis\\masterthesis\\mthesis\\lib\\site-packages\\castle\\datasets\\simulator.py[line:270] - INFO: Finished synthetic dataset\n"
     ]
    },
    {
     "name": "stdout",
     "output_type": "stream",
     "text": [
      "Warning: n_edges is not exact due to gcastle implementation\n",
      "Duration of algorithm was 3.83sec\n"
     ]
    },
    {
     "name": "stderr",
     "output_type": "stream",
     "text": [
      "2023-08-23 16:36:44,131 - c:\\Users\\JanMarco\\MLProjects\\Masterthesis\\masterthesis\\mthesis\\lib\\site-packages\\castle\\datasets\\simulator.py[line:270] - INFO: Finished synthetic dataset\n"
     ]
    },
    {
     "name": "stdout",
     "output_type": "stream",
     "text": [
      "Warning: n_edges is not exact due to gcastle implementation\n",
      "Duration of algorithm was 4.34sec\n"
     ]
    },
    {
     "name": "stderr",
     "output_type": "stream",
     "text": [
      "2023-08-23 16:37:02,283 - c:\\Users\\JanMarco\\MLProjects\\Masterthesis\\masterthesis\\mthesis\\lib\\site-packages\\castle\\datasets\\simulator.py[line:270] - INFO: Finished synthetic dataset\n"
     ]
    },
    {
     "name": "stdout",
     "output_type": "stream",
     "text": [
      "Warning: n_edges is not exact due to gcastle implementation\n",
      "Duration of algorithm was 4.43sec\n"
     ]
    },
    {
     "name": "stderr",
     "output_type": "stream",
     "text": [
      "2023-08-23 16:37:21,128 - c:\\Users\\JanMarco\\MLProjects\\Masterthesis\\masterthesis\\mthesis\\lib\\site-packages\\castle\\datasets\\simulator.py[line:270] - INFO: Finished synthetic dataset\n"
     ]
    },
    {
     "name": "stdout",
     "output_type": "stream",
     "text": [
      "Warning: n_edges is not exact due to gcastle implementation\n",
      "Duration of algorithm was 7.73sec\n"
     ]
    },
    {
     "name": "stderr",
     "output_type": "stream",
     "text": [
      "2023-08-23 16:37:42,143 - c:\\Users\\JanMarco\\MLProjects\\Masterthesis\\masterthesis\\mthesis\\lib\\site-packages\\castle\\datasets\\simulator.py[line:270] - INFO: Finished synthetic dataset\n"
     ]
    },
    {
     "name": "stdout",
     "output_type": "stream",
     "text": [
      "Warning: n_edges is not exact due to gcastle implementation\n",
      "Duration of algorithm was 5.28sec\n"
     ]
    },
    {
     "name": "stderr",
     "output_type": "stream",
     "text": [
      "2023-08-23 16:38:02,981 - c:\\Users\\JanMarco\\MLProjects\\Masterthesis\\masterthesis\\mthesis\\lib\\site-packages\\castle\\datasets\\simulator.py[line:270] - INFO: Finished synthetic dataset\n"
     ]
    },
    {
     "name": "stdout",
     "output_type": "stream",
     "text": [
      "Warning: n_edges is not exact due to gcastle implementation\n",
      "Duration of algorithm was 3.46sec\n"
     ]
    },
    {
     "name": "stderr",
     "output_type": "stream",
     "text": [
      "2023-08-23 16:38:21,332 - c:\\Users\\JanMarco\\MLProjects\\Masterthesis\\masterthesis\\mthesis\\lib\\site-packages\\castle\\datasets\\simulator.py[line:270] - INFO: Finished synthetic dataset\n"
     ]
    },
    {
     "name": "stdout",
     "output_type": "stream",
     "text": [
      "Warning: n_edges is not exact due to gcastle implementation\n",
      "Duration of algorithm was 5.14sec\n"
     ]
    },
    {
     "name": "stderr",
     "output_type": "stream",
     "text": [
      "2023-08-23 16:38:42,117 - c:\\Users\\JanMarco\\MLProjects\\Masterthesis\\masterthesis\\mthesis\\lib\\site-packages\\castle\\datasets\\simulator.py[line:270] - INFO: Finished synthetic dataset\n"
     ]
    },
    {
     "name": "stdout",
     "output_type": "stream",
     "text": [
      "Warning: n_edges is not exact due to gcastle implementation\n",
      "Duration of algorithm was 4.96sec\n"
     ]
    },
    {
     "name": "stderr",
     "output_type": "stream",
     "text": [
      "2023-08-23 16:39:03,567 - c:\\Users\\JanMarco\\MLProjects\\Masterthesis\\masterthesis\\mthesis\\lib\\site-packages\\castle\\datasets\\simulator.py[line:270] - INFO: Finished synthetic dataset\n"
     ]
    },
    {
     "name": "stdout",
     "output_type": "stream",
     "text": [
      "Warning: n_edges is not exact due to gcastle implementation\n",
      "Duration of algorithm was 6.15sec\n"
     ]
    },
    {
     "name": "stderr",
     "output_type": "stream",
     "text": [
      "2023-08-23 16:39:25,479 - c:\\Users\\JanMarco\\MLProjects\\Masterthesis\\masterthesis\\mthesis\\lib\\site-packages\\castle\\datasets\\simulator.py[line:270] - INFO: Finished synthetic dataset\n"
     ]
    },
    {
     "name": "stdout",
     "output_type": "stream",
     "text": [
      "Warning: n_edges is not exact due to gcastle implementation\n",
      "Duration of algorithm was 1.00sec\n"
     ]
    },
    {
     "name": "stderr",
     "output_type": "stream",
     "text": [
      "2023-08-23 16:39:36,861 - c:\\Users\\JanMarco\\MLProjects\\Masterthesis\\masterthesis\\mthesis\\lib\\site-packages\\castle\\datasets\\simulator.py[line:270] - INFO: Finished synthetic dataset\n"
     ]
    },
    {
     "name": "stdout",
     "output_type": "stream",
     "text": [
      "Warning: n_edges is not exact due to gcastle implementation\n",
      "Duration of algorithm was 1.65sec\n"
     ]
    },
    {
     "name": "stderr",
     "output_type": "stream",
     "text": [
      "2023-08-23 16:39:49,578 - c:\\Users\\JanMarco\\MLProjects\\Masterthesis\\masterthesis\\mthesis\\lib\\site-packages\\castle\\datasets\\simulator.py[line:270] - INFO: Finished synthetic dataset\n"
     ]
    },
    {
     "name": "stdout",
     "output_type": "stream",
     "text": [
      "Warning: n_edges is not exact due to gcastle implementation\n",
      "Duration of algorithm was 1.34sec\n"
     ]
    },
    {
     "name": "stderr",
     "output_type": "stream",
     "text": [
      "2023-08-23 16:40:01,694 - c:\\Users\\JanMarco\\MLProjects\\Masterthesis\\masterthesis\\mthesis\\lib\\site-packages\\castle\\datasets\\simulator.py[line:270] - INFO: Finished synthetic dataset\n"
     ]
    },
    {
     "name": "stdout",
     "output_type": "stream",
     "text": [
      "Warning: n_edges is not exact due to gcastle implementation\n",
      "Duration of algorithm was 1.33sec\n"
     ]
    },
    {
     "name": "stderr",
     "output_type": "stream",
     "text": [
      "2023-08-23 16:40:13,882 - c:\\Users\\JanMarco\\MLProjects\\Masterthesis\\masterthesis\\mthesis\\lib\\site-packages\\castle\\datasets\\simulator.py[line:270] - INFO: Finished synthetic dataset\n"
     ]
    },
    {
     "name": "stdout",
     "output_type": "stream",
     "text": [
      "Warning: n_edges is not exact due to gcastle implementation\n",
      "Duration of algorithm was 1.00sec\n"
     ]
    },
    {
     "name": "stderr",
     "output_type": "stream",
     "text": [
      "2023-08-23 16:40:25,241 - c:\\Users\\JanMarco\\MLProjects\\Masterthesis\\masterthesis\\mthesis\\lib\\site-packages\\castle\\datasets\\simulator.py[line:270] - INFO: Finished synthetic dataset\n"
     ]
    },
    {
     "name": "stdout",
     "output_type": "stream",
     "text": [
      "Warning: n_edges is not exact due to gcastle implementation\n",
      "Duration of algorithm was 0.89sec\n"
     ]
    },
    {
     "name": "stderr",
     "output_type": "stream",
     "text": [
      "2023-08-23 16:40:36,777 - c:\\Users\\JanMarco\\MLProjects\\Masterthesis\\masterthesis\\mthesis\\lib\\site-packages\\castle\\datasets\\simulator.py[line:270] - INFO: Finished synthetic dataset\n"
     ]
    },
    {
     "name": "stdout",
     "output_type": "stream",
     "text": [
      "Warning: n_edges is not exact due to gcastle implementation\n",
      "Duration of algorithm was 3.24sec\n"
     ]
    },
    {
     "name": "stderr",
     "output_type": "stream",
     "text": [
      "2023-08-23 16:40:53,061 - c:\\Users\\JanMarco\\MLProjects\\Masterthesis\\masterthesis\\mthesis\\lib\\site-packages\\castle\\datasets\\simulator.py[line:270] - INFO: Finished synthetic dataset\n"
     ]
    },
    {
     "name": "stdout",
     "output_type": "stream",
     "text": [
      "Warning: n_edges is not exact due to gcastle implementation\n",
      "Duration of algorithm was 1.66sec\n"
     ]
    },
    {
     "name": "stderr",
     "output_type": "stream",
     "text": [
      "2023-08-23 16:41:05,808 - c:\\Users\\JanMarco\\MLProjects\\Masterthesis\\masterthesis\\mthesis\\lib\\site-packages\\castle\\datasets\\simulator.py[line:270] - INFO: Finished synthetic dataset\n"
     ]
    },
    {
     "name": "stdout",
     "output_type": "stream",
     "text": [
      "Warning: n_edges is not exact due to gcastle implementation\n",
      "Duration of algorithm was 1.61sec\n"
     ]
    },
    {
     "name": "stderr",
     "output_type": "stream",
     "text": [
      "2023-08-23 16:41:18,389 - c:\\Users\\JanMarco\\MLProjects\\Masterthesis\\masterthesis\\mthesis\\lib\\site-packages\\castle\\datasets\\simulator.py[line:270] - INFO: Finished synthetic dataset\n"
     ]
    },
    {
     "name": "stdout",
     "output_type": "stream",
     "text": [
      "Warning: n_edges is not exact due to gcastle implementation\n",
      "Duration of algorithm was 1.65sec\n"
     ]
    },
    {
     "name": "stderr",
     "output_type": "stream",
     "text": [
      "2023-08-23 16:41:31,333 - c:\\Users\\JanMarco\\MLProjects\\Masterthesis\\masterthesis\\mthesis\\lib\\site-packages\\castle\\datasets\\simulator.py[line:270] - INFO: Finished synthetic dataset\n"
     ]
    },
    {
     "name": "stdout",
     "output_type": "stream",
     "text": [
      "Warning: n_edges is not exact due to gcastle implementation\n",
      "Duration of algorithm was 1.63sec\n"
     ]
    },
    {
     "name": "stderr",
     "output_type": "stream",
     "text": [
      "2023-08-23 16:41:43,578 - c:\\Users\\JanMarco\\MLProjects\\Masterthesis\\masterthesis\\mthesis\\lib\\site-packages\\castle\\datasets\\simulator.py[line:270] - INFO: Finished synthetic dataset\n"
     ]
    },
    {
     "name": "stdout",
     "output_type": "stream",
     "text": [
      "Warning: n_edges is not exact due to gcastle implementation\n",
      "Duration of algorithm was 1.71sec\n"
     ]
    },
    {
     "name": "stderr",
     "output_type": "stream",
     "text": [
      "2023-08-23 16:41:56,571 - c:\\Users\\JanMarco\\MLProjects\\Masterthesis\\masterthesis\\mthesis\\lib\\site-packages\\castle\\datasets\\simulator.py[line:270] - INFO: Finished synthetic dataset\n"
     ]
    },
    {
     "name": "stdout",
     "output_type": "stream",
     "text": [
      "Warning: n_edges is not exact due to gcastle implementation\n",
      "Duration of algorithm was 1.16sec\n"
     ]
    },
    {
     "name": "stderr",
     "output_type": "stream",
     "text": [
      "2023-08-23 16:42:08,235 - c:\\Users\\JanMarco\\MLProjects\\Masterthesis\\masterthesis\\mthesis\\lib\\site-packages\\castle\\datasets\\simulator.py[line:270] - INFO: Finished synthetic dataset\n"
     ]
    },
    {
     "name": "stdout",
     "output_type": "stream",
     "text": [
      "Warning: n_edges is not exact due to gcastle implementation\n",
      "Duration of algorithm was 0.63sec\n"
     ]
    },
    {
     "name": "stderr",
     "output_type": "stream",
     "text": [
      "2023-08-23 16:42:18,638 - c:\\Users\\JanMarco\\MLProjects\\Masterthesis\\masterthesis\\mthesis\\lib\\site-packages\\castle\\datasets\\simulator.py[line:270] - INFO: Finished synthetic dataset\n"
     ]
    },
    {
     "name": "stdout",
     "output_type": "stream",
     "text": [
      "Warning: n_edges is not exact due to gcastle implementation\n",
      "Duration of algorithm was 0.97sec\n"
     ]
    },
    {
     "name": "stderr",
     "output_type": "stream",
     "text": [
      "2023-08-23 16:42:29,959 - c:\\Users\\JanMarco\\MLProjects\\Masterthesis\\masterthesis\\mthesis\\lib\\site-packages\\castle\\datasets\\simulator.py[line:270] - INFO: Finished synthetic dataset\n"
     ]
    },
    {
     "name": "stdout",
     "output_type": "stream",
     "text": [
      "Warning: n_edges is not exact due to gcastle implementation\n",
      "Duration of algorithm was 0.82sec\n"
     ]
    },
    {
     "name": "stderr",
     "output_type": "stream",
     "text": [
      "2023-08-23 16:42:40,935 - c:\\Users\\JanMarco\\MLProjects\\Masterthesis\\masterthesis\\mthesis\\lib\\site-packages\\castle\\datasets\\simulator.py[line:270] - INFO: Finished synthetic dataset\n"
     ]
    },
    {
     "name": "stdout",
     "output_type": "stream",
     "text": [
      "Warning: n_edges is not exact due to gcastle implementation\n",
      "Duration of algorithm was 1.19sec\n"
     ]
    },
    {
     "name": "stderr",
     "output_type": "stream",
     "text": [
      "2023-08-23 16:42:52,435 - c:\\Users\\JanMarco\\MLProjects\\Masterthesis\\masterthesis\\mthesis\\lib\\site-packages\\castle\\datasets\\simulator.py[line:270] - INFO: Finished synthetic dataset\n"
     ]
    },
    {
     "name": "stdout",
     "output_type": "stream",
     "text": [
      "Warning: n_edges is not exact due to gcastle implementation\n",
      "Duration of algorithm was 0.63sec\n"
     ]
    },
    {
     "name": "stderr",
     "output_type": "stream",
     "text": [
      "2023-08-23 16:43:03,315 - c:\\Users\\JanMarco\\MLProjects\\Masterthesis\\masterthesis\\mthesis\\lib\\site-packages\\castle\\datasets\\simulator.py[line:270] - INFO: Finished synthetic dataset\n"
     ]
    },
    {
     "name": "stdout",
     "output_type": "stream",
     "text": [
      "Warning: n_edges is not exact due to gcastle implementation\n",
      "Duration of algorithm was 1.17sec\n"
     ]
    },
    {
     "name": "stderr",
     "output_type": "stream",
     "text": [
      "2023-08-23 16:43:15,573 - c:\\Users\\JanMarco\\MLProjects\\Masterthesis\\masterthesis\\mthesis\\lib\\site-packages\\castle\\datasets\\simulator.py[line:270] - INFO: Finished synthetic dataset\n"
     ]
    },
    {
     "name": "stdout",
     "output_type": "stream",
     "text": [
      "Warning: n_edges is not exact due to gcastle implementation\n",
      "Duration of algorithm was 0.72sec\n"
     ]
    },
    {
     "name": "stderr",
     "output_type": "stream",
     "text": [
      "2023-08-23 16:43:27,035 - c:\\Users\\JanMarco\\MLProjects\\Masterthesis\\masterthesis\\mthesis\\lib\\site-packages\\castle\\datasets\\simulator.py[line:270] - INFO: Finished synthetic dataset\n"
     ]
    },
    {
     "name": "stdout",
     "output_type": "stream",
     "text": [
      "Warning: n_edges is not exact due to gcastle implementation\n",
      "Duration of algorithm was 1.20sec\n"
     ]
    },
    {
     "name": "stderr",
     "output_type": "stream",
     "text": [
      "2023-08-23 16:43:38,963 - c:\\Users\\JanMarco\\MLProjects\\Masterthesis\\masterthesis\\mthesis\\lib\\site-packages\\castle\\datasets\\simulator.py[line:270] - INFO: Finished synthetic dataset\n"
     ]
    },
    {
     "name": "stdout",
     "output_type": "stream",
     "text": [
      "Warning: n_edges is not exact due to gcastle implementation\n",
      "Duration of algorithm was 1.68sec\n"
     ]
    },
    {
     "name": "stderr",
     "output_type": "stream",
     "text": [
      "2023-08-23 16:43:51,984 - c:\\Users\\JanMarco\\MLProjects\\Masterthesis\\masterthesis\\mthesis\\lib\\site-packages\\castle\\datasets\\simulator.py[line:270] - INFO: Finished synthetic dataset\n"
     ]
    },
    {
     "name": "stdout",
     "output_type": "stream",
     "text": [
      "Warning: n_edges is not exact due to gcastle implementation\n",
      "Duration of algorithm was 1.66sec\n"
     ]
    },
    {
     "name": "stderr",
     "output_type": "stream",
     "text": [
      "2023-08-23 16:44:04,700 - c:\\Users\\JanMarco\\MLProjects\\Masterthesis\\masterthesis\\mthesis\\lib\\site-packages\\castle\\datasets\\simulator.py[line:270] - INFO: Finished synthetic dataset\n"
     ]
    },
    {
     "name": "stdout",
     "output_type": "stream",
     "text": [
      "Warning: n_edges is not exact due to gcastle implementation\n",
      "Duration of algorithm was 1.48sec\n"
     ]
    },
    {
     "name": "stderr",
     "output_type": "stream",
     "text": [
      "2023-08-23 16:44:17,213 - c:\\Users\\JanMarco\\MLProjects\\Masterthesis\\masterthesis\\mthesis\\lib\\site-packages\\castle\\datasets\\simulator.py[line:270] - INFO: Finished synthetic dataset\n"
     ]
    },
    {
     "name": "stdout",
     "output_type": "stream",
     "text": [
      "Warning: n_edges is not exact due to gcastle implementation\n",
      "Duration of algorithm was 1.36sec\n"
     ]
    },
    {
     "name": "stderr",
     "output_type": "stream",
     "text": [
      "2023-08-23 16:44:29,875 - c:\\Users\\JanMarco\\MLProjects\\Masterthesis\\masterthesis\\mthesis\\lib\\site-packages\\castle\\datasets\\simulator.py[line:270] - INFO: Finished synthetic dataset\n"
     ]
    },
    {
     "name": "stdout",
     "output_type": "stream",
     "text": [
      "Warning: n_edges is not exact due to gcastle implementation\n",
      "Duration of algorithm was 2.20sec\n"
     ]
    },
    {
     "name": "stderr",
     "output_type": "stream",
     "text": [
      "2023-08-23 16:44:43,772 - c:\\Users\\JanMarco\\MLProjects\\Masterthesis\\masterthesis\\mthesis\\lib\\site-packages\\castle\\datasets\\simulator.py[line:270] - INFO: Finished synthetic dataset\n"
     ]
    },
    {
     "name": "stdout",
     "output_type": "stream",
     "text": [
      "Warning: n_edges is not exact due to gcastle implementation\n",
      "Duration of algorithm was 1.64sec\n"
     ]
    },
    {
     "name": "stderr",
     "output_type": "stream",
     "text": [
      "2023-08-23 16:44:57,300 - c:\\Users\\JanMarco\\MLProjects\\Masterthesis\\masterthesis\\mthesis\\lib\\site-packages\\castle\\datasets\\simulator.py[line:270] - INFO: Finished synthetic dataset\n"
     ]
    },
    {
     "name": "stdout",
     "output_type": "stream",
     "text": [
      "Warning: n_edges is not exact due to gcastle implementation\n",
      "Duration of algorithm was 2.36sec\n"
     ]
    },
    {
     "name": "stderr",
     "output_type": "stream",
     "text": [
      "2023-08-23 16:45:13,104 - c:\\Users\\JanMarco\\MLProjects\\Masterthesis\\masterthesis\\mthesis\\lib\\site-packages\\castle\\datasets\\simulator.py[line:270] - INFO: Finished synthetic dataset\n"
     ]
    },
    {
     "name": "stdout",
     "output_type": "stream",
     "text": [
      "Warning: n_edges is not exact due to gcastle implementation\n",
      "Duration of algorithm was 2.52sec\n"
     ]
    },
    {
     "name": "stderr",
     "output_type": "stream",
     "text": [
      "2023-08-23 16:45:28,209 - c:\\Users\\JanMarco\\MLProjects\\Masterthesis\\masterthesis\\mthesis\\lib\\site-packages\\castle\\datasets\\simulator.py[line:270] - INFO: Finished synthetic dataset\n"
     ]
    },
    {
     "name": "stdout",
     "output_type": "stream",
     "text": [
      "Warning: n_edges is not exact due to gcastle implementation\n",
      "Duration of algorithm was 1.94sec\n"
     ]
    },
    {
     "name": "stderr",
     "output_type": "stream",
     "text": [
      "2023-08-23 16:45:41,897 - c:\\Users\\JanMarco\\MLProjects\\Masterthesis\\masterthesis\\mthesis\\lib\\site-packages\\castle\\datasets\\simulator.py[line:270] - INFO: Finished synthetic dataset\n"
     ]
    },
    {
     "name": "stdout",
     "output_type": "stream",
     "text": [
      "Warning: n_edges is not exact due to gcastle implementation\n",
      "Duration of algorithm was 2.56sec\n"
     ]
    },
    {
     "name": "stderr",
     "output_type": "stream",
     "text": [
      "2023-08-23 16:45:58,080 - c:\\Users\\JanMarco\\MLProjects\\Masterthesis\\masterthesis\\mthesis\\lib\\site-packages\\castle\\datasets\\simulator.py[line:270] - INFO: Finished synthetic dataset\n"
     ]
    },
    {
     "name": "stdout",
     "output_type": "stream",
     "text": [
      "Warning: n_edges is not exact due to gcastle implementation\n",
      "Duration of algorithm was 2.46sec\n"
     ]
    },
    {
     "name": "stderr",
     "output_type": "stream",
     "text": [
      "2023-08-23 16:46:17,504 - c:\\Users\\JanMarco\\MLProjects\\Masterthesis\\masterthesis\\mthesis\\lib\\site-packages\\castle\\datasets\\simulator.py[line:270] - INFO: Finished synthetic dataset\n"
     ]
    },
    {
     "name": "stdout",
     "output_type": "stream",
     "text": [
      "Warning: n_edges is not exact due to gcastle implementation\n",
      "Duration of algorithm was 2.44sec\n"
     ]
    },
    {
     "name": "stderr",
     "output_type": "stream",
     "text": [
      "2023-08-23 16:46:31,444 - c:\\Users\\JanMarco\\MLProjects\\Masterthesis\\masterthesis\\mthesis\\lib\\site-packages\\castle\\datasets\\simulator.py[line:270] - INFO: Finished synthetic dataset\n"
     ]
    },
    {
     "name": "stdout",
     "output_type": "stream",
     "text": [
      "Warning: n_edges is not exact due to gcastle implementation\n",
      "Duration of algorithm was 1.56sec\n"
     ]
    },
    {
     "name": "stderr",
     "output_type": "stream",
     "text": [
      "2023-08-23 16:46:44,116 - c:\\Users\\JanMarco\\MLProjects\\Masterthesis\\masterthesis\\mthesis\\lib\\site-packages\\castle\\datasets\\simulator.py[line:270] - INFO: Finished synthetic dataset\n"
     ]
    },
    {
     "name": "stdout",
     "output_type": "stream",
     "text": [
      "Warning: n_edges is not exact due to gcastle implementation\n",
      "Duration of algorithm was 1.64sec\n"
     ]
    },
    {
     "name": "stderr",
     "output_type": "stream",
     "text": [
      "2023-08-23 16:46:56,679 - c:\\Users\\JanMarco\\MLProjects\\Masterthesis\\masterthesis\\mthesis\\lib\\site-packages\\castle\\datasets\\simulator.py[line:270] - INFO: Finished synthetic dataset\n"
     ]
    },
    {
     "name": "stdout",
     "output_type": "stream",
     "text": [
      "Warning: n_edges is not exact due to gcastle implementation\n",
      "Duration of algorithm was 2.65sec\n"
     ]
    },
    {
     "name": "stderr",
     "output_type": "stream",
     "text": [
      "2023-08-23 16:47:12,468 - c:\\Users\\JanMarco\\MLProjects\\Masterthesis\\masterthesis\\mthesis\\lib\\site-packages\\castle\\datasets\\simulator.py[line:270] - INFO: Finished synthetic dataset\n"
     ]
    },
    {
     "name": "stdout",
     "output_type": "stream",
     "text": [
      "Warning: n_edges is not exact due to gcastle implementation\n",
      "Duration of algorithm was 1.11sec\n"
     ]
    },
    {
     "name": "stderr",
     "output_type": "stream",
     "text": [
      "2023-08-23 16:47:23,752 - c:\\Users\\JanMarco\\MLProjects\\Masterthesis\\masterthesis\\mthesis\\lib\\site-packages\\castle\\datasets\\simulator.py[line:270] - INFO: Finished synthetic dataset\n"
     ]
    },
    {
     "name": "stdout",
     "output_type": "stream",
     "text": [
      "Warning: n_edges is not exact due to gcastle implementation\n",
      "Duration of algorithm was 1.17sec\n"
     ]
    },
    {
     "name": "stderr",
     "output_type": "stream",
     "text": [
      "2023-08-23 16:47:36,923 - c:\\Users\\JanMarco\\MLProjects\\Masterthesis\\masterthesis\\mthesis\\lib\\site-packages\\castle\\datasets\\simulator.py[line:270] - INFO: Finished synthetic dataset\n"
     ]
    },
    {
     "name": "stdout",
     "output_type": "stream",
     "text": [
      "Warning: n_edges is not exact due to gcastle implementation\n",
      "Duration of algorithm was 1.33sec\n"
     ]
    },
    {
     "name": "stderr",
     "output_type": "stream",
     "text": [
      "2023-08-23 16:47:49,261 - c:\\Users\\JanMarco\\MLProjects\\Masterthesis\\masterthesis\\mthesis\\lib\\site-packages\\castle\\datasets\\simulator.py[line:270] - INFO: Finished synthetic dataset\n"
     ]
    },
    {
     "name": "stdout",
     "output_type": "stream",
     "text": [
      "Warning: n_edges is not exact due to gcastle implementation\n",
      "Duration of algorithm was 1.27sec\n"
     ]
    },
    {
     "name": "stderr",
     "output_type": "stream",
     "text": [
      "2023-08-23 16:48:01,116 - c:\\Users\\JanMarco\\MLProjects\\Masterthesis\\masterthesis\\mthesis\\lib\\site-packages\\castle\\datasets\\simulator.py[line:270] - INFO: Finished synthetic dataset\n"
     ]
    },
    {
     "name": "stdout",
     "output_type": "stream",
     "text": [
      "Warning: n_edges is not exact due to gcastle implementation\n",
      "Duration of algorithm was 1.03sec\n"
     ]
    },
    {
     "name": "stderr",
     "output_type": "stream",
     "text": [
      "2023-08-23 16:48:12,877 - c:\\Users\\JanMarco\\MLProjects\\Masterthesis\\masterthesis\\mthesis\\lib\\site-packages\\castle\\datasets\\simulator.py[line:270] - INFO: Finished synthetic dataset\n"
     ]
    },
    {
     "name": "stdout",
     "output_type": "stream",
     "text": [
      "Warning: n_edges is not exact due to gcastle implementation\n",
      "Duration of algorithm was 2.09sec\n"
     ]
    },
    {
     "name": "stderr",
     "output_type": "stream",
     "text": [
      "2023-08-23 16:48:27,416 - c:\\Users\\JanMarco\\MLProjects\\Masterthesis\\masterthesis\\mthesis\\lib\\site-packages\\castle\\datasets\\simulator.py[line:270] - INFO: Finished synthetic dataset\n"
     ]
    },
    {
     "name": "stdout",
     "output_type": "stream",
     "text": [
      "Warning: n_edges is not exact due to gcastle implementation\n",
      "Duration of algorithm was 2.19sec\n"
     ]
    },
    {
     "name": "stderr",
     "output_type": "stream",
     "text": [
      "2023-08-23 16:48:41,691 - c:\\Users\\JanMarco\\MLProjects\\Masterthesis\\masterthesis\\mthesis\\lib\\site-packages\\castle\\datasets\\simulator.py[line:270] - INFO: Finished synthetic dataset\n"
     ]
    },
    {
     "name": "stdout",
     "output_type": "stream",
     "text": [
      "Warning: n_edges is not exact due to gcastle implementation\n",
      "Duration of algorithm was 1.82sec\n"
     ]
    },
    {
     "name": "stderr",
     "output_type": "stream",
     "text": [
      "2023-08-23 16:48:54,631 - c:\\Users\\JanMarco\\MLProjects\\Masterthesis\\masterthesis\\mthesis\\lib\\site-packages\\castle\\datasets\\simulator.py[line:270] - INFO: Finished synthetic dataset\n"
     ]
    },
    {
     "name": "stdout",
     "output_type": "stream",
     "text": [
      "Warning: n_edges is not exact due to gcastle implementation\n",
      "Duration of algorithm was 2.72sec\n"
     ]
    },
    {
     "name": "stderr",
     "output_type": "stream",
     "text": [
      "2023-08-23 16:49:09,321 - c:\\Users\\JanMarco\\MLProjects\\Masterthesis\\masterthesis\\mthesis\\lib\\site-packages\\castle\\datasets\\simulator.py[line:270] - INFO: Finished synthetic dataset\n"
     ]
    },
    {
     "name": "stdout",
     "output_type": "stream",
     "text": [
      "Warning: n_edges is not exact due to gcastle implementation\n",
      "Duration of algorithm was 1.96sec\n"
     ]
    },
    {
     "name": "stderr",
     "output_type": "stream",
     "text": [
      "2023-08-23 16:49:22,414 - c:\\Users\\JanMarco\\MLProjects\\Masterthesis\\masterthesis\\mthesis\\lib\\site-packages\\castle\\datasets\\simulator.py[line:270] - INFO: Finished synthetic dataset\n"
     ]
    },
    {
     "name": "stdout",
     "output_type": "stream",
     "text": [
      "Warning: n_edges is not exact due to gcastle implementation\n",
      "Duration of algorithm was 1.58sec\n"
     ]
    },
    {
     "name": "stderr",
     "output_type": "stream",
     "text": [
      "2023-08-23 16:49:35,016 - c:\\Users\\JanMarco\\MLProjects\\Masterthesis\\masterthesis\\mthesis\\lib\\site-packages\\castle\\datasets\\simulator.py[line:270] - INFO: Finished synthetic dataset\n"
     ]
    },
    {
     "name": "stdout",
     "output_type": "stream",
     "text": [
      "Warning: n_edges is not exact due to gcastle implementation\n",
      "Duration of algorithm was 3.11sec\n"
     ]
    },
    {
     "name": "stderr",
     "output_type": "stream",
     "text": [
      "2023-08-23 16:49:50,843 - c:\\Users\\JanMarco\\MLProjects\\Masterthesis\\masterthesis\\mthesis\\lib\\site-packages\\castle\\datasets\\simulator.py[line:270] - INFO: Finished synthetic dataset\n"
     ]
    },
    {
     "name": "stdout",
     "output_type": "stream",
     "text": [
      "Warning: n_edges is not exact due to gcastle implementation\n",
      "Duration of algorithm was 3.72sec\n"
     ]
    },
    {
     "name": "stderr",
     "output_type": "stream",
     "text": [
      "2023-08-23 16:50:07,673 - c:\\Users\\JanMarco\\MLProjects\\Masterthesis\\masterthesis\\mthesis\\lib\\site-packages\\castle\\datasets\\simulator.py[line:270] - INFO: Finished synthetic dataset\n"
     ]
    },
    {
     "name": "stdout",
     "output_type": "stream",
     "text": [
      "Warning: n_edges is not exact due to gcastle implementation\n",
      "Duration of algorithm was 3.85sec\n"
     ]
    },
    {
     "name": "stderr",
     "output_type": "stream",
     "text": [
      "2023-08-23 16:50:50,604 - c:\\Users\\JanMarco\\MLProjects\\Masterthesis\\masterthesis\\mthesis\\lib\\site-packages\\castle\\datasets\\simulator.py[line:270] - INFO: Finished synthetic dataset\n"
     ]
    },
    {
     "name": "stdout",
     "output_type": "stream",
     "text": [
      "Warning: n_edges is not exact due to gcastle implementation\n",
      "Duration of algorithm was 3.18sec\n"
     ]
    },
    {
     "name": "stderr",
     "output_type": "stream",
     "text": [
      "2023-08-23 16:51:05,914 - c:\\Users\\JanMarco\\MLProjects\\Masterthesis\\masterthesis\\mthesis\\lib\\site-packages\\castle\\datasets\\simulator.py[line:270] - INFO: Finished synthetic dataset\n"
     ]
    },
    {
     "name": "stdout",
     "output_type": "stream",
     "text": [
      "Warning: n_edges is not exact due to gcastle implementation\n",
      "Duration of algorithm was 4.13sec\n"
     ]
    },
    {
     "name": "stderr",
     "output_type": "stream",
     "text": [
      "2023-08-23 16:51:23,129 - c:\\Users\\JanMarco\\MLProjects\\Masterthesis\\masterthesis\\mthesis\\lib\\site-packages\\castle\\datasets\\simulator.py[line:270] - INFO: Finished synthetic dataset\n"
     ]
    },
    {
     "name": "stdout",
     "output_type": "stream",
     "text": [
      "Warning: n_edges is not exact due to gcastle implementation\n",
      "Duration of algorithm was 5.73sec\n"
     ]
    },
    {
     "name": "stderr",
     "output_type": "stream",
     "text": [
      "2023-08-23 16:51:41,919 - c:\\Users\\JanMarco\\MLProjects\\Masterthesis\\masterthesis\\mthesis\\lib\\site-packages\\castle\\datasets\\simulator.py[line:270] - INFO: Finished synthetic dataset\n"
     ]
    },
    {
     "name": "stdout",
     "output_type": "stream",
     "text": [
      "Warning: n_edges is not exact due to gcastle implementation\n",
      "Duration of algorithm was 3.55sec\n"
     ]
    },
    {
     "name": "stderr",
     "output_type": "stream",
     "text": [
      "2023-08-23 16:51:58,588 - c:\\Users\\JanMarco\\MLProjects\\Masterthesis\\masterthesis\\mthesis\\lib\\site-packages\\castle\\datasets\\simulator.py[line:270] - INFO: Finished synthetic dataset\n"
     ]
    },
    {
     "name": "stdout",
     "output_type": "stream",
     "text": [
      "Warning: n_edges is not exact due to gcastle implementation\n",
      "Duration of algorithm was 4.44sec\n"
     ]
    },
    {
     "name": "stderr",
     "output_type": "stream",
     "text": [
      "2023-08-23 16:52:18,165 - c:\\Users\\JanMarco\\MLProjects\\Masterthesis\\masterthesis\\mthesis\\lib\\site-packages\\castle\\datasets\\simulator.py[line:270] - INFO: Finished synthetic dataset\n"
     ]
    },
    {
     "name": "stdout",
     "output_type": "stream",
     "text": [
      "Warning: n_edges is not exact due to gcastle implementation\n",
      "Duration of algorithm was 6.18sec\n"
     ]
    },
    {
     "name": "stderr",
     "output_type": "stream",
     "text": [
      "2023-08-23 16:52:41,380 - c:\\Users\\JanMarco\\MLProjects\\Masterthesis\\masterthesis\\mthesis\\lib\\site-packages\\castle\\datasets\\simulator.py[line:270] - INFO: Finished synthetic dataset\n"
     ]
    },
    {
     "name": "stdout",
     "output_type": "stream",
     "text": [
      "Warning: n_edges is not exact due to gcastle implementation\n",
      "Duration of algorithm was 5.55sec\n"
     ]
    },
    {
     "name": "stderr",
     "output_type": "stream",
     "text": [
      "2023-08-23 16:53:07,892 - c:\\Users\\JanMarco\\MLProjects\\Masterthesis\\masterthesis\\mthesis\\lib\\site-packages\\castle\\datasets\\simulator.py[line:270] - INFO: Finished synthetic dataset\n"
     ]
    },
    {
     "name": "stdout",
     "output_type": "stream",
     "text": [
      "Warning: n_edges is not exact due to gcastle implementation\n",
      "Duration of algorithm was 4.91sec\n"
     ]
    },
    {
     "name": "stderr",
     "output_type": "stream",
     "text": [
      "2023-08-23 16:53:28,232 - c:\\Users\\JanMarco\\MLProjects\\Masterthesis\\masterthesis\\mthesis\\lib\\site-packages\\castle\\datasets\\simulator.py[line:270] - INFO: Finished synthetic dataset\n"
     ]
    },
    {
     "name": "stdout",
     "output_type": "stream",
     "text": [
      "Warning: n_edges is not exact due to gcastle implementation\n",
      "Duration of algorithm was 6.48sec\n"
     ]
    },
    {
     "name": "stderr",
     "output_type": "stream",
     "text": [
      "2023-08-23 16:53:52,275 - c:\\Users\\JanMarco\\MLProjects\\Masterthesis\\masterthesis\\mthesis\\lib\\site-packages\\castle\\datasets\\simulator.py[line:270] - INFO: Finished synthetic dataset\n"
     ]
    },
    {
     "name": "stdout",
     "output_type": "stream",
     "text": [
      "Warning: n_edges is not exact due to gcastle implementation\n",
      "Duration of algorithm was 5.35sec\n"
     ]
    },
    {
     "name": "stderr",
     "output_type": "stream",
     "text": [
      "2023-08-23 16:54:13,901 - c:\\Users\\JanMarco\\MLProjects\\Masterthesis\\masterthesis\\mthesis\\lib\\site-packages\\castle\\datasets\\simulator.py[line:270] - INFO: Finished synthetic dataset\n"
     ]
    },
    {
     "name": "stdout",
     "output_type": "stream",
     "text": [
      "Warning: n_edges is not exact due to gcastle implementation\n",
      "Duration of algorithm was 4.10sec\n"
     ]
    },
    {
     "name": "stderr",
     "output_type": "stream",
     "text": [
      "2023-08-23 16:54:31,301 - c:\\Users\\JanMarco\\MLProjects\\Masterthesis\\masterthesis\\mthesis\\lib\\site-packages\\castle\\datasets\\simulator.py[line:270] - INFO: Finished synthetic dataset\n"
     ]
    },
    {
     "name": "stdout",
     "output_type": "stream",
     "text": [
      "Warning: n_edges is not exact due to gcastle implementation\n",
      "Duration of algorithm was 3.90sec\n"
     ]
    },
    {
     "name": "stderr",
     "output_type": "stream",
     "text": [
      "2023-08-23 16:54:47,689 - c:\\Users\\JanMarco\\MLProjects\\Masterthesis\\masterthesis\\mthesis\\lib\\site-packages\\castle\\datasets\\simulator.py[line:270] - INFO: Finished synthetic dataset\n"
     ]
    },
    {
     "name": "stdout",
     "output_type": "stream",
     "text": [
      "Warning: n_edges is not exact due to gcastle implementation\n",
      "Duration of algorithm was 3.74sec\n"
     ]
    },
    {
     "name": "stderr",
     "output_type": "stream",
     "text": [
      "2023-08-23 16:55:05,152 - c:\\Users\\JanMarco\\MLProjects\\Masterthesis\\masterthesis\\mthesis\\lib\\site-packages\\castle\\datasets\\simulator.py[line:270] - INFO: Finished synthetic dataset\n"
     ]
    },
    {
     "name": "stdout",
     "output_type": "stream",
     "text": [
      "Warning: n_edges is not exact due to gcastle implementation\n",
      "Duration of algorithm was 3.25sec\n"
     ]
    },
    {
     "name": "stderr",
     "output_type": "stream",
     "text": [
      "2023-08-23 16:55:21,999 - c:\\Users\\JanMarco\\MLProjects\\Masterthesis\\masterthesis\\mthesis\\lib\\site-packages\\castle\\datasets\\simulator.py[line:270] - INFO: Finished synthetic dataset\n"
     ]
    },
    {
     "name": "stdout",
     "output_type": "stream",
     "text": [
      "Warning: n_edges is not exact due to gcastle implementation\n",
      "Duration of algorithm was 2.58sec\n"
     ]
    },
    {
     "name": "stderr",
     "output_type": "stream",
     "text": [
      "2023-08-23 16:55:37,967 - c:\\Users\\JanMarco\\MLProjects\\Masterthesis\\masterthesis\\mthesis\\lib\\site-packages\\castle\\datasets\\simulator.py[line:270] - INFO: Finished synthetic dataset\n"
     ]
    },
    {
     "name": "stdout",
     "output_type": "stream",
     "text": [
      "Warning: n_edges is not exact due to gcastle implementation\n",
      "Duration of algorithm was 6.46sec\n"
     ]
    },
    {
     "name": "stderr",
     "output_type": "stream",
     "text": [
      "2023-08-23 16:55:57,631 - c:\\Users\\JanMarco\\MLProjects\\Masterthesis\\masterthesis\\mthesis\\lib\\site-packages\\castle\\datasets\\simulator.py[line:270] - INFO: Finished synthetic dataset\n"
     ]
    },
    {
     "name": "stdout",
     "output_type": "stream",
     "text": [
      "Warning: n_edges is not exact due to gcastle implementation\n",
      "Duration of algorithm was 4.03sec\n"
     ]
    },
    {
     "name": "stderr",
     "output_type": "stream",
     "text": [
      "2023-08-23 16:56:17,293 - c:\\Users\\JanMarco\\MLProjects\\Masterthesis\\masterthesis\\mthesis\\lib\\site-packages\\castle\\datasets\\simulator.py[line:270] - INFO: Finished synthetic dataset\n"
     ]
    },
    {
     "name": "stdout",
     "output_type": "stream",
     "text": [
      "Warning: n_edges is not exact due to gcastle implementation\n",
      "Duration of algorithm was 4.98sec\n"
     ]
    },
    {
     "name": "stderr",
     "output_type": "stream",
     "text": [
      "2023-08-23 16:56:38,450 - c:\\Users\\JanMarco\\MLProjects\\Masterthesis\\masterthesis\\mthesis\\lib\\site-packages\\castle\\datasets\\simulator.py[line:270] - INFO: Finished synthetic dataset\n"
     ]
    },
    {
     "name": "stdout",
     "output_type": "stream",
     "text": [
      "Warning: n_edges is not exact due to gcastle implementation\n",
      "Duration of algorithm was 4.01sec\n"
     ]
    },
    {
     "name": "stderr",
     "output_type": "stream",
     "text": [
      "2023-08-23 16:56:58,209 - c:\\Users\\JanMarco\\MLProjects\\Masterthesis\\masterthesis\\mthesis\\lib\\site-packages\\castle\\datasets\\simulator.py[line:270] - INFO: Finished synthetic dataset\n"
     ]
    },
    {
     "name": "stdout",
     "output_type": "stream",
     "text": [
      "Warning: n_edges is not exact due to gcastle implementation\n",
      "Duration of algorithm was 5.67sec\n"
     ]
    },
    {
     "name": "stderr",
     "output_type": "stream",
     "text": [
      "2023-08-23 17:05:24,342 - c:\\Users\\JanMarco\\MLProjects\\Masterthesis\\masterthesis\\mthesis\\lib\\site-packages\\castle\\datasets\\simulator.py[line:270] - INFO: Finished synthetic dataset\n"
     ]
    },
    {
     "name": "stdout",
     "output_type": "stream",
     "text": [
      "Warning: n_edges is not exact due to gcastle implementation\n",
      "Duration of algorithm was 5.19sec\n"
     ]
    },
    {
     "name": "stderr",
     "output_type": "stream",
     "text": [
      "2023-08-23 17:05:45,468 - c:\\Users\\JanMarco\\MLProjects\\Masterthesis\\masterthesis\\mthesis\\lib\\site-packages\\castle\\datasets\\simulator.py[line:270] - INFO: Finished synthetic dataset\n"
     ]
    },
    {
     "name": "stdout",
     "output_type": "stream",
     "text": [
      "Warning: n_edges is not exact due to gcastle implementation\n",
      "Duration of algorithm was 4.41sec\n"
     ]
    },
    {
     "name": "stderr",
     "output_type": "stream",
     "text": [
      "2023-08-23 17:06:06,846 - c:\\Users\\JanMarco\\MLProjects\\Masterthesis\\masterthesis\\mthesis\\lib\\site-packages\\castle\\datasets\\simulator.py[line:270] - INFO: Finished synthetic dataset\n"
     ]
    },
    {
     "name": "stdout",
     "output_type": "stream",
     "text": [
      "Warning: n_edges is not exact due to gcastle implementation\n",
      "Duration of algorithm was 0.57sec\n"
     ]
    },
    {
     "name": "stderr",
     "output_type": "stream",
     "text": [
      "2023-08-23 17:06:33,005 - c:\\Users\\JanMarco\\MLProjects\\Masterthesis\\masterthesis\\mthesis\\lib\\site-packages\\castle\\datasets\\simulator.py[line:270] - INFO: Finished synthetic dataset\n"
     ]
    },
    {
     "name": "stdout",
     "output_type": "stream",
     "text": [
      "Warning: n_edges is not exact due to gcastle implementation\n",
      "Duration of algorithm was 0.26sec\n"
     ]
    },
    {
     "name": "stderr",
     "output_type": "stream",
     "text": [
      "2023-08-23 17:06:42,439 - c:\\Users\\JanMarco\\MLProjects\\Masterthesis\\masterthesis\\mthesis\\lib\\site-packages\\castle\\datasets\\simulator.py[line:270] - INFO: Finished synthetic dataset\n"
     ]
    },
    {
     "name": "stdout",
     "output_type": "stream",
     "text": [
      "Warning: n_edges is not exact due to gcastle implementation\n",
      "Duration of algorithm was 0.30sec\n"
     ]
    },
    {
     "name": "stderr",
     "output_type": "stream",
     "text": [
      "2023-08-23 17:06:51,855 - c:\\Users\\JanMarco\\MLProjects\\Masterthesis\\masterthesis\\mthesis\\lib\\site-packages\\castle\\datasets\\simulator.py[line:270] - INFO: Finished synthetic dataset\n"
     ]
    },
    {
     "name": "stdout",
     "output_type": "stream",
     "text": [
      "Warning: n_edges is not exact due to gcastle implementation\n",
      "Duration of algorithm was 0.29sec\n"
     ]
    },
    {
     "name": "stderr",
     "output_type": "stream",
     "text": [
      "2023-08-23 17:07:01,409 - c:\\Users\\JanMarco\\MLProjects\\Masterthesis\\masterthesis\\mthesis\\lib\\site-packages\\castle\\datasets\\simulator.py[line:270] - INFO: Finished synthetic dataset\n"
     ]
    },
    {
     "name": "stdout",
     "output_type": "stream",
     "text": [
      "Warning: n_edges is not exact due to gcastle implementation\n",
      "Duration of algorithm was 0.22sec\n"
     ]
    },
    {
     "name": "stderr",
     "output_type": "stream",
     "text": [
      "2023-08-23 17:07:10,656 - c:\\Users\\JanMarco\\MLProjects\\Masterthesis\\masterthesis\\mthesis\\lib\\site-packages\\castle\\datasets\\simulator.py[line:270] - INFO: Finished synthetic dataset\n"
     ]
    },
    {
     "name": "stdout",
     "output_type": "stream",
     "text": [
      "Warning: n_edges is not exact due to gcastle implementation\n",
      "Duration of algorithm was 0.43sec\n"
     ]
    },
    {
     "name": "stderr",
     "output_type": "stream",
     "text": [
      "2023-08-23 17:07:20,597 - c:\\Users\\JanMarco\\MLProjects\\Masterthesis\\masterthesis\\mthesis\\lib\\site-packages\\castle\\datasets\\simulator.py[line:270] - INFO: Finished synthetic dataset\n"
     ]
    },
    {
     "name": "stdout",
     "output_type": "stream",
     "text": [
      "Warning: n_edges is not exact due to gcastle implementation\n",
      "Duration of algorithm was 0.25sec\n"
     ]
    },
    {
     "name": "stderr",
     "output_type": "stream",
     "text": [
      "2023-08-23 17:07:30,031 - c:\\Users\\JanMarco\\MLProjects\\Masterthesis\\masterthesis\\mthesis\\lib\\site-packages\\castle\\datasets\\simulator.py[line:270] - INFO: Finished synthetic dataset\n"
     ]
    },
    {
     "name": "stdout",
     "output_type": "stream",
     "text": [
      "Warning: n_edges is not exact due to gcastle implementation\n",
      "Duration of algorithm was 0.48sec\n"
     ]
    },
    {
     "name": "stderr",
     "output_type": "stream",
     "text": [
      "2023-08-23 17:07:39,880 - c:\\Users\\JanMarco\\MLProjects\\Masterthesis\\masterthesis\\mthesis\\lib\\site-packages\\castle\\datasets\\simulator.py[line:270] - INFO: Finished synthetic dataset\n"
     ]
    },
    {
     "name": "stdout",
     "output_type": "stream",
     "text": [
      "Warning: n_edges is not exact due to gcastle implementation\n",
      "Duration of algorithm was 0.56sec\n"
     ]
    },
    {
     "name": "stderr",
     "output_type": "stream",
     "text": [
      "2023-08-23 17:07:49,901 - c:\\Users\\JanMarco\\MLProjects\\Masterthesis\\masterthesis\\mthesis\\lib\\site-packages\\castle\\datasets\\simulator.py[line:270] - INFO: Finished synthetic dataset\n"
     ]
    },
    {
     "name": "stdout",
     "output_type": "stream",
     "text": [
      "Warning: n_edges is not exact due to gcastle implementation\n",
      "Duration of algorithm was 1.47sec\n"
     ]
    },
    {
     "name": "stderr",
     "output_type": "stream",
     "text": [
      "2023-08-23 17:08:02,610 - c:\\Users\\JanMarco\\MLProjects\\Masterthesis\\masterthesis\\mthesis\\lib\\site-packages\\castle\\datasets\\simulator.py[line:270] - INFO: Finished synthetic dataset\n"
     ]
    },
    {
     "name": "stdout",
     "output_type": "stream",
     "text": [
      "Warning: n_edges is not exact due to gcastle implementation\n",
      "Duration of algorithm was 0.30sec\n"
     ]
    },
    {
     "name": "stderr",
     "output_type": "stream",
     "text": [
      "2023-08-23 17:08:13,872 - c:\\Users\\JanMarco\\MLProjects\\Masterthesis\\masterthesis\\mthesis\\lib\\site-packages\\castle\\datasets\\simulator.py[line:270] - INFO: Finished synthetic dataset\n"
     ]
    },
    {
     "name": "stdout",
     "output_type": "stream",
     "text": [
      "Warning: n_edges is not exact due to gcastle implementation\n",
      "Duration of algorithm was 0.81sec\n"
     ]
    },
    {
     "name": "stderr",
     "output_type": "stream",
     "text": [
      "2023-08-23 17:08:24,532 - c:\\Users\\JanMarco\\MLProjects\\Masterthesis\\masterthesis\\mthesis\\lib\\site-packages\\castle\\datasets\\simulator.py[line:270] - INFO: Finished synthetic dataset\n"
     ]
    },
    {
     "name": "stdout",
     "output_type": "stream",
     "text": [
      "Warning: n_edges is not exact due to gcastle implementation\n",
      "Duration of algorithm was 0.28sec\n"
     ]
    },
    {
     "name": "stderr",
     "output_type": "stream",
     "text": [
      "2023-08-23 17:08:34,057 - c:\\Users\\JanMarco\\MLProjects\\Masterthesis\\masterthesis\\mthesis\\lib\\site-packages\\castle\\datasets\\simulator.py[line:270] - INFO: Finished synthetic dataset\n"
     ]
    },
    {
     "name": "stdout",
     "output_type": "stream",
     "text": [
      "Warning: n_edges is not exact due to gcastle implementation\n",
      "Duration of algorithm was 0.30sec\n"
     ]
    },
    {
     "name": "stderr",
     "output_type": "stream",
     "text": [
      "2023-08-23 17:08:43,643 - c:\\Users\\JanMarco\\MLProjects\\Masterthesis\\masterthesis\\mthesis\\lib\\site-packages\\castle\\datasets\\simulator.py[line:270] - INFO: Finished synthetic dataset\n"
     ]
    },
    {
     "name": "stdout",
     "output_type": "stream",
     "text": [
      "Warning: n_edges is not exact due to gcastle implementation\n",
      "Duration of algorithm was 0.50sec\n"
     ]
    },
    {
     "name": "stderr",
     "output_type": "stream",
     "text": [
      "2023-08-23 17:08:53,622 - c:\\Users\\JanMarco\\MLProjects\\Masterthesis\\masterthesis\\mthesis\\lib\\site-packages\\castle\\datasets\\simulator.py[line:270] - INFO: Finished synthetic dataset\n"
     ]
    },
    {
     "name": "stdout",
     "output_type": "stream",
     "text": [
      "Warning: n_edges is not exact due to gcastle implementation\n",
      "Duration of algorithm was 0.55sec\n"
     ]
    },
    {
     "name": "stderr",
     "output_type": "stream",
     "text": [
      "2023-08-23 17:09:04,348 - c:\\Users\\JanMarco\\MLProjects\\Masterthesis\\masterthesis\\mthesis\\lib\\site-packages\\castle\\datasets\\simulator.py[line:270] - INFO: Finished synthetic dataset\n"
     ]
    },
    {
     "name": "stdout",
     "output_type": "stream",
     "text": [
      "Warning: n_edges is not exact due to gcastle implementation\n",
      "Duration of algorithm was 1.35sec\n"
     ]
    },
    {
     "name": "stderr",
     "output_type": "stream",
     "text": [
      "2023-08-23 17:09:16,145 - c:\\Users\\JanMarco\\MLProjects\\Masterthesis\\masterthesis\\mthesis\\lib\\site-packages\\castle\\datasets\\simulator.py[line:270] - INFO: Finished synthetic dataset\n"
     ]
    },
    {
     "name": "stdout",
     "output_type": "stream",
     "text": [
      "Warning: n_edges is not exact due to gcastle implementation\n",
      "Duration of algorithm was 1.03sec\n"
     ]
    },
    {
     "name": "stderr",
     "output_type": "stream",
     "text": [
      "2023-08-23 17:09:27,085 - c:\\Users\\JanMarco\\MLProjects\\Masterthesis\\masterthesis\\mthesis\\lib\\site-packages\\castle\\datasets\\simulator.py[line:270] - INFO: Finished synthetic dataset\n"
     ]
    },
    {
     "name": "stdout",
     "output_type": "stream",
     "text": [
      "Warning: n_edges is not exact due to gcastle implementation\n",
      "Duration of algorithm was 1.54sec\n"
     ]
    },
    {
     "name": "stderr",
     "output_type": "stream",
     "text": [
      "2023-08-23 17:09:39,621 - c:\\Users\\JanMarco\\MLProjects\\Masterthesis\\masterthesis\\mthesis\\lib\\site-packages\\castle\\datasets\\simulator.py[line:270] - INFO: Finished synthetic dataset\n"
     ]
    },
    {
     "name": "stdout",
     "output_type": "stream",
     "text": [
      "Warning: n_edges is not exact due to gcastle implementation\n",
      "Duration of algorithm was 1.76sec\n"
     ]
    },
    {
     "name": "stderr",
     "output_type": "stream",
     "text": [
      "2023-08-23 17:09:52,208 - c:\\Users\\JanMarco\\MLProjects\\Masterthesis\\masterthesis\\mthesis\\lib\\site-packages\\castle\\datasets\\simulator.py[line:270] - INFO: Finished synthetic dataset\n"
     ]
    },
    {
     "name": "stdout",
     "output_type": "stream",
     "text": [
      "Warning: n_edges is not exact due to gcastle implementation\n",
      "Duration of algorithm was 1.04sec\n"
     ]
    },
    {
     "name": "stderr",
     "output_type": "stream",
     "text": [
      "2023-08-23 17:10:03,861 - c:\\Users\\JanMarco\\MLProjects\\Masterthesis\\masterthesis\\mthesis\\lib\\site-packages\\castle\\datasets\\simulator.py[line:270] - INFO: Finished synthetic dataset\n"
     ]
    },
    {
     "name": "stdout",
     "output_type": "stream",
     "text": [
      "Warning: n_edges is not exact due to gcastle implementation\n",
      "Duration of algorithm was 0.92sec\n"
     ]
    },
    {
     "name": "stderr",
     "output_type": "stream",
     "text": [
      "2023-08-23 17:10:16,054 - c:\\Users\\JanMarco\\MLProjects\\Masterthesis\\masterthesis\\mthesis\\lib\\site-packages\\castle\\datasets\\simulator.py[line:270] - INFO: Finished synthetic dataset\n"
     ]
    },
    {
     "name": "stdout",
     "output_type": "stream",
     "text": [
      "Warning: n_edges is not exact due to gcastle implementation\n",
      "Duration of algorithm was 1.30sec\n"
     ]
    },
    {
     "name": "stderr",
     "output_type": "stream",
     "text": [
      "2023-08-23 17:10:29,111 - c:\\Users\\JanMarco\\MLProjects\\Masterthesis\\masterthesis\\mthesis\\lib\\site-packages\\castle\\datasets\\simulator.py[line:270] - INFO: Finished synthetic dataset\n"
     ]
    },
    {
     "name": "stdout",
     "output_type": "stream",
     "text": [
      "Warning: n_edges is not exact due to gcastle implementation\n",
      "Duration of algorithm was 1.12sec\n"
     ]
    },
    {
     "name": "stderr",
     "output_type": "stream",
     "text": [
      "2023-08-23 17:10:41,036 - c:\\Users\\JanMarco\\MLProjects\\Masterthesis\\masterthesis\\mthesis\\lib\\site-packages\\castle\\datasets\\simulator.py[line:270] - INFO: Finished synthetic dataset\n"
     ]
    },
    {
     "name": "stdout",
     "output_type": "stream",
     "text": [
      "Warning: n_edges is not exact due to gcastle implementation\n",
      "Duration of algorithm was 0.65sec\n"
     ]
    },
    {
     "name": "stderr",
     "output_type": "stream",
     "text": [
      "2023-08-23 17:10:51,322 - c:\\Users\\JanMarco\\MLProjects\\Masterthesis\\masterthesis\\mthesis\\lib\\site-packages\\castle\\datasets\\simulator.py[line:270] - INFO: Finished synthetic dataset\n"
     ]
    },
    {
     "name": "stdout",
     "output_type": "stream",
     "text": [
      "Warning: n_edges is not exact due to gcastle implementation\n",
      "Duration of algorithm was 0.65sec\n"
     ]
    },
    {
     "name": "stderr",
     "output_type": "stream",
     "text": [
      "2023-08-23 17:11:01,748 - c:\\Users\\JanMarco\\MLProjects\\Masterthesis\\masterthesis\\mthesis\\lib\\site-packages\\castle\\datasets\\simulator.py[line:270] - INFO: Finished synthetic dataset\n"
     ]
    },
    {
     "name": "stdout",
     "output_type": "stream",
     "text": [
      "Warning: n_edges is not exact due to gcastle implementation\n",
      "Duration of algorithm was 0.85sec\n"
     ]
    },
    {
     "name": "stderr",
     "output_type": "stream",
     "text": [
      "2023-08-23 17:11:12,369 - c:\\Users\\JanMarco\\MLProjects\\Masterthesis\\masterthesis\\mthesis\\lib\\site-packages\\castle\\datasets\\simulator.py[line:270] - INFO: Finished synthetic dataset\n"
     ]
    },
    {
     "name": "stdout",
     "output_type": "stream",
     "text": [
      "Warning: n_edges is not exact due to gcastle implementation\n",
      "Duration of algorithm was 0.86sec\n"
     ]
    },
    {
     "name": "stderr",
     "output_type": "stream",
     "text": [
      "2023-08-23 17:11:23,108 - c:\\Users\\JanMarco\\MLProjects\\Masterthesis\\masterthesis\\mthesis\\lib\\site-packages\\castle\\datasets\\simulator.py[line:270] - INFO: Finished synthetic dataset\n"
     ]
    },
    {
     "name": "stdout",
     "output_type": "stream",
     "text": [
      "Warning: n_edges is not exact due to gcastle implementation\n",
      "Duration of algorithm was 0.62sec\n"
     ]
    },
    {
     "name": "stderr",
     "output_type": "stream",
     "text": [
      "2023-08-23 17:11:33,479 - c:\\Users\\JanMarco\\MLProjects\\Masterthesis\\masterthesis\\mthesis\\lib\\site-packages\\castle\\datasets\\simulator.py[line:270] - INFO: Finished synthetic dataset\n"
     ]
    },
    {
     "name": "stdout",
     "output_type": "stream",
     "text": [
      "Warning: n_edges is not exact due to gcastle implementation\n",
      "Duration of algorithm was 0.86sec\n"
     ]
    },
    {
     "name": "stderr",
     "output_type": "stream",
     "text": [
      "2023-08-23 17:11:44,344 - c:\\Users\\JanMarco\\MLProjects\\Masterthesis\\masterthesis\\mthesis\\lib\\site-packages\\castle\\datasets\\simulator.py[line:270] - INFO: Finished synthetic dataset\n"
     ]
    },
    {
     "name": "stdout",
     "output_type": "stream",
     "text": [
      "Warning: n_edges is not exact due to gcastle implementation\n",
      "Duration of algorithm was 0.92sec\n"
     ]
    },
    {
     "name": "stderr",
     "output_type": "stream",
     "text": [
      "2023-08-23 17:11:55,486 - c:\\Users\\JanMarco\\MLProjects\\Masterthesis\\masterthesis\\mthesis\\lib\\site-packages\\castle\\datasets\\simulator.py[line:270] - INFO: Finished synthetic dataset\n"
     ]
    },
    {
     "name": "stdout",
     "output_type": "stream",
     "text": [
      "Warning: n_edges is not exact due to gcastle implementation\n",
      "Duration of algorithm was 0.55sec\n"
     ]
    },
    {
     "name": "stderr",
     "output_type": "stream",
     "text": [
      "2023-08-23 17:12:05,581 - c:\\Users\\JanMarco\\MLProjects\\Masterthesis\\masterthesis\\mthesis\\lib\\site-packages\\castle\\datasets\\simulator.py[line:270] - INFO: Finished synthetic dataset\n"
     ]
    },
    {
     "name": "stdout",
     "output_type": "stream",
     "text": [
      "Warning: n_edges is not exact due to gcastle implementation\n",
      "Duration of algorithm was 0.53sec\n"
     ]
    },
    {
     "name": "stderr",
     "output_type": "stream",
     "text": [
      "2023-08-23 17:12:15,594 - c:\\Users\\JanMarco\\MLProjects\\Masterthesis\\masterthesis\\mthesis\\lib\\site-packages\\castle\\datasets\\simulator.py[line:270] - INFO: Finished synthetic dataset\n"
     ]
    },
    {
     "name": "stdout",
     "output_type": "stream",
     "text": [
      "Warning: n_edges is not exact due to gcastle implementation\n",
      "Duration of algorithm was 0.38sec\n"
     ]
    },
    {
     "name": "stderr",
     "output_type": "stream",
     "text": [
      "2023-08-23 17:12:25,323 - c:\\Users\\JanMarco\\MLProjects\\Masterthesis\\masterthesis\\mthesis\\lib\\site-packages\\castle\\datasets\\simulator.py[line:270] - INFO: Finished synthetic dataset\n"
     ]
    },
    {
     "name": "stdout",
     "output_type": "stream",
     "text": [
      "Warning: n_edges is not exact due to gcastle implementation\n",
      "Duration of algorithm was 0.56sec\n"
     ]
    },
    {
     "name": "stderr",
     "output_type": "stream",
     "text": [
      "2023-08-23 17:12:35,369 - c:\\Users\\JanMarco\\MLProjects\\Masterthesis\\masterthesis\\mthesis\\lib\\site-packages\\castle\\datasets\\simulator.py[line:270] - INFO: Finished synthetic dataset\n"
     ]
    },
    {
     "name": "stdout",
     "output_type": "stream",
     "text": [
      "Warning: n_edges is not exact due to gcastle implementation\n",
      "Duration of algorithm was 1.16sec\n"
     ]
    },
    {
     "name": "stderr",
     "output_type": "stream",
     "text": [
      "2023-08-23 17:12:47,194 - c:\\Users\\JanMarco\\MLProjects\\Masterthesis\\masterthesis\\mthesis\\lib\\site-packages\\castle\\datasets\\simulator.py[line:270] - INFO: Finished synthetic dataset\n"
     ]
    },
    {
     "name": "stdout",
     "output_type": "stream",
     "text": [
      "Warning: n_edges is not exact due to gcastle implementation\n",
      "Duration of algorithm was 0.72sec\n"
     ]
    },
    {
     "name": "stderr",
     "output_type": "stream",
     "text": [
      "2023-08-23 17:12:57,725 - c:\\Users\\JanMarco\\MLProjects\\Masterthesis\\masterthesis\\mthesis\\lib\\site-packages\\castle\\datasets\\simulator.py[line:270] - INFO: Finished synthetic dataset\n"
     ]
    },
    {
     "name": "stdout",
     "output_type": "stream",
     "text": [
      "Warning: n_edges is not exact due to gcastle implementation\n",
      "Duration of algorithm was 0.48sec\n"
     ]
    },
    {
     "name": "stderr",
     "output_type": "stream",
     "text": [
      "2023-08-23 17:13:07,682 - c:\\Users\\JanMarco\\MLProjects\\Masterthesis\\masterthesis\\mthesis\\lib\\site-packages\\castle\\datasets\\simulator.py[line:270] - INFO: Finished synthetic dataset\n"
     ]
    },
    {
     "name": "stdout",
     "output_type": "stream",
     "text": [
      "Warning: n_edges is not exact due to gcastle implementation\n",
      "Duration of algorithm was 0.53sec\n"
     ]
    },
    {
     "name": "stderr",
     "output_type": "stream",
     "text": [
      "2023-08-23 17:13:17,996 - c:\\Users\\JanMarco\\MLProjects\\Masterthesis\\masterthesis\\mthesis\\lib\\site-packages\\castle\\datasets\\simulator.py[line:270] - INFO: Finished synthetic dataset\n"
     ]
    },
    {
     "name": "stdout",
     "output_type": "stream",
     "text": [
      "Warning: n_edges is not exact due to gcastle implementation\n",
      "Duration of algorithm was 0.68sec\n"
     ]
    },
    {
     "name": "stderr",
     "output_type": "stream",
     "text": [
      "2023-08-23 17:13:28,932 - c:\\Users\\JanMarco\\MLProjects\\Masterthesis\\masterthesis\\mthesis\\lib\\site-packages\\castle\\datasets\\simulator.py[line:270] - INFO: Finished synthetic dataset\n"
     ]
    },
    {
     "name": "stdout",
     "output_type": "stream",
     "text": [
      "Warning: n_edges is not exact due to gcastle implementation\n",
      "Duration of algorithm was 1.23sec\n"
     ]
    },
    {
     "name": "stderr",
     "output_type": "stream",
     "text": [
      "2023-08-23 17:13:46,299 - c:\\Users\\JanMarco\\MLProjects\\Masterthesis\\masterthesis\\mthesis\\lib\\site-packages\\castle\\datasets\\simulator.py[line:270] - INFO: Finished synthetic dataset\n"
     ]
    },
    {
     "name": "stdout",
     "output_type": "stream",
     "text": [
      "Warning: n_edges is not exact due to gcastle implementation\n",
      "Duration of algorithm was 1.12sec\n"
     ]
    },
    {
     "name": "stderr",
     "output_type": "stream",
     "text": [
      "2023-08-23 17:13:58,316 - c:\\Users\\JanMarco\\MLProjects\\Masterthesis\\masterthesis\\mthesis\\lib\\site-packages\\castle\\datasets\\simulator.py[line:270] - INFO: Finished synthetic dataset\n"
     ]
    },
    {
     "name": "stdout",
     "output_type": "stream",
     "text": [
      "Warning: n_edges is not exact due to gcastle implementation\n",
      "Duration of algorithm was 1.68sec\n"
     ]
    },
    {
     "name": "stderr",
     "output_type": "stream",
     "text": [
      "2023-08-23 17:14:37,055 - c:\\Users\\JanMarco\\MLProjects\\Masterthesis\\masterthesis\\mthesis\\lib\\site-packages\\castle\\datasets\\simulator.py[line:270] - INFO: Finished synthetic dataset\n"
     ]
    },
    {
     "name": "stdout",
     "output_type": "stream",
     "text": [
      "Warning: n_edges is not exact due to gcastle implementation\n",
      "Duration of algorithm was 1.61sec\n"
     ]
    },
    {
     "name": "stderr",
     "output_type": "stream",
     "text": [
      "2023-08-23 17:14:51,008 - c:\\Users\\JanMarco\\MLProjects\\Masterthesis\\masterthesis\\mthesis\\lib\\site-packages\\castle\\datasets\\simulator.py[line:270] - INFO: Finished synthetic dataset\n"
     ]
    },
    {
     "name": "stdout",
     "output_type": "stream",
     "text": [
      "Warning: n_edges is not exact due to gcastle implementation\n",
      "Duration of algorithm was 1.20sec\n"
     ]
    },
    {
     "name": "stderr",
     "output_type": "stream",
     "text": [
      "2023-08-23 17:15:03,990 - c:\\Users\\JanMarco\\MLProjects\\Masterthesis\\masterthesis\\mthesis\\lib\\site-packages\\castle\\datasets\\simulator.py[line:270] - INFO: Finished synthetic dataset\n"
     ]
    },
    {
     "name": "stdout",
     "output_type": "stream",
     "text": [
      "Warning: n_edges is not exact due to gcastle implementation\n",
      "Duration of algorithm was 1.20sec\n"
     ]
    },
    {
     "name": "stderr",
     "output_type": "stream",
     "text": [
      "2023-08-23 17:15:16,117 - c:\\Users\\JanMarco\\MLProjects\\Masterthesis\\masterthesis\\mthesis\\lib\\site-packages\\castle\\datasets\\simulator.py[line:270] - INFO: Finished synthetic dataset\n"
     ]
    },
    {
     "name": "stdout",
     "output_type": "stream",
     "text": [
      "Warning: n_edges is not exact due to gcastle implementation\n",
      "Duration of algorithm was 1.53sec\n"
     ]
    },
    {
     "name": "stderr",
     "output_type": "stream",
     "text": [
      "2023-08-23 17:15:33,835 - c:\\Users\\JanMarco\\MLProjects\\Masterthesis\\masterthesis\\mthesis\\lib\\site-packages\\castle\\datasets\\simulator.py[line:270] - INFO: Finished synthetic dataset\n"
     ]
    },
    {
     "name": "stdout",
     "output_type": "stream",
     "text": [
      "Warning: n_edges is not exact due to gcastle implementation\n",
      "Duration of algorithm was 3.12sec\n"
     ]
    },
    {
     "name": "stderr",
     "output_type": "stream",
     "text": [
      "2023-08-23 17:15:50,933 - c:\\Users\\JanMarco\\MLProjects\\Masterthesis\\masterthesis\\mthesis\\lib\\site-packages\\castle\\datasets\\simulator.py[line:270] - INFO: Finished synthetic dataset\n"
     ]
    },
    {
     "name": "stdout",
     "output_type": "stream",
     "text": [
      "Warning: n_edges is not exact due to gcastle implementation\n",
      "Duration of algorithm was 0.34sec\n"
     ]
    },
    {
     "name": "stderr",
     "output_type": "stream",
     "text": [
      "2023-08-23 17:16:00,737 - c:\\Users\\JanMarco\\MLProjects\\Masterthesis\\masterthesis\\mthesis\\lib\\site-packages\\castle\\datasets\\simulator.py[line:270] - INFO: Finished synthetic dataset\n"
     ]
    },
    {
     "name": "stdout",
     "output_type": "stream",
     "text": [
      "Warning: n_edges is not exact due to gcastle implementation\n",
      "Duration of algorithm was 0.52sec\n"
     ]
    },
    {
     "name": "stderr",
     "output_type": "stream",
     "text": [
      "2023-08-23 17:16:12,966 - c:\\Users\\JanMarco\\MLProjects\\Masterthesis\\masterthesis\\mthesis\\lib\\site-packages\\castle\\datasets\\simulator.py[line:270] - INFO: Finished synthetic dataset\n"
     ]
    },
    {
     "name": "stdout",
     "output_type": "stream",
     "text": [
      "Warning: n_edges is not exact due to gcastle implementation\n",
      "Duration of algorithm was 0.57sec\n"
     ]
    },
    {
     "name": "stderr",
     "output_type": "stream",
     "text": [
      "2023-08-23 17:16:23,505 - c:\\Users\\JanMarco\\MLProjects\\Masterthesis\\masterthesis\\mthesis\\lib\\site-packages\\castle\\datasets\\simulator.py[line:270] - INFO: Finished synthetic dataset\n"
     ]
    },
    {
     "name": "stdout",
     "output_type": "stream",
     "text": [
      "Warning: n_edges is not exact due to gcastle implementation\n",
      "Duration of algorithm was 0.57sec\n"
     ]
    },
    {
     "name": "stderr",
     "output_type": "stream",
     "text": [
      "2023-08-23 17:16:33,924 - c:\\Users\\JanMarco\\MLProjects\\Masterthesis\\masterthesis\\mthesis\\lib\\site-packages\\castle\\datasets\\simulator.py[line:270] - INFO: Finished synthetic dataset\n"
     ]
    },
    {
     "name": "stdout",
     "output_type": "stream",
     "text": [
      "Warning: n_edges is not exact due to gcastle implementation\n",
      "Duration of algorithm was 0.30sec\n"
     ]
    },
    {
     "name": "stderr",
     "output_type": "stream",
     "text": [
      "2023-08-23 17:16:45,252 - c:\\Users\\JanMarco\\MLProjects\\Masterthesis\\masterthesis\\mthesis\\lib\\site-packages\\castle\\datasets\\simulator.py[line:270] - INFO: Finished synthetic dataset\n"
     ]
    },
    {
     "name": "stdout",
     "output_type": "stream",
     "text": [
      "Warning: n_edges is not exact due to gcastle implementation\n",
      "Duration of algorithm was 0.41sec\n"
     ]
    },
    {
     "name": "stderr",
     "output_type": "stream",
     "text": [
      "2023-08-23 17:16:56,038 - c:\\Users\\JanMarco\\MLProjects\\Masterthesis\\masterthesis\\mthesis\\lib\\site-packages\\castle\\datasets\\simulator.py[line:270] - INFO: Finished synthetic dataset\n"
     ]
    },
    {
     "name": "stdout",
     "output_type": "stream",
     "text": [
      "Warning: n_edges is not exact due to gcastle implementation\n",
      "Duration of algorithm was 0.30sec\n"
     ]
    },
    {
     "name": "stderr",
     "output_type": "stream",
     "text": [
      "2023-08-23 17:17:06,589 - c:\\Users\\JanMarco\\MLProjects\\Masterthesis\\masterthesis\\mthesis\\lib\\site-packages\\castle\\datasets\\simulator.py[line:270] - INFO: Finished synthetic dataset\n"
     ]
    },
    {
     "name": "stdout",
     "output_type": "stream",
     "text": [
      "Warning: n_edges is not exact due to gcastle implementation\n",
      "Duration of algorithm was 0.55sec\n"
     ]
    },
    {
     "name": "stderr",
     "output_type": "stream",
     "text": [
      "2023-08-23 17:17:17,192 - c:\\Users\\JanMarco\\MLProjects\\Masterthesis\\masterthesis\\mthesis\\lib\\site-packages\\castle\\datasets\\simulator.py[line:270] - INFO: Finished synthetic dataset\n"
     ]
    },
    {
     "name": "stdout",
     "output_type": "stream",
     "text": [
      "Warning: n_edges is not exact due to gcastle implementation\n",
      "Duration of algorithm was 0.81sec\n"
     ]
    },
    {
     "name": "stderr",
     "output_type": "stream",
     "text": [
      "2023-08-23 17:17:28,106 - c:\\Users\\JanMarco\\MLProjects\\Masterthesis\\masterthesis\\mthesis\\lib\\site-packages\\castle\\datasets\\simulator.py[line:270] - INFO: Finished synthetic dataset\n"
     ]
    },
    {
     "name": "stdout",
     "output_type": "stream",
     "text": [
      "Warning: n_edges is not exact due to gcastle implementation\n",
      "Duration of algorithm was 0.57sec\n"
     ]
    },
    {
     "name": "stderr",
     "output_type": "stream",
     "text": [
      "2023-08-23 17:17:38,844 - c:\\Users\\JanMarco\\MLProjects\\Masterthesis\\masterthesis\\mthesis\\lib\\site-packages\\castle\\datasets\\simulator.py[line:270] - INFO: Finished synthetic dataset\n"
     ]
    },
    {
     "name": "stdout",
     "output_type": "stream",
     "text": [
      "Warning: n_edges is not exact due to gcastle implementation\n",
      "Duration of algorithm was 0.68sec\n"
     ]
    },
    {
     "name": "stderr",
     "output_type": "stream",
     "text": [
      "2023-08-23 17:17:49,800 - c:\\Users\\JanMarco\\MLProjects\\Masterthesis\\masterthesis\\mthesis\\lib\\site-packages\\castle\\datasets\\simulator.py[line:270] - INFO: Finished synthetic dataset\n"
     ]
    },
    {
     "name": "stdout",
     "output_type": "stream",
     "text": [
      "Warning: n_edges is not exact due to gcastle implementation\n",
      "Duration of algorithm was 3.28sec\n"
     ]
    },
    {
     "name": "stderr",
     "output_type": "stream",
     "text": [
      "2023-08-23 17:18:05,871 - c:\\Users\\JanMarco\\MLProjects\\Masterthesis\\masterthesis\\mthesis\\lib\\site-packages\\castle\\datasets\\simulator.py[line:270] - INFO: Finished synthetic dataset\n"
     ]
    },
    {
     "name": "stdout",
     "output_type": "stream",
     "text": [
      "Warning: n_edges is not exact due to gcastle implementation\n",
      "Duration of algorithm was 0.55sec\n"
     ]
    },
    {
     "name": "stderr",
     "output_type": "stream",
     "text": [
      "2023-08-23 17:18:16,421 - c:\\Users\\JanMarco\\MLProjects\\Masterthesis\\masterthesis\\mthesis\\lib\\site-packages\\castle\\datasets\\simulator.py[line:270] - INFO: Finished synthetic dataset\n"
     ]
    },
    {
     "name": "stdout",
     "output_type": "stream",
     "text": [
      "Warning: n_edges is not exact due to gcastle implementation\n",
      "Duration of algorithm was 0.40sec\n"
     ]
    },
    {
     "name": "stderr",
     "output_type": "stream",
     "text": [
      "2023-08-23 17:18:26,524 - c:\\Users\\JanMarco\\MLProjects\\Masterthesis\\masterthesis\\mthesis\\lib\\site-packages\\castle\\datasets\\simulator.py[line:270] - INFO: Finished synthetic dataset\n"
     ]
    },
    {
     "name": "stdout",
     "output_type": "stream",
     "text": [
      "Warning: n_edges is not exact due to gcastle implementation\n",
      "Duration of algorithm was 0.42sec\n"
     ]
    },
    {
     "name": "stderr",
     "output_type": "stream",
     "text": [
      "2023-08-23 17:18:40,136 - c:\\Users\\JanMarco\\MLProjects\\Masterthesis\\masterthesis\\mthesis\\lib\\site-packages\\castle\\datasets\\simulator.py[line:270] - INFO: Finished synthetic dataset\n"
     ]
    },
    {
     "name": "stdout",
     "output_type": "stream",
     "text": [
      "Warning: n_edges is not exact due to gcastle implementation\n",
      "Duration of algorithm was 1.99sec\n"
     ]
    },
    {
     "name": "stderr",
     "output_type": "stream",
     "text": [
      "2023-08-23 17:18:53,133 - c:\\Users\\JanMarco\\MLProjects\\Masterthesis\\masterthesis\\mthesis\\lib\\site-packages\\castle\\datasets\\simulator.py[line:270] - INFO: Finished synthetic dataset\n"
     ]
    },
    {
     "name": "stdout",
     "output_type": "stream",
     "text": [
      "Warning: n_edges is not exact due to gcastle implementation\n",
      "Duration of algorithm was 3.71sec\n"
     ]
    },
    {
     "name": "stderr",
     "output_type": "stream",
     "text": [
      "2023-08-23 17:19:12,414 - c:\\Users\\JanMarco\\MLProjects\\Masterthesis\\masterthesis\\mthesis\\lib\\site-packages\\castle\\datasets\\simulator.py[line:270] - INFO: Finished synthetic dataset\n"
     ]
    },
    {
     "name": "stdout",
     "output_type": "stream",
     "text": [
      "Warning: n_edges is not exact due to gcastle implementation\n",
      "Duration of algorithm was 5.47sec\n"
     ]
    },
    {
     "name": "stderr",
     "output_type": "stream",
     "text": [
      "2023-08-23 17:19:33,091 - c:\\Users\\JanMarco\\MLProjects\\Masterthesis\\masterthesis\\mthesis\\lib\\site-packages\\castle\\datasets\\simulator.py[line:270] - INFO: Finished synthetic dataset\n"
     ]
    },
    {
     "name": "stdout",
     "output_type": "stream",
     "text": [
      "Warning: n_edges is not exact due to gcastle implementation\n",
      "Duration of algorithm was 7.43sec\n"
     ]
    },
    {
     "name": "stderr",
     "output_type": "stream",
     "text": [
      "2023-08-23 17:19:57,074 - c:\\Users\\JanMarco\\MLProjects\\Masterthesis\\masterthesis\\mthesis\\lib\\site-packages\\castle\\datasets\\simulator.py[line:270] - INFO: Finished synthetic dataset\n"
     ]
    },
    {
     "name": "stdout",
     "output_type": "stream",
     "text": [
      "Warning: n_edges is not exact due to gcastle implementation\n",
      "Duration of algorithm was 9.09sec\n"
     ]
    },
    {
     "name": "stderr",
     "output_type": "stream",
     "text": [
      "2023-08-23 18:01:36,323 - c:\\Users\\JanMarco\\MLProjects\\Masterthesis\\masterthesis\\mthesis\\lib\\site-packages\\castle\\datasets\\simulator.py[line:270] - INFO: Finished synthetic dataset\n"
     ]
    },
    {
     "name": "stdout",
     "output_type": "stream",
     "text": [
      "Warning: n_edges is not exact due to gcastle implementation\n",
      "Duration of algorithm was 3.49sec\n"
     ]
    },
    {
     "name": "stderr",
     "output_type": "stream",
     "text": [
      "2023-08-23 18:01:54,631 - c:\\Users\\JanMarco\\MLProjects\\Masterthesis\\masterthesis\\mthesis\\lib\\site-packages\\castle\\datasets\\simulator.py[line:270] - INFO: Finished synthetic dataset\n"
     ]
    },
    {
     "name": "stdout",
     "output_type": "stream",
     "text": [
      "Warning: n_edges is not exact due to gcastle implementation\n",
      "Duration of algorithm was 3.28sec\n"
     ]
    },
    {
     "name": "stderr",
     "output_type": "stream",
     "text": [
      "2023-08-23 18:02:13,211 - c:\\Users\\JanMarco\\MLProjects\\Masterthesis\\masterthesis\\mthesis\\lib\\site-packages\\castle\\datasets\\simulator.py[line:270] - INFO: Finished synthetic dataset\n"
     ]
    },
    {
     "name": "stdout",
     "output_type": "stream",
     "text": [
      "Warning: n_edges is not exact due to gcastle implementation\n",
      "Duration of algorithm was 3.55sec\n"
     ]
    },
    {
     "name": "stderr",
     "output_type": "stream",
     "text": [
      "2023-08-23 18:02:31,513 - c:\\Users\\JanMarco\\MLProjects\\Masterthesis\\masterthesis\\mthesis\\lib\\site-packages\\castle\\datasets\\simulator.py[line:270] - INFO: Finished synthetic dataset\n"
     ]
    },
    {
     "name": "stdout",
     "output_type": "stream",
     "text": [
      "Warning: n_edges is not exact due to gcastle implementation\n",
      "Duration of algorithm was 9.73sec\n"
     ]
    },
    {
     "name": "stderr",
     "output_type": "stream",
     "text": [
      "2023-08-23 18:03:16,435 - c:\\Users\\JanMarco\\MLProjects\\Masterthesis\\masterthesis\\mthesis\\lib\\site-packages\\castle\\datasets\\simulator.py[line:270] - INFO: Finished synthetic dataset\n"
     ]
    },
    {
     "name": "stdout",
     "output_type": "stream",
     "text": [
      "Warning: n_edges is not exact due to gcastle implementation\n",
      "Duration of algorithm was 0.75sec\n"
     ]
    },
    {
     "name": "stderr",
     "output_type": "stream",
     "text": [
      "2023-08-23 18:03:27,721 - c:\\Users\\JanMarco\\MLProjects\\Masterthesis\\masterthesis\\mthesis\\lib\\site-packages\\castle\\datasets\\simulator.py[line:270] - INFO: Finished synthetic dataset\n"
     ]
    },
    {
     "name": "stdout",
     "output_type": "stream",
     "text": [
      "Warning: n_edges is not exact due to gcastle implementation\n",
      "Duration of algorithm was 1.54sec\n"
     ]
    },
    {
     "name": "stderr",
     "output_type": "stream",
     "text": [
      "2023-08-23 18:03:42,789 - c:\\Users\\JanMarco\\MLProjects\\Masterthesis\\masterthesis\\mthesis\\lib\\site-packages\\castle\\datasets\\simulator.py[line:270] - INFO: Finished synthetic dataset\n"
     ]
    },
    {
     "name": "stdout",
     "output_type": "stream",
     "text": [
      "Warning: n_edges is not exact due to gcastle implementation\n",
      "Duration of algorithm was 0.88sec\n"
     ]
    },
    {
     "name": "stderr",
     "output_type": "stream",
     "text": [
      "2023-08-23 18:03:54,014 - c:\\Users\\JanMarco\\MLProjects\\Masterthesis\\masterthesis\\mthesis\\lib\\site-packages\\castle\\datasets\\simulator.py[line:270] - INFO: Finished synthetic dataset\n"
     ]
    },
    {
     "name": "stdout",
     "output_type": "stream",
     "text": [
      "Warning: n_edges is not exact due to gcastle implementation\n",
      "Duration of algorithm was 1.02sec\n"
     ]
    },
    {
     "name": "stderr",
     "output_type": "stream",
     "text": [
      "2023-08-23 18:04:05,670 - c:\\Users\\JanMarco\\MLProjects\\Masterthesis\\masterthesis\\mthesis\\lib\\site-packages\\castle\\datasets\\simulator.py[line:270] - INFO: Finished synthetic dataset\n"
     ]
    },
    {
     "name": "stdout",
     "output_type": "stream",
     "text": [
      "Warning: n_edges is not exact due to gcastle implementation\n",
      "Duration of algorithm was 0.68sec\n"
     ]
    },
    {
     "name": "stderr",
     "output_type": "stream",
     "text": [
      "2023-08-23 18:04:16,562 - c:\\Users\\JanMarco\\MLProjects\\Masterthesis\\masterthesis\\mthesis\\lib\\site-packages\\castle\\datasets\\simulator.py[line:270] - INFO: Finished synthetic dataset\n"
     ]
    },
    {
     "name": "stdout",
     "output_type": "stream",
     "text": [
      "Warning: n_edges is not exact due to gcastle implementation\n",
      "Duration of algorithm was 1.34sec\n"
     ]
    },
    {
     "name": "stderr",
     "output_type": "stream",
     "text": [
      "2023-08-23 18:04:30,372 - c:\\Users\\JanMarco\\MLProjects\\Masterthesis\\masterthesis\\mthesis\\lib\\site-packages\\castle\\datasets\\simulator.py[line:270] - INFO: Finished synthetic dataset\n"
     ]
    },
    {
     "name": "stdout",
     "output_type": "stream",
     "text": [
      "Warning: n_edges is not exact due to gcastle implementation\n",
      "Duration of algorithm was 1.23sec\n"
     ]
    },
    {
     "name": "stderr",
     "output_type": "stream",
     "text": [
      "2023-08-23 18:04:42,689 - c:\\Users\\JanMarco\\MLProjects\\Masterthesis\\masterthesis\\mthesis\\lib\\site-packages\\castle\\datasets\\simulator.py[line:270] - INFO: Finished synthetic dataset\n"
     ]
    },
    {
     "name": "stdout",
     "output_type": "stream",
     "text": [
      "Warning: n_edges is not exact due to gcastle implementation\n",
      "Duration of algorithm was 1.35sec\n"
     ]
    },
    {
     "name": "stderr",
     "output_type": "stream",
     "text": [
      "2023-08-23 18:04:55,526 - c:\\Users\\JanMarco\\MLProjects\\Masterthesis\\masterthesis\\mthesis\\lib\\site-packages\\castle\\datasets\\simulator.py[line:270] - INFO: Finished synthetic dataset\n"
     ]
    },
    {
     "name": "stdout",
     "output_type": "stream",
     "text": [
      "Warning: n_edges is not exact due to gcastle implementation\n",
      "Duration of algorithm was 1.47sec\n"
     ]
    },
    {
     "name": "stderr",
     "output_type": "stream",
     "text": [
      "2023-08-23 18:05:08,379 - c:\\Users\\JanMarco\\MLProjects\\Masterthesis\\masterthesis\\mthesis\\lib\\site-packages\\castle\\datasets\\simulator.py[line:270] - INFO: Finished synthetic dataset\n"
     ]
    },
    {
     "name": "stdout",
     "output_type": "stream",
     "text": [
      "Warning: n_edges is not exact due to gcastle implementation\n",
      "Duration of algorithm was 0.94sec\n"
     ]
    },
    {
     "name": "stderr",
     "output_type": "stream",
     "text": [
      "2023-08-23 18:05:20,155 - c:\\Users\\JanMarco\\MLProjects\\Masterthesis\\masterthesis\\mthesis\\lib\\site-packages\\castle\\datasets\\simulator.py[line:270] - INFO: Finished synthetic dataset\n"
     ]
    },
    {
     "name": "stdout",
     "output_type": "stream",
     "text": [
      "Warning: n_edges is not exact due to gcastle implementation\n",
      "Duration of algorithm was 3.57sec\n"
     ]
    },
    {
     "name": "stderr",
     "output_type": "stream",
     "text": [
      "2023-08-23 18:05:37,266 - c:\\Users\\JanMarco\\MLProjects\\Masterthesis\\masterthesis\\mthesis\\lib\\site-packages\\castle\\datasets\\simulator.py[line:270] - INFO: Finished synthetic dataset\n"
     ]
    },
    {
     "name": "stdout",
     "output_type": "stream",
     "text": [
      "Warning: n_edges is not exact due to gcastle implementation\n",
      "Duration of algorithm was 2.63sec\n"
     ]
    },
    {
     "name": "stderr",
     "output_type": "stream",
     "text": [
      "2023-08-23 18:06:00,729 - c:\\Users\\JanMarco\\MLProjects\\Masterthesis\\masterthesis\\mthesis\\lib\\site-packages\\castle\\datasets\\simulator.py[line:270] - INFO: Finished synthetic dataset\n"
     ]
    },
    {
     "name": "stdout",
     "output_type": "stream",
     "text": [
      "Warning: n_edges is not exact due to gcastle implementation\n",
      "Duration of algorithm was 1.12sec\n"
     ]
    },
    {
     "name": "stderr",
     "output_type": "stream",
     "text": [
      "2023-08-23 18:06:13,235 - c:\\Users\\JanMarco\\MLProjects\\Masterthesis\\masterthesis\\mthesis\\lib\\site-packages\\castle\\datasets\\simulator.py[line:270] - INFO: Finished synthetic dataset\n"
     ]
    },
    {
     "name": "stdout",
     "output_type": "stream",
     "text": [
      "Warning: n_edges is not exact due to gcastle implementation\n",
      "Duration of algorithm was 0.84sec\n"
     ]
    },
    {
     "name": "stderr",
     "output_type": "stream",
     "text": [
      "2023-08-23 18:06:24,998 - c:\\Users\\JanMarco\\MLProjects\\Masterthesis\\masterthesis\\mthesis\\lib\\site-packages\\castle\\datasets\\simulator.py[line:270] - INFO: Finished synthetic dataset\n"
     ]
    },
    {
     "name": "stdout",
     "output_type": "stream",
     "text": [
      "Warning: n_edges is not exact due to gcastle implementation\n",
      "Duration of algorithm was 2.09sec\n"
     ]
    },
    {
     "name": "stderr",
     "output_type": "stream",
     "text": [
      "2023-08-23 18:06:42,552 - c:\\Users\\JanMarco\\MLProjects\\Masterthesis\\masterthesis\\mthesis\\lib\\site-packages\\castle\\datasets\\simulator.py[line:270] - INFO: Finished synthetic dataset\n"
     ]
    },
    {
     "name": "stdout",
     "output_type": "stream",
     "text": [
      "Warning: n_edges is not exact due to gcastle implementation\n",
      "Duration of algorithm was 2.85sec\n"
     ]
    },
    {
     "name": "stderr",
     "output_type": "stream",
     "text": [
      "2023-08-23 18:07:00,188 - c:\\Users\\JanMarco\\MLProjects\\Masterthesis\\masterthesis\\mthesis\\lib\\site-packages\\castle\\datasets\\simulator.py[line:270] - INFO: Finished synthetic dataset\n"
     ]
    },
    {
     "name": "stdout",
     "output_type": "stream",
     "text": [
      "Warning: n_edges is not exact due to gcastle implementation\n",
      "Duration of algorithm was 4.31sec\n"
     ]
    },
    {
     "name": "stderr",
     "output_type": "stream",
     "text": [
      "2023-08-23 18:07:19,755 - c:\\Users\\JanMarco\\MLProjects\\Masterthesis\\masterthesis\\mthesis\\lib\\site-packages\\castle\\datasets\\simulator.py[line:270] - INFO: Finished synthetic dataset\n"
     ]
    },
    {
     "name": "stdout",
     "output_type": "stream",
     "text": [
      "Warning: n_edges is not exact due to gcastle implementation\n",
      "Duration of algorithm was 5.00sec\n"
     ]
    },
    {
     "name": "stderr",
     "output_type": "stream",
     "text": [
      "2023-08-23 18:07:38,353 - c:\\Users\\JanMarco\\MLProjects\\Masterthesis\\masterthesis\\mthesis\\lib\\site-packages\\castle\\datasets\\simulator.py[line:270] - INFO: Finished synthetic dataset\n"
     ]
    },
    {
     "name": "stdout",
     "output_type": "stream",
     "text": [
      "Warning: n_edges is not exact due to gcastle implementation\n",
      "Duration of algorithm was 5.80sec\n"
     ]
    },
    {
     "name": "stderr",
     "output_type": "stream",
     "text": [
      "2023-08-23 18:08:00,459 - c:\\Users\\JanMarco\\MLProjects\\Masterthesis\\masterthesis\\mthesis\\lib\\site-packages\\castle\\datasets\\simulator.py[line:270] - INFO: Finished synthetic dataset\n"
     ]
    },
    {
     "name": "stdout",
     "output_type": "stream",
     "text": [
      "Warning: n_edges is not exact due to gcastle implementation\n",
      "Duration of algorithm was 5.60sec\n"
     ]
    },
    {
     "name": "stderr",
     "output_type": "stream",
     "text": [
      "2023-08-23 18:08:23,127 - c:\\Users\\JanMarco\\MLProjects\\Masterthesis\\masterthesis\\mthesis\\lib\\site-packages\\castle\\datasets\\simulator.py[line:270] - INFO: Finished synthetic dataset\n"
     ]
    },
    {
     "name": "stdout",
     "output_type": "stream",
     "text": [
      "Warning: n_edges is not exact due to gcastle implementation\n",
      "Duration of algorithm was 2.57sec\n"
     ]
    },
    {
     "name": "stderr",
     "output_type": "stream",
     "text": [
      "2023-08-23 18:08:39,241 - c:\\Users\\JanMarco\\MLProjects\\Masterthesis\\masterthesis\\mthesis\\lib\\site-packages\\castle\\datasets\\simulator.py[line:270] - INFO: Finished synthetic dataset\n"
     ]
    },
    {
     "name": "stdout",
     "output_type": "stream",
     "text": [
      "Warning: n_edges is not exact due to gcastle implementation\n",
      "Duration of algorithm was 4.27sec\n"
     ]
    },
    {
     "name": "stderr",
     "output_type": "stream",
     "text": [
      "2023-08-23 18:09:02,165 - c:\\Users\\JanMarco\\MLProjects\\Masterthesis\\masterthesis\\mthesis\\lib\\site-packages\\castle\\datasets\\simulator.py[line:270] - INFO: Finished synthetic dataset\n"
     ]
    },
    {
     "name": "stdout",
     "output_type": "stream",
     "text": [
      "Warning: n_edges is not exact due to gcastle implementation\n",
      "Duration of algorithm was 3.15sec\n"
     ]
    },
    {
     "name": "stderr",
     "output_type": "stream",
     "text": [
      "2023-08-23 18:09:20,498 - c:\\Users\\JanMarco\\MLProjects\\Masterthesis\\masterthesis\\mthesis\\lib\\site-packages\\castle\\datasets\\simulator.py[line:270] - INFO: Finished synthetic dataset\n"
     ]
    },
    {
     "name": "stdout",
     "output_type": "stream",
     "text": [
      "Warning: n_edges is not exact due to gcastle implementation\n",
      "Duration of algorithm was 5.65sec\n"
     ]
    }
   ],
   "source": [
    "# config_path = 'clustercausal\\experiments\\configs\\config_search_alpha.yaml'\n",
    "# config_path = config_path.replace('\\\\', '/')\n",
    "# experiment = ExperimentRunner(config_path)\n",
    "# experiment.run_gridsearch_experiment()"
   ]
  },
  {
   "cell_type": "code",
   "execution_count": 4,
   "metadata": {},
   "outputs": [
    {
     "name": "stderr",
     "output_type": "stream",
     "text": [
      "2023-08-23 18:09:43,637 - c:\\Users\\JanMarco\\MLProjects\\Masterthesis\\masterthesis\\mthesis\\lib\\site-packages\\castle\\datasets\\simulator.py[line:270] - INFO: Finished synthetic dataset\n"
     ]
    },
    {
     "name": "stdout",
     "output_type": "stream",
     "text": [
      "Number of experiments: 384\n",
      "Warning: n_edges is not exact due to gcastle implementation\n",
      "Duration of algorithm was 0.42sec\n"
     ]
    },
    {
     "name": "stderr",
     "output_type": "stream",
     "text": [
      "2023-08-23 18:09:53,562 - c:\\Users\\JanMarco\\MLProjects\\Masterthesis\\masterthesis\\mthesis\\lib\\site-packages\\castle\\datasets\\simulator.py[line:270] - INFO: Finished synthetic dataset\n"
     ]
    },
    {
     "name": "stdout",
     "output_type": "stream",
     "text": [
      "Warning: n_edges is not exact due to gcastle implementation\n",
      "Duration of algorithm was 0.29sec\n"
     ]
    },
    {
     "name": "stderr",
     "output_type": "stream",
     "text": [
      "2023-08-23 18:10:03,206 - c:\\Users\\JanMarco\\MLProjects\\Masterthesis\\masterthesis\\mthesis\\lib\\site-packages\\castle\\datasets\\simulator.py[line:270] - INFO: Finished synthetic dataset\n"
     ]
    },
    {
     "name": "stdout",
     "output_type": "stream",
     "text": [
      "Warning: n_edges is not exact due to gcastle implementation\n",
      "Duration of algorithm was 0.22sec\n"
     ]
    },
    {
     "name": "stderr",
     "output_type": "stream",
     "text": [
      "2023-08-23 18:10:12,907 - c:\\Users\\JanMarco\\MLProjects\\Masterthesis\\masterthesis\\mthesis\\lib\\site-packages\\castle\\datasets\\simulator.py[line:270] - INFO: Finished synthetic dataset\n"
     ]
    },
    {
     "name": "stdout",
     "output_type": "stream",
     "text": [
      "Warning: n_edges is not exact due to gcastle implementation\n",
      "Duration of algorithm was 0.34sec\n"
     ]
    },
    {
     "name": "stderr",
     "output_type": "stream",
     "text": [
      "2023-08-23 18:10:22,756 - c:\\Users\\JanMarco\\MLProjects\\Masterthesis\\masterthesis\\mthesis\\lib\\site-packages\\castle\\datasets\\simulator.py[line:270] - INFO: Finished synthetic dataset\n"
     ]
    },
    {
     "name": "stdout",
     "output_type": "stream",
     "text": [
      "Warning: n_edges is not exact due to gcastle implementation\n",
      "Duration of algorithm was 0.29sec\n"
     ]
    },
    {
     "name": "stderr",
     "output_type": "stream",
     "text": [
      "2023-08-23 18:10:32,298 - c:\\Users\\JanMarco\\MLProjects\\Masterthesis\\masterthesis\\mthesis\\lib\\site-packages\\castle\\datasets\\simulator.py[line:270] - INFO: Finished synthetic dataset\n"
     ]
    },
    {
     "name": "stdout",
     "output_type": "stream",
     "text": [
      "Warning: n_edges is not exact due to gcastle implementation\n",
      "Duration of algorithm was 0.42sec\n"
     ]
    },
    {
     "name": "stderr",
     "output_type": "stream",
     "text": [
      "2023-08-23 18:10:42,102 - c:\\Users\\JanMarco\\MLProjects\\Masterthesis\\masterthesis\\mthesis\\lib\\site-packages\\castle\\datasets\\simulator.py[line:270] - INFO: Finished synthetic dataset\n"
     ]
    },
    {
     "name": "stdout",
     "output_type": "stream",
     "text": [
      "Warning: n_edges is not exact due to gcastle implementation\n",
      "Duration of algorithm was 0.66sec\n"
     ]
    },
    {
     "name": "stderr",
     "output_type": "stream",
     "text": [
      "2023-08-23 18:10:52,397 - c:\\Users\\JanMarco\\MLProjects\\Masterthesis\\masterthesis\\mthesis\\lib\\site-packages\\castle\\datasets\\simulator.py[line:270] - INFO: Finished synthetic dataset\n"
     ]
    },
    {
     "name": "stdout",
     "output_type": "stream",
     "text": [
      "Warning: n_edges is not exact due to gcastle implementation\n",
      "Duration of algorithm was 0.50sec\n"
     ]
    },
    {
     "name": "stderr",
     "output_type": "stream",
     "text": [
      "2023-08-23 18:11:02,126 - c:\\Users\\JanMarco\\MLProjects\\Masterthesis\\masterthesis\\mthesis\\lib\\site-packages\\castle\\datasets\\simulator.py[line:270] - INFO: Finished synthetic dataset\n"
     ]
    },
    {
     "name": "stdout",
     "output_type": "stream",
     "text": [
      "Warning: n_edges is not exact due to gcastle implementation\n",
      "Duration of algorithm was 0.61sec\n"
     ]
    },
    {
     "name": "stderr",
     "output_type": "stream",
     "text": [
      "2023-08-23 18:11:12,614 - c:\\Users\\JanMarco\\MLProjects\\Masterthesis\\masterthesis\\mthesis\\lib\\site-packages\\castle\\datasets\\simulator.py[line:270] - INFO: Finished synthetic dataset\n"
     ]
    },
    {
     "name": "stdout",
     "output_type": "stream",
     "text": [
      "Warning: n_edges is not exact due to gcastle implementation\n",
      "Duration of algorithm was 0.30sec\n"
     ]
    },
    {
     "name": "stderr",
     "output_type": "stream",
     "text": [
      "2023-08-23 18:11:22,200 - c:\\Users\\JanMarco\\MLProjects\\Masterthesis\\masterthesis\\mthesis\\lib\\site-packages\\castle\\datasets\\simulator.py[line:270] - INFO: Finished synthetic dataset\n"
     ]
    },
    {
     "name": "stdout",
     "output_type": "stream",
     "text": [
      "Warning: n_edges is not exact due to gcastle implementation\n",
      "Duration of algorithm was 0.60sec\n"
     ]
    },
    {
     "name": "stderr",
     "output_type": "stream",
     "text": [
      "2023-08-23 18:11:32,640 - c:\\Users\\JanMarco\\MLProjects\\Masterthesis\\masterthesis\\mthesis\\lib\\site-packages\\castle\\datasets\\simulator.py[line:270] - INFO: Finished synthetic dataset\n"
     ]
    },
    {
     "name": "stdout",
     "output_type": "stream",
     "text": [
      "Warning: n_edges is not exact due to gcastle implementation\n",
      "Duration of algorithm was 0.50sec\n"
     ]
    },
    {
     "name": "stderr",
     "output_type": "stream",
     "text": [
      "2023-08-23 18:11:42,624 - c:\\Users\\JanMarco\\MLProjects\\Masterthesis\\masterthesis\\mthesis\\lib\\site-packages\\castle\\datasets\\simulator.py[line:270] - INFO: Finished synthetic dataset\n"
     ]
    },
    {
     "name": "stdout",
     "output_type": "stream",
     "text": [
      "Warning: n_edges is not exact due to gcastle implementation\n",
      "Duration of algorithm was 0.42sec\n"
     ]
    },
    {
     "name": "stderr",
     "output_type": "stream",
     "text": [
      "2023-08-23 18:11:52,602 - c:\\Users\\JanMarco\\MLProjects\\Masterthesis\\masterthesis\\mthesis\\lib\\site-packages\\castle\\datasets\\simulator.py[line:270] - INFO: Finished synthetic dataset\n"
     ]
    },
    {
     "name": "stdout",
     "output_type": "stream",
     "text": [
      "Warning: n_edges is not exact due to gcastle implementation\n",
      "Duration of algorithm was 0.55sec\n"
     ]
    },
    {
     "name": "stderr",
     "output_type": "stream",
     "text": [
      "2023-08-23 18:12:03,550 - c:\\Users\\JanMarco\\MLProjects\\Masterthesis\\masterthesis\\mthesis\\lib\\site-packages\\castle\\datasets\\simulator.py[line:270] - INFO: Finished synthetic dataset\n"
     ]
    },
    {
     "name": "stdout",
     "output_type": "stream",
     "text": [
      "Warning: n_edges is not exact due to gcastle implementation\n",
      "Duration of algorithm was 0.25sec\n"
     ]
    },
    {
     "name": "stderr",
     "output_type": "stream",
     "text": [
      "2023-08-23 18:12:14,544 - c:\\Users\\JanMarco\\MLProjects\\Masterthesis\\masterthesis\\mthesis\\lib\\site-packages\\castle\\datasets\\simulator.py[line:270] - INFO: Finished synthetic dataset\n"
     ]
    },
    {
     "name": "stdout",
     "output_type": "stream",
     "text": [
      "Warning: n_edges is not exact due to gcastle implementation\n",
      "Duration of algorithm was 0.26sec\n"
     ]
    },
    {
     "name": "stderr",
     "output_type": "stream",
     "text": [
      "2023-08-23 18:12:24,193 - c:\\Users\\JanMarco\\MLProjects\\Masterthesis\\masterthesis\\mthesis\\lib\\site-packages\\castle\\datasets\\simulator.py[line:270] - INFO: Finished synthetic dataset\n"
     ]
    },
    {
     "name": "stdout",
     "output_type": "stream",
     "text": [
      "Warning: n_edges is not exact due to gcastle implementation\n",
      "Duration of algorithm was 0.59sec\n"
     ]
    },
    {
     "name": "stderr",
     "output_type": "stream",
     "text": [
      "2023-08-23 18:12:34,352 - c:\\Users\\JanMarco\\MLProjects\\Masterthesis\\masterthesis\\mthesis\\lib\\site-packages\\castle\\datasets\\simulator.py[line:270] - INFO: Finished synthetic dataset\n"
     ]
    },
    {
     "name": "stdout",
     "output_type": "stream",
     "text": [
      "Warning: n_edges is not exact due to gcastle implementation\n",
      "Duration of algorithm was 0.30sec\n"
     ]
    },
    {
     "name": "stderr",
     "output_type": "stream",
     "text": [
      "2023-08-23 18:12:44,041 - c:\\Users\\JanMarco\\MLProjects\\Masterthesis\\masterthesis\\mthesis\\lib\\site-packages\\castle\\datasets\\simulator.py[line:270] - INFO: Finished synthetic dataset\n"
     ]
    },
    {
     "name": "stdout",
     "output_type": "stream",
     "text": [
      "Warning: n_edges is not exact due to gcastle implementation\n",
      "Duration of algorithm was 0.39sec\n"
     ]
    },
    {
     "name": "stderr",
     "output_type": "stream",
     "text": [
      "2023-08-23 18:12:54,066 - c:\\Users\\JanMarco\\MLProjects\\Masterthesis\\masterthesis\\mthesis\\lib\\site-packages\\castle\\datasets\\simulator.py[line:270] - INFO: Finished synthetic dataset\n"
     ]
    },
    {
     "name": "stdout",
     "output_type": "stream",
     "text": [
      "Warning: n_edges is not exact due to gcastle implementation\n",
      "Duration of algorithm was 0.20sec\n"
     ]
    },
    {
     "name": "stderr",
     "output_type": "stream",
     "text": [
      "2023-08-23 18:13:03,452 - c:\\Users\\JanMarco\\MLProjects\\Masterthesis\\masterthesis\\mthesis\\lib\\site-packages\\castle\\datasets\\simulator.py[line:270] - INFO: Finished synthetic dataset\n"
     ]
    },
    {
     "name": "stdout",
     "output_type": "stream",
     "text": [
      "Warning: n_edges is not exact due to gcastle implementation\n",
      "Duration of algorithm was 0.31sec\n"
     ]
    },
    {
     "name": "stderr",
     "output_type": "stream",
     "text": [
      "2023-08-23 18:13:13,169 - c:\\Users\\JanMarco\\MLProjects\\Masterthesis\\masterthesis\\mthesis\\lib\\site-packages\\castle\\datasets\\simulator.py[line:270] - INFO: Finished synthetic dataset\n"
     ]
    },
    {
     "name": "stdout",
     "output_type": "stream",
     "text": [
      "Warning: n_edges is not exact due to gcastle implementation\n",
      "Duration of algorithm was 0.52sec\n"
     ]
    },
    {
     "name": "stderr",
     "output_type": "stream",
     "text": [
      "2023-08-23 18:13:26,134 - c:\\Users\\JanMarco\\MLProjects\\Masterthesis\\masterthesis\\mthesis\\lib\\site-packages\\castle\\datasets\\simulator.py[line:270] - INFO: Finished synthetic dataset\n"
     ]
    },
    {
     "name": "stdout",
     "output_type": "stream",
     "text": [
      "Warning: n_edges is not exact due to gcastle implementation\n",
      "Duration of algorithm was 0.44sec\n"
     ]
    },
    {
     "name": "stderr",
     "output_type": "stream",
     "text": [
      "2023-08-23 18:13:36,164 - c:\\Users\\JanMarco\\MLProjects\\Masterthesis\\masterthesis\\mthesis\\lib\\site-packages\\castle\\datasets\\simulator.py[line:270] - INFO: Finished synthetic dataset\n"
     ]
    },
    {
     "name": "stdout",
     "output_type": "stream",
     "text": [
      "Warning: n_edges is not exact due to gcastle implementation\n",
      "Duration of algorithm was 0.51sec\n"
     ]
    },
    {
     "name": "stderr",
     "output_type": "stream",
     "text": [
      "2023-08-23 18:13:46,134 - c:\\Users\\JanMarco\\MLProjects\\Masterthesis\\masterthesis\\mthesis\\lib\\site-packages\\castle\\datasets\\simulator.py[line:270] - INFO: Finished synthetic dataset\n"
     ]
    },
    {
     "name": "stdout",
     "output_type": "stream",
     "text": [
      "Warning: n_edges is not exact due to gcastle implementation\n",
      "Duration of algorithm was 0.33sec\n"
     ]
    },
    {
     "name": "stderr",
     "output_type": "stream",
     "text": [
      "2023-08-23 18:13:55,834 - c:\\Users\\JanMarco\\MLProjects\\Masterthesis\\masterthesis\\mthesis\\lib\\site-packages\\castle\\datasets\\simulator.py[line:270] - INFO: Finished synthetic dataset\n"
     ]
    },
    {
     "name": "stdout",
     "output_type": "stream",
     "text": [
      "Warning: n_edges is not exact due to gcastle implementation\n",
      "Duration of algorithm was 0.41sec\n"
     ]
    },
    {
     "name": "stderr",
     "output_type": "stream",
     "text": [
      "2023-08-23 18:14:06,348 - c:\\Users\\JanMarco\\MLProjects\\Masterthesis\\masterthesis\\mthesis\\lib\\site-packages\\castle\\datasets\\simulator.py[line:270] - INFO: Finished synthetic dataset\n"
     ]
    },
    {
     "name": "stdout",
     "output_type": "stream",
     "text": [
      "Warning: n_edges is not exact due to gcastle implementation\n",
      "Duration of algorithm was 0.47sec\n"
     ]
    },
    {
     "name": "stderr",
     "output_type": "stream",
     "text": [
      "2023-08-23 18:14:16,414 - c:\\Users\\JanMarco\\MLProjects\\Masterthesis\\masterthesis\\mthesis\\lib\\site-packages\\castle\\datasets\\simulator.py[line:270] - INFO: Finished synthetic dataset\n"
     ]
    },
    {
     "name": "stdout",
     "output_type": "stream",
     "text": [
      "Warning: n_edges is not exact due to gcastle implementation\n",
      "Duration of algorithm was 0.81sec\n"
     ]
    },
    {
     "name": "stderr",
     "output_type": "stream",
     "text": [
      "2023-08-23 18:14:27,183 - c:\\Users\\JanMarco\\MLProjects\\Masterthesis\\masterthesis\\mthesis\\lib\\site-packages\\castle\\datasets\\simulator.py[line:270] - INFO: Finished synthetic dataset\n"
     ]
    },
    {
     "name": "stdout",
     "output_type": "stream",
     "text": [
      "Warning: n_edges is not exact due to gcastle implementation\n",
      "Duration of algorithm was 0.52sec\n"
     ]
    },
    {
     "name": "stderr",
     "output_type": "stream",
     "text": [
      "2023-08-23 18:14:38,016 - c:\\Users\\JanMarco\\MLProjects\\Masterthesis\\masterthesis\\mthesis\\lib\\site-packages\\castle\\datasets\\simulator.py[line:270] - INFO: Finished synthetic dataset\n"
     ]
    },
    {
     "name": "stdout",
     "output_type": "stream",
     "text": [
      "Warning: n_edges is not exact due to gcastle implementation\n",
      "Duration of algorithm was 0.54sec\n"
     ]
    },
    {
     "name": "stderr",
     "output_type": "stream",
     "text": [
      "2023-08-23 18:14:48,111 - c:\\Users\\JanMarco\\MLProjects\\Masterthesis\\masterthesis\\mthesis\\lib\\site-packages\\castle\\datasets\\simulator.py[line:270] - INFO: Finished synthetic dataset\n"
     ]
    },
    {
     "name": "stdout",
     "output_type": "stream",
     "text": [
      "Warning: n_edges is not exact due to gcastle implementation\n",
      "Duration of algorithm was 0.73sec\n"
     ]
    },
    {
     "name": "stderr",
     "output_type": "stream",
     "text": [
      "2023-08-23 18:14:58,836 - c:\\Users\\JanMarco\\MLProjects\\Masterthesis\\masterthesis\\mthesis\\lib\\site-packages\\castle\\datasets\\simulator.py[line:270] - INFO: Finished synthetic dataset\n"
     ]
    },
    {
     "name": "stdout",
     "output_type": "stream",
     "text": [
      "Warning: n_edges is not exact due to gcastle implementation\n",
      "Duration of algorithm was 0.78sec\n"
     ]
    },
    {
     "name": "stderr",
     "output_type": "stream",
     "text": [
      "2023-08-23 18:15:10,466 - c:\\Users\\JanMarco\\MLProjects\\Masterthesis\\masterthesis\\mthesis\\lib\\site-packages\\castle\\datasets\\simulator.py[line:270] - INFO: Finished synthetic dataset\n"
     ]
    },
    {
     "name": "stdout",
     "output_type": "stream",
     "text": [
      "Warning: n_edges is not exact due to gcastle implementation\n",
      "Duration of algorithm was 0.85sec\n"
     ]
    },
    {
     "name": "stderr",
     "output_type": "stream",
     "text": [
      "2023-08-23 18:15:21,324 - c:\\Users\\JanMarco\\MLProjects\\Masterthesis\\masterthesis\\mthesis\\lib\\site-packages\\castle\\datasets\\simulator.py[line:270] - INFO: Finished synthetic dataset\n"
     ]
    },
    {
     "name": "stdout",
     "output_type": "stream",
     "text": [
      "Warning: n_edges is not exact due to gcastle implementation\n",
      "Duration of algorithm was 0.68sec\n"
     ]
    },
    {
     "name": "stderr",
     "output_type": "stream",
     "text": [
      "2023-08-23 18:15:31,908 - c:\\Users\\JanMarco\\MLProjects\\Masterthesis\\masterthesis\\mthesis\\lib\\site-packages\\castle\\datasets\\simulator.py[line:270] - INFO: Finished synthetic dataset\n"
     ]
    },
    {
     "name": "stdout",
     "output_type": "stream",
     "text": [
      "Warning: n_edges is not exact due to gcastle implementation\n",
      "Duration of algorithm was 1.19sec\n"
     ]
    },
    {
     "name": "stderr",
     "output_type": "stream",
     "text": [
      "2023-08-23 18:15:44,538 - c:\\Users\\JanMarco\\MLProjects\\Masterthesis\\masterthesis\\mthesis\\lib\\site-packages\\castle\\datasets\\simulator.py[line:270] - INFO: Finished synthetic dataset\n"
     ]
    },
    {
     "name": "stdout",
     "output_type": "stream",
     "text": [
      "Warning: n_edges is not exact due to gcastle implementation\n",
      "Duration of algorithm was 1.36sec\n"
     ]
    },
    {
     "name": "stderr",
     "output_type": "stream",
     "text": [
      "2023-08-23 18:15:56,962 - c:\\Users\\JanMarco\\MLProjects\\Masterthesis\\masterthesis\\mthesis\\lib\\site-packages\\castle\\datasets\\simulator.py[line:270] - INFO: Finished synthetic dataset\n"
     ]
    },
    {
     "name": "stdout",
     "output_type": "stream",
     "text": [
      "Warning: n_edges is not exact due to gcastle implementation\n",
      "Duration of algorithm was 0.26sec\n"
     ]
    },
    {
     "name": "stderr",
     "output_type": "stream",
     "text": [
      "2023-08-23 18:16:06,508 - c:\\Users\\JanMarco\\MLProjects\\Masterthesis\\masterthesis\\mthesis\\lib\\site-packages\\castle\\datasets\\simulator.py[line:270] - INFO: Finished synthetic dataset\n"
     ]
    },
    {
     "name": "stdout",
     "output_type": "stream",
     "text": [
      "Warning: n_edges is not exact due to gcastle implementation\n",
      "Duration of algorithm was 0.57sec\n"
     ]
    },
    {
     "name": "stderr",
     "output_type": "stream",
     "text": [
      "2023-08-23 18:16:16,814 - c:\\Users\\JanMarco\\MLProjects\\Masterthesis\\masterthesis\\mthesis\\lib\\site-packages\\castle\\datasets\\simulator.py[line:270] - INFO: Finished synthetic dataset\n"
     ]
    },
    {
     "name": "stdout",
     "output_type": "stream",
     "text": [
      "Warning: n_edges is not exact due to gcastle implementation\n",
      "Duration of algorithm was 0.44sec\n"
     ]
    },
    {
     "name": "stderr",
     "output_type": "stream",
     "text": [
      "2023-08-23 18:16:26,929 - c:\\Users\\JanMarco\\MLProjects\\Masterthesis\\masterthesis\\mthesis\\lib\\site-packages\\castle\\datasets\\simulator.py[line:270] - INFO: Finished synthetic dataset\n"
     ]
    },
    {
     "name": "stdout",
     "output_type": "stream",
     "text": [
      "Warning: n_edges is not exact due to gcastle implementation\n",
      "Duration of algorithm was 0.61sec\n"
     ]
    },
    {
     "name": "stderr",
     "output_type": "stream",
     "text": [
      "2023-08-23 18:16:37,303 - c:\\Users\\JanMarco\\MLProjects\\Masterthesis\\masterthesis\\mthesis\\lib\\site-packages\\castle\\datasets\\simulator.py[line:270] - INFO: Finished synthetic dataset\n"
     ]
    },
    {
     "name": "stdout",
     "output_type": "stream",
     "text": [
      "Warning: n_edges is not exact due to gcastle implementation\n",
      "Duration of algorithm was 0.52sec\n"
     ]
    },
    {
     "name": "stderr",
     "output_type": "stream",
     "text": [
      "2023-08-23 18:16:47,491 - c:\\Users\\JanMarco\\MLProjects\\Masterthesis\\masterthesis\\mthesis\\lib\\site-packages\\castle\\datasets\\simulator.py[line:270] - INFO: Finished synthetic dataset\n"
     ]
    },
    {
     "name": "stdout",
     "output_type": "stream",
     "text": [
      "Warning: n_edges is not exact due to gcastle implementation\n",
      "Duration of algorithm was 0.44sec\n"
     ]
    },
    {
     "name": "stderr",
     "output_type": "stream",
     "text": [
      "2023-08-23 18:16:57,451 - c:\\Users\\JanMarco\\MLProjects\\Masterthesis\\masterthesis\\mthesis\\lib\\site-packages\\castle\\datasets\\simulator.py[line:270] - INFO: Finished synthetic dataset\n"
     ]
    },
    {
     "name": "stdout",
     "output_type": "stream",
     "text": [
      "Warning: n_edges is not exact due to gcastle implementation\n",
      "Duration of algorithm was 0.83sec\n"
     ]
    },
    {
     "name": "stderr",
     "output_type": "stream",
     "text": [
      "2023-08-23 18:17:08,630 - c:\\Users\\JanMarco\\MLProjects\\Masterthesis\\masterthesis\\mthesis\\lib\\site-packages\\castle\\datasets\\simulator.py[line:270] - INFO: Finished synthetic dataset\n"
     ]
    },
    {
     "name": "stdout",
     "output_type": "stream",
     "text": [
      "Warning: n_edges is not exact due to gcastle implementation\n",
      "Duration of algorithm was 0.49sec\n"
     ]
    },
    {
     "name": "stderr",
     "output_type": "stream",
     "text": [
      "2023-08-23 18:17:19,291 - c:\\Users\\JanMarco\\MLProjects\\Masterthesis\\masterthesis\\mthesis\\lib\\site-packages\\castle\\datasets\\simulator.py[line:270] - INFO: Finished synthetic dataset\n"
     ]
    },
    {
     "name": "stdout",
     "output_type": "stream",
     "text": [
      "Warning: n_edges is not exact due to gcastle implementation\n",
      "Duration of algorithm was 0.74sec\n"
     ]
    },
    {
     "name": "stderr",
     "output_type": "stream",
     "text": [
      "2023-08-23 18:17:31,447 - c:\\Users\\JanMarco\\MLProjects\\Masterthesis\\masterthesis\\mthesis\\lib\\site-packages\\castle\\datasets\\simulator.py[line:270] - INFO: Finished synthetic dataset\n"
     ]
    },
    {
     "name": "stdout",
     "output_type": "stream",
     "text": [
      "Warning: n_edges is not exact due to gcastle implementation\n",
      "Duration of algorithm was 1.65sec\n"
     ]
    },
    {
     "name": "stderr",
     "output_type": "stream",
     "text": [
      "2023-08-23 18:17:44,285 - c:\\Users\\JanMarco\\MLProjects\\Masterthesis\\masterthesis\\mthesis\\lib\\site-packages\\castle\\datasets\\simulator.py[line:270] - INFO: Finished synthetic dataset\n"
     ]
    },
    {
     "name": "stdout",
     "output_type": "stream",
     "text": [
      "Warning: n_edges is not exact due to gcastle implementation\n",
      "Duration of algorithm was 0.93sec\n"
     ]
    },
    {
     "name": "stderr",
     "output_type": "stream",
     "text": [
      "2023-08-23 18:17:56,265 - c:\\Users\\JanMarco\\MLProjects\\Masterthesis\\masterthesis\\mthesis\\lib\\site-packages\\castle\\datasets\\simulator.py[line:270] - INFO: Finished synthetic dataset\n"
     ]
    },
    {
     "name": "stdout",
     "output_type": "stream",
     "text": [
      "Warning: n_edges is not exact due to gcastle implementation\n",
      "Duration of algorithm was 0.96sec\n"
     ]
    },
    {
     "name": "stderr",
     "output_type": "stream",
     "text": [
      "2023-08-23 18:18:07,653 - c:\\Users\\JanMarco\\MLProjects\\Masterthesis\\masterthesis\\mthesis\\lib\\site-packages\\castle\\datasets\\simulator.py[line:270] - INFO: Finished synthetic dataset\n"
     ]
    },
    {
     "name": "stdout",
     "output_type": "stream",
     "text": [
      "Warning: n_edges is not exact due to gcastle implementation\n",
      "Duration of algorithm was 0.61sec\n"
     ]
    },
    {
     "name": "stderr",
     "output_type": "stream",
     "text": [
      "2023-08-23 18:18:18,140 - c:\\Users\\JanMarco\\MLProjects\\Masterthesis\\masterthesis\\mthesis\\lib\\site-packages\\castle\\datasets\\simulator.py[line:270] - INFO: Finished synthetic dataset\n"
     ]
    },
    {
     "name": "stdout",
     "output_type": "stream",
     "text": [
      "Warning: n_edges is not exact due to gcastle implementation\n",
      "Duration of algorithm was 0.77sec\n"
     ]
    },
    {
     "name": "stderr",
     "output_type": "stream",
     "text": [
      "2023-08-23 18:18:28,636 - c:\\Users\\JanMarco\\MLProjects\\Masterthesis\\masterthesis\\mthesis\\lib\\site-packages\\castle\\datasets\\simulator.py[line:270] - INFO: Finished synthetic dataset\n"
     ]
    },
    {
     "name": "stdout",
     "output_type": "stream",
     "text": [
      "Warning: n_edges is not exact due to gcastle implementation\n",
      "Duration of algorithm was 0.78sec\n"
     ]
    },
    {
     "name": "stderr",
     "output_type": "stream",
     "text": [
      "2023-08-23 18:18:39,511 - c:\\Users\\JanMarco\\MLProjects\\Masterthesis\\masterthesis\\mthesis\\lib\\site-packages\\castle\\datasets\\simulator.py[line:270] - INFO: Finished synthetic dataset\n"
     ]
    },
    {
     "name": "stdout",
     "output_type": "stream",
     "text": [
      "Warning: n_edges is not exact due to gcastle implementation\n",
      "Duration of algorithm was 1.46sec\n"
     ]
    },
    {
     "name": "stderr",
     "output_type": "stream",
     "text": [
      "2023-08-23 18:18:51,581 - c:\\Users\\JanMarco\\MLProjects\\Masterthesis\\masterthesis\\mthesis\\lib\\site-packages\\castle\\datasets\\simulator.py[line:270] - INFO: Finished synthetic dataset\n"
     ]
    },
    {
     "name": "stdout",
     "output_type": "stream",
     "text": [
      "Warning: n_edges is not exact due to gcastle implementation\n",
      "Duration of algorithm was 1.55sec\n"
     ]
    },
    {
     "name": "stderr",
     "output_type": "stream",
     "text": [
      "2023-08-23 18:19:03,792 - c:\\Users\\JanMarco\\MLProjects\\Masterthesis\\masterthesis\\mthesis\\lib\\site-packages\\castle\\datasets\\simulator.py[line:270] - INFO: Finished synthetic dataset\n"
     ]
    },
    {
     "name": "stdout",
     "output_type": "stream",
     "text": [
      "Warning: n_edges is not exact due to gcastle implementation\n",
      "Duration of algorithm was 1.24sec\n"
     ]
    },
    {
     "name": "stderr",
     "output_type": "stream",
     "text": [
      "2023-08-23 18:19:15,321 - c:\\Users\\JanMarco\\MLProjects\\Masterthesis\\masterthesis\\mthesis\\lib\\site-packages\\castle\\datasets\\simulator.py[line:270] - INFO: Finished synthetic dataset\n"
     ]
    },
    {
     "name": "stdout",
     "output_type": "stream",
     "text": [
      "Warning: n_edges is not exact due to gcastle implementation\n",
      "Duration of algorithm was 1.66sec\n"
     ]
    },
    {
     "name": "stderr",
     "output_type": "stream",
     "text": [
      "2023-08-23 18:19:27,550 - c:\\Users\\JanMarco\\MLProjects\\Masterthesis\\masterthesis\\mthesis\\lib\\site-packages\\castle\\datasets\\simulator.py[line:270] - INFO: Finished synthetic dataset\n"
     ]
    },
    {
     "name": "stdout",
     "output_type": "stream",
     "text": [
      "Warning: n_edges is not exact due to gcastle implementation\n",
      "Duration of algorithm was 1.79sec\n"
     ]
    },
    {
     "name": "stderr",
     "output_type": "stream",
     "text": [
      "2023-08-23 18:19:40,289 - c:\\Users\\JanMarco\\MLProjects\\Masterthesis\\masterthesis\\mthesis\\lib\\site-packages\\castle\\datasets\\simulator.py[line:270] - INFO: Finished synthetic dataset\n"
     ]
    },
    {
     "name": "stdout",
     "output_type": "stream",
     "text": [
      "Warning: n_edges is not exact due to gcastle implementation\n",
      "Duration of algorithm was 1.97sec\n"
     ]
    },
    {
     "name": "stderr",
     "output_type": "stream",
     "text": [
      "2023-08-23 18:19:53,079 - c:\\Users\\JanMarco\\MLProjects\\Masterthesis\\masterthesis\\mthesis\\lib\\site-packages\\castle\\datasets\\simulator.py[line:270] - INFO: Finished synthetic dataset\n"
     ]
    },
    {
     "name": "stdout",
     "output_type": "stream",
     "text": [
      "Warning: n_edges is not exact due to gcastle implementation\n",
      "Duration of algorithm was 3.20sec\n"
     ]
    },
    {
     "name": "stderr",
     "output_type": "stream",
     "text": [
      "2023-08-23 18:20:08,610 - c:\\Users\\JanMarco\\MLProjects\\Masterthesis\\masterthesis\\mthesis\\lib\\site-packages\\castle\\datasets\\simulator.py[line:270] - INFO: Finished synthetic dataset\n"
     ]
    },
    {
     "name": "stdout",
     "output_type": "stream",
     "text": [
      "Warning: n_edges is not exact due to gcastle implementation\n",
      "Duration of algorithm was 2.77sec\n"
     ]
    },
    {
     "name": "stderr",
     "output_type": "stream",
     "text": [
      "2023-08-23 18:21:04,212 - c:\\Users\\JanMarco\\MLProjects\\Masterthesis\\masterthesis\\mthesis\\lib\\site-packages\\castle\\datasets\\simulator.py[line:270] - INFO: Finished synthetic dataset\n"
     ]
    },
    {
     "name": "stdout",
     "output_type": "stream",
     "text": [
      "Warning: n_edges is not exact due to gcastle implementation\n",
      "Duration of algorithm was 2.50sec\n"
     ]
    },
    {
     "name": "stderr",
     "output_type": "stream",
     "text": [
      "2023-08-23 18:31:42,275 - c:\\Users\\JanMarco\\MLProjects\\Masterthesis\\masterthesis\\mthesis\\lib\\site-packages\\castle\\datasets\\simulator.py[line:270] - INFO: Finished synthetic dataset\n"
     ]
    },
    {
     "name": "stdout",
     "output_type": "stream",
     "text": [
      "Warning: n_edges is not exact due to gcastle implementation\n",
      "Duration of algorithm was 0.51sec\n"
     ]
    },
    {
     "name": "stderr",
     "output_type": "stream",
     "text": [
      "2023-08-23 18:31:52,175 - c:\\Users\\JanMarco\\MLProjects\\Masterthesis\\masterthesis\\mthesis\\lib\\site-packages\\castle\\datasets\\simulator.py[line:270] - INFO: Finished synthetic dataset\n"
     ]
    },
    {
     "name": "stdout",
     "output_type": "stream",
     "text": [
      "Warning: n_edges is not exact due to gcastle implementation\n",
      "Duration of algorithm was 0.67sec\n"
     ]
    },
    {
     "name": "stderr",
     "output_type": "stream",
     "text": [
      "2023-08-23 18:32:03,698 - c:\\Users\\JanMarco\\MLProjects\\Masterthesis\\masterthesis\\mthesis\\lib\\site-packages\\castle\\datasets\\simulator.py[line:270] - INFO: Finished synthetic dataset\n"
     ]
    },
    {
     "name": "stdout",
     "output_type": "stream",
     "text": [
      "Warning: n_edges is not exact due to gcastle implementation\n",
      "Duration of algorithm was 0.90sec\n"
     ]
    },
    {
     "name": "stderr",
     "output_type": "stream",
     "text": [
      "2023-08-23 18:32:15,600 - c:\\Users\\JanMarco\\MLProjects\\Masterthesis\\masterthesis\\mthesis\\lib\\site-packages\\castle\\datasets\\simulator.py[line:270] - INFO: Finished synthetic dataset\n"
     ]
    },
    {
     "name": "stdout",
     "output_type": "stream",
     "text": [
      "Warning: n_edges is not exact due to gcastle implementation\n",
      "Duration of algorithm was 1.20sec\n"
     ]
    },
    {
     "name": "stderr",
     "output_type": "stream",
     "text": [
      "2023-08-23 18:32:31,195 - c:\\Users\\JanMarco\\MLProjects\\Masterthesis\\masterthesis\\mthesis\\lib\\site-packages\\castle\\datasets\\simulator.py[line:270] - INFO: Finished synthetic dataset\n"
     ]
    },
    {
     "name": "stdout",
     "output_type": "stream",
     "text": [
      "Warning: n_edges is not exact due to gcastle implementation\n",
      "Duration of algorithm was 1.44sec\n"
     ]
    },
    {
     "name": "stderr",
     "output_type": "stream",
     "text": [
      "2023-08-23 18:32:42,452 - c:\\Users\\JanMarco\\MLProjects\\Masterthesis\\masterthesis\\mthesis\\lib\\site-packages\\castle\\datasets\\simulator.py[line:270] - INFO: Finished synthetic dataset\n"
     ]
    },
    {
     "name": "stdout",
     "output_type": "stream",
     "text": [
      "Warning: n_edges is not exact due to gcastle implementation\n",
      "Duration of algorithm was 1.37sec\n"
     ]
    },
    {
     "name": "stderr",
     "output_type": "stream",
     "text": [
      "2023-08-23 18:32:54,387 - c:\\Users\\JanMarco\\MLProjects\\Masterthesis\\masterthesis\\mthesis\\lib\\site-packages\\castle\\datasets\\simulator.py[line:270] - INFO: Finished synthetic dataset\n"
     ]
    },
    {
     "name": "stdout",
     "output_type": "stream",
     "text": [
      "Warning: n_edges is not exact due to gcastle implementation\n",
      "Duration of algorithm was 2.96sec\n"
     ]
    },
    {
     "name": "stderr",
     "output_type": "stream",
     "text": [
      "2023-08-23 18:33:07,743 - c:\\Users\\JanMarco\\MLProjects\\Masterthesis\\masterthesis\\mthesis\\lib\\site-packages\\castle\\datasets\\simulator.py[line:270] - INFO: Finished synthetic dataset\n"
     ]
    },
    {
     "name": "stdout",
     "output_type": "stream",
     "text": [
      "Warning: n_edges is not exact due to gcastle implementation\n",
      "Duration of algorithm was 1.61sec\n"
     ]
    },
    {
     "name": "stderr",
     "output_type": "stream",
     "text": [
      "2023-08-23 18:33:19,874 - c:\\Users\\JanMarco\\MLProjects\\Masterthesis\\masterthesis\\mthesis\\lib\\site-packages\\castle\\datasets\\simulator.py[line:270] - INFO: Finished synthetic dataset\n"
     ]
    },
    {
     "name": "stdout",
     "output_type": "stream",
     "text": [
      "Warning: n_edges is not exact due to gcastle implementation\n",
      "Duration of algorithm was 1.72sec\n"
     ]
    },
    {
     "name": "stderr",
     "output_type": "stream",
     "text": [
      "2023-08-23 18:33:32,178 - c:\\Users\\JanMarco\\MLProjects\\Masterthesis\\masterthesis\\mthesis\\lib\\site-packages\\castle\\datasets\\simulator.py[line:270] - INFO: Finished synthetic dataset\n"
     ]
    },
    {
     "name": "stdout",
     "output_type": "stream",
     "text": [
      "Warning: n_edges is not exact due to gcastle implementation\n",
      "Duration of algorithm was 2.79sec\n"
     ]
    },
    {
     "name": "stderr",
     "output_type": "stream",
     "text": [
      "2023-08-23 18:33:46,784 - c:\\Users\\JanMarco\\MLProjects\\Masterthesis\\masterthesis\\mthesis\\lib\\site-packages\\castle\\datasets\\simulator.py[line:270] - INFO: Finished synthetic dataset\n"
     ]
    },
    {
     "name": "stdout",
     "output_type": "stream",
     "text": [
      "Warning: n_edges is not exact due to gcastle implementation\n",
      "Duration of algorithm was 2.53sec\n"
     ]
    },
    {
     "name": "stderr",
     "output_type": "stream",
     "text": [
      "2023-08-23 18:34:02,484 - c:\\Users\\JanMarco\\MLProjects\\Masterthesis\\masterthesis\\mthesis\\lib\\site-packages\\castle\\datasets\\simulator.py[line:270] - INFO: Finished synthetic dataset\n"
     ]
    },
    {
     "name": "stdout",
     "output_type": "stream",
     "text": [
      "Warning: n_edges is not exact due to gcastle implementation\n",
      "Duration of algorithm was 2.88sec\n"
     ]
    },
    {
     "name": "stderr",
     "output_type": "stream",
     "text": [
      "2023-08-23 18:34:18,291 - c:\\Users\\JanMarco\\MLProjects\\Masterthesis\\masterthesis\\mthesis\\lib\\site-packages\\castle\\datasets\\simulator.py[line:270] - INFO: Finished synthetic dataset\n"
     ]
    },
    {
     "name": "stdout",
     "output_type": "stream",
     "text": [
      "Warning: n_edges is not exact due to gcastle implementation\n",
      "Duration of algorithm was 0.59sec\n"
     ]
    },
    {
     "name": "stderr",
     "output_type": "stream",
     "text": [
      "2023-08-23 18:34:28,450 - c:\\Users\\JanMarco\\MLProjects\\Masterthesis\\masterthesis\\mthesis\\lib\\site-packages\\castle\\datasets\\simulator.py[line:270] - INFO: Finished synthetic dataset\n"
     ]
    },
    {
     "name": "stdout",
     "output_type": "stream",
     "text": [
      "Warning: n_edges is not exact due to gcastle implementation\n",
      "Duration of algorithm was 0.42sec\n"
     ]
    },
    {
     "name": "stderr",
     "output_type": "stream",
     "text": [
      "2023-08-23 18:34:38,467 - c:\\Users\\JanMarco\\MLProjects\\Masterthesis\\masterthesis\\mthesis\\lib\\site-packages\\castle\\datasets\\simulator.py[line:270] - INFO: Finished synthetic dataset\n"
     ]
    },
    {
     "name": "stdout",
     "output_type": "stream",
     "text": [
      "Warning: n_edges is not exact due to gcastle implementation\n",
      "Duration of algorithm was 0.51sec\n"
     ]
    },
    {
     "name": "stderr",
     "output_type": "stream",
     "text": [
      "2023-08-23 18:34:48,618 - c:\\Users\\JanMarco\\MLProjects\\Masterthesis\\masterthesis\\mthesis\\lib\\site-packages\\castle\\datasets\\simulator.py[line:270] - INFO: Finished synthetic dataset\n"
     ]
    },
    {
     "name": "stdout",
     "output_type": "stream",
     "text": [
      "Warning: n_edges is not exact due to gcastle implementation\n",
      "Duration of algorithm was 0.63sec\n"
     ]
    },
    {
     "name": "stderr",
     "output_type": "stream",
     "text": [
      "2023-08-23 18:34:58,804 - c:\\Users\\JanMarco\\MLProjects\\Masterthesis\\masterthesis\\mthesis\\lib\\site-packages\\castle\\datasets\\simulator.py[line:270] - INFO: Finished synthetic dataset\n"
     ]
    },
    {
     "name": "stdout",
     "output_type": "stream",
     "text": [
      "Warning: n_edges is not exact due to gcastle implementation\n",
      "Duration of algorithm was 0.60sec\n"
     ]
    },
    {
     "name": "stderr",
     "output_type": "stream",
     "text": [
      "2023-08-23 18:35:09,030 - c:\\Users\\JanMarco\\MLProjects\\Masterthesis\\masterthesis\\mthesis\\lib\\site-packages\\castle\\datasets\\simulator.py[line:270] - INFO: Finished synthetic dataset\n"
     ]
    },
    {
     "name": "stdout",
     "output_type": "stream",
     "text": [
      "Warning: n_edges is not exact due to gcastle implementation\n",
      "Duration of algorithm was 0.88sec\n"
     ]
    },
    {
     "name": "stderr",
     "output_type": "stream",
     "text": [
      "2023-08-23 18:35:19,889 - c:\\Users\\JanMarco\\MLProjects\\Masterthesis\\masterthesis\\mthesis\\lib\\site-packages\\castle\\datasets\\simulator.py[line:270] - INFO: Finished synthetic dataset\n"
     ]
    },
    {
     "name": "stdout",
     "output_type": "stream",
     "text": [
      "Warning: n_edges is not exact due to gcastle implementation\n",
      "Duration of algorithm was 0.74sec\n"
     ]
    },
    {
     "name": "stderr",
     "output_type": "stream",
     "text": [
      "2023-08-23 18:35:30,059 - c:\\Users\\JanMarco\\MLProjects\\Masterthesis\\masterthesis\\mthesis\\lib\\site-packages\\castle\\datasets\\simulator.py[line:270] - INFO: Finished synthetic dataset\n"
     ]
    },
    {
     "name": "stdout",
     "output_type": "stream",
     "text": [
      "Warning: n_edges is not exact due to gcastle implementation\n",
      "Duration of algorithm was 1.23sec\n"
     ]
    },
    {
     "name": "stderr",
     "output_type": "stream",
     "text": [
      "2023-08-23 18:35:41,747 - c:\\Users\\JanMarco\\MLProjects\\Masterthesis\\masterthesis\\mthesis\\lib\\site-packages\\castle\\datasets\\simulator.py[line:270] - INFO: Finished synthetic dataset\n"
     ]
    },
    {
     "name": "stdout",
     "output_type": "stream",
     "text": [
      "Warning: n_edges is not exact due to gcastle implementation\n",
      "Duration of algorithm was 0.84sec\n"
     ]
    },
    {
     "name": "stderr",
     "output_type": "stream",
     "text": [
      "2023-08-23 18:35:52,600 - c:\\Users\\JanMarco\\MLProjects\\Masterthesis\\masterthesis\\mthesis\\lib\\site-packages\\castle\\datasets\\simulator.py[line:270] - INFO: Finished synthetic dataset\n"
     ]
    },
    {
     "name": "stdout",
     "output_type": "stream",
     "text": [
      "Warning: n_edges is not exact due to gcastle implementation\n",
      "Duration of algorithm was 1.47sec\n"
     ]
    },
    {
     "name": "stderr",
     "output_type": "stream",
     "text": [
      "2023-08-23 18:36:04,665 - c:\\Users\\JanMarco\\MLProjects\\Masterthesis\\masterthesis\\mthesis\\lib\\site-packages\\castle\\datasets\\simulator.py[line:270] - INFO: Finished synthetic dataset\n"
     ]
    },
    {
     "name": "stdout",
     "output_type": "stream",
     "text": [
      "Warning: n_edges is not exact due to gcastle implementation\n",
      "Duration of algorithm was 1.27sec\n"
     ]
    },
    {
     "name": "stderr",
     "output_type": "stream",
     "text": [
      "2023-08-23 18:36:16,714 - c:\\Users\\JanMarco\\MLProjects\\Masterthesis\\masterthesis\\mthesis\\lib\\site-packages\\castle\\datasets\\simulator.py[line:270] - INFO: Finished synthetic dataset\n"
     ]
    },
    {
     "name": "stdout",
     "output_type": "stream",
     "text": [
      "Warning: n_edges is not exact due to gcastle implementation\n",
      "Duration of algorithm was 1.67sec\n"
     ]
    },
    {
     "name": "stderr",
     "output_type": "stream",
     "text": [
      "2023-08-23 18:36:29,354 - c:\\Users\\JanMarco\\MLProjects\\Masterthesis\\masterthesis\\mthesis\\lib\\site-packages\\castle\\datasets\\simulator.py[line:270] - INFO: Finished synthetic dataset\n"
     ]
    },
    {
     "name": "stdout",
     "output_type": "stream",
     "text": [
      "Warning: n_edges is not exact due to gcastle implementation\n",
      "Duration of algorithm was 0.37sec\n"
     ]
    },
    {
     "name": "stderr",
     "output_type": "stream",
     "text": [
      "2023-08-23 18:36:39,167 - c:\\Users\\JanMarco\\MLProjects\\Masterthesis\\masterthesis\\mthesis\\lib\\site-packages\\castle\\datasets\\simulator.py[line:270] - INFO: Finished synthetic dataset\n"
     ]
    },
    {
     "name": "stdout",
     "output_type": "stream",
     "text": [
      "Warning: n_edges is not exact due to gcastle implementation\n",
      "Duration of algorithm was 0.49sec\n"
     ]
    },
    {
     "name": "stderr",
     "output_type": "stream",
     "text": [
      "2023-08-23 18:36:49,232 - c:\\Users\\JanMarco\\MLProjects\\Masterthesis\\masterthesis\\mthesis\\lib\\site-packages\\castle\\datasets\\simulator.py[line:270] - INFO: Finished synthetic dataset\n"
     ]
    },
    {
     "name": "stdout",
     "output_type": "stream",
     "text": [
      "Warning: n_edges is not exact due to gcastle implementation\n",
      "Duration of algorithm was 0.58sec\n"
     ]
    },
    {
     "name": "stderr",
     "output_type": "stream",
     "text": [
      "2023-08-23 18:36:59,667 - c:\\Users\\JanMarco\\MLProjects\\Masterthesis\\masterthesis\\mthesis\\lib\\site-packages\\castle\\datasets\\simulator.py[line:270] - INFO: Finished synthetic dataset\n"
     ]
    },
    {
     "name": "stdout",
     "output_type": "stream",
     "text": [
      "Warning: n_edges is not exact due to gcastle implementation\n",
      "Duration of algorithm was 0.44sec\n"
     ]
    },
    {
     "name": "stderr",
     "output_type": "stream",
     "text": [
      "2023-08-23 18:37:09,679 - c:\\Users\\JanMarco\\MLProjects\\Masterthesis\\masterthesis\\mthesis\\lib\\site-packages\\castle\\datasets\\simulator.py[line:270] - INFO: Finished synthetic dataset\n"
     ]
    },
    {
     "name": "stdout",
     "output_type": "stream",
     "text": [
      "Warning: n_edges is not exact due to gcastle implementation\n",
      "Duration of algorithm was 0.53sec\n"
     ]
    },
    {
     "name": "stderr",
     "output_type": "stream",
     "text": [
      "2023-08-23 18:37:20,065 - c:\\Users\\JanMarco\\MLProjects\\Masterthesis\\masterthesis\\mthesis\\lib\\site-packages\\castle\\datasets\\simulator.py[line:270] - INFO: Finished synthetic dataset\n"
     ]
    },
    {
     "name": "stdout",
     "output_type": "stream",
     "text": [
      "Warning: n_edges is not exact due to gcastle implementation\n",
      "Duration of algorithm was 0.79sec\n"
     ]
    },
    {
     "name": "stderr",
     "output_type": "stream",
     "text": [
      "2023-08-23 18:37:30,920 - c:\\Users\\JanMarco\\MLProjects\\Masterthesis\\masterthesis\\mthesis\\lib\\site-packages\\castle\\datasets\\simulator.py[line:270] - INFO: Finished synthetic dataset\n"
     ]
    },
    {
     "name": "stdout",
     "output_type": "stream",
     "text": [
      "Warning: n_edges is not exact due to gcastle implementation\n",
      "Duration of algorithm was 0.77sec\n"
     ]
    },
    {
     "name": "stderr",
     "output_type": "stream",
     "text": [
      "2023-08-23 18:37:41,690 - c:\\Users\\JanMarco\\MLProjects\\Masterthesis\\masterthesis\\mthesis\\lib\\site-packages\\castle\\datasets\\simulator.py[line:270] - INFO: Finished synthetic dataset\n"
     ]
    },
    {
     "name": "stdout",
     "output_type": "stream",
     "text": [
      "Warning: n_edges is not exact due to gcastle implementation\n",
      "Duration of algorithm was 1.01sec\n"
     ]
    },
    {
     "name": "stderr",
     "output_type": "stream",
     "text": [
      "2023-08-23 18:37:53,028 - c:\\Users\\JanMarco\\MLProjects\\Masterthesis\\masterthesis\\mthesis\\lib\\site-packages\\castle\\datasets\\simulator.py[line:270] - INFO: Finished synthetic dataset\n"
     ]
    },
    {
     "name": "stdout",
     "output_type": "stream",
     "text": [
      "Warning: n_edges is not exact due to gcastle implementation\n",
      "Duration of algorithm was 0.50sec\n"
     ]
    },
    {
     "name": "stderr",
     "output_type": "stream",
     "text": [
      "2023-08-23 18:38:03,178 - c:\\Users\\JanMarco\\MLProjects\\Masterthesis\\masterthesis\\mthesis\\lib\\site-packages\\castle\\datasets\\simulator.py[line:270] - INFO: Finished synthetic dataset\n"
     ]
    },
    {
     "name": "stdout",
     "output_type": "stream",
     "text": [
      "Warning: n_edges is not exact due to gcastle implementation\n",
      "Duration of algorithm was 1.29sec\n"
     ]
    },
    {
     "name": "stderr",
     "output_type": "stream",
     "text": [
      "2023-08-23 18:38:15,452 - c:\\Users\\JanMarco\\MLProjects\\Masterthesis\\masterthesis\\mthesis\\lib\\site-packages\\castle\\datasets\\simulator.py[line:270] - INFO: Finished synthetic dataset\n"
     ]
    },
    {
     "name": "stdout",
     "output_type": "stream",
     "text": [
      "Warning: n_edges is not exact due to gcastle implementation\n",
      "Duration of algorithm was 1.50sec\n"
     ]
    },
    {
     "name": "stderr",
     "output_type": "stream",
     "text": [
      "2023-08-23 18:38:28,145 - c:\\Users\\JanMarco\\MLProjects\\Masterthesis\\masterthesis\\mthesis\\lib\\site-packages\\castle\\datasets\\simulator.py[line:270] - INFO: Finished synthetic dataset\n"
     ]
    },
    {
     "name": "stdout",
     "output_type": "stream",
     "text": [
      "Warning: n_edges is not exact due to gcastle implementation\n",
      "Duration of algorithm was 1.25sec\n"
     ]
    },
    {
     "name": "stderr",
     "output_type": "stream",
     "text": [
      "2023-08-23 18:38:39,829 - c:\\Users\\JanMarco\\MLProjects\\Masterthesis\\masterthesis\\mthesis\\lib\\site-packages\\castle\\datasets\\simulator.py[line:270] - INFO: Finished synthetic dataset\n"
     ]
    },
    {
     "name": "stdout",
     "output_type": "stream",
     "text": [
      "Warning: n_edges is not exact due to gcastle implementation\n",
      "Duration of algorithm was 0.27sec\n"
     ]
    },
    {
     "name": "stderr",
     "output_type": "stream",
     "text": [
      "2023-08-23 18:38:49,331 - c:\\Users\\JanMarco\\MLProjects\\Masterthesis\\masterthesis\\mthesis\\lib\\site-packages\\castle\\datasets\\simulator.py[line:270] - INFO: Finished synthetic dataset\n"
     ]
    },
    {
     "name": "stdout",
     "output_type": "stream",
     "text": [
      "Warning: n_edges is not exact due to gcastle implementation\n",
      "Duration of algorithm was 0.56sec\n"
     ]
    },
    {
     "name": "stderr",
     "output_type": "stream",
     "text": [
      "2023-08-23 18:39:01,893 - c:\\Users\\JanMarco\\MLProjects\\Masterthesis\\masterthesis\\mthesis\\lib\\site-packages\\castle\\datasets\\simulator.py[line:270] - INFO: Finished synthetic dataset\n"
     ]
    },
    {
     "name": "stdout",
     "output_type": "stream",
     "text": [
      "Warning: n_edges is not exact due to gcastle implementation\n",
      "Duration of algorithm was 0.35sec\n"
     ]
    },
    {
     "name": "stderr",
     "output_type": "stream",
     "text": [
      "2023-08-23 18:39:12,067 - c:\\Users\\JanMarco\\MLProjects\\Masterthesis\\masterthesis\\mthesis\\lib\\site-packages\\castle\\datasets\\simulator.py[line:270] - INFO: Finished synthetic dataset\n"
     ]
    },
    {
     "name": "stdout",
     "output_type": "stream",
     "text": [
      "Warning: n_edges is not exact due to gcastle implementation\n",
      "Duration of algorithm was 0.63sec\n"
     ]
    },
    {
     "name": "stderr",
     "output_type": "stream",
     "text": [
      "2023-08-23 18:39:27,987 - c:\\Users\\JanMarco\\MLProjects\\Masterthesis\\masterthesis\\mthesis\\lib\\site-packages\\castle\\datasets\\simulator.py[line:270] - INFO: Finished synthetic dataset\n"
     ]
    },
    {
     "name": "stdout",
     "output_type": "stream",
     "text": [
      "Warning: n_edges is not exact due to gcastle implementation\n",
      "Duration of algorithm was 0.41sec\n"
     ]
    },
    {
     "name": "stderr",
     "output_type": "stream",
     "text": [
      "2023-08-23 18:39:37,822 - c:\\Users\\JanMarco\\MLProjects\\Masterthesis\\masterthesis\\mthesis\\lib\\site-packages\\castle\\datasets\\simulator.py[line:270] - INFO: Finished synthetic dataset\n"
     ]
    },
    {
     "name": "stdout",
     "output_type": "stream",
     "text": [
      "Warning: n_edges is not exact due to gcastle implementation\n",
      "Duration of algorithm was 0.51sec\n"
     ]
    },
    {
     "name": "stderr",
     "output_type": "stream",
     "text": [
      "2023-08-23 18:39:47,960 - c:\\Users\\JanMarco\\MLProjects\\Masterthesis\\masterthesis\\mthesis\\lib\\site-packages\\castle\\datasets\\simulator.py[line:270] - INFO: Finished synthetic dataset\n"
     ]
    },
    {
     "name": "stdout",
     "output_type": "stream",
     "text": [
      "Warning: n_edges is not exact due to gcastle implementation\n",
      "Duration of algorithm was 0.83sec\n"
     ]
    },
    {
     "name": "stderr",
     "output_type": "stream",
     "text": [
      "2023-08-23 18:39:58,589 - c:\\Users\\JanMarco\\MLProjects\\Masterthesis\\masterthesis\\mthesis\\lib\\site-packages\\castle\\datasets\\simulator.py[line:270] - INFO: Finished synthetic dataset\n"
     ]
    },
    {
     "name": "stdout",
     "output_type": "stream",
     "text": [
      "Warning: n_edges is not exact due to gcastle implementation\n",
      "Duration of algorithm was 0.48sec\n"
     ]
    },
    {
     "name": "stderr",
     "output_type": "stream",
     "text": [
      "2023-08-23 18:40:08,614 - c:\\Users\\JanMarco\\MLProjects\\Masterthesis\\masterthesis\\mthesis\\lib\\site-packages\\castle\\datasets\\simulator.py[line:270] - INFO: Finished synthetic dataset\n"
     ]
    },
    {
     "name": "stdout",
     "output_type": "stream",
     "text": [
      "Warning: n_edges is not exact due to gcastle implementation\n",
      "Duration of algorithm was 1.19sec\n"
     ]
    },
    {
     "name": "stderr",
     "output_type": "stream",
     "text": [
      "2023-08-23 18:40:20,098 - c:\\Users\\JanMarco\\MLProjects\\Masterthesis\\masterthesis\\mthesis\\lib\\site-packages\\castle\\datasets\\simulator.py[line:270] - INFO: Finished synthetic dataset\n"
     ]
    },
    {
     "name": "stdout",
     "output_type": "stream",
     "text": [
      "Warning: n_edges is not exact due to gcastle implementation\n",
      "Duration of algorithm was 1.31sec\n"
     ]
    },
    {
     "name": "stderr",
     "output_type": "stream",
     "text": [
      "2023-08-23 18:40:38,456 - c:\\Users\\JanMarco\\MLProjects\\Masterthesis\\masterthesis\\mthesis\\lib\\site-packages\\castle\\datasets\\simulator.py[line:270] - INFO: Finished synthetic dataset\n"
     ]
    },
    {
     "name": "stdout",
     "output_type": "stream",
     "text": [
      "Warning: n_edges is not exact due to gcastle implementation\n",
      "Duration of algorithm was 1.30sec\n"
     ]
    },
    {
     "name": "stderr",
     "output_type": "stream",
     "text": [
      "2023-08-23 18:40:50,522 - c:\\Users\\JanMarco\\MLProjects\\Masterthesis\\masterthesis\\mthesis\\lib\\site-packages\\castle\\datasets\\simulator.py[line:270] - INFO: Finished synthetic dataset\n"
     ]
    },
    {
     "name": "stdout",
     "output_type": "stream",
     "text": [
      "Warning: n_edges is not exact due to gcastle implementation\n",
      "Duration of algorithm was 1.06sec\n"
     ]
    },
    {
     "name": "stderr",
     "output_type": "stream",
     "text": [
      "2023-08-23 18:41:01,970 - c:\\Users\\JanMarco\\MLProjects\\Masterthesis\\masterthesis\\mthesis\\lib\\site-packages\\castle\\datasets\\simulator.py[line:270] - INFO: Finished synthetic dataset\n"
     ]
    },
    {
     "name": "stdout",
     "output_type": "stream",
     "text": [
      "Warning: n_edges is not exact due to gcastle implementation\n",
      "Duration of algorithm was 0.40sec\n"
     ]
    },
    {
     "name": "stderr",
     "output_type": "stream",
     "text": [
      "2023-08-23 18:41:11,717 - c:\\Users\\JanMarco\\MLProjects\\Masterthesis\\masterthesis\\mthesis\\lib\\site-packages\\castle\\datasets\\simulator.py[line:270] - INFO: Finished synthetic dataset\n"
     ]
    },
    {
     "name": "stdout",
     "output_type": "stream",
     "text": [
      "Warning: n_edges is not exact due to gcastle implementation\n",
      "Duration of algorithm was 0.34sec\n"
     ]
    },
    {
     "name": "stderr",
     "output_type": "stream",
     "text": [
      "2023-08-23 18:41:21,871 - c:\\Users\\JanMarco\\MLProjects\\Masterthesis\\masterthesis\\mthesis\\lib\\site-packages\\castle\\datasets\\simulator.py[line:270] - INFO: Finished synthetic dataset\n"
     ]
    },
    {
     "name": "stdout",
     "output_type": "stream",
     "text": [
      "Warning: n_edges is not exact due to gcastle implementation\n",
      "Duration of algorithm was 0.30sec\n"
     ]
    },
    {
     "name": "stderr",
     "output_type": "stream",
     "text": [
      "2023-08-23 18:41:31,541 - c:\\Users\\JanMarco\\MLProjects\\Masterthesis\\masterthesis\\mthesis\\lib\\site-packages\\castle\\datasets\\simulator.py[line:270] - INFO: Finished synthetic dataset\n"
     ]
    },
    {
     "name": "stdout",
     "output_type": "stream",
     "text": [
      "Warning: n_edges is not exact due to gcastle implementation\n",
      "Duration of algorithm was 0.54sec\n"
     ]
    },
    {
     "name": "stderr",
     "output_type": "stream",
     "text": [
      "2023-08-23 18:41:42,369 - c:\\Users\\JanMarco\\MLProjects\\Masterthesis\\masterthesis\\mthesis\\lib\\site-packages\\castle\\datasets\\simulator.py[line:270] - INFO: Finished synthetic dataset\n"
     ]
    },
    {
     "name": "stdout",
     "output_type": "stream",
     "text": [
      "Warning: n_edges is not exact due to gcastle implementation\n",
      "Duration of algorithm was 0.59sec\n"
     ]
    },
    {
     "name": "stderr",
     "output_type": "stream",
     "text": [
      "2023-08-23 18:41:52,582 - c:\\Users\\JanMarco\\MLProjects\\Masterthesis\\masterthesis\\mthesis\\lib\\site-packages\\castle\\datasets\\simulator.py[line:270] - INFO: Finished synthetic dataset\n"
     ]
    },
    {
     "name": "stdout",
     "output_type": "stream",
     "text": [
      "Warning: n_edges is not exact due to gcastle implementation\n",
      "Duration of algorithm was 0.76sec\n"
     ]
    },
    {
     "name": "stderr",
     "output_type": "stream",
     "text": [
      "2023-08-23 18:42:03,791 - c:\\Users\\JanMarco\\MLProjects\\Masterthesis\\masterthesis\\mthesis\\lib\\site-packages\\castle\\datasets\\simulator.py[line:270] - INFO: Finished synthetic dataset\n"
     ]
    },
    {
     "name": "stdout",
     "output_type": "stream",
     "text": [
      "Warning: n_edges is not exact due to gcastle implementation\n",
      "Duration of algorithm was 0.46sec\n"
     ]
    },
    {
     "name": "stderr",
     "output_type": "stream",
     "text": [
      "2023-08-23 18:42:14,290 - c:\\Users\\JanMarco\\MLProjects\\Masterthesis\\masterthesis\\mthesis\\lib\\site-packages\\castle\\datasets\\simulator.py[line:270] - INFO: Finished synthetic dataset\n"
     ]
    },
    {
     "name": "stdout",
     "output_type": "stream",
     "text": [
      "Warning: n_edges is not exact due to gcastle implementation\n",
      "Duration of algorithm was 0.97sec\n"
     ]
    },
    {
     "name": "stderr",
     "output_type": "stream",
     "text": [
      "2023-08-23 18:42:25,200 - c:\\Users\\JanMarco\\MLProjects\\Masterthesis\\masterthesis\\mthesis\\lib\\site-packages\\castle\\datasets\\simulator.py[line:270] - INFO: Finished synthetic dataset\n"
     ]
    },
    {
     "name": "stdout",
     "output_type": "stream",
     "text": [
      "Warning: n_edges is not exact due to gcastle implementation\n",
      "Duration of algorithm was 0.74sec\n"
     ]
    },
    {
     "name": "stderr",
     "output_type": "stream",
     "text": [
      "2023-08-23 18:42:36,228 - c:\\Users\\JanMarco\\MLProjects\\Masterthesis\\masterthesis\\mthesis\\lib\\site-packages\\castle\\datasets\\simulator.py[line:270] - INFO: Finished synthetic dataset\n"
     ]
    },
    {
     "name": "stdout",
     "output_type": "stream",
     "text": [
      "Warning: n_edges is not exact due to gcastle implementation\n",
      "Duration of algorithm was 0.96sec\n"
     ]
    },
    {
     "name": "stderr",
     "output_type": "stream",
     "text": [
      "2023-08-23 18:42:49,176 - c:\\Users\\JanMarco\\MLProjects\\Masterthesis\\masterthesis\\mthesis\\lib\\site-packages\\castle\\datasets\\simulator.py[line:270] - INFO: Finished synthetic dataset\n"
     ]
    },
    {
     "name": "stdout",
     "output_type": "stream",
     "text": [
      "Warning: n_edges is not exact due to gcastle implementation\n",
      "Duration of algorithm was 0.93sec\n"
     ]
    },
    {
     "name": "stderr",
     "output_type": "stream",
     "text": [
      "2023-08-23 18:43:00,542 - c:\\Users\\JanMarco\\MLProjects\\Masterthesis\\masterthesis\\mthesis\\lib\\site-packages\\castle\\datasets\\simulator.py[line:270] - INFO: Finished synthetic dataset\n"
     ]
    },
    {
     "name": "stdout",
     "output_type": "stream",
     "text": [
      "Warning: n_edges is not exact due to gcastle implementation\n",
      "Duration of algorithm was 1.23sec\n"
     ]
    },
    {
     "name": "stderr",
     "output_type": "stream",
     "text": [
      "2023-08-23 18:43:19,099 - c:\\Users\\JanMarco\\MLProjects\\Masterthesis\\masterthesis\\mthesis\\lib\\site-packages\\castle\\datasets\\simulator.py[line:270] - INFO: Finished synthetic dataset\n"
     ]
    },
    {
     "name": "stdout",
     "output_type": "stream",
     "text": [
      "Warning: n_edges is not exact due to gcastle implementation\n",
      "Duration of algorithm was 0.77sec\n"
     ]
    },
    {
     "name": "stderr",
     "output_type": "stream",
     "text": [
      "2023-08-23 18:43:34,784 - c:\\Users\\JanMarco\\MLProjects\\Masterthesis\\masterthesis\\mthesis\\lib\\site-packages\\castle\\datasets\\simulator.py[line:270] - INFO: Finished synthetic dataset\n"
     ]
    },
    {
     "name": "stdout",
     "output_type": "stream",
     "text": [
      "Warning: n_edges is not exact due to gcastle implementation\n",
      "Duration of algorithm was 0.62sec\n"
     ]
    },
    {
     "name": "stderr",
     "output_type": "stream",
     "text": [
      "2023-08-23 18:43:45,032 - c:\\Users\\JanMarco\\MLProjects\\Masterthesis\\masterthesis\\mthesis\\lib\\site-packages\\castle\\datasets\\simulator.py[line:270] - INFO: Finished synthetic dataset\n"
     ]
    },
    {
     "name": "stdout",
     "output_type": "stream",
     "text": [
      "Warning: n_edges is not exact due to gcastle implementation\n",
      "Duration of algorithm was 0.75sec\n"
     ]
    },
    {
     "name": "stderr",
     "output_type": "stream",
     "text": [
      "2023-08-23 18:43:55,346 - c:\\Users\\JanMarco\\MLProjects\\Masterthesis\\masterthesis\\mthesis\\lib\\site-packages\\castle\\datasets\\simulator.py[line:270] - INFO: Finished synthetic dataset\n"
     ]
    },
    {
     "name": "stdout",
     "output_type": "stream",
     "text": [
      "Warning: n_edges is not exact due to gcastle implementation\n",
      "Duration of algorithm was 1.19sec\n"
     ]
    },
    {
     "name": "stderr",
     "output_type": "stream",
     "text": [
      "2023-08-23 18:44:14,235 - c:\\Users\\JanMarco\\MLProjects\\Masterthesis\\masterthesis\\mthesis\\lib\\site-packages\\castle\\datasets\\simulator.py[line:270] - INFO: Finished synthetic dataset\n"
     ]
    },
    {
     "name": "stdout",
     "output_type": "stream",
     "text": [
      "Warning: n_edges is not exact due to gcastle implementation\n",
      "Duration of algorithm was 1.23sec\n"
     ]
    },
    {
     "name": "stderr",
     "output_type": "stream",
     "text": [
      "2023-08-23 18:44:26,753 - c:\\Users\\JanMarco\\MLProjects\\Masterthesis\\masterthesis\\mthesis\\lib\\site-packages\\castle\\datasets\\simulator.py[line:270] - INFO: Finished synthetic dataset\n"
     ]
    },
    {
     "name": "stdout",
     "output_type": "stream",
     "text": [
      "Warning: n_edges is not exact due to gcastle implementation\n",
      "Duration of algorithm was 1.54sec\n"
     ]
    },
    {
     "name": "stderr",
     "output_type": "stream",
     "text": [
      "2023-08-23 18:44:38,636 - c:\\Users\\JanMarco\\MLProjects\\Masterthesis\\masterthesis\\mthesis\\lib\\site-packages\\castle\\datasets\\simulator.py[line:270] - INFO: Finished synthetic dataset\n"
     ]
    },
    {
     "name": "stdout",
     "output_type": "stream",
     "text": [
      "Warning: n_edges is not exact due to gcastle implementation\n",
      "Duration of algorithm was 1.53sec\n"
     ]
    },
    {
     "name": "stderr",
     "output_type": "stream",
     "text": [
      "2023-08-23 18:44:50,820 - c:\\Users\\JanMarco\\MLProjects\\Masterthesis\\masterthesis\\mthesis\\lib\\site-packages\\castle\\datasets\\simulator.py[line:270] - INFO: Finished synthetic dataset\n"
     ]
    },
    {
     "name": "stdout",
     "output_type": "stream",
     "text": [
      "Warning: n_edges is not exact due to gcastle implementation\n",
      "Duration of algorithm was 1.88sec\n"
     ]
    },
    {
     "name": "stderr",
     "output_type": "stream",
     "text": [
      "2023-08-23 18:45:05,949 - c:\\Users\\JanMarco\\MLProjects\\Masterthesis\\masterthesis\\mthesis\\lib\\site-packages\\castle\\datasets\\simulator.py[line:270] - INFO: Finished synthetic dataset\n"
     ]
    },
    {
     "name": "stdout",
     "output_type": "stream",
     "text": [
      "Warning: n_edges is not exact due to gcastle implementation\n",
      "Duration of algorithm was 1.61sec\n"
     ]
    },
    {
     "name": "stderr",
     "output_type": "stream",
     "text": [
      "2023-08-23 18:45:20,589 - c:\\Users\\JanMarco\\MLProjects\\Masterthesis\\masterthesis\\mthesis\\lib\\site-packages\\castle\\datasets\\simulator.py[line:270] - INFO: Finished synthetic dataset\n"
     ]
    },
    {
     "name": "stdout",
     "output_type": "stream",
     "text": [
      "Warning: n_edges is not exact due to gcastle implementation\n",
      "Duration of algorithm was 7.28sec\n"
     ]
    },
    {
     "name": "stderr",
     "output_type": "stream",
     "text": [
      "2023-08-23 18:45:40,665 - c:\\Users\\JanMarco\\MLProjects\\Masterthesis\\masterthesis\\mthesis\\lib\\site-packages\\castle\\datasets\\simulator.py[line:270] - INFO: Finished synthetic dataset\n"
     ]
    },
    {
     "name": "stdout",
     "output_type": "stream",
     "text": [
      "Warning: n_edges is not exact due to gcastle implementation\n",
      "Duration of algorithm was 2.84sec\n"
     ]
    },
    {
     "name": "stderr",
     "output_type": "stream",
     "text": [
      "2023-08-23 18:46:52,913 - c:\\Users\\JanMarco\\MLProjects\\Masterthesis\\masterthesis\\mthesis\\lib\\site-packages\\castle\\datasets\\simulator.py[line:270] - INFO: Finished synthetic dataset\n"
     ]
    },
    {
     "name": "stdout",
     "output_type": "stream",
     "text": [
      "Warning: n_edges is not exact due to gcastle implementation\n",
      "Duration of algorithm was 2.57sec\n"
     ]
    },
    {
     "name": "stderr",
     "output_type": "stream",
     "text": [
      "2023-08-23 18:47:08,420 - c:\\Users\\JanMarco\\MLProjects\\Masterthesis\\masterthesis\\mthesis\\lib\\site-packages\\castle\\datasets\\simulator.py[line:270] - INFO: Finished synthetic dataset\n"
     ]
    },
    {
     "name": "stdout",
     "output_type": "stream",
     "text": [
      "Warning: n_edges is not exact due to gcastle implementation\n",
      "Duration of algorithm was 0.78sec\n"
     ]
    },
    {
     "name": "stderr",
     "output_type": "stream",
     "text": [
      "2023-08-23 18:47:18,643 - c:\\Users\\JanMarco\\MLProjects\\Masterthesis\\masterthesis\\mthesis\\lib\\site-packages\\castle\\datasets\\simulator.py[line:270] - INFO: Finished synthetic dataset\n"
     ]
    },
    {
     "name": "stdout",
     "output_type": "stream",
     "text": [
      "Warning: n_edges is not exact due to gcastle implementation\n",
      "Duration of algorithm was 0.74sec\n"
     ]
    },
    {
     "name": "stderr",
     "output_type": "stream",
     "text": [
      "2023-08-23 18:47:29,242 - c:\\Users\\JanMarco\\MLProjects\\Masterthesis\\masterthesis\\mthesis\\lib\\site-packages\\castle\\datasets\\simulator.py[line:270] - INFO: Finished synthetic dataset\n"
     ]
    },
    {
     "name": "stdout",
     "output_type": "stream",
     "text": [
      "Warning: n_edges is not exact due to gcastle implementation\n",
      "Duration of algorithm was 0.73sec\n"
     ]
    },
    {
     "name": "stderr",
     "output_type": "stream",
     "text": [
      "2023-08-23 18:47:39,877 - c:\\Users\\JanMarco\\MLProjects\\Masterthesis\\masterthesis\\mthesis\\lib\\site-packages\\castle\\datasets\\simulator.py[line:270] - INFO: Finished synthetic dataset\n"
     ]
    },
    {
     "name": "stdout",
     "output_type": "stream",
     "text": [
      "Warning: n_edges is not exact due to gcastle implementation\n",
      "Duration of algorithm was 1.17sec\n"
     ]
    },
    {
     "name": "stderr",
     "output_type": "stream",
     "text": [
      "2023-08-23 18:47:55,182 - c:\\Users\\JanMarco\\MLProjects\\Masterthesis\\masterthesis\\mthesis\\lib\\site-packages\\castle\\datasets\\simulator.py[line:270] - INFO: Finished synthetic dataset\n"
     ]
    },
    {
     "name": "stdout",
     "output_type": "stream",
     "text": [
      "Warning: n_edges is not exact due to gcastle implementation\n",
      "Duration of algorithm was 1.29sec\n"
     ]
    },
    {
     "name": "stderr",
     "output_type": "stream",
     "text": [
      "2023-08-23 18:48:07,255 - c:\\Users\\JanMarco\\MLProjects\\Masterthesis\\masterthesis\\mthesis\\lib\\site-packages\\castle\\datasets\\simulator.py[line:270] - INFO: Finished synthetic dataset\n"
     ]
    },
    {
     "name": "stdout",
     "output_type": "stream",
     "text": [
      "Warning: n_edges is not exact due to gcastle implementation\n",
      "Duration of algorithm was 1.39sec\n"
     ]
    },
    {
     "name": "stderr",
     "output_type": "stream",
     "text": [
      "2023-08-23 18:48:23,200 - c:\\Users\\JanMarco\\MLProjects\\Masterthesis\\masterthesis\\mthesis\\lib\\site-packages\\castle\\datasets\\simulator.py[line:270] - INFO: Finished synthetic dataset\n"
     ]
    },
    {
     "name": "stdout",
     "output_type": "stream",
     "text": [
      "Warning: n_edges is not exact due to gcastle implementation\n",
      "Duration of algorithm was 1.70sec\n"
     ]
    },
    {
     "name": "stderr",
     "output_type": "stream",
     "text": [
      "2023-08-23 18:48:36,357 - c:\\Users\\JanMarco\\MLProjects\\Masterthesis\\masterthesis\\mthesis\\lib\\site-packages\\castle\\datasets\\simulator.py[line:270] - INFO: Finished synthetic dataset\n"
     ]
    },
    {
     "name": "stdout",
     "output_type": "stream",
     "text": [
      "Warning: n_edges is not exact due to gcastle implementation\n",
      "Duration of algorithm was 1.61sec\n"
     ]
    },
    {
     "name": "stderr",
     "output_type": "stream",
     "text": [
      "2023-08-23 18:48:47,774 - c:\\Users\\JanMarco\\MLProjects\\Masterthesis\\masterthesis\\mthesis\\lib\\site-packages\\castle\\datasets\\simulator.py[line:270] - INFO: Finished synthetic dataset\n"
     ]
    },
    {
     "name": "stdout",
     "output_type": "stream",
     "text": [
      "Warning: n_edges is not exact due to gcastle implementation\n",
      "Duration of algorithm was 1.56sec\n"
     ]
    },
    {
     "name": "stderr",
     "output_type": "stream",
     "text": [
      "2023-08-23 18:49:00,030 - c:\\Users\\JanMarco\\MLProjects\\Masterthesis\\masterthesis\\mthesis\\lib\\site-packages\\castle\\datasets\\simulator.py[line:270] - INFO: Finished synthetic dataset\n"
     ]
    },
    {
     "name": "stdout",
     "output_type": "stream",
     "text": [
      "Warning: n_edges is not exact due to gcastle implementation\n",
      "Duration of algorithm was 2.79sec\n"
     ]
    },
    {
     "name": "stderr",
     "output_type": "stream",
     "text": [
      "2023-08-23 18:49:15,459 - c:\\Users\\JanMarco\\MLProjects\\Masterthesis\\masterthesis\\mthesis\\lib\\site-packages\\castle\\datasets\\simulator.py[line:270] - INFO: Finished synthetic dataset\n"
     ]
    },
    {
     "name": "stdout",
     "output_type": "stream",
     "text": [
      "Warning: n_edges is not exact due to gcastle implementation\n",
      "Duration of algorithm was 4.52sec\n"
     ]
    },
    {
     "name": "stderr",
     "output_type": "stream",
     "text": [
      "2023-08-23 18:49:31,988 - c:\\Users\\JanMarco\\MLProjects\\Masterthesis\\masterthesis\\mthesis\\lib\\site-packages\\castle\\datasets\\simulator.py[line:270] - INFO: Finished synthetic dataset\n"
     ]
    },
    {
     "name": "stdout",
     "output_type": "stream",
     "text": [
      "Warning: n_edges is not exact due to gcastle implementation\n",
      "Duration of algorithm was 2.45sec\n"
     ]
    },
    {
     "name": "stderr",
     "output_type": "stream",
     "text": [
      "2023-08-23 18:49:47,855 - c:\\Users\\JanMarco\\MLProjects\\Masterthesis\\masterthesis\\mthesis\\lib\\site-packages\\castle\\datasets\\simulator.py[line:270] - INFO: Finished synthetic dataset\n"
     ]
    },
    {
     "name": "stdout",
     "output_type": "stream",
     "text": [
      "Warning: n_edges is not exact due to gcastle implementation\n",
      "Duration of algorithm was 0.77sec\n"
     ]
    },
    {
     "name": "stderr",
     "output_type": "stream",
     "text": [
      "2023-08-23 18:49:58,902 - c:\\Users\\JanMarco\\MLProjects\\Masterthesis\\masterthesis\\mthesis\\lib\\site-packages\\castle\\datasets\\simulator.py[line:270] - INFO: Finished synthetic dataset\n"
     ]
    },
    {
     "name": "stdout",
     "output_type": "stream",
     "text": [
      "Warning: n_edges is not exact due to gcastle implementation\n",
      "Duration of algorithm was 0.33sec\n"
     ]
    },
    {
     "name": "stderr",
     "output_type": "stream",
     "text": [
      "2023-08-23 18:50:08,786 - c:\\Users\\JanMarco\\MLProjects\\Masterthesis\\masterthesis\\mthesis\\lib\\site-packages\\castle\\datasets\\simulator.py[line:270] - INFO: Finished synthetic dataset\n"
     ]
    },
    {
     "name": "stdout",
     "output_type": "stream",
     "text": [
      "Warning: n_edges is not exact due to gcastle implementation\n",
      "Duration of algorithm was 0.45sec\n"
     ]
    },
    {
     "name": "stderr",
     "output_type": "stream",
     "text": [
      "2023-08-23 18:50:18,663 - c:\\Users\\JanMarco\\MLProjects\\Masterthesis\\masterthesis\\mthesis\\lib\\site-packages\\castle\\datasets\\simulator.py[line:270] - INFO: Finished synthetic dataset\n"
     ]
    },
    {
     "name": "stdout",
     "output_type": "stream",
     "text": [
      "Warning: n_edges is not exact due to gcastle implementation\n",
      "Duration of algorithm was 0.74sec\n"
     ]
    },
    {
     "name": "stderr",
     "output_type": "stream",
     "text": [
      "2023-08-23 18:50:29,473 - c:\\Users\\JanMarco\\MLProjects\\Masterthesis\\masterthesis\\mthesis\\lib\\site-packages\\castle\\datasets\\simulator.py[line:270] - INFO: Finished synthetic dataset\n"
     ]
    },
    {
     "name": "stdout",
     "output_type": "stream",
     "text": [
      "Warning: n_edges is not exact due to gcastle implementation\n",
      "Duration of algorithm was 0.42sec\n"
     ]
    },
    {
     "name": "stderr",
     "output_type": "stream",
     "text": [
      "2023-08-23 18:50:39,283 - c:\\Users\\JanMarco\\MLProjects\\Masterthesis\\masterthesis\\mthesis\\lib\\site-packages\\castle\\datasets\\simulator.py[line:270] - INFO: Finished synthetic dataset\n"
     ]
    },
    {
     "name": "stdout",
     "output_type": "stream",
     "text": [
      "Warning: n_edges is not exact due to gcastle implementation\n",
      "Duration of algorithm was 0.77sec\n"
     ]
    },
    {
     "name": "stderr",
     "output_type": "stream",
     "text": [
      "2023-08-23 18:50:50,237 - c:\\Users\\JanMarco\\MLProjects\\Masterthesis\\masterthesis\\mthesis\\lib\\site-packages\\castle\\datasets\\simulator.py[line:270] - INFO: Finished synthetic dataset\n"
     ]
    },
    {
     "name": "stdout",
     "output_type": "stream",
     "text": [
      "Warning: n_edges is not exact due to gcastle implementation\n",
      "Duration of algorithm was 0.45sec\n"
     ]
    },
    {
     "name": "stderr",
     "output_type": "stream",
     "text": [
      "2023-08-23 18:51:00,216 - c:\\Users\\JanMarco\\MLProjects\\Masterthesis\\masterthesis\\mthesis\\lib\\site-packages\\castle\\datasets\\simulator.py[line:270] - INFO: Finished synthetic dataset\n"
     ]
    },
    {
     "name": "stdout",
     "output_type": "stream",
     "text": [
      "Warning: n_edges is not exact due to gcastle implementation\n",
      "Duration of algorithm was 0.72sec\n"
     ]
    },
    {
     "name": "stderr",
     "output_type": "stream",
     "text": [
      "2023-08-23 18:51:10,793 - c:\\Users\\JanMarco\\MLProjects\\Masterthesis\\masterthesis\\mthesis\\lib\\site-packages\\castle\\datasets\\simulator.py[line:270] - INFO: Finished synthetic dataset\n"
     ]
    },
    {
     "name": "stdout",
     "output_type": "stream",
     "text": [
      "Warning: n_edges is not exact due to gcastle implementation\n",
      "Duration of algorithm was 0.64sec\n"
     ]
    },
    {
     "name": "stderr",
     "output_type": "stream",
     "text": [
      "2023-08-23 18:51:21,397 - c:\\Users\\JanMarco\\MLProjects\\Masterthesis\\masterthesis\\mthesis\\lib\\site-packages\\castle\\datasets\\simulator.py[line:270] - INFO: Finished synthetic dataset\n"
     ]
    },
    {
     "name": "stdout",
     "output_type": "stream",
     "text": [
      "Warning: n_edges is not exact due to gcastle implementation\n",
      "Duration of algorithm was 0.70sec\n"
     ]
    },
    {
     "name": "stderr",
     "output_type": "stream",
     "text": [
      "2023-08-23 18:51:32,435 - c:\\Users\\JanMarco\\MLProjects\\Masterthesis\\masterthesis\\mthesis\\lib\\site-packages\\castle\\datasets\\simulator.py[line:270] - INFO: Finished synthetic dataset\n"
     ]
    },
    {
     "name": "stdout",
     "output_type": "stream",
     "text": [
      "Warning: n_edges is not exact due to gcastle implementation\n",
      "Duration of algorithm was 1.03sec\n"
     ]
    },
    {
     "name": "stderr",
     "output_type": "stream",
     "text": [
      "2023-08-23 18:51:43,719 - c:\\Users\\JanMarco\\MLProjects\\Masterthesis\\masterthesis\\mthesis\\lib\\site-packages\\castle\\datasets\\simulator.py[line:270] - INFO: Finished synthetic dataset\n"
     ]
    },
    {
     "name": "stdout",
     "output_type": "stream",
     "text": [
      "Warning: n_edges is not exact due to gcastle implementation\n",
      "Duration of algorithm was 0.86sec\n"
     ]
    },
    {
     "name": "stderr",
     "output_type": "stream",
     "text": [
      "2023-08-23 18:51:55,306 - c:\\Users\\JanMarco\\MLProjects\\Masterthesis\\masterthesis\\mthesis\\lib\\site-packages\\castle\\datasets\\simulator.py[line:270] - INFO: Finished synthetic dataset\n"
     ]
    },
    {
     "name": "stdout",
     "output_type": "stream",
     "text": [
      "Warning: n_edges is not exact due to gcastle implementation\n",
      "Duration of algorithm was 0.52sec\n"
     ]
    },
    {
     "name": "stderr",
     "output_type": "stream",
     "text": [
      "2023-08-23 18:52:05,560 - c:\\Users\\JanMarco\\MLProjects\\Masterthesis\\masterthesis\\mthesis\\lib\\site-packages\\castle\\datasets\\simulator.py[line:270] - INFO: Finished synthetic dataset\n"
     ]
    },
    {
     "name": "stdout",
     "output_type": "stream",
     "text": [
      "Warning: n_edges is not exact due to gcastle implementation\n",
      "Duration of algorithm was 0.53sec\n"
     ]
    },
    {
     "name": "stderr",
     "output_type": "stream",
     "text": [
      "2023-08-23 18:52:16,345 - c:\\Users\\JanMarco\\MLProjects\\Masterthesis\\masterthesis\\mthesis\\lib\\site-packages\\castle\\datasets\\simulator.py[line:270] - INFO: Finished synthetic dataset\n"
     ]
    },
    {
     "name": "stdout",
     "output_type": "stream",
     "text": [
      "Warning: n_edges is not exact due to gcastle implementation\n",
      "Duration of algorithm was 0.49sec\n"
     ]
    },
    {
     "name": "stderr",
     "output_type": "stream",
     "text": [
      "2023-08-23 18:52:26,890 - c:\\Users\\JanMarco\\MLProjects\\Masterthesis\\masterthesis\\mthesis\\lib\\site-packages\\castle\\datasets\\simulator.py[line:270] - INFO: Finished synthetic dataset\n"
     ]
    },
    {
     "name": "stdout",
     "output_type": "stream",
     "text": [
      "Warning: n_edges is not exact due to gcastle implementation\n",
      "Duration of algorithm was 0.36sec\n"
     ]
    },
    {
     "name": "stderr",
     "output_type": "stream",
     "text": [
      "2023-08-23 18:52:36,765 - c:\\Users\\JanMarco\\MLProjects\\Masterthesis\\masterthesis\\mthesis\\lib\\site-packages\\castle\\datasets\\simulator.py[line:270] - INFO: Finished synthetic dataset\n"
     ]
    },
    {
     "name": "stdout",
     "output_type": "stream",
     "text": [
      "Warning: n_edges is not exact due to gcastle implementation\n",
      "Duration of algorithm was 0.53sec\n"
     ]
    },
    {
     "name": "stderr",
     "output_type": "stream",
     "text": [
      "2023-08-23 18:52:47,350 - c:\\Users\\JanMarco\\MLProjects\\Masterthesis\\masterthesis\\mthesis\\lib\\site-packages\\castle\\datasets\\simulator.py[line:270] - INFO: Finished synthetic dataset\n"
     ]
    },
    {
     "name": "stdout",
     "output_type": "stream",
     "text": [
      "Warning: n_edges is not exact due to gcastle implementation\n",
      "Duration of algorithm was 0.61sec\n"
     ]
    },
    {
     "name": "stderr",
     "output_type": "stream",
     "text": [
      "2023-08-23 18:52:58,188 - c:\\Users\\JanMarco\\MLProjects\\Masterthesis\\masterthesis\\mthesis\\lib\\site-packages\\castle\\datasets\\simulator.py[line:270] - INFO: Finished synthetic dataset\n"
     ]
    },
    {
     "name": "stdout",
     "output_type": "stream",
     "text": [
      "Warning: n_edges is not exact due to gcastle implementation\n",
      "Duration of algorithm was 0.47sec\n"
     ]
    },
    {
     "name": "stderr",
     "output_type": "stream",
     "text": [
      "2023-08-23 18:53:08,352 - c:\\Users\\JanMarco\\MLProjects\\Masterthesis\\masterthesis\\mthesis\\lib\\site-packages\\castle\\datasets\\simulator.py[line:270] - INFO: Finished synthetic dataset\n"
     ]
    },
    {
     "name": "stdout",
     "output_type": "stream",
     "text": [
      "Warning: n_edges is not exact due to gcastle implementation\n",
      "Duration of algorithm was 0.32sec\n"
     ]
    },
    {
     "name": "stderr",
     "output_type": "stream",
     "text": [
      "2023-08-23 18:53:18,293 - c:\\Users\\JanMarco\\MLProjects\\Masterthesis\\masterthesis\\mthesis\\lib\\site-packages\\castle\\datasets\\simulator.py[line:270] - INFO: Finished synthetic dataset\n"
     ]
    },
    {
     "name": "stdout",
     "output_type": "stream",
     "text": [
      "Warning: n_edges is not exact due to gcastle implementation\n",
      "Duration of algorithm was 0.51sec\n"
     ]
    },
    {
     "name": "stderr",
     "output_type": "stream",
     "text": [
      "2023-08-23 18:53:28,421 - c:\\Users\\JanMarco\\MLProjects\\Masterthesis\\masterthesis\\mthesis\\lib\\site-packages\\castle\\datasets\\simulator.py[line:270] - INFO: Finished synthetic dataset\n"
     ]
    },
    {
     "name": "stdout",
     "output_type": "stream",
     "text": [
      "Warning: n_edges is not exact due to gcastle implementation\n",
      "Duration of algorithm was 0.50sec\n"
     ]
    },
    {
     "name": "stderr",
     "output_type": "stream",
     "text": [
      "2023-08-23 18:53:39,040 - c:\\Users\\JanMarco\\MLProjects\\Masterthesis\\masterthesis\\mthesis\\lib\\site-packages\\castle\\datasets\\simulator.py[line:270] - INFO: Finished synthetic dataset\n"
     ]
    },
    {
     "name": "stdout",
     "output_type": "stream",
     "text": [
      "Warning: n_edges is not exact due to gcastle implementation\n",
      "Duration of algorithm was 0.38sec\n"
     ]
    },
    {
     "name": "stderr",
     "output_type": "stream",
     "text": [
      "2023-08-23 18:53:49,075 - c:\\Users\\JanMarco\\MLProjects\\Masterthesis\\masterthesis\\mthesis\\lib\\site-packages\\castle\\datasets\\simulator.py[line:270] - INFO: Finished synthetic dataset\n"
     ]
    },
    {
     "name": "stdout",
     "output_type": "stream",
     "text": [
      "Warning: n_edges is not exact due to gcastle implementation\n",
      "Duration of algorithm was 1.01sec\n"
     ]
    },
    {
     "name": "stderr",
     "output_type": "stream",
     "text": [
      "2023-08-23 18:54:01,030 - c:\\Users\\JanMarco\\MLProjects\\Masterthesis\\masterthesis\\mthesis\\lib\\site-packages\\castle\\datasets\\simulator.py[line:270] - INFO: Finished synthetic dataset\n"
     ]
    },
    {
     "name": "stdout",
     "output_type": "stream",
     "text": [
      "Warning: n_edges is not exact due to gcastle implementation\n",
      "Duration of algorithm was 0.96sec\n"
     ]
    },
    {
     "name": "stderr",
     "output_type": "stream",
     "text": [
      "2023-08-23 18:54:12,658 - c:\\Users\\JanMarco\\MLProjects\\Masterthesis\\masterthesis\\mthesis\\lib\\site-packages\\castle\\datasets\\simulator.py[line:270] - INFO: Finished synthetic dataset\n"
     ]
    },
    {
     "name": "stdout",
     "output_type": "stream",
     "text": [
      "Warning: n_edges is not exact due to gcastle implementation\n",
      "Duration of algorithm was 0.52sec\n"
     ]
    },
    {
     "name": "stderr",
     "output_type": "stream",
     "text": [
      "2023-08-23 18:54:23,932 - c:\\Users\\JanMarco\\MLProjects\\Masterthesis\\masterthesis\\mthesis\\lib\\site-packages\\castle\\datasets\\simulator.py[line:270] - INFO: Finished synthetic dataset\n"
     ]
    },
    {
     "name": "stdout",
     "output_type": "stream",
     "text": [
      "Warning: n_edges is not exact due to gcastle implementation\n",
      "Duration of algorithm was 0.47sec\n"
     ]
    },
    {
     "name": "stderr",
     "output_type": "stream",
     "text": [
      "2023-08-23 18:54:36,840 - c:\\Users\\JanMarco\\MLProjects\\Masterthesis\\masterthesis\\mthesis\\lib\\site-packages\\castle\\datasets\\simulator.py[line:270] - INFO: Finished synthetic dataset\n"
     ]
    },
    {
     "name": "stdout",
     "output_type": "stream",
     "text": [
      "Warning: n_edges is not exact due to gcastle implementation\n",
      "Duration of algorithm was 4.07sec\n"
     ]
    },
    {
     "name": "stderr",
     "output_type": "stream",
     "text": [
      "2023-08-23 18:55:17,474 - c:\\Users\\JanMarco\\MLProjects\\Masterthesis\\masterthesis\\mthesis\\lib\\site-packages\\castle\\datasets\\simulator.py[line:270] - INFO: Finished synthetic dataset\n"
     ]
    },
    {
     "name": "stdout",
     "output_type": "stream",
     "text": [
      "Warning: n_edges is not exact due to gcastle implementation\n",
      "Duration of algorithm was 0.73sec\n"
     ]
    },
    {
     "name": "stderr",
     "output_type": "stream",
     "text": [
      "2023-08-23 18:55:28,183 - c:\\Users\\JanMarco\\MLProjects\\Masterthesis\\masterthesis\\mthesis\\lib\\site-packages\\castle\\datasets\\simulator.py[line:270] - INFO: Finished synthetic dataset\n"
     ]
    },
    {
     "name": "stdout",
     "output_type": "stream",
     "text": [
      "Warning: n_edges is not exact due to gcastle implementation\n",
      "Duration of algorithm was 0.84sec\n"
     ]
    },
    {
     "name": "stderr",
     "output_type": "stream",
     "text": [
      "2023-08-23 18:55:39,504 - c:\\Users\\JanMarco\\MLProjects\\Masterthesis\\masterthesis\\mthesis\\lib\\site-packages\\castle\\datasets\\simulator.py[line:270] - INFO: Finished synthetic dataset\n"
     ]
    },
    {
     "name": "stdout",
     "output_type": "stream",
     "text": [
      "Warning: n_edges is not exact due to gcastle implementation\n",
      "Duration of algorithm was 1.58sec\n"
     ]
    },
    {
     "name": "stderr",
     "output_type": "stream",
     "text": [
      "2023-08-23 18:55:55,762 - c:\\Users\\JanMarco\\MLProjects\\Masterthesis\\masterthesis\\mthesis\\lib\\site-packages\\castle\\datasets\\simulator.py[line:270] - INFO: Finished synthetic dataset\n"
     ]
    },
    {
     "name": "stdout",
     "output_type": "stream",
     "text": [
      "Warning: n_edges is not exact due to gcastle implementation\n",
      "Duration of algorithm was 0.86sec\n"
     ]
    },
    {
     "name": "stderr",
     "output_type": "stream",
     "text": [
      "2023-08-23 18:56:06,982 - c:\\Users\\JanMarco\\MLProjects\\Masterthesis\\masterthesis\\mthesis\\lib\\site-packages\\castle\\datasets\\simulator.py[line:270] - INFO: Finished synthetic dataset\n"
     ]
    },
    {
     "name": "stdout",
     "output_type": "stream",
     "text": [
      "Warning: n_edges is not exact due to gcastle implementation\n",
      "Duration of algorithm was 1.55sec\n"
     ]
    },
    {
     "name": "stderr",
     "output_type": "stream",
     "text": [
      "2023-08-23 18:56:20,219 - c:\\Users\\JanMarco\\MLProjects\\Masterthesis\\masterthesis\\mthesis\\lib\\site-packages\\castle\\datasets\\simulator.py[line:270] - INFO: Finished synthetic dataset\n"
     ]
    },
    {
     "name": "stdout",
     "output_type": "stream",
     "text": [
      "Warning: n_edges is not exact due to gcastle implementation\n",
      "Duration of algorithm was 3.57sec\n"
     ]
    },
    {
     "name": "stderr",
     "output_type": "stream",
     "text": [
      "2023-08-23 18:56:36,532 - c:\\Users\\JanMarco\\MLProjects\\Masterthesis\\masterthesis\\mthesis\\lib\\site-packages\\castle\\datasets\\simulator.py[line:270] - INFO: Finished synthetic dataset\n"
     ]
    },
    {
     "name": "stdout",
     "output_type": "stream",
     "text": [
      "Warning: n_edges is not exact due to gcastle implementation\n",
      "Duration of algorithm was 0.87sec\n"
     ]
    },
    {
     "name": "stderr",
     "output_type": "stream",
     "text": [
      "2023-08-23 18:56:47,943 - c:\\Users\\JanMarco\\MLProjects\\Masterthesis\\masterthesis\\mthesis\\lib\\site-packages\\castle\\datasets\\simulator.py[line:270] - INFO: Finished synthetic dataset\n"
     ]
    },
    {
     "name": "stdout",
     "output_type": "stream",
     "text": [
      "Warning: n_edges is not exact due to gcastle implementation\n",
      "Duration of algorithm was 0.65sec\n"
     ]
    },
    {
     "name": "stderr",
     "output_type": "stream",
     "text": [
      "2023-08-23 18:56:58,654 - c:\\Users\\JanMarco\\MLProjects\\Masterthesis\\masterthesis\\mthesis\\lib\\site-packages\\castle\\datasets\\simulator.py[line:270] - INFO: Finished synthetic dataset\n"
     ]
    },
    {
     "name": "stdout",
     "output_type": "stream",
     "text": [
      "Warning: n_edges is not exact due to gcastle implementation\n",
      "Duration of algorithm was 0.40sec\n"
     ]
    },
    {
     "name": "stderr",
     "output_type": "stream",
     "text": [
      "2023-08-23 18:57:08,936 - c:\\Users\\JanMarco\\MLProjects\\Masterthesis\\masterthesis\\mthesis\\lib\\site-packages\\castle\\datasets\\simulator.py[line:270] - INFO: Finished synthetic dataset\n"
     ]
    },
    {
     "name": "stdout",
     "output_type": "stream",
     "text": [
      "Warning: n_edges is not exact due to gcastle implementation\n",
      "Duration of algorithm was 0.50sec\n"
     ]
    },
    {
     "name": "stderr",
     "output_type": "stream",
     "text": [
      "2023-08-23 18:57:23,634 - c:\\Users\\JanMarco\\MLProjects\\Masterthesis\\masterthesis\\mthesis\\lib\\site-packages\\castle\\datasets\\simulator.py[line:270] - INFO: Finished synthetic dataset\n"
     ]
    },
    {
     "name": "stdout",
     "output_type": "stream",
     "text": [
      "Warning: n_edges is not exact due to gcastle implementation\n",
      "Duration of algorithm was 0.42sec\n"
     ]
    },
    {
     "name": "stderr",
     "output_type": "stream",
     "text": [
      "2023-08-23 18:57:33,691 - c:\\Users\\JanMarco\\MLProjects\\Masterthesis\\masterthesis\\mthesis\\lib\\site-packages\\castle\\datasets\\simulator.py[line:270] - INFO: Finished synthetic dataset\n"
     ]
    },
    {
     "name": "stdout",
     "output_type": "stream",
     "text": [
      "Warning: n_edges is not exact due to gcastle implementation\n",
      "Duration of algorithm was 0.49sec\n"
     ]
    },
    {
     "name": "stderr",
     "output_type": "stream",
     "text": [
      "2023-08-23 18:57:44,178 - c:\\Users\\JanMarco\\MLProjects\\Masterthesis\\masterthesis\\mthesis\\lib\\site-packages\\castle\\datasets\\simulator.py[line:270] - INFO: Finished synthetic dataset\n"
     ]
    },
    {
     "name": "stdout",
     "output_type": "stream",
     "text": [
      "Warning: n_edges is not exact due to gcastle implementation\n",
      "Duration of algorithm was 0.44sec\n"
     ]
    },
    {
     "name": "stderr",
     "output_type": "stream",
     "text": [
      "2023-08-23 18:57:54,404 - c:\\Users\\JanMarco\\MLProjects\\Masterthesis\\masterthesis\\mthesis\\lib\\site-packages\\castle\\datasets\\simulator.py[line:270] - INFO: Finished synthetic dataset\n"
     ]
    },
    {
     "name": "stdout",
     "output_type": "stream",
     "text": [
      "Warning: n_edges is not exact due to gcastle implementation\n",
      "Duration of algorithm was 0.63sec\n"
     ]
    },
    {
     "name": "stderr",
     "output_type": "stream",
     "text": [
      "2023-08-23 18:58:05,373 - c:\\Users\\JanMarco\\MLProjects\\Masterthesis\\masterthesis\\mthesis\\lib\\site-packages\\castle\\datasets\\simulator.py[line:270] - INFO: Finished synthetic dataset\n"
     ]
    },
    {
     "name": "stdout",
     "output_type": "stream",
     "text": [
      "Warning: n_edges is not exact due to gcastle implementation\n",
      "Duration of algorithm was 0.64sec\n"
     ]
    },
    {
     "name": "stderr",
     "output_type": "stream",
     "text": [
      "2023-08-23 18:58:17,549 - c:\\Users\\JanMarco\\MLProjects\\Masterthesis\\masterthesis\\mthesis\\lib\\site-packages\\castle\\datasets\\simulator.py[line:270] - INFO: Finished synthetic dataset\n"
     ]
    },
    {
     "name": "stdout",
     "output_type": "stream",
     "text": [
      "Warning: n_edges is not exact due to gcastle implementation\n",
      "Duration of algorithm was 1.02sec\n"
     ]
    },
    {
     "name": "stderr",
     "output_type": "stream",
     "text": [
      "2023-08-23 18:58:29,118 - c:\\Users\\JanMarco\\MLProjects\\Masterthesis\\masterthesis\\mthesis\\lib\\site-packages\\castle\\datasets\\simulator.py[line:270] - INFO: Finished synthetic dataset\n"
     ]
    },
    {
     "name": "stdout",
     "output_type": "stream",
     "text": [
      "Warning: n_edges is not exact due to gcastle implementation\n",
      "Duration of algorithm was 0.73sec\n"
     ]
    },
    {
     "name": "stderr",
     "output_type": "stream",
     "text": [
      "2023-08-23 18:58:39,992 - c:\\Users\\JanMarco\\MLProjects\\Masterthesis\\masterthesis\\mthesis\\lib\\site-packages\\castle\\datasets\\simulator.py[line:270] - INFO: Finished synthetic dataset\n"
     ]
    },
    {
     "name": "stdout",
     "output_type": "stream",
     "text": [
      "Warning: n_edges is not exact due to gcastle implementation\n",
      "Duration of algorithm was 0.77sec\n"
     ]
    },
    {
     "name": "stderr",
     "output_type": "stream",
     "text": [
      "2023-08-23 18:58:50,795 - c:\\Users\\JanMarco\\MLProjects\\Masterthesis\\masterthesis\\mthesis\\lib\\site-packages\\castle\\datasets\\simulator.py[line:270] - INFO: Finished synthetic dataset\n"
     ]
    },
    {
     "name": "stdout",
     "output_type": "stream",
     "text": [
      "Warning: n_edges is not exact due to gcastle implementation\n",
      "Duration of algorithm was 0.67sec\n"
     ]
    },
    {
     "name": "stderr",
     "output_type": "stream",
     "text": [
      "2023-08-23 18:59:01,596 - c:\\Users\\JanMarco\\MLProjects\\Masterthesis\\masterthesis\\mthesis\\lib\\site-packages\\castle\\datasets\\simulator.py[line:270] - INFO: Finished synthetic dataset\n"
     ]
    },
    {
     "name": "stdout",
     "output_type": "stream",
     "text": [
      "Warning: n_edges is not exact due to gcastle implementation\n",
      "Duration of algorithm was 0.82sec\n"
     ]
    },
    {
     "name": "stderr",
     "output_type": "stream",
     "text": [
      "2023-08-23 18:59:12,854 - c:\\Users\\JanMarco\\MLProjects\\Masterthesis\\masterthesis\\mthesis\\lib\\site-packages\\castle\\datasets\\simulator.py[line:270] - INFO: Finished synthetic dataset\n"
     ]
    },
    {
     "name": "stdout",
     "output_type": "stream",
     "text": [
      "Warning: n_edges is not exact due to gcastle implementation\n",
      "Duration of algorithm was 1.91sec\n"
     ]
    },
    {
     "name": "stderr",
     "output_type": "stream",
     "text": [
      "2023-08-23 18:59:45,499 - c:\\Users\\JanMarco\\MLProjects\\Masterthesis\\masterthesis\\mthesis\\lib\\site-packages\\castle\\datasets\\simulator.py[line:270] - INFO: Finished synthetic dataset\n"
     ]
    },
    {
     "name": "stdout",
     "output_type": "stream",
     "text": [
      "Warning: n_edges is not exact due to gcastle implementation\n",
      "Duration of algorithm was 2.40sec\n"
     ]
    },
    {
     "name": "stderr",
     "output_type": "stream",
     "text": [
      "2023-08-23 19:00:00,101 - c:\\Users\\JanMarco\\MLProjects\\Masterthesis\\masterthesis\\mthesis\\lib\\site-packages\\castle\\datasets\\simulator.py[line:270] - INFO: Finished synthetic dataset\n"
     ]
    },
    {
     "name": "stdout",
     "output_type": "stream",
     "text": [
      "Warning: n_edges is not exact due to gcastle implementation\n",
      "Duration of algorithm was 2.49sec\n"
     ]
    },
    {
     "name": "stderr",
     "output_type": "stream",
     "text": [
      "2023-08-23 19:00:14,546 - c:\\Users\\JanMarco\\MLProjects\\Masterthesis\\masterthesis\\mthesis\\lib\\site-packages\\castle\\datasets\\simulator.py[line:270] - INFO: Finished synthetic dataset\n"
     ]
    },
    {
     "name": "stdout",
     "output_type": "stream",
     "text": [
      "Warning: n_edges is not exact due to gcastle implementation\n",
      "Duration of algorithm was 3.95sec\n"
     ]
    },
    {
     "name": "stderr",
     "output_type": "stream",
     "text": [
      "2023-08-23 19:00:32,008 - c:\\Users\\JanMarco\\MLProjects\\Masterthesis\\masterthesis\\mthesis\\lib\\site-packages\\castle\\datasets\\simulator.py[line:270] - INFO: Finished synthetic dataset\n"
     ]
    },
    {
     "name": "stdout",
     "output_type": "stream",
     "text": [
      "Warning: n_edges is not exact due to gcastle implementation\n",
      "Duration of algorithm was 3.98sec\n"
     ]
    },
    {
     "name": "stderr",
     "output_type": "stream",
     "text": [
      "2023-08-23 19:00:50,753 - c:\\Users\\JanMarco\\MLProjects\\Masterthesis\\masterthesis\\mthesis\\lib\\site-packages\\castle\\datasets\\simulator.py[line:270] - INFO: Finished synthetic dataset\n"
     ]
    },
    {
     "name": "stdout",
     "output_type": "stream",
     "text": [
      "Warning: n_edges is not exact due to gcastle implementation\n",
      "Duration of algorithm was 3.69sec\n"
     ]
    },
    {
     "name": "stderr",
     "output_type": "stream",
     "text": [
      "2023-08-23 19:01:11,089 - c:\\Users\\JanMarco\\MLProjects\\Masterthesis\\masterthesis\\mthesis\\lib\\site-packages\\castle\\datasets\\simulator.py[line:270] - INFO: Finished synthetic dataset\n"
     ]
    },
    {
     "name": "stdout",
     "output_type": "stream",
     "text": [
      "Warning: n_edges is not exact due to gcastle implementation\n",
      "Duration of algorithm was 6.40sec\n"
     ]
    },
    {
     "name": "stderr",
     "output_type": "stream",
     "text": [
      "2023-08-23 19:01:33,139 - c:\\Users\\JanMarco\\MLProjects\\Masterthesis\\masterthesis\\mthesis\\lib\\site-packages\\castle\\datasets\\simulator.py[line:270] - INFO: Finished synthetic dataset\n"
     ]
    },
    {
     "name": "stdout",
     "output_type": "stream",
     "text": [
      "Warning: n_edges is not exact due to gcastle implementation\n",
      "Duration of algorithm was 4.44sec\n"
     ]
    },
    {
     "name": "stderr",
     "output_type": "stream",
     "text": [
      "2023-08-23 19:01:53,281 - c:\\Users\\JanMarco\\MLProjects\\Masterthesis\\masterthesis\\mthesis\\lib\\site-packages\\castle\\datasets\\simulator.py[line:270] - INFO: Finished synthetic dataset\n"
     ]
    },
    {
     "name": "stdout",
     "output_type": "stream",
     "text": [
      "Warning: n_edges is not exact due to gcastle implementation\n",
      "Duration of algorithm was 5.39sec\n"
     ]
    },
    {
     "name": "stderr",
     "output_type": "stream",
     "text": [
      "2023-08-23 19:02:14,074 - c:\\Users\\JanMarco\\MLProjects\\Masterthesis\\masterthesis\\mthesis\\lib\\site-packages\\castle\\datasets\\simulator.py[line:270] - INFO: Finished synthetic dataset\n"
     ]
    },
    {
     "name": "stdout",
     "output_type": "stream",
     "text": [
      "Warning: n_edges is not exact due to gcastle implementation\n",
      "Duration of algorithm was 7.80sec\n"
     ]
    },
    {
     "name": "stderr",
     "output_type": "stream",
     "text": [
      "2023-08-23 19:02:58,296 - c:\\Users\\JanMarco\\MLProjects\\Masterthesis\\masterthesis\\mthesis\\lib\\site-packages\\castle\\datasets\\simulator.py[line:270] - INFO: Finished synthetic dataset\n"
     ]
    },
    {
     "name": "stdout",
     "output_type": "stream",
     "text": [
      "Warning: n_edges is not exact due to gcastle implementation\n",
      "Duration of algorithm was 10.20sec\n"
     ]
    },
    {
     "name": "stderr",
     "output_type": "stream",
     "text": [
      "2023-08-23 19:03:31,196 - c:\\Users\\JanMarco\\MLProjects\\Masterthesis\\masterthesis\\mthesis\\lib\\site-packages\\castle\\datasets\\simulator.py[line:270] - INFO: Finished synthetic dataset\n"
     ]
    },
    {
     "name": "stdout",
     "output_type": "stream",
     "text": [
      "Warning: n_edges is not exact due to gcastle implementation\n",
      "Duration of algorithm was 11.35sec\n"
     ]
    },
    {
     "name": "stderr",
     "output_type": "stream",
     "text": [
      "2023-08-23 19:04:10,254 - c:\\Users\\JanMarco\\MLProjects\\Masterthesis\\masterthesis\\mthesis\\lib\\site-packages\\castle\\datasets\\simulator.py[line:270] - INFO: Finished synthetic dataset\n"
     ]
    },
    {
     "name": "stdout",
     "output_type": "stream",
     "text": [
      "Warning: n_edges is not exact due to gcastle implementation\n",
      "Duration of algorithm was 2.42sec\n"
     ]
    },
    {
     "name": "stderr",
     "output_type": "stream",
     "text": [
      "2023-08-23 19:04:24,372 - c:\\Users\\JanMarco\\MLProjects\\Masterthesis\\masterthesis\\mthesis\\lib\\site-packages\\castle\\datasets\\simulator.py[line:270] - INFO: Finished synthetic dataset\n"
     ]
    },
    {
     "name": "stdout",
     "output_type": "stream",
     "text": [
      "Warning: n_edges is not exact due to gcastle implementation\n",
      "Duration of algorithm was 2.05sec\n"
     ]
    },
    {
     "name": "stderr",
     "output_type": "stream",
     "text": [
      "2023-08-23 19:04:37,957 - c:\\Users\\JanMarco\\MLProjects\\Masterthesis\\masterthesis\\mthesis\\lib\\site-packages\\castle\\datasets\\simulator.py[line:270] - INFO: Finished synthetic dataset\n"
     ]
    },
    {
     "name": "stdout",
     "output_type": "stream",
     "text": [
      "Warning: n_edges is not exact due to gcastle implementation\n",
      "Duration of algorithm was 2.22sec\n"
     ]
    },
    {
     "name": "stderr",
     "output_type": "stream",
     "text": [
      "2023-08-23 19:04:51,344 - c:\\Users\\JanMarco\\MLProjects\\Masterthesis\\masterthesis\\mthesis\\lib\\site-packages\\castle\\datasets\\simulator.py[line:270] - INFO: Finished synthetic dataset\n"
     ]
    },
    {
     "name": "stdout",
     "output_type": "stream",
     "text": [
      "Warning: n_edges is not exact due to gcastle implementation\n",
      "Duration of algorithm was 4.13sec\n"
     ]
    },
    {
     "name": "stderr",
     "output_type": "stream",
     "text": [
      "2023-08-23 19:05:08,768 - c:\\Users\\JanMarco\\MLProjects\\Masterthesis\\masterthesis\\mthesis\\lib\\site-packages\\castle\\datasets\\simulator.py[line:270] - INFO: Finished synthetic dataset\n"
     ]
    },
    {
     "name": "stdout",
     "output_type": "stream",
     "text": [
      "Warning: n_edges is not exact due to gcastle implementation\n",
      "Duration of algorithm was 3.32sec\n"
     ]
    },
    {
     "name": "stderr",
     "output_type": "stream",
     "text": [
      "2023-08-23 19:05:25,985 - c:\\Users\\JanMarco\\MLProjects\\Masterthesis\\masterthesis\\mthesis\\lib\\site-packages\\castle\\datasets\\simulator.py[line:270] - INFO: Finished synthetic dataset\n"
     ]
    },
    {
     "name": "stdout",
     "output_type": "stream",
     "text": [
      "Warning: n_edges is not exact due to gcastle implementation\n",
      "Duration of algorithm was 3.77sec\n"
     ]
    },
    {
     "name": "stderr",
     "output_type": "stream",
     "text": [
      "2023-08-23 19:05:43,263 - c:\\Users\\JanMarco\\MLProjects\\Masterthesis\\masterthesis\\mthesis\\lib\\site-packages\\castle\\datasets\\simulator.py[line:270] - INFO: Finished synthetic dataset\n"
     ]
    },
    {
     "name": "stdout",
     "output_type": "stream",
     "text": [
      "Warning: n_edges is not exact due to gcastle implementation\n",
      "Duration of algorithm was 26.36sec\n"
     ]
    },
    {
     "name": "stderr",
     "output_type": "stream",
     "text": [
      "2023-08-23 19:06:22,930 - c:\\Users\\JanMarco\\MLProjects\\Masterthesis\\masterthesis\\mthesis\\lib\\site-packages\\castle\\datasets\\simulator.py[line:270] - INFO: Finished synthetic dataset\n"
     ]
    },
    {
     "name": "stdout",
     "output_type": "stream",
     "text": [
      "Warning: n_edges is not exact due to gcastle implementation\n",
      "Duration of algorithm was 6.77sec\n"
     ]
    },
    {
     "name": "stderr",
     "output_type": "stream",
     "text": [
      "2023-08-23 19:06:49,630 - c:\\Users\\JanMarco\\MLProjects\\Masterthesis\\masterthesis\\mthesis\\lib\\site-packages\\castle\\datasets\\simulator.py[line:270] - INFO: Finished synthetic dataset\n"
     ]
    },
    {
     "name": "stdout",
     "output_type": "stream",
     "text": [
      "Warning: n_edges is not exact due to gcastle implementation\n",
      "Duration of algorithm was 5.92sec\n"
     ]
    },
    {
     "name": "stderr",
     "output_type": "stream",
     "text": [
      "2023-08-23 19:07:12,909 - c:\\Users\\JanMarco\\MLProjects\\Masterthesis\\masterthesis\\mthesis\\lib\\site-packages\\castle\\datasets\\simulator.py[line:270] - INFO: Finished synthetic dataset\n"
     ]
    },
    {
     "name": "stdout",
     "output_type": "stream",
     "text": [
      "Warning: n_edges is not exact due to gcastle implementation\n",
      "Duration of algorithm was 10.04sec\n"
     ]
    },
    {
     "name": "stderr",
     "output_type": "stream",
     "text": [
      "2023-08-23 19:07:45,878 - c:\\Users\\JanMarco\\MLProjects\\Masterthesis\\masterthesis\\mthesis\\lib\\site-packages\\castle\\datasets\\simulator.py[line:270] - INFO: Finished synthetic dataset\n"
     ]
    },
    {
     "name": "stdout",
     "output_type": "stream",
     "text": [
      "Warning: n_edges is not exact due to gcastle implementation\n",
      "Duration of algorithm was 8.55sec\n"
     ]
    },
    {
     "name": "stderr",
     "output_type": "stream",
     "text": [
      "2023-08-23 19:08:16,956 - c:\\Users\\JanMarco\\MLProjects\\Masterthesis\\masterthesis\\mthesis\\lib\\site-packages\\castle\\datasets\\simulator.py[line:270] - INFO: Finished synthetic dataset\n"
     ]
    },
    {
     "name": "stdout",
     "output_type": "stream",
     "text": [
      "Warning: n_edges is not exact due to gcastle implementation\n",
      "Duration of algorithm was 6.59sec\n"
     ]
    },
    {
     "name": "stderr",
     "output_type": "stream",
     "text": [
      "2023-08-23 19:11:26,067 - c:\\Users\\JanMarco\\MLProjects\\Masterthesis\\masterthesis\\mthesis\\lib\\site-packages\\castle\\datasets\\simulator.py[line:270] - INFO: Finished synthetic dataset\n"
     ]
    },
    {
     "name": "stdout",
     "output_type": "stream",
     "text": [
      "Warning: n_edges is not exact due to gcastle implementation\n",
      "Duration of algorithm was 0.68sec\n"
     ]
    },
    {
     "name": "stderr",
     "output_type": "stream",
     "text": [
      "2023-08-23 19:11:36,884 - c:\\Users\\JanMarco\\MLProjects\\Masterthesis\\masterthesis\\mthesis\\lib\\site-packages\\castle\\datasets\\simulator.py[line:270] - INFO: Finished synthetic dataset\n"
     ]
    },
    {
     "name": "stdout",
     "output_type": "stream",
     "text": [
      "Warning: n_edges is not exact due to gcastle implementation\n",
      "Duration of algorithm was 1.53sec\n"
     ]
    },
    {
     "name": "stderr",
     "output_type": "stream",
     "text": [
      "2023-08-23 19:11:49,647 - c:\\Users\\JanMarco\\MLProjects\\Masterthesis\\masterthesis\\mthesis\\lib\\site-packages\\castle\\datasets\\simulator.py[line:270] - INFO: Finished synthetic dataset\n"
     ]
    },
    {
     "name": "stdout",
     "output_type": "stream",
     "text": [
      "Warning: n_edges is not exact due to gcastle implementation\n",
      "Duration of algorithm was 1.50sec\n"
     ]
    },
    {
     "name": "stderr",
     "output_type": "stream",
     "text": [
      "2023-08-23 19:12:02,143 - c:\\Users\\JanMarco\\MLProjects\\Masterthesis\\masterthesis\\mthesis\\lib\\site-packages\\castle\\datasets\\simulator.py[line:270] - INFO: Finished synthetic dataset\n"
     ]
    },
    {
     "name": "stdout",
     "output_type": "stream",
     "text": [
      "Warning: n_edges is not exact due to gcastle implementation\n",
      "Duration of algorithm was 1.51sec\n"
     ]
    },
    {
     "name": "stderr",
     "output_type": "stream",
     "text": [
      "2023-08-23 19:12:14,624 - c:\\Users\\JanMarco\\MLProjects\\Masterthesis\\masterthesis\\mthesis\\lib\\site-packages\\castle\\datasets\\simulator.py[line:270] - INFO: Finished synthetic dataset\n"
     ]
    },
    {
     "name": "stdout",
     "output_type": "stream",
     "text": [
      "Warning: n_edges is not exact due to gcastle implementation\n",
      "Duration of algorithm was 1.04sec\n"
     ]
    },
    {
     "name": "stderr",
     "output_type": "stream",
     "text": [
      "2023-08-23 19:12:26,035 - c:\\Users\\JanMarco\\MLProjects\\Masterthesis\\masterthesis\\mthesis\\lib\\site-packages\\castle\\datasets\\simulator.py[line:270] - INFO: Finished synthetic dataset\n"
     ]
    },
    {
     "name": "stdout",
     "output_type": "stream",
     "text": [
      "Warning: n_edges is not exact due to gcastle implementation\n",
      "Duration of algorithm was 0.70sec\n"
     ]
    },
    {
     "name": "stderr",
     "output_type": "stream",
     "text": [
      "2023-08-23 19:12:36,789 - c:\\Users\\JanMarco\\MLProjects\\Masterthesis\\masterthesis\\mthesis\\lib\\site-packages\\castle\\datasets\\simulator.py[line:270] - INFO: Finished synthetic dataset\n"
     ]
    },
    {
     "name": "stdout",
     "output_type": "stream",
     "text": [
      "Warning: n_edges is not exact due to gcastle implementation\n",
      "Duration of algorithm was 2.27sec\n"
     ]
    },
    {
     "name": "stderr",
     "output_type": "stream",
     "text": [
      "2023-08-23 19:12:50,336 - c:\\Users\\JanMarco\\MLProjects\\Masterthesis\\masterthesis\\mthesis\\lib\\site-packages\\castle\\datasets\\simulator.py[line:270] - INFO: Finished synthetic dataset\n"
     ]
    },
    {
     "name": "stdout",
     "output_type": "stream",
     "text": [
      "Warning: n_edges is not exact due to gcastle implementation\n",
      "Duration of algorithm was 1.10sec\n"
     ]
    },
    {
     "name": "stderr",
     "output_type": "stream",
     "text": [
      "2023-08-23 19:13:02,295 - c:\\Users\\JanMarco\\MLProjects\\Masterthesis\\masterthesis\\mthesis\\lib\\site-packages\\castle\\datasets\\simulator.py[line:270] - INFO: Finished synthetic dataset\n"
     ]
    },
    {
     "name": "stdout",
     "output_type": "stream",
     "text": [
      "Warning: n_edges is not exact due to gcastle implementation\n",
      "Duration of algorithm was 0.72sec\n"
     ]
    },
    {
     "name": "stderr",
     "output_type": "stream",
     "text": [
      "2023-08-23 19:13:13,450 - c:\\Users\\JanMarco\\MLProjects\\Masterthesis\\masterthesis\\mthesis\\lib\\site-packages\\castle\\datasets\\simulator.py[line:270] - INFO: Finished synthetic dataset\n"
     ]
    },
    {
     "name": "stdout",
     "output_type": "stream",
     "text": [
      "Warning: n_edges is not exact due to gcastle implementation\n",
      "Duration of algorithm was 2.27sec\n"
     ]
    },
    {
     "name": "stderr",
     "output_type": "stream",
     "text": [
      "2023-08-23 19:13:28,247 - c:\\Users\\JanMarco\\MLProjects\\Masterthesis\\masterthesis\\mthesis\\lib\\site-packages\\castle\\datasets\\simulator.py[line:270] - INFO: Finished synthetic dataset\n"
     ]
    },
    {
     "name": "stdout",
     "output_type": "stream",
     "text": [
      "Warning: n_edges is not exact due to gcastle implementation\n",
      "Duration of algorithm was 0.95sec\n"
     ]
    },
    {
     "name": "stderr",
     "output_type": "stream",
     "text": [
      "2023-08-23 19:13:39,494 - c:\\Users\\JanMarco\\MLProjects\\Masterthesis\\masterthesis\\mthesis\\lib\\site-packages\\castle\\datasets\\simulator.py[line:270] - INFO: Finished synthetic dataset\n"
     ]
    },
    {
     "name": "stdout",
     "output_type": "stream",
     "text": [
      "Warning: n_edges is not exact due to gcastle implementation\n",
      "Duration of algorithm was 1.68sec\n"
     ]
    },
    {
     "name": "stderr",
     "output_type": "stream",
     "text": [
      "2023-08-23 19:13:52,256 - c:\\Users\\JanMarco\\MLProjects\\Masterthesis\\masterthesis\\mthesis\\lib\\site-packages\\castle\\datasets\\simulator.py[line:270] - INFO: Finished synthetic dataset\n"
     ]
    },
    {
     "name": "stdout",
     "output_type": "stream",
     "text": [
      "Warning: n_edges is not exact due to gcastle implementation\n",
      "Duration of algorithm was 0.58sec\n"
     ]
    },
    {
     "name": "stderr",
     "output_type": "stream",
     "text": [
      "2023-08-23 19:14:02,792 - c:\\Users\\JanMarco\\MLProjects\\Masterthesis\\masterthesis\\mthesis\\lib\\site-packages\\castle\\datasets\\simulator.py[line:270] - INFO: Finished synthetic dataset\n"
     ]
    },
    {
     "name": "stdout",
     "output_type": "stream",
     "text": [
      "Warning: n_edges is not exact due to gcastle implementation\n",
      "Duration of algorithm was 0.59sec\n"
     ]
    },
    {
     "name": "stderr",
     "output_type": "stream",
     "text": [
      "2023-08-23 19:14:13,680 - c:\\Users\\JanMarco\\MLProjects\\Masterthesis\\masterthesis\\mthesis\\lib\\site-packages\\castle\\datasets\\simulator.py[line:270] - INFO: Finished synthetic dataset\n"
     ]
    },
    {
     "name": "stdout",
     "output_type": "stream",
     "text": [
      "Warning: n_edges is not exact due to gcastle implementation\n",
      "Duration of algorithm was 0.57sec\n"
     ]
    },
    {
     "name": "stderr",
     "output_type": "stream",
     "text": [
      "2023-08-23 19:14:24,163 - c:\\Users\\JanMarco\\MLProjects\\Masterthesis\\masterthesis\\mthesis\\lib\\site-packages\\castle\\datasets\\simulator.py[line:270] - INFO: Finished synthetic dataset\n"
     ]
    },
    {
     "name": "stdout",
     "output_type": "stream",
     "text": [
      "Warning: n_edges is not exact due to gcastle implementation\n",
      "Duration of algorithm was 1.17sec\n"
     ]
    },
    {
     "name": "stderr",
     "output_type": "stream",
     "text": [
      "2023-08-23 19:14:35,939 - c:\\Users\\JanMarco\\MLProjects\\Masterthesis\\masterthesis\\mthesis\\lib\\site-packages\\castle\\datasets\\simulator.py[line:270] - INFO: Finished synthetic dataset\n"
     ]
    },
    {
     "name": "stdout",
     "output_type": "stream",
     "text": [
      "Warning: n_edges is not exact due to gcastle implementation\n",
      "Duration of algorithm was 1.23sec\n"
     ]
    },
    {
     "name": "stderr",
     "output_type": "stream",
     "text": [
      "2023-08-23 19:14:48,340 - c:\\Users\\JanMarco\\MLProjects\\Masterthesis\\masterthesis\\mthesis\\lib\\site-packages\\castle\\datasets\\simulator.py[line:270] - INFO: Finished synthetic dataset\n"
     ]
    },
    {
     "name": "stdout",
     "output_type": "stream",
     "text": [
      "Warning: n_edges is not exact due to gcastle implementation\n",
      "Duration of algorithm was 0.97sec\n"
     ]
    },
    {
     "name": "stderr",
     "output_type": "stream",
     "text": [
      "2023-08-23 19:14:59,873 - c:\\Users\\JanMarco\\MLProjects\\Masterthesis\\masterthesis\\mthesis\\lib\\site-packages\\castle\\datasets\\simulator.py[line:270] - INFO: Finished synthetic dataset\n"
     ]
    },
    {
     "name": "stdout",
     "output_type": "stream",
     "text": [
      "Warning: n_edges is not exact due to gcastle implementation\n",
      "Duration of algorithm was 1.36sec\n"
     ]
    },
    {
     "name": "stderr",
     "output_type": "stream",
     "text": [
      "2023-08-23 19:15:12,080 - c:\\Users\\JanMarco\\MLProjects\\Masterthesis\\masterthesis\\mthesis\\lib\\site-packages\\castle\\datasets\\simulator.py[line:270] - INFO: Finished synthetic dataset\n"
     ]
    },
    {
     "name": "stdout",
     "output_type": "stream",
     "text": [
      "Warning: n_edges is not exact due to gcastle implementation\n",
      "Duration of algorithm was 0.51sec\n"
     ]
    },
    {
     "name": "stderr",
     "output_type": "stream",
     "text": [
      "2023-08-23 19:15:22,368 - c:\\Users\\JanMarco\\MLProjects\\Masterthesis\\masterthesis\\mthesis\\lib\\site-packages\\castle\\datasets\\simulator.py[line:270] - INFO: Finished synthetic dataset\n"
     ]
    },
    {
     "name": "stdout",
     "output_type": "stream",
     "text": [
      "Warning: n_edges is not exact due to gcastle implementation\n",
      "Duration of algorithm was 1.50sec\n"
     ]
    },
    {
     "name": "stderr",
     "output_type": "stream",
     "text": [
      "2023-08-23 19:15:34,865 - c:\\Users\\JanMarco\\MLProjects\\Masterthesis\\masterthesis\\mthesis\\lib\\site-packages\\castle\\datasets\\simulator.py[line:270] - INFO: Finished synthetic dataset\n"
     ]
    },
    {
     "name": "stdout",
     "output_type": "stream",
     "text": [
      "Warning: n_edges is not exact due to gcastle implementation\n",
      "Duration of algorithm was 2.38sec\n"
     ]
    },
    {
     "name": "stderr",
     "output_type": "stream",
     "text": [
      "2023-08-23 19:15:49,602 - c:\\Users\\JanMarco\\MLProjects\\Masterthesis\\masterthesis\\mthesis\\lib\\site-packages\\castle\\datasets\\simulator.py[line:270] - INFO: Finished synthetic dataset\n"
     ]
    },
    {
     "name": "stdout",
     "output_type": "stream",
     "text": [
      "Warning: n_edges is not exact due to gcastle implementation\n",
      "Duration of algorithm was 1.45sec\n"
     ]
    },
    {
     "name": "stderr",
     "output_type": "stream",
     "text": [
      "2023-08-23 19:16:02,352 - c:\\Users\\JanMarco\\MLProjects\\Masterthesis\\masterthesis\\mthesis\\lib\\site-packages\\castle\\datasets\\simulator.py[line:270] - INFO: Finished synthetic dataset\n"
     ]
    },
    {
     "name": "stdout",
     "output_type": "stream",
     "text": [
      "Warning: n_edges is not exact due to gcastle implementation\n",
      "Duration of algorithm was 1.50sec\n"
     ]
    },
    {
     "name": "stderr",
     "output_type": "stream",
     "text": [
      "2023-08-23 19:16:15,243 - c:\\Users\\JanMarco\\MLProjects\\Masterthesis\\masterthesis\\mthesis\\lib\\site-packages\\castle\\datasets\\simulator.py[line:270] - INFO: Finished synthetic dataset\n"
     ]
    },
    {
     "name": "stdout",
     "output_type": "stream",
     "text": [
      "Warning: n_edges is not exact due to gcastle implementation\n",
      "Duration of algorithm was 1.30sec\n"
     ]
    },
    {
     "name": "stderr",
     "output_type": "stream",
     "text": [
      "2023-08-23 19:16:27,337 - c:\\Users\\JanMarco\\MLProjects\\Masterthesis\\masterthesis\\mthesis\\lib\\site-packages\\castle\\datasets\\simulator.py[line:270] - INFO: Finished synthetic dataset\n"
     ]
    },
    {
     "name": "stdout",
     "output_type": "stream",
     "text": [
      "Warning: n_edges is not exact due to gcastle implementation\n",
      "Duration of algorithm was 1.55sec\n"
     ]
    },
    {
     "name": "stderr",
     "output_type": "stream",
     "text": [
      "2023-08-23 19:16:40,045 - c:\\Users\\JanMarco\\MLProjects\\Masterthesis\\masterthesis\\mthesis\\lib\\site-packages\\castle\\datasets\\simulator.py[line:270] - INFO: Finished synthetic dataset\n"
     ]
    },
    {
     "name": "stdout",
     "output_type": "stream",
     "text": [
      "Warning: n_edges is not exact due to gcastle implementation\n",
      "Duration of algorithm was 0.94sec\n"
     ]
    },
    {
     "name": "stderr",
     "output_type": "stream",
     "text": [
      "2023-08-23 19:16:51,983 - c:\\Users\\JanMarco\\MLProjects\\Masterthesis\\masterthesis\\mthesis\\lib\\site-packages\\castle\\datasets\\simulator.py[line:270] - INFO: Finished synthetic dataset\n"
     ]
    },
    {
     "name": "stdout",
     "output_type": "stream",
     "text": [
      "Warning: n_edges is not exact due to gcastle implementation\n",
      "Duration of algorithm was 1.43sec\n"
     ]
    },
    {
     "name": "stderr",
     "output_type": "stream",
     "text": [
      "2023-08-23 19:17:04,367 - c:\\Users\\JanMarco\\MLProjects\\Masterthesis\\masterthesis\\mthesis\\lib\\site-packages\\castle\\datasets\\simulator.py[line:270] - INFO: Finished synthetic dataset\n"
     ]
    },
    {
     "name": "stdout",
     "output_type": "stream",
     "text": [
      "Warning: n_edges is not exact due to gcastle implementation\n",
      "Duration of algorithm was 2.55sec\n"
     ]
    },
    {
     "name": "stderr",
     "output_type": "stream",
     "text": [
      "2023-08-23 19:17:18,948 - c:\\Users\\JanMarco\\MLProjects\\Masterthesis\\masterthesis\\mthesis\\lib\\site-packages\\castle\\datasets\\simulator.py[line:270] - INFO: Finished synthetic dataset\n"
     ]
    },
    {
     "name": "stdout",
     "output_type": "stream",
     "text": [
      "Warning: n_edges is not exact due to gcastle implementation\n",
      "Duration of algorithm was 2.94sec\n"
     ]
    },
    {
     "name": "stderr",
     "output_type": "stream",
     "text": [
      "2023-08-23 19:17:34,273 - c:\\Users\\JanMarco\\MLProjects\\Masterthesis\\masterthesis\\mthesis\\lib\\site-packages\\castle\\datasets\\simulator.py[line:270] - INFO: Finished synthetic dataset\n"
     ]
    },
    {
     "name": "stdout",
     "output_type": "stream",
     "text": [
      "Warning: n_edges is not exact due to gcastle implementation\n",
      "Duration of algorithm was 2.18sec\n"
     ]
    },
    {
     "name": "stderr",
     "output_type": "stream",
     "text": [
      "2023-08-23 19:17:48,008 - c:\\Users\\JanMarco\\MLProjects\\Masterthesis\\masterthesis\\mthesis\\lib\\site-packages\\castle\\datasets\\simulator.py[line:270] - INFO: Finished synthetic dataset\n"
     ]
    },
    {
     "name": "stdout",
     "output_type": "stream",
     "text": [
      "Warning: n_edges is not exact due to gcastle implementation\n",
      "Duration of algorithm was 2.39sec\n"
     ]
    },
    {
     "name": "stderr",
     "output_type": "stream",
     "text": [
      "2023-08-23 19:18:02,092 - c:\\Users\\JanMarco\\MLProjects\\Masterthesis\\masterthesis\\mthesis\\lib\\site-packages\\castle\\datasets\\simulator.py[line:270] - INFO: Finished synthetic dataset\n"
     ]
    },
    {
     "name": "stdout",
     "output_type": "stream",
     "text": [
      "Warning: n_edges is not exact due to gcastle implementation\n",
      "Duration of algorithm was 2.17sec\n"
     ]
    },
    {
     "name": "stderr",
     "output_type": "stream",
     "text": [
      "2023-08-23 19:18:16,315 - c:\\Users\\JanMarco\\MLProjects\\Masterthesis\\masterthesis\\mthesis\\lib\\site-packages\\castle\\datasets\\simulator.py[line:270] - INFO: Finished synthetic dataset\n"
     ]
    },
    {
     "name": "stdout",
     "output_type": "stream",
     "text": [
      "Warning: n_edges is not exact due to gcastle implementation\n",
      "Duration of algorithm was 3.51sec\n"
     ]
    },
    {
     "name": "stderr",
     "output_type": "stream",
     "text": [
      "2023-08-23 19:18:34,368 - c:\\Users\\JanMarco\\MLProjects\\Masterthesis\\masterthesis\\mthesis\\lib\\site-packages\\castle\\datasets\\simulator.py[line:270] - INFO: Finished synthetic dataset\n"
     ]
    },
    {
     "name": "stdout",
     "output_type": "stream",
     "text": [
      "Warning: n_edges is not exact due to gcastle implementation\n",
      "Duration of algorithm was 4.74sec\n"
     ]
    },
    {
     "name": "stderr",
     "output_type": "stream",
     "text": [
      "2023-08-23 19:18:53,919 - c:\\Users\\JanMarco\\MLProjects\\Masterthesis\\masterthesis\\mthesis\\lib\\site-packages\\castle\\datasets\\simulator.py[line:270] - INFO: Finished synthetic dataset\n"
     ]
    },
    {
     "name": "stdout",
     "output_type": "stream",
     "text": [
      "Warning: n_edges is not exact due to gcastle implementation\n",
      "Duration of algorithm was 3.20sec\n"
     ]
    },
    {
     "name": "stderr",
     "output_type": "stream",
     "text": [
      "2023-08-23 19:19:10,651 - c:\\Users\\JanMarco\\MLProjects\\Masterthesis\\masterthesis\\mthesis\\lib\\site-packages\\castle\\datasets\\simulator.py[line:270] - INFO: Finished synthetic dataset\n"
     ]
    },
    {
     "name": "stdout",
     "output_type": "stream",
     "text": [
      "Warning: n_edges is not exact due to gcastle implementation\n",
      "Duration of algorithm was 1.01sec\n"
     ]
    },
    {
     "name": "stderr",
     "output_type": "stream",
     "text": [
      "2023-08-23 19:19:23,749 - c:\\Users\\JanMarco\\MLProjects\\Masterthesis\\masterthesis\\mthesis\\lib\\site-packages\\castle\\datasets\\simulator.py[line:270] - INFO: Finished synthetic dataset\n"
     ]
    },
    {
     "name": "stdout",
     "output_type": "stream",
     "text": [
      "Warning: n_edges is not exact due to gcastle implementation\n",
      "Duration of algorithm was 0.88sec\n"
     ]
    },
    {
     "name": "stderr",
     "output_type": "stream",
     "text": [
      "2023-08-23 19:19:35,489 - c:\\Users\\JanMarco\\MLProjects\\Masterthesis\\masterthesis\\mthesis\\lib\\site-packages\\castle\\datasets\\simulator.py[line:270] - INFO: Finished synthetic dataset\n"
     ]
    },
    {
     "name": "stdout",
     "output_type": "stream",
     "text": [
      "Warning: n_edges is not exact due to gcastle implementation\n",
      "Duration of algorithm was 0.77sec\n"
     ]
    },
    {
     "name": "stderr",
     "output_type": "stream",
     "text": [
      "2023-08-23 19:19:46,368 - c:\\Users\\JanMarco\\MLProjects\\Masterthesis\\masterthesis\\mthesis\\lib\\site-packages\\castle\\datasets\\simulator.py[line:270] - INFO: Finished synthetic dataset\n"
     ]
    },
    {
     "name": "stdout",
     "output_type": "stream",
     "text": [
      "Warning: n_edges is not exact due to gcastle implementation\n",
      "Duration of algorithm was 2.08sec\n"
     ]
    },
    {
     "name": "stderr",
     "output_type": "stream",
     "text": [
      "2023-08-23 19:20:00,005 - c:\\Users\\JanMarco\\MLProjects\\Masterthesis\\masterthesis\\mthesis\\lib\\site-packages\\castle\\datasets\\simulator.py[line:270] - INFO: Finished synthetic dataset\n"
     ]
    },
    {
     "name": "stdout",
     "output_type": "stream",
     "text": [
      "Warning: n_edges is not exact due to gcastle implementation\n",
      "Duration of algorithm was 1.61sec\n"
     ]
    },
    {
     "name": "stderr",
     "output_type": "stream",
     "text": [
      "2023-08-23 19:20:12,969 - c:\\Users\\JanMarco\\MLProjects\\Masterthesis\\masterthesis\\mthesis\\lib\\site-packages\\castle\\datasets\\simulator.py[line:270] - INFO: Finished synthetic dataset\n"
     ]
    },
    {
     "name": "stdout",
     "output_type": "stream",
     "text": [
      "Warning: n_edges is not exact due to gcastle implementation\n",
      "Duration of algorithm was 1.56sec\n"
     ]
    },
    {
     "name": "stderr",
     "output_type": "stream",
     "text": [
      "2023-08-23 19:20:26,163 - c:\\Users\\JanMarco\\MLProjects\\Masterthesis\\masterthesis\\mthesis\\lib\\site-packages\\castle\\datasets\\simulator.py[line:270] - INFO: Finished synthetic dataset\n"
     ]
    },
    {
     "name": "stdout",
     "output_type": "stream",
     "text": [
      "Warning: n_edges is not exact due to gcastle implementation\n",
      "Duration of algorithm was 2.53sec\n"
     ]
    },
    {
     "name": "stderr",
     "output_type": "stream",
     "text": [
      "2023-08-23 19:20:40,896 - c:\\Users\\JanMarco\\MLProjects\\Masterthesis\\masterthesis\\mthesis\\lib\\site-packages\\castle\\datasets\\simulator.py[line:270] - INFO: Finished synthetic dataset\n"
     ]
    },
    {
     "name": "stdout",
     "output_type": "stream",
     "text": [
      "Warning: n_edges is not exact due to gcastle implementation\n",
      "Duration of algorithm was 2.48sec\n"
     ]
    },
    {
     "name": "stderr",
     "output_type": "stream",
     "text": [
      "2023-08-23 19:20:57,932 - c:\\Users\\JanMarco\\MLProjects\\Masterthesis\\masterthesis\\mthesis\\lib\\site-packages\\castle\\datasets\\simulator.py[line:270] - INFO: Finished synthetic dataset\n"
     ]
    },
    {
     "name": "stdout",
     "output_type": "stream",
     "text": [
      "Warning: n_edges is not exact due to gcastle implementation\n",
      "Duration of algorithm was 1.37sec\n"
     ]
    },
    {
     "name": "stderr",
     "output_type": "stream",
     "text": [
      "2023-08-23 19:21:10,137 - c:\\Users\\JanMarco\\MLProjects\\Masterthesis\\masterthesis\\mthesis\\lib\\site-packages\\castle\\datasets\\simulator.py[line:270] - INFO: Finished synthetic dataset\n"
     ]
    },
    {
     "name": "stdout",
     "output_type": "stream",
     "text": [
      "Warning: n_edges is not exact due to gcastle implementation\n",
      "Duration of algorithm was 2.23sec\n"
     ]
    },
    {
     "name": "stderr",
     "output_type": "stream",
     "text": [
      "2023-08-23 19:21:24,498 - c:\\Users\\JanMarco\\MLProjects\\Masterthesis\\masterthesis\\mthesis\\lib\\site-packages\\castle\\datasets\\simulator.py[line:270] - INFO: Finished synthetic dataset\n"
     ]
    },
    {
     "name": "stdout",
     "output_type": "stream",
     "text": [
      "Warning: n_edges is not exact due to gcastle implementation\n",
      "Duration of algorithm was 4.18sec\n"
     ]
    },
    {
     "name": "stderr",
     "output_type": "stream",
     "text": [
      "2023-08-23 19:21:41,274 - c:\\Users\\JanMarco\\MLProjects\\Masterthesis\\masterthesis\\mthesis\\lib\\site-packages\\castle\\datasets\\simulator.py[line:270] - INFO: Finished synthetic dataset\n"
     ]
    },
    {
     "name": "stdout",
     "output_type": "stream",
     "text": [
      "Warning: n_edges is not exact due to gcastle implementation\n",
      "Duration of algorithm was 3.16sec\n"
     ]
    },
    {
     "name": "stderr",
     "output_type": "stream",
     "text": [
      "2023-08-23 19:21:58,153 - c:\\Users\\JanMarco\\MLProjects\\Masterthesis\\masterthesis\\mthesis\\lib\\site-packages\\castle\\datasets\\simulator.py[line:270] - INFO: Finished synthetic dataset\n"
     ]
    },
    {
     "name": "stdout",
     "output_type": "stream",
     "text": [
      "Warning: n_edges is not exact due to gcastle implementation\n",
      "Duration of algorithm was 2.44sec\n"
     ]
    },
    {
     "name": "stderr",
     "output_type": "stream",
     "text": [
      "2023-08-23 19:22:38,139 - c:\\Users\\JanMarco\\MLProjects\\Masterthesis\\masterthesis\\mthesis\\lib\\site-packages\\castle\\datasets\\simulator.py[line:270] - INFO: Finished synthetic dataset\n"
     ]
    },
    {
     "name": "stdout",
     "output_type": "stream",
     "text": [
      "Warning: n_edges is not exact due to gcastle implementation\n",
      "Duration of algorithm was 2.72sec\n"
     ]
    },
    {
     "name": "stderr",
     "output_type": "stream",
     "text": [
      "invalid value encountered in double_scalars\n",
      "invalid value encountered in double_scalars\n",
      "2023-08-23 19:22:54,631 - c:\\Users\\JanMarco\\MLProjects\\Masterthesis\\masterthesis\\mthesis\\lib\\site-packages\\castle\\datasets\\simulator.py[line:270] - INFO: Finished synthetic dataset\n"
     ]
    },
    {
     "name": "stdout",
     "output_type": "stream",
     "text": [
      "Warning: n_edges is not exact due to gcastle implementation\n",
      "Duration of algorithm was 2.54sec\n"
     ]
    },
    {
     "name": "stderr",
     "output_type": "stream",
     "text": [
      "2023-08-23 19:23:09,320 - c:\\Users\\JanMarco\\MLProjects\\Masterthesis\\masterthesis\\mthesis\\lib\\site-packages\\castle\\datasets\\simulator.py[line:270] - INFO: Finished synthetic dataset\n"
     ]
    },
    {
     "name": "stdout",
     "output_type": "stream",
     "text": [
      "Warning: n_edges is not exact due to gcastle implementation\n",
      "Duration of algorithm was 4.58sec\n"
     ]
    },
    {
     "name": "stderr",
     "output_type": "stream",
     "text": [
      "2023-08-23 19:23:27,665 - c:\\Users\\JanMarco\\MLProjects\\Masterthesis\\masterthesis\\mthesis\\lib\\site-packages\\castle\\datasets\\simulator.py[line:270] - INFO: Finished synthetic dataset\n"
     ]
    },
    {
     "name": "stdout",
     "output_type": "stream",
     "text": [
      "Warning: n_edges is not exact due to gcastle implementation\n",
      "Duration of algorithm was 3.92sec\n"
     ]
    },
    {
     "name": "stderr",
     "output_type": "stream",
     "text": [
      "2023-08-23 19:23:45,118 - c:\\Users\\JanMarco\\MLProjects\\Masterthesis\\masterthesis\\mthesis\\lib\\site-packages\\castle\\datasets\\simulator.py[line:270] - INFO: Finished synthetic dataset\n"
     ]
    },
    {
     "name": "stdout",
     "output_type": "stream",
     "text": [
      "Warning: n_edges is not exact due to gcastle implementation\n",
      "Duration of algorithm was 3.95sec\n"
     ]
    },
    {
     "name": "stderr",
     "output_type": "stream",
     "text": [
      "2023-08-23 19:24:02,649 - c:\\Users\\JanMarco\\MLProjects\\Masterthesis\\masterthesis\\mthesis\\lib\\site-packages\\castle\\datasets\\simulator.py[line:270] - INFO: Finished synthetic dataset\n"
     ]
    },
    {
     "name": "stdout",
     "output_type": "stream",
     "text": [
      "Warning: n_edges is not exact due to gcastle implementation\n",
      "Duration of algorithm was 4.01sec\n"
     ]
    },
    {
     "name": "stderr",
     "output_type": "stream",
     "text": [
      "2023-08-23 19:24:21,485 - c:\\Users\\JanMarco\\MLProjects\\Masterthesis\\masterthesis\\mthesis\\lib\\site-packages\\castle\\datasets\\simulator.py[line:270] - INFO: Finished synthetic dataset\n"
     ]
    },
    {
     "name": "stdout",
     "output_type": "stream",
     "text": [
      "Warning: n_edges is not exact due to gcastle implementation\n",
      "Duration of algorithm was 6.60sec\n"
     ]
    },
    {
     "name": "stderr",
     "output_type": "stream",
     "text": [
      "2023-08-23 19:24:42,421 - c:\\Users\\JanMarco\\MLProjects\\Masterthesis\\masterthesis\\mthesis\\lib\\site-packages\\castle\\datasets\\simulator.py[line:270] - INFO: Finished synthetic dataset\n"
     ]
    },
    {
     "name": "stdout",
     "output_type": "stream",
     "text": [
      "Warning: n_edges is not exact due to gcastle implementation\n",
      "Duration of algorithm was 5.34sec\n"
     ]
    },
    {
     "name": "stderr",
     "output_type": "stream",
     "text": [
      "2023-08-23 19:25:03,233 - c:\\Users\\JanMarco\\MLProjects\\Masterthesis\\masterthesis\\mthesis\\lib\\site-packages\\castle\\datasets\\simulator.py[line:270] - INFO: Finished synthetic dataset\n"
     ]
    },
    {
     "name": "stdout",
     "output_type": "stream",
     "text": [
      "Warning: n_edges is not exact due to gcastle implementation\n",
      "Duration of algorithm was 9.38sec\n"
     ]
    },
    {
     "name": "stderr",
     "output_type": "stream",
     "text": [
      "2023-08-23 19:25:34,533 - c:\\Users\\JanMarco\\MLProjects\\Masterthesis\\masterthesis\\mthesis\\lib\\site-packages\\castle\\datasets\\simulator.py[line:270] - INFO: Finished synthetic dataset\n"
     ]
    },
    {
     "name": "stdout",
     "output_type": "stream",
     "text": [
      "Warning: n_edges is not exact due to gcastle implementation\n",
      "Duration of algorithm was 9.32sec\n"
     ]
    },
    {
     "name": "stderr",
     "output_type": "stream",
     "text": [
      "2023-08-23 19:26:06,389 - c:\\Users\\JanMarco\\MLProjects\\Masterthesis\\masterthesis\\mthesis\\lib\\site-packages\\castle\\datasets\\simulator.py[line:270] - INFO: Finished synthetic dataset\n"
     ]
    },
    {
     "name": "stdout",
     "output_type": "stream",
     "text": [
      "Warning: n_edges is not exact due to gcastle implementation\n",
      "Duration of algorithm was 10.04sec\n"
     ]
    },
    {
     "name": "stderr",
     "output_type": "stream",
     "text": [
      "2023-08-23 19:26:39,286 - c:\\Users\\JanMarco\\MLProjects\\Masterthesis\\masterthesis\\mthesis\\lib\\site-packages\\castle\\datasets\\simulator.py[line:270] - INFO: Finished synthetic dataset\n"
     ]
    },
    {
     "name": "stdout",
     "output_type": "stream",
     "text": [
      "Warning: n_edges is not exact due to gcastle implementation\n",
      "Duration of algorithm was 2.31sec\n"
     ]
    },
    {
     "name": "stderr",
     "output_type": "stream",
     "text": [
      "2023-08-23 19:26:53,850 - c:\\Users\\JanMarco\\MLProjects\\Masterthesis\\masterthesis\\mthesis\\lib\\site-packages\\castle\\datasets\\simulator.py[line:270] - INFO: Finished synthetic dataset\n"
     ]
    },
    {
     "name": "stdout",
     "output_type": "stream",
     "text": [
      "Warning: n_edges is not exact due to gcastle implementation\n",
      "Duration of algorithm was 1.74sec\n"
     ]
    },
    {
     "name": "stderr",
     "output_type": "stream",
     "text": [
      "2023-08-23 19:27:06,571 - c:\\Users\\JanMarco\\MLProjects\\Masterthesis\\masterthesis\\mthesis\\lib\\site-packages\\castle\\datasets\\simulator.py[line:270] - INFO: Finished synthetic dataset\n"
     ]
    },
    {
     "name": "stdout",
     "output_type": "stream",
     "text": [
      "Warning: n_edges is not exact due to gcastle implementation\n",
      "Duration of algorithm was 2.11sec\n"
     ]
    },
    {
     "name": "stderr",
     "output_type": "stream",
     "text": [
      "2023-08-23 19:27:21,309 - c:\\Users\\JanMarco\\MLProjects\\Masterthesis\\masterthesis\\mthesis\\lib\\site-packages\\castle\\datasets\\simulator.py[line:270] - INFO: Finished synthetic dataset\n"
     ]
    },
    {
     "name": "stdout",
     "output_type": "stream",
     "text": [
      "Warning: n_edges is not exact due to gcastle implementation\n",
      "Duration of algorithm was 3.84sec\n"
     ]
    },
    {
     "name": "stderr",
     "output_type": "stream",
     "text": [
      "2023-08-23 19:27:38,902 - c:\\Users\\JanMarco\\MLProjects\\Masterthesis\\masterthesis\\mthesis\\lib\\site-packages\\castle\\datasets\\simulator.py[line:270] - INFO: Finished synthetic dataset\n"
     ]
    },
    {
     "name": "stdout",
     "output_type": "stream",
     "text": [
      "Warning: n_edges is not exact due to gcastle implementation\n",
      "Duration of algorithm was 3.50sec\n"
     ]
    },
    {
     "name": "stderr",
     "output_type": "stream",
     "text": [
      "2023-08-23 19:27:56,308 - c:\\Users\\JanMarco\\MLProjects\\Masterthesis\\masterthesis\\mthesis\\lib\\site-packages\\castle\\datasets\\simulator.py[line:270] - INFO: Finished synthetic dataset\n"
     ]
    },
    {
     "name": "stdout",
     "output_type": "stream",
     "text": [
      "Warning: n_edges is not exact due to gcastle implementation\n",
      "Duration of algorithm was 3.90sec\n"
     ]
    },
    {
     "name": "stderr",
     "output_type": "stream",
     "text": [
      "2023-08-23 19:28:14,365 - c:\\Users\\JanMarco\\MLProjects\\Masterthesis\\masterthesis\\mthesis\\lib\\site-packages\\castle\\datasets\\simulator.py[line:270] - INFO: Finished synthetic dataset\n"
     ]
    },
    {
     "name": "stdout",
     "output_type": "stream",
     "text": [
      "Warning: n_edges is not exact due to gcastle implementation\n",
      "Duration of algorithm was 4.42sec\n"
     ]
    },
    {
     "name": "stderr",
     "output_type": "stream",
     "text": [
      "2023-08-23 19:28:34,898 - c:\\Users\\JanMarco\\MLProjects\\Masterthesis\\masterthesis\\mthesis\\lib\\site-packages\\castle\\datasets\\simulator.py[line:270] - INFO: Finished synthetic dataset\n"
     ]
    },
    {
     "name": "stdout",
     "output_type": "stream",
     "text": [
      "Warning: n_edges is not exact due to gcastle implementation\n",
      "Duration of algorithm was 4.75sec\n"
     ]
    },
    {
     "name": "stderr",
     "output_type": "stream",
     "text": [
      "2023-08-23 19:28:54,693 - c:\\Users\\JanMarco\\MLProjects\\Masterthesis\\masterthesis\\mthesis\\lib\\site-packages\\castle\\datasets\\simulator.py[line:270] - INFO: Finished synthetic dataset\n"
     ]
    },
    {
     "name": "stdout",
     "output_type": "stream",
     "text": [
      "Warning: n_edges is not exact due to gcastle implementation\n",
      "Duration of algorithm was 5.46sec\n"
     ]
    },
    {
     "name": "stderr",
     "output_type": "stream",
     "text": [
      "2023-08-23 19:29:15,584 - c:\\Users\\JanMarco\\MLProjects\\Masterthesis\\masterthesis\\mthesis\\lib\\site-packages\\castle\\datasets\\simulator.py[line:270] - INFO: Finished synthetic dataset\n"
     ]
    },
    {
     "name": "stdout",
     "output_type": "stream",
     "text": [
      "Warning: n_edges is not exact due to gcastle implementation\n",
      "Duration of algorithm was 9.69sec\n"
     ]
    },
    {
     "name": "stderr",
     "output_type": "stream",
     "text": [
      "2023-08-23 19:29:48,329 - c:\\Users\\JanMarco\\MLProjects\\Masterthesis\\masterthesis\\mthesis\\lib\\site-packages\\castle\\datasets\\simulator.py[line:270] - INFO: Finished synthetic dataset\n"
     ]
    },
    {
     "name": "stdout",
     "output_type": "stream",
     "text": [
      "Warning: n_edges is not exact due to gcastle implementation\n",
      "Duration of algorithm was 10.59sec\n"
     ]
    },
    {
     "name": "stderr",
     "output_type": "stream",
     "text": [
      "2023-08-23 19:30:20,400 - c:\\Users\\JanMarco\\MLProjects\\Masterthesis\\masterthesis\\mthesis\\lib\\site-packages\\castle\\datasets\\simulator.py[line:270] - INFO: Finished synthetic dataset\n"
     ]
    },
    {
     "name": "stdout",
     "output_type": "stream",
     "text": [
      "Warning: n_edges is not exact due to gcastle implementation\n",
      "Duration of algorithm was 8.32sec\n"
     ]
    },
    {
     "name": "stderr",
     "output_type": "stream",
     "text": [
      "2023-08-23 19:30:48,930 - c:\\Users\\JanMarco\\MLProjects\\Masterthesis\\masterthesis\\mthesis\\lib\\site-packages\\castle\\datasets\\simulator.py[line:270] - INFO: Finished synthetic dataset\n"
     ]
    },
    {
     "name": "stdout",
     "output_type": "stream",
     "text": [
      "Warning: n_edges is not exact due to gcastle implementation\n",
      "Duration of algorithm was 0.21sec\n"
     ]
    },
    {
     "name": "stderr",
     "output_type": "stream",
     "text": [
      "2023-08-23 19:30:58,308 - c:\\Users\\JanMarco\\MLProjects\\Masterthesis\\masterthesis\\mthesis\\lib\\site-packages\\castle\\datasets\\simulator.py[line:270] - INFO: Finished synthetic dataset\n"
     ]
    },
    {
     "name": "stdout",
     "output_type": "stream",
     "text": [
      "Warning: n_edges is not exact due to gcastle implementation\n",
      "Duration of algorithm was 0.33sec\n"
     ]
    },
    {
     "name": "stderr",
     "output_type": "stream",
     "text": [
      "2023-08-23 19:31:08,042 - c:\\Users\\JanMarco\\MLProjects\\Masterthesis\\masterthesis\\mthesis\\lib\\site-packages\\castle\\datasets\\simulator.py[line:270] - INFO: Finished synthetic dataset\n"
     ]
    },
    {
     "name": "stdout",
     "output_type": "stream",
     "text": [
      "Warning: n_edges is not exact due to gcastle implementation\n",
      "Duration of algorithm was 0.28sec\n"
     ]
    },
    {
     "name": "stderr",
     "output_type": "stream",
     "text": [
      "2023-08-23 19:31:17,543 - c:\\Users\\JanMarco\\MLProjects\\Masterthesis\\masterthesis\\mthesis\\lib\\site-packages\\castle\\datasets\\simulator.py[line:270] - INFO: Finished synthetic dataset\n"
     ]
    },
    {
     "name": "stdout",
     "output_type": "stream",
     "text": [
      "Warning: n_edges is not exact due to gcastle implementation\n",
      "Duration of algorithm was 0.34sec\n"
     ]
    },
    {
     "name": "stderr",
     "output_type": "stream",
     "text": [
      "2023-08-23 19:31:27,238 - c:\\Users\\JanMarco\\MLProjects\\Masterthesis\\masterthesis\\mthesis\\lib\\site-packages\\castle\\datasets\\simulator.py[line:270] - INFO: Finished synthetic dataset\n"
     ]
    },
    {
     "name": "stdout",
     "output_type": "stream",
     "text": [
      "Warning: n_edges is not exact due to gcastle implementation\n",
      "Duration of algorithm was 0.20sec\n"
     ]
    },
    {
     "name": "stderr",
     "output_type": "stream",
     "text": [
      "2023-08-23 19:31:36,695 - c:\\Users\\JanMarco\\MLProjects\\Masterthesis\\masterthesis\\mthesis\\lib\\site-packages\\castle\\datasets\\simulator.py[line:270] - INFO: Finished synthetic dataset\n"
     ]
    },
    {
     "name": "stdout",
     "output_type": "stream",
     "text": [
      "Warning: n_edges is not exact due to gcastle implementation\n",
      "Duration of algorithm was 0.27sec\n"
     ]
    },
    {
     "name": "stderr",
     "output_type": "stream",
     "text": [
      "2023-08-23 19:31:46,240 - c:\\Users\\JanMarco\\MLProjects\\Masterthesis\\masterthesis\\mthesis\\lib\\site-packages\\castle\\datasets\\simulator.py[line:270] - INFO: Finished synthetic dataset\n"
     ]
    },
    {
     "name": "stdout",
     "output_type": "stream",
     "text": [
      "Warning: n_edges is not exact due to gcastle implementation\n",
      "Duration of algorithm was 0.53sec\n"
     ]
    },
    {
     "name": "stderr",
     "output_type": "stream",
     "text": [
      "2023-08-23 19:31:56,511 - c:\\Users\\JanMarco\\MLProjects\\Masterthesis\\masterthesis\\mthesis\\lib\\site-packages\\castle\\datasets\\simulator.py[line:270] - INFO: Finished synthetic dataset\n"
     ]
    },
    {
     "name": "stdout",
     "output_type": "stream",
     "text": [
      "Warning: n_edges is not exact due to gcastle implementation\n",
      "Duration of algorithm was 0.52sec\n"
     ]
    },
    {
     "name": "stderr",
     "output_type": "stream",
     "text": [
      "2023-08-23 19:32:06,919 - c:\\Users\\JanMarco\\MLProjects\\Masterthesis\\masterthesis\\mthesis\\lib\\site-packages\\castle\\datasets\\simulator.py[line:270] - INFO: Finished synthetic dataset\n"
     ]
    },
    {
     "name": "stdout",
     "output_type": "stream",
     "text": [
      "Warning: n_edges is not exact due to gcastle implementation\n",
      "Duration of algorithm was 0.47sec\n"
     ]
    },
    {
     "name": "stderr",
     "output_type": "stream",
     "text": [
      "2023-08-23 19:32:16,886 - c:\\Users\\JanMarco\\MLProjects\\Masterthesis\\masterthesis\\mthesis\\lib\\site-packages\\castle\\datasets\\simulator.py[line:270] - INFO: Finished synthetic dataset\n"
     ]
    },
    {
     "name": "stdout",
     "output_type": "stream",
     "text": [
      "Warning: n_edges is not exact due to gcastle implementation\n",
      "Duration of algorithm was 0.89sec\n"
     ]
    },
    {
     "name": "stderr",
     "output_type": "stream",
     "text": [
      "2023-08-23 19:32:27,891 - c:\\Users\\JanMarco\\MLProjects\\Masterthesis\\masterthesis\\mthesis\\lib\\site-packages\\castle\\datasets\\simulator.py[line:270] - INFO: Finished synthetic dataset\n"
     ]
    },
    {
     "name": "stdout",
     "output_type": "stream",
     "text": [
      "Warning: n_edges is not exact due to gcastle implementation\n",
      "Duration of algorithm was 0.56sec\n"
     ]
    },
    {
     "name": "stderr",
     "output_type": "stream",
     "text": [
      "2023-08-23 19:32:38,260 - c:\\Users\\JanMarco\\MLProjects\\Masterthesis\\masterthesis\\mthesis\\lib\\site-packages\\castle\\datasets\\simulator.py[line:270] - INFO: Finished synthetic dataset\n"
     ]
    },
    {
     "name": "stdout",
     "output_type": "stream",
     "text": [
      "Warning: n_edges is not exact due to gcastle implementation\n",
      "Duration of algorithm was 1.87sec\n"
     ]
    },
    {
     "name": "stderr",
     "output_type": "stream",
     "text": [
      "2023-08-23 19:32:50,399 - c:\\Users\\JanMarco\\MLProjects\\Masterthesis\\masterthesis\\mthesis\\lib\\site-packages\\castle\\datasets\\simulator.py[line:270] - INFO: Finished synthetic dataset\n"
     ]
    },
    {
     "name": "stdout",
     "output_type": "stream",
     "text": [
      "Warning: n_edges is not exact due to gcastle implementation\n",
      "Duration of algorithm was 0.40sec\n"
     ]
    },
    {
     "name": "stderr",
     "output_type": "stream",
     "text": [
      "2023-08-23 19:33:00,298 - c:\\Users\\JanMarco\\MLProjects\\Masterthesis\\masterthesis\\mthesis\\lib\\site-packages\\castle\\datasets\\simulator.py[line:270] - INFO: Finished synthetic dataset\n"
     ]
    },
    {
     "name": "stdout",
     "output_type": "stream",
     "text": [
      "Warning: n_edges is not exact due to gcastle implementation\n",
      "Duration of algorithm was 0.31sec\n"
     ]
    },
    {
     "name": "stderr",
     "output_type": "stream",
     "text": [
      "2023-08-23 19:33:10,111 - c:\\Users\\JanMarco\\MLProjects\\Masterthesis\\masterthesis\\mthesis\\lib\\site-packages\\castle\\datasets\\simulator.py[line:270] - INFO: Finished synthetic dataset\n"
     ]
    },
    {
     "name": "stdout",
     "output_type": "stream",
     "text": [
      "Warning: n_edges is not exact due to gcastle implementation\n",
      "Duration of algorithm was 0.43sec\n"
     ]
    },
    {
     "name": "stderr",
     "output_type": "stream",
     "text": [
      "2023-08-23 19:33:20,335 - c:\\Users\\JanMarco\\MLProjects\\Masterthesis\\masterthesis\\mthesis\\lib\\site-packages\\castle\\datasets\\simulator.py[line:270] - INFO: Finished synthetic dataset\n"
     ]
    },
    {
     "name": "stdout",
     "output_type": "stream",
     "text": [
      "Warning: n_edges is not exact due to gcastle implementation\n",
      "Duration of algorithm was 1.00sec\n"
     ]
    },
    {
     "name": "stderr",
     "output_type": "stream",
     "text": [
      "2023-08-23 19:33:31,618 - c:\\Users\\JanMarco\\MLProjects\\Masterthesis\\masterthesis\\mthesis\\lib\\site-packages\\castle\\datasets\\simulator.py[line:270] - INFO: Finished synthetic dataset\n"
     ]
    },
    {
     "name": "stdout",
     "output_type": "stream",
     "text": [
      "Warning: n_edges is not exact due to gcastle implementation\n",
      "Duration of algorithm was 0.74sec\n"
     ]
    },
    {
     "name": "stderr",
     "output_type": "stream",
     "text": [
      "2023-08-23 19:33:42,258 - c:\\Users\\JanMarco\\MLProjects\\Masterthesis\\masterthesis\\mthesis\\lib\\site-packages\\castle\\datasets\\simulator.py[line:270] - INFO: Finished synthetic dataset\n"
     ]
    },
    {
     "name": "stdout",
     "output_type": "stream",
     "text": [
      "Warning: n_edges is not exact due to gcastle implementation\n",
      "Duration of algorithm was 1.05sec\n"
     ]
    },
    {
     "name": "stderr",
     "output_type": "stream",
     "text": [
      "2023-08-23 19:33:53,062 - c:\\Users\\JanMarco\\MLProjects\\Masterthesis\\masterthesis\\mthesis\\lib\\site-packages\\castle\\datasets\\simulator.py[line:270] - INFO: Finished synthetic dataset\n"
     ]
    },
    {
     "name": "stdout",
     "output_type": "stream",
     "text": [
      "Warning: n_edges is not exact due to gcastle implementation\n",
      "Duration of algorithm was 2.54sec\n"
     ]
    },
    {
     "name": "stderr",
     "output_type": "stream",
     "text": [
      "2023-08-23 19:34:08,859 - c:\\Users\\JanMarco\\MLProjects\\Masterthesis\\masterthesis\\mthesis\\lib\\site-packages\\castle\\datasets\\simulator.py[line:270] - INFO: Finished synthetic dataset\n"
     ]
    },
    {
     "name": "stdout",
     "output_type": "stream",
     "text": [
      "Warning: n_edges is not exact due to gcastle implementation\n",
      "Duration of algorithm was 3.05sec\n"
     ]
    },
    {
     "name": "stderr",
     "output_type": "stream",
     "text": [
      "2023-08-23 19:34:28,330 - c:\\Users\\JanMarco\\MLProjects\\Masterthesis\\masterthesis\\mthesis\\lib\\site-packages\\castle\\datasets\\simulator.py[line:270] - INFO: Finished synthetic dataset\n"
     ]
    },
    {
     "name": "stdout",
     "output_type": "stream",
     "text": [
      "Warning: n_edges is not exact due to gcastle implementation\n",
      "Duration of algorithm was 0.74sec\n"
     ]
    },
    {
     "name": "stderr",
     "output_type": "stream",
     "text": [
      "2023-08-23 19:34:39,843 - c:\\Users\\JanMarco\\MLProjects\\Masterthesis\\masterthesis\\mthesis\\lib\\site-packages\\castle\\datasets\\simulator.py[line:270] - INFO: Finished synthetic dataset\n"
     ]
    },
    {
     "name": "stdout",
     "output_type": "stream",
     "text": [
      "Warning: n_edges is not exact due to gcastle implementation\n",
      "Duration of algorithm was 1.07sec\n"
     ]
    },
    {
     "name": "stderr",
     "output_type": "stream",
     "text": [
      "2023-08-23 19:34:51,538 - c:\\Users\\JanMarco\\MLProjects\\Masterthesis\\masterthesis\\mthesis\\lib\\site-packages\\castle\\datasets\\simulator.py[line:270] - INFO: Finished synthetic dataset\n"
     ]
    },
    {
     "name": "stdout",
     "output_type": "stream",
     "text": [
      "Warning: n_edges is not exact due to gcastle implementation\n",
      "Duration of algorithm was 2.55sec\n"
     ]
    },
    {
     "name": "stderr",
     "output_type": "stream",
     "text": [
      "2023-08-23 19:35:07,293 - c:\\Users\\JanMarco\\MLProjects\\Masterthesis\\masterthesis\\mthesis\\lib\\site-packages\\castle\\datasets\\simulator.py[line:270] - INFO: Finished synthetic dataset\n"
     ]
    },
    {
     "name": "stdout",
     "output_type": "stream",
     "text": [
      "Warning: n_edges is not exact due to gcastle implementation\n",
      "Duration of algorithm was 2.03sec\n"
     ]
    },
    {
     "name": "stderr",
     "output_type": "stream",
     "text": [
      "2023-08-23 19:35:31,460 - c:\\Users\\JanMarco\\MLProjects\\Masterthesis\\masterthesis\\mthesis\\lib\\site-packages\\castle\\datasets\\simulator.py[line:270] - INFO: Finished synthetic dataset\n"
     ]
    },
    {
     "name": "stdout",
     "output_type": "stream",
     "text": [
      "Warning: n_edges is not exact due to gcastle implementation\n",
      "Duration of algorithm was 0.35sec\n"
     ]
    },
    {
     "name": "stderr",
     "output_type": "stream",
     "text": [
      "2023-08-23 19:35:41,303 - c:\\Users\\JanMarco\\MLProjects\\Masterthesis\\masterthesis\\mthesis\\lib\\site-packages\\castle\\datasets\\simulator.py[line:270] - INFO: Finished synthetic dataset\n"
     ]
    },
    {
     "name": "stdout",
     "output_type": "stream",
     "text": [
      "Warning: n_edges is not exact due to gcastle implementation\n",
      "Duration of algorithm was 0.27sec\n"
     ]
    },
    {
     "name": "stderr",
     "output_type": "stream",
     "text": [
      "2023-08-23 19:35:50,804 - c:\\Users\\JanMarco\\MLProjects\\Masterthesis\\masterthesis\\mthesis\\lib\\site-packages\\castle\\datasets\\simulator.py[line:270] - INFO: Finished synthetic dataset\n"
     ]
    },
    {
     "name": "stdout",
     "output_type": "stream",
     "text": [
      "Warning: n_edges is not exact due to gcastle implementation\n",
      "Duration of algorithm was 0.96sec\n"
     ]
    },
    {
     "name": "stderr",
     "output_type": "stream",
     "text": [
      "2023-08-23 19:36:02,117 - c:\\Users\\JanMarco\\MLProjects\\Masterthesis\\masterthesis\\mthesis\\lib\\site-packages\\castle\\datasets\\simulator.py[line:270] - INFO: Finished synthetic dataset\n"
     ]
    },
    {
     "name": "stdout",
     "output_type": "stream",
     "text": [
      "Warning: n_edges is not exact due to gcastle implementation\n",
      "Duration of algorithm was 1.82sec\n"
     ]
    },
    {
     "name": "stderr",
     "output_type": "stream",
     "text": [
      "2023-08-23 19:36:15,490 - c:\\Users\\JanMarco\\MLProjects\\Masterthesis\\masterthesis\\mthesis\\lib\\site-packages\\castle\\datasets\\simulator.py[line:270] - INFO: Finished synthetic dataset\n"
     ]
    },
    {
     "name": "stdout",
     "output_type": "stream",
     "text": [
      "Warning: n_edges is not exact due to gcastle implementation\n",
      "Duration of algorithm was 0.29sec\n"
     ]
    },
    {
     "name": "stderr",
     "output_type": "stream",
     "text": [
      "2023-08-23 19:36:25,086 - c:\\Users\\JanMarco\\MLProjects\\Masterthesis\\masterthesis\\mthesis\\lib\\site-packages\\castle\\datasets\\simulator.py[line:270] - INFO: Finished synthetic dataset\n"
     ]
    },
    {
     "name": "stdout",
     "output_type": "stream",
     "text": [
      "Warning: n_edges is not exact due to gcastle implementation\n",
      "Duration of algorithm was 0.47sec\n"
     ]
    },
    {
     "name": "stderr",
     "output_type": "stream",
     "text": [
      "2023-08-23 19:36:35,429 - c:\\Users\\JanMarco\\MLProjects\\Masterthesis\\masterthesis\\mthesis\\lib\\site-packages\\castle\\datasets\\simulator.py[line:270] - INFO: Finished synthetic dataset\n"
     ]
    },
    {
     "name": "stdout",
     "output_type": "stream",
     "text": [
      "Warning: n_edges is not exact due to gcastle implementation\n",
      "Duration of algorithm was 0.77sec\n"
     ]
    },
    {
     "name": "stderr",
     "output_type": "stream",
     "text": [
      "2023-08-23 19:36:47,729 - c:\\Users\\JanMarco\\MLProjects\\Masterthesis\\masterthesis\\mthesis\\lib\\site-packages\\castle\\datasets\\simulator.py[line:270] - INFO: Finished synthetic dataset\n"
     ]
    },
    {
     "name": "stdout",
     "output_type": "stream",
     "text": [
      "Warning: n_edges is not exact due to gcastle implementation\n",
      "Duration of algorithm was 0.75sec\n"
     ]
    },
    {
     "name": "stderr",
     "output_type": "stream",
     "text": [
      "2023-08-23 19:36:58,852 - c:\\Users\\JanMarco\\MLProjects\\Masterthesis\\masterthesis\\mthesis\\lib\\site-packages\\castle\\datasets\\simulator.py[line:270] - INFO: Finished synthetic dataset\n"
     ]
    },
    {
     "name": "stdout",
     "output_type": "stream",
     "text": [
      "Warning: n_edges is not exact due to gcastle implementation\n",
      "Duration of algorithm was 0.21sec\n"
     ]
    },
    {
     "name": "stderr",
     "output_type": "stream",
     "text": [
      "2023-08-23 19:37:08,280 - c:\\Users\\JanMarco\\MLProjects\\Masterthesis\\masterthesis\\mthesis\\lib\\site-packages\\castle\\datasets\\simulator.py[line:270] - INFO: Finished synthetic dataset\n"
     ]
    },
    {
     "name": "stdout",
     "output_type": "stream",
     "text": [
      "Warning: n_edges is not exact due to gcastle implementation\n",
      "Duration of algorithm was 0.42sec\n"
     ]
    },
    {
     "name": "stderr",
     "output_type": "stream",
     "text": [
      "2023-08-23 19:37:18,155 - c:\\Users\\JanMarco\\MLProjects\\Masterthesis\\masterthesis\\mthesis\\lib\\site-packages\\castle\\datasets\\simulator.py[line:270] - INFO: Finished synthetic dataset\n"
     ]
    },
    {
     "name": "stdout",
     "output_type": "stream",
     "text": [
      "Warning: n_edges is not exact due to gcastle implementation\n",
      "Duration of algorithm was 0.60sec\n"
     ]
    },
    {
     "name": "stderr",
     "output_type": "stream",
     "text": [
      "2023-08-23 19:37:28,620 - c:\\Users\\JanMarco\\MLProjects\\Masterthesis\\masterthesis\\mthesis\\lib\\site-packages\\castle\\datasets\\simulator.py[line:270] - INFO: Finished synthetic dataset\n"
     ]
    },
    {
     "name": "stdout",
     "output_type": "stream",
     "text": [
      "Warning: n_edges is not exact due to gcastle implementation\n",
      "Duration of algorithm was 1.49sec\n"
     ]
    },
    {
     "name": "stderr",
     "output_type": "stream",
     "text": [
      "2023-08-23 19:37:40,937 - c:\\Users\\JanMarco\\MLProjects\\Masterthesis\\masterthesis\\mthesis\\lib\\site-packages\\castle\\datasets\\simulator.py[line:270] - INFO: Finished synthetic dataset\n"
     ]
    },
    {
     "name": "stdout",
     "output_type": "stream",
     "text": [
      "Warning: n_edges is not exact due to gcastle implementation\n",
      "Duration of algorithm was 0.26sec\n"
     ]
    },
    {
     "name": "stderr",
     "output_type": "stream",
     "text": [
      "2023-08-23 19:37:51,326 - c:\\Users\\JanMarco\\MLProjects\\Masterthesis\\masterthesis\\mthesis\\lib\\site-packages\\castle\\datasets\\simulator.py[line:270] - INFO: Finished synthetic dataset\n"
     ]
    },
    {
     "name": "stdout",
     "output_type": "stream",
     "text": [
      "Warning: n_edges is not exact due to gcastle implementation\n",
      "Duration of algorithm was 0.34sec\n"
     ]
    },
    {
     "name": "stderr",
     "output_type": "stream",
     "text": [
      "2023-08-23 19:38:01,300 - c:\\Users\\JanMarco\\MLProjects\\Masterthesis\\masterthesis\\mthesis\\lib\\site-packages\\castle\\datasets\\simulator.py[line:270] - INFO: Finished synthetic dataset\n"
     ]
    },
    {
     "name": "stdout",
     "output_type": "stream",
     "text": [
      "Warning: n_edges is not exact due to gcastle implementation\n",
      "Duration of algorithm was 0.37sec\n"
     ]
    },
    {
     "name": "stderr",
     "output_type": "stream",
     "text": [
      "2023-08-23 19:38:11,265 - c:\\Users\\JanMarco\\MLProjects\\Masterthesis\\masterthesis\\mthesis\\lib\\site-packages\\castle\\datasets\\simulator.py[line:270] - INFO: Finished synthetic dataset\n"
     ]
    },
    {
     "name": "stdout",
     "output_type": "stream",
     "text": [
      "Warning: n_edges is not exact due to gcastle implementation\n",
      "Duration of algorithm was 0.69sec\n"
     ]
    },
    {
     "name": "stderr",
     "output_type": "stream",
     "text": [
      "2023-08-23 19:38:21,864 - c:\\Users\\JanMarco\\MLProjects\\Masterthesis\\masterthesis\\mthesis\\lib\\site-packages\\castle\\datasets\\simulator.py[line:270] - INFO: Finished synthetic dataset\n"
     ]
    },
    {
     "name": "stdout",
     "output_type": "stream",
     "text": [
      "Warning: n_edges is not exact due to gcastle implementation\n",
      "Duration of algorithm was 0.71sec\n"
     ]
    },
    {
     "name": "stderr",
     "output_type": "stream",
     "text": [
      "2023-08-23 19:38:31,973 - c:\\Users\\JanMarco\\MLProjects\\Masterthesis\\masterthesis\\mthesis\\lib\\site-packages\\castle\\datasets\\simulator.py[line:270] - INFO: Finished synthetic dataset\n"
     ]
    },
    {
     "name": "stdout",
     "output_type": "stream",
     "text": [
      "Warning: n_edges is not exact due to gcastle implementation\n",
      "Duration of algorithm was 1.53sec\n"
     ]
    },
    {
     "name": "stderr",
     "output_type": "stream",
     "text": [
      "2023-08-23 19:38:43,931 - c:\\Users\\JanMarco\\MLProjects\\Masterthesis\\masterthesis\\mthesis\\lib\\site-packages\\castle\\datasets\\simulator.py[line:270] - INFO: Finished synthetic dataset\n"
     ]
    },
    {
     "name": "stdout",
     "output_type": "stream",
     "text": [
      "Warning: n_edges is not exact due to gcastle implementation\n",
      "Duration of algorithm was 1.64sec\n"
     ]
    },
    {
     "name": "stderr",
     "output_type": "stream",
     "text": [
      "2023-08-23 19:38:58,051 - c:\\Users\\JanMarco\\MLProjects\\Masterthesis\\masterthesis\\mthesis\\lib\\site-packages\\castle\\datasets\\simulator.py[line:270] - INFO: Finished synthetic dataset\n"
     ]
    },
    {
     "name": "stdout",
     "output_type": "stream",
     "text": [
      "Warning: n_edges is not exact due to gcastle implementation\n",
      "Duration of algorithm was 3.15sec\n"
     ]
    },
    {
     "name": "stderr",
     "output_type": "stream",
     "text": [
      "2023-08-23 19:39:13,523 - c:\\Users\\JanMarco\\MLProjects\\Masterthesis\\masterthesis\\mthesis\\lib\\site-packages\\castle\\datasets\\simulator.py[line:270] - INFO: Finished synthetic dataset\n"
     ]
    },
    {
     "name": "stdout",
     "output_type": "stream",
     "text": [
      "Warning: n_edges is not exact due to gcastle implementation\n",
      "Duration of algorithm was 0.87sec\n"
     ]
    },
    {
     "name": "stderr",
     "output_type": "stream",
     "text": [
      "2023-08-23 19:39:24,326 - c:\\Users\\JanMarco\\MLProjects\\Masterthesis\\masterthesis\\mthesis\\lib\\site-packages\\castle\\datasets\\simulator.py[line:270] - INFO: Finished synthetic dataset\n"
     ]
    },
    {
     "name": "stdout",
     "output_type": "stream",
     "text": [
      "Warning: n_edges is not exact due to gcastle implementation\n",
      "Duration of algorithm was 0.82sec\n"
     ]
    },
    {
     "name": "stderr",
     "output_type": "stream",
     "text": [
      "2023-08-23 19:39:52,812 - c:\\Users\\JanMarco\\MLProjects\\Masterthesis\\masterthesis\\mthesis\\lib\\site-packages\\castle\\datasets\\simulator.py[line:270] - INFO: Finished synthetic dataset\n"
     ]
    },
    {
     "name": "stdout",
     "output_type": "stream",
     "text": [
      "Warning: n_edges is not exact due to gcastle implementation\n",
      "Duration of algorithm was 1.36sec\n"
     ]
    },
    {
     "name": "stderr",
     "output_type": "stream",
     "text": [
      "2023-08-23 19:40:04,597 - c:\\Users\\JanMarco\\MLProjects\\Masterthesis\\masterthesis\\mthesis\\lib\\site-packages\\castle\\datasets\\simulator.py[line:270] - INFO: Finished synthetic dataset\n"
     ]
    },
    {
     "name": "stdout",
     "output_type": "stream",
     "text": [
      "Warning: n_edges is not exact due to gcastle implementation\n",
      "Duration of algorithm was 1.89sec\n"
     ]
    },
    {
     "name": "stderr",
     "output_type": "stream",
     "text": [
      "2023-08-23 19:40:18,443 - c:\\Users\\JanMarco\\MLProjects\\Masterthesis\\masterthesis\\mthesis\\lib\\site-packages\\castle\\datasets\\simulator.py[line:270] - INFO: Finished synthetic dataset\n"
     ]
    },
    {
     "name": "stdout",
     "output_type": "stream",
     "text": [
      "Warning: n_edges is not exact due to gcastle implementation\n",
      "Duration of algorithm was 0.33sec\n"
     ]
    },
    {
     "name": "stderr",
     "output_type": "stream",
     "text": [
      "2023-08-23 19:40:28,371 - c:\\Users\\JanMarco\\MLProjects\\Masterthesis\\masterthesis\\mthesis\\lib\\site-packages\\castle\\datasets\\simulator.py[line:270] - INFO: Finished synthetic dataset\n"
     ]
    },
    {
     "name": "stdout",
     "output_type": "stream",
     "text": [
      "Warning: n_edges is not exact due to gcastle implementation\n",
      "Duration of algorithm was 0.74sec\n"
     ]
    },
    {
     "name": "stderr",
     "output_type": "stream",
     "text": [
      "2023-08-23 19:40:39,321 - c:\\Users\\JanMarco\\MLProjects\\Masterthesis\\masterthesis\\mthesis\\lib\\site-packages\\castle\\datasets\\simulator.py[line:270] - INFO: Finished synthetic dataset\n"
     ]
    },
    {
     "name": "stdout",
     "output_type": "stream",
     "text": [
      "Warning: n_edges is not exact due to gcastle implementation\n",
      "Duration of algorithm was 0.53sec\n"
     ]
    },
    {
     "name": "stderr",
     "output_type": "stream",
     "text": [
      "2023-08-23 19:40:49,855 - c:\\Users\\JanMarco\\MLProjects\\Masterthesis\\masterthesis\\mthesis\\lib\\site-packages\\castle\\datasets\\simulator.py[line:270] - INFO: Finished synthetic dataset\n"
     ]
    },
    {
     "name": "stdout",
     "output_type": "stream",
     "text": [
      "Warning: n_edges is not exact due to gcastle implementation\n",
      "Duration of algorithm was 1.92sec\n"
     ]
    },
    {
     "name": "stderr",
     "output_type": "stream",
     "text": [
      "2023-08-23 19:41:03,330 - c:\\Users\\JanMarco\\MLProjects\\Masterthesis\\masterthesis\\mthesis\\lib\\site-packages\\castle\\datasets\\simulator.py[line:270] - INFO: Finished synthetic dataset\n"
     ]
    },
    {
     "name": "stdout",
     "output_type": "stream",
     "text": [
      "Warning: n_edges is not exact due to gcastle implementation\n",
      "Duration of algorithm was 0.52sec\n"
     ]
    },
    {
     "name": "stderr",
     "output_type": "stream",
     "text": [
      "2023-08-23 19:41:13,750 - c:\\Users\\JanMarco\\MLProjects\\Masterthesis\\masterthesis\\mthesis\\lib\\site-packages\\castle\\datasets\\simulator.py[line:270] - INFO: Finished synthetic dataset\n"
     ]
    },
    {
     "name": "stdout",
     "output_type": "stream",
     "text": [
      "Warning: n_edges is not exact due to gcastle implementation\n",
      "Duration of algorithm was 0.59sec\n"
     ]
    },
    {
     "name": "stderr",
     "output_type": "stream",
     "text": [
      "2023-08-23 19:41:24,490 - c:\\Users\\JanMarco\\MLProjects\\Masterthesis\\masterthesis\\mthesis\\lib\\site-packages\\castle\\datasets\\simulator.py[line:270] - INFO: Finished synthetic dataset\n"
     ]
    },
    {
     "name": "stdout",
     "output_type": "stream",
     "text": [
      "Warning: n_edges is not exact due to gcastle implementation\n",
      "Duration of algorithm was 0.43sec\n"
     ]
    },
    {
     "name": "stderr",
     "output_type": "stream",
     "text": [
      "2023-08-23 19:41:34,709 - c:\\Users\\JanMarco\\MLProjects\\Masterthesis\\masterthesis\\mthesis\\lib\\site-packages\\castle\\datasets\\simulator.py[line:270] - INFO: Finished synthetic dataset\n"
     ]
    },
    {
     "name": "stdout",
     "output_type": "stream",
     "text": [
      "Warning: n_edges is not exact due to gcastle implementation\n",
      "Duration of algorithm was 0.59sec\n"
     ]
    },
    {
     "name": "stderr",
     "output_type": "stream",
     "text": [
      "2023-08-23 19:41:45,268 - c:\\Users\\JanMarco\\MLProjects\\Masterthesis\\masterthesis\\mthesis\\lib\\site-packages\\castle\\datasets\\simulator.py[line:270] - INFO: Finished synthetic dataset\n"
     ]
    },
    {
     "name": "stdout",
     "output_type": "stream",
     "text": [
      "Warning: n_edges is not exact due to gcastle implementation\n",
      "Duration of algorithm was 0.34sec\n"
     ]
    },
    {
     "name": "stderr",
     "output_type": "stream",
     "text": [
      "2023-08-23 19:41:55,218 - c:\\Users\\JanMarco\\MLProjects\\Masterthesis\\masterthesis\\mthesis\\lib\\site-packages\\castle\\datasets\\simulator.py[line:270] - INFO: Finished synthetic dataset\n"
     ]
    },
    {
     "name": "stdout",
     "output_type": "stream",
     "text": [
      "Warning: n_edges is not exact due to gcastle implementation\n",
      "Duration of algorithm was 0.56sec\n"
     ]
    },
    {
     "name": "stderr",
     "output_type": "stream",
     "text": [
      "2023-08-23 19:42:06,278 - c:\\Users\\JanMarco\\MLProjects\\Masterthesis\\masterthesis\\mthesis\\lib\\site-packages\\castle\\datasets\\simulator.py[line:270] - INFO: Finished synthetic dataset\n"
     ]
    },
    {
     "name": "stdout",
     "output_type": "stream",
     "text": [
      "Warning: n_edges is not exact due to gcastle implementation\n",
      "Duration of algorithm was 0.96sec\n"
     ]
    },
    {
     "name": "stderr",
     "output_type": "stream",
     "text": [
      "2023-08-23 19:42:17,547 - c:\\Users\\JanMarco\\MLProjects\\Masterthesis\\masterthesis\\mthesis\\lib\\site-packages\\castle\\datasets\\simulator.py[line:270] - INFO: Finished synthetic dataset\n"
     ]
    },
    {
     "name": "stdout",
     "output_type": "stream",
     "text": [
      "Warning: n_edges is not exact due to gcastle implementation\n",
      "Duration of algorithm was 1.50sec\n"
     ]
    },
    {
     "name": "stderr",
     "output_type": "stream",
     "text": [
      "2023-08-23 19:42:30,263 - c:\\Users\\JanMarco\\MLProjects\\Masterthesis\\masterthesis\\mthesis\\lib\\site-packages\\castle\\datasets\\simulator.py[line:270] - INFO: Finished synthetic dataset\n"
     ]
    },
    {
     "name": "stdout",
     "output_type": "stream",
     "text": [
      "Warning: n_edges is not exact due to gcastle implementation\n",
      "Duration of algorithm was 0.47sec\n"
     ]
    },
    {
     "name": "stderr",
     "output_type": "stream",
     "text": [
      "2023-08-23 19:42:40,491 - c:\\Users\\JanMarco\\MLProjects\\Masterthesis\\masterthesis\\mthesis\\lib\\site-packages\\castle\\datasets\\simulator.py[line:270] - INFO: Finished synthetic dataset\n"
     ]
    },
    {
     "name": "stdout",
     "output_type": "stream",
     "text": [
      "Warning: n_edges is not exact due to gcastle implementation\n",
      "Duration of algorithm was 0.53sec\n"
     ]
    },
    {
     "name": "stderr",
     "output_type": "stream",
     "text": [
      "2023-08-23 19:42:51,106 - c:\\Users\\JanMarco\\MLProjects\\Masterthesis\\masterthesis\\mthesis\\lib\\site-packages\\castle\\datasets\\simulator.py[line:270] - INFO: Finished synthetic dataset\n"
     ]
    },
    {
     "name": "stdout",
     "output_type": "stream",
     "text": [
      "Warning: n_edges is not exact due to gcastle implementation\n",
      "Duration of algorithm was 0.55sec\n"
     ]
    },
    {
     "name": "stderr",
     "output_type": "stream",
     "text": [
      "2023-08-23 19:43:01,676 - c:\\Users\\JanMarco\\MLProjects\\Masterthesis\\masterthesis\\mthesis\\lib\\site-packages\\castle\\datasets\\simulator.py[line:270] - INFO: Finished synthetic dataset\n"
     ]
    },
    {
     "name": "stdout",
     "output_type": "stream",
     "text": [
      "Warning: n_edges is not exact due to gcastle implementation\n",
      "Duration of algorithm was 0.87sec\n"
     ]
    },
    {
     "name": "stderr",
     "output_type": "stream",
     "text": [
      "2023-08-23 19:43:13,396 - c:\\Users\\JanMarco\\MLProjects\\Masterthesis\\masterthesis\\mthesis\\lib\\site-packages\\castle\\datasets\\simulator.py[line:270] - INFO: Finished synthetic dataset\n"
     ]
    },
    {
     "name": "stdout",
     "output_type": "stream",
     "text": [
      "Warning: n_edges is not exact due to gcastle implementation\n",
      "Duration of algorithm was 1.87sec\n"
     ]
    },
    {
     "name": "stderr",
     "output_type": "stream",
     "text": [
      "2023-08-23 19:43:26,966 - c:\\Users\\JanMarco\\MLProjects\\Masterthesis\\masterthesis\\mthesis\\lib\\site-packages\\castle\\datasets\\simulator.py[line:270] - INFO: Finished synthetic dataset\n"
     ]
    },
    {
     "name": "stdout",
     "output_type": "stream",
     "text": [
      "Warning: n_edges is not exact due to gcastle implementation\n",
      "Duration of algorithm was 7.09sec\n"
     ]
    },
    {
     "name": "stderr",
     "output_type": "stream",
     "text": [
      "2023-08-23 19:43:51,843 - c:\\Users\\JanMarco\\MLProjects\\Masterthesis\\masterthesis\\mthesis\\lib\\site-packages\\castle\\datasets\\simulator.py[line:270] - INFO: Finished synthetic dataset\n"
     ]
    },
    {
     "name": "stdout",
     "output_type": "stream",
     "text": [
      "Warning: n_edges is not exact due to gcastle implementation\n",
      "Duration of algorithm was 4.33sec\n"
     ]
    }
   ],
   "source": [
    "# config_path = 'clustercausal\\experiments\\configs\\config_search_sample_size.yaml'\n",
    "# config_path = config_path.replace('\\\\', '/')\n",
    "# experiment = ExperimentRunner(config_path)\n",
    "# experiment.run_gridsearch_experiment()"
   ]
  },
  {
   "cell_type": "code",
   "execution_count": 4,
   "metadata": {},
   "outputs": [
    {
     "name": "stderr",
     "output_type": "stream",
     "text": [
      "2023-08-22 17:48:03,008 - c:\\Users\\JanMarco\\MLProjects\\Masterthesis\\masterthesis\\mthesis\\lib\\site-packages\\castle\\datasets\\simulator.py[line:270] - INFO: Finished synthetic dataset\n"
     ]
    },
    {
     "name": "stdout",
     "output_type": "stream",
     "text": [
      "Number of experiments: 486\n",
      "Warning: n_edges is not exact due to gcastle implementation\n",
      "Duration of algorithm was 2.50sec\n"
     ]
    },
    {
     "name": "stderr",
     "output_type": "stream",
     "text": [
      "2023-08-22 17:48:15,873 - c:\\Users\\JanMarco\\MLProjects\\Masterthesis\\masterthesis\\mthesis\\lib\\site-packages\\castle\\datasets\\simulator.py[line:270] - INFO: Finished synthetic dataset\n"
     ]
    },
    {
     "name": "stdout",
     "output_type": "stream",
     "text": [
      "Warning: n_edges is not exact due to gcastle implementation\n",
      "Duration of algorithm was 6.81sec\n"
     ]
    },
    {
     "name": "stderr",
     "output_type": "stream",
     "text": [
      "2023-08-22 17:48:33,394 - c:\\Users\\JanMarco\\MLProjects\\Masterthesis\\masterthesis\\mthesis\\lib\\site-packages\\castle\\datasets\\simulator.py[line:270] - INFO: Finished synthetic dataset\n"
     ]
    },
    {
     "name": "stdout",
     "output_type": "stream",
     "text": [
      "Warning: n_edges is not exact due to gcastle implementation\n",
      "Duration of algorithm was 15.11sec\n"
     ]
    },
    {
     "name": "stderr",
     "output_type": "stream",
     "text": [
      "2023-08-22 17:49:00,269 - c:\\Users\\JanMarco\\MLProjects\\Masterthesis\\masterthesis\\mthesis\\lib\\site-packages\\castle\\datasets\\simulator.py[line:270] - INFO: Finished synthetic dataset\n"
     ]
    },
    {
     "name": "stdout",
     "output_type": "stream",
     "text": [
      "Warning: n_edges is not exact due to gcastle implementation\n",
      "Duration of algorithm was 20.84sec\n"
     ]
    },
    {
     "name": "stderr",
     "output_type": "stream",
     "text": [
      "2023-08-22 17:49:32,296 - c:\\Users\\JanMarco\\MLProjects\\Masterthesis\\masterthesis\\mthesis\\lib\\site-packages\\castle\\datasets\\simulator.py[line:270] - INFO: Finished synthetic dataset\n"
     ]
    },
    {
     "name": "stdout",
     "output_type": "stream",
     "text": [
      "Warning: n_edges is not exact due to gcastle implementation\n",
      "Duration of algorithm was 22.38sec\n"
     ]
    },
    {
     "name": "stderr",
     "output_type": "stream",
     "text": [
      "2023-08-22 17:50:05,409 - c:\\Users\\JanMarco\\MLProjects\\Masterthesis\\masterthesis\\mthesis\\lib\\site-packages\\castle\\datasets\\simulator.py[line:270] - INFO: Finished synthetic dataset\n"
     ]
    },
    {
     "name": "stdout",
     "output_type": "stream",
     "text": [
      "Warning: n_edges is not exact due to gcastle implementation\n",
      "Duration of algorithm was 8.00sec\n"
     ]
    },
    {
     "name": "stderr",
     "output_type": "stream",
     "text": [
      "2023-08-22 17:50:24,662 - c:\\Users\\JanMarco\\MLProjects\\Masterthesis\\masterthesis\\mthesis\\lib\\site-packages\\castle\\datasets\\simulator.py[line:270] - INFO: Finished synthetic dataset\n"
     ]
    },
    {
     "name": "stdout",
     "output_type": "stream",
     "text": [
      "Warning: n_edges is not exact due to gcastle implementation\n",
      "Duration of algorithm was 0.98sec\n"
     ]
    },
    {
     "name": "stderr",
     "output_type": "stream",
     "text": [
      "2023-08-22 17:50:36,190 - c:\\Users\\JanMarco\\MLProjects\\Masterthesis\\masterthesis\\mthesis\\lib\\site-packages\\castle\\datasets\\simulator.py[line:270] - INFO: Finished synthetic dataset\n"
     ]
    },
    {
     "name": "stdout",
     "output_type": "stream",
     "text": [
      "Warning: n_edges is not exact due to gcastle implementation\n",
      "Duration of algorithm was 1.29sec\n"
     ]
    },
    {
     "name": "stderr",
     "output_type": "stream",
     "text": [
      "2023-08-22 17:50:48,914 - c:\\Users\\JanMarco\\MLProjects\\Masterthesis\\masterthesis\\mthesis\\lib\\site-packages\\castle\\datasets\\simulator.py[line:270] - INFO: Finished synthetic dataset\n"
     ]
    },
    {
     "name": "stdout",
     "output_type": "stream",
     "text": [
      "Warning: n_edges is not exact due to gcastle implementation\n",
      "Duration of algorithm was 0.74sec\n"
     ]
    },
    {
     "name": "stderr",
     "output_type": "stream",
     "text": [
      "2023-08-22 17:51:00,166 - c:\\Users\\JanMarco\\MLProjects\\Masterthesis\\masterthesis\\mthesis\\lib\\site-packages\\castle\\datasets\\simulator.py[line:270] - INFO: Finished synthetic dataset\n"
     ]
    },
    {
     "name": "stdout",
     "output_type": "stream",
     "text": [
      "Warning: n_edges is not exact due to gcastle implementation\n",
      "Duration of algorithm was 9.36sec\n"
     ]
    },
    {
     "name": "stderr",
     "output_type": "stream",
     "text": [
      "2023-08-22 17:51:21,412 - c:\\Users\\JanMarco\\MLProjects\\Masterthesis\\masterthesis\\mthesis\\lib\\site-packages\\castle\\datasets\\simulator.py[line:270] - INFO: Finished synthetic dataset\n"
     ]
    },
    {
     "name": "stdout",
     "output_type": "stream",
     "text": [
      "Warning: n_edges is not exact due to gcastle implementation\n",
      "Duration of algorithm was 4.07sec\n"
     ]
    },
    {
     "name": "stderr",
     "output_type": "stream",
     "text": [
      "2023-08-22 17:51:37,582 - c:\\Users\\JanMarco\\MLProjects\\Masterthesis\\masterthesis\\mthesis\\lib\\site-packages\\castle\\datasets\\simulator.py[line:270] - INFO: Finished synthetic dataset\n"
     ]
    },
    {
     "name": "stdout",
     "output_type": "stream",
     "text": [
      "Warning: n_edges is not exact due to gcastle implementation\n",
      "Duration of algorithm was 23.78sec\n"
     ]
    },
    {
     "name": "stderr",
     "output_type": "stream",
     "text": [
      "2023-08-22 17:52:14,129 - c:\\Users\\JanMarco\\MLProjects\\Masterthesis\\masterthesis\\mthesis\\lib\\site-packages\\castle\\datasets\\simulator.py[line:270] - INFO: Finished synthetic dataset\n"
     ]
    },
    {
     "name": "stdout",
     "output_type": "stream",
     "text": [
      "Warning: n_edges is not exact due to gcastle implementation\n",
      "Duration of algorithm was 2.53sec\n"
     ]
    },
    {
     "name": "stderr",
     "output_type": "stream",
     "text": [
      "2023-08-22 17:52:28,044 - c:\\Users\\JanMarco\\MLProjects\\Masterthesis\\masterthesis\\mthesis\\lib\\site-packages\\castle\\datasets\\simulator.py[line:270] - INFO: Finished synthetic dataset\n"
     ]
    },
    {
     "name": "stdout",
     "output_type": "stream",
     "text": [
      "Warning: n_edges is not exact due to gcastle implementation\n",
      "Duration of algorithm was 17.24sec\n"
     ]
    },
    {
     "name": "stderr",
     "output_type": "stream",
     "text": [
      "2023-08-22 17:52:57,384 - c:\\Users\\JanMarco\\MLProjects\\Masterthesis\\masterthesis\\mthesis\\lib\\site-packages\\castle\\datasets\\simulator.py[line:270] - INFO: Finished synthetic dataset\n"
     ]
    },
    {
     "name": "stdout",
     "output_type": "stream",
     "text": [
      "Warning: n_edges is not exact due to gcastle implementation\n",
      "Duration of algorithm was 13.03sec\n"
     ]
    },
    {
     "name": "stderr",
     "output_type": "stream",
     "text": [
      "2023-08-22 17:53:23,447 - c:\\Users\\JanMarco\\MLProjects\\Masterthesis\\masterthesis\\mthesis\\lib\\site-packages\\castle\\datasets\\simulator.py[line:270] - INFO: Finished synthetic dataset\n"
     ]
    },
    {
     "name": "stdout",
     "output_type": "stream",
     "text": [
      "Warning: n_edges is not exact due to gcastle implementation\n",
      "Duration of algorithm was 7.65sec\n"
     ]
    },
    {
     "name": "stderr",
     "output_type": "stream",
     "text": [
      "2023-08-22 17:53:42,875 - c:\\Users\\JanMarco\\MLProjects\\Masterthesis\\masterthesis\\mthesis\\lib\\site-packages\\castle\\datasets\\simulator.py[line:270] - INFO: Finished synthetic dataset\n"
     ]
    },
    {
     "name": "stdout",
     "output_type": "stream",
     "text": [
      "Warning: n_edges is not exact due to gcastle implementation\n",
      "Duration of algorithm was 2.78sec\n"
     ]
    },
    {
     "name": "stderr",
     "output_type": "stream",
     "text": [
      "2023-08-22 17:54:06,167 - c:\\Users\\JanMarco\\MLProjects\\Masterthesis\\masterthesis\\mthesis\\lib\\site-packages\\castle\\datasets\\simulator.py[line:270] - INFO: Finished synthetic dataset\n"
     ]
    },
    {
     "name": "stdout",
     "output_type": "stream",
     "text": [
      "Warning: n_edges is not exact due to gcastle implementation\n",
      "Duration of algorithm was 1.35sec\n"
     ]
    },
    {
     "name": "stderr",
     "output_type": "stream",
     "text": [
      "2023-08-22 17:54:21,138 - c:\\Users\\JanMarco\\MLProjects\\Masterthesis\\masterthesis\\mthesis\\lib\\site-packages\\castle\\datasets\\simulator.py[line:270] - INFO: Finished synthetic dataset\n"
     ]
    },
    {
     "name": "stdout",
     "output_type": "stream",
     "text": [
      "Warning: n_edges is not exact due to gcastle implementation\n",
      "Duration of algorithm was 7.07sec\n"
     ]
    },
    {
     "name": "stderr",
     "output_type": "stream",
     "text": [
      "2023-08-22 17:54:45,399 - c:\\Users\\JanMarco\\MLProjects\\Masterthesis\\masterthesis\\mthesis\\lib\\site-packages\\castle\\datasets\\simulator.py[line:270] - INFO: Finished synthetic dataset\n"
     ]
    },
    {
     "name": "stdout",
     "output_type": "stream",
     "text": [
      "Warning: n_edges is not exact due to gcastle implementation\n",
      "Duration of algorithm was 16.45sec\n"
     ]
    },
    {
     "name": "stderr",
     "output_type": "stream",
     "text": [
      "2023-08-22 17:55:18,237 - c:\\Users\\JanMarco\\MLProjects\\Masterthesis\\masterthesis\\mthesis\\lib\\site-packages\\castle\\datasets\\simulator.py[line:270] - INFO: Finished synthetic dataset\n"
     ]
    },
    {
     "name": "stdout",
     "output_type": "stream",
     "text": [
      "Warning: n_edges is not exact due to gcastle implementation\n",
      "Duration of algorithm was 5.06sec\n"
     ]
    },
    {
     "name": "stderr",
     "output_type": "stream",
     "text": [
      "2023-08-22 17:55:39,590 - c:\\Users\\JanMarco\\MLProjects\\Masterthesis\\masterthesis\\mthesis\\lib\\site-packages\\castle\\datasets\\simulator.py[line:270] - INFO: Finished synthetic dataset\n"
     ]
    },
    {
     "name": "stdout",
     "output_type": "stream",
     "text": [
      "Warning: n_edges is not exact due to gcastle implementation\n",
      "Duration of algorithm was 18.30sec\n"
     ]
    },
    {
     "name": "stderr",
     "output_type": "stream",
     "text": [
      "2023-08-22 17:56:12,247 - c:\\Users\\JanMarco\\MLProjects\\Masterthesis\\masterthesis\\mthesis\\lib\\site-packages\\castle\\datasets\\simulator.py[line:270] - INFO: Finished synthetic dataset\n"
     ]
    },
    {
     "name": "stdout",
     "output_type": "stream",
     "text": [
      "Warning: n_edges is not exact due to gcastle implementation\n",
      "Duration of algorithm was 4.90sec\n"
     ]
    },
    {
     "name": "stderr",
     "output_type": "stream",
     "text": [
      "2023-08-22 17:56:33,492 - c:\\Users\\JanMarco\\MLProjects\\Masterthesis\\masterthesis\\mthesis\\lib\\site-packages\\castle\\datasets\\simulator.py[line:270] - INFO: Finished synthetic dataset\n"
     ]
    },
    {
     "name": "stdout",
     "output_type": "stream",
     "text": [
      "Warning: n_edges is not exact due to gcastle implementation\n",
      "Duration of algorithm was 5.36sec\n"
     ]
    },
    {
     "name": "stderr",
     "output_type": "stream",
     "text": [
      "2023-08-22 17:56:54,483 - c:\\Users\\JanMarco\\MLProjects\\Masterthesis\\masterthesis\\mthesis\\lib\\site-packages\\castle\\datasets\\simulator.py[line:270] - INFO: Finished synthetic dataset\n"
     ]
    },
    {
     "name": "stdout",
     "output_type": "stream",
     "text": [
      "Warning: n_edges is not exact due to gcastle implementation\n",
      "Duration of algorithm was 6.75sec\n"
     ]
    },
    {
     "name": "stderr",
     "output_type": "stream",
     "text": [
      "2023-08-22 17:57:16,973 - c:\\Users\\JanMarco\\MLProjects\\Masterthesis\\masterthesis\\mthesis\\lib\\site-packages\\castle\\datasets\\simulator.py[line:270] - INFO: Finished synthetic dataset\n"
     ]
    },
    {
     "name": "stdout",
     "output_type": "stream",
     "text": [
      "Warning: n_edges is not exact due to gcastle implementation\n",
      "Duration of algorithm was 4.75sec\n"
     ]
    },
    {
     "name": "stderr",
     "output_type": "stream",
     "text": [
      "2023-08-22 17:57:38,385 - c:\\Users\\JanMarco\\MLProjects\\Masterthesis\\masterthesis\\mthesis\\lib\\site-packages\\castle\\datasets\\simulator.py[line:270] - INFO: Finished synthetic dataset\n"
     ]
    },
    {
     "name": "stdout",
     "output_type": "stream",
     "text": [
      "Warning: n_edges is not exact due to gcastle implementation\n",
      "Duration of algorithm was 24.15sec\n"
     ]
    },
    {
     "name": "stderr",
     "output_type": "stream",
     "text": [
      "2023-08-22 17:58:16,270 - c:\\Users\\JanMarco\\MLProjects\\Masterthesis\\masterthesis\\mthesis\\lib\\site-packages\\castle\\datasets\\simulator.py[line:270] - INFO: Finished synthetic dataset\n"
     ]
    },
    {
     "name": "stdout",
     "output_type": "stream",
     "text": [
      "Warning: n_edges is not exact due to gcastle implementation\n",
      "Duration of algorithm was 29.66sec\n"
     ]
    },
    {
     "name": "stderr",
     "output_type": "stream",
     "text": [
      "2023-08-22 17:58:58,452 - c:\\Users\\JanMarco\\MLProjects\\Masterthesis\\masterthesis\\mthesis\\lib\\site-packages\\castle\\datasets\\simulator.py[line:270] - INFO: Finished synthetic dataset\n"
     ]
    },
    {
     "name": "stdout",
     "output_type": "stream",
     "text": [
      "Warning: n_edges is not exact due to gcastle implementation\n",
      "Duration of algorithm was 3.40sec\n"
     ]
    },
    {
     "name": "stderr",
     "output_type": "stream",
     "text": [
      "2023-08-22 17:59:15,294 - c:\\Users\\JanMarco\\MLProjects\\Masterthesis\\masterthesis\\mthesis\\lib\\site-packages\\castle\\datasets\\simulator.py[line:270] - INFO: Finished synthetic dataset\n"
     ]
    },
    {
     "name": "stdout",
     "output_type": "stream",
     "text": [
      "Warning: n_edges is not exact due to gcastle implementation\n",
      "Duration of algorithm was 9.89sec\n"
     ]
    },
    {
     "name": "stderr",
     "output_type": "stream",
     "text": [
      "2023-08-22 17:59:39,960 - c:\\Users\\JanMarco\\MLProjects\\Masterthesis\\masterthesis\\mthesis\\lib\\site-packages\\castle\\datasets\\simulator.py[line:270] - INFO: Finished synthetic dataset\n"
     ]
    },
    {
     "name": "stdout",
     "output_type": "stream",
     "text": [
      "Warning: n_edges is not exact due to gcastle implementation\n",
      "Duration of algorithm was 5.83sec\n"
     ]
    },
    {
     "name": "stderr",
     "output_type": "stream",
     "text": [
      "2023-08-22 17:59:57,380 - c:\\Users\\JanMarco\\MLProjects\\Masterthesis\\masterthesis\\mthesis\\lib\\site-packages\\castle\\datasets\\simulator.py[line:270] - INFO: Finished synthetic dataset\n"
     ]
    },
    {
     "name": "stdout",
     "output_type": "stream",
     "text": [
      "Warning: n_edges is not exact due to gcastle implementation\n",
      "Duration of algorithm was 2.09sec\n"
     ]
    },
    {
     "name": "stderr",
     "output_type": "stream",
     "text": [
      "2023-08-22 18:00:10,677 - c:\\Users\\JanMarco\\MLProjects\\Masterthesis\\masterthesis\\mthesis\\lib\\site-packages\\castle\\datasets\\simulator.py[line:270] - INFO: Finished synthetic dataset\n"
     ]
    },
    {
     "name": "stdout",
     "output_type": "stream",
     "text": [
      "Warning: n_edges is not exact due to gcastle implementation\n",
      "Duration of algorithm was 3.40sec\n"
     ]
    },
    {
     "name": "stderr",
     "output_type": "stream",
     "text": [
      "2023-08-22 18:00:27,274 - c:\\Users\\JanMarco\\MLProjects\\Masterthesis\\masterthesis\\mthesis\\lib\\site-packages\\castle\\datasets\\simulator.py[line:270] - INFO: Finished synthetic dataset\n"
     ]
    },
    {
     "name": "stdout",
     "output_type": "stream",
     "text": [
      "Warning: n_edges is not exact due to gcastle implementation\n",
      "Duration of algorithm was 3.36sec\n"
     ]
    },
    {
     "name": "stderr",
     "output_type": "stream",
     "text": [
      "2023-08-22 18:00:42,762 - c:\\Users\\JanMarco\\MLProjects\\Masterthesis\\masterthesis\\mthesis\\lib\\site-packages\\castle\\datasets\\simulator.py[line:270] - INFO: Finished synthetic dataset\n"
     ]
    },
    {
     "name": "stdout",
     "output_type": "stream",
     "text": [
      "Warning: n_edges is not exact due to gcastle implementation\n",
      "Duration of algorithm was 0.88sec\n"
     ]
    },
    {
     "name": "stderr",
     "output_type": "stream",
     "text": [
      "2023-08-22 18:00:55,159 - c:\\Users\\JanMarco\\MLProjects\\Masterthesis\\masterthesis\\mthesis\\lib\\site-packages\\castle\\datasets\\simulator.py[line:270] - INFO: Finished synthetic dataset\n"
     ]
    },
    {
     "name": "stdout",
     "output_type": "stream",
     "text": [
      "Warning: n_edges is not exact due to gcastle implementation\n",
      "Duration of algorithm was 1.96sec\n"
     ]
    },
    {
     "name": "stderr",
     "output_type": "stream",
     "text": [
      "2023-08-22 18:01:08,928 - c:\\Users\\JanMarco\\MLProjects\\Masterthesis\\masterthesis\\mthesis\\lib\\site-packages\\castle\\datasets\\simulator.py[line:270] - INFO: Finished synthetic dataset\n"
     ]
    },
    {
     "name": "stdout",
     "output_type": "stream",
     "text": [
      "Warning: n_edges is not exact due to gcastle implementation\n",
      "Duration of algorithm was 95.80sec\n"
     ]
    },
    {
     "name": "stderr",
     "output_type": "stream",
     "text": [
      "2023-08-22 18:03:00,058 - c:\\Users\\JanMarco\\MLProjects\\Masterthesis\\masterthesis\\mthesis\\lib\\site-packages\\castle\\datasets\\simulator.py[line:270] - INFO: Finished synthetic dataset\n"
     ]
    },
    {
     "name": "stdout",
     "output_type": "stream",
     "text": [
      "Warning: n_edges is not exact due to gcastle implementation\n",
      "Duration of algorithm was 46.92sec\n"
     ]
    },
    {
     "name": "stderr",
     "output_type": "stream",
     "text": [
      "2023-08-22 18:04:00,248 - c:\\Users\\JanMarco\\MLProjects\\Masterthesis\\masterthesis\\mthesis\\lib\\site-packages\\castle\\datasets\\simulator.py[line:270] - INFO: Finished synthetic dataset\n"
     ]
    },
    {
     "name": "stdout",
     "output_type": "stream",
     "text": [
      "Warning: n_edges is not exact due to gcastle implementation\n",
      "Duration of algorithm was 2.58sec\n"
     ]
    },
    {
     "name": "stderr",
     "output_type": "stream",
     "text": [
      "2023-08-22 18:04:16,084 - c:\\Users\\JanMarco\\MLProjects\\Masterthesis\\masterthesis\\mthesis\\lib\\site-packages\\castle\\datasets\\simulator.py[line:270] - INFO: Finished synthetic dataset\n"
     ]
    },
    {
     "name": "stdout",
     "output_type": "stream",
     "text": [
      "Warning: n_edges is not exact due to gcastle implementation\n",
      "Duration of algorithm was 2.59sec\n"
     ]
    },
    {
     "name": "stderr",
     "output_type": "stream",
     "text": [
      "2023-08-22 18:04:30,758 - c:\\Users\\JanMarco\\MLProjects\\Masterthesis\\masterthesis\\mthesis\\lib\\site-packages\\castle\\datasets\\simulator.py[line:270] - INFO: Finished synthetic dataset\n"
     ]
    },
    {
     "name": "stdout",
     "output_type": "stream",
     "text": [
      "Warning: n_edges is not exact due to gcastle implementation\n",
      "Duration of algorithm was 3.34sec\n"
     ]
    },
    {
     "name": "stderr",
     "output_type": "stream",
     "text": [
      "2023-08-22 18:04:46,425 - c:\\Users\\JanMarco\\MLProjects\\Masterthesis\\masterthesis\\mthesis\\lib\\site-packages\\castle\\datasets\\simulator.py[line:270] - INFO: Finished synthetic dataset\n"
     ]
    },
    {
     "name": "stdout",
     "output_type": "stream",
     "text": [
      "Warning: n_edges is not exact due to gcastle implementation\n",
      "Duration of algorithm was 3.86sec\n"
     ]
    },
    {
     "name": "stderr",
     "output_type": "stream",
     "text": [
      "2023-08-22 18:05:05,375 - c:\\Users\\JanMarco\\MLProjects\\Masterthesis\\masterthesis\\mthesis\\lib\\site-packages\\castle\\datasets\\simulator.py[line:270] - INFO: Finished synthetic dataset\n"
     ]
    },
    {
     "name": "stdout",
     "output_type": "stream",
     "text": [
      "Warning: n_edges is not exact due to gcastle implementation\n",
      "Duration of algorithm was 4.09sec\n"
     ]
    },
    {
     "name": "stderr",
     "output_type": "stream",
     "text": [
      "2023-08-22 18:05:22,601 - c:\\Users\\JanMarco\\MLProjects\\Masterthesis\\masterthesis\\mthesis\\lib\\site-packages\\castle\\datasets\\simulator.py[line:270] - INFO: Finished synthetic dataset\n"
     ]
    },
    {
     "name": "stdout",
     "output_type": "stream",
     "text": [
      "Warning: n_edges is not exact due to gcastle implementation\n",
      "Duration of algorithm was 3.47sec\n"
     ]
    },
    {
     "name": "stderr",
     "output_type": "stream",
     "text": [
      "2023-08-22 18:05:38,280 - c:\\Users\\JanMarco\\MLProjects\\Masterthesis\\masterthesis\\mthesis\\lib\\site-packages\\castle\\datasets\\simulator.py[line:270] - INFO: Finished synthetic dataset\n"
     ]
    },
    {
     "name": "stdout",
     "output_type": "stream",
     "text": [
      "Warning: n_edges is not exact due to gcastle implementation\n",
      "Duration of algorithm was 1.14sec\n"
     ]
    },
    {
     "name": "stderr",
     "output_type": "stream",
     "text": [
      "2023-08-22 18:05:52,739 - c:\\Users\\JanMarco\\MLProjects\\Masterthesis\\masterthesis\\mthesis\\lib\\site-packages\\castle\\datasets\\simulator.py[line:270] - INFO: Finished synthetic dataset\n"
     ]
    },
    {
     "name": "stdout",
     "output_type": "stream",
     "text": [
      "Warning: n_edges is not exact due to gcastle implementation\n",
      "Duration of algorithm was 6.99sec\n"
     ]
    },
    {
     "name": "stderr",
     "output_type": "stream",
     "text": [
      "2023-08-22 18:06:15,416 - c:\\Users\\JanMarco\\MLProjects\\Masterthesis\\masterthesis\\mthesis\\lib\\site-packages\\castle\\datasets\\simulator.py[line:270] - INFO: Finished synthetic dataset\n"
     ]
    },
    {
     "name": "stdout",
     "output_type": "stream",
     "text": [
      "Warning: n_edges is not exact due to gcastle implementation\n",
      "Duration of algorithm was 85.43sec\n"
     ]
    },
    {
     "name": "stderr",
     "output_type": "stream",
     "text": [
      "2023-08-22 18:07:59,073 - c:\\Users\\JanMarco\\MLProjects\\Masterthesis\\masterthesis\\mthesis\\lib\\site-packages\\castle\\datasets\\simulator.py[line:270] - INFO: Finished synthetic dataset\n"
     ]
    },
    {
     "name": "stdout",
     "output_type": "stream",
     "text": [
      "Warning: n_edges is not exact due to gcastle implementation\n",
      "Duration of algorithm was 8.17sec\n"
     ]
    },
    {
     "name": "stderr",
     "output_type": "stream",
     "text": [
      "2023-08-22 18:08:21,336 - c:\\Users\\JanMarco\\MLProjects\\Masterthesis\\masterthesis\\mthesis\\lib\\site-packages\\castle\\datasets\\simulator.py[line:270] - INFO: Finished synthetic dataset\n"
     ]
    },
    {
     "name": "stdout",
     "output_type": "stream",
     "text": [
      "Warning: n_edges is not exact due to gcastle implementation\n",
      "Duration of algorithm was 5.18sec\n"
     ]
    },
    {
     "name": "stderr",
     "output_type": "stream",
     "text": [
      "2023-08-22 18:08:44,826 - c:\\Users\\JanMarco\\MLProjects\\Masterthesis\\masterthesis\\mthesis\\lib\\site-packages\\castle\\datasets\\simulator.py[line:270] - INFO: Finished synthetic dataset\n"
     ]
    },
    {
     "name": "stdout",
     "output_type": "stream",
     "text": [
      "Warning: n_edges is not exact due to gcastle implementation\n",
      "Duration of algorithm was 9.05sec\n"
     ]
    },
    {
     "name": "stderr",
     "output_type": "stream",
     "text": [
      "2023-08-22 18:09:10,042 - c:\\Users\\JanMarco\\MLProjects\\Masterthesis\\masterthesis\\mthesis\\lib\\site-packages\\castle\\datasets\\simulator.py[line:270] - INFO: Finished synthetic dataset\n"
     ]
    },
    {
     "name": "stdout",
     "output_type": "stream",
     "text": [
      "Warning: n_edges is not exact due to gcastle implementation\n",
      "Duration of algorithm was 10.11sec\n"
     ]
    },
    {
     "name": "stderr",
     "output_type": "stream",
     "text": [
      "2023-08-22 18:09:36,834 - c:\\Users\\JanMarco\\MLProjects\\Masterthesis\\masterthesis\\mthesis\\lib\\site-packages\\castle\\datasets\\simulator.py[line:270] - INFO: Finished synthetic dataset\n"
     ]
    },
    {
     "name": "stdout",
     "output_type": "stream",
     "text": [
      "Warning: n_edges is not exact due to gcastle implementation\n",
      "Duration of algorithm was 5.97sec\n"
     ]
    },
    {
     "name": "stderr",
     "output_type": "stream",
     "text": [
      "2023-08-22 18:11:00,309 - c:\\Users\\JanMarco\\MLProjects\\Masterthesis\\masterthesis\\mthesis\\lib\\site-packages\\castle\\datasets\\simulator.py[line:270] - INFO: Finished synthetic dataset\n"
     ]
    },
    {
     "name": "stdout",
     "output_type": "stream",
     "text": [
      "Warning: n_edges is not exact due to gcastle implementation\n",
      "Duration of algorithm was 4.13sec\n"
     ]
    },
    {
     "name": "stderr",
     "output_type": "stream",
     "text": [
      "2023-08-22 18:11:21,460 - c:\\Users\\JanMarco\\MLProjects\\Masterthesis\\masterthesis\\mthesis\\lib\\site-packages\\castle\\datasets\\simulator.py[line:270] - INFO: Finished synthetic dataset\n"
     ]
    },
    {
     "name": "stdout",
     "output_type": "stream",
     "text": [
      "Warning: n_edges is not exact due to gcastle implementation\n",
      "Duration of algorithm was 4.87sec\n"
     ]
    },
    {
     "name": "stderr",
     "output_type": "stream",
     "text": [
      "2023-08-22 18:11:41,826 - c:\\Users\\JanMarco\\MLProjects\\Masterthesis\\masterthesis\\mthesis\\lib\\site-packages\\castle\\datasets\\simulator.py[line:270] - INFO: Finished synthetic dataset\n"
     ]
    },
    {
     "name": "stdout",
     "output_type": "stream",
     "text": [
      "Warning: n_edges is not exact due to gcastle implementation\n",
      "Duration of algorithm was 123.82sec\n"
     ]
    },
    {
     "name": "stderr",
     "output_type": "stream",
     "text": [
      "2023-08-22 18:13:59,318 - c:\\Users\\JanMarco\\MLProjects\\Masterthesis\\masterthesis\\mthesis\\lib\\site-packages\\castle\\datasets\\simulator.py[line:270] - INFO: Finished synthetic dataset\n"
     ]
    },
    {
     "name": "stdout",
     "output_type": "stream",
     "text": [
      "Warning: n_edges is not exact due to gcastle implementation\n",
      "Duration of algorithm was 8.00sec\n"
     ]
    },
    {
     "name": "stderr",
     "output_type": "stream",
     "text": [
      "2023-08-22 18:14:21,271 - c:\\Users\\JanMarco\\MLProjects\\Masterthesis\\masterthesis\\mthesis\\lib\\site-packages\\castle\\datasets\\simulator.py[line:270] - INFO: Finished synthetic dataset\n"
     ]
    },
    {
     "name": "stdout",
     "output_type": "stream",
     "text": [
      "Warning: n_edges is not exact due to gcastle implementation\n",
      "Duration of algorithm was 3.29sec\n"
     ]
    },
    {
     "name": "stderr",
     "output_type": "stream",
     "text": [
      "2023-08-22 18:14:38,501 - c:\\Users\\JanMarco\\MLProjects\\Masterthesis\\masterthesis\\mthesis\\lib\\site-packages\\castle\\datasets\\simulator.py[line:270] - INFO: Finished synthetic dataset\n"
     ]
    },
    {
     "name": "stdout",
     "output_type": "stream",
     "text": [
      "Warning: n_edges is not exact due to gcastle implementation\n",
      "Duration of algorithm was 9.29sec\n"
     ]
    },
    {
     "name": "stderr",
     "output_type": "stream",
     "text": [
      "2023-08-22 18:15:00,878 - c:\\Users\\JanMarco\\MLProjects\\Masterthesis\\masterthesis\\mthesis\\lib\\site-packages\\castle\\datasets\\simulator.py[line:270] - INFO: Finished synthetic dataset\n"
     ]
    },
    {
     "name": "stdout",
     "output_type": "stream",
     "text": [
      "Warning: n_edges is not exact due to gcastle implementation\n",
      "Duration of algorithm was 3.07sec\n"
     ]
    },
    {
     "name": "stderr",
     "output_type": "stream",
     "text": [
      "2023-08-22 18:15:17,874 - c:\\Users\\JanMarco\\MLProjects\\Masterthesis\\masterthesis\\mthesis\\lib\\site-packages\\castle\\datasets\\simulator.py[line:270] - INFO: Finished synthetic dataset\n"
     ]
    },
    {
     "name": "stdout",
     "output_type": "stream",
     "text": [
      "Warning: n_edges is not exact due to gcastle implementation\n",
      "Duration of algorithm was 3.31sec\n"
     ]
    },
    {
     "name": "stderr",
     "output_type": "stream",
     "text": [
      "2023-08-22 18:15:34,791 - c:\\Users\\JanMarco\\MLProjects\\Masterthesis\\masterthesis\\mthesis\\lib\\site-packages\\castle\\datasets\\simulator.py[line:270] - INFO: Finished synthetic dataset\n"
     ]
    },
    {
     "name": "stdout",
     "output_type": "stream",
     "text": [
      "Warning: n_edges is not exact due to gcastle implementation\n",
      "Duration of algorithm was 2.22sec\n"
     ]
    },
    {
     "name": "stderr",
     "output_type": "stream",
     "text": [
      "2023-08-22 18:15:49,695 - c:\\Users\\JanMarco\\MLProjects\\Masterthesis\\masterthesis\\mthesis\\lib\\site-packages\\castle\\datasets\\simulator.py[line:270] - INFO: Finished synthetic dataset\n"
     ]
    },
    {
     "name": "stdout",
     "output_type": "stream",
     "text": [
      "Warning: n_edges is not exact due to gcastle implementation\n",
      "Duration of algorithm was 2.86sec\n"
     ]
    },
    {
     "name": "stderr",
     "output_type": "stream",
     "text": [
      "2023-08-22 18:16:05,842 - c:\\Users\\JanMarco\\MLProjects\\Masterthesis\\masterthesis\\mthesis\\lib\\site-packages\\castle\\datasets\\simulator.py[line:270] - INFO: Finished synthetic dataset\n"
     ]
    },
    {
     "name": "stdout",
     "output_type": "stream",
     "text": [
      "Warning: n_edges is not exact due to gcastle implementation\n",
      "Duration of algorithm was 3.49sec\n"
     ]
    },
    {
     "name": "stderr",
     "output_type": "stream",
     "text": [
      "2023-08-22 18:16:21,661 - c:\\Users\\JanMarco\\MLProjects\\Masterthesis\\masterthesis\\mthesis\\lib\\site-packages\\castle\\datasets\\simulator.py[line:270] - INFO: Finished synthetic dataset\n"
     ]
    },
    {
     "name": "stdout",
     "output_type": "stream",
     "text": [
      "Warning: n_edges is not exact due to gcastle implementation\n",
      "Duration of algorithm was 5.62sec\n"
     ]
    },
    {
     "name": "stderr",
     "output_type": "stream",
     "text": [
      "2023-08-22 18:16:40,195 - c:\\Users\\JanMarco\\MLProjects\\Masterthesis\\masterthesis\\mthesis\\lib\\site-packages\\castle\\datasets\\simulator.py[line:270] - INFO: Finished synthetic dataset\n"
     ]
    },
    {
     "name": "stdout",
     "output_type": "stream",
     "text": [
      "Warning: n_edges is not exact due to gcastle implementation\n",
      "Duration of algorithm was 8.78sec\n"
     ]
    },
    {
     "name": "stderr",
     "output_type": "stream",
     "text": [
      "2023-08-22 18:17:02,930 - c:\\Users\\JanMarco\\MLProjects\\Masterthesis\\masterthesis\\mthesis\\lib\\site-packages\\castle\\datasets\\simulator.py[line:270] - INFO: Finished synthetic dataset\n"
     ]
    },
    {
     "name": "stdout",
     "output_type": "stream",
     "text": [
      "Warning: n_edges is not exact due to gcastle implementation\n"
     ]
    }
   ],
   "source": [
    "# config_path = 'clustercausal\\experiments\\configs\\cluster_pc.yaml'\n",
    "# config_path = config_path.replace('\\\\', '/')\n",
    "# experiment = ExperimentRunner(config_path)\n",
    "# experiment.run_gridsearch_experiment()"
   ]
  },
  {
   "cell_type": "markdown",
   "metadata": {},
   "source": [
    "# Alpha Gridsearch"
   ]
  },
  {
   "cell_type": "code",
   "execution_count": 4,
   "metadata": {},
   "outputs": [
    {
     "name": "stdout",
     "output_type": "stream",
     "text": [
      "Gridsearch directory: clustercausal/experiments/_results/alpha_search\n"
     ]
    }
   ],
   "source": [
    "gridssearch_directory =  'clustercausal\\experiments\\_results\\\\alpha_search' #first_gridsearch_directory\n",
    "gridssearch_directory = gridssearch_directory.replace('\\\\', '/')\n",
    "print(f\"Gridsearch directory: {gridssearch_directory}\")\n",
    "data_alpha = load_data(gridssearch_directory)"
   ]
  },
  {
   "cell_type": "code",
   "execution_count": 5,
   "metadata": {},
   "outputs": [
    {
     "data": {
      "text/html": [
       "<div>\n",
       "<style scoped>\n",
       "    .dataframe tbody tr th:only-of-type {\n",
       "        vertical-align: middle;\n",
       "    }\n",
       "\n",
       "    .dataframe tbody tr th {\n",
       "        vertical-align: top;\n",
       "    }\n",
       "\n",
       "    .dataframe thead th {\n",
       "        text-align: right;\n",
       "    }\n",
       "</style>\n",
       "<table border=\"1\" class=\"dataframe\">\n",
       "  <thead>\n",
       "    <tr style=\"text-align: right;\">\n",
       "      <th></th>\n",
       "      <th>base_adj_f1_score</th>\n",
       "      <th>base_adj_false_negative</th>\n",
       "      <th>base_adj_false_positive</th>\n",
       "      <th>base_adj_precision</th>\n",
       "      <th>base_adj_recall</th>\n",
       "      <th>base_adj_true_negative</th>\n",
       "      <th>base_adj_true_positive</th>\n",
       "      <th>base_arrow_f1_score</th>\n",
       "      <th>base_arrow_f1_score_ce</th>\n",
       "      <th>base_arrow_false_negative</th>\n",
       "      <th>...</th>\n",
       "      <th>cluster_sid_lower</th>\n",
       "      <th>cluster_sid_upper</th>\n",
       "      <th>alpha</th>\n",
       "      <th>n_clusters</th>\n",
       "      <th>n_edges</th>\n",
       "      <th>n_nodes</th>\n",
       "      <th>noise_scale</th>\n",
       "      <th>sample_size</th>\n",
       "      <th>true_sid_lower</th>\n",
       "      <th>true_sid_upper</th>\n",
       "    </tr>\n",
       "  </thead>\n",
       "  <tbody>\n",
       "    <tr>\n",
       "      <th>count</th>\n",
       "      <td>384.000000</td>\n",
       "      <td>384.000000</td>\n",
       "      <td>384.000000</td>\n",
       "      <td>384.000000</td>\n",
       "      <td>384.000000</td>\n",
       "      <td>384.000000</td>\n",
       "      <td>384.000000</td>\n",
       "      <td>384.000000</td>\n",
       "      <td>384.000000</td>\n",
       "      <td>384.000000</td>\n",
       "      <td>...</td>\n",
       "      <td>384.000000</td>\n",
       "      <td>384.000000</td>\n",
       "      <td>384.00000</td>\n",
       "      <td>384.000000</td>\n",
       "      <td>384.000000</td>\n",
       "      <td>384.000000</td>\n",
       "      <td>384.0</td>\n",
       "      <td>384.0</td>\n",
       "      <td>384.0</td>\n",
       "      <td>384.000000</td>\n",
       "    </tr>\n",
       "    <tr>\n",
       "      <th>mean</th>\n",
       "      <td>0.571780</td>\n",
       "      <td>75.145833</td>\n",
       "      <td>4.531250</td>\n",
       "      <td>0.863146</td>\n",
       "      <td>0.481989</td>\n",
       "      <td>206.611979</td>\n",
       "      <td>26.210938</td>\n",
       "      <td>0.364681</td>\n",
       "      <td>0.663122</td>\n",
       "      <td>85.283854</td>\n",
       "      <td>...</td>\n",
       "      <td>224.638021</td>\n",
       "      <td>278.325521</td>\n",
       "      <td>0.04125</td>\n",
       "      <td>5.500000</td>\n",
       "      <td>40.000000</td>\n",
       "      <td>25.000000</td>\n",
       "      <td>1.0</td>\n",
       "      <td>1000.0</td>\n",
       "      <td>0.0</td>\n",
       "      <td>50.182292</td>\n",
       "    </tr>\n",
       "    <tr>\n",
       "      <th>std</th>\n",
       "      <td>0.255164</td>\n",
       "      <td>98.582219</td>\n",
       "      <td>4.703653</td>\n",
       "      <td>0.114893</td>\n",
       "      <td>0.267099</td>\n",
       "      <td>135.114043</td>\n",
       "      <td>8.200477</td>\n",
       "      <td>0.183741</td>\n",
       "      <td>0.132848</td>\n",
       "      <td>98.538856</td>\n",
       "      <td>...</td>\n",
       "      <td>210.202120</td>\n",
       "      <td>209.610732</td>\n",
       "      <td>0.03819</td>\n",
       "      <td>1.501957</td>\n",
       "      <td>10.013046</td>\n",
       "      <td>5.006523</td>\n",
       "      <td>0.0</td>\n",
       "      <td>0.0</td>\n",
       "      <td>0.0</td>\n",
       "      <td>58.672460</td>\n",
       "    </tr>\n",
       "    <tr>\n",
       "      <th>min</th>\n",
       "      <td>0.089286</td>\n",
       "      <td>0.000000</td>\n",
       "      <td>0.000000</td>\n",
       "      <td>0.431818</td>\n",
       "      <td>0.047319</td>\n",
       "      <td>30.000000</td>\n",
       "      <td>10.000000</td>\n",
       "      <td>0.036810</td>\n",
       "      <td>0.214286</td>\n",
       "      <td>5.000000</td>\n",
       "      <td>...</td>\n",
       "      <td>0.000000</td>\n",
       "      <td>21.000000</td>\n",
       "      <td>0.00500</td>\n",
       "      <td>4.000000</td>\n",
       "      <td>30.000000</td>\n",
       "      <td>20.000000</td>\n",
       "      <td>1.0</td>\n",
       "      <td>1000.0</td>\n",
       "      <td>0.0</td>\n",
       "      <td>0.000000</td>\n",
       "    </tr>\n",
       "    <tr>\n",
       "      <th>25%</th>\n",
       "      <td>0.287115</td>\n",
       "      <td>11.000000</td>\n",
       "      <td>1.000000</td>\n",
       "      <td>0.800000</td>\n",
       "      <td>0.171946</td>\n",
       "      <td>110.250000</td>\n",
       "      <td>21.000000</td>\n",
       "      <td>0.201981</td>\n",
       "      <td>0.589367</td>\n",
       "      <td>21.000000</td>\n",
       "      <td>...</td>\n",
       "      <td>73.000000</td>\n",
       "      <td>122.750000</td>\n",
       "      <td>0.00875</td>\n",
       "      <td>4.000000</td>\n",
       "      <td>30.000000</td>\n",
       "      <td>20.000000</td>\n",
       "      <td>1.0</td>\n",
       "      <td>1000.0</td>\n",
       "      <td>0.0</td>\n",
       "      <td>18.000000</td>\n",
       "    </tr>\n",
       "    <tr>\n",
       "      <th>50%</th>\n",
       "      <td>0.663230</td>\n",
       "      <td>18.500000</td>\n",
       "      <td>3.000000</td>\n",
       "      <td>0.892375</td>\n",
       "      <td>0.554563</td>\n",
       "      <td>152.000000</td>\n",
       "      <td>24.500000</td>\n",
       "      <td>0.370330</td>\n",
       "      <td>0.666667</td>\n",
       "      <td>30.000000</td>\n",
       "      <td>...</td>\n",
       "      <td>152.000000</td>\n",
       "      <td>224.500000</td>\n",
       "      <td>0.03000</td>\n",
       "      <td>5.500000</td>\n",
       "      <td>40.000000</td>\n",
       "      <td>25.000000</td>\n",
       "      <td>1.0</td>\n",
       "      <td>1000.0</td>\n",
       "      <td>0.0</td>\n",
       "      <td>37.000000</td>\n",
       "    </tr>\n",
       "    <tr>\n",
       "      <th>75%</th>\n",
       "      <td>0.785036</td>\n",
       "      <td>120.000000</td>\n",
       "      <td>6.000000</td>\n",
       "      <td>0.951220</td>\n",
       "      <td>0.694444</td>\n",
       "      <td>377.250000</td>\n",
       "      <td>30.000000</td>\n",
       "      <td>0.510638</td>\n",
       "      <td>0.755556</td>\n",
       "      <td>127.250000</td>\n",
       "      <td>...</td>\n",
       "      <td>278.250000</td>\n",
       "      <td>325.500000</td>\n",
       "      <td>0.06250</td>\n",
       "      <td>7.000000</td>\n",
       "      <td>50.000000</td>\n",
       "      <td>30.000000</td>\n",
       "      <td>1.0</td>\n",
       "      <td>1000.0</td>\n",
       "      <td>0.0</td>\n",
       "      <td>60.000000</td>\n",
       "    </tr>\n",
       "    <tr>\n",
       "      <th>max</th>\n",
       "      <td>0.969697</td>\n",
       "      <td>328.000000</td>\n",
       "      <td>27.000000</td>\n",
       "      <td>1.000000</td>\n",
       "      <td>1.000000</td>\n",
       "      <td>412.000000</td>\n",
       "      <td>67.000000</td>\n",
       "      <td>0.857143</td>\n",
       "      <td>0.933333</td>\n",
       "      <td>340.000000</td>\n",
       "      <td>...</td>\n",
       "      <td>797.000000</td>\n",
       "      <td>841.000000</td>\n",
       "      <td>0.10000</td>\n",
       "      <td>7.000000</td>\n",
       "      <td>50.000000</td>\n",
       "      <td>30.000000</td>\n",
       "      <td>1.0</td>\n",
       "      <td>1000.0</td>\n",
       "      <td>0.0</td>\n",
       "      <td>384.000000</td>\n",
       "    </tr>\n",
       "  </tbody>\n",
       "</table>\n",
       "<p>8 rows × 56 columns</p>\n",
       "</div>"
      ],
      "text/plain": [
       "       base_adj_f1_score  base_adj_false_negative  base_adj_false_positive  \\\n",
       "count         384.000000               384.000000               384.000000   \n",
       "mean            0.571780                75.145833                 4.531250   \n",
       "std             0.255164                98.582219                 4.703653   \n",
       "min             0.089286                 0.000000                 0.000000   \n",
       "25%             0.287115                11.000000                 1.000000   \n",
       "50%             0.663230                18.500000                 3.000000   \n",
       "75%             0.785036               120.000000                 6.000000   \n",
       "max             0.969697               328.000000                27.000000   \n",
       "\n",
       "       base_adj_precision  base_adj_recall  base_adj_true_negative  \\\n",
       "count          384.000000       384.000000              384.000000   \n",
       "mean             0.863146         0.481989              206.611979   \n",
       "std              0.114893         0.267099              135.114043   \n",
       "min              0.431818         0.047319               30.000000   \n",
       "25%              0.800000         0.171946              110.250000   \n",
       "50%              0.892375         0.554563              152.000000   \n",
       "75%              0.951220         0.694444              377.250000   \n",
       "max              1.000000         1.000000              412.000000   \n",
       "\n",
       "       base_adj_true_positive  base_arrow_f1_score  base_arrow_f1_score_ce  \\\n",
       "count              384.000000           384.000000              384.000000   \n",
       "mean                26.210938             0.364681                0.663122   \n",
       "std                  8.200477             0.183741                0.132848   \n",
       "min                 10.000000             0.036810                0.214286   \n",
       "25%                 21.000000             0.201981                0.589367   \n",
       "50%                 24.500000             0.370330                0.666667   \n",
       "75%                 30.000000             0.510638                0.755556   \n",
       "max                 67.000000             0.857143                0.933333   \n",
       "\n",
       "       base_arrow_false_negative  ...  cluster_sid_lower  cluster_sid_upper  \\\n",
       "count                 384.000000  ...         384.000000         384.000000   \n",
       "mean                   85.283854  ...         224.638021         278.325521   \n",
       "std                    98.538856  ...         210.202120         209.610732   \n",
       "min                     5.000000  ...           0.000000          21.000000   \n",
       "25%                    21.000000  ...          73.000000         122.750000   \n",
       "50%                    30.000000  ...         152.000000         224.500000   \n",
       "75%                   127.250000  ...         278.250000         325.500000   \n",
       "max                   340.000000  ...         797.000000         841.000000   \n",
       "\n",
       "           alpha  n_clusters     n_edges     n_nodes  noise_scale  \\\n",
       "count  384.00000  384.000000  384.000000  384.000000        384.0   \n",
       "mean     0.04125    5.500000   40.000000   25.000000          1.0   \n",
       "std      0.03819    1.501957   10.013046    5.006523          0.0   \n",
       "min      0.00500    4.000000   30.000000   20.000000          1.0   \n",
       "25%      0.00875    4.000000   30.000000   20.000000          1.0   \n",
       "50%      0.03000    5.500000   40.000000   25.000000          1.0   \n",
       "75%      0.06250    7.000000   50.000000   30.000000          1.0   \n",
       "max      0.10000    7.000000   50.000000   30.000000          1.0   \n",
       "\n",
       "       sample_size  true_sid_lower  true_sid_upper  \n",
       "count        384.0           384.0      384.000000  \n",
       "mean        1000.0             0.0       50.182292  \n",
       "std            0.0             0.0       58.672460  \n",
       "min         1000.0             0.0        0.000000  \n",
       "25%         1000.0             0.0       18.000000  \n",
       "50%         1000.0             0.0       37.000000  \n",
       "75%         1000.0             0.0       60.000000  \n",
       "max         1000.0             0.0      384.000000  \n",
       "\n",
       "[8 rows x 56 columns]"
      ]
     },
     "execution_count": 5,
     "metadata": {},
     "output_type": "execute_result"
    }
   ],
   "source": [
    "data_alpha.describe()"
   ]
  },
  {
   "cell_type": "code",
   "execution_count": 6,
   "metadata": {},
   "outputs": [],
   "source": [
    "selected_metrics = ['base_adj_precision', 'cluster_adj_precision', 'base_adj_recall', 'cluster_adj_recall', 'base_adj_f1_score', 'cluster_adj_f1_score', 'base_base_shd', 'cluster_cluster_shd', 'base_sid_lower', 'base_sid_upper', 'cluster_sid_lower', 'cluster_sid_upper']"
   ]
  },
  {
   "cell_type": "code",
   "execution_count": 9,
   "metadata": {},
   "outputs": [
    {
     "data": {
      "text/html": [
       "<div>\n",
       "<style scoped>\n",
       "    .dataframe tbody tr th:only-of-type {\n",
       "        vertical-align: middle;\n",
       "    }\n",
       "\n",
       "    .dataframe tbody tr th {\n",
       "        vertical-align: top;\n",
       "    }\n",
       "\n",
       "    .dataframe thead th {\n",
       "        text-align: right;\n",
       "    }\n",
       "</style>\n",
       "<table border=\"1\" class=\"dataframe\">\n",
       "  <thead>\n",
       "    <tr style=\"text-align: right;\">\n",
       "      <th></th>\n",
       "      <th>base_adj_precision</th>\n",
       "      <th>cluster_adj_precision</th>\n",
       "      <th>base_adj_recall</th>\n",
       "      <th>cluster_adj_recall</th>\n",
       "      <th>base_adj_f1_score</th>\n",
       "      <th>cluster_adj_f1_score</th>\n",
       "      <th>base_base_shd</th>\n",
       "      <th>cluster_cluster_shd</th>\n",
       "      <th>base_sid_lower</th>\n",
       "      <th>base_sid_upper</th>\n",
       "      <th>cluster_sid_lower</th>\n",
       "      <th>cluster_sid_upper</th>\n",
       "    </tr>\n",
       "    <tr>\n",
       "      <th>alpha</th>\n",
       "      <th></th>\n",
       "      <th></th>\n",
       "      <th></th>\n",
       "      <th></th>\n",
       "      <th></th>\n",
       "      <th></th>\n",
       "      <th></th>\n",
       "      <th></th>\n",
       "      <th></th>\n",
       "      <th></th>\n",
       "      <th></th>\n",
       "      <th></th>\n",
       "    </tr>\n",
       "  </thead>\n",
       "  <tbody>\n",
       "    <tr>\n",
       "      <th>0.005</th>\n",
       "      <td>0.897091</td>\n",
       "      <td>0.897821</td>\n",
       "      <td>0.456107</td>\n",
       "      <td>0.506743</td>\n",
       "      <td>0.562939</td>\n",
       "      <td>0.611818</td>\n",
       "      <td>85.416667</td>\n",
       "      <td>78.104167</td>\n",
       "      <td>270.197917</td>\n",
       "      <td>320.791667</td>\n",
       "      <td>219.614583</td>\n",
       "      <td>276.135417</td>\n",
       "    </tr>\n",
       "    <tr>\n",
       "      <th>0.010</th>\n",
       "      <td>0.884747</td>\n",
       "      <td>0.887684</td>\n",
       "      <td>0.477019</td>\n",
       "      <td>0.526691</td>\n",
       "      <td>0.577798</td>\n",
       "      <td>0.625165</td>\n",
       "      <td>84.385417</td>\n",
       "      <td>76.854167</td>\n",
       "      <td>279.145833</td>\n",
       "      <td>338.427083</td>\n",
       "      <td>227.864583</td>\n",
       "      <td>288.427083</td>\n",
       "    </tr>\n",
       "    <tr>\n",
       "      <th>0.050</th>\n",
       "      <td>0.838650</td>\n",
       "      <td>0.840921</td>\n",
       "      <td>0.482297</td>\n",
       "      <td>0.544466</td>\n",
       "      <td>0.563552</td>\n",
       "      <td>0.617682</td>\n",
       "      <td>84.916667</td>\n",
       "      <td>76.270833</td>\n",
       "      <td>292.000000</td>\n",
       "      <td>346.000000</td>\n",
       "      <td>231.385417</td>\n",
       "      <td>286.197917</td>\n",
       "    </tr>\n",
       "    <tr>\n",
       "      <th>0.100</th>\n",
       "      <td>0.832094</td>\n",
       "      <td>0.818741</td>\n",
       "      <td>0.512533</td>\n",
       "      <td>0.578043</td>\n",
       "      <td>0.582829</td>\n",
       "      <td>0.630454</td>\n",
       "      <td>82.875000</td>\n",
       "      <td>75.187500</td>\n",
       "      <td>277.812500</td>\n",
       "      <td>326.979167</td>\n",
       "      <td>219.687500</td>\n",
       "      <td>262.541667</td>\n",
       "    </tr>\n",
       "  </tbody>\n",
       "</table>\n",
       "</div>"
      ],
      "text/plain": [
       "       base_adj_precision  cluster_adj_precision  base_adj_recall  \\\n",
       "alpha                                                               \n",
       "0.005            0.897091               0.897821         0.456107   \n",
       "0.010            0.884747               0.887684         0.477019   \n",
       "0.050            0.838650               0.840921         0.482297   \n",
       "0.100            0.832094               0.818741         0.512533   \n",
       "\n",
       "       cluster_adj_recall  base_adj_f1_score  cluster_adj_f1_score  \\\n",
       "alpha                                                                \n",
       "0.005            0.506743           0.562939              0.611818   \n",
       "0.010            0.526691           0.577798              0.625165   \n",
       "0.050            0.544466           0.563552              0.617682   \n",
       "0.100            0.578043           0.582829              0.630454   \n",
       "\n",
       "       base_base_shd  cluster_cluster_shd  base_sid_lower  base_sid_upper  \\\n",
       "alpha                                                                       \n",
       "0.005      85.416667            78.104167      270.197917      320.791667   \n",
       "0.010      84.385417            76.854167      279.145833      338.427083   \n",
       "0.050      84.916667            76.270833      292.000000      346.000000   \n",
       "0.100      82.875000            75.187500      277.812500      326.979167   \n",
       "\n",
       "       cluster_sid_lower  cluster_sid_upper  \n",
       "alpha                                        \n",
       "0.005         219.614583         276.135417  \n",
       "0.010         227.864583         288.427083  \n",
       "0.050         231.385417         286.197917  \n",
       "0.100         219.687500         262.541667  "
      ]
     },
     "execution_count": 9,
     "metadata": {},
     "output_type": "execute_result"
    }
   ],
   "source": [
    "pd.DataFrame(data_alpha.groupby('alpha').mean()[selected_metrics])"
   ]
  },
  {
   "cell_type": "markdown",
   "metadata": {},
   "source": [
    "# Sample Size Gridsearch"
   ]
  },
  {
   "cell_type": "code",
   "execution_count": 11,
   "metadata": {},
   "outputs": [
    {
     "name": "stdout",
     "output_type": "stream",
     "text": [
      "Gridsearch directory: clustercausal/experiments/_results/sample_search\n"
     ]
    }
   ],
   "source": [
    "gridssearch_directory =  'clustercausal\\experiments\\_results\\sample_search' #first_gridsearch_directory\n",
    "gridssearch_directory = gridssearch_directory.replace('\\\\', '/')\n",
    "print(f\"Gridsearch directory: {gridssearch_directory}\")\n",
    "data_sample = load_data(gridssearch_directory)"
   ]
  },
  {
   "cell_type": "code",
   "execution_count": 12,
   "metadata": {},
   "outputs": [
    {
     "data": {
      "text/html": [
       "<div>\n",
       "<style scoped>\n",
       "    .dataframe tbody tr th:only-of-type {\n",
       "        vertical-align: middle;\n",
       "    }\n",
       "\n",
       "    .dataframe tbody tr th {\n",
       "        vertical-align: top;\n",
       "    }\n",
       "\n",
       "    .dataframe thead th {\n",
       "        text-align: right;\n",
       "    }\n",
       "</style>\n",
       "<table border=\"1\" class=\"dataframe\">\n",
       "  <thead>\n",
       "    <tr style=\"text-align: right;\">\n",
       "      <th></th>\n",
       "      <th>base_adj_f1_score</th>\n",
       "      <th>base_adj_false_negative</th>\n",
       "      <th>base_adj_false_positive</th>\n",
       "      <th>base_adj_precision</th>\n",
       "      <th>base_adj_recall</th>\n",
       "      <th>base_adj_true_negative</th>\n",
       "      <th>base_adj_true_positive</th>\n",
       "      <th>base_arrow_f1_score</th>\n",
       "      <th>base_arrow_f1_score_ce</th>\n",
       "      <th>base_arrow_false_negative</th>\n",
       "      <th>...</th>\n",
       "      <th>cluster_sid_lower</th>\n",
       "      <th>cluster_sid_upper</th>\n",
       "      <th>alpha</th>\n",
       "      <th>n_clusters</th>\n",
       "      <th>n_edges</th>\n",
       "      <th>n_nodes</th>\n",
       "      <th>noise_scale</th>\n",
       "      <th>sample_size</th>\n",
       "      <th>true_sid_lower</th>\n",
       "      <th>true_sid_upper</th>\n",
       "    </tr>\n",
       "  </thead>\n",
       "  <tbody>\n",
       "    <tr>\n",
       "      <th>count</th>\n",
       "      <td>354.000000</td>\n",
       "      <td>354.000000</td>\n",
       "      <td>354.000000</td>\n",
       "      <td>354.000000</td>\n",
       "      <td>354.000000</td>\n",
       "      <td>354.000000</td>\n",
       "      <td>354.000000</td>\n",
       "      <td>353.000000</td>\n",
       "      <td>353.000000</td>\n",
       "      <td>354.000000</td>\n",
       "      <td>...</td>\n",
       "      <td>354.000000</td>\n",
       "      <td>354.000000</td>\n",
       "      <td>3.540000e+02</td>\n",
       "      <td>354.000000</td>\n",
       "      <td>354.000000</td>\n",
       "      <td>354.000000</td>\n",
       "      <td>354.0</td>\n",
       "      <td>354.000000</td>\n",
       "      <td>354.0</td>\n",
       "      <td>354.000000</td>\n",
       "    </tr>\n",
       "    <tr>\n",
       "      <th>mean</th>\n",
       "      <td>0.561916</td>\n",
       "      <td>71.401130</td>\n",
       "      <td>4.330508</td>\n",
       "      <td>0.852903</td>\n",
       "      <td>0.475771</td>\n",
       "      <td>202.070621</td>\n",
       "      <td>24.316384</td>\n",
       "      <td>0.353557</td>\n",
       "      <td>0.647760</td>\n",
       "      <td>81.132768</td>\n",
       "      <td>...</td>\n",
       "      <td>214.872881</td>\n",
       "      <td>267.717514</td>\n",
       "      <td>5.000000e-02</td>\n",
       "      <td>5.491525</td>\n",
       "      <td>39.491525</td>\n",
       "      <td>24.576271</td>\n",
       "      <td>1.0</td>\n",
       "      <td>1642.372881</td>\n",
       "      <td>0.0</td>\n",
       "      <td>48.683616</td>\n",
       "    </tr>\n",
       "    <tr>\n",
       "      <th>std</th>\n",
       "      <td>0.255877</td>\n",
       "      <td>97.320286</td>\n",
       "      <td>3.838943</td>\n",
       "      <td>0.107440</td>\n",
       "      <td>0.273529</td>\n",
       "      <td>134.907893</td>\n",
       "      <td>7.695804</td>\n",
       "      <td>0.194188</td>\n",
       "      <td>0.153919</td>\n",
       "      <td>97.502709</td>\n",
       "      <td>...</td>\n",
       "      <td>205.169075</td>\n",
       "      <td>207.269403</td>\n",
       "      <td>1.389743e-17</td>\n",
       "      <td>1.502099</td>\n",
       "      <td>10.001200</td>\n",
       "      <td>4.989065</td>\n",
       "      <td>0.0</td>\n",
       "      <td>1960.129792</td>\n",
       "      <td>0.0</td>\n",
       "      <td>55.452058</td>\n",
       "    </tr>\n",
       "    <tr>\n",
       "      <th>min</th>\n",
       "      <td>0.101796</td>\n",
       "      <td>0.000000</td>\n",
       "      <td>0.000000</td>\n",
       "      <td>0.416667</td>\n",
       "      <td>0.054313</td>\n",
       "      <td>27.000000</td>\n",
       "      <td>9.000000</td>\n",
       "      <td>0.007273</td>\n",
       "      <td>0.100000</td>\n",
       "      <td>6.000000</td>\n",
       "      <td>...</td>\n",
       "      <td>0.000000</td>\n",
       "      <td>6.000000</td>\n",
       "      <td>5.000000e-02</td>\n",
       "      <td>4.000000</td>\n",
       "      <td>30.000000</td>\n",
       "      <td>20.000000</td>\n",
       "      <td>1.0</td>\n",
       "      <td>100.000000</td>\n",
       "      <td>0.0</td>\n",
       "      <td>0.000000</td>\n",
       "    </tr>\n",
       "    <tr>\n",
       "      <th>25%</th>\n",
       "      <td>0.299551</td>\n",
       "      <td>10.250000</td>\n",
       "      <td>2.000000</td>\n",
       "      <td>0.800000</td>\n",
       "      <td>0.185468</td>\n",
       "      <td>100.250000</td>\n",
       "      <td>19.000000</td>\n",
       "      <td>0.188235</td>\n",
       "      <td>0.571429</td>\n",
       "      <td>20.000000</td>\n",
       "      <td>...</td>\n",
       "      <td>72.250000</td>\n",
       "      <td>119.250000</td>\n",
       "      <td>5.000000e-02</td>\n",
       "      <td>4.000000</td>\n",
       "      <td>30.000000</td>\n",
       "      <td>20.000000</td>\n",
       "      <td>1.0</td>\n",
       "      <td>200.000000</td>\n",
       "      <td>0.0</td>\n",
       "      <td>17.000000</td>\n",
       "    </tr>\n",
       "    <tr>\n",
       "      <th>50%</th>\n",
       "      <td>0.631579</td>\n",
       "      <td>20.000000</td>\n",
       "      <td>3.000000</td>\n",
       "      <td>0.870968</td>\n",
       "      <td>0.514248</td>\n",
       "      <td>151.000000</td>\n",
       "      <td>23.000000</td>\n",
       "      <td>0.338462</td>\n",
       "      <td>0.666667</td>\n",
       "      <td>30.500000</td>\n",
       "      <td>...</td>\n",
       "      <td>142.000000</td>\n",
       "      <td>212.500000</td>\n",
       "      <td>5.000000e-02</td>\n",
       "      <td>4.000000</td>\n",
       "      <td>30.000000</td>\n",
       "      <td>20.000000</td>\n",
       "      <td>1.0</td>\n",
       "      <td>500.000000</td>\n",
       "      <td>0.0</td>\n",
       "      <td>38.500000</td>\n",
       "    </tr>\n",
       "    <tr>\n",
       "      <th>75%</th>\n",
       "      <td>0.766667</td>\n",
       "      <td>113.000000</td>\n",
       "      <td>6.000000</td>\n",
       "      <td>0.939394</td>\n",
       "      <td>0.689655</td>\n",
       "      <td>378.000000</td>\n",
       "      <td>28.750000</td>\n",
       "      <td>0.492308</td>\n",
       "      <td>0.750000</td>\n",
       "      <td>121.000000</td>\n",
       "      <td>...</td>\n",
       "      <td>275.750000</td>\n",
       "      <td>324.750000</td>\n",
       "      <td>5.000000e-02</td>\n",
       "      <td>7.000000</td>\n",
       "      <td>50.000000</td>\n",
       "      <td>30.000000</td>\n",
       "      <td>1.0</td>\n",
       "      <td>1000.000000</td>\n",
       "      <td>0.0</td>\n",
       "      <td>61.000000</td>\n",
       "    </tr>\n",
       "    <tr>\n",
       "      <th>max</th>\n",
       "      <td>0.972222</td>\n",
       "      <td>330.000000</td>\n",
       "      <td>28.000000</td>\n",
       "      <td>1.000000</td>\n",
       "      <td>1.000000</td>\n",
       "      <td>413.000000</td>\n",
       "      <td>64.000000</td>\n",
       "      <td>0.836364</td>\n",
       "      <td>0.941176</td>\n",
       "      <td>342.000000</td>\n",
       "      <td>...</td>\n",
       "      <td>809.000000</td>\n",
       "      <td>840.000000</td>\n",
       "      <td>5.000000e-02</td>\n",
       "      <td>7.000000</td>\n",
       "      <td>50.000000</td>\n",
       "      <td>30.000000</td>\n",
       "      <td>1.0</td>\n",
       "      <td>5000.000000</td>\n",
       "      <td>0.0</td>\n",
       "      <td>535.000000</td>\n",
       "    </tr>\n",
       "  </tbody>\n",
       "</table>\n",
       "<p>8 rows × 56 columns</p>\n",
       "</div>"
      ],
      "text/plain": [
       "       base_adj_f1_score  base_adj_false_negative  base_adj_false_positive  \\\n",
       "count         354.000000               354.000000               354.000000   \n",
       "mean            0.561916                71.401130                 4.330508   \n",
       "std             0.255877                97.320286                 3.838943   \n",
       "min             0.101796                 0.000000                 0.000000   \n",
       "25%             0.299551                10.250000                 2.000000   \n",
       "50%             0.631579                20.000000                 3.000000   \n",
       "75%             0.766667               113.000000                 6.000000   \n",
       "max             0.972222               330.000000                28.000000   \n",
       "\n",
       "       base_adj_precision  base_adj_recall  base_adj_true_negative  \\\n",
       "count          354.000000       354.000000              354.000000   \n",
       "mean             0.852903         0.475771              202.070621   \n",
       "std              0.107440         0.273529              134.907893   \n",
       "min              0.416667         0.054313               27.000000   \n",
       "25%              0.800000         0.185468              100.250000   \n",
       "50%              0.870968         0.514248              151.000000   \n",
       "75%              0.939394         0.689655              378.000000   \n",
       "max              1.000000         1.000000              413.000000   \n",
       "\n",
       "       base_adj_true_positive  base_arrow_f1_score  base_arrow_f1_score_ce  \\\n",
       "count              354.000000           353.000000              353.000000   \n",
       "mean                24.316384             0.353557                0.647760   \n",
       "std                  7.695804             0.194188                0.153919   \n",
       "min                  9.000000             0.007273                0.100000   \n",
       "25%                 19.000000             0.188235                0.571429   \n",
       "50%                 23.000000             0.338462                0.666667   \n",
       "75%                 28.750000             0.492308                0.750000   \n",
       "max                 64.000000             0.836364                0.941176   \n",
       "\n",
       "       base_arrow_false_negative  ...  cluster_sid_lower  cluster_sid_upper  \\\n",
       "count                 354.000000  ...         354.000000         354.000000   \n",
       "mean                   81.132768  ...         214.872881         267.717514   \n",
       "std                    97.502709  ...         205.169075         207.269403   \n",
       "min                     6.000000  ...           0.000000           6.000000   \n",
       "25%                    20.000000  ...          72.250000         119.250000   \n",
       "50%                    30.500000  ...         142.000000         212.500000   \n",
       "75%                   121.000000  ...         275.750000         324.750000   \n",
       "max                   342.000000  ...         809.000000         840.000000   \n",
       "\n",
       "              alpha  n_clusters     n_edges     n_nodes  noise_scale  \\\n",
       "count  3.540000e+02  354.000000  354.000000  354.000000        354.0   \n",
       "mean   5.000000e-02    5.491525   39.491525   24.576271          1.0   \n",
       "std    1.389743e-17    1.502099   10.001200    4.989065          0.0   \n",
       "min    5.000000e-02    4.000000   30.000000   20.000000          1.0   \n",
       "25%    5.000000e-02    4.000000   30.000000   20.000000          1.0   \n",
       "50%    5.000000e-02    4.000000   30.000000   20.000000          1.0   \n",
       "75%    5.000000e-02    7.000000   50.000000   30.000000          1.0   \n",
       "max    5.000000e-02    7.000000   50.000000   30.000000          1.0   \n",
       "\n",
       "       sample_size  true_sid_lower  true_sid_upper  \n",
       "count   354.000000           354.0      354.000000  \n",
       "mean   1642.372881             0.0       48.683616  \n",
       "std    1960.129792             0.0       55.452058  \n",
       "min     100.000000             0.0        0.000000  \n",
       "25%     200.000000             0.0       17.000000  \n",
       "50%     500.000000             0.0       38.500000  \n",
       "75%    1000.000000             0.0       61.000000  \n",
       "max    5000.000000             0.0      535.000000  \n",
       "\n",
       "[8 rows x 56 columns]"
      ]
     },
     "execution_count": 12,
     "metadata": {},
     "output_type": "execute_result"
    }
   ],
   "source": [
    "data_sample.describe()"
   ]
  },
  {
   "cell_type": "code",
   "execution_count": 14,
   "metadata": {},
   "outputs": [
    {
     "data": {
      "text/html": [
       "<div>\n",
       "<style scoped>\n",
       "    .dataframe tbody tr th:only-of-type {\n",
       "        vertical-align: middle;\n",
       "    }\n",
       "\n",
       "    .dataframe tbody tr th {\n",
       "        vertical-align: top;\n",
       "    }\n",
       "\n",
       "    .dataframe thead th {\n",
       "        text-align: right;\n",
       "    }\n",
       "</style>\n",
       "<table border=\"1\" class=\"dataframe\">\n",
       "  <thead>\n",
       "    <tr style=\"text-align: right;\">\n",
       "      <th></th>\n",
       "      <th>base_adj_precision</th>\n",
       "      <th>cluster_adj_precision</th>\n",
       "      <th>base_adj_recall</th>\n",
       "      <th>cluster_adj_recall</th>\n",
       "      <th>base_adj_f1_score</th>\n",
       "      <th>cluster_adj_f1_score</th>\n",
       "      <th>base_base_shd</th>\n",
       "      <th>cluster_cluster_shd</th>\n",
       "      <th>base_sid_lower</th>\n",
       "      <th>base_sid_upper</th>\n",
       "      <th>cluster_sid_lower</th>\n",
       "      <th>cluster_sid_upper</th>\n",
       "    </tr>\n",
       "    <tr>\n",
       "      <th>sample_size</th>\n",
       "      <th></th>\n",
       "      <th></th>\n",
       "      <th></th>\n",
       "      <th></th>\n",
       "      <th></th>\n",
       "      <th></th>\n",
       "      <th></th>\n",
       "      <th></th>\n",
       "      <th></th>\n",
       "      <th></th>\n",
       "      <th></th>\n",
       "      <th></th>\n",
       "    </tr>\n",
       "  </thead>\n",
       "  <tbody>\n",
       "    <tr>\n",
       "      <th>100.0</th>\n",
       "      <td>0.856039</td>\n",
       "      <td>0.855013</td>\n",
       "      <td>0.355047</td>\n",
       "      <td>0.409611</td>\n",
       "      <td>0.466212</td>\n",
       "      <td>0.518207</td>\n",
       "      <td>85.404494</td>\n",
       "      <td>79.797753</td>\n",
       "      <td>285.674157</td>\n",
       "      <td>347.089888</td>\n",
       "      <td>251.123596</td>\n",
       "      <td>310.280899</td>\n",
       "    </tr>\n",
       "    <tr>\n",
       "      <th>500.0</th>\n",
       "      <td>0.852461</td>\n",
       "      <td>0.855345</td>\n",
       "      <td>0.473871</td>\n",
       "      <td>0.526201</td>\n",
       "      <td>0.563962</td>\n",
       "      <td>0.611631</td>\n",
       "      <td>80.438202</td>\n",
       "      <td>73.033708</td>\n",
       "      <td>268.179775</td>\n",
       "      <td>324.887640</td>\n",
       "      <td>219.898876</td>\n",
       "      <td>274.943820</td>\n",
       "    </tr>\n",
       "    <tr>\n",
       "      <th>1000.0</th>\n",
       "      <td>0.865107</td>\n",
       "      <td>0.864309</td>\n",
       "      <td>0.513394</td>\n",
       "      <td>0.579142</td>\n",
       "      <td>0.595049</td>\n",
       "      <td>0.649199</td>\n",
       "      <td>77.397727</td>\n",
       "      <td>69.386364</td>\n",
       "      <td>256.977273</td>\n",
       "      <td>307.625000</td>\n",
       "      <td>199.750000</td>\n",
       "      <td>247.431818</td>\n",
       "    </tr>\n",
       "    <tr>\n",
       "      <th>5000.0</th>\n",
       "      <td>0.837977</td>\n",
       "      <td>0.841293</td>\n",
       "      <td>0.562166</td>\n",
       "      <td>0.624713</td>\n",
       "      <td>0.623506</td>\n",
       "      <td>0.674384</td>\n",
       "      <td>76.806818</td>\n",
       "      <td>67.409091</td>\n",
       "      <td>255.681818</td>\n",
       "      <td>304.045455</td>\n",
       "      <td>188.250000</td>\n",
       "      <td>237.647727</td>\n",
       "    </tr>\n",
       "  </tbody>\n",
       "</table>\n",
       "</div>"
      ],
      "text/plain": [
       "             base_adj_precision  cluster_adj_precision  base_adj_recall  \\\n",
       "sample_size                                                               \n",
       "100.0                  0.856039               0.855013         0.355047   \n",
       "500.0                  0.852461               0.855345         0.473871   \n",
       "1000.0                 0.865107               0.864309         0.513394   \n",
       "5000.0                 0.837977               0.841293         0.562166   \n",
       "\n",
       "             cluster_adj_recall  base_adj_f1_score  cluster_adj_f1_score  \\\n",
       "sample_size                                                                \n",
       "100.0                  0.409611           0.466212              0.518207   \n",
       "500.0                  0.526201           0.563962              0.611631   \n",
       "1000.0                 0.579142           0.595049              0.649199   \n",
       "5000.0                 0.624713           0.623506              0.674384   \n",
       "\n",
       "             base_base_shd  cluster_cluster_shd  base_sid_lower  \\\n",
       "sample_size                                                       \n",
       "100.0            85.404494            79.797753      285.674157   \n",
       "500.0            80.438202            73.033708      268.179775   \n",
       "1000.0           77.397727            69.386364      256.977273   \n",
       "5000.0           76.806818            67.409091      255.681818   \n",
       "\n",
       "             base_sid_upper  cluster_sid_lower  cluster_sid_upper  \n",
       "sample_size                                                        \n",
       "100.0            347.089888         251.123596         310.280899  \n",
       "500.0            324.887640         219.898876         274.943820  \n",
       "1000.0           307.625000         199.750000         247.431818  \n",
       "5000.0           304.045455         188.250000         237.647727  "
      ]
     },
     "execution_count": 14,
     "metadata": {},
     "output_type": "execute_result"
    }
   ],
   "source": [
    "pd.DataFrame(data_sample.groupby('sample_size').mean()[selected_metrics])"
   ]
  },
  {
   "cell_type": "code",
   "execution_count": null,
   "metadata": {},
   "outputs": [],
   "source": []
  }
 ],
 "metadata": {
  "kernelspec": {
   "display_name": "mthesis",
   "language": "python",
   "name": "python3"
  },
  "language_info": {
   "codemirror_mode": {
    "name": "ipython",
    "version": 3
   },
   "file_extension": ".py",
   "mimetype": "text/x-python",
   "name": "python",
   "nbconvert_exporter": "python",
   "pygments_lexer": "ipython3",
   "version": "3.10.0"
  },
  "orig_nbformat": 4
 },
 "nbformat": 4,
 "nbformat_minor": 2
}
