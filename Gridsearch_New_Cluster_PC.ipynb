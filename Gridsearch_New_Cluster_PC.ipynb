{
 "cells": [
  {
   "cell_type": "code",
   "execution_count": 1,
   "metadata": {},
   "outputs": [
    {
     "name": "stderr",
     "output_type": "stream",
     "text": [
      "Detecting 1 CUDA device(s).\n",
      "2023-08-24 09:59:02,769 - c:\\Users\\JanMarco\\MLProjects\\Masterthesis\\masterthesis\\mthesis\\lib\\site-packages\\rpy2\\situation.py[line:41] - INFO: cffi mode is CFFI_MODE.ANY\n",
      "2023-08-24 09:59:02,777 - c:\\Users\\JanMarco\\MLProjects\\Masterthesis\\masterthesis\\mthesis\\lib\\site-packages\\rpy2\\situation.py[line:218] - INFO: R home found: C:\\Program Files\\R\\R-4.3.1\n",
      "2023-08-24 09:59:02,807 - c:\\Users\\JanMarco\\MLProjects\\Masterthesis\\masterthesis\\mthesis\\lib\\site-packages\\rpy2\\rinterface_lib\\embedded.py[line:20] - INFO: Default options to initialize R: rpy2, --quiet, --no-save\n",
      "IProgress not found. Please update jupyter and ipywidgets. See https://ipywidgets.readthedocs.io/en/stable/user_install.html\n"
     ]
    }
   ],
   "source": [
    "%load_ext autoreload\n",
    "%autoreload 2\n",
    "from clustercausal.experiments.ExperimentRunner import ExperimentRunner\n",
    "import itertools\n",
    "import yaml\n",
    "import os\n",
    "import pickle\n",
    "import pandas as pd\n",
    "from clustercausal.utils.Utils import *"
   ]
  },
  {
   "cell_type": "code",
   "execution_count": 2,
   "metadata": {},
   "outputs": [
    {
     "name": "stderr",
     "output_type": "stream",
     "text": [
      "2023-08-24 09:59:03,989 - c:\\Users\\JanMarco\\MLProjects\\Masterthesis\\masterthesis\\mthesis\\lib\\site-packages\\castle\\datasets\\simulator.py[line:270] - INFO: Finished synthetic dataset\n"
     ]
    },
    {
     "name": "stdout",
     "output_type": "stream",
     "text": [
      "Number of experiments: 108\n",
      "Warning: n_edges is not exact due to gcastle implementation\n",
      "Duration of algorithm was 6.50sec\n"
     ]
    },
    {
     "name": "stderr",
     "output_type": "stream",
     "text": [
      "2023-08-24 09:59:54,704 - c:\\Users\\JanMarco\\MLProjects\\Masterthesis\\masterthesis\\mthesis\\lib\\site-packages\\castle\\datasets\\simulator.py[line:270] - INFO: Finished synthetic dataset\n"
     ]
    },
    {
     "name": "stdout",
     "output_type": "stream",
     "text": [
      "Warning: n_edges is not exact due to gcastle implementation\n",
      "Duration of algorithm was 7.21sec\n"
     ]
    },
    {
     "name": "stderr",
     "output_type": "stream",
     "text": [
      "2023-08-24 10:00:42,365 - c:\\Users\\JanMarco\\MLProjects\\Masterthesis\\masterthesis\\mthesis\\lib\\site-packages\\castle\\datasets\\simulator.py[line:270] - INFO: Finished synthetic dataset\n"
     ]
    },
    {
     "name": "stdout",
     "output_type": "stream",
     "text": [
      "Warning: n_edges is not exact due to gcastle implementation\n",
      "Duration of algorithm was 6.32sec\n"
     ]
    },
    {
     "name": "stderr",
     "output_type": "stream",
     "text": [
      "2023-08-24 10:01:28,696 - c:\\Users\\JanMarco\\MLProjects\\Masterthesis\\masterthesis\\mthesis\\lib\\site-packages\\castle\\datasets\\simulator.py[line:270] - INFO: Finished synthetic dataset\n"
     ]
    },
    {
     "name": "stdout",
     "output_type": "stream",
     "text": [
      "Warning: n_edges is not exact due to gcastle implementation\n",
      "Duration of algorithm was 5.26sec\n"
     ]
    },
    {
     "name": "stderr",
     "output_type": "stream",
     "text": [
      "2023-08-24 10:02:10,341 - c:\\Users\\JanMarco\\MLProjects\\Masterthesis\\masterthesis\\mthesis\\lib\\site-packages\\castle\\datasets\\simulator.py[line:270] - INFO: Finished synthetic dataset\n"
     ]
    },
    {
     "name": "stdout",
     "output_type": "stream",
     "text": [
      "Warning: n_edges is not exact due to gcastle implementation\n",
      "Duration of algorithm was 6.61sec\n"
     ]
    },
    {
     "name": "stderr",
     "output_type": "stream",
     "text": [
      "2023-08-24 10:03:01,956 - c:\\Users\\JanMarco\\MLProjects\\Masterthesis\\masterthesis\\mthesis\\lib\\site-packages\\castle\\datasets\\simulator.py[line:270] - INFO: Finished synthetic dataset\n"
     ]
    },
    {
     "name": "stdout",
     "output_type": "stream",
     "text": [
      "Warning: n_edges is not exact due to gcastle implementation\n",
      "Duration of algorithm was 8.95sec\n"
     ]
    },
    {
     "name": "stderr",
     "output_type": "stream",
     "text": [
      "2023-08-24 10:03:51,287 - c:\\Users\\JanMarco\\MLProjects\\Masterthesis\\masterthesis\\mthesis\\lib\\site-packages\\castle\\datasets\\simulator.py[line:270] - INFO: Finished synthetic dataset\n"
     ]
    },
    {
     "name": "stdout",
     "output_type": "stream",
     "text": [
      "Warning: n_edges is not exact due to gcastle implementation\n",
      "Duration of algorithm was 8.24sec\n"
     ]
    },
    {
     "name": "stderr",
     "output_type": "stream",
     "text": [
      "2023-08-24 10:04:56,203 - c:\\Users\\JanMarco\\MLProjects\\Masterthesis\\masterthesis\\mthesis\\lib\\site-packages\\castle\\datasets\\simulator.py[line:270] - INFO: Finished synthetic dataset\n"
     ]
    },
    {
     "name": "stdout",
     "output_type": "stream",
     "text": [
      "Warning: n_edges is not exact due to gcastle implementation\n",
      "Duration of algorithm was 8.80sec\n"
     ]
    },
    {
     "name": "stderr",
     "output_type": "stream",
     "text": [
      "2023-08-24 10:05:46,231 - c:\\Users\\JanMarco\\MLProjects\\Masterthesis\\masterthesis\\mthesis\\lib\\site-packages\\castle\\datasets\\simulator.py[line:270] - INFO: Finished synthetic dataset\n"
     ]
    },
    {
     "name": "stdout",
     "output_type": "stream",
     "text": [
      "Warning: n_edges is not exact due to gcastle implementation\n",
      "Duration of algorithm was 6.06sec\n"
     ]
    },
    {
     "name": "stderr",
     "output_type": "stream",
     "text": [
      "2023-08-24 10:06:35,389 - c:\\Users\\JanMarco\\MLProjects\\Masterthesis\\masterthesis\\mthesis\\lib\\site-packages\\castle\\datasets\\simulator.py[line:270] - INFO: Finished synthetic dataset\n"
     ]
    },
    {
     "name": "stdout",
     "output_type": "stream",
     "text": [
      "Warning: n_edges is not exact due to gcastle implementation\n",
      "Duration of algorithm was 10.87sec\n"
     ]
    },
    {
     "name": "stderr",
     "output_type": "stream",
     "text": [
      "2023-08-24 10:08:19,799 - c:\\Users\\JanMarco\\MLProjects\\Masterthesis\\masterthesis\\mthesis\\lib\\site-packages\\castle\\datasets\\simulator.py[line:270] - INFO: Finished synthetic dataset\n"
     ]
    },
    {
     "name": "stdout",
     "output_type": "stream",
     "text": [
      "Warning: n_edges is not exact due to gcastle implementation\n",
      "Duration of algorithm was 12.50sec\n"
     ]
    },
    {
     "name": "stderr",
     "output_type": "stream",
     "text": [
      "2023-08-24 10:09:27,254 - c:\\Users\\JanMarco\\MLProjects\\Masterthesis\\masterthesis\\mthesis\\lib\\site-packages\\castle\\datasets\\simulator.py[line:270] - INFO: Finished synthetic dataset\n"
     ]
    },
    {
     "name": "stdout",
     "output_type": "stream",
     "text": [
      "Warning: n_edges is not exact due to gcastle implementation\n",
      "Duration of algorithm was 16.16sec\n"
     ]
    },
    {
     "name": "stderr",
     "output_type": "stream",
     "text": [
      "2023-08-24 11:20:06,764 - c:\\Users\\JanMarco\\MLProjects\\Masterthesis\\masterthesis\\mthesis\\lib\\site-packages\\castle\\datasets\\simulator.py[line:270] - INFO: Finished synthetic dataset\n"
     ]
    },
    {
     "name": "stdout",
     "output_type": "stream",
     "text": [
      "Warning: n_edges is not exact due to gcastle implementation\n",
      "Duration of algorithm was 16.04sec\n"
     ]
    },
    {
     "name": "stderr",
     "output_type": "stream",
     "text": [
      "2023-08-24 11:21:14,358 - c:\\Users\\JanMarco\\MLProjects\\Masterthesis\\masterthesis\\mthesis\\lib\\site-packages\\castle\\datasets\\simulator.py[line:270] - INFO: Finished synthetic dataset\n"
     ]
    },
    {
     "name": "stdout",
     "output_type": "stream",
     "text": [
      "Warning: n_edges is not exact due to gcastle implementation\n",
      "Duration of algorithm was 42.38sec\n"
     ]
    },
    {
     "name": "stderr",
     "output_type": "stream",
     "text": [
      "2023-08-24 11:23:11,225 - c:\\Users\\JanMarco\\MLProjects\\Masterthesis\\masterthesis\\mthesis\\lib\\site-packages\\castle\\datasets\\simulator.py[line:270] - INFO: Finished synthetic dataset\n"
     ]
    },
    {
     "name": "stdout",
     "output_type": "stream",
     "text": [
      "Warning: n_edges is not exact due to gcastle implementation\n",
      "Duration of algorithm was 23.58sec\n"
     ]
    },
    {
     "name": "stderr",
     "output_type": "stream",
     "text": [
      "2023-08-24 11:26:10,301 - c:\\Users\\JanMarco\\MLProjects\\Masterthesis\\masterthesis\\mthesis\\lib\\site-packages\\castle\\datasets\\simulator.py[line:270] - INFO: Finished synthetic dataset\n"
     ]
    },
    {
     "name": "stdout",
     "output_type": "stream",
     "text": [
      "Warning: n_edges is not exact due to gcastle implementation\n",
      "Duration of algorithm was 14.17sec\n"
     ]
    },
    {
     "name": "stderr",
     "output_type": "stream",
     "text": [
      "2023-08-24 11:28:53,974 - c:\\Users\\JanMarco\\MLProjects\\Masterthesis\\masterthesis\\mthesis\\lib\\site-packages\\castle\\datasets\\simulator.py[line:270] - INFO: Finished synthetic dataset\n"
     ]
    },
    {
     "name": "stdout",
     "output_type": "stream",
     "text": [
      "Warning: n_edges is not exact due to gcastle implementation\n",
      "Duration of algorithm was 41.58sec\n"
     ]
    },
    {
     "name": "stderr",
     "output_type": "stream",
     "text": [
      "2023-08-24 11:46:08,603 - c:\\Users\\JanMarco\\MLProjects\\Masterthesis\\masterthesis\\mthesis\\lib\\site-packages\\castle\\datasets\\simulator.py[line:270] - INFO: Finished synthetic dataset\n"
     ]
    },
    {
     "name": "stdout",
     "output_type": "stream",
     "text": [
      "Warning: n_edges is not exact due to gcastle implementation\n",
      "Duration of algorithm was 12.61sec\n",
      "Warning: n_edges is not exact due to gcastle implementation\n"
     ]
    },
    {
     "name": "stderr",
     "output_type": "stream",
     "text": [
      "2023-08-24 11:47:11,813 - c:\\Users\\JanMarco\\MLProjects\\Masterthesis\\masterthesis\\mthesis\\lib\\site-packages\\castle\\datasets\\simulator.py[line:270] - INFO: Finished synthetic dataset\n"
     ]
    },
    {
     "name": "stdout",
     "output_type": "stream",
     "text": [
      "Duration of algorithm was 223.12sec\n"
     ]
    }
   ],
   "source": [
    "config_path = 'clustercausal\\experiments\\configs\\cluster_pc_1.yaml'\n",
    "config_path = config_path.replace('\\\\', '/')\n",
    "experiment = ExperimentRunner(config_path)\n",
    "experiment.run_gridsearch_experiment()"
   ]
  },
  {
   "cell_type": "code",
   "execution_count": null,
   "metadata": {},
   "outputs": [
    {
     "name": "stderr",
     "output_type": "stream",
     "text": [
      "2023-08-23 23:52:31,637 - c:\\Users\\JanMarco\\MLProjects\\Masterthesis\\masterthesis\\mthesis\\lib\\site-packages\\castle\\datasets\\simulator.py[line:270] - INFO: Finished synthetic dataset\n"
     ]
    },
    {
     "name": "stdout",
     "output_type": "stream",
     "text": [
      "Number of experiments: 486\n",
      "Warning: n_edges is not exact due to gcastle implementation\n"
     ]
    },
    {
     "ename": "KeyboardInterrupt",
     "evalue": "",
     "output_type": "error",
     "traceback": [
      "\u001b[1;31m---------------------------------------------------------------------------\u001b[0m",
      "\u001b[1;31mKeyboardInterrupt\u001b[0m                         Traceback (most recent call last)",
      "Cell \u001b[1;32mIn[3], line 4\u001b[0m\n\u001b[0;32m      2\u001b[0m config_path \u001b[39m=\u001b[39m config_path\u001b[39m.\u001b[39mreplace(\u001b[39m'\u001b[39m\u001b[39m\\\\\u001b[39;00m\u001b[39m'\u001b[39m, \u001b[39m'\u001b[39m\u001b[39m/\u001b[39m\u001b[39m'\u001b[39m)\n\u001b[0;32m      3\u001b[0m experiment \u001b[39m=\u001b[39m ExperimentRunner(config_path)\n\u001b[1;32m----> 4\u001b[0m experiment\u001b[39m.\u001b[39;49mrun_gridsearch_experiment()\n",
      "File \u001b[1;32mc:\\Users\\JanMarco\\MLProjects\\Masterthesis\\masterthesis\\clustercausal\\experiments\\ExperimentRunner.py:91\u001b[0m, in \u001b[0;36mExperimentRunner.run_gridsearch_experiment\u001b[1;34m(self)\u001b[0m\n\u001b[0;32m     87\u001b[0m     lin_param_configuration \u001b[39m=\u001b[39m \u001b[39mlist\u001b[39m(\n\u001b[0;32m     88\u001b[0m         itertools\u001b[39m.\u001b[39mproduct(\u001b[39m*\u001b[39m\u001b[39mself\u001b[39m\u001b[39m.\u001b[39mlinear_config\u001b[39m.\u001b[39mvalues())\n\u001b[0;32m     89\u001b[0m     )\n\u001b[0;32m     90\u001b[0m     \u001b[39mfor\u001b[39;00m params \u001b[39min\u001b[39;00m lin_param_configuration:\n\u001b[1;32m---> 91\u001b[0m         \u001b[39mself\u001b[39;49m\u001b[39m.\u001b[39;49mrun_experiment(params)\n\u001b[0;32m     93\u001b[0m \u001b[39mif\u001b[39;00m \u001b[39mself\u001b[39m\u001b[39m.\u001b[39mnonlinear_config \u001b[39mis\u001b[39;00m \u001b[39mnot\u001b[39;00m \u001b[39mNone\u001b[39;00m:\n\u001b[0;32m     94\u001b[0m     nonlin_param_configuration \u001b[39m=\u001b[39m \u001b[39mlist\u001b[39m(\n\u001b[0;32m     95\u001b[0m         itertools\u001b[39m.\u001b[39mproduct(\u001b[39m*\u001b[39m\u001b[39mself\u001b[39m\u001b[39m.\u001b[39mnonlinear_config\u001b[39m.\u001b[39mvalues())\n\u001b[0;32m     96\u001b[0m     )\n",
      "File \u001b[1;32mc:\\Users\\JanMarco\\MLProjects\\Masterthesis\\masterthesis\\clustercausal\\experiments\\ExperimentRunner.py:122\u001b[0m, in \u001b[0;36mExperimentRunner.run_experiment\u001b[1;34m(self, params)\u001b[0m\n\u001b[0;32m    113\u001b[0m \u001b[39m# run causal discovery\u001b[39;00m\n\u001b[0;32m    114\u001b[0m cluster_pc \u001b[39m=\u001b[39m ClusterPC(\n\u001b[0;32m    115\u001b[0m     cdag\u001b[39m=\u001b[39mcluster_dag,\n\u001b[0;32m    116\u001b[0m     data\u001b[39m=\u001b[39mcluster_dag\u001b[39m.\u001b[39mdata,\n\u001b[1;32m   (...)\u001b[0m\n\u001b[0;32m    120\u001b[0m     show_progress\u001b[39m=\u001b[39m\u001b[39mFalse\u001b[39;00m,\n\u001b[0;32m    121\u001b[0m )\n\u001b[1;32m--> 122\u001b[0m cluster_est_graph \u001b[39m=\u001b[39m cluster_pc\u001b[39m.\u001b[39;49mrun()\n\u001b[0;32m    123\u001b[0m base_est_graph \u001b[39m=\u001b[39m pc(\n\u001b[0;32m    124\u001b[0m     cluster_dag\u001b[39m.\u001b[39mdata,\n\u001b[0;32m    125\u001b[0m     alpha\u001b[39m=\u001b[39mparam_dict[\u001b[39m\"\u001b[39m\u001b[39malpha\u001b[39m\u001b[39m\"\u001b[39m],\n\u001b[0;32m    126\u001b[0m     verbose\u001b[39m=\u001b[39m\u001b[39mFalse\u001b[39;00m,\n\u001b[0;32m    127\u001b[0m     show_progress\u001b[39m=\u001b[39m\u001b[39mFalse\u001b[39;00m,\n\u001b[0;32m    128\u001b[0m )\n\u001b[0;32m    129\u001b[0m \u001b[39m# evaluate causal discovery\u001b[39;00m\n",
      "File \u001b[1;32mc:\\Users\\JanMarco\\MLProjects\\Masterthesis\\masterthesis\\clustercausal\\algorithms\\ClusterPC.py:84\u001b[0m, in \u001b[0;36mClusterPC.run\u001b[1;34m(self)\u001b[0m\n\u001b[0;32m     80\u001b[0m     \u001b[39mprint\u001b[39m(\n\u001b[0;32m     81\u001b[0m         \u001b[39mf\u001b[39m\u001b[39m\"\u001b[39m\u001b[39mTopological ordering \u001b[39m\u001b[39m{\u001b[39;00m(\u001b[39mself\u001b[39m\u001b[39m.\u001b[39mcdag\u001b[39m.\u001b[39mcdag_list_of_topological_sort)\u001b[39m}\u001b[39;00m\u001b[39m\"\u001b[39m\n\u001b[0;32m     82\u001b[0m     )\n\u001b[0;32m     83\u001b[0m \u001b[39mfor\u001b[39;00m cluster_name \u001b[39min\u001b[39;00m \u001b[39mself\u001b[39m\u001b[39m.\u001b[39mcdag\u001b[39m.\u001b[39mcdag_list_of_topological_sort:\n\u001b[1;32m---> 84\u001b[0m     \u001b[39mself\u001b[39m\u001b[39m.\u001b[39mcdag\u001b[39m.\u001b[39mcg \u001b[39m=\u001b[39m \u001b[39mself\u001b[39;49m\u001b[39m.\u001b[39;49mcluster_phase(cluster_name)\n\u001b[0;32m     86\u001b[0m \u001b[39m# print(\"Applying edge orientation rules\")\u001b[39;00m\n\u001b[0;32m     87\u001b[0m \u001b[39m# As some nodes have no edge by CDAG definition, they never get tested so have Nonetype sepsets\u001b[39;00m\n\u001b[0;32m     88\u001b[0m \u001b[39m# manually have to add an empty sepset for them else the Meek rules try to access NoneType\u001b[39;00m\n\u001b[0;32m     89\u001b[0m \u001b[39mfor\u001b[39;00m i \u001b[39min\u001b[39;00m \u001b[39mrange\u001b[39m(no_of_var):\n",
      "File \u001b[1;32mc:\\Users\\JanMarco\\MLProjects\\Masterthesis\\masterthesis\\clustercausal\\algorithms\\ClusterPC.py:221\u001b[0m, in \u001b[0;36mClusterPC.cluster_phase\u001b[1;34m(self, cluster_name)\u001b[0m\n\u001b[0;32m    218\u001b[0m \u001b[39m# Consider separating sets in nonchilds(x) intersect local_graph\u001b[39;00m\n\u001b[0;32m    219\u001b[0m \u001b[39mfor\u001b[39;00m S \u001b[39min\u001b[39;00m combinations(Nonchilds_x_no_y, depth):\n\u001b[0;32m    220\u001b[0m     \u001b[39m# print(f'Set S to be tested is {S}')\u001b[39;00m\n\u001b[1;32m--> 221\u001b[0m     p \u001b[39m=\u001b[39m \u001b[39mself\u001b[39;49m\u001b[39m.\u001b[39;49mcdag\u001b[39m.\u001b[39;49mcg\u001b[39m.\u001b[39;49mci_test(x, y, S)\n\u001b[0;32m    222\u001b[0m     \u001b[39mif\u001b[39;00m p \u001b[39m>\u001b[39m \u001b[39mself\u001b[39m\u001b[39m.\u001b[39malpha:\n\u001b[0;32m    223\u001b[0m         \u001b[39mif\u001b[39;00m \u001b[39mself\u001b[39m\u001b[39m.\u001b[39mverbose:\n",
      "File \u001b[1;32mc:\\Users\\JanMarco\\MLProjects\\Masterthesis\\masterthesis\\mthesis\\lib\\site-packages\\causallearn\\graph\\GraphClass.py:58\u001b[0m, in \u001b[0;36mCausalGraph.ci_test\u001b[1;34m(self, i, j, S)\u001b[0m\n\u001b[0;32m     56\u001b[0m \u001b[39m# assert i != j and not i in S and not j in S\u001b[39;00m\n\u001b[0;32m     57\u001b[0m \u001b[39mif\u001b[39;00m \u001b[39mself\u001b[39m\u001b[39m.\u001b[39mtest\u001b[39m.\u001b[39mmethod \u001b[39m==\u001b[39m \u001b[39m'\u001b[39m\u001b[39mmc_fisherz\u001b[39m\u001b[39m'\u001b[39m: \u001b[39mreturn\u001b[39;00m \u001b[39mself\u001b[39m\u001b[39m.\u001b[39mtest(i, j, S, \u001b[39mself\u001b[39m\u001b[39m.\u001b[39mnx_skel, \u001b[39mself\u001b[39m\u001b[39m.\u001b[39mprt_m)\n\u001b[1;32m---> 58\u001b[0m \u001b[39mreturn\u001b[39;00m \u001b[39mself\u001b[39;49m\u001b[39m.\u001b[39;49mtest(i, j, S)\n",
      "File \u001b[1;32mc:\\Users\\JanMarco\\MLProjects\\Masterthesis\\masterthesis\\mthesis\\lib\\site-packages\\causallearn\\utils\\cit.py:168\u001b[0m, in \u001b[0;36mFisherZ.__call__\u001b[1;34m(self, X, Y, condition_set)\u001b[0m\n\u001b[0;32m    166\u001b[0m Z \u001b[39m=\u001b[39m \u001b[39m0.5\u001b[39m \u001b[39m*\u001b[39m log((\u001b[39m1\u001b[39m \u001b[39m+\u001b[39m r) \u001b[39m/\u001b[39m (\u001b[39m1\u001b[39m \u001b[39m-\u001b[39m r))\n\u001b[0;32m    167\u001b[0m X \u001b[39m=\u001b[39m sqrt(\u001b[39mself\u001b[39m\u001b[39m.\u001b[39msample_size \u001b[39m-\u001b[39m \u001b[39mlen\u001b[39m(condition_set) \u001b[39m-\u001b[39m \u001b[39m3\u001b[39m) \u001b[39m*\u001b[39m \u001b[39mabs\u001b[39m(Z)\n\u001b[1;32m--> 168\u001b[0m p \u001b[39m=\u001b[39m \u001b[39m2\u001b[39m \u001b[39m*\u001b[39m (\u001b[39m1\u001b[39m \u001b[39m-\u001b[39m norm\u001b[39m.\u001b[39;49mcdf(\u001b[39mabs\u001b[39;49m(X)))\n\u001b[0;32m    169\u001b[0m \u001b[39mself\u001b[39m\u001b[39m.\u001b[39mpvalue_cache[cache_key] \u001b[39m=\u001b[39m p\n\u001b[0;32m    170\u001b[0m \u001b[39mreturn\u001b[39;00m p\n",
      "File \u001b[1;32mc:\\Users\\JanMarco\\MLProjects\\Masterthesis\\masterthesis\\mthesis\\lib\\site-packages\\scipy\\stats\\_distn_infrastructure.py:1994\u001b[0m, in \u001b[0;36mrv_continuous.cdf\u001b[1;34m(self, x, *args, **kwds)\u001b[0m\n\u001b[0;32m   1992\u001b[0m output \u001b[39m=\u001b[39m zeros(shape(cond), dtyp)\n\u001b[0;32m   1993\u001b[0m place(output, (\u001b[39m1\u001b[39m\u001b[39m-\u001b[39mcond0)\u001b[39m+\u001b[39mnp\u001b[39m.\u001b[39misnan(x), \u001b[39mself\u001b[39m\u001b[39m.\u001b[39mbadvalue)\n\u001b[1;32m-> 1994\u001b[0m place(output, cond2, \u001b[39m1.0\u001b[39;49m)\n\u001b[0;32m   1995\u001b[0m \u001b[39mif\u001b[39;00m np\u001b[39m.\u001b[39many(cond):  \u001b[39m# call only if at least 1 entry\u001b[39;00m\n\u001b[0;32m   1996\u001b[0m     goodargs \u001b[39m=\u001b[39m argsreduce(cond, \u001b[39m*\u001b[39m((x,)\u001b[39m+\u001b[39margs))\n",
      "File \u001b[1;32m<__array_function__ internals>:180\u001b[0m, in \u001b[0;36mplace\u001b[1;34m(*args, **kwargs)\u001b[0m\n",
      "File \u001b[1;32mc:\\Users\\JanMarco\\MLProjects\\Masterthesis\\masterthesis\\mthesis\\lib\\site-packages\\numpy\\lib\\function_base.py:1953\u001b[0m, in \u001b[0;36mplace\u001b[1;34m(arr, mask, vals)\u001b[0m\n\u001b[0;32m   1949\u001b[0m \u001b[39mif\u001b[39;00m \u001b[39mnot\u001b[39;00m \u001b[39misinstance\u001b[39m(arr, np\u001b[39m.\u001b[39mndarray):\n\u001b[0;32m   1950\u001b[0m     \u001b[39mraise\u001b[39;00m \u001b[39mTypeError\u001b[39;00m(\u001b[39m\"\u001b[39m\u001b[39margument 1 must be numpy.ndarray, \u001b[39m\u001b[39m\"\u001b[39m\n\u001b[0;32m   1951\u001b[0m                     \u001b[39m\"\u001b[39m\u001b[39mnot \u001b[39m\u001b[39m{name}\u001b[39;00m\u001b[39m\"\u001b[39m\u001b[39m.\u001b[39mformat(name\u001b[39m=\u001b[39m\u001b[39mtype\u001b[39m(arr)\u001b[39m.\u001b[39m\u001b[39m__name__\u001b[39m))\n\u001b[1;32m-> 1953\u001b[0m \u001b[39mreturn\u001b[39;00m _insert(arr, mask, vals)\n",
      "\u001b[1;31mKeyboardInterrupt\u001b[0m: "
     ]
    }
   ],
   "source": [
    "config_path = 'clustercausal\\experiments\\configs\\cluster_pc_2.yaml'\n",
    "config_path = config_path.replace('\\\\', '/')\n",
    "experiment = ExperimentRunner(config_path)\n",
    "experiment.run_gridsearch_experiment()"
   ]
  },
  {
   "cell_type": "code",
   "execution_count": null,
   "metadata": {},
   "outputs": [],
   "source": [
    "config_path = 'clustercausal\\experiments\\configs\\cluster_pc_3.yaml'\n",
    "config_path = config_path.replace('\\\\', '/')\n",
    "experiment = ExperimentRunner(config_path)\n",
    "experiment.run_gridsearch_experiment()"
   ]
  },
  {
   "cell_type": "code",
   "execution_count": null,
   "metadata": {},
   "outputs": [
    {
     "name": "stderr",
     "output_type": "stream",
     "text": [
      "2023-08-23 23:52:19,407 - c:\\Users\\JanMarco\\MLProjects\\Masterthesis\\masterthesis\\mthesis\\lib\\site-packages\\castle\\datasets\\simulator.py[line:270] - INFO: Finished synthetic dataset\n"
     ]
    },
    {
     "name": "stdout",
     "output_type": "stream",
     "text": [
      "Number of experiments: 216\n",
      "Warning: n_edges is not exact due to gcastle implementation\n"
     ]
    },
    {
     "ename": "KeyboardInterrupt",
     "evalue": "",
     "output_type": "error",
     "traceback": [
      "\u001b[1;31m---------------------------------------------------------------------------\u001b[0m",
      "\u001b[1;31mKeyboardInterrupt\u001b[0m                         Traceback (most recent call last)",
      "Cell \u001b[1;32mIn[2], line 4\u001b[0m\n\u001b[0;32m      2\u001b[0m config_path \u001b[39m=\u001b[39m config_path\u001b[39m.\u001b[39mreplace(\u001b[39m'\u001b[39m\u001b[39m\\\\\u001b[39;00m\u001b[39m'\u001b[39m, \u001b[39m'\u001b[39m\u001b[39m/\u001b[39m\u001b[39m'\u001b[39m)\n\u001b[0;32m      3\u001b[0m experiment \u001b[39m=\u001b[39m ExperimentRunner(config_path)\n\u001b[1;32m----> 4\u001b[0m experiment\u001b[39m.\u001b[39;49mrun_gridsearch_experiment()\n",
      "File \u001b[1;32mc:\\Users\\JanMarco\\MLProjects\\Masterthesis\\masterthesis\\clustercausal\\experiments\\ExperimentRunner.py:91\u001b[0m, in \u001b[0;36mExperimentRunner.run_gridsearch_experiment\u001b[1;34m(self)\u001b[0m\n\u001b[0;32m     87\u001b[0m     lin_param_configuration \u001b[39m=\u001b[39m \u001b[39mlist\u001b[39m(\n\u001b[0;32m     88\u001b[0m         itertools\u001b[39m.\u001b[39mproduct(\u001b[39m*\u001b[39m\u001b[39mself\u001b[39m\u001b[39m.\u001b[39mlinear_config\u001b[39m.\u001b[39mvalues())\n\u001b[0;32m     89\u001b[0m     )\n\u001b[0;32m     90\u001b[0m     \u001b[39mfor\u001b[39;00m params \u001b[39min\u001b[39;00m lin_param_configuration:\n\u001b[1;32m---> 91\u001b[0m         \u001b[39mself\u001b[39;49m\u001b[39m.\u001b[39;49mrun_experiment(params)\n\u001b[0;32m     93\u001b[0m \u001b[39mif\u001b[39;00m \u001b[39mself\u001b[39m\u001b[39m.\u001b[39mnonlinear_config \u001b[39mis\u001b[39;00m \u001b[39mnot\u001b[39;00m \u001b[39mNone\u001b[39;00m:\n\u001b[0;32m     94\u001b[0m     nonlin_param_configuration \u001b[39m=\u001b[39m \u001b[39mlist\u001b[39m(\n\u001b[0;32m     95\u001b[0m         itertools\u001b[39m.\u001b[39mproduct(\u001b[39m*\u001b[39m\u001b[39mself\u001b[39m\u001b[39m.\u001b[39mnonlinear_config\u001b[39m.\u001b[39mvalues())\n\u001b[0;32m     96\u001b[0m     )\n",
      "File \u001b[1;32mc:\\Users\\JanMarco\\MLProjects\\Masterthesis\\masterthesis\\clustercausal\\experiments\\ExperimentRunner.py:122\u001b[0m, in \u001b[0;36mExperimentRunner.run_experiment\u001b[1;34m(self, params)\u001b[0m\n\u001b[0;32m    113\u001b[0m \u001b[39m# run causal discovery\u001b[39;00m\n\u001b[0;32m    114\u001b[0m cluster_pc \u001b[39m=\u001b[39m ClusterPC(\n\u001b[0;32m    115\u001b[0m     cdag\u001b[39m=\u001b[39mcluster_dag,\n\u001b[0;32m    116\u001b[0m     data\u001b[39m=\u001b[39mcluster_dag\u001b[39m.\u001b[39mdata,\n\u001b[1;32m   (...)\u001b[0m\n\u001b[0;32m    120\u001b[0m     show_progress\u001b[39m=\u001b[39m\u001b[39mFalse\u001b[39;00m,\n\u001b[0;32m    121\u001b[0m )\n\u001b[1;32m--> 122\u001b[0m cluster_est_graph \u001b[39m=\u001b[39m cluster_pc\u001b[39m.\u001b[39;49mrun()\n\u001b[0;32m    123\u001b[0m base_est_graph \u001b[39m=\u001b[39m pc(\n\u001b[0;32m    124\u001b[0m     cluster_dag\u001b[39m.\u001b[39mdata,\n\u001b[0;32m    125\u001b[0m     alpha\u001b[39m=\u001b[39mparam_dict[\u001b[39m\"\u001b[39m\u001b[39malpha\u001b[39m\u001b[39m\"\u001b[39m],\n\u001b[0;32m    126\u001b[0m     verbose\u001b[39m=\u001b[39m\u001b[39mFalse\u001b[39;00m,\n\u001b[0;32m    127\u001b[0m     show_progress\u001b[39m=\u001b[39m\u001b[39mFalse\u001b[39;00m,\n\u001b[0;32m    128\u001b[0m )\n\u001b[0;32m    129\u001b[0m \u001b[39m# evaluate causal discovery\u001b[39;00m\n",
      "File \u001b[1;32mc:\\Users\\JanMarco\\MLProjects\\Masterthesis\\masterthesis\\clustercausal\\algorithms\\ClusterPC.py:84\u001b[0m, in \u001b[0;36mClusterPC.run\u001b[1;34m(self)\u001b[0m\n\u001b[0;32m     80\u001b[0m     \u001b[39mprint\u001b[39m(\n\u001b[0;32m     81\u001b[0m         \u001b[39mf\u001b[39m\u001b[39m\"\u001b[39m\u001b[39mTopological ordering \u001b[39m\u001b[39m{\u001b[39;00m(\u001b[39mself\u001b[39m\u001b[39m.\u001b[39mcdag\u001b[39m.\u001b[39mcdag_list_of_topological_sort)\u001b[39m}\u001b[39;00m\u001b[39m\"\u001b[39m\n\u001b[0;32m     82\u001b[0m     )\n\u001b[0;32m     83\u001b[0m \u001b[39mfor\u001b[39;00m cluster_name \u001b[39min\u001b[39;00m \u001b[39mself\u001b[39m\u001b[39m.\u001b[39mcdag\u001b[39m.\u001b[39mcdag_list_of_topological_sort:\n\u001b[1;32m---> 84\u001b[0m     \u001b[39mself\u001b[39m\u001b[39m.\u001b[39mcdag\u001b[39m.\u001b[39mcg \u001b[39m=\u001b[39m \u001b[39mself\u001b[39;49m\u001b[39m.\u001b[39;49mcluster_phase(cluster_name)\n\u001b[0;32m     86\u001b[0m \u001b[39m# print(\"Applying edge orientation rules\")\u001b[39;00m\n\u001b[0;32m     87\u001b[0m \u001b[39m# As some nodes have no edge by CDAG definition, they never get tested so have Nonetype sepsets\u001b[39;00m\n\u001b[0;32m     88\u001b[0m \u001b[39m# manually have to add an empty sepset for them else the Meek rules try to access NoneType\u001b[39;00m\n\u001b[0;32m     89\u001b[0m \u001b[39mfor\u001b[39;00m i \u001b[39min\u001b[39;00m \u001b[39mrange\u001b[39m(no_of_var):\n",
      "File \u001b[1;32mc:\\Users\\JanMarco\\MLProjects\\Masterthesis\\masterthesis\\clustercausal\\algorithms\\ClusterPC.py:346\u001b[0m, in \u001b[0;36mClusterPC.cluster_phase\u001b[1;34m(self, cluster_name)\u001b[0m\n\u001b[0;32m    344\u001b[0m         \u001b[39mif\u001b[39;00m \u001b[39mself\u001b[39m\u001b[39m.\u001b[39mverbose:\n\u001b[0;32m    345\u001b[0m             \u001b[39mprint\u001b[39m(\u001b[39mf\u001b[39m\u001b[39m\"\u001b[39m\u001b[39mDeleted edge from \u001b[39m\u001b[39m{\u001b[39;00mx_name\u001b[39m}\u001b[39;00m\u001b[39m to \u001b[39m\u001b[39m{\u001b[39;00my_name\u001b[39m}\u001b[39;00m\u001b[39m\"\u001b[39m)\n\u001b[1;32m--> 346\u001b[0m local_graph \u001b[39m=\u001b[39m \u001b[39mself\u001b[39;49m\u001b[39m.\u001b[39;49mcdag\u001b[39m.\u001b[39;49mget_local_graph(cluster)\n\u001b[0;32m    347\u001b[0m \u001b[39m# print('LOCAL GRAPH DRAWN BELOW')\u001b[39;00m\n\u001b[0;32m    348\u001b[0m \u001b[39m# local_graph.draw_pydot_graph()\u001b[39;00m\n\u001b[0;32m    349\u001b[0m depth_end \u001b[39m=\u001b[39m time\u001b[39m.\u001b[39mtime()\n",
      "File \u001b[1;32mc:\\Users\\JanMarco\\MLProjects\\Masterthesis\\masterthesis\\clustercausal\\clusterdag\\ClusterDAG.py:259\u001b[0m, in \u001b[0;36mClusterDAG.get_local_graph\u001b[1;34m(self, cluster)\u001b[0m\n\u001b[0;32m    253\u001b[0m local_graph \u001b[39m=\u001b[39m CausalGraph(\n\u001b[0;32m    254\u001b[0m     no_of_var\u001b[39m=\u001b[39m\u001b[39mlen\u001b[39m(relevant_nodes), node_names\u001b[39m=\u001b[39mrelevant_node_names\n\u001b[0;32m    255\u001b[0m )\n\u001b[0;32m    257\u001b[0m \u001b[39m# local_graph = CausalGraph(no_of_var = len(relevant_nodes),\u001b[39;00m\n\u001b[0;32m    258\u001b[0m \u001b[39m#                                               node_names = relevant_node_names)\u001b[39;00m\n\u001b[1;32m--> 259\u001b[0m local_graph\u001b[39m.\u001b[39mG \u001b[39m=\u001b[39m \u001b[39mself\u001b[39;49m\u001b[39m.\u001b[39;49msubgraph(relevant_nodes)\n\u001b[0;32m    260\u001b[0m \u001b[39mreturn\u001b[39;00m local_graph\n",
      "File \u001b[1;32mc:\\Users\\JanMarco\\MLProjects\\Masterthesis\\masterthesis\\clustercausal\\clusterdag\\ClusterDAG.py:286\u001b[0m, in \u001b[0;36mClusterDAG.subgraph\u001b[1;34m(self, nodes)\u001b[0m\n\u001b[0;32m    283\u001b[0m \u001b[39m# Put nodes into self.cg.G.node_map order\u001b[39;00m\n\u001b[0;32m    284\u001b[0m nodes \u001b[39m=\u001b[39m \u001b[39msorted\u001b[39m(nodes, key\u001b[39m=\u001b[39m\u001b[39mlambda\u001b[39;00m node: \u001b[39mself\u001b[39m\u001b[39m.\u001b[39mcg\u001b[39m.\u001b[39mG\u001b[39m.\u001b[39mnode_map[node])\n\u001b[1;32m--> 286\u001b[0m subgraph \u001b[39m=\u001b[39m GeneralGraph(nodes)\n\u001b[0;32m    288\u001b[0m graph \u001b[39m=\u001b[39m \u001b[39mself\u001b[39m\u001b[39m.\u001b[39mcg\u001b[39m.\u001b[39mG\u001b[39m.\u001b[39mgraph\n\u001b[0;32m    290\u001b[0m nodes_to_delete \u001b[39m=\u001b[39m []\n",
      "File \u001b[1;32mc:\\Users\\JanMarco\\MLProjects\\Masterthesis\\masterthesis\\mthesis\\lib\\site-packages\\causallearn\\graph\\GeneralGraph.py:41\u001b[0m, in \u001b[0;36mGeneralGraph.__init__\u001b[1;34m(self, nodes)\u001b[0m\n\u001b[0;32m     38\u001b[0m \u001b[39mself\u001b[39m\u001b[39m.\u001b[39mgraph: ndarray \u001b[39m=\u001b[39m np\u001b[39m.\u001b[39mzeros((\u001b[39mself\u001b[39m\u001b[39m.\u001b[39mnum_vars, \u001b[39mself\u001b[39m\u001b[39m.\u001b[39mnum_vars), np\u001b[39m.\u001b[39mdtype(\u001b[39mint\u001b[39m))\n\u001b[0;32m     39\u001b[0m \u001b[39mself\u001b[39m\u001b[39m.\u001b[39mdpath: ndarray \u001b[39m=\u001b[39m np\u001b[39m.\u001b[39mzeros((\u001b[39mself\u001b[39m\u001b[39m.\u001b[39mnum_vars, \u001b[39mself\u001b[39m\u001b[39m.\u001b[39mnum_vars), np\u001b[39m.\u001b[39mdtype(\u001b[39mint\u001b[39m))\n\u001b[1;32m---> 41\u001b[0m \u001b[39mself\u001b[39;49m\u001b[39m.\u001b[39;49mreconstitute_dpath([])\n\u001b[0;32m     43\u001b[0m \u001b[39mself\u001b[39m\u001b[39m.\u001b[39mambiguous_triples: List[Tuple[Node, Node, Node]] \u001b[39m=\u001b[39m []\n\u001b[0;32m     44\u001b[0m \u001b[39mself\u001b[39m\u001b[39m.\u001b[39munderline_triples: List[Tuple[Node, Node, Node]] \u001b[39m=\u001b[39m []\n",
      "File \u001b[1;32mc:\\Users\\JanMarco\\MLProjects\\Masterthesis\\masterthesis\\mthesis\\lib\\site-packages\\causallearn\\graph\\GeneralGraph.py:67\u001b[0m, in \u001b[0;36mGeneralGraph.reconstitute_dpath\u001b[1;34m(self, edges)\u001b[0m\n\u001b[0;32m     66\u001b[0m \u001b[39mdef\u001b[39;00m \u001b[39mreconstitute_dpath\u001b[39m(\u001b[39mself\u001b[39m, edges: List[Edge]):\n\u001b[1;32m---> 67\u001b[0m     \u001b[39mself\u001b[39m\u001b[39m.\u001b[39mdpath \u001b[39m=\u001b[39m np\u001b[39m.\u001b[39;49mzeros((\u001b[39mself\u001b[39;49m\u001b[39m.\u001b[39;49mnum_vars, \u001b[39mself\u001b[39;49m\u001b[39m.\u001b[39;49mnum_vars), np\u001b[39m.\u001b[39;49mdtype(\u001b[39mint\u001b[39;49m))\n\u001b[0;32m     68\u001b[0m     \u001b[39mfor\u001b[39;00m i \u001b[39min\u001b[39;00m \u001b[39mrange\u001b[39m(\u001b[39mself\u001b[39m\u001b[39m.\u001b[39mnum_vars):\n\u001b[0;32m     69\u001b[0m         \u001b[39mself\u001b[39m\u001b[39m.\u001b[39madjust_dpath(i, i)\n",
      "\u001b[1;31mKeyboardInterrupt\u001b[0m: "
     ]
    }
   ],
   "source": [
    "config_path = 'clustercausal\\experiments\\configs\\cluster_pc_4.yaml'\n",
    "config_path = config_path.replace('\\\\', '/')\n",
    "experiment = ExperimentRunner(config_path)\n",
    "experiment.run_gridsearch_experiment()"
   ]
  },
  {
   "cell_type": "code",
   "execution_count": null,
   "metadata": {},
   "outputs": [],
   "source": []
  }
 ],
 "metadata": {
  "kernelspec": {
   "display_name": "mthesis",
   "language": "python",
   "name": "python3"
  },
  "language_info": {
   "codemirror_mode": {
    "name": "ipython",
    "version": 3
   },
   "file_extension": ".py",
   "mimetype": "text/x-python",
   "name": "python",
   "nbconvert_exporter": "python",
   "pygments_lexer": "ipython3",
   "version": "3.10.0"
  },
  "orig_nbformat": 4
 },
 "nbformat": 4,
 "nbformat_minor": 2
}
