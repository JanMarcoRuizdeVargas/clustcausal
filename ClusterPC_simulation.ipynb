{
 "cells": [
  {
   "cell_type": "markdown",
   "metadata": {},
   "source": [
    "# ClusterPC simulation"
   ]
  },
  {
   "cell_type": "markdown",
   "metadata": {},
   "source": [
    "This notebook runs a small simulation. It evaluates and compares Cluster-PC with the baseline PC algorithm and visualizes the results. "
   ]
  },
  {
   "cell_type": "code",
   "execution_count": 3,
   "metadata": {},
   "outputs": [
    {
     "name": "stdout",
     "output_type": "stream",
     "text": [
      "The autoreload extension is already loaded. To reload it, use:\n",
      "  %reload_ext autoreload\n"
     ]
    }
   ],
   "source": [
    "# Importing dependencies\n",
    "%load_ext autoreload\n",
    "%autoreload 2\n",
    "from clustercausal.experiments.ExperimentRunner import ExperimentRunner\n",
    "import itertools\n",
    "import yaml\n",
    "import os\n",
    "import pickle\n",
    "import pandas as pd\n",
    "from clustercausal.utils.Utils import *\n",
    "from clustercausal.experiments.Utils import load_experiment_folder"
   ]
  },
  {
   "cell_type": "markdown",
   "metadata": {},
   "source": [
    "The cell below executes a simulation according to the specified yaml file. To run several yaml files, it is recommended to modify the run_gridsearch.py file and run the simulation in the terminal with \n",
    "\n",
    ">```python clustercausal\\experiments\\run_gridsearch.py```\n",
    "\n",
    "Depending on the number of experiments, the simulation can take a while. A simulation with 10 node graphs, 900 configurations total takes around 15 minutes on a standard laptop if the graphs aren't too dense (below 50 nodes). A sample yaml of all possible configurations can be found in ```clustercausal\\experiments\\configs\\cluster_pc_all_param_configs.yaml```. It is not recommended to run that file, it is for reference only. \n",
    "\n",
    "To run the experiment, uncomment the code in the cell below. "
   ]
  },
  {
   "cell_type": "code",
   "execution_count": 2,
   "metadata": {},
   "outputs": [
    {
     "name": "stderr",
     "output_type": "stream",
     "text": [
      "2023-11-10 17:11:59,720 - c:\\Users\\JanMarco\\MLProjects\\Masterthesis\\masterthesis\\mthesis\\lib\\site-packages\\castle\\datasets\\simulator.py[line:270] - INFO: Finished synthetic dataset\n"
     ]
    },
    {
     "name": "stdout",
     "output_type": "stream",
     "text": [
      "Number of experiments: 675\n",
      "Warning: n_edges is not exact due to gcastle implementation\n",
      "Duration of algorithm was 0.09sec\n"
     ]
    },
    {
     "name": "stderr",
     "output_type": "stream",
     "text": [
      "Mean of empty slice.\n",
      "invalid value encountered in double_scalars\n",
      "2023-11-10 17:12:00,019 - c:\\Users\\JanMarco\\MLProjects\\Masterthesis\\masterthesis\\mthesis\\lib\\site-packages\\castle\\datasets\\simulator.py[line:270] - INFO: Finished synthetic dataset\n"
     ]
    },
    {
     "name": "stdout",
     "output_type": "stream",
     "text": [
      "Duration of algorithm was 0.09sec\n",
      "Warning: n_edges is not exact due to gcastle implementation\n",
      "Duration of algorithm was 0.13sec\n"
     ]
    },
    {
     "name": "stderr",
     "output_type": "stream",
     "text": [
      "2023-11-10 17:12:00,428 - c:\\Users\\JanMarco\\MLProjects\\Masterthesis\\masterthesis\\mthesis\\lib\\site-packages\\castle\\datasets\\simulator.py[line:270] - INFO: Finished synthetic dataset\n"
     ]
    },
    {
     "name": "stdout",
     "output_type": "stream",
     "text": [
      "Duration of algorithm was 0.12sec\n",
      "Warning: n_edges is not exact due to gcastle implementation\n",
      "Duration of algorithm was 0.22sec\n"
     ]
    },
    {
     "name": "stderr",
     "output_type": "stream",
     "text": [
      "2023-11-10 17:12:01,131 - c:\\Users\\JanMarco\\MLProjects\\Masterthesis\\masterthesis\\mthesis\\lib\\site-packages\\castle\\datasets\\simulator.py[line:270] - INFO: Finished synthetic dataset\n"
     ]
    },
    {
     "name": "stdout",
     "output_type": "stream",
     "text": [
      "Duration of algorithm was 0.22sec\n",
      "Warning: n_edges is not exact due to gcastle implementation\n",
      "Duration of algorithm was 0.09sec\n"
     ]
    },
    {
     "name": "stderr",
     "output_type": "stream",
     "text": [
      "2023-11-10 17:12:01,433 - c:\\Users\\JanMarco\\MLProjects\\Masterthesis\\masterthesis\\mthesis\\lib\\site-packages\\castle\\datasets\\simulator.py[line:270] - INFO: Finished synthetic dataset\n"
     ]
    },
    {
     "name": "stdout",
     "output_type": "stream",
     "text": [
      "Duration of algorithm was 0.09sec\n",
      "Warning: n_edges is not exact due to gcastle implementation\n",
      "Duration of algorithm was 0.20sec\n"
     ]
    },
    {
     "name": "stderr",
     "output_type": "stream",
     "text": [
      "2023-11-10 17:12:02,065 - c:\\Users\\JanMarco\\MLProjects\\Masterthesis\\masterthesis\\mthesis\\lib\\site-packages\\castle\\datasets\\simulator.py[line:270] - INFO: Finished synthetic dataset\n"
     ]
    },
    {
     "name": "stdout",
     "output_type": "stream",
     "text": [
      "Duration of algorithm was 0.20sec\n",
      "Warning: n_edges is not exact due to gcastle implementation\n",
      "Duration of algorithm was 0.42sec\n"
     ]
    },
    {
     "name": "stderr",
     "output_type": "stream",
     "text": [
      "2023-11-10 17:12:03,329 - c:\\Users\\JanMarco\\MLProjects\\Masterthesis\\masterthesis\\mthesis\\lib\\site-packages\\castle\\datasets\\simulator.py[line:270] - INFO: Finished synthetic dataset\n"
     ]
    },
    {
     "name": "stdout",
     "output_type": "stream",
     "text": [
      "Duration of algorithm was 0.39sec\n",
      "Warning: n_edges is not exact due to gcastle implementation\n",
      "Duration of algorithm was 0.23sec\n"
     ]
    },
    {
     "name": "stderr",
     "output_type": "stream",
     "text": [
      "2023-11-10 17:12:04,033 - c:\\Users\\JanMarco\\MLProjects\\Masterthesis\\masterthesis\\mthesis\\lib\\site-packages\\castle\\datasets\\simulator.py[line:270] - INFO: Finished synthetic dataset\n"
     ]
    },
    {
     "name": "stdout",
     "output_type": "stream",
     "text": [
      "Duration of algorithm was 0.23sec\n",
      "Warning: n_edges is not exact due to gcastle implementation\n",
      "Duration of algorithm was 0.20sec\n"
     ]
    },
    {
     "name": "stderr",
     "output_type": "stream",
     "text": [
      "2023-11-10 17:12:04,652 - c:\\Users\\JanMarco\\MLProjects\\Masterthesis\\masterthesis\\mthesis\\lib\\site-packages\\castle\\datasets\\simulator.py[line:270] - INFO: Finished synthetic dataset\n"
     ]
    },
    {
     "name": "stdout",
     "output_type": "stream",
     "text": [
      "Duration of algorithm was 0.19sec\n",
      "Warning: n_edges is not exact due to gcastle implementation\n",
      "Duration of algorithm was 0.20sec\n"
     ]
    },
    {
     "name": "stderr",
     "output_type": "stream",
     "text": [
      "invalid value encountered in double_scalars\n",
      "invalid value encountered in double_scalars\n",
      "2023-11-10 17:12:05,290 - c:\\Users\\JanMarco\\MLProjects\\Masterthesis\\masterthesis\\mthesis\\lib\\site-packages\\castle\\datasets\\simulator.py[line:270] - INFO: Finished synthetic dataset\n"
     ]
    },
    {
     "name": "stdout",
     "output_type": "stream",
     "text": [
      "Duration of algorithm was 0.20sec\n",
      "Warning: n_edges is not exact due to gcastle implementation\n",
      "Duration of algorithm was 0.15sec\n"
     ]
    },
    {
     "name": "stderr",
     "output_type": "stream",
     "text": [
      "2023-11-10 17:12:05,744 - c:\\Users\\JanMarco\\MLProjects\\Masterthesis\\masterthesis\\mthesis\\lib\\site-packages\\castle\\datasets\\simulator.py[line:270] - INFO: Finished synthetic dataset\n"
     ]
    },
    {
     "name": "stdout",
     "output_type": "stream",
     "text": [
      "Duration of algorithm was 0.13sec\n",
      "Warning: n_edges is not exact due to gcastle implementation\n",
      "Duration of algorithm was 0.30sec\n"
     ]
    },
    {
     "name": "stderr",
     "output_type": "stream",
     "text": [
      "2023-11-10 17:12:06,663 - c:\\Users\\JanMarco\\MLProjects\\Masterthesis\\masterthesis\\mthesis\\lib\\site-packages\\castle\\datasets\\simulator.py[line:270] - INFO: Finished synthetic dataset\n"
     ]
    },
    {
     "name": "stdout",
     "output_type": "stream",
     "text": [
      "Duration of algorithm was 0.30sec\n",
      "Warning: n_edges is not exact due to gcastle implementation\n",
      "Duration of algorithm was 0.19sec\n"
     ]
    },
    {
     "name": "stderr",
     "output_type": "stream",
     "text": [
      "2023-11-10 17:12:07,273 - c:\\Users\\JanMarco\\MLProjects\\Masterthesis\\masterthesis\\mthesis\\lib\\site-packages\\castle\\datasets\\simulator.py[line:270] - INFO: Finished synthetic dataset\n"
     ]
    },
    {
     "name": "stdout",
     "output_type": "stream",
     "text": [
      "Duration of algorithm was 0.19sec\n",
      "Warning: n_edges is not exact due to gcastle implementation\n",
      "Duration of algorithm was 0.41sec\n"
     ]
    },
    {
     "name": "stderr",
     "output_type": "stream",
     "text": [
      "2023-11-10 17:12:08,501 - c:\\Users\\JanMarco\\MLProjects\\Masterthesis\\masterthesis\\mthesis\\lib\\site-packages\\castle\\datasets\\simulator.py[line:270] - INFO: Finished synthetic dataset\n"
     ]
    },
    {
     "name": "stdout",
     "output_type": "stream",
     "text": [
      "Duration of algorithm was 0.40sec\n",
      "Warning: n_edges is not exact due to gcastle implementation\n",
      "Duration of algorithm was 0.46sec\n"
     ]
    },
    {
     "name": "stderr",
     "output_type": "stream",
     "text": [
      "2023-11-10 17:12:09,796 - c:\\Users\\JanMarco\\MLProjects\\Masterthesis\\masterthesis\\mthesis\\lib\\site-packages\\castle\\datasets\\simulator.py[line:270] - INFO: Finished synthetic dataset\n"
     ]
    },
    {
     "name": "stdout",
     "output_type": "stream",
     "text": [
      "Duration of algorithm was 0.41sec\n",
      "Warning: n_edges is not exact due to gcastle implementation\n",
      "Duration of algorithm was 0.44sec\n"
     ]
    },
    {
     "name": "stderr",
     "output_type": "stream",
     "text": [
      "2023-11-10 17:12:11,142 - c:\\Users\\JanMarco\\MLProjects\\Masterthesis\\masterthesis\\mthesis\\lib\\site-packages\\castle\\datasets\\simulator.py[line:270] - INFO: Finished synthetic dataset\n"
     ]
    },
    {
     "name": "stdout",
     "output_type": "stream",
     "text": [
      "Duration of algorithm was 0.44sec\n",
      "Warning: n_edges is not exact due to gcastle implementation\n",
      "Duration of algorithm was 0.10sec\n"
     ]
    },
    {
     "name": "stderr",
     "output_type": "stream",
     "text": [
      "2023-11-10 17:12:11,486 - c:\\Users\\JanMarco\\MLProjects\\Masterthesis\\masterthesis\\mthesis\\lib\\site-packages\\castle\\datasets\\simulator.py[line:270] - INFO: Finished synthetic dataset\n"
     ]
    },
    {
     "name": "stdout",
     "output_type": "stream",
     "text": [
      "Duration of algorithm was 0.11sec\n",
      "Warning: n_edges is not exact due to gcastle implementation\n",
      "Duration of algorithm was 0.06sec\n"
     ]
    },
    {
     "name": "stderr",
     "output_type": "stream",
     "text": [
      "2023-11-10 17:12:11,712 - c:\\Users\\JanMarco\\MLProjects\\Masterthesis\\masterthesis\\mthesis\\lib\\site-packages\\castle\\datasets\\simulator.py[line:270] - INFO: Finished synthetic dataset\n"
     ]
    },
    {
     "name": "stdout",
     "output_type": "stream",
     "text": [
      "Duration of algorithm was 0.07sec\n",
      "Warning: n_edges is not exact due to gcastle implementation\n",
      "Duration of algorithm was 0.07sec\n"
     ]
    },
    {
     "name": "stderr",
     "output_type": "stream",
     "text": [
      "2023-11-10 17:12:11,957 - c:\\Users\\JanMarco\\MLProjects\\Masterthesis\\masterthesis\\mthesis\\lib\\site-packages\\castle\\datasets\\simulator.py[line:270] - INFO: Finished synthetic dataset\n"
     ]
    },
    {
     "name": "stdout",
     "output_type": "stream",
     "text": [
      "Duration of algorithm was 0.08sec\n",
      "Warning: n_edges is not exact due to gcastle implementation\n",
      "Duration of algorithm was 0.17sec\n"
     ]
    },
    {
     "name": "stderr",
     "output_type": "stream",
     "text": [
      "2023-11-10 17:12:12,504 - c:\\Users\\JanMarco\\MLProjects\\Masterthesis\\masterthesis\\mthesis\\lib\\site-packages\\castle\\datasets\\simulator.py[line:270] - INFO: Finished synthetic dataset\n"
     ]
    },
    {
     "name": "stdout",
     "output_type": "stream",
     "text": [
      "Duration of algorithm was 0.17sec\n",
      "Warning: n_edges is not exact due to gcastle implementation\n",
      "Duration of algorithm was 0.08sec\n"
     ]
    },
    {
     "name": "stderr",
     "output_type": "stream",
     "text": [
      "2023-11-10 17:12:12,781 - c:\\Users\\JanMarco\\MLProjects\\Masterthesis\\masterthesis\\mthesis\\lib\\site-packages\\castle\\datasets\\simulator.py[line:270] - INFO: Finished synthetic dataset\n"
     ]
    },
    {
     "name": "stdout",
     "output_type": "stream",
     "text": [
      "Duration of algorithm was 0.08sec\n",
      "Warning: n_edges is not exact due to gcastle implementation\n",
      "Duration of algorithm was 0.09sec\n"
     ]
    },
    {
     "name": "stderr",
     "output_type": "stream",
     "text": [
      "2023-11-10 17:12:13,111 - c:\\Users\\JanMarco\\MLProjects\\Masterthesis\\masterthesis\\mthesis\\lib\\site-packages\\castle\\datasets\\simulator.py[line:270] - INFO: Finished synthetic dataset\n"
     ]
    },
    {
     "name": "stdout",
     "output_type": "stream",
     "text": [
      "Duration of algorithm was 0.11sec\n",
      "Warning: n_edges is not exact due to gcastle implementation\n",
      "Duration of algorithm was 0.11sec\n"
     ]
    },
    {
     "name": "stderr",
     "output_type": "stream",
     "text": [
      "2023-11-10 17:12:13,459 - c:\\Users\\JanMarco\\MLProjects\\Masterthesis\\masterthesis\\mthesis\\lib\\site-packages\\castle\\datasets\\simulator.py[line:270] - INFO: Finished synthetic dataset\n"
     ]
    },
    {
     "name": "stdout",
     "output_type": "stream",
     "text": [
      "Duration of algorithm was 0.11sec\n",
      "Warning: n_edges is not exact due to gcastle implementation\n",
      "Duration of algorithm was 0.16sec\n"
     ]
    },
    {
     "name": "stderr",
     "output_type": "stream",
     "text": [
      "2023-11-10 17:12:14,014 - c:\\Users\\JanMarco\\MLProjects\\Masterthesis\\masterthesis\\mthesis\\lib\\site-packages\\castle\\datasets\\simulator.py[line:270] - INFO: Finished synthetic dataset\n"
     ]
    },
    {
     "name": "stdout",
     "output_type": "stream",
     "text": [
      "Duration of algorithm was 0.18sec\n",
      "Warning: n_edges is not exact due to gcastle implementation\n",
      "Duration of algorithm was 0.11sec\n"
     ]
    },
    {
     "name": "stderr",
     "output_type": "stream",
     "text": [
      "2023-11-10 17:12:14,379 - c:\\Users\\JanMarco\\MLProjects\\Masterthesis\\masterthesis\\mthesis\\lib\\site-packages\\castle\\datasets\\simulator.py[line:270] - INFO: Finished synthetic dataset\n"
     ]
    },
    {
     "name": "stdout",
     "output_type": "stream",
     "text": [
      "Duration of algorithm was 0.11sec\n",
      "Warning: n_edges is not exact due to gcastle implementation\n",
      "Duration of algorithm was 0.11sec\n"
     ]
    },
    {
     "name": "stderr",
     "output_type": "stream",
     "text": [
      "2023-11-10 17:12:14,774 - c:\\Users\\JanMarco\\MLProjects\\Masterthesis\\masterthesis\\mthesis\\lib\\site-packages\\castle\\datasets\\simulator.py[line:270] - INFO: Finished synthetic dataset\n"
     ]
    },
    {
     "name": "stdout",
     "output_type": "stream",
     "text": [
      "Duration of algorithm was 0.13sec\n",
      "Warning: n_edges is not exact due to gcastle implementation\n",
      "Duration of algorithm was 0.16sec\n"
     ]
    },
    {
     "name": "stderr",
     "output_type": "stream",
     "text": [
      "2023-11-10 17:12:15,382 - c:\\Users\\JanMarco\\MLProjects\\Masterthesis\\masterthesis\\mthesis\\lib\\site-packages\\castle\\datasets\\simulator.py[line:270] - INFO: Finished synthetic dataset\n"
     ]
    },
    {
     "name": "stdout",
     "output_type": "stream",
     "text": [
      "Duration of algorithm was 0.23sec\n",
      "Warning: n_edges is not exact due to gcastle implementation\n",
      "Duration of algorithm was 0.21sec\n"
     ]
    },
    {
     "name": "stderr",
     "output_type": "stream",
     "text": [
      "2023-11-10 17:12:16,090 - c:\\Users\\JanMarco\\MLProjects\\Masterthesis\\masterthesis\\mthesis\\lib\\site-packages\\castle\\datasets\\simulator.py[line:270] - INFO: Finished synthetic dataset\n"
     ]
    },
    {
     "name": "stdout",
     "output_type": "stream",
     "text": [
      "Duration of algorithm was 0.23sec\n",
      "Warning: n_edges is not exact due to gcastle implementation\n",
      "Duration of algorithm was 0.28sec\n"
     ]
    },
    {
     "name": "stderr",
     "output_type": "stream",
     "text": [
      "2023-11-10 17:12:17,025 - c:\\Users\\JanMarco\\MLProjects\\Masterthesis\\masterthesis\\mthesis\\lib\\site-packages\\castle\\datasets\\simulator.py[line:270] - INFO: Finished synthetic dataset\n"
     ]
    },
    {
     "name": "stdout",
     "output_type": "stream",
     "text": [
      "Duration of algorithm was 0.31sec\n",
      "Warning: n_edges is not exact due to gcastle implementation\n",
      "Duration of algorithm was 0.33sec\n"
     ]
    },
    {
     "name": "stderr",
     "output_type": "stream",
     "text": [
      "2023-11-10 17:12:18,179 - c:\\Users\\JanMarco\\MLProjects\\Masterthesis\\masterthesis\\mthesis\\lib\\site-packages\\castle\\datasets\\simulator.py[line:270] - INFO: Finished synthetic dataset\n"
     ]
    },
    {
     "name": "stdout",
     "output_type": "stream",
     "text": [
      "Duration of algorithm was 0.40sec\n",
      "Warning: n_edges is not exact due to gcastle implementation\n",
      "Duration of algorithm was 0.45sec\n"
     ]
    },
    {
     "name": "stderr",
     "output_type": "stream",
     "text": [
      "2023-11-10 17:12:19,604 - c:\\Users\\JanMarco\\MLProjects\\Masterthesis\\masterthesis\\mthesis\\lib\\site-packages\\castle\\datasets\\simulator.py[line:270] - INFO: Finished synthetic dataset\n"
     ]
    },
    {
     "name": "stdout",
     "output_type": "stream",
     "text": [
      "Duration of algorithm was 0.47sec\n",
      "Warning: n_edges is not exact due to gcastle implementation\n",
      "Duration of algorithm was 0.09sec\n"
     ]
    },
    {
     "name": "stderr",
     "output_type": "stream",
     "text": [
      "2023-11-10 17:12:19,887 - c:\\Users\\JanMarco\\MLProjects\\Masterthesis\\masterthesis\\mthesis\\lib\\site-packages\\castle\\datasets\\simulator.py[line:270] - INFO: Finished synthetic dataset\n"
     ]
    },
    {
     "name": "stdout",
     "output_type": "stream",
     "text": [
      "Duration of algorithm was 0.08sec\n",
      "Warning: n_edges is not exact due to gcastle implementation\n",
      "Duration of algorithm was 0.11sec\n"
     ]
    },
    {
     "name": "stderr",
     "output_type": "stream",
     "text": [
      "2023-11-10 17:12:20,281 - c:\\Users\\JanMarco\\MLProjects\\Masterthesis\\masterthesis\\mthesis\\lib\\site-packages\\castle\\datasets\\simulator.py[line:270] - INFO: Finished synthetic dataset\n"
     ]
    },
    {
     "name": "stdout",
     "output_type": "stream",
     "text": [
      "Duration of algorithm was 0.12sec\n",
      "Warning: n_edges is not exact due to gcastle implementation\n",
      "Duration of algorithm was 0.22sec\n"
     ]
    },
    {
     "name": "stderr",
     "output_type": "stream",
     "text": [
      "2023-11-10 17:12:20,996 - c:\\Users\\JanMarco\\MLProjects\\Masterthesis\\masterthesis\\mthesis\\lib\\site-packages\\castle\\datasets\\simulator.py[line:270] - INFO: Finished synthetic dataset\n"
     ]
    },
    {
     "name": "stdout",
     "output_type": "stream",
     "text": [
      "Duration of algorithm was 0.23sec\n",
      "Warning: n_edges is not exact due to gcastle implementation\n",
      "Duration of algorithm was 0.25sec\n"
     ]
    },
    {
     "name": "stderr",
     "output_type": "stream",
     "text": [
      "2023-11-10 17:12:21,787 - c:\\Users\\JanMarco\\MLProjects\\Masterthesis\\masterthesis\\mthesis\\lib\\site-packages\\castle\\datasets\\simulator.py[line:270] - INFO: Finished synthetic dataset\n"
     ]
    },
    {
     "name": "stdout",
     "output_type": "stream",
     "text": [
      "Duration of algorithm was 0.26sec\n",
      "Warning: n_edges is not exact due to gcastle implementation\n",
      "Duration of algorithm was 0.07sec\n"
     ]
    },
    {
     "name": "stderr",
     "output_type": "stream",
     "text": [
      "2023-11-10 17:12:22,034 - c:\\Users\\JanMarco\\MLProjects\\Masterthesis\\masterthesis\\mthesis\\lib\\site-packages\\castle\\datasets\\simulator.py[line:270] - INFO: Finished synthetic dataset\n"
     ]
    },
    {
     "name": "stdout",
     "output_type": "stream",
     "text": [
      "Duration of algorithm was 0.07sec\n",
      "Warning: n_edges is not exact due to gcastle implementation\n",
      "Duration of algorithm was 0.09sec\n"
     ]
    },
    {
     "name": "stderr",
     "output_type": "stream",
     "text": [
      "2023-11-10 17:12:22,379 - c:\\Users\\JanMarco\\MLProjects\\Masterthesis\\masterthesis\\mthesis\\lib\\site-packages\\castle\\datasets\\simulator.py[line:270] - INFO: Finished synthetic dataset\n"
     ]
    },
    {
     "name": "stdout",
     "output_type": "stream",
     "text": [
      "Duration of algorithm was 0.12sec\n",
      "Warning: n_edges is not exact due to gcastle implementation\n",
      "Duration of algorithm was 0.22sec\n"
     ]
    },
    {
     "name": "stderr",
     "output_type": "stream",
     "text": [
      "2023-11-10 17:12:23,134 - c:\\Users\\JanMarco\\MLProjects\\Masterthesis\\masterthesis\\mthesis\\lib\\site-packages\\castle\\datasets\\simulator.py[line:270] - INFO: Finished synthetic dataset\n"
     ]
    },
    {
     "name": "stdout",
     "output_type": "stream",
     "text": [
      "Duration of algorithm was 0.25sec\n",
      "Warning: n_edges is not exact due to gcastle implementation\n",
      "Duration of algorithm was 0.19sec\n"
     ]
    },
    {
     "name": "stderr",
     "output_type": "stream",
     "text": [
      "2023-11-10 17:12:23,706 - c:\\Users\\JanMarco\\MLProjects\\Masterthesis\\masterthesis\\mthesis\\lib\\site-packages\\castle\\datasets\\simulator.py[line:270] - INFO: Finished synthetic dataset\n"
     ]
    },
    {
     "name": "stdout",
     "output_type": "stream",
     "text": [
      "Duration of algorithm was 0.18sec\n",
      "Warning: n_edges is not exact due to gcastle implementation\n",
      "Duration of algorithm was 0.20sec\n"
     ]
    },
    {
     "name": "stderr",
     "output_type": "stream",
     "text": [
      "2023-11-10 17:12:24,428 - c:\\Users\\JanMarco\\MLProjects\\Masterthesis\\masterthesis\\mthesis\\lib\\site-packages\\castle\\datasets\\simulator.py[line:270] - INFO: Finished synthetic dataset\n"
     ]
    },
    {
     "name": "stdout",
     "output_type": "stream",
     "text": [
      "Duration of algorithm was 0.24sec\n",
      "Warning: n_edges is not exact due to gcastle implementation\n",
      "Duration of algorithm was 0.16sec\n"
     ]
    },
    {
     "name": "stderr",
     "output_type": "stream",
     "text": [
      "2023-11-10 17:12:24,975 - c:\\Users\\JanMarco\\MLProjects\\Masterthesis\\masterthesis\\mthesis\\lib\\site-packages\\castle\\datasets\\simulator.py[line:270] - INFO: Finished synthetic dataset\n"
     ]
    },
    {
     "name": "stdout",
     "output_type": "stream",
     "text": [
      "Duration of algorithm was 0.18sec\n",
      "Warning: n_edges is not exact due to gcastle implementation\n",
      "Duration of algorithm was 0.13sec\n"
     ]
    },
    {
     "name": "stderr",
     "output_type": "stream",
     "text": [
      "2023-11-10 17:12:25,464 - c:\\Users\\JanMarco\\MLProjects\\Masterthesis\\masterthesis\\mthesis\\lib\\site-packages\\castle\\datasets\\simulator.py[line:270] - INFO: Finished synthetic dataset\n"
     ]
    },
    {
     "name": "stdout",
     "output_type": "stream",
     "text": [
      "Duration of algorithm was 0.16sec\n",
      "Warning: n_edges is not exact due to gcastle implementation\n",
      "Duration of algorithm was 0.20sec\n"
     ]
    },
    {
     "name": "stderr",
     "output_type": "stream",
     "text": [
      "2023-11-10 17:12:26,050 - c:\\Users\\JanMarco\\MLProjects\\Masterthesis\\masterthesis\\mthesis\\lib\\site-packages\\castle\\datasets\\simulator.py[line:270] - INFO: Finished synthetic dataset\n"
     ]
    },
    {
     "name": "stdout",
     "output_type": "stream",
     "text": [
      "Duration of algorithm was 0.18sec\n",
      "Warning: n_edges is not exact due to gcastle implementation\n",
      "Duration of algorithm was 0.39sec\n"
     ]
    },
    {
     "name": "stderr",
     "output_type": "stream",
     "text": [
      "2023-11-10 17:12:27,569 - c:\\Users\\JanMarco\\MLProjects\\Masterthesis\\masterthesis\\mthesis\\lib\\site-packages\\castle\\datasets\\simulator.py[line:270] - INFO: Finished synthetic dataset\n"
     ]
    },
    {
     "name": "stdout",
     "output_type": "stream",
     "text": [
      "Duration of algorithm was 0.54sec\n",
      "Warning: n_edges is not exact due to gcastle implementation\n",
      "Duration of algorithm was 0.34sec\n"
     ]
    },
    {
     "name": "stderr",
     "output_type": "stream",
     "text": [
      "2023-11-10 17:12:28,936 - c:\\Users\\JanMarco\\MLProjects\\Masterthesis\\masterthesis\\mthesis\\lib\\site-packages\\castle\\datasets\\simulator.py[line:270] - INFO: Finished synthetic dataset\n"
     ]
    },
    {
     "name": "stdout",
     "output_type": "stream",
     "text": [
      "Duration of algorithm was 0.49sec\n",
      "Warning: n_edges is not exact due to gcastle implementation\n",
      "Duration of algorithm was 0.32sec\n"
     ]
    },
    {
     "name": "stderr",
     "output_type": "stream",
     "text": [
      "2023-11-10 17:12:30,276 - c:\\Users\\JanMarco\\MLProjects\\Masterthesis\\masterthesis\\mthesis\\lib\\site-packages\\castle\\datasets\\simulator.py[line:270] - INFO: Finished synthetic dataset\n"
     ]
    },
    {
     "name": "stdout",
     "output_type": "stream",
     "text": [
      "Duration of algorithm was 0.49sec\n",
      "Warning: n_edges is not exact due to gcastle implementation\n",
      "Duration of algorithm was 0.06sec\n"
     ]
    },
    {
     "name": "stderr",
     "output_type": "stream",
     "text": [
      "2023-11-10 17:12:30,515 - c:\\Users\\JanMarco\\MLProjects\\Masterthesis\\masterthesis\\mthesis\\lib\\site-packages\\castle\\datasets\\simulator.py[line:270] - INFO: Finished synthetic dataset\n"
     ]
    },
    {
     "name": "stdout",
     "output_type": "stream",
     "text": [
      "Duration of algorithm was 0.07sec\n",
      "Warning: n_edges is not exact due to gcastle implementation\n",
      "Duration of algorithm was 0.17sec\n"
     ]
    },
    {
     "name": "stderr",
     "output_type": "stream",
     "text": [
      "2023-11-10 17:12:31,091 - c:\\Users\\JanMarco\\MLProjects\\Masterthesis\\masterthesis\\mthesis\\lib\\site-packages\\castle\\datasets\\simulator.py[line:270] - INFO: Finished synthetic dataset\n"
     ]
    },
    {
     "name": "stdout",
     "output_type": "stream",
     "text": [
      "Duration of algorithm was 0.18sec\n",
      "Warning: n_edges is not exact due to gcastle implementation\n",
      "Duration of algorithm was 0.08sec\n"
     ]
    },
    {
     "name": "stderr",
     "output_type": "stream",
     "text": [
      "2023-11-10 17:12:31,398 - c:\\Users\\JanMarco\\MLProjects\\Masterthesis\\masterthesis\\mthesis\\lib\\site-packages\\castle\\datasets\\simulator.py[line:270] - INFO: Finished synthetic dataset\n"
     ]
    },
    {
     "name": "stdout",
     "output_type": "stream",
     "text": [
      "Duration of algorithm was 0.10sec\n",
      "Warning: n_edges is not exact due to gcastle implementation\n",
      "Duration of algorithm was 0.21sec\n"
     ]
    },
    {
     "name": "stderr",
     "output_type": "stream",
     "text": [
      "2023-11-10 17:12:31,971 - c:\\Users\\JanMarco\\MLProjects\\Masterthesis\\masterthesis\\mthesis\\lib\\site-packages\\castle\\datasets\\simulator.py[line:270] - INFO: Finished synthetic dataset\n"
     ]
    },
    {
     "name": "stdout",
     "output_type": "stream",
     "text": [
      "Duration of algorithm was 0.16sec\n",
      "Warning: n_edges is not exact due to gcastle implementation\n",
      "Duration of algorithm was 0.24sec\n"
     ]
    },
    {
     "name": "stderr",
     "output_type": "stream",
     "text": [
      "2023-11-10 17:12:32,762 - c:\\Users\\JanMarco\\MLProjects\\Masterthesis\\masterthesis\\mthesis\\lib\\site-packages\\castle\\datasets\\simulator.py[line:270] - INFO: Finished synthetic dataset\n"
     ]
    },
    {
     "name": "stdout",
     "output_type": "stream",
     "text": [
      "Duration of algorithm was 0.26sec\n",
      "Warning: n_edges is not exact due to gcastle implementation\n",
      "Duration of algorithm was 0.22sec\n"
     ]
    },
    {
     "name": "stderr",
     "output_type": "stream",
     "text": [
      "2023-11-10 17:12:33,632 - c:\\Users\\JanMarco\\MLProjects\\Masterthesis\\masterthesis\\mthesis\\lib\\site-packages\\castle\\datasets\\simulator.py[line:270] - INFO: Finished synthetic dataset\n"
     ]
    },
    {
     "name": "stdout",
     "output_type": "stream",
     "text": [
      "Duration of algorithm was 0.31sec\n",
      "Warning: n_edges is not exact due to gcastle implementation\n",
      "Duration of algorithm was 0.26sec\n"
     ]
    },
    {
     "name": "stderr",
     "output_type": "stream",
     "text": [
      "2023-11-10 17:12:34,486 - c:\\Users\\JanMarco\\MLProjects\\Masterthesis\\masterthesis\\mthesis\\lib\\site-packages\\castle\\datasets\\simulator.py[line:270] - INFO: Finished synthetic dataset\n"
     ]
    },
    {
     "name": "stdout",
     "output_type": "stream",
     "text": [
      "Duration of algorithm was 0.27sec\n",
      "Warning: n_edges is not exact due to gcastle implementation\n",
      "Duration of algorithm was 0.28sec\n"
     ]
    },
    {
     "name": "stderr",
     "output_type": "stream",
     "text": [
      "2023-11-10 17:12:35,497 - c:\\Users\\JanMarco\\MLProjects\\Masterthesis\\masterthesis\\mthesis\\lib\\site-packages\\castle\\datasets\\simulator.py[line:270] - INFO: Finished synthetic dataset\n"
     ]
    },
    {
     "name": "stdout",
     "output_type": "stream",
     "text": [
      "Duration of algorithm was 0.34sec\n",
      "Warning: n_edges is not exact due to gcastle implementation\n",
      "Duration of algorithm was 0.12sec\n"
     ]
    },
    {
     "name": "stderr",
     "output_type": "stream",
     "text": [
      "2023-11-10 17:12:35,965 - c:\\Users\\JanMarco\\MLProjects\\Masterthesis\\masterthesis\\mthesis\\lib\\site-packages\\castle\\datasets\\simulator.py[line:270] - INFO: Finished synthetic dataset\n"
     ]
    },
    {
     "name": "stdout",
     "output_type": "stream",
     "text": [
      "Duration of algorithm was 0.16sec\n",
      "Warning: n_edges is not exact due to gcastle implementation\n",
      "Duration of algorithm was 0.14sec\n"
     ]
    },
    {
     "name": "stderr",
     "output_type": "stream",
     "text": [
      "2023-11-10 17:12:36,474 - c:\\Users\\JanMarco\\MLProjects\\Masterthesis\\masterthesis\\mthesis\\lib\\site-packages\\castle\\datasets\\simulator.py[line:270] - INFO: Finished synthetic dataset\n"
     ]
    },
    {
     "name": "stdout",
     "output_type": "stream",
     "text": [
      "Duration of algorithm was 0.16sec\n",
      "Warning: n_edges is not exact due to gcastle implementation\n",
      "Duration of algorithm was 0.19sec\n"
     ]
    },
    {
     "name": "stderr",
     "output_type": "stream",
     "text": [
      "2023-11-10 17:12:37,255 - c:\\Users\\JanMarco\\MLProjects\\Masterthesis\\masterthesis\\mthesis\\lib\\site-packages\\castle\\datasets\\simulator.py[line:270] - INFO: Finished synthetic dataset\n"
     ]
    },
    {
     "name": "stdout",
     "output_type": "stream",
     "text": [
      "Duration of algorithm was 0.28sec\n",
      "Warning: n_edges is not exact due to gcastle implementation\n",
      "Duration of algorithm was 0.14sec\n"
     ]
    },
    {
     "name": "stderr",
     "output_type": "stream",
     "text": [
      "2023-11-10 17:12:37,811 - c:\\Users\\JanMarco\\MLProjects\\Masterthesis\\masterthesis\\mthesis\\lib\\site-packages\\castle\\datasets\\simulator.py[line:270] - INFO: Finished synthetic dataset\n"
     ]
    },
    {
     "name": "stdout",
     "output_type": "stream",
     "text": [
      "Duration of algorithm was 0.19sec\n",
      "Warning: n_edges is not exact due to gcastle implementation\n",
      "Duration of algorithm was 0.43sec\n"
     ]
    },
    {
     "name": "stderr",
     "output_type": "stream",
     "text": [
      "2023-11-10 17:12:39,362 - c:\\Users\\JanMarco\\MLProjects\\Masterthesis\\masterthesis\\mthesis\\lib\\site-packages\\castle\\datasets\\simulator.py[line:270] - INFO: Finished synthetic dataset\n"
     ]
    },
    {
     "name": "stdout",
     "output_type": "stream",
     "text": [
      "Duration of algorithm was 0.54sec\n",
      "Warning: n_edges is not exact due to gcastle implementation\n",
      "Duration of algorithm was 0.25sec\n"
     ]
    },
    {
     "name": "stderr",
     "output_type": "stream",
     "text": [
      "2023-11-10 17:12:40,300 - c:\\Users\\JanMarco\\MLProjects\\Masterthesis\\masterthesis\\mthesis\\lib\\site-packages\\castle\\datasets\\simulator.py[line:270] - INFO: Finished synthetic dataset\n"
     ]
    },
    {
     "name": "stdout",
     "output_type": "stream",
     "text": [
      "Duration of algorithm was 0.29sec\n",
      "Warning: n_edges is not exact due to gcastle implementation\n",
      "Duration of algorithm was 0.31sec\n"
     ]
    },
    {
     "name": "stderr",
     "output_type": "stream",
     "text": [
      "2023-11-10 17:12:41,600 - c:\\Users\\JanMarco\\MLProjects\\Masterthesis\\masterthesis\\mthesis\\lib\\site-packages\\castle\\datasets\\simulator.py[line:270] - INFO: Finished synthetic dataset\n"
     ]
    },
    {
     "name": "stdout",
     "output_type": "stream",
     "text": [
      "Duration of algorithm was 0.47sec\n",
      "Warning: n_edges is not exact due to gcastle implementation\n",
      "Duration of algorithm was 0.12sec\n"
     ]
    },
    {
     "name": "stderr",
     "output_type": "stream",
     "text": [
      "2023-11-10 17:12:42,015 - c:\\Users\\JanMarco\\MLProjects\\Masterthesis\\masterthesis\\mthesis\\lib\\site-packages\\castle\\datasets\\simulator.py[line:270] - INFO: Finished synthetic dataset\n"
     ]
    },
    {
     "name": "stdout",
     "output_type": "stream",
     "text": [
      "Duration of algorithm was 0.13sec\n",
      "Warning: n_edges is not exact due to gcastle implementation\n",
      "Duration of algorithm was 0.06sec\n",
      "Duration of algorithm was 0.06sec\n"
     ]
    },
    {
     "name": "stderr",
     "output_type": "stream",
     "text": [
      "2023-11-10 17:12:42,224 - c:\\Users\\JanMarco\\MLProjects\\Masterthesis\\masterthesis\\mthesis\\lib\\site-packages\\castle\\datasets\\simulator.py[line:270] - INFO: Finished synthetic dataset\n"
     ]
    },
    {
     "name": "stdout",
     "output_type": "stream",
     "text": [
      "Warning: n_edges is not exact due to gcastle implementation\n",
      "Duration of algorithm was 0.11sec\n"
     ]
    },
    {
     "name": "stderr",
     "output_type": "stream",
     "text": [
      "2023-11-10 17:12:42,651 - c:\\Users\\JanMarco\\MLProjects\\Masterthesis\\masterthesis\\mthesis\\lib\\site-packages\\castle\\datasets\\simulator.py[line:270] - INFO: Finished synthetic dataset\n"
     ]
    },
    {
     "name": "stdout",
     "output_type": "stream",
     "text": [
      "Duration of algorithm was 0.14sec\n",
      "Warning: n_edges is not exact due to gcastle implementation\n",
      "Duration of algorithm was 0.21sec\n"
     ]
    },
    {
     "name": "stderr",
     "output_type": "stream",
     "text": [
      "2023-11-10 17:12:43,424 - c:\\Users\\JanMarco\\MLProjects\\Masterthesis\\masterthesis\\mthesis\\lib\\site-packages\\castle\\datasets\\simulator.py[line:270] - INFO: Finished synthetic dataset\n"
     ]
    },
    {
     "name": "stdout",
     "output_type": "stream",
     "text": [
      "Duration of algorithm was 0.28sec\n",
      "Warning: n_edges is not exact due to gcastle implementation\n",
      "Duration of algorithm was 0.09sec\n"
     ]
    },
    {
     "name": "stderr",
     "output_type": "stream",
     "text": [
      "2023-11-10 17:12:43,851 - c:\\Users\\JanMarco\\MLProjects\\Masterthesis\\masterthesis\\mthesis\\lib\\site-packages\\castle\\datasets\\simulator.py[line:270] - INFO: Finished synthetic dataset\n"
     ]
    },
    {
     "name": "stdout",
     "output_type": "stream",
     "text": [
      "Duration of algorithm was 0.15sec\n",
      "Warning: n_edges is not exact due to gcastle implementation\n",
      "Duration of algorithm was 0.05sec\n"
     ]
    },
    {
     "name": "stderr",
     "output_type": "stream",
     "text": [
      "2023-11-10 17:12:44,089 - c:\\Users\\JanMarco\\MLProjects\\Masterthesis\\masterthesis\\mthesis\\lib\\site-packages\\castle\\datasets\\simulator.py[line:270] - INFO: Finished synthetic dataset\n"
     ]
    },
    {
     "name": "stdout",
     "output_type": "stream",
     "text": [
      "Duration of algorithm was 0.08sec\n",
      "Warning: n_edges is not exact due to gcastle implementation\n",
      "Duration of algorithm was 0.06sec\n"
     ]
    },
    {
     "name": "stderr",
     "output_type": "stream",
     "text": [
      "2023-11-10 17:12:44,311 - c:\\Users\\JanMarco\\MLProjects\\Masterthesis\\masterthesis\\mthesis\\lib\\site-packages\\castle\\datasets\\simulator.py[line:270] - INFO: Finished synthetic dataset\n"
     ]
    },
    {
     "name": "stdout",
     "output_type": "stream",
     "text": [
      "Duration of algorithm was 0.07sec\n",
      "Warning: n_edges is not exact due to gcastle implementation\n",
      "Duration of algorithm was 0.10sec\n"
     ]
    },
    {
     "name": "stderr",
     "output_type": "stream",
     "text": [
      "2023-11-10 17:12:44,779 - c:\\Users\\JanMarco\\MLProjects\\Masterthesis\\masterthesis\\mthesis\\lib\\site-packages\\castle\\datasets\\simulator.py[line:270] - INFO: Finished synthetic dataset\n"
     ]
    },
    {
     "name": "stdout",
     "output_type": "stream",
     "text": [
      "Duration of algorithm was 0.16sec\n",
      "Warning: n_edges is not exact due to gcastle implementation\n",
      "Duration of algorithm was 0.14sec\n"
     ]
    },
    {
     "name": "stderr",
     "output_type": "stream",
     "text": [
      "2023-11-10 17:12:45,318 - c:\\Users\\JanMarco\\MLProjects\\Masterthesis\\masterthesis\\mthesis\\lib\\site-packages\\castle\\datasets\\simulator.py[line:270] - INFO: Finished synthetic dataset\n"
     ]
    },
    {
     "name": "stdout",
     "output_type": "stream",
     "text": [
      "Duration of algorithm was 0.18sec\n",
      "Warning: n_edges is not exact due to gcastle implementation\n",
      "Duration of algorithm was 0.09sec\n"
     ]
    },
    {
     "name": "stderr",
     "output_type": "stream",
     "text": [
      "2023-11-10 17:12:45,690 - c:\\Users\\JanMarco\\MLProjects\\Masterthesis\\masterthesis\\mthesis\\lib\\site-packages\\castle\\datasets\\simulator.py[line:270] - INFO: Finished synthetic dataset\n"
     ]
    },
    {
     "name": "stdout",
     "output_type": "stream",
     "text": [
      "Duration of algorithm was 0.13sec\n",
      "Warning: n_edges is not exact due to gcastle implementation\n",
      "Duration of algorithm was 0.11sec\n"
     ]
    },
    {
     "name": "stderr",
     "output_type": "stream",
     "text": [
      "2023-11-10 17:12:46,317 - c:\\Users\\JanMarco\\MLProjects\\Masterthesis\\masterthesis\\mthesis\\lib\\site-packages\\castle\\datasets\\simulator.py[line:270] - INFO: Finished synthetic dataset\n"
     ]
    },
    {
     "name": "stdout",
     "output_type": "stream",
     "text": [
      "Duration of algorithm was 0.21sec\n",
      "Warning: n_edges is not exact due to gcastle implementation\n",
      "Duration of algorithm was 0.17sec\n"
     ]
    },
    {
     "name": "stderr",
     "output_type": "stream",
     "text": [
      "2023-11-10 17:12:46,912 - c:\\Users\\JanMarco\\MLProjects\\Masterthesis\\masterthesis\\mthesis\\lib\\site-packages\\castle\\datasets\\simulator.py[line:270] - INFO: Finished synthetic dataset\n"
     ]
    },
    {
     "name": "stdout",
     "output_type": "stream",
     "text": [
      "Duration of algorithm was 0.20sec\n",
      "Warning: n_edges is not exact due to gcastle implementation\n",
      "Duration of algorithm was 0.44sec\n"
     ]
    },
    {
     "name": "stderr",
     "output_type": "stream",
     "text": [
      "2023-11-10 17:12:48,512 - c:\\Users\\JanMarco\\MLProjects\\Masterthesis\\masterthesis\\mthesis\\lib\\site-packages\\castle\\datasets\\simulator.py[line:270] - INFO: Finished synthetic dataset\n"
     ]
    },
    {
     "name": "stdout",
     "output_type": "stream",
     "text": [
      "Duration of algorithm was 0.56sec\n",
      "Warning: n_edges is not exact due to gcastle implementation\n",
      "Duration of algorithm was 0.25sec\n"
     ]
    },
    {
     "name": "stderr",
     "output_type": "stream",
     "text": [
      "2023-11-10 17:12:49,585 - c:\\Users\\JanMarco\\MLProjects\\Masterthesis\\masterthesis\\mthesis\\lib\\site-packages\\castle\\datasets\\simulator.py[line:270] - INFO: Finished synthetic dataset\n"
     ]
    },
    {
     "name": "stdout",
     "output_type": "stream",
     "text": [
      "Duration of algorithm was 0.40sec\n",
      "Warning: n_edges is not exact due to gcastle implementation\n",
      "Duration of algorithm was 0.54sec\n"
     ]
    },
    {
     "name": "stderr",
     "output_type": "stream",
     "text": [
      "2023-11-10 17:12:51,924 - c:\\Users\\JanMarco\\MLProjects\\Masterthesis\\masterthesis\\mthesis\\lib\\site-packages\\castle\\datasets\\simulator.py[line:270] - INFO: Finished synthetic dataset\n"
     ]
    },
    {
     "name": "stdout",
     "output_type": "stream",
     "text": [
      "Duration of algorithm was 0.87sec\n",
      "Warning: n_edges is not exact due to gcastle implementation\n",
      "Duration of algorithm was 0.10sec\n"
     ]
    },
    {
     "name": "stderr",
     "output_type": "stream",
     "text": [
      "2023-11-10 17:12:52,238 - c:\\Users\\JanMarco\\MLProjects\\Masterthesis\\masterthesis\\mthesis\\lib\\site-packages\\castle\\datasets\\simulator.py[line:270] - INFO: Finished synthetic dataset\n"
     ]
    },
    {
     "name": "stdout",
     "output_type": "stream",
     "text": [
      "Duration of algorithm was 0.10sec\n",
      "Warning: n_edges is not exact due to gcastle implementation\n",
      "Duration of algorithm was 0.10sec\n"
     ]
    },
    {
     "name": "stderr",
     "output_type": "stream",
     "text": [
      "2023-11-10 17:12:52,574 - c:\\Users\\JanMarco\\MLProjects\\Masterthesis\\masterthesis\\mthesis\\lib\\site-packages\\castle\\datasets\\simulator.py[line:270] - INFO: Finished synthetic dataset\n"
     ]
    },
    {
     "name": "stdout",
     "output_type": "stream",
     "text": [
      "Duration of algorithm was 0.10sec\n",
      "Warning: n_edges is not exact due to gcastle implementation\n",
      "Duration of algorithm was 0.10sec\n"
     ]
    },
    {
     "name": "stderr",
     "output_type": "stream",
     "text": [
      "2023-11-10 17:12:52,914 - c:\\Users\\JanMarco\\MLProjects\\Masterthesis\\masterthesis\\mthesis\\lib\\site-packages\\castle\\datasets\\simulator.py[line:270] - INFO: Finished synthetic dataset\n"
     ]
    },
    {
     "name": "stdout",
     "output_type": "stream",
     "text": [
      "Duration of algorithm was 0.10sec\n",
      "Warning: n_edges is not exact due to gcastle implementation\n",
      "Duration of algorithm was 0.13sec\n"
     ]
    },
    {
     "name": "stderr",
     "output_type": "stream",
     "text": [
      "2023-11-10 17:12:53,326 - c:\\Users\\JanMarco\\MLProjects\\Masterthesis\\masterthesis\\mthesis\\lib\\site-packages\\castle\\datasets\\simulator.py[line:270] - INFO: Finished synthetic dataset\n"
     ]
    },
    {
     "name": "stdout",
     "output_type": "stream",
     "text": [
      "Duration of algorithm was 0.12sec\n",
      "Warning: n_edges is not exact due to gcastle implementation\n",
      "Duration of algorithm was 0.09sec\n"
     ]
    },
    {
     "name": "stderr",
     "output_type": "stream",
     "text": [
      "2023-11-10 17:12:53,631 - c:\\Users\\JanMarco\\MLProjects\\Masterthesis\\masterthesis\\mthesis\\lib\\site-packages\\castle\\datasets\\simulator.py[line:270] - INFO: Finished synthetic dataset\n"
     ]
    },
    {
     "name": "stdout",
     "output_type": "stream",
     "text": [
      "Duration of algorithm was 0.09sec\n",
      "Warning: n_edges is not exact due to gcastle implementation\n",
      "Duration of algorithm was 0.19sec\n"
     ]
    },
    {
     "name": "stderr",
     "output_type": "stream",
     "text": [
      "2023-11-10 17:12:54,238 - c:\\Users\\JanMarco\\MLProjects\\Masterthesis\\masterthesis\\mthesis\\lib\\site-packages\\castle\\datasets\\simulator.py[line:270] - INFO: Finished synthetic dataset\n"
     ]
    },
    {
     "name": "stdout",
     "output_type": "stream",
     "text": [
      "Duration of algorithm was 0.19sec\n",
      "Warning: n_edges is not exact due to gcastle implementation\n",
      "Duration of algorithm was 0.31sec\n"
     ]
    },
    {
     "name": "stderr",
     "output_type": "stream",
     "text": [
      "2023-11-10 17:12:55,065 - c:\\Users\\JanMarco\\MLProjects\\Masterthesis\\masterthesis\\mthesis\\lib\\site-packages\\castle\\datasets\\simulator.py[line:270] - INFO: Finished synthetic dataset\n"
     ]
    },
    {
     "name": "stdout",
     "output_type": "stream",
     "text": [
      "Duration of algorithm was 0.25sec\n",
      "Warning: n_edges is not exact due to gcastle implementation\n",
      "Duration of algorithm was 0.33sec\n"
     ]
    },
    {
     "name": "stderr",
     "output_type": "stream",
     "text": [
      "2023-11-10 17:12:56,069 - c:\\Users\\JanMarco\\MLProjects\\Masterthesis\\masterthesis\\mthesis\\lib\\site-packages\\castle\\datasets\\simulator.py[line:270] - INFO: Finished synthetic dataset\n"
     ]
    },
    {
     "name": "stdout",
     "output_type": "stream",
     "text": [
      "Duration of algorithm was 0.32sec\n",
      "Warning: n_edges is not exact due to gcastle implementation\n",
      "Duration of algorithm was 0.19sec\n"
     ]
    },
    {
     "name": "stderr",
     "output_type": "stream",
     "text": [
      "2023-11-10 17:12:56,661 - c:\\Users\\JanMarco\\MLProjects\\Masterthesis\\masterthesis\\mthesis\\lib\\site-packages\\castle\\datasets\\simulator.py[line:270] - INFO: Finished synthetic dataset\n"
     ]
    },
    {
     "name": "stdout",
     "output_type": "stream",
     "text": [
      "Duration of algorithm was 0.19sec\n",
      "Warning: n_edges is not exact due to gcastle implementation\n",
      "Duration of algorithm was 0.26sec\n"
     ]
    },
    {
     "name": "stderr",
     "output_type": "stream",
     "text": [
      "2023-11-10 17:12:57,444 - c:\\Users\\JanMarco\\MLProjects\\Masterthesis\\masterthesis\\mthesis\\lib\\site-packages\\castle\\datasets\\simulator.py[line:270] - INFO: Finished synthetic dataset\n"
     ]
    },
    {
     "name": "stdout",
     "output_type": "stream",
     "text": [
      "Duration of algorithm was 0.25sec\n",
      "Warning: n_edges is not exact due to gcastle implementation\n",
      "Duration of algorithm was 0.25sec\n"
     ]
    },
    {
     "name": "stderr",
     "output_type": "stream",
     "text": [
      "2023-11-10 17:12:58,249 - c:\\Users\\JanMarco\\MLProjects\\Masterthesis\\masterthesis\\mthesis\\lib\\site-packages\\castle\\datasets\\simulator.py[line:270] - INFO: Finished synthetic dataset\n"
     ]
    },
    {
     "name": "stdout",
     "output_type": "stream",
     "text": [
      "Duration of algorithm was 0.24sec\n",
      "Warning: n_edges is not exact due to gcastle implementation\n",
      "Duration of algorithm was 3.35sec\n"
     ]
    },
    {
     "name": "stderr",
     "output_type": "stream",
     "text": [
      "2023-11-10 17:13:08,222 - c:\\Users\\JanMarco\\MLProjects\\Masterthesis\\masterthesis\\mthesis\\lib\\site-packages\\castle\\datasets\\simulator.py[line:270] - INFO: Finished synthetic dataset\n"
     ]
    },
    {
     "name": "stdout",
     "output_type": "stream",
     "text": [
      "Duration of algorithm was 3.30sec\n",
      "Warning: n_edges is not exact due to gcastle implementation\n",
      "Duration of algorithm was 1.34sec\n"
     ]
    },
    {
     "name": "stderr",
     "output_type": "stream",
     "text": [
      "2023-11-10 17:13:12,253 - c:\\Users\\JanMarco\\MLProjects\\Masterthesis\\masterthesis\\mthesis\\lib\\site-packages\\castle\\datasets\\simulator.py[line:270] - INFO: Finished synthetic dataset\n"
     ]
    },
    {
     "name": "stdout",
     "output_type": "stream",
     "text": [
      "Duration of algorithm was 1.34sec\n",
      "Warning: n_edges is not exact due to gcastle implementation\n",
      "Duration of algorithm was 0.42sec\n"
     ]
    },
    {
     "name": "stderr",
     "output_type": "stream",
     "text": [
      "2023-11-10 17:13:13,516 - c:\\Users\\JanMarco\\MLProjects\\Masterthesis\\masterthesis\\mthesis\\lib\\site-packages\\castle\\datasets\\simulator.py[line:270] - INFO: Finished synthetic dataset\n"
     ]
    },
    {
     "name": "stdout",
     "output_type": "stream",
     "text": [
      "Duration of algorithm was 0.41sec\n",
      "Warning: n_edges is not exact due to gcastle implementation\n",
      "Duration of algorithm was 0.58sec\n"
     ]
    },
    {
     "name": "stderr",
     "output_type": "stream",
     "text": [
      "2023-11-10 17:13:15,301 - c:\\Users\\JanMarco\\MLProjects\\Masterthesis\\masterthesis\\mthesis\\lib\\site-packages\\castle\\datasets\\simulator.py[line:270] - INFO: Finished synthetic dataset\n"
     ]
    },
    {
     "name": "stdout",
     "output_type": "stream",
     "text": [
      "Duration of algorithm was 0.57sec\n",
      "Warning: n_edges is not exact due to gcastle implementation\n",
      "Duration of algorithm was 0.23sec\n"
     ]
    },
    {
     "name": "stderr",
     "output_type": "stream",
     "text": [
      "2023-11-10 17:13:16,511 - c:\\Users\\JanMarco\\MLProjects\\Masterthesis\\masterthesis\\mthesis\\lib\\site-packages\\castle\\datasets\\simulator.py[line:270] - INFO: Finished synthetic dataset\n"
     ]
    },
    {
     "name": "stdout",
     "output_type": "stream",
     "text": [
      "Duration of algorithm was 0.46sec\n",
      "Warning: n_edges is not exact due to gcastle implementation\n",
      "Duration of algorithm was 0.16sec\n"
     ]
    },
    {
     "name": "stderr",
     "output_type": "stream",
     "text": [
      "2023-11-10 17:13:17,039 - c:\\Users\\JanMarco\\MLProjects\\Masterthesis\\masterthesis\\mthesis\\lib\\site-packages\\castle\\datasets\\simulator.py[line:270] - INFO: Finished synthetic dataset\n"
     ]
    },
    {
     "name": "stdout",
     "output_type": "stream",
     "text": [
      "Duration of algorithm was 0.17sec\n",
      "Warning: n_edges is not exact due to gcastle implementation\n",
      "Duration of algorithm was 0.13sec\n"
     ]
    },
    {
     "name": "stderr",
     "output_type": "stream",
     "text": [
      "2023-11-10 17:13:17,443 - c:\\Users\\JanMarco\\MLProjects\\Masterthesis\\masterthesis\\mthesis\\lib\\site-packages\\castle\\datasets\\simulator.py[line:270] - INFO: Finished synthetic dataset\n"
     ]
    },
    {
     "name": "stdout",
     "output_type": "stream",
     "text": [
      "Duration of algorithm was 0.12sec\n",
      "Warning: n_edges is not exact due to gcastle implementation\n",
      "Duration of algorithm was 0.14sec\n"
     ]
    },
    {
     "name": "stderr",
     "output_type": "stream",
     "text": [
      "2023-11-10 17:13:17,915 - c:\\Users\\JanMarco\\MLProjects\\Masterthesis\\masterthesis\\mthesis\\lib\\site-packages\\castle\\datasets\\simulator.py[line:270] - INFO: Finished synthetic dataset\n"
     ]
    },
    {
     "name": "stdout",
     "output_type": "stream",
     "text": [
      "Duration of algorithm was 0.14sec\n",
      "Warning: n_edges is not exact due to gcastle implementation\n",
      "Duration of algorithm was 0.18sec\n"
     ]
    },
    {
     "name": "stderr",
     "output_type": "stream",
     "text": [
      "2023-11-10 17:13:18,463 - c:\\Users\\JanMarco\\MLProjects\\Masterthesis\\masterthesis\\mthesis\\lib\\site-packages\\castle\\datasets\\simulator.py[line:270] - INFO: Finished synthetic dataset\n"
     ]
    },
    {
     "name": "stdout",
     "output_type": "stream",
     "text": [
      "Duration of algorithm was 0.17sec\n",
      "Warning: n_edges is not exact due to gcastle implementation\n",
      "Duration of algorithm was 0.39sec\n"
     ]
    },
    {
     "name": "stderr",
     "output_type": "stream",
     "text": [
      "2023-11-10 17:13:19,648 - c:\\Users\\JanMarco\\MLProjects\\Masterthesis\\masterthesis\\mthesis\\lib\\site-packages\\castle\\datasets\\simulator.py[line:270] - INFO: Finished synthetic dataset\n"
     ]
    },
    {
     "name": "stdout",
     "output_type": "stream",
     "text": [
      "Duration of algorithm was 0.39sec\n",
      "Warning: n_edges is not exact due to gcastle implementation\n",
      "Duration of algorithm was 0.72sec\n"
     ]
    },
    {
     "name": "stderr",
     "output_type": "stream",
     "text": [
      "2023-11-10 17:13:21,807 - c:\\Users\\JanMarco\\MLProjects\\Masterthesis\\masterthesis\\mthesis\\lib\\site-packages\\castle\\datasets\\simulator.py[line:270] - INFO: Finished synthetic dataset\n"
     ]
    },
    {
     "name": "stdout",
     "output_type": "stream",
     "text": [
      "Duration of algorithm was 0.72sec\n",
      "Warning: n_edges is not exact due to gcastle implementation\n",
      "Duration of algorithm was 0.20sec\n"
     ]
    },
    {
     "name": "stderr",
     "output_type": "stream",
     "text": [
      "2023-11-10 17:13:22,451 - c:\\Users\\JanMarco\\MLProjects\\Masterthesis\\masterthesis\\mthesis\\lib\\site-packages\\castle\\datasets\\simulator.py[line:270] - INFO: Finished synthetic dataset\n"
     ]
    },
    {
     "name": "stdout",
     "output_type": "stream",
     "text": [
      "Duration of algorithm was 0.21sec\n",
      "Warning: n_edges is not exact due to gcastle implementation\n",
      "Duration of algorithm was 0.17sec\n"
     ]
    },
    {
     "name": "stderr",
     "output_type": "stream",
     "text": [
      "2023-11-10 17:13:23,068 - c:\\Users\\JanMarco\\MLProjects\\Masterthesis\\masterthesis\\mthesis\\lib\\site-packages\\castle\\datasets\\simulator.py[line:270] - INFO: Finished synthetic dataset\n"
     ]
    },
    {
     "name": "stdout",
     "output_type": "stream",
     "text": [
      "Duration of algorithm was 0.21sec\n",
      "Warning: n_edges is not exact due to gcastle implementation\n",
      "Duration of algorithm was 0.36sec\n"
     ]
    },
    {
     "name": "stderr",
     "output_type": "stream",
     "text": [
      "2023-11-10 17:13:24,117 - c:\\Users\\JanMarco\\MLProjects\\Masterthesis\\masterthesis\\mthesis\\lib\\site-packages\\castle\\datasets\\simulator.py[line:270] - INFO: Finished synthetic dataset\n"
     ]
    },
    {
     "name": "stdout",
     "output_type": "stream",
     "text": [
      "Duration of algorithm was 0.31sec\n",
      "Warning: n_edges is not exact due to gcastle implementation\n",
      "Duration of algorithm was 0.25sec\n"
     ]
    },
    {
     "name": "stderr",
     "output_type": "stream",
     "text": [
      "2023-11-10 17:13:25,434 - c:\\Users\\JanMarco\\MLProjects\\Masterthesis\\masterthesis\\mthesis\\lib\\site-packages\\castle\\datasets\\simulator.py[line:270] - INFO: Finished synthetic dataset\n"
     ]
    },
    {
     "name": "stdout",
     "output_type": "stream",
     "text": [
      "Duration of algorithm was 0.52sec\n",
      "Warning: n_edges is not exact due to gcastle implementation\n",
      "Duration of algorithm was 0.26sec\n"
     ]
    },
    {
     "name": "stderr",
     "output_type": "stream",
     "text": [
      "2023-11-10 17:13:26,244 - c:\\Users\\JanMarco\\MLProjects\\Masterthesis\\masterthesis\\mthesis\\lib\\site-packages\\castle\\datasets\\simulator.py[line:270] - INFO: Finished synthetic dataset\n"
     ]
    },
    {
     "name": "stdout",
     "output_type": "stream",
     "text": [
      "Duration of algorithm was 0.26sec\n",
      "Warning: n_edges is not exact due to gcastle implementation\n",
      "Duration of algorithm was 15.06sec\n",
      "Duration of algorithm was 14.49sec\n"
     ]
    },
    {
     "name": "stderr",
     "output_type": "stream",
     "text": [
      "2023-11-10 17:14:10,591 - c:\\Users\\JanMarco\\MLProjects\\Masterthesis\\masterthesis\\mthesis\\lib\\site-packages\\castle\\datasets\\simulator.py[line:270] - INFO: Finished synthetic dataset\n"
     ]
    },
    {
     "name": "stdout",
     "output_type": "stream",
     "text": [
      "Warning: n_edges is not exact due to gcastle implementation\n",
      "Duration of algorithm was 0.45sec\n"
     ]
    },
    {
     "name": "stderr",
     "output_type": "stream",
     "text": [
      "2023-11-10 17:14:12,092 - c:\\Users\\JanMarco\\MLProjects\\Masterthesis\\masterthesis\\mthesis\\lib\\site-packages\\castle\\datasets\\simulator.py[line:270] - INFO: Finished synthetic dataset\n"
     ]
    },
    {
     "name": "stdout",
     "output_type": "stream",
     "text": [
      "Duration of algorithm was 0.52sec\n",
      "Warning: n_edges is not exact due to gcastle implementation\n",
      "Duration of algorithm was 0.37sec\n"
     ]
    },
    {
     "name": "stderr",
     "output_type": "stream",
     "text": [
      "2023-11-10 17:14:13,326 - c:\\Users\\JanMarco\\MLProjects\\Masterthesis\\masterthesis\\mthesis\\lib\\site-packages\\castle\\datasets\\simulator.py[line:270] - INFO: Finished synthetic dataset\n"
     ]
    },
    {
     "name": "stdout",
     "output_type": "stream",
     "text": [
      "Duration of algorithm was 0.42sec\n",
      "Warning: n_edges is not exact due to gcastle implementation\n",
      "Duration of algorithm was 0.13sec\n"
     ]
    },
    {
     "name": "stderr",
     "output_type": "stream",
     "text": [
      "2023-11-10 17:14:13,746 - c:\\Users\\JanMarco\\MLProjects\\Masterthesis\\masterthesis\\mthesis\\lib\\site-packages\\castle\\datasets\\simulator.py[line:270] - INFO: Finished synthetic dataset\n"
     ]
    },
    {
     "name": "stdout",
     "output_type": "stream",
     "text": [
      "Duration of algorithm was 0.13sec\n",
      "Warning: n_edges is not exact due to gcastle implementation\n",
      "Duration of algorithm was 0.08sec\n"
     ]
    },
    {
     "name": "stderr",
     "output_type": "stream",
     "text": [
      "2023-11-10 17:14:14,039 - c:\\Users\\JanMarco\\MLProjects\\Masterthesis\\masterthesis\\mthesis\\lib\\site-packages\\castle\\datasets\\simulator.py[line:270] - INFO: Finished synthetic dataset\n"
     ]
    },
    {
     "name": "stdout",
     "output_type": "stream",
     "text": [
      "Duration of algorithm was 0.09sec\n",
      "Warning: n_edges is not exact due to gcastle implementation\n",
      "Duration of algorithm was 0.20sec\n"
     ]
    },
    {
     "name": "stderr",
     "output_type": "stream",
     "text": [
      "2023-11-10 17:14:14,738 - c:\\Users\\JanMarco\\MLProjects\\Masterthesis\\masterthesis\\mthesis\\lib\\site-packages\\castle\\datasets\\simulator.py[line:270] - INFO: Finished synthetic dataset\n"
     ]
    },
    {
     "name": "stdout",
     "output_type": "stream",
     "text": [
      "Duration of algorithm was 0.27sec\n",
      "Warning: n_edges is not exact due to gcastle implementation\n",
      "Duration of algorithm was 0.12sec\n"
     ]
    },
    {
     "name": "stderr",
     "output_type": "stream",
     "text": [
      "2023-11-10 17:14:15,126 - c:\\Users\\JanMarco\\MLProjects\\Masterthesis\\masterthesis\\mthesis\\lib\\site-packages\\castle\\datasets\\simulator.py[line:270] - INFO: Finished synthetic dataset\n"
     ]
    },
    {
     "name": "stdout",
     "output_type": "stream",
     "text": [
      "Duration of algorithm was 0.12sec\n",
      "Warning: n_edges is not exact due to gcastle implementation\n",
      "Duration of algorithm was 0.13sec\n"
     ]
    },
    {
     "name": "stderr",
     "output_type": "stream",
     "text": [
      "2023-11-10 17:14:15,692 - c:\\Users\\JanMarco\\MLProjects\\Masterthesis\\masterthesis\\mthesis\\lib\\site-packages\\castle\\datasets\\simulator.py[line:270] - INFO: Finished synthetic dataset\n"
     ]
    },
    {
     "name": "stdout",
     "output_type": "stream",
     "text": [
      "Duration of algorithm was 0.20sec\n",
      "Warning: n_edges is not exact due to gcastle implementation\n",
      "Duration of algorithm was 0.15sec\n"
     ]
    },
    {
     "name": "stderr",
     "output_type": "stream",
     "text": [
      "2023-11-10 17:14:16,224 - c:\\Users\\JanMarco\\MLProjects\\Masterthesis\\masterthesis\\mthesis\\lib\\site-packages\\castle\\datasets\\simulator.py[line:270] - INFO: Finished synthetic dataset\n"
     ]
    },
    {
     "name": "stdout",
     "output_type": "stream",
     "text": [
      "Duration of algorithm was 0.17sec\n",
      "Warning: n_edges is not exact due to gcastle implementation\n",
      "Duration of algorithm was 0.13sec\n"
     ]
    },
    {
     "name": "stderr",
     "output_type": "stream",
     "text": [
      "2023-11-10 17:14:16,685 - c:\\Users\\JanMarco\\MLProjects\\Masterthesis\\masterthesis\\mthesis\\lib\\site-packages\\castle\\datasets\\simulator.py[line:270] - INFO: Finished synthetic dataset\n"
     ]
    },
    {
     "name": "stdout",
     "output_type": "stream",
     "text": [
      "Duration of algorithm was 0.15sec\n",
      "Warning: n_edges is not exact due to gcastle implementation\n",
      "Duration of algorithm was 0.12sec\n"
     ]
    },
    {
     "name": "stderr",
     "output_type": "stream",
     "text": [
      "2023-11-10 17:14:17,100 - c:\\Users\\JanMarco\\MLProjects\\Masterthesis\\masterthesis\\mthesis\\lib\\site-packages\\castle\\datasets\\simulator.py[line:270] - INFO: Finished synthetic dataset\n"
     ]
    },
    {
     "name": "stdout",
     "output_type": "stream",
     "text": [
      "Duration of algorithm was 0.13sec\n",
      "Warning: n_edges is not exact due to gcastle implementation\n",
      "Duration of algorithm was 0.11sec\n"
     ]
    },
    {
     "name": "stderr",
     "output_type": "stream",
     "text": [
      "2023-11-10 17:14:17,503 - c:\\Users\\JanMarco\\MLProjects\\Masterthesis\\masterthesis\\mthesis\\lib\\site-packages\\castle\\datasets\\simulator.py[line:270] - INFO: Finished synthetic dataset\n"
     ]
    },
    {
     "name": "stdout",
     "output_type": "stream",
     "text": [
      "Duration of algorithm was 0.13sec\n",
      "Warning: n_edges is not exact due to gcastle implementation\n",
      "Duration of algorithm was 0.17sec\n"
     ]
    },
    {
     "name": "stderr",
     "output_type": "stream",
     "text": [
      "2023-11-10 17:14:18,133 - c:\\Users\\JanMarco\\MLProjects\\Masterthesis\\masterthesis\\mthesis\\lib\\site-packages\\castle\\datasets\\simulator.py[line:270] - INFO: Finished synthetic dataset\n"
     ]
    },
    {
     "name": "stdout",
     "output_type": "stream",
     "text": [
      "Duration of algorithm was 0.22sec\n",
      "Warning: n_edges is not exact due to gcastle implementation\n",
      "Duration of algorithm was 0.22sec\n"
     ]
    },
    {
     "name": "stderr",
     "output_type": "stream",
     "text": [
      "2023-11-10 17:14:19,157 - c:\\Users\\JanMarco\\MLProjects\\Masterthesis\\masterthesis\\mthesis\\lib\\site-packages\\castle\\datasets\\simulator.py[line:270] - INFO: Finished synthetic dataset\n"
     ]
    },
    {
     "name": "stdout",
     "output_type": "stream",
     "text": [
      "Duration of algorithm was 0.37sec\n",
      "Warning: n_edges is not exact due to gcastle implementation\n",
      "Duration of algorithm was 0.20sec\n"
     ]
    },
    {
     "name": "stderr",
     "output_type": "stream",
     "text": [
      "2023-11-10 17:14:19,886 - c:\\Users\\JanMarco\\MLProjects\\Masterthesis\\masterthesis\\mthesis\\lib\\site-packages\\castle\\datasets\\simulator.py[line:270] - INFO: Finished synthetic dataset\n"
     ]
    },
    {
     "name": "stdout",
     "output_type": "stream",
     "text": [
      "Duration of algorithm was 0.28sec\n",
      "Warning: n_edges is not exact due to gcastle implementation\n",
      "Duration of algorithm was 0.36sec\n"
     ]
    },
    {
     "name": "stderr",
     "output_type": "stream",
     "text": [
      "2023-11-10 17:14:21,173 - c:\\Users\\JanMarco\\MLProjects\\Masterthesis\\masterthesis\\mthesis\\lib\\site-packages\\castle\\datasets\\simulator.py[line:270] - INFO: Finished synthetic dataset\n"
     ]
    },
    {
     "name": "stdout",
     "output_type": "stream",
     "text": [
      "Duration of algorithm was 0.44sec\n",
      "Warning: n_edges is not exact due to gcastle implementation\n",
      "Duration of algorithm was 0.67sec\n"
     ]
    },
    {
     "name": "stderr",
     "output_type": "stream",
     "text": [
      "2023-11-10 17:14:24,325 - c:\\Users\\JanMarco\\MLProjects\\Masterthesis\\masterthesis\\mthesis\\lib\\site-packages\\castle\\datasets\\simulator.py[line:270] - INFO: Finished synthetic dataset\n"
     ]
    },
    {
     "name": "stdout",
     "output_type": "stream",
     "text": [
      "Duration of algorithm was 1.21sec\n",
      "Warning: n_edges is not exact due to gcastle implementation\n",
      "Duration of algorithm was 0.39sec\n"
     ]
    },
    {
     "name": "stderr",
     "output_type": "stream",
     "text": [
      "2023-11-10 17:14:25,637 - c:\\Users\\JanMarco\\MLProjects\\Masterthesis\\masterthesis\\mthesis\\lib\\site-packages\\castle\\datasets\\simulator.py[line:270] - INFO: Finished synthetic dataset\n"
     ]
    },
    {
     "name": "stdout",
     "output_type": "stream",
     "text": [
      "Duration of algorithm was 0.45sec\n",
      "Warning: n_edges is not exact due to gcastle implementation\n",
      "Duration of algorithm was 0.17sec\n"
     ]
    },
    {
     "name": "stderr",
     "output_type": "stream",
     "text": [
      "2023-11-10 17:14:26,303 - c:\\Users\\JanMarco\\MLProjects\\Masterthesis\\masterthesis\\mthesis\\lib\\site-packages\\castle\\datasets\\simulator.py[line:270] - INFO: Finished synthetic dataset\n"
     ]
    },
    {
     "name": "stdout",
     "output_type": "stream",
     "text": [
      "Duration of algorithm was 0.24sec\n",
      "Warning: n_edges is not exact due to gcastle implementation\n",
      "Duration of algorithm was 0.11sec\n"
     ]
    },
    {
     "name": "stderr",
     "output_type": "stream",
     "text": [
      "2023-11-10 17:14:26,764 - c:\\Users\\JanMarco\\MLProjects\\Masterthesis\\masterthesis\\mthesis\\lib\\site-packages\\castle\\datasets\\simulator.py[line:270] - INFO: Finished synthetic dataset\n"
     ]
    },
    {
     "name": "stdout",
     "output_type": "stream",
     "text": [
      "Duration of algorithm was 0.16sec\n",
      "Warning: n_edges is not exact due to gcastle implementation\n",
      "Duration of algorithm was 0.17sec\n"
     ]
    },
    {
     "name": "stderr",
     "output_type": "stream",
     "text": [
      "2023-11-10 17:14:27,935 - c:\\Users\\JanMarco\\MLProjects\\Masterthesis\\masterthesis\\mthesis\\lib\\site-packages\\castle\\datasets\\simulator.py[line:270] - INFO: Finished synthetic dataset\n"
     ]
    },
    {
     "name": "stdout",
     "output_type": "stream",
     "text": [
      "Duration of algorithm was 0.49sec\n",
      "Warning: n_edges is not exact due to gcastle implementation\n",
      "Duration of algorithm was 0.22sec\n"
     ]
    },
    {
     "name": "stderr",
     "output_type": "stream",
     "text": [
      "2023-11-10 17:14:29,211 - c:\\Users\\JanMarco\\MLProjects\\Masterthesis\\masterthesis\\mthesis\\lib\\site-packages\\castle\\datasets\\simulator.py[line:270] - INFO: Finished synthetic dataset\n"
     ]
    },
    {
     "name": "stdout",
     "output_type": "stream",
     "text": [
      "Duration of algorithm was 0.51sec\n",
      "Warning: n_edges is not exact due to gcastle implementation\n",
      "Duration of algorithm was 0.13sec\n"
     ]
    },
    {
     "name": "stderr",
     "output_type": "stream",
     "text": [
      "2023-11-10 17:14:29,660 - c:\\Users\\JanMarco\\MLProjects\\Masterthesis\\masterthesis\\mthesis\\lib\\site-packages\\castle\\datasets\\simulator.py[line:270] - INFO: Finished synthetic dataset\n"
     ]
    },
    {
     "name": "stdout",
     "output_type": "stream",
     "text": [
      "Duration of algorithm was 0.14sec\n",
      "Warning: n_edges is not exact due to gcastle implementation\n",
      "Duration of algorithm was 0.09sec\n"
     ]
    },
    {
     "name": "stderr",
     "output_type": "stream",
     "text": [
      "2023-11-10 17:14:29,955 - c:\\Users\\JanMarco\\MLProjects\\Masterthesis\\masterthesis\\mthesis\\lib\\site-packages\\castle\\datasets\\simulator.py[line:270] - INFO: Finished synthetic dataset\n"
     ]
    },
    {
     "name": "stdout",
     "output_type": "stream",
     "text": [
      "Duration of algorithm was 0.09sec\n",
      "Warning: n_edges is not exact due to gcastle implementation\n",
      "Duration of algorithm was 0.37sec\n"
     ]
    },
    {
     "name": "stderr",
     "output_type": "stream",
     "text": [
      "2023-11-10 17:14:31,039 - c:\\Users\\JanMarco\\MLProjects\\Masterthesis\\masterthesis\\mthesis\\lib\\site-packages\\castle\\datasets\\simulator.py[line:270] - INFO: Finished synthetic dataset\n"
     ]
    },
    {
     "name": "stdout",
     "output_type": "stream",
     "text": [
      "Duration of algorithm was 0.33sec\n",
      "Warning: n_edges is not exact due to gcastle implementation\n",
      "Duration of algorithm was 0.10sec\n"
     ]
    },
    {
     "name": "stderr",
     "output_type": "stream",
     "text": [
      "2023-11-10 17:14:31,421 - c:\\Users\\JanMarco\\MLProjects\\Masterthesis\\masterthesis\\mthesis\\lib\\site-packages\\castle\\datasets\\simulator.py[line:270] - INFO: Finished synthetic dataset\n"
     ]
    },
    {
     "name": "stdout",
     "output_type": "stream",
     "text": [
      "Duration of algorithm was 0.13sec\n",
      "Warning: n_edges is not exact due to gcastle implementation\n",
      "Duration of algorithm was 0.12sec\n"
     ]
    },
    {
     "name": "stderr",
     "output_type": "stream",
     "text": [
      "2023-11-10 17:14:31,885 - c:\\Users\\JanMarco\\MLProjects\\Masterthesis\\masterthesis\\mthesis\\lib\\site-packages\\castle\\datasets\\simulator.py[line:270] - INFO: Finished synthetic dataset\n"
     ]
    },
    {
     "name": "stdout",
     "output_type": "stream",
     "text": [
      "Duration of algorithm was 0.16sec\n",
      "Warning: n_edges is not exact due to gcastle implementation\n",
      "Duration of algorithm was 0.19sec\n"
     ]
    },
    {
     "name": "stderr",
     "output_type": "stream",
     "text": [
      "2023-11-10 17:14:32,722 - c:\\Users\\JanMarco\\MLProjects\\Masterthesis\\masterthesis\\mthesis\\lib\\site-packages\\castle\\datasets\\simulator.py[line:270] - INFO: Finished synthetic dataset\n"
     ]
    },
    {
     "name": "stdout",
     "output_type": "stream",
     "text": [
      "Duration of algorithm was 0.30sec\n",
      "Warning: n_edges is not exact due to gcastle implementation\n",
      "Duration of algorithm was 0.22sec\n"
     ]
    },
    {
     "name": "stderr",
     "output_type": "stream",
     "text": [
      "2023-11-10 17:14:33,499 - c:\\Users\\JanMarco\\MLProjects\\Masterthesis\\masterthesis\\mthesis\\lib\\site-packages\\castle\\datasets\\simulator.py[line:270] - INFO: Finished synthetic dataset\n"
     ]
    },
    {
     "name": "stdout",
     "output_type": "stream",
     "text": [
      "Duration of algorithm was 0.27sec\n",
      "Warning: n_edges is not exact due to gcastle implementation\n",
      "Duration of algorithm was 0.21sec\n"
     ]
    },
    {
     "name": "stderr",
     "output_type": "stream",
     "text": [
      "2023-11-10 17:14:34,288 - c:\\Users\\JanMarco\\MLProjects\\Masterthesis\\masterthesis\\mthesis\\lib\\site-packages\\castle\\datasets\\simulator.py[line:270] - INFO: Finished synthetic dataset\n"
     ]
    },
    {
     "name": "stdout",
     "output_type": "stream",
     "text": [
      "Duration of algorithm was 0.27sec\n",
      "Warning: n_edges is not exact due to gcastle implementation\n",
      "Duration of algorithm was 0.48sec\n"
     ]
    },
    {
     "name": "stderr",
     "output_type": "stream",
     "text": [
      "2023-11-10 17:14:36,430 - c:\\Users\\JanMarco\\MLProjects\\Masterthesis\\masterthesis\\mthesis\\lib\\site-packages\\castle\\datasets\\simulator.py[line:270] - INFO: Finished synthetic dataset\n"
     ]
    },
    {
     "name": "stdout",
     "output_type": "stream",
     "text": [
      "Duration of algorithm was 0.82sec\n",
      "Warning: n_edges is not exact due to gcastle implementation\n",
      "Duration of algorithm was 0.32sec\n"
     ]
    },
    {
     "name": "stderr",
     "output_type": "stream",
     "text": [
      "2023-11-10 17:14:37,580 - c:\\Users\\JanMarco\\MLProjects\\Masterthesis\\masterthesis\\mthesis\\lib\\site-packages\\castle\\datasets\\simulator.py[line:270] - INFO: Finished synthetic dataset\n"
     ]
    },
    {
     "name": "stdout",
     "output_type": "stream",
     "text": [
      "Duration of algorithm was 0.40sec\n",
      "Warning: n_edges is not exact due to gcastle implementation\n",
      "Duration of algorithm was 0.36sec\n"
     ]
    },
    {
     "name": "stderr",
     "output_type": "stream",
     "text": [
      "2023-11-10 17:14:39,669 - c:\\Users\\JanMarco\\MLProjects\\Masterthesis\\masterthesis\\mthesis\\lib\\site-packages\\castle\\datasets\\simulator.py[line:270] - INFO: Finished synthetic dataset\n"
     ]
    },
    {
     "name": "stdout",
     "output_type": "stream",
     "text": [
      "Duration of algorithm was 0.88sec\n",
      "Warning: n_edges is not exact due to gcastle implementation\n",
      "Duration of algorithm was 0.09sec\n"
     ]
    },
    {
     "name": "stderr",
     "output_type": "stream",
     "text": [
      "2023-11-10 17:14:39,979 - c:\\Users\\JanMarco\\MLProjects\\Masterthesis\\masterthesis\\mthesis\\lib\\site-packages\\castle\\datasets\\simulator.py[line:270] - INFO: Finished synthetic dataset\n"
     ]
    },
    {
     "name": "stdout",
     "output_type": "stream",
     "text": [
      "Duration of algorithm was 0.10sec\n",
      "Warning: n_edges is not exact due to gcastle implementation\n",
      "Duration of algorithm was 0.13sec\n"
     ]
    },
    {
     "name": "stderr",
     "output_type": "stream",
     "text": [
      "2023-11-10 17:14:40,443 - c:\\Users\\JanMarco\\MLProjects\\Masterthesis\\masterthesis\\mthesis\\lib\\site-packages\\castle\\datasets\\simulator.py[line:270] - INFO: Finished synthetic dataset\n"
     ]
    },
    {
     "name": "stdout",
     "output_type": "stream",
     "text": [
      "Duration of algorithm was 0.15sec\n",
      "Warning: n_edges is not exact due to gcastle implementation\n",
      "Duration of algorithm was 0.08sec\n"
     ]
    },
    {
     "name": "stderr",
     "output_type": "stream",
     "text": [
      "2023-11-10 17:14:40,724 - c:\\Users\\JanMarco\\MLProjects\\Masterthesis\\masterthesis\\mthesis\\lib\\site-packages\\castle\\datasets\\simulator.py[line:270] - INFO: Finished synthetic dataset\n"
     ]
    },
    {
     "name": "stdout",
     "output_type": "stream",
     "text": [
      "Duration of algorithm was 0.09sec\n",
      "Warning: n_edges is not exact due to gcastle implementation\n",
      "Duration of algorithm was 0.11sec\n"
     ]
    },
    {
     "name": "stderr",
     "output_type": "stream",
     "text": [
      "2023-11-10 17:14:41,130 - c:\\Users\\JanMarco\\MLProjects\\Masterthesis\\masterthesis\\mthesis\\lib\\site-packages\\castle\\datasets\\simulator.py[line:270] - INFO: Finished synthetic dataset\n"
     ]
    },
    {
     "name": "stdout",
     "output_type": "stream",
     "text": [
      "Duration of algorithm was 0.14sec\n",
      "Warning: n_edges is not exact due to gcastle implementation\n",
      "Duration of algorithm was 0.12sec\n"
     ]
    },
    {
     "name": "stderr",
     "output_type": "stream",
     "text": [
      "2023-11-10 17:14:42,010 - c:\\Users\\JanMarco\\MLProjects\\Masterthesis\\masterthesis\\mthesis\\lib\\site-packages\\castle\\datasets\\simulator.py[line:270] - INFO: Finished synthetic dataset\n"
     ]
    },
    {
     "name": "stdout",
     "output_type": "stream",
     "text": [
      "Duration of algorithm was 0.36sec\n",
      "Warning: n_edges is not exact due to gcastle implementation\n",
      "Duration of algorithm was 0.14sec\n"
     ]
    },
    {
     "name": "stderr",
     "output_type": "stream",
     "text": [
      "2023-11-10 17:14:42,627 - c:\\Users\\JanMarco\\MLProjects\\Masterthesis\\masterthesis\\mthesis\\lib\\site-packages\\castle\\datasets\\simulator.py[line:270] - INFO: Finished synthetic dataset\n"
     ]
    },
    {
     "name": "stdout",
     "output_type": "stream",
     "text": [
      "Duration of algorithm was 0.21sec\n",
      "Warning: n_edges is not exact due to gcastle implementation\n",
      "Duration of algorithm was 0.11sec\n"
     ]
    },
    {
     "name": "stderr",
     "output_type": "stream",
     "text": [
      "2023-11-10 17:14:43,208 - c:\\Users\\JanMarco\\MLProjects\\Masterthesis\\masterthesis\\mthesis\\lib\\site-packages\\castle\\datasets\\simulator.py[line:270] - INFO: Finished synthetic dataset\n"
     ]
    },
    {
     "name": "stdout",
     "output_type": "stream",
     "text": [
      "Duration of algorithm was 0.24sec\n",
      "Warning: n_edges is not exact due to gcastle implementation\n",
      "Duration of algorithm was 0.12sec\n"
     ]
    },
    {
     "name": "stderr",
     "output_type": "stream",
     "text": [
      "2023-11-10 17:14:43,831 - c:\\Users\\JanMarco\\MLProjects\\Masterthesis\\masterthesis\\mthesis\\lib\\site-packages\\castle\\datasets\\simulator.py[line:270] - INFO: Finished synthetic dataset\n"
     ]
    },
    {
     "name": "stdout",
     "output_type": "stream",
     "text": [
      "Duration of algorithm was 0.24sec\n",
      "Warning: n_edges is not exact due to gcastle implementation\n",
      "Duration of algorithm was 0.19sec\n"
     ]
    },
    {
     "name": "stderr",
     "output_type": "stream",
     "text": [
      "2023-11-10 17:14:44,527 - c:\\Users\\JanMarco\\MLProjects\\Masterthesis\\masterthesis\\mthesis\\lib\\site-packages\\castle\\datasets\\simulator.py[line:270] - INFO: Finished synthetic dataset\n"
     ]
    },
    {
     "name": "stdout",
     "output_type": "stream",
     "text": [
      "Duration of algorithm was 0.23sec\n",
      "Warning: n_edges is not exact due to gcastle implementation\n",
      "Duration of algorithm was 0.10sec\n"
     ]
    },
    {
     "name": "stderr",
     "output_type": "stream",
     "text": [
      "2023-11-10 17:14:45,207 - c:\\Users\\JanMarco\\MLProjects\\Masterthesis\\masterthesis\\mthesis\\lib\\site-packages\\castle\\datasets\\simulator.py[line:270] - INFO: Finished synthetic dataset\n"
     ]
    },
    {
     "name": "stdout",
     "output_type": "stream",
     "text": [
      "Duration of algorithm was 0.28sec\n",
      "Warning: n_edges is not exact due to gcastle implementation\n",
      "Duration of algorithm was 0.09sec\n"
     ]
    },
    {
     "name": "stderr",
     "output_type": "stream",
     "text": [
      "2023-11-10 17:14:45,729 - c:\\Users\\JanMarco\\MLProjects\\Masterthesis\\masterthesis\\mthesis\\lib\\site-packages\\castle\\datasets\\simulator.py[line:270] - INFO: Finished synthetic dataset\n"
     ]
    },
    {
     "name": "stdout",
     "output_type": "stream",
     "text": [
      "Duration of algorithm was 0.20sec\n",
      "Warning: n_edges is not exact due to gcastle implementation\n",
      "Duration of algorithm was 0.19sec\n"
     ]
    },
    {
     "name": "stderr",
     "output_type": "stream",
     "text": [
      "2023-11-10 17:14:46,693 - c:\\Users\\JanMarco\\MLProjects\\Masterthesis\\masterthesis\\mthesis\\lib\\site-packages\\castle\\datasets\\simulator.py[line:270] - INFO: Finished synthetic dataset\n"
     ]
    },
    {
     "name": "stdout",
     "output_type": "stream",
     "text": [
      "Duration of algorithm was 0.37sec\n",
      "Warning: n_edges is not exact due to gcastle implementation\n",
      "Duration of algorithm was 0.24sec\n"
     ]
    },
    {
     "name": "stderr",
     "output_type": "stream",
     "text": [
      "2023-11-10 17:14:47,796 - c:\\Users\\JanMarco\\MLProjects\\Masterthesis\\masterthesis\\mthesis\\lib\\site-packages\\castle\\datasets\\simulator.py[line:270] - INFO: Finished synthetic dataset\n"
     ]
    },
    {
     "name": "stdout",
     "output_type": "stream",
     "text": [
      "Duration of algorithm was 0.41sec\n",
      "Warning: n_edges is not exact due to gcastle implementation\n",
      "Duration of algorithm was 0.26sec\n"
     ]
    },
    {
     "name": "stderr",
     "output_type": "stream",
     "text": [
      "2023-11-10 17:14:48,788 - c:\\Users\\JanMarco\\MLProjects\\Masterthesis\\masterthesis\\mthesis\\lib\\site-packages\\castle\\datasets\\simulator.py[line:270] - INFO: Finished synthetic dataset\n"
     ]
    },
    {
     "name": "stdout",
     "output_type": "stream",
     "text": [
      "Duration of algorithm was 0.34sec\n",
      "Warning: n_edges is not exact due to gcastle implementation\n",
      "Duration of algorithm was 0.37sec\n"
     ]
    },
    {
     "name": "stderr",
     "output_type": "stream",
     "text": [
      "2023-11-10 17:14:50,252 - c:\\Users\\JanMarco\\MLProjects\\Masterthesis\\masterthesis\\mthesis\\lib\\site-packages\\castle\\datasets\\simulator.py[line:270] - INFO: Finished synthetic dataset\n"
     ]
    },
    {
     "name": "stdout",
     "output_type": "stream",
     "text": [
      "Duration of algorithm was 0.54sec\n",
      "Warning: n_edges is not exact due to gcastle implementation\n",
      "Duration of algorithm was 0.55sec\n"
     ]
    },
    {
     "name": "stderr",
     "output_type": "stream",
     "text": [
      "2023-11-10 17:14:51,946 - c:\\Users\\JanMarco\\MLProjects\\Masterthesis\\masterthesis\\mthesis\\lib\\site-packages\\castle\\datasets\\simulator.py[line:270] - INFO: Finished synthetic dataset\n"
     ]
    },
    {
     "name": "stdout",
     "output_type": "stream",
     "text": [
      "Duration of algorithm was 0.55sec\n",
      "Warning: n_edges is not exact due to gcastle implementation\n",
      "Duration of algorithm was 0.95sec\n"
     ]
    },
    {
     "name": "stderr",
     "output_type": "stream",
     "text": [
      "2023-11-10 17:14:54,737 - c:\\Users\\JanMarco\\MLProjects\\Masterthesis\\masterthesis\\mthesis\\lib\\site-packages\\castle\\datasets\\simulator.py[line:270] - INFO: Finished synthetic dataset\n"
     ]
    },
    {
     "name": "stdout",
     "output_type": "stream",
     "text": [
      "Duration of algorithm was 0.90sec\n",
      "Warning: n_edges is not exact due to gcastle implementation\n",
      "Duration of algorithm was 0.60sec\n"
     ]
    },
    {
     "name": "stderr",
     "output_type": "stream",
     "text": [
      "2023-11-10 17:14:56,565 - c:\\Users\\JanMarco\\MLProjects\\Masterthesis\\masterthesis\\mthesis\\lib\\site-packages\\castle\\datasets\\simulator.py[line:270] - INFO: Finished synthetic dataset\n"
     ]
    },
    {
     "name": "stdout",
     "output_type": "stream",
     "text": [
      "Duration of algorithm was 0.59sec\n",
      "Warning: n_edges is not exact due to gcastle implementation\n",
      "Duration of algorithm was 0.89sec\n"
     ]
    },
    {
     "name": "stderr",
     "output_type": "stream",
     "text": [
      "2023-11-10 17:14:59,274 - c:\\Users\\JanMarco\\MLProjects\\Masterthesis\\masterthesis\\mthesis\\lib\\site-packages\\castle\\datasets\\simulator.py[line:270] - INFO: Finished synthetic dataset\n"
     ]
    },
    {
     "name": "stdout",
     "output_type": "stream",
     "text": [
      "Duration of algorithm was 0.88sec\n",
      "Warning: n_edges is not exact due to gcastle implementation\n",
      "Duration of algorithm was 0.77sec\n"
     ]
    },
    {
     "name": "stderr",
     "output_type": "stream",
     "text": [
      "2023-11-10 17:15:01,625 - c:\\Users\\JanMarco\\MLProjects\\Masterthesis\\masterthesis\\mthesis\\lib\\site-packages\\castle\\datasets\\simulator.py[line:270] - INFO: Finished synthetic dataset\n"
     ]
    },
    {
     "name": "stdout",
     "output_type": "stream",
     "text": [
      "Duration of algorithm was 0.76sec\n",
      "Warning: n_edges is not exact due to gcastle implementation\n",
      "Duration of algorithm was 0.73sec\n"
     ]
    },
    {
     "name": "stderr",
     "output_type": "stream",
     "text": [
      "2023-11-10 17:15:03,832 - c:\\Users\\JanMarco\\MLProjects\\Masterthesis\\masterthesis\\mthesis\\lib\\site-packages\\castle\\datasets\\simulator.py[line:270] - INFO: Finished synthetic dataset\n"
     ]
    },
    {
     "name": "stdout",
     "output_type": "stream",
     "text": [
      "Duration of algorithm was 0.71sec\n",
      "Warning: n_edges is not exact due to gcastle implementation\n",
      "Duration of algorithm was 0.98sec\n"
     ]
    },
    {
     "name": "stderr",
     "output_type": "stream",
     "text": [
      "2023-11-10 17:15:06,807 - c:\\Users\\JanMarco\\MLProjects\\Masterthesis\\masterthesis\\mthesis\\lib\\site-packages\\castle\\datasets\\simulator.py[line:270] - INFO: Finished synthetic dataset\n"
     ]
    },
    {
     "name": "stdout",
     "output_type": "stream",
     "text": [
      "Duration of algorithm was 0.97sec\n",
      "Warning: n_edges is not exact due to gcastle implementation\n",
      "Duration of algorithm was 1.10sec\n"
     ]
    },
    {
     "name": "stderr",
     "output_type": "stream",
     "text": [
      "2023-11-10 17:15:10,062 - c:\\Users\\JanMarco\\MLProjects\\Masterthesis\\masterthesis\\mthesis\\lib\\site-packages\\castle\\datasets\\simulator.py[line:270] - INFO: Finished synthetic dataset\n"
     ]
    },
    {
     "name": "stdout",
     "output_type": "stream",
     "text": [
      "Duration of algorithm was 1.05sec\n",
      "Warning: n_edges is not exact due to gcastle implementation\n",
      "Duration of algorithm was 1.01sec\n"
     ]
    },
    {
     "name": "stderr",
     "output_type": "stream",
     "text": [
      "2023-11-10 17:15:13,089 - c:\\Users\\JanMarco\\MLProjects\\Masterthesis\\masterthesis\\mthesis\\lib\\site-packages\\castle\\datasets\\simulator.py[line:270] - INFO: Finished synthetic dataset\n"
     ]
    },
    {
     "name": "stdout",
     "output_type": "stream",
     "text": [
      "Duration of algorithm was 0.97sec\n",
      "Warning: n_edges is not exact due to gcastle implementation\n",
      "Duration of algorithm was 1.09sec\n"
     ]
    },
    {
     "name": "stderr",
     "output_type": "stream",
     "text": [
      "2023-11-10 17:15:16,416 - c:\\Users\\JanMarco\\MLProjects\\Masterthesis\\masterthesis\\mthesis\\lib\\site-packages\\castle\\datasets\\simulator.py[line:270] - INFO: Finished synthetic dataset\n"
     ]
    },
    {
     "name": "stdout",
     "output_type": "stream",
     "text": [
      "Duration of algorithm was 1.09sec\n",
      "Warning: n_edges is not exact due to gcastle implementation\n",
      "Duration of algorithm was 1.23sec\n"
     ]
    },
    {
     "name": "stderr",
     "output_type": "stream",
     "text": [
      "2023-11-10 17:15:20,076 - c:\\Users\\JanMarco\\MLProjects\\Masterthesis\\masterthesis\\mthesis\\lib\\site-packages\\castle\\datasets\\simulator.py[line:270] - INFO: Finished synthetic dataset\n"
     ]
    },
    {
     "name": "stdout",
     "output_type": "stream",
     "text": [
      "Duration of algorithm was 1.19sec\n",
      "Warning: n_edges is not exact due to gcastle implementation\n",
      "Duration of algorithm was 1.41sec\n"
     ]
    },
    {
     "name": "stderr",
     "output_type": "stream",
     "text": [
      "2023-11-10 17:15:24,322 - c:\\Users\\JanMarco\\MLProjects\\Masterthesis\\masterthesis\\mthesis\\lib\\site-packages\\castle\\datasets\\simulator.py[line:270] - INFO: Finished synthetic dataset\n"
     ]
    },
    {
     "name": "stdout",
     "output_type": "stream",
     "text": [
      "Duration of algorithm was 1.38sec\n",
      "Warning: n_edges is not exact due to gcastle implementation\n",
      "Duration of algorithm was 2.22sec\n"
     ]
    },
    {
     "name": "stderr",
     "output_type": "stream",
     "text": [
      "2023-11-10 17:15:30,978 - c:\\Users\\JanMarco\\MLProjects\\Masterthesis\\masterthesis\\mthesis\\lib\\site-packages\\castle\\datasets\\simulator.py[line:270] - INFO: Finished synthetic dataset\n"
     ]
    },
    {
     "name": "stdout",
     "output_type": "stream",
     "text": [
      "Duration of algorithm was 2.10sec\n",
      "Warning: n_edges is not exact due to gcastle implementation\n",
      "Duration of algorithm was 1.83sec\n"
     ]
    },
    {
     "name": "stderr",
     "output_type": "stream",
     "text": [
      "2023-11-10 17:15:36,478 - c:\\Users\\JanMarco\\MLProjects\\Masterthesis\\masterthesis\\mthesis\\lib\\site-packages\\castle\\datasets\\simulator.py[line:270] - INFO: Finished synthetic dataset\n"
     ]
    },
    {
     "name": "stdout",
     "output_type": "stream",
     "text": [
      "Duration of algorithm was 1.81sec\n",
      "Warning: n_edges is not exact due to gcastle implementation\n",
      "Duration of algorithm was 1.85sec\n"
     ]
    },
    {
     "name": "stderr",
     "output_type": "stream",
     "text": [
      "2023-11-10 17:15:42,020 - c:\\Users\\JanMarco\\MLProjects\\Masterthesis\\masterthesis\\mthesis\\lib\\site-packages\\castle\\datasets\\simulator.py[line:270] - INFO: Finished synthetic dataset\n"
     ]
    },
    {
     "name": "stdout",
     "output_type": "stream",
     "text": [
      "Duration of algorithm was 1.80sec\n",
      "Warning: n_edges is not exact due to gcastle implementation\n",
      "Duration of algorithm was 0.63sec\n"
     ]
    },
    {
     "name": "stderr",
     "output_type": "stream",
     "text": [
      "2023-11-10 17:15:44,203 - c:\\Users\\JanMarco\\MLProjects\\Masterthesis\\masterthesis\\mthesis\\lib\\site-packages\\castle\\datasets\\simulator.py[line:270] - INFO: Finished synthetic dataset\n"
     ]
    },
    {
     "name": "stdout",
     "output_type": "stream",
     "text": [
      "Duration of algorithm was 0.76sec\n",
      "Warning: n_edges is not exact due to gcastle implementation\n",
      "Duration of algorithm was 0.74sec\n"
     ]
    },
    {
     "name": "stderr",
     "output_type": "stream",
     "text": [
      "2023-11-10 17:15:46,381 - c:\\Users\\JanMarco\\MLProjects\\Masterthesis\\masterthesis\\mthesis\\lib\\site-packages\\castle\\datasets\\simulator.py[line:270] - INFO: Finished synthetic dataset\n"
     ]
    },
    {
     "name": "stdout",
     "output_type": "stream",
     "text": [
      "Duration of algorithm was 0.69sec\n",
      "Warning: n_edges is not exact due to gcastle implementation\n",
      "Duration of algorithm was 0.50sec\n"
     ]
    },
    {
     "name": "stderr",
     "output_type": "stream",
     "text": [
      "2023-11-10 17:15:48,253 - c:\\Users\\JanMarco\\MLProjects\\Masterthesis\\masterthesis\\mthesis\\lib\\site-packages\\castle\\datasets\\simulator.py[line:270] - INFO: Finished synthetic dataset\n"
     ]
    },
    {
     "name": "stdout",
     "output_type": "stream",
     "text": [
      "Duration of algorithm was 0.67sec\n",
      "Warning: n_edges is not exact due to gcastle implementation\n",
      "Duration of algorithm was 0.80sec\n"
     ]
    },
    {
     "name": "stderr",
     "output_type": "stream",
     "text": [
      "2023-11-10 17:15:50,659 - c:\\Users\\JanMarco\\MLProjects\\Masterthesis\\masterthesis\\mthesis\\lib\\site-packages\\castle\\datasets\\simulator.py[line:270] - INFO: Finished synthetic dataset\n"
     ]
    },
    {
     "name": "stdout",
     "output_type": "stream",
     "text": [
      "Duration of algorithm was 0.78sec\n",
      "Warning: n_edges is not exact due to gcastle implementation\n",
      "Duration of algorithm was 0.84sec\n"
     ]
    },
    {
     "name": "stderr",
     "output_type": "stream",
     "text": [
      "2023-11-10 17:15:53,407 - c:\\Users\\JanMarco\\MLProjects\\Masterthesis\\masterthesis\\mthesis\\lib\\site-packages\\castle\\datasets\\simulator.py[line:270] - INFO: Finished synthetic dataset\n"
     ]
    },
    {
     "name": "stdout",
     "output_type": "stream",
     "text": [
      "Duration of algorithm was 0.94sec\n",
      "Warning: n_edges is not exact due to gcastle implementation\n",
      "Duration of algorithm was 0.57sec\n"
     ]
    },
    {
     "name": "stderr",
     "output_type": "stream",
     "text": [
      "2023-11-10 17:15:55,302 - c:\\Users\\JanMarco\\MLProjects\\Masterthesis\\masterthesis\\mthesis\\lib\\site-packages\\castle\\datasets\\simulator.py[line:270] - INFO: Finished synthetic dataset\n"
     ]
    },
    {
     "name": "stdout",
     "output_type": "stream",
     "text": [
      "Duration of algorithm was 0.65sec\n",
      "Warning: n_edges is not exact due to gcastle implementation\n",
      "Duration of algorithm was 0.99sec\n"
     ]
    },
    {
     "name": "stderr",
     "output_type": "stream",
     "text": [
      "2023-11-10 17:15:58,311 - c:\\Users\\JanMarco\\MLProjects\\Masterthesis\\masterthesis\\mthesis\\lib\\site-packages\\castle\\datasets\\simulator.py[line:270] - INFO: Finished synthetic dataset\n"
     ]
    },
    {
     "name": "stdout",
     "output_type": "stream",
     "text": [
      "Duration of algorithm was 0.98sec\n",
      "Warning: n_edges is not exact due to gcastle implementation\n",
      "Duration of algorithm was 0.75sec\n"
     ]
    },
    {
     "name": "stderr",
     "output_type": "stream",
     "text": [
      "2023-11-10 17:16:01,155 - c:\\Users\\JanMarco\\MLProjects\\Masterthesis\\masterthesis\\mthesis\\lib\\site-packages\\castle\\datasets\\simulator.py[line:270] - INFO: Finished synthetic dataset\n"
     ]
    },
    {
     "name": "stdout",
     "output_type": "stream",
     "text": [
      "Duration of algorithm was 1.05sec\n",
      "Warning: n_edges is not exact due to gcastle implementation\n",
      "Duration of algorithm was 0.84sec\n"
     ]
    },
    {
     "name": "stderr",
     "output_type": "stream",
     "text": [
      "2023-11-10 17:16:04,318 - c:\\Users\\JanMarco\\MLProjects\\Masterthesis\\masterthesis\\mthesis\\lib\\site-packages\\castle\\datasets\\simulator.py[line:270] - INFO: Finished synthetic dataset\n"
     ]
    },
    {
     "name": "stdout",
     "output_type": "stream",
     "text": [
      "Duration of algorithm was 1.14sec\n",
      "Warning: n_edges is not exact due to gcastle implementation\n",
      "Duration of algorithm was 1.18sec\n"
     ]
    },
    {
     "name": "stderr",
     "output_type": "stream",
     "text": [
      "2023-11-10 17:16:08,056 - c:\\Users\\JanMarco\\MLProjects\\Masterthesis\\masterthesis\\mthesis\\lib\\site-packages\\castle\\datasets\\simulator.py[line:270] - INFO: Finished synthetic dataset\n"
     ]
    },
    {
     "name": "stdout",
     "output_type": "stream",
     "text": [
      "Duration of algorithm was 1.25sec\n",
      "Warning: n_edges is not exact due to gcastle implementation\n",
      "Duration of algorithm was 0.94sec\n"
     ]
    },
    {
     "name": "stderr",
     "output_type": "stream",
     "text": [
      "2023-11-10 17:16:11,654 - c:\\Users\\JanMarco\\MLProjects\\Masterthesis\\masterthesis\\mthesis\\lib\\site-packages\\castle\\datasets\\simulator.py[line:270] - INFO: Finished synthetic dataset\n"
     ]
    },
    {
     "name": "stdout",
     "output_type": "stream",
     "text": [
      "Duration of algorithm was 1.29sec\n",
      "Warning: n_edges is not exact due to gcastle implementation\n",
      "Duration of algorithm was 0.93sec\n"
     ]
    },
    {
     "name": "stderr",
     "output_type": "stream",
     "text": [
      "2023-11-10 17:16:14,960 - c:\\Users\\JanMarco\\MLProjects\\Masterthesis\\masterthesis\\mthesis\\lib\\site-packages\\castle\\datasets\\simulator.py[line:270] - INFO: Finished synthetic dataset\n"
     ]
    },
    {
     "name": "stdout",
     "output_type": "stream",
     "text": [
      "Duration of algorithm was 1.16sec\n",
      "Warning: n_edges is not exact due to gcastle implementation\n",
      "Duration of algorithm was 1.47sec\n"
     ]
    },
    {
     "name": "stderr",
     "output_type": "stream",
     "text": [
      "2023-11-10 17:16:19,625 - c:\\Users\\JanMarco\\MLProjects\\Masterthesis\\masterthesis\\mthesis\\lib\\site-packages\\castle\\datasets\\simulator.py[line:270] - INFO: Finished synthetic dataset\n"
     ]
    },
    {
     "name": "stdout",
     "output_type": "stream",
     "text": [
      "Duration of algorithm was 1.57sec\n",
      "Warning: n_edges is not exact due to gcastle implementation\n",
      "Duration of algorithm was 1.59sec\n"
     ]
    },
    {
     "name": "stderr",
     "output_type": "stream",
     "text": [
      "2023-11-10 17:16:25,098 - c:\\Users\\JanMarco\\MLProjects\\Masterthesis\\masterthesis\\mthesis\\lib\\site-packages\\castle\\datasets\\simulator.py[line:270] - INFO: Finished synthetic dataset\n"
     ]
    },
    {
     "name": "stdout",
     "output_type": "stream",
     "text": [
      "Duration of algorithm was 1.92sec\n",
      "Warning: n_edges is not exact due to gcastle implementation\n",
      "Duration of algorithm was 1.66sec\n"
     ]
    },
    {
     "name": "stderr",
     "output_type": "stream",
     "text": [
      "2023-11-10 17:16:30,858 - c:\\Users\\JanMarco\\MLProjects\\Masterthesis\\masterthesis\\mthesis\\lib\\site-packages\\castle\\datasets\\simulator.py[line:270] - INFO: Finished synthetic dataset\n"
     ]
    },
    {
     "name": "stdout",
     "output_type": "stream",
     "text": [
      "Duration of algorithm was 2.04sec\n",
      "Warning: n_edges is not exact due to gcastle implementation\n",
      "Duration of algorithm was 0.54sec\n"
     ]
    },
    {
     "name": "stderr",
     "output_type": "stream",
     "text": [
      "2023-11-10 17:16:32,682 - c:\\Users\\JanMarco\\MLProjects\\Masterthesis\\masterthesis\\mthesis\\lib\\site-packages\\castle\\datasets\\simulator.py[line:270] - INFO: Finished synthetic dataset\n"
     ]
    },
    {
     "name": "stdout",
     "output_type": "stream",
     "text": [
      "Duration of algorithm was 0.61sec\n",
      "Warning: n_edges is not exact due to gcastle implementation\n",
      "Duration of algorithm was 0.59sec\n"
     ]
    },
    {
     "name": "stderr",
     "output_type": "stream",
     "text": [
      "2023-11-10 17:16:34,722 - c:\\Users\\JanMarco\\MLProjects\\Masterthesis\\masterthesis\\mthesis\\lib\\site-packages\\castle\\datasets\\simulator.py[line:270] - INFO: Finished synthetic dataset\n"
     ]
    },
    {
     "name": "stdout",
     "output_type": "stream",
     "text": [
      "Duration of algorithm was 0.70sec\n",
      "Warning: n_edges is not exact due to gcastle implementation\n",
      "Duration of algorithm was 0.58sec\n"
     ]
    },
    {
     "name": "stderr",
     "output_type": "stream",
     "text": [
      "2023-11-10 17:16:36,973 - c:\\Users\\JanMarco\\MLProjects\\Masterthesis\\masterthesis\\mthesis\\lib\\site-packages\\castle\\datasets\\simulator.py[line:270] - INFO: Finished synthetic dataset\n"
     ]
    },
    {
     "name": "stdout",
     "output_type": "stream",
     "text": [
      "Duration of algorithm was 0.84sec\n",
      "Warning: n_edges is not exact due to gcastle implementation\n",
      "Duration of algorithm was 0.69sec\n"
     ]
    },
    {
     "name": "stderr",
     "output_type": "stream",
     "text": [
      "2023-11-10 17:16:39,544 - c:\\Users\\JanMarco\\MLProjects\\Masterthesis\\masterthesis\\mthesis\\lib\\site-packages\\castle\\datasets\\simulator.py[line:270] - INFO: Finished synthetic dataset\n"
     ]
    },
    {
     "name": "stdout",
     "output_type": "stream",
     "text": [
      "Duration of algorithm was 0.92sec\n",
      "Warning: n_edges is not exact due to gcastle implementation\n",
      "Duration of algorithm was 0.64sec\n"
     ]
    },
    {
     "name": "stderr",
     "output_type": "stream",
     "text": [
      "2023-11-10 17:16:41,583 - c:\\Users\\JanMarco\\MLProjects\\Masterthesis\\masterthesis\\mthesis\\lib\\site-packages\\castle\\datasets\\simulator.py[line:270] - INFO: Finished synthetic dataset\n"
     ]
    },
    {
     "name": "stdout",
     "output_type": "stream",
     "text": [
      "Duration of algorithm was 0.68sec\n",
      "Warning: n_edges is not exact due to gcastle implementation\n",
      "Duration of algorithm was 0.84sec\n"
     ]
    },
    {
     "name": "stderr",
     "output_type": "stream",
     "text": [
      "2023-11-10 17:16:44,645 - c:\\Users\\JanMarco\\MLProjects\\Masterthesis\\masterthesis\\mthesis\\lib\\site-packages\\castle\\datasets\\simulator.py[line:270] - INFO: Finished synthetic dataset\n"
     ]
    },
    {
     "name": "stdout",
     "output_type": "stream",
     "text": [
      "Duration of algorithm was 1.08sec\n",
      "Warning: n_edges is not exact due to gcastle implementation\n",
      "Duration of algorithm was 1.04sec\n"
     ]
    },
    {
     "name": "stderr",
     "output_type": "stream",
     "text": [
      "2023-11-10 17:16:48,031 - c:\\Users\\JanMarco\\MLProjects\\Masterthesis\\masterthesis\\mthesis\\lib\\site-packages\\castle\\datasets\\simulator.py[line:270] - INFO: Finished synthetic dataset\n"
     ]
    },
    {
     "name": "stdout",
     "output_type": "stream",
     "text": [
      "Duration of algorithm was 1.14sec\n",
      "Warning: n_edges is not exact due to gcastle implementation\n",
      "Duration of algorithm was 0.71sec\n"
     ]
    },
    {
     "name": "stderr",
     "output_type": "stream",
     "text": [
      "2023-11-10 17:16:50,821 - c:\\Users\\JanMarco\\MLProjects\\Masterthesis\\masterthesis\\mthesis\\lib\\site-packages\\castle\\datasets\\simulator.py[line:270] - INFO: Finished synthetic dataset\n"
     ]
    },
    {
     "name": "stdout",
     "output_type": "stream",
     "text": [
      "Duration of algorithm was 1.01sec\n",
      "Warning: n_edges is not exact due to gcastle implementation\n",
      "Duration of algorithm was 0.77sec\n"
     ]
    },
    {
     "name": "stderr",
     "output_type": "stream",
     "text": [
      "2023-11-10 17:16:53,549 - c:\\Users\\JanMarco\\MLProjects\\Masterthesis\\masterthesis\\mthesis\\lib\\site-packages\\castle\\datasets\\simulator.py[line:270] - INFO: Finished synthetic dataset\n"
     ]
    },
    {
     "name": "stdout",
     "output_type": "stream",
     "text": [
      "Duration of algorithm was 0.95sec\n",
      "Warning: n_edges is not exact due to gcastle implementation\n",
      "Duration of algorithm was 0.79sec\n"
     ]
    },
    {
     "name": "stderr",
     "output_type": "stream",
     "text": [
      "2023-11-10 17:16:56,443 - c:\\Users\\JanMarco\\MLProjects\\Masterthesis\\masterthesis\\mthesis\\lib\\site-packages\\castle\\datasets\\simulator.py[line:270] - INFO: Finished synthetic dataset\n"
     ]
    },
    {
     "name": "stdout",
     "output_type": "stream",
     "text": [
      "Duration of algorithm was 1.02sec\n",
      "Warning: n_edges is not exact due to gcastle implementation\n",
      "Duration of algorithm was 0.80sec\n"
     ]
    },
    {
     "name": "stderr",
     "output_type": "stream",
     "text": [
      "2023-11-10 17:16:59,495 - c:\\Users\\JanMarco\\MLProjects\\Masterthesis\\masterthesis\\mthesis\\lib\\site-packages\\castle\\datasets\\simulator.py[line:270] - INFO: Finished synthetic dataset\n"
     ]
    },
    {
     "name": "stdout",
     "output_type": "stream",
     "text": [
      "Duration of algorithm was 1.11sec\n",
      "Warning: n_edges is not exact due to gcastle implementation\n",
      "Duration of algorithm was 1.16sec\n"
     ]
    },
    {
     "name": "stderr",
     "output_type": "stream",
     "text": [
      "2023-11-10 17:17:03,496 - c:\\Users\\JanMarco\\MLProjects\\Masterthesis\\masterthesis\\mthesis\\lib\\site-packages\\castle\\datasets\\simulator.py[line:270] - INFO: Finished synthetic dataset\n"
     ]
    },
    {
     "name": "stdout",
     "output_type": "stream",
     "text": [
      "Duration of algorithm was 1.41sec\n",
      "Warning: n_edges is not exact due to gcastle implementation\n",
      "Duration of algorithm was 1.52sec\n"
     ]
    },
    {
     "name": "stderr",
     "output_type": "stream",
     "text": [
      "2023-11-10 17:17:08,781 - c:\\Users\\JanMarco\\MLProjects\\Masterthesis\\masterthesis\\mthesis\\lib\\site-packages\\castle\\datasets\\simulator.py[line:270] - INFO: Finished synthetic dataset\n"
     ]
    },
    {
     "name": "stdout",
     "output_type": "stream",
     "text": [
      "Duration of algorithm was 1.82sec\n",
      "Warning: n_edges is not exact due to gcastle implementation\n",
      "Duration of algorithm was 1.68sec\n"
     ]
    },
    {
     "name": "stderr",
     "output_type": "stream",
     "text": [
      "2023-11-10 17:17:14,547 - c:\\Users\\JanMarco\\MLProjects\\Masterthesis\\masterthesis\\mthesis\\lib\\site-packages\\castle\\datasets\\simulator.py[line:270] - INFO: Finished synthetic dataset\n"
     ]
    },
    {
     "name": "stdout",
     "output_type": "stream",
     "text": [
      "Duration of algorithm was 1.96sec\n",
      "Warning: n_edges is not exact due to gcastle implementation\n",
      "Duration of algorithm was 1.25sec\n"
     ]
    },
    {
     "name": "stderr",
     "output_type": "stream",
     "text": [
      "2023-11-10 17:17:19,671 - c:\\Users\\JanMarco\\MLProjects\\Masterthesis\\masterthesis\\mthesis\\lib\\site-packages\\castle\\datasets\\simulator.py[line:270] - INFO: Finished synthetic dataset\n"
     ]
    },
    {
     "name": "stdout",
     "output_type": "stream",
     "text": [
      "Duration of algorithm was 1.91sec\n",
      "Warning: n_edges is not exact due to gcastle implementation\n",
      "Duration of algorithm was 0.53sec\n"
     ]
    },
    {
     "name": "stderr",
     "output_type": "stream",
     "text": [
      "2023-11-10 17:17:21,599 - c:\\Users\\JanMarco\\MLProjects\\Masterthesis\\masterthesis\\mthesis\\lib\\site-packages\\castle\\datasets\\simulator.py[line:270] - INFO: Finished synthetic dataset\n"
     ]
    },
    {
     "name": "stdout",
     "output_type": "stream",
     "text": [
      "Duration of algorithm was 0.68sec\n",
      "Warning: n_edges is not exact due to gcastle implementation\n",
      "Duration of algorithm was 0.43sec\n"
     ]
    },
    {
     "name": "stderr",
     "output_type": "stream",
     "text": [
      "2023-11-10 17:17:23,426 - c:\\Users\\JanMarco\\MLProjects\\Masterthesis\\masterthesis\\mthesis\\lib\\site-packages\\castle\\datasets\\simulator.py[line:270] - INFO: Finished synthetic dataset\n"
     ]
    },
    {
     "name": "stdout",
     "output_type": "stream",
     "text": [
      "Duration of algorithm was 0.67sec\n",
      "Warning: n_edges is not exact due to gcastle implementation\n",
      "Duration of algorithm was 0.55sec\n"
     ]
    },
    {
     "name": "stderr",
     "output_type": "stream",
     "text": [
      "2023-11-10 17:17:25,446 - c:\\Users\\JanMarco\\MLProjects\\Masterthesis\\masterthesis\\mthesis\\lib\\site-packages\\castle\\datasets\\simulator.py[line:270] - INFO: Finished synthetic dataset\n"
     ]
    },
    {
     "name": "stdout",
     "output_type": "stream",
     "text": [
      "Duration of algorithm was 0.73sec\n",
      "Warning: n_edges is not exact due to gcastle implementation\n",
      "Duration of algorithm was 0.70sec\n"
     ]
    },
    {
     "name": "stderr",
     "output_type": "stream",
     "text": [
      "2023-11-10 17:17:27,956 - c:\\Users\\JanMarco\\MLProjects\\Masterthesis\\masterthesis\\mthesis\\lib\\site-packages\\castle\\datasets\\simulator.py[line:270] - INFO: Finished synthetic dataset\n"
     ]
    },
    {
     "name": "stdout",
     "output_type": "stream",
     "text": [
      "Duration of algorithm was 0.87sec\n",
      "Warning: n_edges is not exact due to gcastle implementation\n",
      "Duration of algorithm was 0.88sec\n"
     ]
    },
    {
     "name": "stderr",
     "output_type": "stream",
     "text": [
      "2023-11-10 17:17:31,112 - c:\\Users\\JanMarco\\MLProjects\\Masterthesis\\masterthesis\\mthesis\\lib\\site-packages\\castle\\datasets\\simulator.py[line:270] - INFO: Finished synthetic dataset\n"
     ]
    },
    {
     "name": "stdout",
     "output_type": "stream",
     "text": [
      "Duration of algorithm was 1.11sec\n",
      "Warning: n_edges is not exact due to gcastle implementation\n",
      "Duration of algorithm was 0.56sec\n"
     ]
    },
    {
     "name": "stderr",
     "output_type": "stream",
     "text": [
      "2023-11-10 17:17:33,185 - c:\\Users\\JanMarco\\MLProjects\\Masterthesis\\masterthesis\\mthesis\\lib\\site-packages\\castle\\datasets\\simulator.py[line:270] - INFO: Finished synthetic dataset\n"
     ]
    },
    {
     "name": "stdout",
     "output_type": "stream",
     "text": [
      "Duration of algorithm was 0.73sec\n",
      "Warning: n_edges is not exact due to gcastle implementation\n",
      "Duration of algorithm was 0.73sec\n"
     ]
    },
    {
     "name": "stderr",
     "output_type": "stream",
     "text": [
      "2023-11-10 17:17:35,979 - c:\\Users\\JanMarco\\MLProjects\\Masterthesis\\masterthesis\\mthesis\\lib\\site-packages\\castle\\datasets\\simulator.py[line:270] - INFO: Finished synthetic dataset\n"
     ]
    },
    {
     "name": "stdout",
     "output_type": "stream",
     "text": [
      "Duration of algorithm was 1.00sec\n",
      "Warning: n_edges is not exact due to gcastle implementation\n",
      "Duration of algorithm was 0.79sec\n"
     ]
    },
    {
     "name": "stderr",
     "output_type": "stream",
     "text": [
      "2023-11-10 17:17:38,856 - c:\\Users\\JanMarco\\MLProjects\\Masterthesis\\masterthesis\\mthesis\\lib\\site-packages\\castle\\datasets\\simulator.py[line:270] - INFO: Finished synthetic dataset\n"
     ]
    },
    {
     "name": "stdout",
     "output_type": "stream",
     "text": [
      "Duration of algorithm was 1.05sec\n",
      "Warning: n_edges is not exact due to gcastle implementation\n",
      "Duration of algorithm was 0.87sec\n"
     ]
    },
    {
     "name": "stderr",
     "output_type": "stream",
     "text": [
      "2023-11-10 17:17:42,072 - c:\\Users\\JanMarco\\MLProjects\\Masterthesis\\masterthesis\\mthesis\\lib\\site-packages\\castle\\datasets\\simulator.py[line:270] - INFO: Finished synthetic dataset\n"
     ]
    },
    {
     "name": "stdout",
     "output_type": "stream",
     "text": [
      "Duration of algorithm was 1.17sec\n",
      "Warning: n_edges is not exact due to gcastle implementation\n",
      "Duration of algorithm was 0.88sec\n"
     ]
    },
    {
     "name": "stderr",
     "output_type": "stream",
     "text": [
      "2023-11-10 17:17:45,372 - c:\\Users\\JanMarco\\MLProjects\\Masterthesis\\masterthesis\\mthesis\\lib\\site-packages\\castle\\datasets\\simulator.py[line:270] - INFO: Finished synthetic dataset\n"
     ]
    },
    {
     "name": "stdout",
     "output_type": "stream",
     "text": [
      "Duration of algorithm was 1.20sec\n",
      "Warning: n_edges is not exact due to gcastle implementation\n",
      "Duration of algorithm was 1.01sec\n"
     ]
    },
    {
     "name": "stderr",
     "output_type": "stream",
     "text": [
      "2023-11-10 17:17:49,147 - c:\\Users\\JanMarco\\MLProjects\\Masterthesis\\masterthesis\\mthesis\\lib\\site-packages\\castle\\datasets\\simulator.py[line:270] - INFO: Finished synthetic dataset\n"
     ]
    },
    {
     "name": "stdout",
     "output_type": "stream",
     "text": [
      "Duration of algorithm was 1.36sec\n",
      "Warning: n_edges is not exact due to gcastle implementation\n",
      "Duration of algorithm was 0.82sec\n"
     ]
    },
    {
     "name": "stderr",
     "output_type": "stream",
     "text": [
      "2023-11-10 17:17:51,600 - c:\\Users\\JanMarco\\MLProjects\\Masterthesis\\masterthesis\\mthesis\\lib\\site-packages\\castle\\datasets\\simulator.py[line:270] - INFO: Finished synthetic dataset\n"
     ]
    },
    {
     "name": "stdout",
     "output_type": "stream",
     "text": [
      "Duration of algorithm was 0.79sec\n",
      "Warning: n_edges is not exact due to gcastle implementation\n",
      "Duration of algorithm was 1.47sec\n"
     ]
    },
    {
     "name": "stderr",
     "output_type": "stream",
     "text": [
      "2023-11-10 17:17:56,537 - c:\\Users\\JanMarco\\MLProjects\\Masterthesis\\masterthesis\\mthesis\\lib\\site-packages\\castle\\datasets\\simulator.py[line:270] - INFO: Finished synthetic dataset\n"
     ]
    },
    {
     "name": "stdout",
     "output_type": "stream",
     "text": [
      "Duration of algorithm was 1.67sec\n",
      "Warning: n_edges is not exact due to gcastle implementation\n",
      "Duration of algorithm was 1.22sec\n"
     ]
    },
    {
     "name": "stderr",
     "output_type": "stream",
     "text": [
      "2023-11-10 17:18:01,059 - c:\\Users\\JanMarco\\MLProjects\\Masterthesis\\masterthesis\\mthesis\\lib\\site-packages\\castle\\datasets\\simulator.py[line:270] - INFO: Finished synthetic dataset\n"
     ]
    },
    {
     "name": "stdout",
     "output_type": "stream",
     "text": [
      "Duration of algorithm was 1.64sec\n",
      "Warning: n_edges is not exact due to gcastle implementation\n",
      "Duration of algorithm was 1.18sec\n"
     ]
    },
    {
     "name": "stderr",
     "output_type": "stream",
     "text": [
      "2023-11-10 17:18:05,720 - c:\\Users\\JanMarco\\MLProjects\\Masterthesis\\masterthesis\\mthesis\\lib\\site-packages\\castle\\datasets\\simulator.py[line:270] - INFO: Finished synthetic dataset\n"
     ]
    },
    {
     "name": "stdout",
     "output_type": "stream",
     "text": [
      "Duration of algorithm was 1.72sec\n",
      "Warning: n_edges is not exact due to gcastle implementation\n",
      "Duration of algorithm was 0.53sec\n"
     ]
    },
    {
     "name": "stderr",
     "output_type": "stream",
     "text": [
      "2023-11-10 17:18:07,595 - c:\\Users\\JanMarco\\MLProjects\\Masterthesis\\masterthesis\\mthesis\\lib\\site-packages\\castle\\datasets\\simulator.py[line:270] - INFO: Finished synthetic dataset\n"
     ]
    },
    {
     "name": "stdout",
     "output_type": "stream",
     "text": [
      "Duration of algorithm was 0.65sec\n",
      "Warning: n_edges is not exact due to gcastle implementation\n",
      "Duration of algorithm was 0.69sec\n"
     ]
    },
    {
     "name": "stderr",
     "output_type": "stream",
     "text": [
      "2023-11-10 17:18:09,832 - c:\\Users\\JanMarco\\MLProjects\\Masterthesis\\masterthesis\\mthesis\\lib\\site-packages\\castle\\datasets\\simulator.py[line:270] - INFO: Finished synthetic dataset\n"
     ]
    },
    {
     "name": "stdout",
     "output_type": "stream",
     "text": [
      "Duration of algorithm was 0.75sec\n",
      "Warning: n_edges is not exact due to gcastle implementation\n",
      "Duration of algorithm was 0.43sec\n"
     ]
    },
    {
     "name": "stderr",
     "output_type": "stream",
     "text": [
      "2023-11-10 17:18:11,587 - c:\\Users\\JanMarco\\MLProjects\\Masterthesis\\masterthesis\\mthesis\\lib\\site-packages\\castle\\datasets\\simulator.py[line:270] - INFO: Finished synthetic dataset\n"
     ]
    },
    {
     "name": "stdout",
     "output_type": "stream",
     "text": [
      "Duration of algorithm was 0.64sec\n",
      "Warning: n_edges is not exact due to gcastle implementation\n",
      "Duration of algorithm was 0.69sec\n"
     ]
    },
    {
     "name": "stderr",
     "output_type": "stream",
     "text": [
      "2023-11-10 17:18:14,320 - c:\\Users\\JanMarco\\MLProjects\\Masterthesis\\masterthesis\\mthesis\\lib\\site-packages\\castle\\datasets\\simulator.py[line:270] - INFO: Finished synthetic dataset\n"
     ]
    },
    {
     "name": "stdout",
     "output_type": "stream",
     "text": [
      "Duration of algorithm was 1.00sec\n",
      "Warning: n_edges is not exact due to gcastle implementation\n",
      "Duration of algorithm was 0.64sec\n"
     ]
    },
    {
     "name": "stderr",
     "output_type": "stream",
     "text": [
      "2023-11-10 17:18:16,652 - c:\\Users\\JanMarco\\MLProjects\\Masterthesis\\masterthesis\\mthesis\\lib\\site-packages\\castle\\datasets\\simulator.py[line:270] - INFO: Finished synthetic dataset\n"
     ]
    },
    {
     "name": "stdout",
     "output_type": "stream",
     "text": [
      "Duration of algorithm was 0.82sec\n",
      "Warning: n_edges is not exact due to gcastle implementation\n",
      "Duration of algorithm was 1.02sec\n"
     ]
    },
    {
     "name": "stderr",
     "output_type": "stream",
     "text": [
      "2023-11-10 17:18:18,887 - c:\\Users\\JanMarco\\MLProjects\\Masterthesis\\masterthesis\\mthesis\\lib\\site-packages\\castle\\datasets\\simulator.py[line:270] - INFO: Finished synthetic dataset\n"
     ]
    },
    {
     "name": "stdout",
     "output_type": "stream",
     "text": [
      "Duration of algorithm was 0.58sec\n",
      "Warning: n_edges is not exact due to gcastle implementation\n",
      "Duration of algorithm was 0.60sec\n"
     ]
    },
    {
     "name": "stderr",
     "output_type": "stream",
     "text": [
      "2023-11-10 17:18:21,493 - c:\\Users\\JanMarco\\MLProjects\\Masterthesis\\masterthesis\\mthesis\\lib\\site-packages\\castle\\datasets\\simulator.py[line:270] - INFO: Finished synthetic dataset\n"
     ]
    },
    {
     "name": "stdout",
     "output_type": "stream",
     "text": [
      "Duration of algorithm was 0.99sec\n",
      "Warning: n_edges is not exact due to gcastle implementation\n",
      "Duration of algorithm was 0.77sec\n"
     ]
    },
    {
     "name": "stderr",
     "output_type": "stream",
     "text": [
      "2023-11-10 17:18:24,266 - c:\\Users\\JanMarco\\MLProjects\\Masterthesis\\masterthesis\\mthesis\\lib\\site-packages\\castle\\datasets\\simulator.py[line:270] - INFO: Finished synthetic dataset\n"
     ]
    },
    {
     "name": "stdout",
     "output_type": "stream",
     "text": [
      "Duration of algorithm was 0.98sec\n",
      "Warning: n_edges is not exact due to gcastle implementation\n",
      "Duration of algorithm was 0.87sec\n"
     ]
    },
    {
     "name": "stderr",
     "output_type": "stream",
     "text": [
      "2023-11-10 17:18:27,154 - c:\\Users\\JanMarco\\MLProjects\\Masterthesis\\masterthesis\\mthesis\\lib\\site-packages\\castle\\datasets\\simulator.py[line:270] - INFO: Finished synthetic dataset\n"
     ]
    },
    {
     "name": "stdout",
     "output_type": "stream",
     "text": [
      "Duration of algorithm was 0.98sec\n",
      "Warning: n_edges is not exact due to gcastle implementation\n",
      "Duration of algorithm was 0.64sec\n"
     ]
    },
    {
     "name": "stderr",
     "output_type": "stream",
     "text": [
      "2023-11-10 17:18:30,698 - c:\\Users\\JanMarco\\MLProjects\\Masterthesis\\masterthesis\\mthesis\\lib\\site-packages\\castle\\datasets\\simulator.py[line:270] - INFO: Finished synthetic dataset\n"
     ]
    },
    {
     "name": "stdout",
     "output_type": "stream",
     "text": [
      "Duration of algorithm was 1.42sec\n",
      "Warning: n_edges is not exact due to gcastle implementation\n",
      "Duration of algorithm was 0.70sec\n"
     ]
    },
    {
     "name": "stderr",
     "output_type": "stream",
     "text": [
      "2023-11-10 17:18:34,250 - c:\\Users\\JanMarco\\MLProjects\\Masterthesis\\masterthesis\\mthesis\\lib\\site-packages\\castle\\datasets\\simulator.py[line:270] - INFO: Finished synthetic dataset\n"
     ]
    },
    {
     "name": "stdout",
     "output_type": "stream",
     "text": [
      "Duration of algorithm was 1.45sec\n",
      "Warning: n_edges is not exact due to gcastle implementation\n",
      "Duration of algorithm was 0.97sec\n"
     ]
    },
    {
     "name": "stderr",
     "output_type": "stream",
     "text": [
      "2023-11-10 17:18:37,625 - c:\\Users\\JanMarco\\MLProjects\\Masterthesis\\masterthesis\\mthesis\\lib\\site-packages\\castle\\datasets\\simulator.py[line:270] - INFO: Finished synthetic dataset\n"
     ]
    },
    {
     "name": "stdout",
     "output_type": "stream",
     "text": [
      "Duration of algorithm was 1.18sec\n",
      "Warning: n_edges is not exact due to gcastle implementation\n",
      "Duration of algorithm was 1.26sec\n"
     ]
    },
    {
     "name": "stderr",
     "output_type": "stream",
     "text": [
      "2023-11-10 17:18:42,108 - c:\\Users\\JanMarco\\MLProjects\\Masterthesis\\masterthesis\\mthesis\\lib\\site-packages\\castle\\datasets\\simulator.py[line:270] - INFO: Finished synthetic dataset\n"
     ]
    },
    {
     "name": "stdout",
     "output_type": "stream",
     "text": [
      "Duration of algorithm was 1.55sec\n",
      "Warning: n_edges is not exact due to gcastle implementation\n",
      "Duration of algorithm was 1.16sec\n"
     ]
    },
    {
     "name": "stderr",
     "output_type": "stream",
     "text": [
      "2023-11-10 17:18:46,768 - c:\\Users\\JanMarco\\MLProjects\\Masterthesis\\masterthesis\\mthesis\\lib\\site-packages\\castle\\datasets\\simulator.py[line:270] - INFO: Finished synthetic dataset\n"
     ]
    },
    {
     "name": "stdout",
     "output_type": "stream",
     "text": [
      "Duration of algorithm was 1.70sec\n",
      "Warning: n_edges is not exact due to gcastle implementation\n",
      "Duration of algorithm was 1.32sec\n"
     ]
    },
    {
     "name": "stderr",
     "output_type": "stream",
     "text": [
      "2023-11-10 17:18:50,842 - c:\\Users\\JanMarco\\MLProjects\\Masterthesis\\masterthesis\\mthesis\\lib\\site-packages\\castle\\datasets\\simulator.py[line:270] - INFO: Finished synthetic dataset\n"
     ]
    },
    {
     "name": "stdout",
     "output_type": "stream",
     "text": [
      "Duration of algorithm was 1.33sec\n",
      "Warning: n_edges is not exact due to gcastle implementation\n",
      "Duration of algorithm was 0.50sec\n"
     ]
    },
    {
     "name": "stderr",
     "output_type": "stream",
     "text": [
      "2023-11-10 17:18:52,306 - c:\\Users\\JanMarco\\MLProjects\\Masterthesis\\masterthesis\\mthesis\\lib\\site-packages\\castle\\datasets\\simulator.py[line:270] - INFO: Finished synthetic dataset\n"
     ]
    },
    {
     "name": "stdout",
     "output_type": "stream",
     "text": [
      "Duration of algorithm was 0.46sec\n",
      "Warning: n_edges is not exact due to gcastle implementation\n",
      "Duration of algorithm was 0.20sec\n"
     ]
    },
    {
     "name": "stderr",
     "output_type": "stream",
     "text": [
      "2023-11-10 17:18:52,951 - c:\\Users\\JanMarco\\MLProjects\\Masterthesis\\masterthesis\\mthesis\\lib\\site-packages\\castle\\datasets\\simulator.py[line:270] - INFO: Finished synthetic dataset\n"
     ]
    },
    {
     "name": "stdout",
     "output_type": "stream",
     "text": [
      "Duration of algorithm was 0.21sec\n",
      "Warning: n_edges is not exact due to gcastle implementation\n",
      "Duration of algorithm was 0.24sec\n"
     ]
    },
    {
     "name": "stderr",
     "output_type": "stream",
     "text": [
      "2023-11-10 17:18:53,706 - c:\\Users\\JanMarco\\MLProjects\\Masterthesis\\masterthesis\\mthesis\\lib\\site-packages\\castle\\datasets\\simulator.py[line:270] - INFO: Finished synthetic dataset\n"
     ]
    },
    {
     "name": "stdout",
     "output_type": "stream",
     "text": [
      "Duration of algorithm was 0.23sec\n",
      "Warning: n_edges is not exact due to gcastle implementation\n",
      "Duration of algorithm was 0.82sec\n"
     ]
    },
    {
     "name": "stderr",
     "output_type": "stream",
     "text": [
      "2023-11-10 17:18:56,196 - c:\\Users\\JanMarco\\MLProjects\\Masterthesis\\masterthesis\\mthesis\\lib\\site-packages\\castle\\datasets\\simulator.py[line:270] - INFO: Finished synthetic dataset\n"
     ]
    },
    {
     "name": "stdout",
     "output_type": "stream",
     "text": [
      "Duration of algorithm was 0.84sec\n",
      "Warning: n_edges is not exact due to gcastle implementation\n",
      "Duration of algorithm was 0.23sec\n"
     ]
    },
    {
     "name": "stderr",
     "output_type": "stream",
     "text": [
      "2023-11-10 17:18:56,926 - c:\\Users\\JanMarco\\MLProjects\\Masterthesis\\masterthesis\\mthesis\\lib\\site-packages\\castle\\datasets\\simulator.py[line:270] - INFO: Finished synthetic dataset\n"
     ]
    },
    {
     "name": "stdout",
     "output_type": "stream",
     "text": [
      "Duration of algorithm was 0.22sec\n",
      "Warning: n_edges is not exact due to gcastle implementation\n",
      "Duration of algorithm was 0.41sec\n"
     ]
    },
    {
     "name": "stderr",
     "output_type": "stream",
     "text": [
      "2023-11-10 17:18:58,194 - c:\\Users\\JanMarco\\MLProjects\\Masterthesis\\masterthesis\\mthesis\\lib\\site-packages\\castle\\datasets\\simulator.py[line:270] - INFO: Finished synthetic dataset\n"
     ]
    },
    {
     "name": "stdout",
     "output_type": "stream",
     "text": [
      "Duration of algorithm was 0.42sec\n",
      "Warning: n_edges is not exact due to gcastle implementation\n",
      "Duration of algorithm was 0.18sec\n"
     ]
    },
    {
     "name": "stderr",
     "output_type": "stream",
     "text": [
      "2023-11-10 17:18:58,788 - c:\\Users\\JanMarco\\MLProjects\\Masterthesis\\masterthesis\\mthesis\\lib\\site-packages\\castle\\datasets\\simulator.py[line:270] - INFO: Finished synthetic dataset\n"
     ]
    },
    {
     "name": "stdout",
     "output_type": "stream",
     "text": [
      "Duration of algorithm was 0.18sec\n",
      "Warning: n_edges is not exact due to gcastle implementation\n",
      "Duration of algorithm was 0.84sec\n"
     ]
    },
    {
     "name": "stderr",
     "output_type": "stream",
     "text": [
      "2023-11-10 17:19:01,299 - c:\\Users\\JanMarco\\MLProjects\\Masterthesis\\masterthesis\\mthesis\\lib\\site-packages\\castle\\datasets\\simulator.py[line:270] - INFO: Finished synthetic dataset\n"
     ]
    },
    {
     "name": "stdout",
     "output_type": "stream",
     "text": [
      "Duration of algorithm was 0.81sec\n",
      "Warning: n_edges is not exact due to gcastle implementation\n",
      "Duration of algorithm was 0.20sec\n"
     ]
    },
    {
     "name": "stderr",
     "output_type": "stream",
     "text": [
      "2023-11-10 17:19:01,959 - c:\\Users\\JanMarco\\MLProjects\\Masterthesis\\masterthesis\\mthesis\\lib\\site-packages\\castle\\datasets\\simulator.py[line:270] - INFO: Finished synthetic dataset\n"
     ]
    },
    {
     "name": "stdout",
     "output_type": "stream",
     "text": [
      "Duration of algorithm was 0.20sec\n",
      "Warning: n_edges is not exact due to gcastle implementation\n",
      "Duration of algorithm was 0.57sec\n"
     ]
    },
    {
     "name": "stderr",
     "output_type": "stream",
     "text": [
      "2023-11-10 17:19:03,652 - c:\\Users\\JanMarco\\MLProjects\\Masterthesis\\masterthesis\\mthesis\\lib\\site-packages\\castle\\datasets\\simulator.py[line:270] - INFO: Finished synthetic dataset\n"
     ]
    },
    {
     "name": "stdout",
     "output_type": "stream",
     "text": [
      "Duration of algorithm was 0.54sec\n",
      "Warning: n_edges is not exact due to gcastle implementation\n",
      "Duration of algorithm was 0.92sec\n"
     ]
    },
    {
     "name": "stderr",
     "output_type": "stream",
     "text": [
      "2023-11-10 17:19:06,381 - c:\\Users\\JanMarco\\MLProjects\\Masterthesis\\masterthesis\\mthesis\\lib\\site-packages\\castle\\datasets\\simulator.py[line:270] - INFO: Finished synthetic dataset\n"
     ]
    },
    {
     "name": "stdout",
     "output_type": "stream",
     "text": [
      "Duration of algorithm was 0.87sec\n",
      "Warning: n_edges is not exact due to gcastle implementation\n",
      "Duration of algorithm was 1.06sec\n"
     ]
    },
    {
     "name": "stderr",
     "output_type": "stream",
     "text": [
      "2023-11-10 17:19:09,426 - c:\\Users\\JanMarco\\MLProjects\\Masterthesis\\masterthesis\\mthesis\\lib\\site-packages\\castle\\datasets\\simulator.py[line:270] - INFO: Finished synthetic dataset\n"
     ]
    },
    {
     "name": "stdout",
     "output_type": "stream",
     "text": [
      "Duration of algorithm was 0.98sec\n",
      "Warning: n_edges is not exact due to gcastle implementation\n",
      "Duration of algorithm was 1.15sec\n"
     ]
    },
    {
     "name": "stderr",
     "output_type": "stream",
     "text": [
      "2023-11-10 17:19:12,869 - c:\\Users\\JanMarco\\MLProjects\\Masterthesis\\masterthesis\\mthesis\\lib\\site-packages\\castle\\datasets\\simulator.py[line:270] - INFO: Finished synthetic dataset\n"
     ]
    },
    {
     "name": "stdout",
     "output_type": "stream",
     "text": [
      "Duration of algorithm was 1.12sec\n",
      "Warning: n_edges is not exact due to gcastle implementation\n",
      "Duration of algorithm was 0.53sec\n"
     ]
    },
    {
     "name": "stderr",
     "output_type": "stream",
     "text": [
      "2023-11-10 17:19:14,464 - c:\\Users\\JanMarco\\MLProjects\\Masterthesis\\masterthesis\\mthesis\\lib\\site-packages\\castle\\datasets\\simulator.py[line:270] - INFO: Finished synthetic dataset\n"
     ]
    },
    {
     "name": "stdout",
     "output_type": "stream",
     "text": [
      "Duration of algorithm was 0.52sec\n",
      "Warning: n_edges is not exact due to gcastle implementation\n",
      "Duration of algorithm was 0.67sec\n"
     ]
    },
    {
     "name": "stderr",
     "output_type": "stream",
     "text": [
      "2023-11-10 17:19:16,467 - c:\\Users\\JanMarco\\MLProjects\\Masterthesis\\masterthesis\\mthesis\\lib\\site-packages\\castle\\datasets\\simulator.py[line:270] - INFO: Finished synthetic dataset\n"
     ]
    },
    {
     "name": "stdout",
     "output_type": "stream",
     "text": [
      "Duration of algorithm was 0.65sec\n",
      "Warning: n_edges is not exact due to gcastle implementation\n",
      "Duration of algorithm was 0.21sec\n"
     ]
    },
    {
     "name": "stderr",
     "output_type": "stream",
     "text": [
      "2023-11-10 17:19:17,182 - c:\\Users\\JanMarco\\MLProjects\\Masterthesis\\masterthesis\\mthesis\\lib\\site-packages\\castle\\datasets\\simulator.py[line:270] - INFO: Finished synthetic dataset\n"
     ]
    },
    {
     "name": "stdout",
     "output_type": "stream",
     "text": [
      "Duration of algorithm was 0.25sec\n",
      "Warning: n_edges is not exact due to gcastle implementation\n",
      "Duration of algorithm was 0.33sec\n"
     ]
    },
    {
     "name": "stderr",
     "output_type": "stream",
     "text": [
      "2023-11-10 17:19:18,333 - c:\\Users\\JanMarco\\MLProjects\\Masterthesis\\masterthesis\\mthesis\\lib\\site-packages\\castle\\datasets\\simulator.py[line:270] - INFO: Finished synthetic dataset\n"
     ]
    },
    {
     "name": "stdout",
     "output_type": "stream",
     "text": [
      "Duration of algorithm was 0.39sec\n",
      "Warning: n_edges is not exact due to gcastle implementation\n",
      "Duration of algorithm was 0.41sec\n"
     ]
    },
    {
     "name": "stderr",
     "output_type": "stream",
     "text": [
      "2023-11-10 17:19:19,618 - c:\\Users\\JanMarco\\MLProjects\\Masterthesis\\masterthesis\\mthesis\\lib\\site-packages\\castle\\datasets\\simulator.py[line:270] - INFO: Finished synthetic dataset\n"
     ]
    },
    {
     "name": "stdout",
     "output_type": "stream",
     "text": [
      "Duration of algorithm was 0.43sec\n",
      "Warning: n_edges is not exact due to gcastle implementation\n",
      "Duration of algorithm was 0.44sec\n"
     ]
    },
    {
     "name": "stderr",
     "output_type": "stream",
     "text": [
      "2023-11-10 17:19:20,950 - c:\\Users\\JanMarco\\MLProjects\\Masterthesis\\masterthesis\\mthesis\\lib\\site-packages\\castle\\datasets\\simulator.py[line:270] - INFO: Finished synthetic dataset\n"
     ]
    },
    {
     "name": "stdout",
     "output_type": "stream",
     "text": [
      "Duration of algorithm was 0.44sec\n",
      "Warning: n_edges is not exact due to gcastle implementation\n",
      "Duration of algorithm was 0.27sec\n"
     ]
    },
    {
     "name": "stderr",
     "output_type": "stream",
     "text": [
      "2023-11-10 17:19:21,876 - c:\\Users\\JanMarco\\MLProjects\\Masterthesis\\masterthesis\\mthesis\\lib\\site-packages\\castle\\datasets\\simulator.py[line:270] - INFO: Finished synthetic dataset\n"
     ]
    },
    {
     "name": "stdout",
     "output_type": "stream",
     "text": [
      "Duration of algorithm was 0.31sec\n",
      "Warning: n_edges is not exact due to gcastle implementation\n",
      "Duration of algorithm was 0.39sec\n"
     ]
    },
    {
     "name": "stderr",
     "output_type": "stream",
     "text": [
      "2023-11-10 17:19:23,076 - c:\\Users\\JanMarco\\MLProjects\\Masterthesis\\masterthesis\\mthesis\\lib\\site-packages\\castle\\datasets\\simulator.py[line:270] - INFO: Finished synthetic dataset\n"
     ]
    },
    {
     "name": "stdout",
     "output_type": "stream",
     "text": [
      "Duration of algorithm was 0.39sec\n",
      "Warning: n_edges is not exact due to gcastle implementation\n",
      "Duration of algorithm was 0.85sec\n"
     ]
    },
    {
     "name": "stderr",
     "output_type": "stream",
     "text": [
      "2023-11-10 17:19:25,628 - c:\\Users\\JanMarco\\MLProjects\\Masterthesis\\masterthesis\\mthesis\\lib\\site-packages\\castle\\datasets\\simulator.py[line:270] - INFO: Finished synthetic dataset\n"
     ]
    },
    {
     "name": "stdout",
     "output_type": "stream",
     "text": [
      "Duration of algorithm was 0.82sec\n",
      "Warning: n_edges is not exact due to gcastle implementation\n",
      "Duration of algorithm was 0.37sec\n"
     ]
    },
    {
     "name": "stderr",
     "output_type": "stream",
     "text": [
      "2023-11-10 17:19:26,768 - c:\\Users\\JanMarco\\MLProjects\\Masterthesis\\masterthesis\\mthesis\\lib\\site-packages\\castle\\datasets\\simulator.py[line:270] - INFO: Finished synthetic dataset\n"
     ]
    },
    {
     "name": "stdout",
     "output_type": "stream",
     "text": [
      "Duration of algorithm was 0.37sec\n",
      "Warning: n_edges is not exact due to gcastle implementation\n",
      "Duration of algorithm was 0.43sec\n"
     ]
    },
    {
     "name": "stderr",
     "output_type": "stream",
     "text": [
      "2023-11-10 17:19:28,068 - c:\\Users\\JanMarco\\MLProjects\\Masterthesis\\masterthesis\\mthesis\\lib\\site-packages\\castle\\datasets\\simulator.py[line:270] - INFO: Finished synthetic dataset\n"
     ]
    },
    {
     "name": "stdout",
     "output_type": "stream",
     "text": [
      "Duration of algorithm was 0.41sec\n",
      "Warning: n_edges is not exact due to gcastle implementation\n",
      "Duration of algorithm was 0.50sec\n"
     ]
    },
    {
     "name": "stderr",
     "output_type": "stream",
     "text": [
      "2023-11-10 17:19:29,780 - c:\\Users\\JanMarco\\MLProjects\\Masterthesis\\masterthesis\\mthesis\\lib\\site-packages\\castle\\datasets\\simulator.py[line:270] - INFO: Finished synthetic dataset\n"
     ]
    },
    {
     "name": "stdout",
     "output_type": "stream",
     "text": [
      "Duration of algorithm was 0.59sec\n",
      "Warning: n_edges is not exact due to gcastle implementation\n",
      "Duration of algorithm was 0.39sec\n"
     ]
    },
    {
     "name": "stderr",
     "output_type": "stream",
     "text": [
      "2023-11-10 17:19:31,046 - c:\\Users\\JanMarco\\MLProjects\\Masterthesis\\masterthesis\\mthesis\\lib\\site-packages\\castle\\datasets\\simulator.py[line:270] - INFO: Finished synthetic dataset\n"
     ]
    },
    {
     "name": "stdout",
     "output_type": "stream",
     "text": [
      "Duration of algorithm was 0.42sec\n",
      "Warning: n_edges is not exact due to gcastle implementation\n",
      "Duration of algorithm was 0.55sec\n"
     ]
    },
    {
     "name": "stderr",
     "output_type": "stream",
     "text": [
      "2023-11-10 17:19:32,777 - c:\\Users\\JanMarco\\MLProjects\\Masterthesis\\masterthesis\\mthesis\\lib\\site-packages\\castle\\datasets\\simulator.py[line:270] - INFO: Finished synthetic dataset\n"
     ]
    },
    {
     "name": "stdout",
     "output_type": "stream",
     "text": [
      "Duration of algorithm was 0.57sec\n",
      "Warning: n_edges is not exact due to gcastle implementation\n",
      "Duration of algorithm was 0.72sec\n"
     ]
    },
    {
     "name": "stderr",
     "output_type": "stream",
     "text": [
      "2023-11-10 17:19:35,319 - c:\\Users\\JanMarco\\MLProjects\\Masterthesis\\masterthesis\\mthesis\\lib\\site-packages\\castle\\datasets\\simulator.py[line:270] - INFO: Finished synthetic dataset\n"
     ]
    },
    {
     "name": "stdout",
     "output_type": "stream",
     "text": [
      "Duration of algorithm was 0.89sec\n",
      "Warning: n_edges is not exact due to gcastle implementation\n",
      "Duration of algorithm was 1.08sec\n"
     ]
    },
    {
     "name": "stderr",
     "output_type": "stream",
     "text": [
      "2023-11-10 17:19:38,897 - c:\\Users\\JanMarco\\MLProjects\\Masterthesis\\masterthesis\\mthesis\\lib\\site-packages\\castle\\datasets\\simulator.py[line:270] - INFO: Finished synthetic dataset\n"
     ]
    },
    {
     "name": "stdout",
     "output_type": "stream",
     "text": [
      "Duration of algorithm was 1.24sec\n",
      "Warning: n_edges is not exact due to gcastle implementation\n",
      "Duration of algorithm was 0.66sec\n"
     ]
    },
    {
     "name": "stderr",
     "output_type": "stream",
     "text": [
      "2023-11-10 17:19:41,144 - c:\\Users\\JanMarco\\MLProjects\\Masterthesis\\masterthesis\\mthesis\\lib\\site-packages\\castle\\datasets\\simulator.py[line:270] - INFO: Finished synthetic dataset\n"
     ]
    },
    {
     "name": "stdout",
     "output_type": "stream",
     "text": [
      "Duration of algorithm was 0.77sec\n",
      "Warning: n_edges is not exact due to gcastle implementation\n",
      "Duration of algorithm was 0.18sec\n"
     ]
    },
    {
     "name": "stderr",
     "output_type": "stream",
     "text": [
      "2023-11-10 17:19:41,795 - c:\\Users\\JanMarco\\MLProjects\\Masterthesis\\masterthesis\\mthesis\\lib\\site-packages\\castle\\datasets\\simulator.py[line:270] - INFO: Finished synthetic dataset\n"
     ]
    },
    {
     "name": "stdout",
     "output_type": "stream",
     "text": [
      "Duration of algorithm was 0.22sec\n",
      "Warning: n_edges is not exact due to gcastle implementation\n",
      "Duration of algorithm was 0.27sec\n"
     ]
    },
    {
     "name": "stderr",
     "output_type": "stream",
     "text": [
      "2023-11-10 17:19:42,747 - c:\\Users\\JanMarco\\MLProjects\\Masterthesis\\masterthesis\\mthesis\\lib\\site-packages\\castle\\datasets\\simulator.py[line:270] - INFO: Finished synthetic dataset\n"
     ]
    },
    {
     "name": "stdout",
     "output_type": "stream",
     "text": [
      "Duration of algorithm was 0.33sec\n",
      "Warning: n_edges is not exact due to gcastle implementation\n",
      "Duration of algorithm was 0.30sec\n"
     ]
    },
    {
     "name": "stderr",
     "output_type": "stream",
     "text": [
      "2023-11-10 17:19:43,812 - c:\\Users\\JanMarco\\MLProjects\\Masterthesis\\masterthesis\\mthesis\\lib\\site-packages\\castle\\datasets\\simulator.py[line:270] - INFO: Finished synthetic dataset\n"
     ]
    },
    {
     "name": "stdout",
     "output_type": "stream",
     "text": [
      "Duration of algorithm was 0.37sec\n",
      "Warning: n_edges is not exact due to gcastle implementation\n",
      "Duration of algorithm was 0.35sec\n"
     ]
    },
    {
     "name": "stderr",
     "output_type": "stream",
     "text": [
      "2023-11-10 17:19:44,974 - c:\\Users\\JanMarco\\MLProjects\\Masterthesis\\masterthesis\\mthesis\\lib\\site-packages\\castle\\datasets\\simulator.py[line:270] - INFO: Finished synthetic dataset\n"
     ]
    },
    {
     "name": "stdout",
     "output_type": "stream",
     "text": [
      "Duration of algorithm was 0.40sec\n",
      "Warning: n_edges is not exact due to gcastle implementation\n",
      "Duration of algorithm was 0.40sec\n"
     ]
    },
    {
     "name": "stderr",
     "output_type": "stream",
     "text": [
      "2023-11-10 17:19:46,430 - c:\\Users\\JanMarco\\MLProjects\\Masterthesis\\masterthesis\\mthesis\\lib\\site-packages\\castle\\datasets\\simulator.py[line:270] - INFO: Finished synthetic dataset\n"
     ]
    },
    {
     "name": "stdout",
     "output_type": "stream",
     "text": [
      "Duration of algorithm was 0.51sec\n",
      "Warning: n_edges is not exact due to gcastle implementation\n",
      "Duration of algorithm was 0.29sec\n"
     ]
    },
    {
     "name": "stderr",
     "output_type": "stream",
     "text": [
      "2023-11-10 17:19:47,365 - c:\\Users\\JanMarco\\MLProjects\\Masterthesis\\masterthesis\\mthesis\\lib\\site-packages\\castle\\datasets\\simulator.py[line:270] - INFO: Finished synthetic dataset\n"
     ]
    },
    {
     "name": "stdout",
     "output_type": "stream",
     "text": [
      "Duration of algorithm was 0.30sec\n",
      "Warning: n_edges is not exact due to gcastle implementation\n",
      "Duration of algorithm was 0.36sec\n"
     ]
    },
    {
     "name": "stderr",
     "output_type": "stream",
     "text": [
      "2023-11-10 17:19:48,547 - c:\\Users\\JanMarco\\MLProjects\\Masterthesis\\masterthesis\\mthesis\\lib\\site-packages\\castle\\datasets\\simulator.py[line:270] - INFO: Finished synthetic dataset\n"
     ]
    },
    {
     "name": "stdout",
     "output_type": "stream",
     "text": [
      "Duration of algorithm was 0.40sec\n",
      "Warning: n_edges is not exact due to gcastle implementation\n",
      "Duration of algorithm was 0.42sec\n"
     ]
    },
    {
     "name": "stderr",
     "output_type": "stream",
     "text": [
      "2023-11-10 17:19:50,031 - c:\\Users\\JanMarco\\MLProjects\\Masterthesis\\masterthesis\\mthesis\\lib\\site-packages\\castle\\datasets\\simulator.py[line:270] - INFO: Finished synthetic dataset\n"
     ]
    },
    {
     "name": "stdout",
     "output_type": "stream",
     "text": [
      "Duration of algorithm was 0.51sec\n",
      "Warning: n_edges is not exact due to gcastle implementation\n",
      "Duration of algorithm was 0.29sec\n"
     ]
    },
    {
     "name": "stderr",
     "output_type": "stream",
     "text": [
      "2023-11-10 17:19:51,105 - c:\\Users\\JanMarco\\MLProjects\\Masterthesis\\masterthesis\\mthesis\\lib\\site-packages\\castle\\datasets\\simulator.py[line:270] - INFO: Finished synthetic dataset\n"
     ]
    },
    {
     "name": "stdout",
     "output_type": "stream",
     "text": [
      "Duration of algorithm was 0.37sec\n",
      "Warning: n_edges is not exact due to gcastle implementation\n",
      "Duration of algorithm was 0.26sec\n"
     ]
    },
    {
     "name": "stderr",
     "output_type": "stream",
     "text": [
      "2023-11-10 17:19:52,008 - c:\\Users\\JanMarco\\MLProjects\\Masterthesis\\masterthesis\\mthesis\\lib\\site-packages\\castle\\datasets\\simulator.py[line:270] - INFO: Finished synthetic dataset\n"
     ]
    },
    {
     "name": "stdout",
     "output_type": "stream",
     "text": [
      "Duration of algorithm was 0.28sec\n",
      "Warning: n_edges is not exact due to gcastle implementation\n",
      "Duration of algorithm was 0.32sec\n"
     ]
    },
    {
     "name": "stderr",
     "output_type": "stream",
     "text": [
      "2023-11-10 17:19:53,191 - c:\\Users\\JanMarco\\MLProjects\\Masterthesis\\masterthesis\\mthesis\\lib\\site-packages\\castle\\datasets\\simulator.py[line:270] - INFO: Finished synthetic dataset\n"
     ]
    },
    {
     "name": "stdout",
     "output_type": "stream",
     "text": [
      "Duration of algorithm was 0.42sec\n",
      "Warning: n_edges is not exact due to gcastle implementation\n",
      "Duration of algorithm was 0.28sec\n"
     ]
    },
    {
     "name": "stderr",
     "output_type": "stream",
     "text": [
      "2023-11-10 17:19:54,337 - c:\\Users\\JanMarco\\MLProjects\\Masterthesis\\masterthesis\\mthesis\\lib\\site-packages\\castle\\datasets\\simulator.py[line:270] - INFO: Finished synthetic dataset\n"
     ]
    },
    {
     "name": "stdout",
     "output_type": "stream",
     "text": [
      "Duration of algorithm was 0.42sec\n",
      "Warning: n_edges is not exact due to gcastle implementation\n",
      "Duration of algorithm was 0.49sec\n"
     ]
    },
    {
     "name": "stderr",
     "output_type": "stream",
     "text": [
      "2023-11-10 17:19:56,029 - c:\\Users\\JanMarco\\MLProjects\\Masterthesis\\masterthesis\\mthesis\\lib\\site-packages\\castle\\datasets\\simulator.py[line:270] - INFO: Finished synthetic dataset\n"
     ]
    },
    {
     "name": "stdout",
     "output_type": "stream",
     "text": [
      "Duration of algorithm was 0.59sec\n",
      "Warning: n_edges is not exact due to gcastle implementation\n",
      "Duration of algorithm was 0.81sec\n"
     ]
    },
    {
     "name": "stderr",
     "output_type": "stream",
     "text": [
      "2023-11-10 17:19:59,259 - c:\\Users\\JanMarco\\MLProjects\\Masterthesis\\masterthesis\\mthesis\\lib\\site-packages\\castle\\datasets\\simulator.py[line:270] - INFO: Finished synthetic dataset\n"
     ]
    },
    {
     "name": "stdout",
     "output_type": "stream",
     "text": [
      "Duration of algorithm was 1.18sec\n",
      "Warning: n_edges is not exact due to gcastle implementation\n",
      "Duration of algorithm was 0.61sec\n"
     ]
    },
    {
     "name": "stderr",
     "output_type": "stream",
     "text": [
      "2023-11-10 17:20:01,605 - c:\\Users\\JanMarco\\MLProjects\\Masterthesis\\masterthesis\\mthesis\\lib\\site-packages\\castle\\datasets\\simulator.py[line:270] - INFO: Finished synthetic dataset\n"
     ]
    },
    {
     "name": "stdout",
     "output_type": "stream",
     "text": [
      "Duration of algorithm was 0.85sec\n",
      "Warning: n_edges is not exact due to gcastle implementation\n",
      "Duration of algorithm was 0.44sec\n"
     ]
    },
    {
     "name": "stderr",
     "output_type": "stream",
     "text": [
      "2023-11-10 17:20:03,227 - c:\\Users\\JanMarco\\MLProjects\\Masterthesis\\masterthesis\\mthesis\\lib\\site-packages\\castle\\datasets\\simulator.py[line:270] - INFO: Finished synthetic dataset\n"
     ]
    },
    {
     "name": "stdout",
     "output_type": "stream",
     "text": [
      "Duration of algorithm was 0.58sec\n",
      "Warning: n_edges is not exact due to gcastle implementation\n",
      "Duration of algorithm was 0.23sec\n"
     ]
    },
    {
     "name": "stderr",
     "output_type": "stream",
     "text": [
      "2023-11-10 17:20:03,969 - c:\\Users\\JanMarco\\MLProjects\\Masterthesis\\masterthesis\\mthesis\\lib\\site-packages\\castle\\datasets\\simulator.py[line:270] - INFO: Finished synthetic dataset\n"
     ]
    },
    {
     "name": "stdout",
     "output_type": "stream",
     "text": [
      "Duration of algorithm was 0.24sec\n",
      "Warning: n_edges is not exact due to gcastle implementation\n",
      "Duration of algorithm was 0.28sec\n"
     ]
    },
    {
     "name": "stderr",
     "output_type": "stream",
     "text": [
      "2023-11-10 17:20:04,946 - c:\\Users\\JanMarco\\MLProjects\\Masterthesis\\masterthesis\\mthesis\\lib\\site-packages\\castle\\datasets\\simulator.py[line:270] - INFO: Finished synthetic dataset\n"
     ]
    },
    {
     "name": "stdout",
     "output_type": "stream",
     "text": [
      "Duration of algorithm was 0.33sec\n",
      "Warning: n_edges is not exact due to gcastle implementation\n",
      "Duration of algorithm was 0.33sec\n"
     ]
    },
    {
     "name": "stderr",
     "output_type": "stream",
     "text": [
      "2023-11-10 17:20:06,192 - c:\\Users\\JanMarco\\MLProjects\\Masterthesis\\masterthesis\\mthesis\\lib\\site-packages\\castle\\datasets\\simulator.py[line:270] - INFO: Finished synthetic dataset\n"
     ]
    },
    {
     "name": "stdout",
     "output_type": "stream",
     "text": [
      "Duration of algorithm was 0.44sec\n",
      "Warning: n_edges is not exact due to gcastle implementation\n",
      "Duration of algorithm was 0.25sec\n"
     ]
    },
    {
     "name": "stderr",
     "output_type": "stream",
     "text": [
      "2023-11-10 17:20:07,030 - c:\\Users\\JanMarco\\MLProjects\\Masterthesis\\masterthesis\\mthesis\\lib\\site-packages\\castle\\datasets\\simulator.py[line:270] - INFO: Finished synthetic dataset\n"
     ]
    },
    {
     "name": "stdout",
     "output_type": "stream",
     "text": [
      "Duration of algorithm was 0.28sec\n",
      "Warning: n_edges is not exact due to gcastle implementation\n",
      "Duration of algorithm was 0.34sec\n"
     ]
    },
    {
     "name": "stderr",
     "output_type": "stream",
     "text": [
      "2023-11-10 17:20:08,140 - c:\\Users\\JanMarco\\MLProjects\\Masterthesis\\masterthesis\\mthesis\\lib\\site-packages\\castle\\datasets\\simulator.py[line:270] - INFO: Finished synthetic dataset\n"
     ]
    },
    {
     "name": "stdout",
     "output_type": "stream",
     "text": [
      "Duration of algorithm was 0.36sec\n",
      "Warning: n_edges is not exact due to gcastle implementation\n",
      "Duration of algorithm was 0.33sec\n"
     ]
    },
    {
     "name": "stderr",
     "output_type": "stream",
     "text": [
      "2023-11-10 17:20:09,282 - c:\\Users\\JanMarco\\MLProjects\\Masterthesis\\masterthesis\\mthesis\\lib\\site-packages\\castle\\datasets\\simulator.py[line:270] - INFO: Finished synthetic dataset\n"
     ]
    },
    {
     "name": "stdout",
     "output_type": "stream",
     "text": [
      "Duration of algorithm was 0.38sec\n",
      "Warning: n_edges is not exact due to gcastle implementation\n",
      "Duration of algorithm was 0.38sec\n"
     ]
    },
    {
     "name": "stderr",
     "output_type": "stream",
     "text": [
      "2023-11-10 17:20:10,456 - c:\\Users\\JanMarco\\MLProjects\\Masterthesis\\masterthesis\\mthesis\\lib\\site-packages\\castle\\datasets\\simulator.py[line:270] - INFO: Finished synthetic dataset\n"
     ]
    },
    {
     "name": "stdout",
     "output_type": "stream",
     "text": [
      "Duration of algorithm was 0.39sec\n",
      "Warning: n_edges is not exact due to gcastle implementation\n",
      "Duration of algorithm was 0.29sec\n"
     ]
    },
    {
     "name": "stderr",
     "output_type": "stream",
     "text": [
      "2023-11-10 17:20:11,671 - c:\\Users\\JanMarco\\MLProjects\\Masterthesis\\masterthesis\\mthesis\\lib\\site-packages\\castle\\datasets\\simulator.py[line:270] - INFO: Finished synthetic dataset\n"
     ]
    },
    {
     "name": "stdout",
     "output_type": "stream",
     "text": [
      "Duration of algorithm was 0.45sec\n",
      "Warning: n_edges is not exact due to gcastle implementation\n",
      "Duration of algorithm was 0.32sec\n"
     ]
    },
    {
     "name": "stderr",
     "output_type": "stream",
     "text": [
      "2023-11-10 17:20:13,015 - c:\\Users\\JanMarco\\MLProjects\\Masterthesis\\masterthesis\\mthesis\\lib\\site-packages\\castle\\datasets\\simulator.py[line:270] - INFO: Finished synthetic dataset\n"
     ]
    },
    {
     "name": "stdout",
     "output_type": "stream",
     "text": [
      "Duration of algorithm was 0.49sec\n",
      "Warning: n_edges is not exact due to gcastle implementation\n",
      "Duration of algorithm was 0.31sec\n"
     ]
    },
    {
     "name": "stderr",
     "output_type": "stream",
     "text": [
      "2023-11-10 17:20:14,221 - c:\\Users\\JanMarco\\MLProjects\\Masterthesis\\masterthesis\\mthesis\\lib\\site-packages\\castle\\datasets\\simulator.py[line:270] - INFO: Finished synthetic dataset\n"
     ]
    },
    {
     "name": "stdout",
     "output_type": "stream",
     "text": [
      "Duration of algorithm was 0.43sec\n",
      "Warning: n_edges is not exact due to gcastle implementation\n",
      "Duration of algorithm was 0.72sec\n"
     ]
    },
    {
     "name": "stderr",
     "output_type": "stream",
     "text": [
      "2023-11-10 17:20:16,695 - c:\\Users\\JanMarco\\MLProjects\\Masterthesis\\masterthesis\\mthesis\\lib\\site-packages\\castle\\datasets\\simulator.py[line:270] - INFO: Finished synthetic dataset\n"
     ]
    },
    {
     "name": "stdout",
     "output_type": "stream",
     "text": [
      "Duration of algorithm was 0.85sec\n",
      "Warning: n_edges is not exact due to gcastle implementation\n",
      "Duration of algorithm was 0.70sec\n"
     ]
    },
    {
     "name": "stderr",
     "output_type": "stream",
     "text": [
      "2023-11-10 17:20:19,129 - c:\\Users\\JanMarco\\MLProjects\\Masterthesis\\masterthesis\\mthesis\\lib\\site-packages\\castle\\datasets\\simulator.py[line:270] - INFO: Finished synthetic dataset\n"
     ]
    },
    {
     "name": "stdout",
     "output_type": "stream",
     "text": [
      "Duration of algorithm was 0.85sec\n",
      "Warning: n_edges is not exact due to gcastle implementation\n",
      "Duration of algorithm was 0.90sec\n"
     ]
    },
    {
     "name": "stderr",
     "output_type": "stream",
     "text": [
      "2023-11-10 17:20:22,349 - c:\\Users\\JanMarco\\MLProjects\\Masterthesis\\masterthesis\\mthesis\\lib\\site-packages\\castle\\datasets\\simulator.py[line:270] - INFO: Finished synthetic dataset\n"
     ]
    },
    {
     "name": "stdout",
     "output_type": "stream",
     "text": [
      "Duration of algorithm was 1.12sec\n",
      "Warning: n_edges is not exact due to gcastle implementation\n",
      "Duration of algorithm was 0.70sec\n"
     ]
    },
    {
     "name": "stderr",
     "output_type": "stream",
     "text": [
      "2023-11-10 17:20:24,857 - c:\\Users\\JanMarco\\MLProjects\\Masterthesis\\masterthesis\\mthesis\\lib\\site-packages\\castle\\datasets\\simulator.py[line:270] - INFO: Finished synthetic dataset\n"
     ]
    },
    {
     "name": "stdout",
     "output_type": "stream",
     "text": [
      "Duration of algorithm was 0.88sec\n",
      "Warning: n_edges is not exact due to gcastle implementation\n",
      "Duration of algorithm was 0.36sec\n"
     ]
    },
    {
     "name": "stderr",
     "output_type": "stream",
     "text": [
      "2023-11-10 17:20:26,198 - c:\\Users\\JanMarco\\MLProjects\\Masterthesis\\masterthesis\\mthesis\\lib\\site-packages\\castle\\datasets\\simulator.py[line:270] - INFO: Finished synthetic dataset\n"
     ]
    },
    {
     "name": "stdout",
     "output_type": "stream",
     "text": [
      "Duration of algorithm was 0.47sec\n",
      "Warning: n_edges is not exact due to gcastle implementation\n",
      "Duration of algorithm was 0.30sec\n"
     ]
    },
    {
     "name": "stderr",
     "output_type": "stream",
     "text": [
      "2023-11-10 17:20:27,356 - c:\\Users\\JanMarco\\MLProjects\\Masterthesis\\masterthesis\\mthesis\\lib\\site-packages\\castle\\datasets\\simulator.py[line:270] - INFO: Finished synthetic dataset\n"
     ]
    },
    {
     "name": "stdout",
     "output_type": "stream",
     "text": [
      "Duration of algorithm was 0.41sec\n",
      "Warning: n_edges is not exact due to gcastle implementation\n",
      "Duration of algorithm was 0.48sec\n"
     ]
    },
    {
     "name": "stderr",
     "output_type": "stream",
     "text": [
      "2023-11-10 17:20:28,988 - c:\\Users\\JanMarco\\MLProjects\\Masterthesis\\masterthesis\\mthesis\\lib\\site-packages\\castle\\datasets\\simulator.py[line:270] - INFO: Finished synthetic dataset\n"
     ]
    },
    {
     "name": "stdout",
     "output_type": "stream",
     "text": [
      "Duration of algorithm was 0.55sec\n",
      "Warning: n_edges is not exact due to gcastle implementation\n",
      "Duration of algorithm was 0.23sec\n"
     ]
    },
    {
     "name": "stderr",
     "output_type": "stream",
     "text": [
      "2023-11-10 17:20:29,876 - c:\\Users\\JanMarco\\MLProjects\\Masterthesis\\masterthesis\\mthesis\\lib\\site-packages\\castle\\datasets\\simulator.py[line:270] - INFO: Finished synthetic dataset\n"
     ]
    },
    {
     "name": "stdout",
     "output_type": "stream",
     "text": [
      "Duration of algorithm was 0.30sec\n",
      "Warning: n_edges is not exact due to gcastle implementation\n",
      "Duration of algorithm was 0.25sec\n"
     ]
    },
    {
     "name": "stderr",
     "output_type": "stream",
     "text": [
      "2023-11-10 17:20:30,861 - c:\\Users\\JanMarco\\MLProjects\\Masterthesis\\masterthesis\\mthesis\\lib\\site-packages\\castle\\datasets\\simulator.py[line:270] - INFO: Finished synthetic dataset\n"
     ]
    },
    {
     "name": "stdout",
     "output_type": "stream",
     "text": [
      "Duration of algorithm was 0.35sec\n",
      "Warning: n_edges is not exact due to gcastle implementation\n",
      "Duration of algorithm was 0.36sec\n"
     ]
    },
    {
     "name": "stderr",
     "output_type": "stream",
     "text": [
      "2023-11-10 17:20:32,078 - c:\\Users\\JanMarco\\MLProjects\\Masterthesis\\masterthesis\\mthesis\\lib\\site-packages\\castle\\datasets\\simulator.py[line:270] - INFO: Finished synthetic dataset\n"
     ]
    },
    {
     "name": "stdout",
     "output_type": "stream",
     "text": [
      "Duration of algorithm was 0.41sec\n",
      "Warning: n_edges is not exact due to gcastle implementation\n",
      "Duration of algorithm was 0.37sec\n"
     ]
    },
    {
     "name": "stderr",
     "output_type": "stream",
     "text": [
      "2023-11-10 17:20:33,241 - c:\\Users\\JanMarco\\MLProjects\\Masterthesis\\masterthesis\\mthesis\\lib\\site-packages\\castle\\datasets\\simulator.py[line:270] - INFO: Finished synthetic dataset\n"
     ]
    },
    {
     "name": "stdout",
     "output_type": "stream",
     "text": [
      "Duration of algorithm was 0.38sec\n",
      "Warning: n_edges is not exact due to gcastle implementation\n",
      "Duration of algorithm was 0.50sec\n"
     ]
    },
    {
     "name": "stderr",
     "output_type": "stream",
     "text": [
      "2023-11-10 17:20:34,988 - c:\\Users\\JanMarco\\MLProjects\\Masterthesis\\masterthesis\\mthesis\\lib\\site-packages\\castle\\datasets\\simulator.py[line:270] - INFO: Finished synthetic dataset\n"
     ]
    },
    {
     "name": "stdout",
     "output_type": "stream",
     "text": [
      "Duration of algorithm was 0.60sec\n",
      "Warning: n_edges is not exact due to gcastle implementation\n",
      "Duration of algorithm was 0.18sec\n"
     ]
    },
    {
     "name": "stderr",
     "output_type": "stream",
     "text": [
      "2023-11-10 17:20:35,586 - c:\\Users\\JanMarco\\MLProjects\\Masterthesis\\masterthesis\\mthesis\\lib\\site-packages\\castle\\datasets\\simulator.py[line:270] - INFO: Finished synthetic dataset\n"
     ]
    },
    {
     "name": "stdout",
     "output_type": "stream",
     "text": [
      "Duration of algorithm was 0.19sec\n",
      "Warning: n_edges is not exact due to gcastle implementation\n",
      "Duration of algorithm was 0.61sec\n"
     ]
    },
    {
     "name": "stderr",
     "output_type": "stream",
     "text": [
      "2023-11-10 17:20:37,724 - c:\\Users\\JanMarco\\MLProjects\\Masterthesis\\masterthesis\\mthesis\\lib\\site-packages\\castle\\datasets\\simulator.py[line:270] - INFO: Finished synthetic dataset\n"
     ]
    },
    {
     "name": "stdout",
     "output_type": "stream",
     "text": [
      "Duration of algorithm was 0.74sec\n",
      "Warning: n_edges is not exact due to gcastle implementation\n",
      "Duration of algorithm was 0.42sec\n"
     ]
    },
    {
     "name": "stderr",
     "output_type": "stream",
     "text": [
      "2023-11-10 17:20:39,488 - c:\\Users\\JanMarco\\MLProjects\\Masterthesis\\masterthesis\\mthesis\\lib\\site-packages\\castle\\datasets\\simulator.py[line:270] - INFO: Finished synthetic dataset\n"
     ]
    },
    {
     "name": "stdout",
     "output_type": "stream",
     "text": [
      "Duration of algorithm was 0.65sec\n",
      "Warning: n_edges is not exact due to gcastle implementation\n",
      "Duration of algorithm was 0.52sec\n"
     ]
    },
    {
     "name": "stderr",
     "output_type": "stream",
     "text": [
      "2023-11-10 17:20:41,312 - c:\\Users\\JanMarco\\MLProjects\\Masterthesis\\masterthesis\\mthesis\\lib\\site-packages\\castle\\datasets\\simulator.py[line:270] - INFO: Finished synthetic dataset\n"
     ]
    },
    {
     "name": "stdout",
     "output_type": "stream",
     "text": [
      "Duration of algorithm was 0.64sec\n",
      "Warning: n_edges is not exact due to gcastle implementation\n",
      "Duration of algorithm was 0.61sec\n"
     ]
    },
    {
     "name": "stderr",
     "output_type": "stream",
     "text": [
      "2023-11-10 17:20:43,652 - c:\\Users\\JanMarco\\MLProjects\\Masterthesis\\masterthesis\\mthesis\\lib\\site-packages\\castle\\datasets\\simulator.py[line:270] - INFO: Finished synthetic dataset\n"
     ]
    },
    {
     "name": "stdout",
     "output_type": "stream",
     "text": [
      "Duration of algorithm was 0.85sec\n",
      "Warning: n_edges is not exact due to gcastle implementation\n",
      "Duration of algorithm was 0.95sec\n"
     ]
    },
    {
     "name": "stderr",
     "output_type": "stream",
     "text": [
      "2023-11-10 17:20:47,237 - c:\\Users\\JanMarco\\MLProjects\\Masterthesis\\masterthesis\\mthesis\\lib\\site-packages\\castle\\datasets\\simulator.py[line:270] - INFO: Finished synthetic dataset\n"
     ]
    },
    {
     "name": "stdout",
     "output_type": "stream",
     "text": [
      "Duration of algorithm was 1.29sec\n",
      "Warning: n_edges is not exact due to gcastle implementation\n",
      "Duration of algorithm was 0.33sec\n"
     ]
    },
    {
     "name": "stderr",
     "output_type": "stream",
     "text": [
      "2023-11-10 17:20:48,802 - c:\\Users\\JanMarco\\MLProjects\\Masterthesis\\masterthesis\\mthesis\\lib\\site-packages\\castle\\datasets\\simulator.py[line:270] - INFO: Finished synthetic dataset\n"
     ]
    },
    {
     "name": "stdout",
     "output_type": "stream",
     "text": [
      "Duration of algorithm was 0.60sec\n",
      "Warning: n_edges is not exact due to gcastle implementation\n",
      "Duration of algorithm was 0.41sec\n"
     ]
    },
    {
     "name": "stderr",
     "output_type": "stream",
     "text": [
      "2023-11-10 17:20:50,073 - c:\\Users\\JanMarco\\MLProjects\\Masterthesis\\masterthesis\\mthesis\\lib\\site-packages\\castle\\datasets\\simulator.py[line:270] - INFO: Finished synthetic dataset\n"
     ]
    },
    {
     "name": "stdout",
     "output_type": "stream",
     "text": [
      "Duration of algorithm was 0.41sec\n",
      "Warning: n_edges is not exact due to gcastle implementation\n",
      "Duration of algorithm was 0.42sec\n"
     ]
    },
    {
     "name": "stderr",
     "output_type": "stream",
     "text": [
      "2023-11-10 17:20:51,150 - c:\\Users\\JanMarco\\MLProjects\\Masterthesis\\masterthesis\\mthesis\\lib\\site-packages\\castle\\datasets\\simulator.py[line:270] - INFO: Finished synthetic dataset\n"
     ]
    },
    {
     "name": "stdout",
     "output_type": "stream",
     "text": [
      "Duration of algorithm was 0.31sec\n",
      "Warning: n_edges is not exact due to gcastle implementation\n",
      "Duration of algorithm was 0.27sec\n"
     ]
    },
    {
     "name": "stderr",
     "output_type": "stream",
     "text": [
      "2023-11-10 17:20:51,992 - c:\\Users\\JanMarco\\MLProjects\\Masterthesis\\masterthesis\\mthesis\\lib\\site-packages\\castle\\datasets\\simulator.py[line:270] - INFO: Finished synthetic dataset\n"
     ]
    },
    {
     "name": "stdout",
     "output_type": "stream",
     "text": [
      "Duration of algorithm was 0.27sec\n",
      "Warning: n_edges is not exact due to gcastle implementation\n",
      "Duration of algorithm was 0.29sec\n"
     ]
    },
    {
     "name": "stderr",
     "output_type": "stream",
     "text": [
      "2023-11-10 17:20:52,881 - c:\\Users\\JanMarco\\MLProjects\\Masterthesis\\masterthesis\\mthesis\\lib\\site-packages\\castle\\datasets\\simulator.py[line:270] - INFO: Finished synthetic dataset\n"
     ]
    },
    {
     "name": "stdout",
     "output_type": "stream",
     "text": [
      "Duration of algorithm was 0.28sec\n",
      "Warning: n_edges is not exact due to gcastle implementation\n",
      "Duration of algorithm was 0.39sec\n"
     ]
    },
    {
     "name": "stderr",
     "output_type": "stream",
     "text": [
      "2023-11-10 17:20:54,057 - c:\\Users\\JanMarco\\MLProjects\\Masterthesis\\masterthesis\\mthesis\\lib\\site-packages\\castle\\datasets\\simulator.py[line:270] - INFO: Finished synthetic dataset\n"
     ]
    },
    {
     "name": "stdout",
     "output_type": "stream",
     "text": [
      "Duration of algorithm was 0.37sec\n",
      "Warning: n_edges is not exact due to gcastle implementation\n",
      "Duration of algorithm was 0.42sec\n"
     ]
    },
    {
     "name": "stderr",
     "output_type": "stream",
     "text": [
      "2023-11-10 17:20:55,315 - c:\\Users\\JanMarco\\MLProjects\\Masterthesis\\masterthesis\\mthesis\\lib\\site-packages\\castle\\datasets\\simulator.py[line:270] - INFO: Finished synthetic dataset\n"
     ]
    },
    {
     "name": "stdout",
     "output_type": "stream",
     "text": [
      "Duration of algorithm was 0.40sec\n",
      "Warning: n_edges is not exact due to gcastle implementation\n",
      "Duration of algorithm was 0.53sec\n"
     ]
    },
    {
     "name": "stderr",
     "output_type": "stream",
     "text": [
      "2023-11-10 17:20:56,937 - c:\\Users\\JanMarco\\MLProjects\\Masterthesis\\masterthesis\\mthesis\\lib\\site-packages\\castle\\datasets\\simulator.py[line:270] - INFO: Finished synthetic dataset\n"
     ]
    },
    {
     "name": "stdout",
     "output_type": "stream",
     "text": [
      "Duration of algorithm was 0.54sec\n",
      "Warning: n_edges is not exact due to gcastle implementation\n",
      "Duration of algorithm was 0.42sec\n"
     ]
    },
    {
     "name": "stderr",
     "output_type": "stream",
     "text": [
      "2023-11-10 17:20:58,221 - c:\\Users\\JanMarco\\MLProjects\\Masterthesis\\masterthesis\\mthesis\\lib\\site-packages\\castle\\datasets\\simulator.py[line:270] - INFO: Finished synthetic dataset\n"
     ]
    },
    {
     "name": "stdout",
     "output_type": "stream",
     "text": [
      "Duration of algorithm was 0.42sec\n",
      "Warning: n_edges is not exact due to gcastle implementation\n",
      "Duration of algorithm was 0.30sec\n"
     ]
    },
    {
     "name": "stderr",
     "output_type": "stream",
     "text": [
      "2023-11-10 17:20:59,186 - c:\\Users\\JanMarco\\MLProjects\\Masterthesis\\masterthesis\\mthesis\\lib\\site-packages\\castle\\datasets\\simulator.py[line:270] - INFO: Finished synthetic dataset\n"
     ]
    },
    {
     "name": "stdout",
     "output_type": "stream",
     "text": [
      "Duration of algorithm was 0.34sec\n",
      "Warning: n_edges is not exact due to gcastle implementation\n",
      "Duration of algorithm was 0.52sec\n"
     ]
    },
    {
     "name": "stderr",
     "output_type": "stream",
     "text": [
      "2023-11-10 17:21:00,779 - c:\\Users\\JanMarco\\MLProjects\\Masterthesis\\masterthesis\\mthesis\\lib\\site-packages\\castle\\datasets\\simulator.py[line:270] - INFO: Finished synthetic dataset\n"
     ]
    },
    {
     "name": "stdout",
     "output_type": "stream",
     "text": [
      "Duration of algorithm was 0.52sec\n",
      "Warning: n_edges is not exact due to gcastle implementation\n",
      "Duration of algorithm was 0.67sec\n"
     ]
    },
    {
     "name": "stderr",
     "output_type": "stream",
     "text": [
      "2023-11-10 17:21:02,810 - c:\\Users\\JanMarco\\MLProjects\\Masterthesis\\masterthesis\\mthesis\\lib\\site-packages\\castle\\datasets\\simulator.py[line:270] - INFO: Finished synthetic dataset\n"
     ]
    },
    {
     "name": "stdout",
     "output_type": "stream",
     "text": [
      "Duration of algorithm was 0.66sec\n",
      "Warning: n_edges is not exact due to gcastle implementation\n",
      "Duration of algorithm was 0.46sec\n"
     ]
    },
    {
     "name": "stderr",
     "output_type": "stream",
     "text": [
      "2023-11-10 17:21:04,246 - c:\\Users\\JanMarco\\MLProjects\\Masterthesis\\masterthesis\\mthesis\\lib\\site-packages\\castle\\datasets\\simulator.py[line:270] - INFO: Finished synthetic dataset\n"
     ]
    },
    {
     "name": "stdout",
     "output_type": "stream",
     "text": [
      "Duration of algorithm was 0.47sec\n",
      "Warning: n_edges is not exact due to gcastle implementation\n",
      "Duration of algorithm was 0.91sec\n"
     ]
    },
    {
     "name": "stderr",
     "output_type": "stream",
     "text": [
      "2023-11-10 17:21:06,980 - c:\\Users\\JanMarco\\MLProjects\\Masterthesis\\masterthesis\\mthesis\\lib\\site-packages\\castle\\datasets\\simulator.py[line:270] - INFO: Finished synthetic dataset\n"
     ]
    },
    {
     "name": "stdout",
     "output_type": "stream",
     "text": [
      "Duration of algorithm was 0.89sec\n",
      "Warning: n_edges is not exact due to gcastle implementation\n",
      "Duration of algorithm was 0.87sec\n"
     ]
    },
    {
     "name": "stderr",
     "output_type": "stream",
     "text": [
      "2023-11-10 17:21:09,597 - c:\\Users\\JanMarco\\MLProjects\\Masterthesis\\masterthesis\\mthesis\\lib\\site-packages\\castle\\datasets\\simulator.py[line:270] - INFO: Finished synthetic dataset\n"
     ]
    },
    {
     "name": "stdout",
     "output_type": "stream",
     "text": [
      "Duration of algorithm was 0.86sec\n",
      "Warning: n_edges is not exact due to gcastle implementation\n",
      "Duration of algorithm was 1.25sec\n"
     ]
    },
    {
     "name": "stderr",
     "output_type": "stream",
     "text": [
      "2023-11-10 17:21:13,386 - c:\\Users\\JanMarco\\MLProjects\\Masterthesis\\masterthesis\\mthesis\\lib\\site-packages\\castle\\datasets\\simulator.py[line:270] - INFO: Finished synthetic dataset\n"
     ]
    },
    {
     "name": "stdout",
     "output_type": "stream",
     "text": [
      "Duration of algorithm was 1.26sec\n",
      "Warning: n_edges is not exact due to gcastle implementation\n",
      "Duration of algorithm was 0.22sec\n"
     ]
    },
    {
     "name": "stderr",
     "output_type": "stream",
     "text": [
      "2023-11-10 17:21:14,176 - c:\\Users\\JanMarco\\MLProjects\\Masterthesis\\masterthesis\\mthesis\\lib\\site-packages\\castle\\datasets\\simulator.py[line:270] - INFO: Finished synthetic dataset\n"
     ]
    },
    {
     "name": "stdout",
     "output_type": "stream",
     "text": [
      "Duration of algorithm was 0.27sec\n",
      "Warning: n_edges is not exact due to gcastle implementation\n",
      "Duration of algorithm was 0.43sec\n"
     ]
    },
    {
     "name": "stderr",
     "output_type": "stream",
     "text": [
      "2023-11-10 17:21:15,470 - c:\\Users\\JanMarco\\MLProjects\\Masterthesis\\masterthesis\\mthesis\\lib\\site-packages\\castle\\datasets\\simulator.py[line:270] - INFO: Finished synthetic dataset\n"
     ]
    },
    {
     "name": "stdout",
     "output_type": "stream",
     "text": [
      "Duration of algorithm was 0.41sec\n",
      "Warning: n_edges is not exact due to gcastle implementation\n",
      "Duration of algorithm was 0.27sec\n"
     ]
    },
    {
     "name": "stderr",
     "output_type": "stream",
     "text": [
      "2023-11-10 17:21:16,379 - c:\\Users\\JanMarco\\MLProjects\\Masterthesis\\masterthesis\\mthesis\\lib\\site-packages\\castle\\datasets\\simulator.py[line:270] - INFO: Finished synthetic dataset\n"
     ]
    },
    {
     "name": "stdout",
     "output_type": "stream",
     "text": [
      "Duration of algorithm was 0.33sec\n",
      "Warning: n_edges is not exact due to gcastle implementation\n",
      "Duration of algorithm was 0.36sec\n"
     ]
    },
    {
     "name": "stderr",
     "output_type": "stream",
     "text": [
      "2023-11-10 17:21:17,688 - c:\\Users\\JanMarco\\MLProjects\\Masterthesis\\masterthesis\\mthesis\\lib\\site-packages\\castle\\datasets\\simulator.py[line:270] - INFO: Finished synthetic dataset\n"
     ]
    },
    {
     "name": "stdout",
     "output_type": "stream",
     "text": [
      "Duration of algorithm was 0.47sec\n",
      "Warning: n_edges is not exact due to gcastle implementation\n",
      "Duration of algorithm was 0.54sec\n"
     ]
    },
    {
     "name": "stderr",
     "output_type": "stream",
     "text": [
      "2023-11-10 17:21:19,414 - c:\\Users\\JanMarco\\MLProjects\\Masterthesis\\masterthesis\\mthesis\\lib\\site-packages\\castle\\datasets\\simulator.py[line:270] - INFO: Finished synthetic dataset\n"
     ]
    },
    {
     "name": "stdout",
     "output_type": "stream",
     "text": [
      "Duration of algorithm was 0.58sec\n",
      "Warning: n_edges is not exact due to gcastle implementation\n",
      "Duration of algorithm was 0.35sec\n"
     ]
    },
    {
     "name": "stderr",
     "output_type": "stream",
     "text": [
      "2023-11-10 17:21:20,661 - c:\\Users\\JanMarco\\MLProjects\\Masterthesis\\masterthesis\\mthesis\\lib\\site-packages\\castle\\datasets\\simulator.py[line:270] - INFO: Finished synthetic dataset\n"
     ]
    },
    {
     "name": "stdout",
     "output_type": "stream",
     "text": [
      "Duration of algorithm was 0.43sec\n",
      "Warning: n_edges is not exact due to gcastle implementation\n",
      "Duration of algorithm was 0.46sec\n"
     ]
    },
    {
     "name": "stderr",
     "output_type": "stream",
     "text": [
      "2023-11-10 17:21:22,244 - c:\\Users\\JanMarco\\MLProjects\\Masterthesis\\masterthesis\\mthesis\\lib\\site-packages\\castle\\datasets\\simulator.py[line:270] - INFO: Finished synthetic dataset\n"
     ]
    },
    {
     "name": "stdout",
     "output_type": "stream",
     "text": [
      "Duration of algorithm was 0.55sec\n",
      "Warning: n_edges is not exact due to gcastle implementation\n",
      "Duration of algorithm was 0.52sec\n"
     ]
    },
    {
     "name": "stderr",
     "output_type": "stream",
     "text": [
      "2023-11-10 17:21:23,785 - c:\\Users\\JanMarco\\MLProjects\\Masterthesis\\masterthesis\\mthesis\\lib\\site-packages\\castle\\datasets\\simulator.py[line:270] - INFO: Finished synthetic dataset\n"
     ]
    },
    {
     "name": "stdout",
     "output_type": "stream",
     "text": [
      "Duration of algorithm was 0.49sec\n",
      "Warning: n_edges is not exact due to gcastle implementation\n",
      "Duration of algorithm was 0.63sec\n"
     ]
    },
    {
     "name": "stderr",
     "output_type": "stream",
     "text": [
      "2023-11-10 17:21:25,821 - c:\\Users\\JanMarco\\MLProjects\\Masterthesis\\masterthesis\\mthesis\\lib\\site-packages\\castle\\datasets\\simulator.py[line:270] - INFO: Finished synthetic dataset\n"
     ]
    },
    {
     "name": "stdout",
     "output_type": "stream",
     "text": [
      "Duration of algorithm was 0.69sec\n",
      "Warning: n_edges is not exact due to gcastle implementation\n",
      "Duration of algorithm was 0.41sec\n"
     ]
    },
    {
     "name": "stderr",
     "output_type": "stream",
     "text": [
      "2023-11-10 17:21:27,338 - c:\\Users\\JanMarco\\MLProjects\\Masterthesis\\masterthesis\\mthesis\\lib\\site-packages\\castle\\datasets\\simulator.py[line:270] - INFO: Finished synthetic dataset\n"
     ]
    },
    {
     "name": "stdout",
     "output_type": "stream",
     "text": [
      "Duration of algorithm was 0.56sec\n",
      "Warning: n_edges is not exact due to gcastle implementation\n",
      "Duration of algorithm was 0.56sec\n"
     ]
    },
    {
     "name": "stderr",
     "output_type": "stream",
     "text": [
      "2023-11-10 17:21:29,341 - c:\\Users\\JanMarco\\MLProjects\\Masterthesis\\masterthesis\\mthesis\\lib\\site-packages\\castle\\datasets\\simulator.py[line:270] - INFO: Finished synthetic dataset\n"
     ]
    },
    {
     "name": "stdout",
     "output_type": "stream",
     "text": [
      "Duration of algorithm was 0.71sec\n",
      "Warning: n_edges is not exact due to gcastle implementation\n",
      "Duration of algorithm was 0.74sec\n"
     ]
    },
    {
     "name": "stderr",
     "output_type": "stream",
     "text": [
      "2023-11-10 17:21:31,749 - c:\\Users\\JanMarco\\MLProjects\\Masterthesis\\masterthesis\\mthesis\\lib\\site-packages\\castle\\datasets\\simulator.py[line:270] - INFO: Finished synthetic dataset\n"
     ]
    },
    {
     "name": "stdout",
     "output_type": "stream",
     "text": [
      "Duration of algorithm was 0.81sec\n",
      "Warning: n_edges is not exact due to gcastle implementation\n",
      "Duration of algorithm was 0.79sec\n"
     ]
    },
    {
     "name": "stderr",
     "output_type": "stream",
     "text": [
      "2023-11-10 17:21:34,387 - c:\\Users\\JanMarco\\MLProjects\\Masterthesis\\masterthesis\\mthesis\\lib\\site-packages\\castle\\datasets\\simulator.py[line:270] - INFO: Finished synthetic dataset\n"
     ]
    },
    {
     "name": "stdout",
     "output_type": "stream",
     "text": [
      "Duration of algorithm was 0.92sec\n",
      "Warning: n_edges is not exact due to gcastle implementation\n",
      "Duration of algorithm was 0.83sec\n"
     ]
    },
    {
     "name": "stderr",
     "output_type": "stream",
     "text": [
      "2023-11-10 17:21:37,613 - c:\\Users\\JanMarco\\MLProjects\\Masterthesis\\masterthesis\\mthesis\\lib\\site-packages\\castle\\datasets\\simulator.py[line:270] - INFO: Finished synthetic dataset\n"
     ]
    },
    {
     "name": "stdout",
     "output_type": "stream",
     "text": [
      "Duration of algorithm was 1.18sec\n",
      "Warning: n_edges is not exact due to gcastle implementation\n",
      "Duration of algorithm was 0.89sec\n"
     ]
    },
    {
     "name": "stderr",
     "output_type": "stream",
     "text": [
      "2023-11-10 17:21:40,736 - c:\\Users\\JanMarco\\MLProjects\\Masterthesis\\masterthesis\\mthesis\\lib\\site-packages\\castle\\datasets\\simulator.py[line:270] - INFO: Finished synthetic dataset\n"
     ]
    },
    {
     "name": "stdout",
     "output_type": "stream",
     "text": [
      "Duration of algorithm was 1.09sec\n",
      "Warning: n_edges is not exact due to gcastle implementation\n",
      "Duration of algorithm was 0.35sec\n"
     ]
    },
    {
     "name": "stderr",
     "output_type": "stream",
     "text": [
      "2023-11-10 17:21:41,912 - c:\\Users\\JanMarco\\MLProjects\\Masterthesis\\masterthesis\\mthesis\\lib\\site-packages\\castle\\datasets\\simulator.py[line:270] - INFO: Finished synthetic dataset\n"
     ]
    },
    {
     "name": "stdout",
     "output_type": "stream",
     "text": [
      "Duration of algorithm was 0.40sec\n",
      "Warning: n_edges is not exact due to gcastle implementation\n",
      "Duration of algorithm was 0.33sec\n"
     ]
    },
    {
     "name": "stderr",
     "output_type": "stream",
     "text": [
      "2023-11-10 17:21:43,118 - c:\\Users\\JanMarco\\MLProjects\\Masterthesis\\masterthesis\\mthesis\\lib\\site-packages\\castle\\datasets\\simulator.py[line:270] - INFO: Finished synthetic dataset\n"
     ]
    },
    {
     "name": "stdout",
     "output_type": "stream",
     "text": [
      "Duration of algorithm was 0.42sec\n",
      "Warning: n_edges is not exact due to gcastle implementation\n",
      "Duration of algorithm was 0.36sec\n"
     ]
    },
    {
     "name": "stderr",
     "output_type": "stream",
     "text": [
      "2023-11-10 17:21:44,358 - c:\\Users\\JanMarco\\MLProjects\\Masterthesis\\masterthesis\\mthesis\\lib\\site-packages\\castle\\datasets\\simulator.py[line:270] - INFO: Finished synthetic dataset\n"
     ]
    },
    {
     "name": "stdout",
     "output_type": "stream",
     "text": [
      "Duration of algorithm was 0.42sec\n",
      "Warning: n_edges is not exact due to gcastle implementation\n",
      "Duration of algorithm was 0.42sec\n"
     ]
    },
    {
     "name": "stderr",
     "output_type": "stream",
     "text": [
      "2023-11-10 17:21:45,703 - c:\\Users\\JanMarco\\MLProjects\\Masterthesis\\masterthesis\\mthesis\\lib\\site-packages\\castle\\datasets\\simulator.py[line:270] - INFO: Finished synthetic dataset\n"
     ]
    },
    {
     "name": "stdout",
     "output_type": "stream",
     "text": [
      "Duration of algorithm was 0.44sec\n",
      "Warning: n_edges is not exact due to gcastle implementation\n",
      "Duration of algorithm was 0.62sec\n"
     ]
    },
    {
     "name": "stderr",
     "output_type": "stream",
     "text": [
      "2023-11-10 17:21:47,641 - c:\\Users\\JanMarco\\MLProjects\\Masterthesis\\masterthesis\\mthesis\\lib\\site-packages\\castle\\datasets\\simulator.py[line:270] - INFO: Finished synthetic dataset\n"
     ]
    },
    {
     "name": "stdout",
     "output_type": "stream",
     "text": [
      "Duration of algorithm was 0.64sec\n",
      "Warning: n_edges is not exact due to gcastle implementation\n",
      "Duration of algorithm was 0.54sec\n"
     ]
    },
    {
     "name": "stderr",
     "output_type": "stream",
     "text": [
      "2023-11-10 17:21:49,373 - c:\\Users\\JanMarco\\MLProjects\\Masterthesis\\masterthesis\\mthesis\\lib\\site-packages\\castle\\datasets\\simulator.py[line:270] - INFO: Finished synthetic dataset\n"
     ]
    },
    {
     "name": "stdout",
     "output_type": "stream",
     "text": [
      "Duration of algorithm was 0.57sec\n",
      "Warning: n_edges is not exact due to gcastle implementation\n",
      "Duration of algorithm was 0.29sec\n"
     ]
    },
    {
     "name": "stderr",
     "output_type": "stream",
     "text": [
      "2023-11-10 17:21:50,342 - c:\\Users\\JanMarco\\MLProjects\\Masterthesis\\masterthesis\\mthesis\\lib\\site-packages\\castle\\datasets\\simulator.py[line:270] - INFO: Finished synthetic dataset\n"
     ]
    },
    {
     "name": "stdout",
     "output_type": "stream",
     "text": [
      "Duration of algorithm was 0.32sec\n",
      "Warning: n_edges is not exact due to gcastle implementation\n",
      "Duration of algorithm was 0.51sec\n"
     ]
    },
    {
     "name": "stderr",
     "output_type": "stream",
     "text": [
      "2023-11-10 17:21:51,916 - c:\\Users\\JanMarco\\MLProjects\\Masterthesis\\masterthesis\\mthesis\\lib\\site-packages\\castle\\datasets\\simulator.py[line:270] - INFO: Finished synthetic dataset\n"
     ]
    },
    {
     "name": "stdout",
     "output_type": "stream",
     "text": [
      "Duration of algorithm was 0.52sec\n",
      "Warning: n_edges is not exact due to gcastle implementation\n",
      "Duration of algorithm was 0.42sec\n"
     ]
    },
    {
     "name": "stderr",
     "output_type": "stream",
     "text": [
      "2023-11-10 17:21:53,244 - c:\\Users\\JanMarco\\MLProjects\\Masterthesis\\masterthesis\\mthesis\\lib\\site-packages\\castle\\datasets\\simulator.py[line:270] - INFO: Finished synthetic dataset\n"
     ]
    },
    {
     "name": "stdout",
     "output_type": "stream",
     "text": [
      "Duration of algorithm was 0.44sec\n",
      "Warning: n_edges is not exact due to gcastle implementation\n",
      "Duration of algorithm was 0.59sec\n"
     ]
    },
    {
     "name": "stderr",
     "output_type": "stream",
     "text": [
      "2023-11-10 17:21:54,936 - c:\\Users\\JanMarco\\MLProjects\\Masterthesis\\masterthesis\\mthesis\\lib\\site-packages\\castle\\datasets\\simulator.py[line:270] - INFO: Finished synthetic dataset\n"
     ]
    },
    {
     "name": "stdout",
     "output_type": "stream",
     "text": [
      "Duration of algorithm was 0.53sec\n",
      "Warning: n_edges is not exact due to gcastle implementation\n",
      "Duration of algorithm was 0.36sec\n"
     ]
    },
    {
     "name": "stderr",
     "output_type": "stream",
     "text": [
      "2023-11-10 17:21:56,206 - c:\\Users\\JanMarco\\MLProjects\\Masterthesis\\masterthesis\\mthesis\\lib\\site-packages\\castle\\datasets\\simulator.py[line:270] - INFO: Finished synthetic dataset\n"
     ]
    },
    {
     "name": "stdout",
     "output_type": "stream",
     "text": [
      "Duration of algorithm was 0.43sec\n",
      "Warning: n_edges is not exact due to gcastle implementation\n",
      "Duration of algorithm was 0.47sec\n"
     ]
    },
    {
     "name": "stderr",
     "output_type": "stream",
     "text": [
      "2023-11-10 17:21:58,012 - c:\\Users\\JanMarco\\MLProjects\\Masterthesis\\masterthesis\\mthesis\\lib\\site-packages\\castle\\datasets\\simulator.py[line:270] - INFO: Finished synthetic dataset\n"
     ]
    },
    {
     "name": "stdout",
     "output_type": "stream",
     "text": [
      "Duration of algorithm was 0.65sec\n",
      "Warning: n_edges is not exact due to gcastle implementation\n",
      "Duration of algorithm was 0.62sec\n"
     ]
    },
    {
     "name": "stderr",
     "output_type": "stream",
     "text": [
      "2023-11-10 17:22:00,362 - c:\\Users\\JanMarco\\MLProjects\\Masterthesis\\masterthesis\\mthesis\\lib\\site-packages\\castle\\datasets\\simulator.py[line:270] - INFO: Finished synthetic dataset\n"
     ]
    },
    {
     "name": "stdout",
     "output_type": "stream",
     "text": [
      "Duration of algorithm was 0.85sec\n",
      "Warning: n_edges is not exact due to gcastle implementation\n",
      "Duration of algorithm was 0.66sec\n"
     ]
    },
    {
     "name": "stderr",
     "output_type": "stream",
     "text": [
      "2023-11-10 17:22:02,717 - c:\\Users\\JanMarco\\MLProjects\\Masterthesis\\masterthesis\\mthesis\\lib\\site-packages\\castle\\datasets\\simulator.py[line:270] - INFO: Finished synthetic dataset\n"
     ]
    },
    {
     "name": "stdout",
     "output_type": "stream",
     "text": [
      "Duration of algorithm was 0.83sec\n",
      "Warning: n_edges is not exact due to gcastle implementation\n",
      "Duration of algorithm was 0.63sec\n"
     ]
    },
    {
     "name": "stderr",
     "output_type": "stream",
     "text": [
      "2023-11-10 17:22:04,961 - c:\\Users\\JanMarco\\MLProjects\\Masterthesis\\masterthesis\\mthesis\\lib\\site-packages\\castle\\datasets\\simulator.py[line:270] - INFO: Finished synthetic dataset\n"
     ]
    },
    {
     "name": "stdout",
     "output_type": "stream",
     "text": [
      "Duration of algorithm was 0.79sec\n",
      "Warning: n_edges is not exact due to gcastle implementation\n",
      "Duration of algorithm was 0.41sec\n"
     ]
    },
    {
     "name": "stderr",
     "output_type": "stream",
     "text": [
      "2023-11-10 17:22:06,235 - c:\\Users\\JanMarco\\MLProjects\\Masterthesis\\masterthesis\\mthesis\\lib\\site-packages\\castle\\datasets\\simulator.py[line:270] - INFO: Finished synthetic dataset\n"
     ]
    },
    {
     "name": "stdout",
     "output_type": "stream",
     "text": [
      "Duration of algorithm was 0.41sec\n",
      "Warning: n_edges is not exact due to gcastle implementation\n",
      "Duration of algorithm was 0.36sec\n"
     ]
    },
    {
     "name": "stderr",
     "output_type": "stream",
     "text": [
      "2023-11-10 17:22:07,400 - c:\\Users\\JanMarco\\MLProjects\\Masterthesis\\masterthesis\\mthesis\\lib\\site-packages\\castle\\datasets\\simulator.py[line:270] - INFO: Finished synthetic dataset\n"
     ]
    },
    {
     "name": "stdout",
     "output_type": "stream",
     "text": [
      "Duration of algorithm was 0.38sec\n",
      "Warning: n_edges is not exact due to gcastle implementation\n",
      "Duration of algorithm was 0.46sec\n"
     ]
    },
    {
     "name": "stderr",
     "output_type": "stream",
     "text": [
      "2023-11-10 17:22:08,850 - c:\\Users\\JanMarco\\MLProjects\\Masterthesis\\masterthesis\\mthesis\\lib\\site-packages\\castle\\datasets\\simulator.py[line:270] - INFO: Finished synthetic dataset\n"
     ]
    },
    {
     "name": "stdout",
     "output_type": "stream",
     "text": [
      "Duration of algorithm was 0.48sec\n",
      "Warning: n_edges is not exact due to gcastle implementation\n",
      "Duration of algorithm was 0.29sec\n"
     ]
    },
    {
     "name": "stderr",
     "output_type": "stream",
     "text": [
      "2023-11-10 17:22:09,822 - c:\\Users\\JanMarco\\MLProjects\\Masterthesis\\masterthesis\\mthesis\\lib\\site-packages\\castle\\datasets\\simulator.py[line:270] - INFO: Finished synthetic dataset\n"
     ]
    },
    {
     "name": "stdout",
     "output_type": "stream",
     "text": [
      "Duration of algorithm was 0.32sec\n",
      "Warning: n_edges is not exact due to gcastle implementation\n",
      "Duration of algorithm was 0.29sec\n"
     ]
    },
    {
     "name": "stderr",
     "output_type": "stream",
     "text": [
      "2023-11-10 17:22:10,953 - c:\\Users\\JanMarco\\MLProjects\\Masterthesis\\masterthesis\\mthesis\\lib\\site-packages\\castle\\datasets\\simulator.py[line:270] - INFO: Finished synthetic dataset\n"
     ]
    },
    {
     "name": "stdout",
     "output_type": "stream",
     "text": [
      "Duration of algorithm was 0.41sec\n",
      "Warning: n_edges is not exact due to gcastle implementation\n",
      "Duration of algorithm was 0.43sec\n"
     ]
    },
    {
     "name": "stderr",
     "output_type": "stream",
     "text": [
      "2023-11-10 17:22:12,404 - c:\\Users\\JanMarco\\MLProjects\\Masterthesis\\masterthesis\\mthesis\\lib\\site-packages\\castle\\datasets\\simulator.py[line:270] - INFO: Finished synthetic dataset\n"
     ]
    },
    {
     "name": "stdout",
     "output_type": "stream",
     "text": [
      "Duration of algorithm was 0.49sec\n",
      "Warning: n_edges is not exact due to gcastle implementation\n",
      "Duration of algorithm was 0.38sec\n"
     ]
    },
    {
     "name": "stderr",
     "output_type": "stream",
     "text": [
      "2023-11-10 17:22:13,618 - c:\\Users\\JanMarco\\MLProjects\\Masterthesis\\masterthesis\\mthesis\\lib\\site-packages\\castle\\datasets\\simulator.py[line:270] - INFO: Finished synthetic dataset\n"
     ]
    },
    {
     "name": "stdout",
     "output_type": "stream",
     "text": [
      "Duration of algorithm was 0.40sec\n",
      "Warning: n_edges is not exact due to gcastle implementation\n",
      "Duration of algorithm was 0.49sec\n"
     ]
    },
    {
     "name": "stderr",
     "output_type": "stream",
     "text": [
      "2023-11-10 17:22:15,288 - c:\\Users\\JanMarco\\MLProjects\\Masterthesis\\masterthesis\\mthesis\\lib\\site-packages\\castle\\datasets\\simulator.py[line:270] - INFO: Finished synthetic dataset\n"
     ]
    },
    {
     "name": "stdout",
     "output_type": "stream",
     "text": [
      "Duration of algorithm was 0.58sec\n",
      "Warning: n_edges is not exact due to gcastle implementation\n",
      "Duration of algorithm was 0.23sec\n"
     ]
    },
    {
     "name": "stderr",
     "output_type": "stream",
     "text": [
      "2023-11-10 17:22:16,172 - c:\\Users\\JanMarco\\MLProjects\\Masterthesis\\masterthesis\\mthesis\\lib\\site-packages\\castle\\datasets\\simulator.py[line:270] - INFO: Finished synthetic dataset\n"
     ]
    },
    {
     "name": "stdout",
     "output_type": "stream",
     "text": [
      "Duration of algorithm was 0.31sec\n",
      "Warning: n_edges is not exact due to gcastle implementation\n",
      "Duration of algorithm was 0.52sec\n"
     ]
    },
    {
     "name": "stderr",
     "output_type": "stream",
     "text": [
      "2023-11-10 17:22:18,034 - c:\\Users\\JanMarco\\MLProjects\\Masterthesis\\masterthesis\\mthesis\\lib\\site-packages\\castle\\datasets\\simulator.py[line:270] - INFO: Finished synthetic dataset\n"
     ]
    },
    {
     "name": "stdout",
     "output_type": "stream",
     "text": [
      "Duration of algorithm was 0.66sec\n",
      "Warning: n_edges is not exact due to gcastle implementation\n",
      "Duration of algorithm was 0.71sec\n"
     ]
    },
    {
     "name": "stderr",
     "output_type": "stream",
     "text": [
      "2023-11-10 17:22:20,463 - c:\\Users\\JanMarco\\MLProjects\\Masterthesis\\masterthesis\\mthesis\\lib\\site-packages\\castle\\datasets\\simulator.py[line:270] - INFO: Finished synthetic dataset\n"
     ]
    },
    {
     "name": "stdout",
     "output_type": "stream",
     "text": [
      "Duration of algorithm was 0.86sec\n",
      "Warning: n_edges is not exact due to gcastle implementation\n",
      "Duration of algorithm was 0.51sec\n"
     ]
    },
    {
     "name": "stderr",
     "output_type": "stream",
     "text": [
      "2023-11-10 17:22:22,166 - c:\\Users\\JanMarco\\MLProjects\\Masterthesis\\masterthesis\\mthesis\\lib\\site-packages\\castle\\datasets\\simulator.py[line:270] - INFO: Finished synthetic dataset\n"
     ]
    },
    {
     "name": "stdout",
     "output_type": "stream",
     "text": [
      "Duration of algorithm was 0.58sec\n",
      "Warning: n_edges is not exact due to gcastle implementation\n",
      "Duration of algorithm was 0.69sec\n"
     ]
    },
    {
     "name": "stderr",
     "output_type": "stream",
     "text": [
      "2023-11-10 17:22:24,752 - c:\\Users\\JanMarco\\MLProjects\\Masterthesis\\masterthesis\\mthesis\\lib\\site-packages\\castle\\datasets\\simulator.py[line:270] - INFO: Finished synthetic dataset\n"
     ]
    },
    {
     "name": "stdout",
     "output_type": "stream",
     "text": [
      "Duration of algorithm was 0.93sec\n",
      "Warning: n_edges is not exact due to gcastle implementation\n",
      "Duration of algorithm was 0.81sec\n"
     ]
    },
    {
     "name": "stderr",
     "output_type": "stream",
     "text": [
      "2023-11-10 17:22:27,520 - c:\\Users\\JanMarco\\MLProjects\\Masterthesis\\masterthesis\\mthesis\\lib\\site-packages\\castle\\datasets\\simulator.py[line:270] - INFO: Finished synthetic dataset\n"
     ]
    },
    {
     "name": "stdout",
     "output_type": "stream",
     "text": [
      "Duration of algorithm was 0.99sec\n",
      "Warning: n_edges is not exact due to gcastle implementation\n",
      "Duration of algorithm was 0.67sec\n"
     ]
    },
    {
     "name": "stderr",
     "output_type": "stream",
     "text": [
      "2023-11-10 17:22:30,490 - c:\\Users\\JanMarco\\MLProjects\\Masterthesis\\masterthesis\\mthesis\\lib\\site-packages\\castle\\datasets\\simulator.py[line:270] - INFO: Finished synthetic dataset\n"
     ]
    },
    {
     "name": "stdout",
     "output_type": "stream",
     "text": [
      "Duration of algorithm was 1.14sec\n",
      "Warning: n_edges is not exact due to gcastle implementation\n",
      "Duration of algorithm was 0.22sec\n"
     ]
    },
    {
     "name": "stderr",
     "output_type": "stream",
     "text": [
      "2023-11-10 17:22:31,253 - c:\\Users\\JanMarco\\MLProjects\\Masterthesis\\masterthesis\\mthesis\\lib\\site-packages\\castle\\datasets\\simulator.py[line:270] - INFO: Finished synthetic dataset\n"
     ]
    },
    {
     "name": "stdout",
     "output_type": "stream",
     "text": [
      "Duration of algorithm was 0.26sec\n",
      "Warning: n_edges is not exact due to gcastle implementation\n",
      "Duration of algorithm was 0.22sec\n"
     ]
    },
    {
     "name": "stderr",
     "output_type": "stream",
     "text": [
      "2023-11-10 17:22:32,046 - c:\\Users\\JanMarco\\MLProjects\\Masterthesis\\masterthesis\\mthesis\\lib\\site-packages\\castle\\datasets\\simulator.py[line:270] - INFO: Finished synthetic dataset\n"
     ]
    },
    {
     "name": "stdout",
     "output_type": "stream",
     "text": [
      "Duration of algorithm was 0.27sec\n",
      "Warning: n_edges is not exact due to gcastle implementation\n",
      "Duration of algorithm was 0.30sec\n"
     ]
    },
    {
     "name": "stderr",
     "output_type": "stream",
     "text": [
      "2023-11-10 17:22:33,132 - c:\\Users\\JanMarco\\MLProjects\\Masterthesis\\masterthesis\\mthesis\\lib\\site-packages\\castle\\datasets\\simulator.py[line:270] - INFO: Finished synthetic dataset\n"
     ]
    },
    {
     "name": "stdout",
     "output_type": "stream",
     "text": [
      "Duration of algorithm was 0.38sec\n",
      "Warning: n_edges is not exact due to gcastle implementation\n",
      "Duration of algorithm was 0.42sec\n"
     ]
    },
    {
     "name": "stderr",
     "output_type": "stream",
     "text": [
      "2023-11-10 17:22:34,614 - c:\\Users\\JanMarco\\MLProjects\\Masterthesis\\masterthesis\\mthesis\\lib\\site-packages\\castle\\datasets\\simulator.py[line:270] - INFO: Finished synthetic dataset\n"
     ]
    },
    {
     "name": "stdout",
     "output_type": "stream",
     "text": [
      "Duration of algorithm was 0.52sec\n",
      "Warning: n_edges is not exact due to gcastle implementation\n",
      "Duration of algorithm was 0.21sec\n"
     ]
    },
    {
     "name": "stderr",
     "output_type": "stream",
     "text": [
      "2023-11-10 17:22:35,494 - c:\\Users\\JanMarco\\MLProjects\\Masterthesis\\masterthesis\\mthesis\\lib\\site-packages\\castle\\datasets\\simulator.py[line:270] - INFO: Finished synthetic dataset\n"
     ]
    },
    {
     "name": "stdout",
     "output_type": "stream",
     "text": [
      "Duration of algorithm was 0.32sec\n",
      "Warning: n_edges is not exact due to gcastle implementation\n",
      "Duration of algorithm was 0.29sec\n"
     ]
    },
    {
     "name": "stderr",
     "output_type": "stream",
     "text": [
      "2023-11-10 17:22:36,650 - c:\\Users\\JanMarco\\MLProjects\\Masterthesis\\masterthesis\\mthesis\\lib\\site-packages\\castle\\datasets\\simulator.py[line:270] - INFO: Finished synthetic dataset\n"
     ]
    },
    {
     "name": "stdout",
     "output_type": "stream",
     "text": [
      "Duration of algorithm was 0.42sec\n",
      "Warning: n_edges is not exact due to gcastle implementation\n",
      "Duration of algorithm was 0.33sec\n"
     ]
    },
    {
     "name": "stderr",
     "output_type": "stream",
     "text": [
      "2023-11-10 17:22:38,168 - c:\\Users\\JanMarco\\MLProjects\\Masterthesis\\masterthesis\\mthesis\\lib\\site-packages\\castle\\datasets\\simulator.py[line:270] - INFO: Finished synthetic dataset\n"
     ]
    },
    {
     "name": "stdout",
     "output_type": "stream",
     "text": [
      "Duration of algorithm was 0.58sec\n",
      "Warning: n_edges is not exact due to gcastle implementation\n",
      "Duration of algorithm was 0.34sec\n"
     ]
    },
    {
     "name": "stderr",
     "output_type": "stream",
     "text": [
      "2023-11-10 17:22:39,496 - c:\\Users\\JanMarco\\MLProjects\\Masterthesis\\masterthesis\\mthesis\\lib\\site-packages\\castle\\datasets\\simulator.py[line:270] - INFO: Finished synthetic dataset\n"
     ]
    },
    {
     "name": "stdout",
     "output_type": "stream",
     "text": [
      "Duration of algorithm was 0.48sec\n",
      "Warning: n_edges is not exact due to gcastle implementation\n",
      "Duration of algorithm was 0.29sec\n"
     ]
    },
    {
     "name": "stderr",
     "output_type": "stream",
     "text": [
      "2023-11-10 17:22:40,647 - c:\\Users\\JanMarco\\MLProjects\\Masterthesis\\masterthesis\\mthesis\\lib\\site-packages\\castle\\datasets\\simulator.py[line:270] - INFO: Finished synthetic dataset\n"
     ]
    },
    {
     "name": "stdout",
     "output_type": "stream",
     "text": [
      "Duration of algorithm was 0.41sec\n",
      "Warning: n_edges is not exact due to gcastle implementation\n",
      "Duration of algorithm was 0.35sec\n"
     ]
    },
    {
     "name": "stderr",
     "output_type": "stream",
     "text": [
      "2023-11-10 17:22:42,355 - c:\\Users\\JanMarco\\MLProjects\\Masterthesis\\masterthesis\\mthesis\\lib\\site-packages\\castle\\datasets\\simulator.py[line:270] - INFO: Finished synthetic dataset\n"
     ]
    },
    {
     "name": "stdout",
     "output_type": "stream",
     "text": [
      "Duration of algorithm was 0.70sec\n",
      "Warning: n_edges is not exact due to gcastle implementation\n",
      "Duration of algorithm was 0.35sec\n"
     ]
    },
    {
     "name": "stderr",
     "output_type": "stream",
     "text": [
      "2023-11-10 17:22:44,131 - c:\\Users\\JanMarco\\MLProjects\\Masterthesis\\masterthesis\\mthesis\\lib\\site-packages\\castle\\datasets\\simulator.py[line:270] - INFO: Finished synthetic dataset\n"
     ]
    },
    {
     "name": "stdout",
     "output_type": "stream",
     "text": [
      "Duration of algorithm was 0.72sec\n",
      "Warning: n_edges is not exact due to gcastle implementation\n",
      "Duration of algorithm was 0.52sec\n"
     ]
    },
    {
     "name": "stderr",
     "output_type": "stream",
     "text": [
      "2023-11-10 17:22:46,468 - c:\\Users\\JanMarco\\MLProjects\\Masterthesis\\masterthesis\\mthesis\\lib\\site-packages\\castle\\datasets\\simulator.py[line:270] - INFO: Finished synthetic dataset\n"
     ]
    },
    {
     "name": "stdout",
     "output_type": "stream",
     "text": [
      "Duration of algorithm was 0.90sec\n",
      "Warning: n_edges is not exact due to gcastle implementation\n",
      "Duration of algorithm was 0.59sec\n"
     ]
    },
    {
     "name": "stderr",
     "output_type": "stream",
     "text": [
      "2023-11-10 17:22:49,315 - c:\\Users\\JanMarco\\MLProjects\\Masterthesis\\masterthesis\\mthesis\\lib\\site-packages\\castle\\datasets\\simulator.py[line:270] - INFO: Finished synthetic dataset\n"
     ]
    },
    {
     "name": "stdout",
     "output_type": "stream",
     "text": [
      "Duration of algorithm was 1.13sec\n",
      "Warning: n_edges is not exact due to gcastle implementation\n",
      "Duration of algorithm was 0.71sec\n"
     ]
    },
    {
     "name": "stderr",
     "output_type": "stream",
     "text": [
      "2023-11-10 17:22:51,980 - c:\\Users\\JanMarco\\MLProjects\\Masterthesis\\masterthesis\\mthesis\\lib\\site-packages\\castle\\datasets\\simulator.py[line:270] - INFO: Finished synthetic dataset\n"
     ]
    },
    {
     "name": "stdout",
     "output_type": "stream",
     "text": [
      "Duration of algorithm was 0.96sec\n",
      "Warning: n_edges is not exact due to gcastle implementation\n",
      "Duration of algorithm was 0.51sec\n"
     ]
    },
    {
     "name": "stderr",
     "output_type": "stream",
     "text": [
      "2023-11-10 17:22:54,145 - c:\\Users\\JanMarco\\MLProjects\\Masterthesis\\masterthesis\\mthesis\\lib\\site-packages\\castle\\datasets\\simulator.py[line:270] - INFO: Finished synthetic dataset\n"
     ]
    },
    {
     "name": "stdout",
     "output_type": "stream",
     "text": [
      "Duration of algorithm was 0.80sec\n",
      "Warning: n_edges is not exact due to gcastle implementation\n",
      "Duration of algorithm was 0.73sec\n"
     ]
    },
    {
     "name": "stderr",
     "output_type": "stream",
     "text": [
      "2023-11-10 17:22:56,363 - c:\\Users\\JanMarco\\MLProjects\\Masterthesis\\masterthesis\\mthesis\\lib\\site-packages\\castle\\datasets\\simulator.py[line:270] - INFO: Finished synthetic dataset\n"
     ]
    },
    {
     "name": "stdout",
     "output_type": "stream",
     "text": [
      "Duration of algorithm was 0.72sec\n",
      "Warning: n_edges is not exact due to gcastle implementation\n",
      "Duration of algorithm was 0.90sec\n"
     ]
    },
    {
     "name": "stderr",
     "output_type": "stream",
     "text": [
      "2023-11-10 17:22:59,150 - c:\\Users\\JanMarco\\MLProjects\\Masterthesis\\masterthesis\\mthesis\\lib\\site-packages\\castle\\datasets\\simulator.py[line:270] - INFO: Finished synthetic dataset\n"
     ]
    },
    {
     "name": "stdout",
     "output_type": "stream",
     "text": [
      "Duration of algorithm was 0.95sec\n",
      "Warning: n_edges is not exact due to gcastle implementation\n",
      "Duration of algorithm was 0.53sec\n"
     ]
    },
    {
     "name": "stderr",
     "output_type": "stream",
     "text": [
      "2023-11-10 17:23:00,839 - c:\\Users\\JanMarco\\MLProjects\\Masterthesis\\masterthesis\\mthesis\\lib\\site-packages\\castle\\datasets\\simulator.py[line:270] - INFO: Finished synthetic dataset\n"
     ]
    },
    {
     "name": "stdout",
     "output_type": "stream",
     "text": [
      "Duration of algorithm was 0.57sec\n",
      "Warning: n_edges is not exact due to gcastle implementation\n",
      "Duration of algorithm was 1.11sec\n"
     ]
    },
    {
     "name": "stderr",
     "output_type": "stream",
     "text": [
      "2023-11-10 17:23:04,187 - c:\\Users\\JanMarco\\MLProjects\\Masterthesis\\masterthesis\\mthesis\\lib\\site-packages\\castle\\datasets\\simulator.py[line:270] - INFO: Finished synthetic dataset\n"
     ]
    },
    {
     "name": "stdout",
     "output_type": "stream",
     "text": [
      "Duration of algorithm was 1.10sec\n",
      "Warning: n_edges is not exact due to gcastle implementation\n",
      "Duration of algorithm was 0.83sec\n"
     ]
    },
    {
     "name": "stderr",
     "output_type": "stream",
     "text": [
      "2023-11-10 17:23:06,706 - c:\\Users\\JanMarco\\MLProjects\\Masterthesis\\masterthesis\\mthesis\\lib\\site-packages\\castle\\datasets\\simulator.py[line:270] - INFO: Finished synthetic dataset\n"
     ]
    },
    {
     "name": "stdout",
     "output_type": "stream",
     "text": [
      "Duration of algorithm was 0.81sec\n",
      "Warning: n_edges is not exact due to gcastle implementation\n",
      "Duration of algorithm was 0.90sec\n"
     ]
    },
    {
     "name": "stderr",
     "output_type": "stream",
     "text": [
      "2023-11-10 17:23:09,466 - c:\\Users\\JanMarco\\MLProjects\\Masterthesis\\masterthesis\\mthesis\\lib\\site-packages\\castle\\datasets\\simulator.py[line:270] - INFO: Finished synthetic dataset\n"
     ]
    },
    {
     "name": "stdout",
     "output_type": "stream",
     "text": [
      "Duration of algorithm was 0.90sec\n",
      "Warning: n_edges is not exact due to gcastle implementation\n",
      "Duration of algorithm was 0.90sec\n"
     ]
    },
    {
     "name": "stderr",
     "output_type": "stream",
     "text": [
      "2023-11-10 17:23:12,200 - c:\\Users\\JanMarco\\MLProjects\\Masterthesis\\masterthesis\\mthesis\\lib\\site-packages\\castle\\datasets\\simulator.py[line:270] - INFO: Finished synthetic dataset\n"
     ]
    },
    {
     "name": "stdout",
     "output_type": "stream",
     "text": [
      "Duration of algorithm was 0.89sec\n",
      "Warning: n_edges is not exact due to gcastle implementation\n",
      "Duration of algorithm was 0.78sec\n"
     ]
    },
    {
     "name": "stderr",
     "output_type": "stream",
     "text": [
      "2023-11-10 17:23:14,588 - c:\\Users\\JanMarco\\MLProjects\\Masterthesis\\masterthesis\\mthesis\\lib\\site-packages\\castle\\datasets\\simulator.py[line:270] - INFO: Finished synthetic dataset\n"
     ]
    },
    {
     "name": "stdout",
     "output_type": "stream",
     "text": [
      "Duration of algorithm was 0.79sec\n",
      "Warning: n_edges is not exact due to gcastle implementation\n",
      "Duration of algorithm was 0.88sec\n"
     ]
    },
    {
     "name": "stderr",
     "output_type": "stream",
     "text": [
      "2023-11-10 17:23:17,336 - c:\\Users\\JanMarco\\MLProjects\\Masterthesis\\masterthesis\\mthesis\\lib\\site-packages\\castle\\datasets\\simulator.py[line:270] - INFO: Finished synthetic dataset\n"
     ]
    },
    {
     "name": "stdout",
     "output_type": "stream",
     "text": [
      "Duration of algorithm was 0.94sec\n",
      "Warning: n_edges is not exact due to gcastle implementation\n",
      "Duration of algorithm was 0.97sec\n"
     ]
    },
    {
     "name": "stderr",
     "output_type": "stream",
     "text": [
      "2023-11-10 17:23:20,300 - c:\\Users\\JanMarco\\MLProjects\\Masterthesis\\masterthesis\\mthesis\\lib\\site-packages\\castle\\datasets\\simulator.py[line:270] - INFO: Finished synthetic dataset\n"
     ]
    },
    {
     "name": "stdout",
     "output_type": "stream",
     "text": [
      "Duration of algorithm was 0.98sec\n",
      "Warning: n_edges is not exact due to gcastle implementation\n",
      "Duration of algorithm was 1.30sec\n"
     ]
    },
    {
     "name": "stderr",
     "output_type": "stream",
     "text": [
      "2023-11-10 17:23:24,287 - c:\\Users\\JanMarco\\MLProjects\\Masterthesis\\masterthesis\\mthesis\\lib\\site-packages\\castle\\datasets\\simulator.py[line:270] - INFO: Finished synthetic dataset\n"
     ]
    },
    {
     "name": "stdout",
     "output_type": "stream",
     "text": [
      "Duration of algorithm was 1.31sec\n",
      "Warning: n_edges is not exact due to gcastle implementation\n",
      "Duration of algorithm was 1.25sec\n"
     ]
    },
    {
     "name": "stderr",
     "output_type": "stream",
     "text": [
      "2023-11-10 17:23:28,031 - c:\\Users\\JanMarco\\MLProjects\\Masterthesis\\masterthesis\\mthesis\\lib\\site-packages\\castle\\datasets\\simulator.py[line:270] - INFO: Finished synthetic dataset\n"
     ]
    },
    {
     "name": "stdout",
     "output_type": "stream",
     "text": [
      "Duration of algorithm was 1.22sec\n",
      "Warning: n_edges is not exact due to gcastle implementation\n",
      "Duration of algorithm was 1.56sec\n"
     ]
    },
    {
     "name": "stderr",
     "output_type": "stream",
     "text": [
      "2023-11-10 17:23:32,744 - c:\\Users\\JanMarco\\MLProjects\\Masterthesis\\masterthesis\\mthesis\\lib\\site-packages\\castle\\datasets\\simulator.py[line:270] - INFO: Finished synthetic dataset\n"
     ]
    },
    {
     "name": "stdout",
     "output_type": "stream",
     "text": [
      "Duration of algorithm was 1.55sec\n",
      "Warning: n_edges is not exact due to gcastle implementation\n",
      "Duration of algorithm was 2.04sec\n"
     ]
    },
    {
     "name": "stderr",
     "output_type": "stream",
     "text": [
      "2023-11-10 17:23:38,742 - c:\\Users\\JanMarco\\MLProjects\\Masterthesis\\masterthesis\\mthesis\\lib\\site-packages\\castle\\datasets\\simulator.py[line:270] - INFO: Finished synthetic dataset\n"
     ]
    },
    {
     "name": "stdout",
     "output_type": "stream",
     "text": [
      "Duration of algorithm was 1.96sec\n",
      "Warning: n_edges is not exact due to gcastle implementation\n",
      "Duration of algorithm was 1.73sec\n"
     ]
    },
    {
     "name": "stderr",
     "output_type": "stream",
     "text": [
      "2023-11-10 17:23:43,939 - c:\\Users\\JanMarco\\MLProjects\\Masterthesis\\masterthesis\\mthesis\\lib\\site-packages\\castle\\datasets\\simulator.py[line:270] - INFO: Finished synthetic dataset\n"
     ]
    },
    {
     "name": "stdout",
     "output_type": "stream",
     "text": [
      "Duration of algorithm was 1.70sec\n",
      "Warning: n_edges is not exact due to gcastle implementation\n",
      "Duration of algorithm was 0.61sec\n"
     ]
    },
    {
     "name": "stderr",
     "output_type": "stream",
     "text": [
      "2023-11-10 17:23:45,825 - c:\\Users\\JanMarco\\MLProjects\\Masterthesis\\masterthesis\\mthesis\\lib\\site-packages\\castle\\datasets\\simulator.py[line:270] - INFO: Finished synthetic dataset\n"
     ]
    },
    {
     "name": "stdout",
     "output_type": "stream",
     "text": [
      "Duration of algorithm was 0.63sec\n",
      "Warning: n_edges is not exact due to gcastle implementation\n",
      "Duration of algorithm was 0.72sec\n"
     ]
    },
    {
     "name": "stderr",
     "output_type": "stream",
     "text": [
      "2023-11-10 17:23:48,032 - c:\\Users\\JanMarco\\MLProjects\\Masterthesis\\masterthesis\\mthesis\\lib\\site-packages\\castle\\datasets\\simulator.py[line:270] - INFO: Finished synthetic dataset\n"
     ]
    },
    {
     "name": "stdout",
     "output_type": "stream",
     "text": [
      "Duration of algorithm was 0.72sec\n",
      "Warning: n_edges is not exact due to gcastle implementation\n",
      "Duration of algorithm was 0.55sec\n"
     ]
    },
    {
     "name": "stderr",
     "output_type": "stream",
     "text": [
      "2023-11-10 17:23:49,771 - c:\\Users\\JanMarco\\MLProjects\\Masterthesis\\masterthesis\\mthesis\\lib\\site-packages\\castle\\datasets\\simulator.py[line:270] - INFO: Finished synthetic dataset\n"
     ]
    },
    {
     "name": "stdout",
     "output_type": "stream",
     "text": [
      "Duration of algorithm was 0.57sec\n",
      "Warning: n_edges is not exact due to gcastle implementation\n",
      "Duration of algorithm was 0.68sec\n"
     ]
    },
    {
     "name": "stderr",
     "output_type": "stream",
     "text": [
      "2023-11-10 17:23:51,976 - c:\\Users\\JanMarco\\MLProjects\\Masterthesis\\masterthesis\\mthesis\\lib\\site-packages\\castle\\datasets\\simulator.py[line:270] - INFO: Finished synthetic dataset\n"
     ]
    },
    {
     "name": "stdout",
     "output_type": "stream",
     "text": [
      "Duration of algorithm was 0.73sec\n",
      "Warning: n_edges is not exact due to gcastle implementation\n",
      "Duration of algorithm was 0.68sec\n"
     ]
    },
    {
     "name": "stderr",
     "output_type": "stream",
     "text": [
      "2023-11-10 17:23:54,423 - c:\\Users\\JanMarco\\MLProjects\\Masterthesis\\masterthesis\\mthesis\\lib\\site-packages\\castle\\datasets\\simulator.py[line:270] - INFO: Finished synthetic dataset\n"
     ]
    },
    {
     "name": "stdout",
     "output_type": "stream",
     "text": [
      "Duration of algorithm was 0.89sec\n",
      "Warning: n_edges is not exact due to gcastle implementation\n",
      "Duration of algorithm was 0.56sec\n"
     ]
    },
    {
     "name": "stderr",
     "output_type": "stream",
     "text": [
      "2023-11-10 17:23:56,303 - c:\\Users\\JanMarco\\MLProjects\\Masterthesis\\masterthesis\\mthesis\\lib\\site-packages\\castle\\datasets\\simulator.py[line:270] - INFO: Finished synthetic dataset\n"
     ]
    },
    {
     "name": "stdout",
     "output_type": "stream",
     "text": [
      "Duration of algorithm was 0.63sec\n",
      "Warning: n_edges is not exact due to gcastle implementation\n",
      "Duration of algorithm was 0.78sec\n"
     ]
    },
    {
     "name": "stderr",
     "output_type": "stream",
     "text": [
      "2023-11-10 17:23:59,269 - c:\\Users\\JanMarco\\MLProjects\\Masterthesis\\masterthesis\\mthesis\\lib\\site-packages\\castle\\datasets\\simulator.py[line:270] - INFO: Finished synthetic dataset\n"
     ]
    },
    {
     "name": "stdout",
     "output_type": "stream",
     "text": [
      "Duration of algorithm was 1.09sec\n",
      "Warning: n_edges is not exact due to gcastle implementation\n",
      "Duration of algorithm was 0.88sec\n"
     ]
    },
    {
     "name": "stderr",
     "output_type": "stream",
     "text": [
      "2023-11-10 17:24:01,957 - c:\\Users\\JanMarco\\MLProjects\\Masterthesis\\masterthesis\\mthesis\\lib\\site-packages\\castle\\datasets\\simulator.py[line:270] - INFO: Finished synthetic dataset\n"
     ]
    },
    {
     "name": "stdout",
     "output_type": "stream",
     "text": [
      "Duration of algorithm was 0.90sec\n",
      "Warning: n_edges is not exact due to gcastle implementation\n",
      "Duration of algorithm was 0.73sec\n"
     ]
    },
    {
     "name": "stderr",
     "output_type": "stream",
     "text": [
      "2023-11-10 17:24:04,523 - c:\\Users\\JanMarco\\MLProjects\\Masterthesis\\masterthesis\\mthesis\\lib\\site-packages\\castle\\datasets\\simulator.py[line:270] - INFO: Finished synthetic dataset\n"
     ]
    },
    {
     "name": "stdout",
     "output_type": "stream",
     "text": [
      "Duration of algorithm was 0.89sec\n",
      "Warning: n_edges is not exact due to gcastle implementation\n",
      "Duration of algorithm was 0.86sec\n"
     ]
    },
    {
     "name": "stderr",
     "output_type": "stream",
     "text": [
      "2023-11-10 17:24:07,444 - c:\\Users\\JanMarco\\MLProjects\\Masterthesis\\masterthesis\\mthesis\\lib\\site-packages\\castle\\datasets\\simulator.py[line:270] - INFO: Finished synthetic dataset\n"
     ]
    },
    {
     "name": "stdout",
     "output_type": "stream",
     "text": [
      "Duration of algorithm was 1.00sec\n",
      "Warning: n_edges is not exact due to gcastle implementation\n",
      "Duration of algorithm was 1.36sec\n"
     ]
    },
    {
     "name": "stderr",
     "output_type": "stream",
     "text": [
      "2023-11-10 17:24:11,734 - c:\\Users\\JanMarco\\MLProjects\\Masterthesis\\masterthesis\\mthesis\\lib\\site-packages\\castle\\datasets\\simulator.py[line:270] - INFO: Finished synthetic dataset\n"
     ]
    },
    {
     "name": "stdout",
     "output_type": "stream",
     "text": [
      "Duration of algorithm was 1.40sec\n",
      "Warning: n_edges is not exact due to gcastle implementation\n",
      "Duration of algorithm was 0.91sec\n"
     ]
    },
    {
     "name": "stderr",
     "output_type": "stream",
     "text": [
      "2023-11-10 17:24:15,117 - c:\\Users\\JanMarco\\MLProjects\\Masterthesis\\masterthesis\\mthesis\\lib\\site-packages\\castle\\datasets\\simulator.py[line:270] - INFO: Finished synthetic dataset\n"
     ]
    },
    {
     "name": "stdout",
     "output_type": "stream",
     "text": [
      "Duration of algorithm was 1.22sec\n",
      "Warning: n_edges is not exact due to gcastle implementation\n",
      "Duration of algorithm was 1.57sec\n"
     ]
    },
    {
     "name": "stderr",
     "output_type": "stream",
     "text": [
      "2023-11-10 17:24:20,413 - c:\\Users\\JanMarco\\MLProjects\\Masterthesis\\masterthesis\\mthesis\\lib\\site-packages\\castle\\datasets\\simulator.py[line:270] - INFO: Finished synthetic dataset\n"
     ]
    },
    {
     "name": "stdout",
     "output_type": "stream",
     "text": [
      "Duration of algorithm was 1.82sec\n",
      "Warning: n_edges is not exact due to gcastle implementation\n",
      "Duration of algorithm was 1.48sec\n"
     ]
    },
    {
     "name": "stderr",
     "output_type": "stream",
     "text": [
      "2023-11-10 17:24:25,150 - c:\\Users\\JanMarco\\MLProjects\\Masterthesis\\masterthesis\\mthesis\\lib\\site-packages\\castle\\datasets\\simulator.py[line:270] - INFO: Finished synthetic dataset\n"
     ]
    },
    {
     "name": "stdout",
     "output_type": "stream",
     "text": [
      "Duration of algorithm was 1.61sec\n",
      "Warning: n_edges is not exact due to gcastle implementation\n",
      "Duration of algorithm was 1.32sec\n"
     ]
    },
    {
     "name": "stderr",
     "output_type": "stream",
     "text": [
      "2023-11-10 17:24:29,544 - c:\\Users\\JanMarco\\MLProjects\\Masterthesis\\masterthesis\\mthesis\\lib\\site-packages\\castle\\datasets\\simulator.py[line:270] - INFO: Finished synthetic dataset\n"
     ]
    },
    {
     "name": "stdout",
     "output_type": "stream",
     "text": [
      "Duration of algorithm was 1.51sec\n",
      "Warning: n_edges is not exact due to gcastle implementation\n",
      "Duration of algorithm was 0.67sec\n"
     ]
    },
    {
     "name": "stderr",
     "output_type": "stream",
     "text": [
      "2023-11-10 17:24:31,771 - c:\\Users\\JanMarco\\MLProjects\\Masterthesis\\masterthesis\\mthesis\\lib\\site-packages\\castle\\datasets\\simulator.py[line:270] - INFO: Finished synthetic dataset\n"
     ]
    },
    {
     "name": "stdout",
     "output_type": "stream",
     "text": [
      "Duration of algorithm was 0.78sec\n",
      "Warning: n_edges is not exact due to gcastle implementation\n",
      "Duration of algorithm was 0.53sec\n"
     ]
    },
    {
     "name": "stderr",
     "output_type": "stream",
     "text": [
      "2023-11-10 17:24:33,744 - c:\\Users\\JanMarco\\MLProjects\\Masterthesis\\masterthesis\\mthesis\\lib\\site-packages\\castle\\datasets\\simulator.py[line:270] - INFO: Finished synthetic dataset\n"
     ]
    },
    {
     "name": "stdout",
     "output_type": "stream",
     "text": [
      "Duration of algorithm was 0.70sec\n",
      "Warning: n_edges is not exact due to gcastle implementation\n",
      "Duration of algorithm was 0.58sec\n"
     ]
    },
    {
     "name": "stderr",
     "output_type": "stream",
     "text": [
      "2023-11-10 17:24:35,630 - c:\\Users\\JanMarco\\MLProjects\\Masterthesis\\masterthesis\\mthesis\\lib\\site-packages\\castle\\datasets\\simulator.py[line:270] - INFO: Finished synthetic dataset\n"
     ]
    },
    {
     "name": "stdout",
     "output_type": "stream",
     "text": [
      "Duration of algorithm was 0.63sec\n",
      "Warning: n_edges is not exact due to gcastle implementation\n",
      "Duration of algorithm was 0.72sec\n"
     ]
    },
    {
     "name": "stderr",
     "output_type": "stream",
     "text": [
      "2023-11-10 17:24:38,171 - c:\\Users\\JanMarco\\MLProjects\\Masterthesis\\masterthesis\\mthesis\\lib\\site-packages\\castle\\datasets\\simulator.py[line:270] - INFO: Finished synthetic dataset\n"
     ]
    },
    {
     "name": "stdout",
     "output_type": "stream",
     "text": [
      "Duration of algorithm was 0.89sec\n",
      "Warning: n_edges is not exact due to gcastle implementation\n",
      "Duration of algorithm was 0.65sec\n"
     ]
    },
    {
     "name": "stderr",
     "output_type": "stream",
     "text": [
      "2023-11-10 17:24:40,527 - c:\\Users\\JanMarco\\MLProjects\\Masterthesis\\masterthesis\\mthesis\\lib\\site-packages\\castle\\datasets\\simulator.py[line:270] - INFO: Finished synthetic dataset\n"
     ]
    },
    {
     "name": "stdout",
     "output_type": "stream",
     "text": [
      "Duration of algorithm was 0.84sec\n",
      "Warning: n_edges is not exact due to gcastle implementation\n",
      "Duration of algorithm was 0.65sec\n"
     ]
    },
    {
     "name": "stderr",
     "output_type": "stream",
     "text": [
      "2023-11-10 17:24:42,900 - c:\\Users\\JanMarco\\MLProjects\\Masterthesis\\masterthesis\\mthesis\\lib\\site-packages\\castle\\datasets\\simulator.py[line:270] - INFO: Finished synthetic dataset\n"
     ]
    },
    {
     "name": "stdout",
     "output_type": "stream",
     "text": [
      "Duration of algorithm was 0.84sec\n",
      "Warning: n_edges is not exact due to gcastle implementation\n",
      "Duration of algorithm was 0.81sec\n"
     ]
    },
    {
     "name": "stderr",
     "output_type": "stream",
     "text": [
      "2023-11-10 17:24:45,837 - c:\\Users\\JanMarco\\MLProjects\\Masterthesis\\masterthesis\\mthesis\\lib\\site-packages\\castle\\datasets\\simulator.py[line:270] - INFO: Finished synthetic dataset\n"
     ]
    },
    {
     "name": "stdout",
     "output_type": "stream",
     "text": [
      "Duration of algorithm was 1.06sec\n",
      "Warning: n_edges is not exact due to gcastle implementation\n",
      "Duration of algorithm was 0.86sec\n"
     ]
    },
    {
     "name": "stderr",
     "output_type": "stream",
     "text": [
      "2023-11-10 17:24:48,654 - c:\\Users\\JanMarco\\MLProjects\\Masterthesis\\masterthesis\\mthesis\\lib\\site-packages\\castle\\datasets\\simulator.py[line:270] - INFO: Finished synthetic dataset\n"
     ]
    },
    {
     "name": "stdout",
     "output_type": "stream",
     "text": [
      "Duration of algorithm was 0.95sec\n",
      "Warning: n_edges is not exact due to gcastle implementation\n",
      "Duration of algorithm was 0.69sec\n"
     ]
    },
    {
     "name": "stderr",
     "output_type": "stream",
     "text": [
      "2023-11-10 17:24:51,286 - c:\\Users\\JanMarco\\MLProjects\\Masterthesis\\masterthesis\\mthesis\\lib\\site-packages\\castle\\datasets\\simulator.py[line:270] - INFO: Finished synthetic dataset\n"
     ]
    },
    {
     "name": "stdout",
     "output_type": "stream",
     "text": [
      "Duration of algorithm was 0.94sec\n",
      "Warning: n_edges is not exact due to gcastle implementation\n",
      "Duration of algorithm was 0.95sec\n"
     ]
    },
    {
     "name": "stderr",
     "output_type": "stream",
     "text": [
      "2023-11-10 17:24:55,004 - c:\\Users\\JanMarco\\MLProjects\\Masterthesis\\masterthesis\\mthesis\\lib\\site-packages\\castle\\datasets\\simulator.py[line:270] - INFO: Finished synthetic dataset\n"
     ]
    },
    {
     "name": "stdout",
     "output_type": "stream",
     "text": [
      "Duration of algorithm was 1.35sec\n",
      "Warning: n_edges is not exact due to gcastle implementation\n",
      "Duration of algorithm was 1.21sec\n"
     ]
    },
    {
     "name": "stderr",
     "output_type": "stream",
     "text": [
      "2023-11-10 17:24:58,979 - c:\\Users\\JanMarco\\MLProjects\\Masterthesis\\masterthesis\\mthesis\\lib\\site-packages\\castle\\datasets\\simulator.py[line:270] - INFO: Finished synthetic dataset\n"
     ]
    },
    {
     "name": "stdout",
     "output_type": "stream",
     "text": [
      "Duration of algorithm was 1.36sec\n",
      "Warning: n_edges is not exact due to gcastle implementation\n",
      "Duration of algorithm was 0.96sec\n"
     ]
    },
    {
     "name": "stderr",
     "output_type": "stream",
     "text": [
      "2023-11-10 17:25:02,202 - c:\\Users\\JanMarco\\MLProjects\\Masterthesis\\masterthesis\\mthesis\\lib\\site-packages\\castle\\datasets\\simulator.py[line:270] - INFO: Finished synthetic dataset\n"
     ]
    },
    {
     "name": "stdout",
     "output_type": "stream",
     "text": [
      "Duration of algorithm was 1.13sec\n",
      "Warning: n_edges is not exact due to gcastle implementation\n",
      "Duration of algorithm was 1.08sec\n"
     ]
    },
    {
     "name": "stderr",
     "output_type": "stream",
     "text": [
      "2023-11-10 17:25:06,324 - c:\\Users\\JanMarco\\MLProjects\\Masterthesis\\masterthesis\\mthesis\\lib\\site-packages\\castle\\datasets\\simulator.py[line:270] - INFO: Finished synthetic dataset\n"
     ]
    },
    {
     "name": "stdout",
     "output_type": "stream",
     "text": [
      "Duration of algorithm was 1.50sec\n",
      "Warning: n_edges is not exact due to gcastle implementation\n",
      "Duration of algorithm was 1.56sec\n"
     ]
    },
    {
     "name": "stderr",
     "output_type": "stream",
     "text": [
      "2023-11-10 17:25:11,577 - c:\\Users\\JanMarco\\MLProjects\\Masterthesis\\masterthesis\\mthesis\\lib\\site-packages\\castle\\datasets\\simulator.py[line:270] - INFO: Finished synthetic dataset\n"
     ]
    },
    {
     "name": "stdout",
     "output_type": "stream",
     "text": [
      "Duration of algorithm was 1.82sec\n",
      "Warning: n_edges is not exact due to gcastle implementation\n",
      "Duration of algorithm was 1.72sec\n"
     ]
    },
    {
     "name": "stderr",
     "output_type": "stream",
     "text": [
      "2023-11-10 17:25:17,166 - c:\\Users\\JanMarco\\MLProjects\\Masterthesis\\masterthesis\\mthesis\\lib\\site-packages\\castle\\datasets\\simulator.py[line:270] - INFO: Finished synthetic dataset\n"
     ]
    },
    {
     "name": "stdout",
     "output_type": "stream",
     "text": [
      "Duration of algorithm was 1.89sec\n",
      "Warning: n_edges is not exact due to gcastle implementation\n",
      "Duration of algorithm was 0.50sec\n"
     ]
    },
    {
     "name": "stderr",
     "output_type": "stream",
     "text": [
      "2023-11-10 17:25:19,231 - c:\\Users\\JanMarco\\MLProjects\\Masterthesis\\masterthesis\\mthesis\\lib\\site-packages\\castle\\datasets\\simulator.py[line:270] - INFO: Finished synthetic dataset\n"
     ]
    },
    {
     "name": "stdout",
     "output_type": "stream",
     "text": [
      "Duration of algorithm was 0.75sec\n",
      "Warning: n_edges is not exact due to gcastle implementation\n",
      "Duration of algorithm was 0.65sec\n"
     ]
    },
    {
     "name": "stderr",
     "output_type": "stream",
     "text": [
      "2023-11-10 17:25:21,957 - c:\\Users\\JanMarco\\MLProjects\\Masterthesis\\masterthesis\\mthesis\\lib\\site-packages\\castle\\datasets\\simulator.py[line:270] - INFO: Finished synthetic dataset\n"
     ]
    },
    {
     "name": "stdout",
     "output_type": "stream",
     "text": [
      "Duration of algorithm was 1.05sec\n",
      "Warning: n_edges is not exact due to gcastle implementation\n",
      "Duration of algorithm was 0.55sec\n"
     ]
    },
    {
     "name": "stderr",
     "output_type": "stream",
     "text": [
      "2023-11-10 17:25:23,845 - c:\\Users\\JanMarco\\MLProjects\\Masterthesis\\masterthesis\\mthesis\\lib\\site-packages\\castle\\datasets\\simulator.py[line:270] - INFO: Finished synthetic dataset\n"
     ]
    },
    {
     "name": "stdout",
     "output_type": "stream",
     "text": [
      "Duration of algorithm was 0.66sec\n",
      "Warning: n_edges is not exact due to gcastle implementation\n",
      "Duration of algorithm was 0.82sec\n"
     ]
    },
    {
     "name": "stderr",
     "output_type": "stream",
     "text": [
      "2023-11-10 17:25:26,696 - c:\\Users\\JanMarco\\MLProjects\\Masterthesis\\masterthesis\\mthesis\\lib\\site-packages\\castle\\datasets\\simulator.py[line:270] - INFO: Finished synthetic dataset\n"
     ]
    },
    {
     "name": "stdout",
     "output_type": "stream",
     "text": [
      "Duration of algorithm was 0.99sec\n",
      "Warning: n_edges is not exact due to gcastle implementation\n",
      "Duration of algorithm was 0.61sec\n"
     ]
    },
    {
     "name": "stderr",
     "output_type": "stream",
     "text": [
      "2023-11-10 17:25:28,948 - c:\\Users\\JanMarco\\MLProjects\\Masterthesis\\masterthesis\\mthesis\\lib\\site-packages\\castle\\datasets\\simulator.py[line:270] - INFO: Finished synthetic dataset\n"
     ]
    },
    {
     "name": "stdout",
     "output_type": "stream",
     "text": [
      "Duration of algorithm was 0.80sec\n",
      "Warning: n_edges is not exact due to gcastle implementation\n",
      "Duration of algorithm was 0.73sec\n"
     ]
    },
    {
     "name": "stderr",
     "output_type": "stream",
     "text": [
      "2023-11-10 17:25:31,198 - c:\\Users\\JanMarco\\MLProjects\\Masterthesis\\masterthesis\\mthesis\\lib\\site-packages\\castle\\datasets\\simulator.py[line:270] - INFO: Finished synthetic dataset\n"
     ]
    },
    {
     "name": "stdout",
     "output_type": "stream",
     "text": [
      "Duration of algorithm was 0.75sec\n",
      "Warning: n_edges is not exact due to gcastle implementation\n",
      "Duration of algorithm was 0.60sec\n"
     ]
    },
    {
     "name": "stderr",
     "output_type": "stream",
     "text": [
      "2023-11-10 17:25:33,436 - c:\\Users\\JanMarco\\MLProjects\\Masterthesis\\masterthesis\\mthesis\\lib\\site-packages\\castle\\datasets\\simulator.py[line:270] - INFO: Finished synthetic dataset\n"
     ]
    },
    {
     "name": "stdout",
     "output_type": "stream",
     "text": [
      "Duration of algorithm was 0.82sec\n",
      "Warning: n_edges is not exact due to gcastle implementation\n",
      "Duration of algorithm was 0.64sec\n"
     ]
    },
    {
     "name": "stderr",
     "output_type": "stream",
     "text": [
      "2023-11-10 17:25:36,551 - c:\\Users\\JanMarco\\MLProjects\\Masterthesis\\masterthesis\\mthesis\\lib\\site-packages\\castle\\datasets\\simulator.py[line:270] - INFO: Finished synthetic dataset\n"
     ]
    },
    {
     "name": "stdout",
     "output_type": "stream",
     "text": [
      "Duration of algorithm was 1.20sec\n",
      "Warning: n_edges is not exact due to gcastle implementation\n",
      "Duration of algorithm was 0.76sec\n"
     ]
    },
    {
     "name": "stderr",
     "output_type": "stream",
     "text": [
      "2023-11-10 17:25:39,021 - c:\\Users\\JanMarco\\MLProjects\\Masterthesis\\masterthesis\\mthesis\\lib\\site-packages\\castle\\datasets\\simulator.py[line:270] - INFO: Finished synthetic dataset\n"
     ]
    },
    {
     "name": "stdout",
     "output_type": "stream",
     "text": [
      "Duration of algorithm was 0.84sec\n",
      "Warning: n_edges is not exact due to gcastle implementation\n",
      "Duration of algorithm was 0.97sec\n"
     ]
    },
    {
     "name": "stderr",
     "output_type": "stream",
     "text": [
      "2023-11-10 17:25:42,491 - c:\\Users\\JanMarco\\MLProjects\\Masterthesis\\masterthesis\\mthesis\\lib\\site-packages\\castle\\datasets\\simulator.py[line:270] - INFO: Finished synthetic dataset\n"
     ]
    },
    {
     "name": "stdout",
     "output_type": "stream",
     "text": [
      "Duration of algorithm was 1.23sec\n",
      "Warning: n_edges is not exact due to gcastle implementation\n",
      "Duration of algorithm was 0.90sec\n"
     ]
    },
    {
     "name": "stderr",
     "output_type": "stream",
     "text": [
      "2023-11-10 17:25:45,913 - c:\\Users\\JanMarco\\MLProjects\\Masterthesis\\masterthesis\\mthesis\\lib\\site-packages\\castle\\datasets\\simulator.py[line:270] - INFO: Finished synthetic dataset\n"
     ]
    },
    {
     "name": "stdout",
     "output_type": "stream",
     "text": [
      "Duration of algorithm was 1.24sec\n",
      "Warning: n_edges is not exact due to gcastle implementation\n",
      "Duration of algorithm was 0.98sec\n"
     ]
    },
    {
     "name": "stderr",
     "output_type": "stream",
     "text": [
      "2023-11-10 17:25:49,806 - c:\\Users\\JanMarco\\MLProjects\\Masterthesis\\masterthesis\\mthesis\\lib\\site-packages\\castle\\datasets\\simulator.py[line:270] - INFO: Finished synthetic dataset\n"
     ]
    },
    {
     "name": "stdout",
     "output_type": "stream",
     "text": [
      "Duration of algorithm was 1.40sec\n",
      "Warning: n_edges is not exact due to gcastle implementation\n",
      "Duration of algorithm was 1.18sec\n"
     ]
    },
    {
     "name": "stderr",
     "output_type": "stream",
     "text": [
      "2023-11-10 17:25:54,338 - c:\\Users\\JanMarco\\MLProjects\\Masterthesis\\masterthesis\\mthesis\\lib\\site-packages\\castle\\datasets\\simulator.py[line:270] - INFO: Finished synthetic dataset\n"
     ]
    },
    {
     "name": "stdout",
     "output_type": "stream",
     "text": [
      "Duration of algorithm was 1.63sec\n",
      "Warning: n_edges is not exact due to gcastle implementation\n",
      "Duration of algorithm was 1.14sec\n"
     ]
    },
    {
     "name": "stderr",
     "output_type": "stream",
     "text": [
      "2023-11-10 17:25:58,711 - c:\\Users\\JanMarco\\MLProjects\\Masterthesis\\masterthesis\\mthesis\\lib\\site-packages\\castle\\datasets\\simulator.py[line:270] - INFO: Finished synthetic dataset\n"
     ]
    },
    {
     "name": "stdout",
     "output_type": "stream",
     "text": [
      "Duration of algorithm was 1.59sec\n",
      "Warning: n_edges is not exact due to gcastle implementation\n",
      "Duration of algorithm was 1.12sec\n"
     ]
    },
    {
     "name": "stderr",
     "output_type": "stream",
     "text": [
      "2023-11-10 17:26:02,950 - c:\\Users\\JanMarco\\MLProjects\\Masterthesis\\masterthesis\\mthesis\\lib\\site-packages\\castle\\datasets\\simulator.py[line:270] - INFO: Finished synthetic dataset\n"
     ]
    },
    {
     "name": "stdout",
     "output_type": "stream",
     "text": [
      "Duration of algorithm was 1.54sec\n",
      "Warning: n_edges is not exact due to gcastle implementation\n",
      "Duration of algorithm was 0.47sec\n"
     ]
    },
    {
     "name": "stderr",
     "output_type": "stream",
     "text": [
      "2023-11-10 17:26:04,722 - c:\\Users\\JanMarco\\MLProjects\\Masterthesis\\masterthesis\\mthesis\\lib\\site-packages\\castle\\datasets\\simulator.py[line:270] - INFO: Finished synthetic dataset\n"
     ]
    },
    {
     "name": "stdout",
     "output_type": "stream",
     "text": [
      "Duration of algorithm was 0.64sec\n",
      "Warning: n_edges is not exact due to gcastle implementation\n",
      "Duration of algorithm was 0.61sec\n"
     ]
    },
    {
     "name": "stderr",
     "output_type": "stream",
     "text": [
      "2023-11-10 17:26:06,997 - c:\\Users\\JanMarco\\MLProjects\\Masterthesis\\masterthesis\\mthesis\\lib\\site-packages\\castle\\datasets\\simulator.py[line:270] - INFO: Finished synthetic dataset\n"
     ]
    },
    {
     "name": "stdout",
     "output_type": "stream",
     "text": [
      "Duration of algorithm was 0.84sec\n",
      "Warning: n_edges is not exact due to gcastle implementation\n",
      "Duration of algorithm was 0.43sec\n"
     ]
    },
    {
     "name": "stderr",
     "output_type": "stream",
     "text": [
      "2023-11-10 17:26:08,672 - c:\\Users\\JanMarco\\MLProjects\\Masterthesis\\masterthesis\\mthesis\\lib\\site-packages\\castle\\datasets\\simulator.py[line:270] - INFO: Finished synthetic dataset\n"
     ]
    },
    {
     "name": "stdout",
     "output_type": "stream",
     "text": [
      "Duration of algorithm was 0.60sec\n",
      "Warning: n_edges is not exact due to gcastle implementation\n",
      "Duration of algorithm was 0.42sec\n"
     ]
    },
    {
     "name": "stderr",
     "output_type": "stream",
     "text": [
      "2023-11-10 17:26:10,995 - c:\\Users\\JanMarco\\MLProjects\\Masterthesis\\masterthesis\\mthesis\\lib\\site-packages\\castle\\datasets\\simulator.py[line:270] - INFO: Finished synthetic dataset\n"
     ]
    },
    {
     "name": "stdout",
     "output_type": "stream",
     "text": [
      "Duration of algorithm was 0.94sec\n",
      "Warning: n_edges is not exact due to gcastle implementation\n",
      "Duration of algorithm was 0.75sec\n"
     ]
    },
    {
     "name": "stderr",
     "output_type": "stream",
     "text": [
      "2023-11-10 17:26:13,501 - c:\\Users\\JanMarco\\MLProjects\\Masterthesis\\masterthesis\\mthesis\\lib\\site-packages\\castle\\datasets\\simulator.py[line:270] - INFO: Finished synthetic dataset\n"
     ]
    },
    {
     "name": "stdout",
     "output_type": "stream",
     "text": [
      "Duration of algorithm was 0.86sec\n",
      "Warning: n_edges is not exact due to gcastle implementation\n",
      "Duration of algorithm was 0.57sec\n"
     ]
    },
    {
     "name": "stderr",
     "output_type": "stream",
     "text": [
      "2023-11-10 17:26:15,685 - c:\\Users\\JanMarco\\MLProjects\\Masterthesis\\masterthesis\\mthesis\\lib\\site-packages\\castle\\datasets\\simulator.py[line:270] - INFO: Finished synthetic dataset\n"
     ]
    },
    {
     "name": "stdout",
     "output_type": "stream",
     "text": [
      "Duration of algorithm was 0.77sec\n",
      "Warning: n_edges is not exact due to gcastle implementation\n",
      "Duration of algorithm was 0.73sec\n"
     ]
    },
    {
     "name": "stderr",
     "output_type": "stream",
     "text": [
      "2023-11-10 17:26:18,806 - c:\\Users\\JanMarco\\MLProjects\\Masterthesis\\masterthesis\\mthesis\\lib\\site-packages\\castle\\datasets\\simulator.py[line:270] - INFO: Finished synthetic dataset\n"
     ]
    },
    {
     "name": "stdout",
     "output_type": "stream",
     "text": [
      "Duration of algorithm was 1.17sec\n",
      "Warning: n_edges is not exact due to gcastle implementation\n",
      "Duration of algorithm was 0.34sec\n"
     ]
    },
    {
     "name": "stderr",
     "output_type": "stream",
     "text": [
      "2023-11-10 17:26:20,714 - c:\\Users\\JanMarco\\MLProjects\\Masterthesis\\masterthesis\\mthesis\\lib\\site-packages\\castle\\datasets\\simulator.py[line:270] - INFO: Finished synthetic dataset\n"
     ]
    },
    {
     "name": "stdout",
     "output_type": "stream",
     "text": [
      "Duration of algorithm was 0.77sec\n",
      "Warning: n_edges is not exact due to gcastle implementation\n",
      "Duration of algorithm was 0.76sec\n"
     ]
    },
    {
     "name": "stderr",
     "output_type": "stream",
     "text": [
      "2023-11-10 17:26:23,598 - c:\\Users\\JanMarco\\MLProjects\\Masterthesis\\masterthesis\\mthesis\\lib\\site-packages\\castle\\datasets\\simulator.py[line:270] - INFO: Finished synthetic dataset\n"
     ]
    },
    {
     "name": "stdout",
     "output_type": "stream",
     "text": [
      "Duration of algorithm was 1.04sec\n",
      "Warning: n_edges is not exact due to gcastle implementation\n",
      "Duration of algorithm was 0.91sec\n"
     ]
    },
    {
     "name": "stderr",
     "output_type": "stream",
     "text": [
      "2023-11-10 17:26:26,854 - c:\\Users\\JanMarco\\MLProjects\\Masterthesis\\masterthesis\\mthesis\\lib\\site-packages\\castle\\datasets\\simulator.py[line:270] - INFO: Finished synthetic dataset\n"
     ]
    },
    {
     "name": "stdout",
     "output_type": "stream",
     "text": [
      "Duration of algorithm was 1.09sec\n",
      "Warning: n_edges is not exact due to gcastle implementation\n",
      "Duration of algorithm was 0.91sec\n"
     ]
    },
    {
     "name": "stderr",
     "output_type": "stream",
     "text": [
      "2023-11-10 17:26:30,294 - c:\\Users\\JanMarco\\MLProjects\\Masterthesis\\masterthesis\\mthesis\\lib\\site-packages\\castle\\datasets\\simulator.py[line:270] - INFO: Finished synthetic dataset\n"
     ]
    },
    {
     "name": "stdout",
     "output_type": "stream",
     "text": [
      "Duration of algorithm was 1.25sec\n",
      "Warning: n_edges is not exact due to gcastle implementation\n",
      "Duration of algorithm was 1.06sec\n"
     ]
    },
    {
     "name": "stderr",
     "output_type": "stream",
     "text": [
      "2023-11-10 17:26:34,362 - c:\\Users\\JanMarco\\MLProjects\\Masterthesis\\masterthesis\\mthesis\\lib\\site-packages\\castle\\datasets\\simulator.py[line:270] - INFO: Finished synthetic dataset\n"
     ]
    },
    {
     "name": "stdout",
     "output_type": "stream",
     "text": [
      "Duration of algorithm was 1.48sec\n",
      "Warning: n_edges is not exact due to gcastle implementation\n",
      "Duration of algorithm was 1.13sec\n"
     ]
    },
    {
     "name": "stderr",
     "output_type": "stream",
     "text": [
      "2023-11-10 17:26:39,208 - c:\\Users\\JanMarco\\MLProjects\\Masterthesis\\masterthesis\\mthesis\\lib\\site-packages\\castle\\datasets\\simulator.py[line:270] - INFO: Finished synthetic dataset\n"
     ]
    },
    {
     "name": "stdout",
     "output_type": "stream",
     "text": [
      "Duration of algorithm was 1.82sec\n",
      "Warning: n_edges is not exact due to gcastle implementation\n",
      "Duration of algorithm was 1.13sec\n"
     ]
    },
    {
     "name": "stderr",
     "output_type": "stream",
     "text": [
      "2023-11-10 17:26:44,387 - c:\\Users\\JanMarco\\MLProjects\\Masterthesis\\masterthesis\\mthesis\\lib\\site-packages\\castle\\datasets\\simulator.py[line:270] - INFO: Finished synthetic dataset\n"
     ]
    },
    {
     "name": "stdout",
     "output_type": "stream",
     "text": [
      "Duration of algorithm was 1.99sec\n",
      "Warning: n_edges is not exact due to gcastle implementation\n",
      "Duration of algorithm was 1.23sec\n"
     ]
    },
    {
     "name": "stderr",
     "output_type": "stream",
     "text": [
      "2023-11-10 17:26:48,963 - c:\\Users\\JanMarco\\MLProjects\\Masterthesis\\masterthesis\\mthesis\\lib\\site-packages\\castle\\datasets\\simulator.py[line:270] - INFO: Finished synthetic dataset\n"
     ]
    },
    {
     "name": "stdout",
     "output_type": "stream",
     "text": [
      "Duration of algorithm was 1.61sec\n",
      "Warning: n_edges is not exact due to gcastle implementation\n",
      "Duration of algorithm was 0.60sec\n"
     ]
    },
    {
     "name": "stderr",
     "output_type": "stream",
     "text": [
      "2023-11-10 17:26:50,778 - c:\\Users\\JanMarco\\MLProjects\\Masterthesis\\masterthesis\\mthesis\\lib\\site-packages\\castle\\datasets\\simulator.py[line:270] - INFO: Finished synthetic dataset\n"
     ]
    },
    {
     "name": "stdout",
     "output_type": "stream",
     "text": [
      "Duration of algorithm was 0.58sec\n",
      "Warning: n_edges is not exact due to gcastle implementation\n",
      "Duration of algorithm was 0.79sec\n"
     ]
    },
    {
     "name": "stderr",
     "output_type": "stream",
     "text": [
      "2023-11-10 17:26:53,138 - c:\\Users\\JanMarco\\MLProjects\\Masterthesis\\masterthesis\\mthesis\\lib\\site-packages\\castle\\datasets\\simulator.py[line:270] - INFO: Finished synthetic dataset\n"
     ]
    },
    {
     "name": "stdout",
     "output_type": "stream",
     "text": [
      "Duration of algorithm was 0.77sec\n",
      "Warning: n_edges is not exact due to gcastle implementation\n",
      "Duration of algorithm was 0.54sec\n"
     ]
    },
    {
     "name": "stderr",
     "output_type": "stream",
     "text": [
      "2023-11-10 17:26:54,784 - c:\\Users\\JanMarco\\MLProjects\\Masterthesis\\masterthesis\\mthesis\\lib\\site-packages\\castle\\datasets\\simulator.py[line:270] - INFO: Finished synthetic dataset\n"
     ]
    },
    {
     "name": "stdout",
     "output_type": "stream",
     "text": [
      "Duration of algorithm was 0.53sec\n",
      "Warning: n_edges is not exact due to gcastle implementation\n",
      "Duration of algorithm was 0.73sec\n"
     ]
    },
    {
     "name": "stderr",
     "output_type": "stream",
     "text": [
      "2023-11-10 17:26:56,940 - c:\\Users\\JanMarco\\MLProjects\\Masterthesis\\masterthesis\\mthesis\\lib\\site-packages\\castle\\datasets\\simulator.py[line:270] - INFO: Finished synthetic dataset\n"
     ]
    },
    {
     "name": "stdout",
     "output_type": "stream",
     "text": [
      "Duration of algorithm was 0.69sec\n",
      "Warning: n_edges is not exact due to gcastle implementation\n",
      "Duration of algorithm was 0.62sec\n"
     ]
    },
    {
     "name": "stderr",
     "output_type": "stream",
     "text": [
      "2023-11-10 17:26:58,854 - c:\\Users\\JanMarco\\MLProjects\\Masterthesis\\masterthesis\\mthesis\\lib\\site-packages\\castle\\datasets\\simulator.py[line:270] - INFO: Finished synthetic dataset\n"
     ]
    },
    {
     "name": "stdout",
     "output_type": "stream",
     "text": [
      "Duration of algorithm was 0.62sec\n",
      "Warning: n_edges is not exact due to gcastle implementation\n",
      "Duration of algorithm was 0.67sec\n"
     ]
    },
    {
     "name": "stderr",
     "output_type": "stream",
     "text": [
      "2023-11-10 17:27:00,975 - c:\\Users\\JanMarco\\MLProjects\\Masterthesis\\masterthesis\\mthesis\\lib\\site-packages\\castle\\datasets\\simulator.py[line:270] - INFO: Finished synthetic dataset\n"
     ]
    },
    {
     "name": "stdout",
     "output_type": "stream",
     "text": [
      "Duration of algorithm was 0.70sec\n",
      "Warning: n_edges is not exact due to gcastle implementation\n",
      "Duration of algorithm was 0.92sec\n"
     ]
    },
    {
     "name": "stderr",
     "output_type": "stream",
     "text": [
      "2023-11-10 17:27:03,539 - c:\\Users\\JanMarco\\MLProjects\\Masterthesis\\masterthesis\\mthesis\\lib\\site-packages\\castle\\datasets\\simulator.py[line:270] - INFO: Finished synthetic dataset\n"
     ]
    },
    {
     "name": "stdout",
     "output_type": "stream",
     "text": [
      "Duration of algorithm was 0.79sec\n",
      "Warning: n_edges is not exact due to gcastle implementation\n",
      "Duration of algorithm was 0.63sec\n"
     ]
    },
    {
     "name": "stderr",
     "output_type": "stream",
     "text": [
      "2023-11-10 17:27:05,422 - c:\\Users\\JanMarco\\MLProjects\\Masterthesis\\masterthesis\\mthesis\\lib\\site-packages\\castle\\datasets\\simulator.py[line:270] - INFO: Finished synthetic dataset\n"
     ]
    },
    {
     "name": "stdout",
     "output_type": "stream",
     "text": [
      "Duration of algorithm was 0.60sec\n",
      "Warning: n_edges is not exact due to gcastle implementation\n",
      "Duration of algorithm was 0.71sec\n"
     ]
    },
    {
     "name": "stderr",
     "output_type": "stream",
     "text": [
      "2023-11-10 17:27:07,585 - c:\\Users\\JanMarco\\MLProjects\\Masterthesis\\masterthesis\\mthesis\\lib\\site-packages\\castle\\datasets\\simulator.py[line:270] - INFO: Finished synthetic dataset\n"
     ]
    },
    {
     "name": "stdout",
     "output_type": "stream",
     "text": [
      "Duration of algorithm was 0.70sec\n",
      "Warning: n_edges is not exact due to gcastle implementation\n",
      "Duration of algorithm was 0.98sec\n"
     ]
    },
    {
     "name": "stderr",
     "output_type": "stream",
     "text": [
      "2023-11-10 17:27:10,599 - c:\\Users\\JanMarco\\MLProjects\\Masterthesis\\masterthesis\\mthesis\\lib\\site-packages\\castle\\datasets\\simulator.py[line:270] - INFO: Finished synthetic dataset\n"
     ]
    },
    {
     "name": "stdout",
     "output_type": "stream",
     "text": [
      "Duration of algorithm was 0.99sec\n",
      "Warning: n_edges is not exact due to gcastle implementation\n",
      "Duration of algorithm was 0.80sec\n"
     ]
    },
    {
     "name": "stderr",
     "output_type": "stream",
     "text": [
      "2023-11-10 17:27:13,000 - c:\\Users\\JanMarco\\MLProjects\\Masterthesis\\masterthesis\\mthesis\\lib\\site-packages\\castle\\datasets\\simulator.py[line:270] - INFO: Finished synthetic dataset\n"
     ]
    },
    {
     "name": "stdout",
     "output_type": "stream",
     "text": [
      "Duration of algorithm was 0.77sec\n",
      "Warning: n_edges is not exact due to gcastle implementation\n",
      "Duration of algorithm was 1.21sec\n"
     ]
    },
    {
     "name": "stderr",
     "output_type": "stream",
     "text": [
      "2023-11-10 17:27:16,666 - c:\\Users\\JanMarco\\MLProjects\\Masterthesis\\masterthesis\\mthesis\\lib\\site-packages\\castle\\datasets\\simulator.py[line:270] - INFO: Finished synthetic dataset\n"
     ]
    },
    {
     "name": "stdout",
     "output_type": "stream",
     "text": [
      "Duration of algorithm was 1.23sec\n",
      "Warning: n_edges is not exact due to gcastle implementation\n",
      "Duration of algorithm was 1.72sec\n"
     ]
    },
    {
     "name": "stderr",
     "output_type": "stream",
     "text": [
      "2023-11-10 17:27:21,925 - c:\\Users\\JanMarco\\MLProjects\\Masterthesis\\masterthesis\\mthesis\\lib\\site-packages\\castle\\datasets\\simulator.py[line:270] - INFO: Finished synthetic dataset\n"
     ]
    },
    {
     "name": "stdout",
     "output_type": "stream",
     "text": [
      "Duration of algorithm was 1.74sec\n",
      "Warning: n_edges is not exact due to gcastle implementation\n",
      "Duration of algorithm was 1.45sec\n"
     ]
    },
    {
     "name": "stderr",
     "output_type": "stream",
     "text": [
      "2023-11-10 17:27:26,347 - c:\\Users\\JanMarco\\MLProjects\\Masterthesis\\masterthesis\\mthesis\\lib\\site-packages\\castle\\datasets\\simulator.py[line:270] - INFO: Finished synthetic dataset\n"
     ]
    },
    {
     "name": "stdout",
     "output_type": "stream",
     "text": [
      "Duration of algorithm was 1.47sec\n",
      "Warning: n_edges is not exact due to gcastle implementation\n",
      "Duration of algorithm was 1.46sec\n"
     ]
    },
    {
     "name": "stderr",
     "output_type": "stream",
     "text": [
      "2023-11-10 17:27:30,770 - c:\\Users\\JanMarco\\MLProjects\\Masterthesis\\masterthesis\\mthesis\\lib\\site-packages\\castle\\datasets\\simulator.py[line:270] - INFO: Finished synthetic dataset\n"
     ]
    },
    {
     "name": "stdout",
     "output_type": "stream",
     "text": [
      "Duration of algorithm was 1.43sec\n",
      "Warning: n_edges is not exact due to gcastle implementation\n",
      "Duration of algorithm was 0.45sec\n"
     ]
    },
    {
     "name": "stderr",
     "output_type": "stream",
     "text": [
      "2023-11-10 17:27:32,203 - c:\\Users\\JanMarco\\MLProjects\\Masterthesis\\masterthesis\\mthesis\\lib\\site-packages\\castle\\datasets\\simulator.py[line:270] - INFO: Finished synthetic dataset\n"
     ]
    },
    {
     "name": "stdout",
     "output_type": "stream",
     "text": [
      "Duration of algorithm was 0.47sec\n",
      "Warning: n_edges is not exact due to gcastle implementation\n",
      "Duration of algorithm was 0.54sec\n"
     ]
    },
    {
     "name": "stderr",
     "output_type": "stream",
     "text": [
      "2023-11-10 17:27:33,974 - c:\\Users\\JanMarco\\MLProjects\\Masterthesis\\masterthesis\\mthesis\\lib\\site-packages\\castle\\datasets\\simulator.py[line:270] - INFO: Finished synthetic dataset\n"
     ]
    },
    {
     "name": "stdout",
     "output_type": "stream",
     "text": [
      "Duration of algorithm was 0.60sec\n",
      "Warning: n_edges is not exact due to gcastle implementation\n",
      "Duration of algorithm was 0.35sec\n"
     ]
    },
    {
     "name": "stderr",
     "output_type": "stream",
     "text": [
      "2023-11-10 17:27:35,142 - c:\\Users\\JanMarco\\MLProjects\\Masterthesis\\masterthesis\\mthesis\\lib\\site-packages\\castle\\datasets\\simulator.py[line:270] - INFO: Finished synthetic dataset\n"
     ]
    },
    {
     "name": "stdout",
     "output_type": "stream",
     "text": [
      "Duration of algorithm was 0.39sec\n",
      "Warning: n_edges is not exact due to gcastle implementation\n",
      "Duration of algorithm was 0.41sec\n"
     ]
    },
    {
     "name": "stderr",
     "output_type": "stream",
     "text": [
      "2023-11-10 17:27:36,531 - c:\\Users\\JanMarco\\MLProjects\\Masterthesis\\masterthesis\\mthesis\\lib\\site-packages\\castle\\datasets\\simulator.py[line:270] - INFO: Finished synthetic dataset\n"
     ]
    },
    {
     "name": "stdout",
     "output_type": "stream",
     "text": [
      "Duration of algorithm was 0.47sec\n",
      "Warning: n_edges is not exact due to gcastle implementation\n",
      "Duration of algorithm was 0.61sec\n"
     ]
    },
    {
     "name": "stderr",
     "output_type": "stream",
     "text": [
      "2023-11-10 17:27:38,846 - c:\\Users\\JanMarco\\MLProjects\\Masterthesis\\masterthesis\\mthesis\\lib\\site-packages\\castle\\datasets\\simulator.py[line:270] - INFO: Finished synthetic dataset\n"
     ]
    },
    {
     "name": "stdout",
     "output_type": "stream",
     "text": [
      "Duration of algorithm was 0.81sec\n",
      "Warning: n_edges is not exact due to gcastle implementation\n",
      "Duration of algorithm was 0.67sec\n"
     ]
    },
    {
     "name": "stderr",
     "output_type": "stream",
     "text": [
      "2023-11-10 17:27:40,896 - c:\\Users\\JanMarco\\MLProjects\\Masterthesis\\masterthesis\\mthesis\\lib\\site-packages\\castle\\datasets\\simulator.py[line:270] - INFO: Finished synthetic dataset\n"
     ]
    },
    {
     "name": "stdout",
     "output_type": "stream",
     "text": [
      "Duration of algorithm was 0.67sec\n",
      "Warning: n_edges is not exact due to gcastle implementation\n",
      "Duration of algorithm was 0.51sec\n"
     ]
    },
    {
     "name": "stderr",
     "output_type": "stream",
     "text": [
      "2023-11-10 17:27:42,561 - c:\\Users\\JanMarco\\MLProjects\\Masterthesis\\masterthesis\\mthesis\\lib\\site-packages\\castle\\datasets\\simulator.py[line:270] - INFO: Finished synthetic dataset\n"
     ]
    },
    {
     "name": "stdout",
     "output_type": "stream",
     "text": [
      "Duration of algorithm was 0.56sec\n",
      "Warning: n_edges is not exact due to gcastle implementation\n",
      "Duration of algorithm was 1.18sec\n"
     ]
    },
    {
     "name": "stderr",
     "output_type": "stream",
     "text": [
      "2023-11-10 17:27:46,497 - c:\\Users\\JanMarco\\MLProjects\\Masterthesis\\masterthesis\\mthesis\\lib\\site-packages\\castle\\datasets\\simulator.py[line:270] - INFO: Finished synthetic dataset\n"
     ]
    },
    {
     "name": "stdout",
     "output_type": "stream",
     "text": [
      "Duration of algorithm was 1.35sec\n",
      "Warning: n_edges is not exact due to gcastle implementation\n",
      "Duration of algorithm was 0.68sec\n"
     ]
    },
    {
     "name": "stderr",
     "output_type": "stream",
     "text": [
      "2023-11-10 17:27:48,933 - c:\\Users\\JanMarco\\MLProjects\\Masterthesis\\masterthesis\\mthesis\\lib\\site-packages\\castle\\datasets\\simulator.py[line:270] - INFO: Finished synthetic dataset\n"
     ]
    },
    {
     "name": "stdout",
     "output_type": "stream",
     "text": [
      "Duration of algorithm was 0.86sec\n",
      "Warning: n_edges is not exact due to gcastle implementation\n",
      "Duration of algorithm was 0.58sec\n"
     ]
    },
    {
     "name": "stderr",
     "output_type": "stream",
     "text": [
      "2023-11-10 17:27:50,996 - c:\\Users\\JanMarco\\MLProjects\\Masterthesis\\masterthesis\\mthesis\\lib\\site-packages\\castle\\datasets\\simulator.py[line:270] - INFO: Finished synthetic dataset\n"
     ]
    },
    {
     "name": "stdout",
     "output_type": "stream",
     "text": [
      "Duration of algorithm was 0.71sec\n",
      "Warning: n_edges is not exact due to gcastle implementation\n",
      "Duration of algorithm was 1.09sec\n"
     ]
    },
    {
     "name": "stderr",
     "output_type": "stream",
     "text": [
      "2023-11-10 17:27:54,585 - c:\\Users\\JanMarco\\MLProjects\\Masterthesis\\masterthesis\\mthesis\\lib\\site-packages\\castle\\datasets\\simulator.py[line:270] - INFO: Finished synthetic dataset\n"
     ]
    },
    {
     "name": "stdout",
     "output_type": "stream",
     "text": [
      "Duration of algorithm was 1.19sec\n",
      "Warning: n_edges is not exact due to gcastle implementation\n",
      "Duration of algorithm was 0.61sec\n"
     ]
    },
    {
     "name": "stderr",
     "output_type": "stream",
     "text": [
      "2023-11-10 17:27:56,585 - c:\\Users\\JanMarco\\MLProjects\\Masterthesis\\masterthesis\\mthesis\\lib\\site-packages\\castle\\datasets\\simulator.py[line:270] - INFO: Finished synthetic dataset\n"
     ]
    },
    {
     "name": "stdout",
     "output_type": "stream",
     "text": [
      "Duration of algorithm was 0.67sec\n",
      "Warning: n_edges is not exact due to gcastle implementation\n",
      "Duration of algorithm was 1.42sec\n"
     ]
    },
    {
     "name": "stderr",
     "output_type": "stream",
     "text": [
      "2023-11-10 17:28:01,135 - c:\\Users\\JanMarco\\MLProjects\\Masterthesis\\masterthesis\\mthesis\\lib\\site-packages\\castle\\datasets\\simulator.py[line:270] - INFO: Finished synthetic dataset\n"
     ]
    },
    {
     "name": "stdout",
     "output_type": "stream",
     "text": [
      "Duration of algorithm was 1.54sec\n",
      "Warning: n_edges is not exact due to gcastle implementation\n",
      "Duration of algorithm was 2.09sec\n"
     ]
    },
    {
     "name": "stderr",
     "output_type": "stream",
     "text": [
      "2023-11-10 17:28:07,836 - c:\\Users\\JanMarco\\MLProjects\\Masterthesis\\masterthesis\\mthesis\\lib\\site-packages\\castle\\datasets\\simulator.py[line:270] - INFO: Finished synthetic dataset\n"
     ]
    },
    {
     "name": "stdout",
     "output_type": "stream",
     "text": [
      "Duration of algorithm was 2.29sec\n",
      "Warning: n_edges is not exact due to gcastle implementation\n",
      "Duration of algorithm was 1.11sec\n"
     ]
    },
    {
     "name": "stderr",
     "output_type": "stream",
     "text": [
      "2023-11-10 17:28:11,957 - c:\\Users\\JanMarco\\MLProjects\\Masterthesis\\masterthesis\\mthesis\\lib\\site-packages\\castle\\datasets\\simulator.py[line:270] - INFO: Finished synthetic dataset\n"
     ]
    },
    {
     "name": "stdout",
     "output_type": "stream",
     "text": [
      "Duration of algorithm was 1.49sec\n",
      "Warning: n_edges is not exact due to gcastle implementation\n",
      "Duration of algorithm was 0.55sec\n"
     ]
    },
    {
     "name": "stderr",
     "output_type": "stream",
     "text": [
      "2023-11-10 17:28:13,709 - c:\\Users\\JanMarco\\MLProjects\\Masterthesis\\masterthesis\\mthesis\\lib\\site-packages\\castle\\datasets\\simulator.py[line:270] - INFO: Finished synthetic dataset\n"
     ]
    },
    {
     "name": "stdout",
     "output_type": "stream",
     "text": [
      "Duration of algorithm was 0.58sec\n",
      "Warning: n_edges is not exact due to gcastle implementation\n",
      "Duration of algorithm was 0.65sec\n"
     ]
    },
    {
     "name": "stderr",
     "output_type": "stream",
     "text": [
      "2023-11-10 17:28:15,968 - c:\\Users\\JanMarco\\MLProjects\\Masterthesis\\masterthesis\\mthesis\\lib\\site-packages\\castle\\datasets\\simulator.py[line:270] - INFO: Finished synthetic dataset\n"
     ]
    },
    {
     "name": "stdout",
     "output_type": "stream",
     "text": [
      "Duration of algorithm was 0.82sec\n",
      "Warning: n_edges is not exact due to gcastle implementation\n",
      "Duration of algorithm was 0.57sec\n"
     ]
    },
    {
     "name": "stderr",
     "output_type": "stream",
     "text": [
      "2023-11-10 17:28:17,794 - c:\\Users\\JanMarco\\MLProjects\\Masterthesis\\masterthesis\\mthesis\\lib\\site-packages\\castle\\datasets\\simulator.py[line:270] - INFO: Finished synthetic dataset\n"
     ]
    },
    {
     "name": "stdout",
     "output_type": "stream",
     "text": [
      "Duration of algorithm was 0.61sec\n",
      "Warning: n_edges is not exact due to gcastle implementation\n",
      "Duration of algorithm was 0.47sec\n"
     ]
    },
    {
     "name": "stderr",
     "output_type": "stream",
     "text": [
      "2023-11-10 17:28:19,750 - c:\\Users\\JanMarco\\MLProjects\\Masterthesis\\masterthesis\\mthesis\\lib\\site-packages\\castle\\datasets\\simulator.py[line:270] - INFO: Finished synthetic dataset\n"
     ]
    },
    {
     "name": "stdout",
     "output_type": "stream",
     "text": [
      "Duration of algorithm was 0.73sec\n",
      "Warning: n_edges is not exact due to gcastle implementation\n",
      "Duration of algorithm was 0.65sec\n"
     ]
    },
    {
     "name": "stderr",
     "output_type": "stream",
     "text": [
      "2023-11-10 17:28:21,774 - c:\\Users\\JanMarco\\MLProjects\\Masterthesis\\masterthesis\\mthesis\\lib\\site-packages\\castle\\datasets\\simulator.py[line:270] - INFO: Finished synthetic dataset\n"
     ]
    },
    {
     "name": "stdout",
     "output_type": "stream",
     "text": [
      "Duration of algorithm was 0.67sec\n",
      "Warning: n_edges is not exact due to gcastle implementation\n",
      "Duration of algorithm was 0.63sec\n"
     ]
    },
    {
     "name": "stderr",
     "output_type": "stream",
     "text": [
      "2023-11-10 17:28:23,799 - c:\\Users\\JanMarco\\MLProjects\\Masterthesis\\masterthesis\\mthesis\\lib\\site-packages\\castle\\datasets\\simulator.py[line:270] - INFO: Finished synthetic dataset\n"
     ]
    },
    {
     "name": "stdout",
     "output_type": "stream",
     "text": [
      "Duration of algorithm was 0.67sec\n",
      "Warning: n_edges is not exact due to gcastle implementation\n",
      "Duration of algorithm was 0.68sec\n"
     ]
    },
    {
     "name": "stderr",
     "output_type": "stream",
     "text": [
      "2023-11-10 17:28:26,358 - c:\\Users\\JanMarco\\MLProjects\\Masterthesis\\masterthesis\\mthesis\\lib\\site-packages\\castle\\datasets\\simulator.py[line:270] - INFO: Finished synthetic dataset\n"
     ]
    },
    {
     "name": "stdout",
     "output_type": "stream",
     "text": [
      "Duration of algorithm was 0.94sec\n",
      "Warning: n_edges is not exact due to gcastle implementation\n",
      "Duration of algorithm was 0.45sec\n"
     ]
    },
    {
     "name": "stderr",
     "output_type": "stream",
     "text": [
      "2023-11-10 17:28:28,000 - c:\\Users\\JanMarco\\MLProjects\\Masterthesis\\masterthesis\\mthesis\\lib\\site-packages\\castle\\datasets\\simulator.py[line:270] - INFO: Finished synthetic dataset\n"
     ]
    },
    {
     "name": "stdout",
     "output_type": "stream",
     "text": [
      "Duration of algorithm was 0.57sec\n",
      "Warning: n_edges is not exact due to gcastle implementation\n",
      "Duration of algorithm was 0.65sec\n"
     ]
    },
    {
     "name": "stderr",
     "output_type": "stream",
     "text": [
      "2023-11-10 17:28:30,112 - c:\\Users\\JanMarco\\MLProjects\\Masterthesis\\masterthesis\\mthesis\\lib\\site-packages\\castle\\datasets\\simulator.py[line:270] - INFO: Finished synthetic dataset\n"
     ]
    },
    {
     "name": "stdout",
     "output_type": "stream",
     "text": [
      "Duration of algorithm was 0.70sec\n",
      "Warning: n_edges is not exact due to gcastle implementation\n",
      "Duration of algorithm was 1.03sec\n"
     ]
    },
    {
     "name": "stderr",
     "output_type": "stream",
     "text": [
      "2023-11-10 17:28:33,548 - c:\\Users\\JanMarco\\MLProjects\\Masterthesis\\masterthesis\\mthesis\\lib\\site-packages\\castle\\datasets\\simulator.py[line:270] - INFO: Finished synthetic dataset\n"
     ]
    },
    {
     "name": "stdout",
     "output_type": "stream",
     "text": [
      "Duration of algorithm was 1.18sec\n",
      "Warning: n_edges is not exact due to gcastle implementation\n",
      "Duration of algorithm was 0.88sec\n"
     ]
    },
    {
     "name": "stderr",
     "output_type": "stream",
     "text": [
      "2023-11-10 17:28:36,698 - c:\\Users\\JanMarco\\MLProjects\\Masterthesis\\masterthesis\\mthesis\\lib\\site-packages\\castle\\datasets\\simulator.py[line:270] - INFO: Finished synthetic dataset\n"
     ]
    },
    {
     "name": "stdout",
     "output_type": "stream",
     "text": [
      "Duration of algorithm was 1.12sec\n",
      "Warning: n_edges is not exact due to gcastle implementation\n",
      "Duration of algorithm was 0.79sec\n"
     ]
    },
    {
     "name": "stderr",
     "output_type": "stream",
     "text": [
      "2023-11-10 17:28:39,367 - c:\\Users\\JanMarco\\MLProjects\\Masterthesis\\masterthesis\\mthesis\\lib\\site-packages\\castle\\datasets\\simulator.py[line:270] - INFO: Finished synthetic dataset\n"
     ]
    },
    {
     "name": "stdout",
     "output_type": "stream",
     "text": [
      "Duration of algorithm was 0.88sec\n",
      "Warning: n_edges is not exact due to gcastle implementation\n",
      "Duration of algorithm was 1.56sec\n"
     ]
    },
    {
     "name": "stderr",
     "output_type": "stream",
     "text": [
      "2023-11-10 17:28:44,284 - c:\\Users\\JanMarco\\MLProjects\\Masterthesis\\masterthesis\\mthesis\\lib\\site-packages\\castle\\datasets\\simulator.py[line:270] - INFO: Finished synthetic dataset\n"
     ]
    },
    {
     "name": "stdout",
     "output_type": "stream",
     "text": [
      "Duration of algorithm was 1.64sec\n",
      "Warning: n_edges is not exact due to gcastle implementation\n",
      "Duration of algorithm was 1.10sec\n"
     ]
    },
    {
     "name": "stderr",
     "output_type": "stream",
     "text": [
      "2023-11-10 17:28:48,815 - c:\\Users\\JanMarco\\MLProjects\\Masterthesis\\masterthesis\\mthesis\\lib\\site-packages\\castle\\datasets\\simulator.py[line:270] - INFO: Finished synthetic dataset\n"
     ]
    },
    {
     "name": "stdout",
     "output_type": "stream",
     "text": [
      "Duration of algorithm was 1.67sec\n",
      "Warning: n_edges is not exact due to gcastle implementation\n",
      "Duration of algorithm was 1.36sec\n"
     ]
    },
    {
     "name": "stderr",
     "output_type": "stream",
     "text": [
      "2023-11-10 17:28:53,001 - c:\\Users\\JanMarco\\MLProjects\\Masterthesis\\masterthesis\\mthesis\\lib\\site-packages\\castle\\datasets\\simulator.py[line:270] - INFO: Finished synthetic dataset\n"
     ]
    },
    {
     "name": "stdout",
     "output_type": "stream",
     "text": [
      "Duration of algorithm was 1.37sec\n",
      "Warning: n_edges is not exact due to gcastle implementation\n",
      "Duration of algorithm was 0.64sec\n"
     ]
    },
    {
     "name": "stderr",
     "output_type": "stream",
     "text": [
      "2023-11-10 17:28:55,024 - c:\\Users\\JanMarco\\MLProjects\\Masterthesis\\masterthesis\\mthesis\\lib\\site-packages\\castle\\datasets\\simulator.py[line:270] - INFO: Finished synthetic dataset\n"
     ]
    },
    {
     "name": "stdout",
     "output_type": "stream",
     "text": [
      "Duration of algorithm was 0.67sec\n",
      "Warning: n_edges is not exact due to gcastle implementation\n",
      "Duration of algorithm was 0.44sec\n"
     ]
    },
    {
     "name": "stderr",
     "output_type": "stream",
     "text": [
      "2023-11-10 17:28:56,579 - c:\\Users\\JanMarco\\MLProjects\\Masterthesis\\masterthesis\\mthesis\\lib\\site-packages\\castle\\datasets\\simulator.py[line:270] - INFO: Finished synthetic dataset\n"
     ]
    },
    {
     "name": "stdout",
     "output_type": "stream",
     "text": [
      "Duration of algorithm was 0.53sec\n",
      "Warning: n_edges is not exact due to gcastle implementation\n",
      "Duration of algorithm was 0.34sec\n"
     ]
    },
    {
     "name": "stderr",
     "output_type": "stream",
     "text": [
      "2023-11-10 17:28:57,830 - c:\\Users\\JanMarco\\MLProjects\\Masterthesis\\masterthesis\\mthesis\\lib\\site-packages\\castle\\datasets\\simulator.py[line:270] - INFO: Finished synthetic dataset\n"
     ]
    },
    {
     "name": "stdout",
     "output_type": "stream",
     "text": [
      "Duration of algorithm was 0.43sec\n",
      "Warning: n_edges is not exact due to gcastle implementation\n",
      "Duration of algorithm was 0.48sec\n"
     ]
    },
    {
     "name": "stderr",
     "output_type": "stream",
     "text": [
      "2023-11-10 17:28:59,645 - c:\\Users\\JanMarco\\MLProjects\\Masterthesis\\masterthesis\\mthesis\\lib\\site-packages\\castle\\datasets\\simulator.py[line:270] - INFO: Finished synthetic dataset\n"
     ]
    },
    {
     "name": "stdout",
     "output_type": "stream",
     "text": [
      "Duration of algorithm was 0.65sec\n",
      "Warning: n_edges is not exact due to gcastle implementation\n",
      "Duration of algorithm was 0.70sec\n"
     ]
    },
    {
     "name": "stderr",
     "output_type": "stream",
     "text": [
      "2023-11-10 17:29:02,022 - c:\\Users\\JanMarco\\MLProjects\\Masterthesis\\masterthesis\\mthesis\\lib\\site-packages\\castle\\datasets\\simulator.py[line:270] - INFO: Finished synthetic dataset\n"
     ]
    },
    {
     "name": "stdout",
     "output_type": "stream",
     "text": [
      "Duration of algorithm was 0.80sec\n",
      "Warning: n_edges is not exact due to gcastle implementation\n",
      "Duration of algorithm was 0.65sec\n"
     ]
    },
    {
     "name": "stderr",
     "output_type": "stream",
     "text": [
      "2023-11-10 17:29:04,521 - c:\\Users\\JanMarco\\MLProjects\\Masterthesis\\masterthesis\\mthesis\\lib\\site-packages\\castle\\datasets\\simulator.py[line:270] - INFO: Finished synthetic dataset\n"
     ]
    },
    {
     "name": "stdout",
     "output_type": "stream",
     "text": [
      "Duration of algorithm was 0.91sec\n",
      "Warning: n_edges is not exact due to gcastle implementation\n",
      "Duration of algorithm was 0.58sec\n"
     ]
    },
    {
     "name": "stderr",
     "output_type": "stream",
     "text": [
      "2023-11-10 17:29:06,760 - c:\\Users\\JanMarco\\MLProjects\\Masterthesis\\masterthesis\\mthesis\\lib\\site-packages\\castle\\datasets\\simulator.py[line:270] - INFO: Finished synthetic dataset\n"
     ]
    },
    {
     "name": "stdout",
     "output_type": "stream",
     "text": [
      "Duration of algorithm was 0.81sec\n",
      "Warning: n_edges is not exact due to gcastle implementation\n",
      "Duration of algorithm was 0.59sec\n"
     ]
    },
    {
     "name": "stderr",
     "output_type": "stream",
     "text": [
      "2023-11-10 17:29:08,727 - c:\\Users\\JanMarco\\MLProjects\\Masterthesis\\masterthesis\\mthesis\\lib\\site-packages\\castle\\datasets\\simulator.py[line:270] - INFO: Finished synthetic dataset\n"
     ]
    },
    {
     "name": "stdout",
     "output_type": "stream",
     "text": [
      "Duration of algorithm was 0.67sec\n",
      "Warning: n_edges is not exact due to gcastle implementation\n",
      "Duration of algorithm was 0.54sec\n"
     ]
    },
    {
     "name": "stderr",
     "output_type": "stream",
     "text": [
      "2023-11-10 17:29:10,658 - c:\\Users\\JanMarco\\MLProjects\\Masterthesis\\masterthesis\\mthesis\\lib\\site-packages\\castle\\datasets\\simulator.py[line:270] - INFO: Finished synthetic dataset\n"
     ]
    },
    {
     "name": "stdout",
     "output_type": "stream",
     "text": [
      "Duration of algorithm was 0.66sec\n",
      "Warning: n_edges is not exact due to gcastle implementation\n",
      "Duration of algorithm was 0.82sec\n"
     ]
    },
    {
     "name": "stderr",
     "output_type": "stream",
     "text": [
      "2023-11-10 17:29:13,489 - c:\\Users\\JanMarco\\MLProjects\\Masterthesis\\masterthesis\\mthesis\\lib\\site-packages\\castle\\datasets\\simulator.py[line:270] - INFO: Finished synthetic dataset\n"
     ]
    },
    {
     "name": "stdout",
     "output_type": "stream",
     "text": [
      "Duration of algorithm was 0.99sec\n",
      "Warning: n_edges is not exact due to gcastle implementation\n",
      "Duration of algorithm was 0.65sec\n"
     ]
    },
    {
     "name": "stderr",
     "output_type": "stream",
     "text": [
      "2023-11-10 17:29:15,704 - c:\\Users\\JanMarco\\MLProjects\\Masterthesis\\masterthesis\\mthesis\\lib\\site-packages\\castle\\datasets\\simulator.py[line:270] - INFO: Finished synthetic dataset\n"
     ]
    },
    {
     "name": "stdout",
     "output_type": "stream",
     "text": [
      "Duration of algorithm was 0.79sec\n",
      "Warning: n_edges is not exact due to gcastle implementation\n",
      "Duration of algorithm was 0.90sec\n"
     ]
    },
    {
     "name": "stderr",
     "output_type": "stream",
     "text": [
      "2023-11-10 17:29:18,774 - c:\\Users\\JanMarco\\MLProjects\\Masterthesis\\masterthesis\\mthesis\\lib\\site-packages\\castle\\datasets\\simulator.py[line:270] - INFO: Finished synthetic dataset\n"
     ]
    },
    {
     "name": "stdout",
     "output_type": "stream",
     "text": [
      "Duration of algorithm was 1.06sec\n",
      "Warning: n_edges is not exact due to gcastle implementation\n",
      "Duration of algorithm was 1.33sec\n"
     ]
    },
    {
     "name": "stderr",
     "output_type": "stream",
     "text": [
      "2023-11-10 17:29:23,659 - c:\\Users\\JanMarco\\MLProjects\\Masterthesis\\masterthesis\\mthesis\\lib\\site-packages\\castle\\datasets\\simulator.py[line:270] - INFO: Finished synthetic dataset\n"
     ]
    },
    {
     "name": "stdout",
     "output_type": "stream",
     "text": [
      "Duration of algorithm was 1.75sec\n",
      "Warning: n_edges is not exact due to gcastle implementation\n",
      "Duration of algorithm was 1.24sec\n"
     ]
    },
    {
     "name": "stderr",
     "output_type": "stream",
     "text": [
      "2023-11-10 17:29:28,417 - c:\\Users\\JanMarco\\MLProjects\\Masterthesis\\masterthesis\\mthesis\\lib\\site-packages\\castle\\datasets\\simulator.py[line:270] - INFO: Finished synthetic dataset\n"
     ]
    },
    {
     "name": "stdout",
     "output_type": "stream",
     "text": [
      "Duration of algorithm was 1.72sec\n",
      "Warning: n_edges is not exact due to gcastle implementation\n",
      "Duration of algorithm was 1.25sec\n"
     ]
    },
    {
     "name": "stderr",
     "output_type": "stream",
     "text": [
      "2023-11-10 17:29:32,432 - c:\\Users\\JanMarco\\MLProjects\\Masterthesis\\masterthesis\\mthesis\\lib\\site-packages\\castle\\datasets\\simulator.py[line:270] - INFO: Finished synthetic dataset\n"
     ]
    },
    {
     "name": "stdout",
     "output_type": "stream",
     "text": [
      "Duration of algorithm was 1.34sec\n",
      "Warning: n_edges is not exact due to gcastle implementation\n",
      "Duration of algorithm was 0.42sec\n"
     ]
    },
    {
     "name": "stderr",
     "output_type": "stream",
     "text": [
      "2023-11-10 17:29:34,065 - c:\\Users\\JanMarco\\MLProjects\\Masterthesis\\masterthesis\\mthesis\\lib\\site-packages\\castle\\datasets\\simulator.py[line:270] - INFO: Finished synthetic dataset\n"
     ]
    },
    {
     "name": "stdout",
     "output_type": "stream",
     "text": [
      "Duration of algorithm was 0.58sec\n",
      "Warning: n_edges is not exact due to gcastle implementation\n",
      "Duration of algorithm was 0.46sec\n"
     ]
    },
    {
     "name": "stderr",
     "output_type": "stream",
     "text": [
      "2023-11-10 17:29:35,833 - c:\\Users\\JanMarco\\MLProjects\\Masterthesis\\masterthesis\\mthesis\\lib\\site-packages\\castle\\datasets\\simulator.py[line:270] - INFO: Finished synthetic dataset\n"
     ]
    },
    {
     "name": "stdout",
     "output_type": "stream",
     "text": [
      "Duration of algorithm was 0.64sec\n",
      "Warning: n_edges is not exact due to gcastle implementation\n",
      "Duration of algorithm was 0.49sec\n"
     ]
    },
    {
     "name": "stderr",
     "output_type": "stream",
     "text": [
      "2023-11-10 17:29:37,862 - c:\\Users\\JanMarco\\MLProjects\\Masterthesis\\masterthesis\\mthesis\\lib\\site-packages\\castle\\datasets\\simulator.py[line:270] - INFO: Finished synthetic dataset\n"
     ]
    },
    {
     "name": "stdout",
     "output_type": "stream",
     "text": [
      "Duration of algorithm was 0.76sec\n",
      "Warning: n_edges is not exact due to gcastle implementation\n",
      "Duration of algorithm was 0.57sec\n"
     ]
    },
    {
     "name": "stderr",
     "output_type": "stream",
     "text": [
      "2023-11-10 17:29:39,671 - c:\\Users\\JanMarco\\MLProjects\\Masterthesis\\masterthesis\\mthesis\\lib\\site-packages\\castle\\datasets\\simulator.py[line:270] - INFO: Finished synthetic dataset\n"
     ]
    },
    {
     "name": "stdout",
     "output_type": "stream",
     "text": [
      "Duration of algorithm was 0.61sec\n",
      "Warning: n_edges is not exact due to gcastle implementation\n",
      "Duration of algorithm was 0.68sec\n"
     ]
    },
    {
     "name": "stderr",
     "output_type": "stream",
     "text": [
      "2023-11-10 17:29:42,259 - c:\\Users\\JanMarco\\MLProjects\\Masterthesis\\masterthesis\\mthesis\\lib\\site-packages\\castle\\datasets\\simulator.py[line:270] - INFO: Finished synthetic dataset\n"
     ]
    },
    {
     "name": "stdout",
     "output_type": "stream",
     "text": [
      "Duration of algorithm was 0.92sec\n",
      "Warning: n_edges is not exact due to gcastle implementation\n",
      "Duration of algorithm was 0.44sec\n"
     ]
    },
    {
     "name": "stderr",
     "output_type": "stream",
     "text": [
      "2023-11-10 17:29:43,733 - c:\\Users\\JanMarco\\MLProjects\\Masterthesis\\masterthesis\\mthesis\\lib\\site-packages\\castle\\datasets\\simulator.py[line:270] - INFO: Finished synthetic dataset\n"
     ]
    },
    {
     "name": "stdout",
     "output_type": "stream",
     "text": [
      "Duration of algorithm was 0.49sec\n",
      "Warning: n_edges is not exact due to gcastle implementation\n",
      "Duration of algorithm was 0.58sec\n"
     ]
    },
    {
     "name": "stderr",
     "output_type": "stream",
     "text": [
      "2023-11-10 17:29:45,938 - c:\\Users\\JanMarco\\MLProjects\\Masterthesis\\masterthesis\\mthesis\\lib\\site-packages\\castle\\datasets\\simulator.py[line:270] - INFO: Finished synthetic dataset\n"
     ]
    },
    {
     "name": "stdout",
     "output_type": "stream",
     "text": [
      "Duration of algorithm was 0.82sec\n",
      "Warning: n_edges is not exact due to gcastle implementation\n",
      "Duration of algorithm was 0.59sec\n"
     ]
    },
    {
     "name": "stderr",
     "output_type": "stream",
     "text": [
      "2023-11-10 17:29:48,371 - c:\\Users\\JanMarco\\MLProjects\\Masterthesis\\masterthesis\\mthesis\\lib\\site-packages\\castle\\datasets\\simulator.py[line:270] - INFO: Finished synthetic dataset\n"
     ]
    },
    {
     "name": "stdout",
     "output_type": "stream",
     "text": [
      "Duration of algorithm was 0.90sec\n",
      "Warning: n_edges is not exact due to gcastle implementation\n",
      "Duration of algorithm was 0.61sec\n"
     ]
    },
    {
     "name": "stderr",
     "output_type": "stream",
     "text": [
      "2023-11-10 17:29:50,754 - c:\\Users\\JanMarco\\MLProjects\\Masterthesis\\masterthesis\\mthesis\\lib\\site-packages\\castle\\datasets\\simulator.py[line:270] - INFO: Finished synthetic dataset\n"
     ]
    },
    {
     "name": "stdout",
     "output_type": "stream",
     "text": [
      "Duration of algorithm was 0.86sec\n",
      "Warning: n_edges is not exact due to gcastle implementation\n",
      "Duration of algorithm was 0.68sec\n"
     ]
    },
    {
     "name": "stderr",
     "output_type": "stream",
     "text": [
      "2023-11-10 17:29:53,319 - c:\\Users\\JanMarco\\MLProjects\\Masterthesis\\masterthesis\\mthesis\\lib\\site-packages\\castle\\datasets\\simulator.py[line:270] - INFO: Finished synthetic dataset\n"
     ]
    },
    {
     "name": "stdout",
     "output_type": "stream",
     "text": [
      "Duration of algorithm was 0.92sec\n",
      "Warning: n_edges is not exact due to gcastle implementation\n",
      "Duration of algorithm was 0.65sec\n"
     ]
    },
    {
     "name": "stderr",
     "output_type": "stream",
     "text": [
      "2023-11-10 17:29:55,883 - c:\\Users\\JanMarco\\MLProjects\\Masterthesis\\masterthesis\\mthesis\\lib\\site-packages\\castle\\datasets\\simulator.py[line:270] - INFO: Finished synthetic dataset\n"
     ]
    },
    {
     "name": "stdout",
     "output_type": "stream",
     "text": [
      "Duration of algorithm was 0.95sec\n",
      "Warning: n_edges is not exact due to gcastle implementation\n",
      "Duration of algorithm was 0.82sec\n"
     ]
    },
    {
     "name": "stderr",
     "output_type": "stream",
     "text": [
      "2023-11-10 17:29:59,407 - c:\\Users\\JanMarco\\MLProjects\\Masterthesis\\masterthesis\\mthesis\\lib\\site-packages\\castle\\datasets\\simulator.py[line:270] - INFO: Finished synthetic dataset\n"
     ]
    },
    {
     "name": "stdout",
     "output_type": "stream",
     "text": [
      "Duration of algorithm was 1.31sec\n",
      "Warning: n_edges is not exact due to gcastle implementation\n",
      "Duration of algorithm was 1.08sec\n"
     ]
    },
    {
     "name": "stderr",
     "output_type": "stream",
     "text": [
      "2023-11-10 17:30:02,767 - c:\\Users\\JanMarco\\MLProjects\\Masterthesis\\masterthesis\\mthesis\\lib\\site-packages\\castle\\datasets\\simulator.py[line:270] - INFO: Finished synthetic dataset\n"
     ]
    },
    {
     "name": "stdout",
     "output_type": "stream",
     "text": [
      "Duration of algorithm was 1.09sec\n",
      "Warning: n_edges is not exact due to gcastle implementation\n",
      "Duration of algorithm was 0.92sec\n"
     ]
    },
    {
     "name": "stderr",
     "output_type": "stream",
     "text": [
      "2023-11-10 17:30:06,364 - c:\\Users\\JanMarco\\MLProjects\\Masterthesis\\masterthesis\\mthesis\\lib\\site-packages\\castle\\datasets\\simulator.py[line:270] - INFO: Finished synthetic dataset\n"
     ]
    },
    {
     "name": "stdout",
     "output_type": "stream",
     "text": [
      "Duration of algorithm was 1.32sec\n",
      "Warning: n_edges is not exact due to gcastle implementation\n",
      "Duration of algorithm was 0.91sec\n"
     ]
    },
    {
     "name": "stderr",
     "output_type": "stream",
     "text": [
      "2023-11-10 17:30:09,488 - c:\\Users\\JanMarco\\MLProjects\\Masterthesis\\masterthesis\\mthesis\\lib\\site-packages\\castle\\datasets\\simulator.py[line:270] - INFO: Finished synthetic dataset\n"
     ]
    },
    {
     "name": "stdout",
     "output_type": "stream",
     "text": [
      "Duration of algorithm was 1.09sec\n",
      "Warning: n_edges is not exact due to gcastle implementation\n",
      "Duration of algorithm was 0.37sec\n"
     ]
    },
    {
     "name": "stderr",
     "output_type": "stream",
     "text": [
      "2023-11-10 17:30:10,633 - c:\\Users\\JanMarco\\MLProjects\\Masterthesis\\masterthesis\\mthesis\\lib\\site-packages\\castle\\datasets\\simulator.py[line:270] - INFO: Finished synthetic dataset\n"
     ]
    },
    {
     "name": "stdout",
     "output_type": "stream",
     "text": [
      "Duration of algorithm was 0.37sec\n",
      "Warning: n_edges is not exact due to gcastle implementation\n",
      "Duration of algorithm was 0.76sec\n"
     ]
    },
    {
     "name": "stderr",
     "output_type": "stream",
     "text": [
      "2023-11-10 17:30:12,945 - c:\\Users\\JanMarco\\MLProjects\\Masterthesis\\masterthesis\\mthesis\\lib\\site-packages\\castle\\datasets\\simulator.py[line:270] - INFO: Finished synthetic dataset\n"
     ]
    },
    {
     "name": "stdout",
     "output_type": "stream",
     "text": [
      "Duration of algorithm was 0.75sec\n",
      "Warning: n_edges is not exact due to gcastle implementation\n",
      "Duration of algorithm was 0.50sec\n"
     ]
    },
    {
     "name": "stderr",
     "output_type": "stream",
     "text": [
      "2023-11-10 17:30:14,467 - c:\\Users\\JanMarco\\MLProjects\\Masterthesis\\masterthesis\\mthesis\\lib\\site-packages\\castle\\datasets\\simulator.py[line:270] - INFO: Finished synthetic dataset\n"
     ]
    },
    {
     "name": "stdout",
     "output_type": "stream",
     "text": [
      "Duration of algorithm was 0.49sec\n",
      "Warning: n_edges is not exact due to gcastle implementation\n",
      "Duration of algorithm was 0.79sec\n"
     ]
    },
    {
     "name": "stderr",
     "output_type": "stream",
     "text": [
      "2023-11-10 17:30:16,925 - c:\\Users\\JanMarco\\MLProjects\\Masterthesis\\masterthesis\\mthesis\\lib\\site-packages\\castle\\datasets\\simulator.py[line:270] - INFO: Finished synthetic dataset\n"
     ]
    },
    {
     "name": "stdout",
     "output_type": "stream",
     "text": [
      "Duration of algorithm was 0.84sec\n",
      "Warning: n_edges is not exact due to gcastle implementation\n",
      "Duration of algorithm was 0.58sec\n"
     ]
    },
    {
     "name": "stderr",
     "output_type": "stream",
     "text": [
      "2023-11-10 17:30:18,727 - c:\\Users\\JanMarco\\MLProjects\\Masterthesis\\masterthesis\\mthesis\\lib\\site-packages\\castle\\datasets\\simulator.py[line:270] - INFO: Finished synthetic dataset\n"
     ]
    },
    {
     "name": "stdout",
     "output_type": "stream",
     "text": [
      "Duration of algorithm was 0.59sec\n",
      "Warning: n_edges is not exact due to gcastle implementation\n",
      "Duration of algorithm was 0.66sec\n"
     ]
    },
    {
     "name": "stderr",
     "output_type": "stream",
     "text": [
      "2023-11-10 17:30:20,740 - c:\\Users\\JanMarco\\MLProjects\\Masterthesis\\masterthesis\\mthesis\\lib\\site-packages\\castle\\datasets\\simulator.py[line:270] - INFO: Finished synthetic dataset\n"
     ]
    },
    {
     "name": "stdout",
     "output_type": "stream",
     "text": [
      "Duration of algorithm was 0.66sec\n",
      "Warning: n_edges is not exact due to gcastle implementation\n",
      "Duration of algorithm was 0.50sec\n"
     ]
    },
    {
     "name": "stderr",
     "output_type": "stream",
     "text": [
      "2023-11-10 17:30:22,271 - c:\\Users\\JanMarco\\MLProjects\\Masterthesis\\masterthesis\\mthesis\\lib\\site-packages\\castle\\datasets\\simulator.py[line:270] - INFO: Finished synthetic dataset\n"
     ]
    },
    {
     "name": "stdout",
     "output_type": "stream",
     "text": [
      "Duration of algorithm was 0.50sec\n",
      "Warning: n_edges is not exact due to gcastle implementation\n",
      "Duration of algorithm was 0.88sec\n"
     ]
    },
    {
     "name": "stderr",
     "output_type": "stream",
     "text": [
      "2023-11-10 17:30:24,917 - c:\\Users\\JanMarco\\MLProjects\\Masterthesis\\masterthesis\\mthesis\\lib\\site-packages\\castle\\datasets\\simulator.py[line:270] - INFO: Finished synthetic dataset\n"
     ]
    },
    {
     "name": "stdout",
     "output_type": "stream",
     "text": [
      "Duration of algorithm was 0.88sec\n",
      "Warning: n_edges is not exact due to gcastle implementation\n",
      "Duration of algorithm was 0.85sec\n"
     ]
    },
    {
     "name": "stderr",
     "output_type": "stream",
     "text": [
      "2023-11-10 17:30:27,423 - c:\\Users\\JanMarco\\MLProjects\\Masterthesis\\masterthesis\\mthesis\\lib\\site-packages\\castle\\datasets\\simulator.py[line:270] - INFO: Finished synthetic dataset\n"
     ]
    },
    {
     "name": "stdout",
     "output_type": "stream",
     "text": [
      "Duration of algorithm was 0.81sec\n",
      "Warning: n_edges is not exact due to gcastle implementation\n",
      "Duration of algorithm was 0.96sec\n"
     ]
    },
    {
     "name": "stderr",
     "output_type": "stream",
     "text": [
      "2023-11-10 17:30:30,381 - c:\\Users\\JanMarco\\MLProjects\\Masterthesis\\masterthesis\\mthesis\\lib\\site-packages\\castle\\datasets\\simulator.py[line:270] - INFO: Finished synthetic dataset\n"
     ]
    },
    {
     "name": "stdout",
     "output_type": "stream",
     "text": [
      "Duration of algorithm was 1.01sec\n",
      "Warning: n_edges is not exact due to gcastle implementation\n",
      "Duration of algorithm was 0.97sec\n"
     ]
    },
    {
     "name": "stderr",
     "output_type": "stream",
     "text": [
      "2023-11-10 17:30:33,252 - c:\\Users\\JanMarco\\MLProjects\\Masterthesis\\masterthesis\\mthesis\\lib\\site-packages\\castle\\datasets\\simulator.py[line:270] - INFO: Finished synthetic dataset\n"
     ]
    },
    {
     "name": "stdout",
     "output_type": "stream",
     "text": [
      "Duration of algorithm was 0.93sec\n",
      "Warning: n_edges is not exact due to gcastle implementation\n",
      "Duration of algorithm was 1.34sec\n"
     ]
    },
    {
     "name": "stderr",
     "output_type": "stream",
     "text": [
      "2023-11-10 17:30:37,351 - c:\\Users\\JanMarco\\MLProjects\\Masterthesis\\masterthesis\\mthesis\\lib\\site-packages\\castle\\datasets\\simulator.py[line:270] - INFO: Finished synthetic dataset\n"
     ]
    },
    {
     "name": "stdout",
     "output_type": "stream",
     "text": [
      "Duration of algorithm was 1.36sec\n",
      "Warning: n_edges is not exact due to gcastle implementation\n",
      "Duration of algorithm was 1.32sec\n"
     ]
    },
    {
     "name": "stderr",
     "output_type": "stream",
     "text": [
      "2023-11-10 17:30:41,383 - c:\\Users\\JanMarco\\MLProjects\\Masterthesis\\masterthesis\\mthesis\\lib\\site-packages\\castle\\datasets\\simulator.py[line:270] - INFO: Finished synthetic dataset\n"
     ]
    },
    {
     "name": "stdout",
     "output_type": "stream",
     "text": [
      "Duration of algorithm was 1.33sec\n",
      "Warning: n_edges is not exact due to gcastle implementation\n",
      "Duration of algorithm was 1.80sec\n"
     ]
    },
    {
     "name": "stderr",
     "output_type": "stream",
     "text": [
      "2023-11-10 17:30:46,704 - c:\\Users\\JanMarco\\MLProjects\\Masterthesis\\masterthesis\\mthesis\\lib\\site-packages\\castle\\datasets\\simulator.py[line:270] - INFO: Finished synthetic dataset\n"
     ]
    },
    {
     "name": "stdout",
     "output_type": "stream",
     "text": [
      "Duration of algorithm was 1.71sec\n",
      "Warning: n_edges is not exact due to gcastle implementation\n",
      "Duration of algorithm was 1.59sec\n"
     ]
    },
    {
     "name": "stderr",
     "output_type": "stream",
     "text": [
      "2023-11-10 17:30:51,471 - c:\\Users\\JanMarco\\MLProjects\\Masterthesis\\masterthesis\\mthesis\\lib\\site-packages\\castle\\datasets\\simulator.py[line:270] - INFO: Finished synthetic dataset\n"
     ]
    },
    {
     "name": "stdout",
     "output_type": "stream",
     "text": [
      "Duration of algorithm was 1.55sec\n",
      "Warning: n_edges is not exact due to gcastle implementation\n",
      "Duration of algorithm was 0.42sec\n"
     ]
    },
    {
     "name": "stderr",
     "output_type": "stream",
     "text": [
      "2023-11-10 17:30:52,916 - c:\\Users\\JanMarco\\MLProjects\\Masterthesis\\masterthesis\\mthesis\\lib\\site-packages\\castle\\datasets\\simulator.py[line:270] - INFO: Finished synthetic dataset\n"
     ]
    },
    {
     "name": "stdout",
     "output_type": "stream",
     "text": [
      "Duration of algorithm was 0.50sec\n",
      "Warning: n_edges is not exact due to gcastle implementation\n",
      "Duration of algorithm was 0.48sec\n"
     ]
    },
    {
     "name": "stderr",
     "output_type": "stream",
     "text": [
      "2023-11-10 17:30:54,532 - c:\\Users\\JanMarco\\MLProjects\\Masterthesis\\masterthesis\\mthesis\\lib\\site-packages\\castle\\datasets\\simulator.py[line:270] - INFO: Finished synthetic dataset\n"
     ]
    },
    {
     "name": "stdout",
     "output_type": "stream",
     "text": [
      "Duration of algorithm was 0.55sec\n",
      "Warning: n_edges is not exact due to gcastle implementation\n",
      "Duration of algorithm was 0.43sec\n"
     ]
    },
    {
     "name": "stderr",
     "output_type": "stream",
     "text": [
      "2023-11-10 17:30:55,945 - c:\\Users\\JanMarco\\MLProjects\\Masterthesis\\masterthesis\\mthesis\\lib\\site-packages\\castle\\datasets\\simulator.py[line:270] - INFO: Finished synthetic dataset\n"
     ]
    },
    {
     "name": "stdout",
     "output_type": "stream",
     "text": [
      "Duration of algorithm was 0.47sec\n",
      "Warning: n_edges is not exact due to gcastle implementation\n",
      "Duration of algorithm was 0.57sec\n"
     ]
    },
    {
     "name": "stderr",
     "output_type": "stream",
     "text": [
      "2023-11-10 17:30:57,795 - c:\\Users\\JanMarco\\MLProjects\\Masterthesis\\masterthesis\\mthesis\\lib\\site-packages\\castle\\datasets\\simulator.py[line:270] - INFO: Finished synthetic dataset\n"
     ]
    },
    {
     "name": "stdout",
     "output_type": "stream",
     "text": [
      "Duration of algorithm was 0.61sec\n",
      "Warning: n_edges is not exact due to gcastle implementation\n",
      "Duration of algorithm was 0.56sec\n"
     ]
    },
    {
     "name": "stderr",
     "output_type": "stream",
     "text": [
      "2023-11-10 17:30:59,526 - c:\\Users\\JanMarco\\MLProjects\\Masterthesis\\masterthesis\\mthesis\\lib\\site-packages\\castle\\datasets\\simulator.py[line:270] - INFO: Finished synthetic dataset\n"
     ]
    },
    {
     "name": "stdout",
     "output_type": "stream",
     "text": [
      "Duration of algorithm was 0.58sec\n",
      "Warning: n_edges is not exact due to gcastle implementation\n",
      "Duration of algorithm was 0.75sec\n"
     ]
    },
    {
     "name": "stderr",
     "output_type": "stream",
     "text": [
      "2023-11-10 17:31:01,948 - c:\\Users\\JanMarco\\MLProjects\\Masterthesis\\masterthesis\\mthesis\\lib\\site-packages\\castle\\datasets\\simulator.py[line:270] - INFO: Finished synthetic dataset\n"
     ]
    },
    {
     "name": "stdout",
     "output_type": "stream",
     "text": [
      "Duration of algorithm was 0.84sec\n",
      "Warning: n_edges is not exact due to gcastle implementation\n",
      "Duration of algorithm was 0.44sec\n"
     ]
    },
    {
     "name": "stderr",
     "output_type": "stream",
     "text": [
      "2023-11-10 17:31:03,517 - c:\\Users\\JanMarco\\MLProjects\\Masterthesis\\masterthesis\\mthesis\\lib\\site-packages\\castle\\datasets\\simulator.py[line:270] - INFO: Finished synthetic dataset\n"
     ]
    },
    {
     "name": "stdout",
     "output_type": "stream",
     "text": [
      "Duration of algorithm was 0.55sec\n",
      "Warning: n_edges is not exact due to gcastle implementation\n",
      "Duration of algorithm was 0.79sec\n"
     ]
    },
    {
     "name": "stderr",
     "output_type": "stream",
     "text": [
      "2023-11-10 17:31:06,272 - c:\\Users\\JanMarco\\MLProjects\\Masterthesis\\masterthesis\\mthesis\\lib\\site-packages\\castle\\datasets\\simulator.py[line:270] - INFO: Finished synthetic dataset\n"
     ]
    },
    {
     "name": "stdout",
     "output_type": "stream",
     "text": [
      "Duration of algorithm was 0.95sec\n",
      "Warning: n_edges is not exact due to gcastle implementation\n",
      "Duration of algorithm was 0.50sec\n"
     ]
    },
    {
     "name": "stderr",
     "output_type": "stream",
     "text": [
      "2023-11-10 17:31:07,937 - c:\\Users\\JanMarco\\MLProjects\\Masterthesis\\masterthesis\\mthesis\\lib\\site-packages\\castle\\datasets\\simulator.py[line:270] - INFO: Finished synthetic dataset\n"
     ]
    },
    {
     "name": "stdout",
     "output_type": "stream",
     "text": [
      "Duration of algorithm was 0.56sec\n",
      "Warning: n_edges is not exact due to gcastle implementation\n",
      "Duration of algorithm was 0.83sec\n"
     ]
    },
    {
     "name": "stderr",
     "output_type": "stream",
     "text": [
      "2023-11-10 17:31:10,740 - c:\\Users\\JanMarco\\MLProjects\\Masterthesis\\masterthesis\\mthesis\\lib\\site-packages\\castle\\datasets\\simulator.py[line:270] - INFO: Finished synthetic dataset\n"
     ]
    },
    {
     "name": "stdout",
     "output_type": "stream",
     "text": [
      "Duration of algorithm was 0.98sec\n",
      "Warning: n_edges is not exact due to gcastle implementation\n",
      "Duration of algorithm was 0.64sec\n"
     ]
    },
    {
     "name": "stderr",
     "output_type": "stream",
     "text": [
      "2023-11-10 17:31:13,143 - c:\\Users\\JanMarco\\MLProjects\\Masterthesis\\masterthesis\\mthesis\\lib\\site-packages\\castle\\datasets\\simulator.py[line:270] - INFO: Finished synthetic dataset\n"
     ]
    },
    {
     "name": "stdout",
     "output_type": "stream",
     "text": [
      "Duration of algorithm was 0.87sec\n",
      "Warning: n_edges is not exact due to gcastle implementation\n",
      "Duration of algorithm was 0.74sec\n"
     ]
    },
    {
     "name": "stderr",
     "output_type": "stream",
     "text": [
      "2023-11-10 17:31:15,902 - c:\\Users\\JanMarco\\MLProjects\\Masterthesis\\masterthesis\\mthesis\\lib\\site-packages\\castle\\datasets\\simulator.py[line:270] - INFO: Finished synthetic dataset\n"
     ]
    },
    {
     "name": "stdout",
     "output_type": "stream",
     "text": [
      "Duration of algorithm was 1.02sec\n",
      "Warning: n_edges is not exact due to gcastle implementation\n",
      "Duration of algorithm was 0.83sec\n"
     ]
    },
    {
     "name": "stderr",
     "output_type": "stream",
     "text": [
      "2023-11-10 17:31:19,088 - c:\\Users\\JanMarco\\MLProjects\\Masterthesis\\masterthesis\\mthesis\\lib\\site-packages\\castle\\datasets\\simulator.py[line:270] - INFO: Finished synthetic dataset\n"
     ]
    },
    {
     "name": "stdout",
     "output_type": "stream",
     "text": [
      "Duration of algorithm was 1.16sec\n",
      "Warning: n_edges is not exact due to gcastle implementation\n",
      "Duration of algorithm was 1.38sec\n"
     ]
    },
    {
     "name": "stderr",
     "output_type": "stream",
     "text": [
      "2023-11-10 17:31:23,790 - c:\\Users\\JanMarco\\MLProjects\\Masterthesis\\masterthesis\\mthesis\\lib\\site-packages\\castle\\datasets\\simulator.py[line:270] - INFO: Finished synthetic dataset\n"
     ]
    },
    {
     "name": "stdout",
     "output_type": "stream",
     "text": [
      "Duration of algorithm was 1.63sec\n",
      "Warning: n_edges is not exact due to gcastle implementation\n",
      "Duration of algorithm was 0.93sec\n"
     ]
    },
    {
     "name": "stderr",
     "output_type": "stream",
     "text": [
      "2023-11-10 17:31:26,664 - c:\\Users\\JanMarco\\MLProjects\\Masterthesis\\masterthesis\\mthesis\\lib\\site-packages\\castle\\datasets\\simulator.py[line:270] - INFO: Finished synthetic dataset\n"
     ]
    },
    {
     "name": "stdout",
     "output_type": "stream",
     "text": [
      "Duration of algorithm was 0.95sec\n",
      "Warning: n_edges is not exact due to gcastle implementation\n",
      "Duration of algorithm was 0.37sec\n"
     ]
    },
    {
     "name": "stderr",
     "output_type": "stream",
     "text": [
      "2023-11-10 17:31:28,126 - c:\\Users\\JanMarco\\MLProjects\\Masterthesis\\masterthesis\\mthesis\\lib\\site-packages\\castle\\datasets\\simulator.py[line:270] - INFO: Finished synthetic dataset\n"
     ]
    },
    {
     "name": "stdout",
     "output_type": "stream",
     "text": [
      "Duration of algorithm was 0.58sec\n",
      "Warning: n_edges is not exact due to gcastle implementation\n",
      "Duration of algorithm was 0.30sec\n"
     ]
    },
    {
     "name": "stderr",
     "output_type": "stream",
     "text": [
      "2023-11-10 17:31:29,284 - c:\\Users\\JanMarco\\MLProjects\\Masterthesis\\masterthesis\\mthesis\\lib\\site-packages\\castle\\datasets\\simulator.py[line:270] - INFO: Finished synthetic dataset\n"
     ]
    },
    {
     "name": "stdout",
     "output_type": "stream",
     "text": [
      "Duration of algorithm was 0.41sec\n",
      "Warning: n_edges is not exact due to gcastle implementation\n",
      "Duration of algorithm was 0.47sec\n"
     ]
    },
    {
     "name": "stderr",
     "output_type": "stream",
     "text": [
      "2023-11-10 17:31:30,770 - c:\\Users\\JanMarco\\MLProjects\\Masterthesis\\masterthesis\\mthesis\\lib\\site-packages\\castle\\datasets\\simulator.py[line:270] - INFO: Finished synthetic dataset\n"
     ]
    },
    {
     "name": "stdout",
     "output_type": "stream",
     "text": [
      "Duration of algorithm was 0.49sec\n",
      "Warning: n_edges is not exact due to gcastle implementation\n",
      "Duration of algorithm was 0.64sec\n"
     ]
    },
    {
     "name": "stderr",
     "output_type": "stream",
     "text": [
      "2023-11-10 17:31:32,949 - c:\\Users\\JanMarco\\MLProjects\\Masterthesis\\masterthesis\\mthesis\\lib\\site-packages\\castle\\datasets\\simulator.py[line:270] - INFO: Finished synthetic dataset\n"
     ]
    },
    {
     "name": "stdout",
     "output_type": "stream",
     "text": [
      "Duration of algorithm was 0.77sec\n",
      "Warning: n_edges is not exact due to gcastle implementation\n",
      "Duration of algorithm was 0.29sec\n"
     ]
    },
    {
     "name": "stderr",
     "output_type": "stream",
     "text": [
      "2023-11-10 17:31:33,976 - c:\\Users\\JanMarco\\MLProjects\\Masterthesis\\masterthesis\\mthesis\\lib\\site-packages\\castle\\datasets\\simulator.py[line:270] - INFO: Finished synthetic dataset\n"
     ]
    },
    {
     "name": "stdout",
     "output_type": "stream",
     "text": [
      "Duration of algorithm was 0.35sec\n",
      "Warning: n_edges is not exact due to gcastle implementation\n",
      "Duration of algorithm was 0.47sec\n"
     ]
    },
    {
     "name": "stderr",
     "output_type": "stream",
     "text": [
      "2023-11-10 17:31:35,410 - c:\\Users\\JanMarco\\MLProjects\\Masterthesis\\masterthesis\\mthesis\\lib\\site-packages\\castle\\datasets\\simulator.py[line:270] - INFO: Finished synthetic dataset\n"
     ]
    },
    {
     "name": "stdout",
     "output_type": "stream",
     "text": [
      "Duration of algorithm was 0.47sec\n",
      "Warning: n_edges is not exact due to gcastle implementation\n",
      "Duration of algorithm was 0.60sec\n"
     ]
    },
    {
     "name": "stderr",
     "output_type": "stream",
     "text": [
      "2023-11-10 17:31:37,364 - c:\\Users\\JanMarco\\MLProjects\\Masterthesis\\masterthesis\\mthesis\\lib\\site-packages\\castle\\datasets\\simulator.py[line:270] - INFO: Finished synthetic dataset\n"
     ]
    },
    {
     "name": "stdout",
     "output_type": "stream",
     "text": [
      "Duration of algorithm was 0.66sec\n",
      "Warning: n_edges is not exact due to gcastle implementation\n",
      "Duration of algorithm was 0.50sec\n"
     ]
    },
    {
     "name": "stderr",
     "output_type": "stream",
     "text": [
      "2023-11-10 17:31:39,020 - c:\\Users\\JanMarco\\MLProjects\\Masterthesis\\masterthesis\\mthesis\\lib\\site-packages\\castle\\datasets\\simulator.py[line:270] - INFO: Finished synthetic dataset\n"
     ]
    },
    {
     "name": "stdout",
     "output_type": "stream",
     "text": [
      "Duration of algorithm was 0.57sec\n",
      "Warning: n_edges is not exact due to gcastle implementation\n",
      "Duration of algorithm was 0.55sec\n"
     ]
    },
    {
     "name": "stderr",
     "output_type": "stream",
     "text": [
      "2023-11-10 17:31:40,724 - c:\\Users\\JanMarco\\MLProjects\\Masterthesis\\masterthesis\\mthesis\\lib\\site-packages\\castle\\datasets\\simulator.py[line:270] - INFO: Finished synthetic dataset\n"
     ]
    },
    {
     "name": "stdout",
     "output_type": "stream",
     "text": [
      "Duration of algorithm was 0.55sec\n",
      "Warning: n_edges is not exact due to gcastle implementation\n",
      "Duration of algorithm was 0.56sec\n"
     ]
    },
    {
     "name": "stderr",
     "output_type": "stream",
     "text": [
      "2023-11-10 17:31:42,462 - c:\\Users\\JanMarco\\MLProjects\\Masterthesis\\masterthesis\\mthesis\\lib\\site-packages\\castle\\datasets\\simulator.py[line:270] - INFO: Finished synthetic dataset\n"
     ]
    },
    {
     "name": "stdout",
     "output_type": "stream",
     "text": [
      "Duration of algorithm was 0.58sec\n",
      "Warning: n_edges is not exact due to gcastle implementation\n",
      "Duration of algorithm was 1.05sec\n"
     ]
    },
    {
     "name": "stderr",
     "output_type": "stream",
     "text": [
      "2023-11-10 17:31:45,778 - c:\\Users\\JanMarco\\MLProjects\\Masterthesis\\masterthesis\\mthesis\\lib\\site-packages\\castle\\datasets\\simulator.py[line:270] - INFO: Finished synthetic dataset\n"
     ]
    },
    {
     "name": "stdout",
     "output_type": "stream",
     "text": [
      "Duration of algorithm was 1.14sec\n",
      "Warning: n_edges is not exact due to gcastle implementation\n",
      "Duration of algorithm was 0.54sec\n"
     ]
    },
    {
     "name": "stderr",
     "output_type": "stream",
     "text": [
      "2023-11-10 17:31:48,004 - c:\\Users\\JanMarco\\MLProjects\\Masterthesis\\masterthesis\\mthesis\\lib\\site-packages\\castle\\datasets\\simulator.py[line:270] - INFO: Finished synthetic dataset\n"
     ]
    },
    {
     "name": "stdout",
     "output_type": "stream",
     "text": [
      "Duration of algorithm was 0.83sec\n",
      "Warning: n_edges is not exact due to gcastle implementation\n",
      "Duration of algorithm was 1.44sec\n"
     ]
    },
    {
     "name": "stderr",
     "output_type": "stream",
     "text": [
      "2023-11-10 17:31:52,764 - c:\\Users\\JanMarco\\MLProjects\\Masterthesis\\masterthesis\\mthesis\\lib\\site-packages\\castle\\datasets\\simulator.py[line:270] - INFO: Finished synthetic dataset\n"
     ]
    },
    {
     "name": "stdout",
     "output_type": "stream",
     "text": [
      "Duration of algorithm was 1.63sec\n",
      "Warning: n_edges is not exact due to gcastle implementation\n",
      "Duration of algorithm was 0.85sec\n"
     ]
    },
    {
     "name": "stderr",
     "output_type": "stream",
     "text": [
      "2023-11-10 17:31:56,027 - c:\\Users\\JanMarco\\MLProjects\\Masterthesis\\masterthesis\\mthesis\\lib\\site-packages\\castle\\datasets\\simulator.py[line:270] - INFO: Finished synthetic dataset\n"
     ]
    },
    {
     "name": "stdout",
     "output_type": "stream",
     "text": [
      "Duration of algorithm was 1.17sec\n",
      "Warning: n_edges is not exact due to gcastle implementation\n",
      "Duration of algorithm was 0.96sec\n"
     ]
    },
    {
     "name": "stderr",
     "output_type": "stream",
     "text": [
      "2023-11-10 17:31:59,885 - c:\\Users\\JanMarco\\MLProjects\\Masterthesis\\masterthesis\\mthesis\\lib\\site-packages\\castle\\datasets\\simulator.py[line:270] - INFO: Finished synthetic dataset\n"
     ]
    },
    {
     "name": "stdout",
     "output_type": "stream",
     "text": [
      "Duration of algorithm was 1.46sec\n",
      "Warning: n_edges is not exact due to gcastle implementation\n",
      "Duration of algorithm was 0.37sec\n"
     ]
    },
    {
     "name": "stderr",
     "output_type": "stream",
     "text": [
      "2023-11-10 17:32:01,265 - c:\\Users\\JanMarco\\MLProjects\\Masterthesis\\masterthesis\\mthesis\\lib\\site-packages\\castle\\datasets\\simulator.py[line:270] - INFO: Finished synthetic dataset\n"
     ]
    },
    {
     "name": "stdout",
     "output_type": "stream",
     "text": [
      "Duration of algorithm was 0.49sec\n",
      "Warning: n_edges is not exact due to gcastle implementation\n",
      "Duration of algorithm was 0.35sec\n"
     ]
    },
    {
     "name": "stderr",
     "output_type": "stream",
     "text": [
      "2023-11-10 17:32:02,601 - c:\\Users\\JanMarco\\MLProjects\\Masterthesis\\masterthesis\\mthesis\\lib\\site-packages\\castle\\datasets\\simulator.py[line:270] - INFO: Finished synthetic dataset\n"
     ]
    },
    {
     "name": "stdout",
     "output_type": "stream",
     "text": [
      "Duration of algorithm was 0.47sec\n",
      "Warning: n_edges is not exact due to gcastle implementation\n",
      "Duration of algorithm was 0.30sec\n"
     ]
    },
    {
     "name": "stderr",
     "output_type": "stream",
     "text": [
      "2023-11-10 17:32:03,672 - c:\\Users\\JanMarco\\MLProjects\\Masterthesis\\masterthesis\\mthesis\\lib\\site-packages\\castle\\datasets\\simulator.py[line:270] - INFO: Finished synthetic dataset\n"
     ]
    },
    {
     "name": "stdout",
     "output_type": "stream",
     "text": [
      "Duration of algorithm was 0.37sec\n",
      "Warning: n_edges is not exact due to gcastle implementation\n",
      "Duration of algorithm was 0.44sec\n"
     ]
    },
    {
     "name": "stderr",
     "output_type": "stream",
     "text": [
      "2023-11-10 17:32:05,259 - c:\\Users\\JanMarco\\MLProjects\\Masterthesis\\masterthesis\\mthesis\\lib\\site-packages\\castle\\datasets\\simulator.py[line:270] - INFO: Finished synthetic dataset\n"
     ]
    },
    {
     "name": "stdout",
     "output_type": "stream",
     "text": [
      "Duration of algorithm was 0.56sec\n",
      "Warning: n_edges is not exact due to gcastle implementation\n",
      "Duration of algorithm was 0.36sec\n"
     ]
    },
    {
     "name": "stderr",
     "output_type": "stream",
     "text": [
      "2023-11-10 17:32:06,625 - c:\\Users\\JanMarco\\MLProjects\\Masterthesis\\masterthesis\\mthesis\\lib\\site-packages\\castle\\datasets\\simulator.py[line:270] - INFO: Finished synthetic dataset\n"
     ]
    },
    {
     "name": "stdout",
     "output_type": "stream",
     "text": [
      "Duration of algorithm was 0.48sec\n",
      "Warning: n_edges is not exact due to gcastle implementation\n",
      "Duration of algorithm was 0.64sec\n"
     ]
    },
    {
     "name": "stderr",
     "output_type": "stream",
     "text": [
      "2023-11-10 17:32:08,884 - c:\\Users\\JanMarco\\MLProjects\\Masterthesis\\masterthesis\\mthesis\\lib\\site-packages\\castle\\datasets\\simulator.py[line:270] - INFO: Finished synthetic dataset\n"
     ]
    },
    {
     "name": "stdout",
     "output_type": "stream",
     "text": [
      "Duration of algorithm was 0.78sec\n",
      "Warning: n_edges is not exact due to gcastle implementation\n",
      "Duration of algorithm was 0.56sec\n"
     ]
    },
    {
     "name": "stderr",
     "output_type": "stream",
     "text": [
      "2023-11-10 17:32:11,128 - c:\\Users\\JanMarco\\MLProjects\\Masterthesis\\masterthesis\\mthesis\\lib\\site-packages\\castle\\datasets\\simulator.py[line:270] - INFO: Finished synthetic dataset\n"
     ]
    },
    {
     "name": "stdout",
     "output_type": "stream",
     "text": [
      "Duration of algorithm was 0.83sec\n",
      "Warning: n_edges is not exact due to gcastle implementation\n",
      "Duration of algorithm was 0.61sec\n"
     ]
    },
    {
     "name": "stderr",
     "output_type": "stream",
     "text": [
      "2023-11-10 17:32:13,397 - c:\\Users\\JanMarco\\MLProjects\\Masterthesis\\masterthesis\\mthesis\\lib\\site-packages\\castle\\datasets\\simulator.py[line:270] - INFO: Finished synthetic dataset\n"
     ]
    },
    {
     "name": "stdout",
     "output_type": "stream",
     "text": [
      "Duration of algorithm was 0.83sec\n",
      "Warning: n_edges is not exact due to gcastle implementation\n",
      "Duration of algorithm was 0.40sec\n"
     ]
    },
    {
     "name": "stderr",
     "output_type": "stream",
     "text": [
      "2023-11-10 17:32:14,954 - c:\\Users\\JanMarco\\MLProjects\\Masterthesis\\masterthesis\\mthesis\\lib\\site-packages\\castle\\datasets\\simulator.py[line:270] - INFO: Finished synthetic dataset\n"
     ]
    },
    {
     "name": "stdout",
     "output_type": "stream",
     "text": [
      "Duration of algorithm was 0.55sec\n",
      "Warning: n_edges is not exact due to gcastle implementation\n",
      "Duration of algorithm was 1.00sec\n"
     ]
    },
    {
     "name": "stderr",
     "output_type": "stream",
     "text": [
      "2023-11-10 17:32:18,460 - c:\\Users\\JanMarco\\MLProjects\\Masterthesis\\masterthesis\\mthesis\\lib\\site-packages\\castle\\datasets\\simulator.py[line:270] - INFO: Finished synthetic dataset\n"
     ]
    },
    {
     "name": "stdout",
     "output_type": "stream",
     "text": [
      "Duration of algorithm was 1.21sec\n",
      "Warning: n_edges is not exact due to gcastle implementation\n",
      "Duration of algorithm was 0.69sec\n"
     ]
    },
    {
     "name": "stderr",
     "output_type": "stream",
     "text": [
      "2023-11-10 17:32:20,677 - c:\\Users\\JanMarco\\MLProjects\\Masterthesis\\masterthesis\\mthesis\\lib\\site-packages\\castle\\datasets\\simulator.py[line:270] - INFO: Finished synthetic dataset\n"
     ]
    },
    {
     "name": "stdout",
     "output_type": "stream",
     "text": [
      "Duration of algorithm was 0.74sec\n",
      "Warning: n_edges is not exact due to gcastle implementation\n",
      "Duration of algorithm was 0.45sec\n"
     ]
    },
    {
     "name": "stderr",
     "output_type": "stream",
     "text": [
      "2023-11-10 17:32:22,221 - c:\\Users\\JanMarco\\MLProjects\\Masterthesis\\masterthesis\\mthesis\\lib\\site-packages\\castle\\datasets\\simulator.py[line:270] - INFO: Finished synthetic dataset\n"
     ]
    },
    {
     "name": "stdout",
     "output_type": "stream",
     "text": [
      "Duration of algorithm was 0.52sec\n",
      "Warning: n_edges is not exact due to gcastle implementation\n",
      "Duration of algorithm was 0.89sec\n"
     ]
    },
    {
     "name": "stderr",
     "output_type": "stream",
     "text": [
      "2023-11-10 17:32:25,558 - c:\\Users\\JanMarco\\MLProjects\\Masterthesis\\masterthesis\\mthesis\\lib\\site-packages\\castle\\datasets\\simulator.py[line:270] - INFO: Finished synthetic dataset\n"
     ]
    },
    {
     "name": "stdout",
     "output_type": "stream",
     "text": [
      "Duration of algorithm was 1.19sec\n",
      "Warning: n_edges is not exact due to gcastle implementation\n",
      "Duration of algorithm was 0.78sec\n"
     ]
    },
    {
     "name": "stderr",
     "output_type": "stream",
     "text": [
      "2023-11-10 17:32:28,695 - c:\\Users\\JanMarco\\MLProjects\\Masterthesis\\masterthesis\\mthesis\\lib\\site-packages\\castle\\datasets\\simulator.py[line:270] - INFO: Finished synthetic dataset\n"
     ]
    },
    {
     "name": "stdout",
     "output_type": "stream",
     "text": [
      "Duration of algorithm was 1.17sec\n",
      "Warning: n_edges is not exact due to gcastle implementation\n",
      "Duration of algorithm was 0.87sec\n"
     ]
    },
    {
     "name": "stderr",
     "output_type": "stream",
     "text": [
      "2023-11-10 17:32:31,802 - c:\\Users\\JanMarco\\MLProjects\\Masterthesis\\masterthesis\\mthesis\\lib\\site-packages\\castle\\datasets\\simulator.py[line:270] - INFO: Finished synthetic dataset\n"
     ]
    },
    {
     "name": "stdout",
     "output_type": "stream",
     "text": [
      "Duration of algorithm was 1.10sec\n",
      "Warning: n_edges is not exact due to gcastle implementation\n",
      "Duration of algorithm was 0.29sec\n"
     ]
    },
    {
     "name": "stderr",
     "output_type": "stream",
     "text": [
      "2023-11-10 17:32:32,810 - c:\\Users\\JanMarco\\MLProjects\\Masterthesis\\masterthesis\\mthesis\\lib\\site-packages\\castle\\datasets\\simulator.py[line:270] - INFO: Finished synthetic dataset\n"
     ]
    },
    {
     "name": "stdout",
     "output_type": "stream",
     "text": [
      "Duration of algorithm was 0.34sec\n",
      "Warning: n_edges is not exact due to gcastle implementation\n",
      "Duration of algorithm was 0.33sec\n"
     ]
    },
    {
     "name": "stderr",
     "output_type": "stream",
     "text": [
      "2023-11-10 17:32:33,978 - c:\\Users\\JanMarco\\MLProjects\\Masterthesis\\masterthesis\\mthesis\\lib\\site-packages\\castle\\datasets\\simulator.py[line:270] - INFO: Finished synthetic dataset\n"
     ]
    },
    {
     "name": "stdout",
     "output_type": "stream",
     "text": [
      "Duration of algorithm was 0.40sec\n",
      "Warning: n_edges is not exact due to gcastle implementation\n",
      "Duration of algorithm was 0.36sec\n"
     ]
    },
    {
     "name": "stderr",
     "output_type": "stream",
     "text": [
      "2023-11-10 17:32:35,450 - c:\\Users\\JanMarco\\MLProjects\\Masterthesis\\masterthesis\\mthesis\\lib\\site-packages\\castle\\datasets\\simulator.py[line:270] - INFO: Finished synthetic dataset\n"
     ]
    },
    {
     "name": "stdout",
     "output_type": "stream",
     "text": [
      "Duration of algorithm was 0.53sec\n",
      "Warning: n_edges is not exact due to gcastle implementation\n",
      "Duration of algorithm was 0.35sec\n"
     ]
    },
    {
     "name": "stderr",
     "output_type": "stream",
     "text": [
      "2023-11-10 17:32:36,737 - c:\\Users\\JanMarco\\MLProjects\\Masterthesis\\masterthesis\\mthesis\\lib\\site-packages\\castle\\datasets\\simulator.py[line:270] - INFO: Finished synthetic dataset\n"
     ]
    },
    {
     "name": "stdout",
     "output_type": "stream",
     "text": [
      "Duration of algorithm was 0.45sec\n",
      "Warning: n_edges is not exact due to gcastle implementation\n",
      "Duration of algorithm was 0.38sec\n"
     ]
    },
    {
     "name": "stderr",
     "output_type": "stream",
     "text": [
      "2023-11-10 17:32:38,005 - c:\\Users\\JanMarco\\MLProjects\\Masterthesis\\masterthesis\\mthesis\\lib\\site-packages\\castle\\datasets\\simulator.py[line:270] - INFO: Finished synthetic dataset\n"
     ]
    },
    {
     "name": "stdout",
     "output_type": "stream",
     "text": [
      "Duration of algorithm was 0.43sec\n",
      "Warning: n_edges is not exact due to gcastle implementation\n",
      "Duration of algorithm was 0.42sec\n"
     ]
    },
    {
     "name": "stderr",
     "output_type": "stream",
     "text": [
      "2023-11-10 17:32:39,675 - c:\\Users\\JanMarco\\MLProjects\\Masterthesis\\masterthesis\\mthesis\\lib\\site-packages\\castle\\datasets\\simulator.py[line:270] - INFO: Finished synthetic dataset\n"
     ]
    },
    {
     "name": "stdout",
     "output_type": "stream",
     "text": [
      "Duration of algorithm was 0.61sec\n",
      "Warning: n_edges is not exact due to gcastle implementation\n",
      "Duration of algorithm was 0.45sec\n"
     ]
    },
    {
     "name": "stderr",
     "output_type": "stream",
     "text": [
      "2023-11-10 17:32:41,150 - c:\\Users\\JanMarco\\MLProjects\\Masterthesis\\masterthesis\\mthesis\\lib\\site-packages\\castle\\datasets\\simulator.py[line:270] - INFO: Finished synthetic dataset\n"
     ]
    },
    {
     "name": "stdout",
     "output_type": "stream",
     "text": [
      "Duration of algorithm was 0.49sec\n",
      "Warning: n_edges is not exact due to gcastle implementation\n",
      "Duration of algorithm was 0.41sec\n"
     ]
    },
    {
     "name": "stderr",
     "output_type": "stream",
     "text": [
      "2023-11-10 17:32:42,779 - c:\\Users\\JanMarco\\MLProjects\\Masterthesis\\masterthesis\\mthesis\\lib\\site-packages\\castle\\datasets\\simulator.py[line:270] - INFO: Finished synthetic dataset\n"
     ]
    },
    {
     "name": "stdout",
     "output_type": "stream",
     "text": [
      "Duration of algorithm was 0.59sec\n",
      "Warning: n_edges is not exact due to gcastle implementation\n",
      "Duration of algorithm was 0.48sec\n"
     ]
    },
    {
     "name": "stderr",
     "output_type": "stream",
     "text": [
      "2023-11-10 17:32:44,575 - c:\\Users\\JanMarco\\MLProjects\\Masterthesis\\masterthesis\\mthesis\\lib\\site-packages\\castle\\datasets\\simulator.py[line:270] - INFO: Finished synthetic dataset\n"
     ]
    },
    {
     "name": "stdout",
     "output_type": "stream",
     "text": [
      "Duration of algorithm was 0.64sec\n",
      "Warning: n_edges is not exact due to gcastle implementation\n",
      "Duration of algorithm was 0.60sec\n"
     ]
    },
    {
     "name": "stderr",
     "output_type": "stream",
     "text": [
      "2023-11-10 17:32:46,428 - c:\\Users\\JanMarco\\MLProjects\\Masterthesis\\masterthesis\\mthesis\\lib\\site-packages\\castle\\datasets\\simulator.py[line:270] - INFO: Finished synthetic dataset\n"
     ]
    },
    {
     "name": "stdout",
     "output_type": "stream",
     "text": [
      "Duration of algorithm was 0.60sec\n",
      "Warning: n_edges is not exact due to gcastle implementation\n",
      "Duration of algorithm was 0.58sec\n"
     ]
    },
    {
     "name": "stderr",
     "output_type": "stream",
     "text": [
      "2023-11-10 17:32:48,755 - c:\\Users\\JanMarco\\MLProjects\\Masterthesis\\masterthesis\\mthesis\\lib\\site-packages\\castle\\datasets\\simulator.py[line:270] - INFO: Finished synthetic dataset\n"
     ]
    },
    {
     "name": "stdout",
     "output_type": "stream",
     "text": [
      "Duration of algorithm was 0.86sec\n",
      "Warning: n_edges is not exact due to gcastle implementation\n",
      "Duration of algorithm was 0.60sec\n"
     ]
    },
    {
     "name": "stderr",
     "output_type": "stream",
     "text": [
      "2023-11-10 17:32:51,172 - c:\\Users\\JanMarco\\MLProjects\\Masterthesis\\masterthesis\\mthesis\\lib\\site-packages\\castle\\datasets\\simulator.py[line:270] - INFO: Finished synthetic dataset\n"
     ]
    },
    {
     "name": "stdout",
     "output_type": "stream",
     "text": [
      "Duration of algorithm was 0.88sec\n",
      "Warning: n_edges is not exact due to gcastle implementation\n",
      "Duration of algorithm was 1.01sec\n"
     ]
    },
    {
     "name": "stderr",
     "output_type": "stream",
     "text": [
      "2023-11-10 17:32:55,033 - c:\\Users\\JanMarco\\MLProjects\\Masterthesis\\masterthesis\\mthesis\\lib\\site-packages\\castle\\datasets\\simulator.py[line:270] - INFO: Finished synthetic dataset\n"
     ]
    },
    {
     "name": "stdout",
     "output_type": "stream",
     "text": [
      "Duration of algorithm was 1.41sec\n",
      "Warning: n_edges is not exact due to gcastle implementation\n",
      "Duration of algorithm was 0.68sec\n"
     ]
    },
    {
     "name": "stderr",
     "output_type": "stream",
     "text": [
      "2023-11-10 17:32:58,391 - c:\\Users\\JanMarco\\MLProjects\\Masterthesis\\masterthesis\\mthesis\\lib\\site-packages\\castle\\datasets\\simulator.py[line:270] - INFO: Finished synthetic dataset\n"
     ]
    },
    {
     "name": "stdout",
     "output_type": "stream",
     "text": [
      "Duration of algorithm was 1.32sec\n",
      "Warning: n_edges is not exact due to gcastle implementation\n",
      "Duration of algorithm was 1.20sec\n"
     ]
    },
    {
     "name": "stderr",
     "output_type": "stream",
     "text": [
      "2023-11-10 17:33:02,340 - c:\\Users\\JanMarco\\MLProjects\\Masterthesis\\masterthesis\\mthesis\\lib\\site-packages\\castle\\datasets\\simulator.py[line:270] - INFO: Finished synthetic dataset\n"
     ]
    },
    {
     "name": "stdout",
     "output_type": "stream",
     "text": [
      "Duration of algorithm was 1.31sec\n",
      "Warning: n_edges is not exact due to gcastle implementation\n",
      "Duration of algorithm was 0.59sec\n"
     ]
    },
    {
     "name": "stderr",
     "output_type": "stream",
     "text": [
      "2023-11-10 17:33:04,165 - c:\\Users\\JanMarco\\MLProjects\\Masterthesis\\masterthesis\\mthesis\\lib\\site-packages\\castle\\datasets\\simulator.py[line:270] - INFO: Finished synthetic dataset\n"
     ]
    },
    {
     "name": "stdout",
     "output_type": "stream",
     "text": [
      "Duration of algorithm was 0.61sec\n",
      "Warning: n_edges is not exact due to gcastle implementation\n",
      "Duration of algorithm was 0.67sec\n"
     ]
    },
    {
     "name": "stderr",
     "output_type": "stream",
     "text": [
      "2023-11-10 17:33:06,202 - c:\\Users\\JanMarco\\MLProjects\\Masterthesis\\masterthesis\\mthesis\\lib\\site-packages\\castle\\datasets\\simulator.py[line:270] - INFO: Finished synthetic dataset\n"
     ]
    },
    {
     "name": "stdout",
     "output_type": "stream",
     "text": [
      "Duration of algorithm was 0.65sec\n",
      "Warning: n_edges is not exact due to gcastle implementation\n",
      "Duration of algorithm was 0.56sec\n"
     ]
    },
    {
     "name": "stderr",
     "output_type": "stream",
     "text": [
      "2023-11-10 17:33:07,913 - c:\\Users\\JanMarco\\MLProjects\\Masterthesis\\masterthesis\\mthesis\\lib\\site-packages\\castle\\datasets\\simulator.py[line:270] - INFO: Finished synthetic dataset\n"
     ]
    },
    {
     "name": "stdout",
     "output_type": "stream",
     "text": [
      "Duration of algorithm was 0.55sec\n",
      "Warning: n_edges is not exact due to gcastle implementation\n",
      "Duration of algorithm was 0.82sec\n"
     ]
    },
    {
     "name": "stderr",
     "output_type": "stream",
     "text": [
      "2023-11-10 17:33:10,417 - c:\\Users\\JanMarco\\MLProjects\\Masterthesis\\masterthesis\\mthesis\\lib\\site-packages\\castle\\datasets\\simulator.py[line:270] - INFO: Finished synthetic dataset\n"
     ]
    },
    {
     "name": "stdout",
     "output_type": "stream",
     "text": [
      "Duration of algorithm was 0.81sec\n",
      "Warning: n_edges is not exact due to gcastle implementation\n",
      "Duration of algorithm was 0.94sec\n"
     ]
    },
    {
     "name": "stderr",
     "output_type": "stream",
     "text": [
      "2023-11-10 17:33:13,307 - c:\\Users\\JanMarco\\MLProjects\\Masterthesis\\masterthesis\\mthesis\\lib\\site-packages\\castle\\datasets\\simulator.py[line:270] - INFO: Finished synthetic dataset\n"
     ]
    },
    {
     "name": "stdout",
     "output_type": "stream",
     "text": [
      "Duration of algorithm was 0.98sec\n",
      "Warning: n_edges is not exact due to gcastle implementation\n",
      "Duration of algorithm was 0.78sec\n"
     ]
    },
    {
     "name": "stderr",
     "output_type": "stream",
     "text": [
      "2023-11-10 17:33:15,651 - c:\\Users\\JanMarco\\MLProjects\\Masterthesis\\masterthesis\\mthesis\\lib\\site-packages\\castle\\datasets\\simulator.py[line:270] - INFO: Finished synthetic dataset\n"
     ]
    },
    {
     "name": "stdout",
     "output_type": "stream",
     "text": [
      "Duration of algorithm was 0.75sec\n",
      "Warning: n_edges is not exact due to gcastle implementation\n",
      "Duration of algorithm was 1.07sec\n"
     ]
    },
    {
     "name": "stderr",
     "output_type": "stream",
     "text": [
      "2023-11-10 17:33:18,934 - c:\\Users\\JanMarco\\MLProjects\\Masterthesis\\masterthesis\\mthesis\\lib\\site-packages\\castle\\datasets\\simulator.py[line:270] - INFO: Finished synthetic dataset\n"
     ]
    },
    {
     "name": "stdout",
     "output_type": "stream",
     "text": [
      "Duration of algorithm was 1.08sec\n",
      "Warning: n_edges is not exact due to gcastle implementation\n",
      "Duration of algorithm was 0.66sec\n"
     ]
    },
    {
     "name": "stderr",
     "output_type": "stream",
     "text": [
      "2023-11-10 17:33:20,935 - c:\\Users\\JanMarco\\MLProjects\\Masterthesis\\masterthesis\\mthesis\\lib\\site-packages\\castle\\datasets\\simulator.py[line:270] - INFO: Finished synthetic dataset\n"
     ]
    },
    {
     "name": "stdout",
     "output_type": "stream",
     "text": [
      "Duration of algorithm was 0.65sec\n",
      "Warning: n_edges is not exact due to gcastle implementation\n",
      "Duration of algorithm was 0.88sec\n"
     ]
    },
    {
     "name": "stderr",
     "output_type": "stream",
     "text": [
      "2023-11-10 17:33:23,682 - c:\\Users\\JanMarco\\MLProjects\\Masterthesis\\masterthesis\\mthesis\\lib\\site-packages\\castle\\datasets\\simulator.py[line:270] - INFO: Finished synthetic dataset\n"
     ]
    },
    {
     "name": "stdout",
     "output_type": "stream",
     "text": [
      "Duration of algorithm was 0.92sec\n",
      "Warning: n_edges is not exact due to gcastle implementation\n",
      "Duration of algorithm was 1.12sec\n"
     ]
    },
    {
     "name": "stderr",
     "output_type": "stream",
     "text": [
      "2023-11-10 17:33:27,100 - c:\\Users\\JanMarco\\MLProjects\\Masterthesis\\masterthesis\\mthesis\\lib\\site-packages\\castle\\datasets\\simulator.py[line:270] - INFO: Finished synthetic dataset\n"
     ]
    },
    {
     "name": "stdout",
     "output_type": "stream",
     "text": [
      "Duration of algorithm was 1.13sec\n",
      "Warning: n_edges is not exact due to gcastle implementation\n",
      "Duration of algorithm was 1.35sec\n"
     ]
    },
    {
     "name": "stderr",
     "output_type": "stream",
     "text": [
      "2023-11-10 17:33:31,221 - c:\\Users\\JanMarco\\MLProjects\\Masterthesis\\masterthesis\\mthesis\\lib\\site-packages\\castle\\datasets\\simulator.py[line:270] - INFO: Finished synthetic dataset\n"
     ]
    },
    {
     "name": "stdout",
     "output_type": "stream",
     "text": [
      "Duration of algorithm was 1.35sec\n",
      "Warning: n_edges is not exact due to gcastle implementation\n",
      "Duration of algorithm was 1.22sec\n"
     ]
    },
    {
     "name": "stderr",
     "output_type": "stream",
     "text": [
      "2023-11-10 17:33:34,911 - c:\\Users\\JanMarco\\MLProjects\\Masterthesis\\masterthesis\\mthesis\\lib\\site-packages\\castle\\datasets\\simulator.py[line:270] - INFO: Finished synthetic dataset\n"
     ]
    },
    {
     "name": "stdout",
     "output_type": "stream",
     "text": [
      "Duration of algorithm was 1.23sec\n",
      "Warning: n_edges is not exact due to gcastle implementation\n",
      "Duration of algorithm was 1.81sec\n"
     ]
    },
    {
     "name": "stderr",
     "output_type": "stream",
     "text": [
      "2023-11-10 17:33:40,128 - c:\\Users\\JanMarco\\MLProjects\\Masterthesis\\masterthesis\\mthesis\\lib\\site-packages\\castle\\datasets\\simulator.py[line:270] - INFO: Finished synthetic dataset\n"
     ]
    },
    {
     "name": "stdout",
     "output_type": "stream",
     "text": [
      "Duration of algorithm was 1.66sec\n",
      "Warning: n_edges is not exact due to gcastle implementation\n",
      "Duration of algorithm was 1.55sec\n"
     ]
    },
    {
     "name": "stderr",
     "output_type": "stream",
     "text": [
      "2023-11-10 17:33:44,799 - c:\\Users\\JanMarco\\MLProjects\\Masterthesis\\masterthesis\\mthesis\\lib\\site-packages\\castle\\datasets\\simulator.py[line:270] - INFO: Finished synthetic dataset\n"
     ]
    },
    {
     "name": "stdout",
     "output_type": "stream",
     "text": [
      "Duration of algorithm was 1.53sec\n",
      "Warning: n_edges is not exact due to gcastle implementation\n",
      "Duration of algorithm was 1.81sec\n"
     ]
    },
    {
     "name": "stderr",
     "output_type": "stream",
     "text": [
      "2023-11-10 17:33:50,313 - c:\\Users\\JanMarco\\MLProjects\\Masterthesis\\masterthesis\\mthesis\\lib\\site-packages\\castle\\datasets\\simulator.py[line:270] - INFO: Finished synthetic dataset\n"
     ]
    },
    {
     "name": "stdout",
     "output_type": "stream",
     "text": [
      "Duration of algorithm was 1.83sec\n",
      "Warning: n_edges is not exact due to gcastle implementation\n",
      "Duration of algorithm was 0.61sec\n"
     ]
    },
    {
     "name": "stderr",
     "output_type": "stream",
     "text": [
      "2023-11-10 17:33:52,539 - c:\\Users\\JanMarco\\MLProjects\\Masterthesis\\masterthesis\\mthesis\\lib\\site-packages\\castle\\datasets\\simulator.py[line:270] - INFO: Finished synthetic dataset\n"
     ]
    },
    {
     "name": "stdout",
     "output_type": "stream",
     "text": [
      "Duration of algorithm was 0.76sec\n",
      "Warning: n_edges is not exact due to gcastle implementation\n",
      "Duration of algorithm was 0.50sec\n"
     ]
    },
    {
     "name": "stderr",
     "output_type": "stream",
     "text": [
      "2023-11-10 17:33:54,449 - c:\\Users\\JanMarco\\MLProjects\\Masterthesis\\masterthesis\\mthesis\\lib\\site-packages\\castle\\datasets\\simulator.py[line:270] - INFO: Finished synthetic dataset\n"
     ]
    },
    {
     "name": "stdout",
     "output_type": "stream",
     "text": [
      "Duration of algorithm was 0.69sec\n",
      "Warning: n_edges is not exact due to gcastle implementation\n",
      "Duration of algorithm was 0.59sec\n"
     ]
    },
    {
     "name": "stderr",
     "output_type": "stream",
     "text": [
      "2023-11-10 17:33:56,410 - c:\\Users\\JanMarco\\MLProjects\\Masterthesis\\masterthesis\\mthesis\\lib\\site-packages\\castle\\datasets\\simulator.py[line:270] - INFO: Finished synthetic dataset\n"
     ]
    },
    {
     "name": "stdout",
     "output_type": "stream",
     "text": [
      "Duration of algorithm was 0.66sec\n",
      "Warning: n_edges is not exact due to gcastle implementation\n",
      "Duration of algorithm was 0.82sec\n"
     ]
    },
    {
     "name": "stderr",
     "output_type": "stream",
     "text": [
      "2023-11-10 17:33:59,238 - c:\\Users\\JanMarco\\MLProjects\\Masterthesis\\masterthesis\\mthesis\\lib\\site-packages\\castle\\datasets\\simulator.py[line:270] - INFO: Finished synthetic dataset\n"
     ]
    },
    {
     "name": "stdout",
     "output_type": "stream",
     "text": [
      "Duration of algorithm was 0.95sec\n",
      "Warning: n_edges is not exact due to gcastle implementation\n",
      "Duration of algorithm was 0.86sec\n"
     ]
    },
    {
     "name": "stderr",
     "output_type": "stream",
     "text": [
      "2023-11-10 17:34:01,935 - c:\\Users\\JanMarco\\MLProjects\\Masterthesis\\masterthesis\\mthesis\\lib\\site-packages\\castle\\datasets\\simulator.py[line:270] - INFO: Finished synthetic dataset\n"
     ]
    },
    {
     "name": "stdout",
     "output_type": "stream",
     "text": [
      "Duration of algorithm was 0.91sec\n",
      "Warning: n_edges is not exact due to gcastle implementation\n",
      "Duration of algorithm was 0.83sec\n"
     ]
    },
    {
     "name": "stderr",
     "output_type": "stream",
     "text": [
      "2023-11-10 17:34:04,585 - c:\\Users\\JanMarco\\MLProjects\\Masterthesis\\masterthesis\\mthesis\\lib\\site-packages\\castle\\datasets\\simulator.py[line:270] - INFO: Finished synthetic dataset\n"
     ]
    },
    {
     "name": "stdout",
     "output_type": "stream",
     "text": [
      "Duration of algorithm was 0.88sec\n",
      "Warning: n_edges is not exact due to gcastle implementation\n",
      "Duration of algorithm was 0.78sec\n"
     ]
    },
    {
     "name": "stderr",
     "output_type": "stream",
     "text": [
      "2023-11-10 17:34:07,089 - c:\\Users\\JanMarco\\MLProjects\\Masterthesis\\masterthesis\\mthesis\\lib\\site-packages\\castle\\datasets\\simulator.py[line:270] - INFO: Finished synthetic dataset\n"
     ]
    },
    {
     "name": "stdout",
     "output_type": "stream",
     "text": [
      "Duration of algorithm was 0.88sec\n",
      "Warning: n_edges is not exact due to gcastle implementation\n",
      "Duration of algorithm was 0.81sec\n"
     ]
    },
    {
     "name": "stderr",
     "output_type": "stream",
     "text": [
      "2023-11-10 17:34:10,163 - c:\\Users\\JanMarco\\MLProjects\\Masterthesis\\masterthesis\\mthesis\\lib\\site-packages\\castle\\datasets\\simulator.py[line:270] - INFO: Finished synthetic dataset\n"
     ]
    },
    {
     "name": "stdout",
     "output_type": "stream",
     "text": [
      "Duration of algorithm was 1.13sec\n",
      "Warning: n_edges is not exact due to gcastle implementation\n",
      "Duration of algorithm was 0.89sec\n"
     ]
    },
    {
     "name": "stderr",
     "output_type": "stream",
     "text": [
      "2023-11-10 17:34:12,877 - c:\\Users\\JanMarco\\MLProjects\\Masterthesis\\masterthesis\\mthesis\\lib\\site-packages\\castle\\datasets\\simulator.py[line:270] - INFO: Finished synthetic dataset\n"
     ]
    },
    {
     "name": "stdout",
     "output_type": "stream",
     "text": [
      "Duration of algorithm was 0.88sec\n",
      "Warning: n_edges is not exact due to gcastle implementation\n",
      "Duration of algorithm was 1.17sec\n"
     ]
    },
    {
     "name": "stderr",
     "output_type": "stream",
     "text": [
      "2023-11-10 17:34:16,839 - c:\\Users\\JanMarco\\MLProjects\\Masterthesis\\masterthesis\\mthesis\\lib\\site-packages\\castle\\datasets\\simulator.py[line:270] - INFO: Finished synthetic dataset\n"
     ]
    },
    {
     "name": "stdout",
     "output_type": "stream",
     "text": [
      "Duration of algorithm was 1.36sec\n",
      "Warning: n_edges is not exact due to gcastle implementation\n",
      "Duration of algorithm was 1.15sec\n"
     ]
    },
    {
     "name": "stderr",
     "output_type": "stream",
     "text": [
      "2023-11-10 17:34:21,012 - c:\\Users\\JanMarco\\MLProjects\\Masterthesis\\masterthesis\\mthesis\\lib\\site-packages\\castle\\datasets\\simulator.py[line:270] - INFO: Finished synthetic dataset\n"
     ]
    },
    {
     "name": "stdout",
     "output_type": "stream",
     "text": [
      "Duration of algorithm was 1.44sec\n",
      "Warning: n_edges is not exact due to gcastle implementation\n",
      "Duration of algorithm was 0.92sec\n"
     ]
    },
    {
     "name": "stderr",
     "output_type": "stream",
     "text": [
      "2023-11-10 17:34:24,426 - c:\\Users\\JanMarco\\MLProjects\\Masterthesis\\masterthesis\\mthesis\\lib\\site-packages\\castle\\datasets\\simulator.py[line:270] - INFO: Finished synthetic dataset\n"
     ]
    },
    {
     "name": "stdout",
     "output_type": "stream",
     "text": [
      "Duration of algorithm was 1.21sec\n",
      "Warning: n_edges is not exact due to gcastle implementation\n",
      "Duration of algorithm was 1.00sec\n"
     ]
    },
    {
     "name": "stderr",
     "output_type": "stream",
     "text": [
      "2023-11-10 17:34:28,246 - c:\\Users\\JanMarco\\MLProjects\\Masterthesis\\masterthesis\\mthesis\\lib\\site-packages\\castle\\datasets\\simulator.py[line:270] - INFO: Finished synthetic dataset\n"
     ]
    },
    {
     "name": "stdout",
     "output_type": "stream",
     "text": [
      "Duration of algorithm was 1.36sec\n",
      "Warning: n_edges is not exact due to gcastle implementation\n",
      "Duration of algorithm was 1.56sec\n"
     ]
    },
    {
     "name": "stderr",
     "output_type": "stream",
     "text": [
      "2023-11-10 17:34:33,475 - c:\\Users\\JanMarco\\MLProjects\\Masterthesis\\masterthesis\\mthesis\\lib\\site-packages\\castle\\datasets\\simulator.py[line:270] - INFO: Finished synthetic dataset\n"
     ]
    },
    {
     "name": "stdout",
     "output_type": "stream",
     "text": [
      "Duration of algorithm was 1.80sec\n",
      "Warning: n_edges is not exact due to gcastle implementation\n",
      "Duration of algorithm was 1.25sec\n"
     ]
    },
    {
     "name": "stderr",
     "output_type": "stream",
     "text": [
      "2023-11-10 17:34:37,643 - c:\\Users\\JanMarco\\MLProjects\\Masterthesis\\masterthesis\\mthesis\\lib\\site-packages\\castle\\datasets\\simulator.py[line:270] - INFO: Finished synthetic dataset\n"
     ]
    },
    {
     "name": "stdout",
     "output_type": "stream",
     "text": [
      "Duration of algorithm was 1.41sec\n",
      "Warning: n_edges is not exact due to gcastle implementation\n",
      "Duration of algorithm was 0.61sec\n"
     ]
    },
    {
     "name": "stderr",
     "output_type": "stream",
     "text": [
      "2023-11-10 17:34:39,705 - c:\\Users\\JanMarco\\MLProjects\\Masterthesis\\masterthesis\\mthesis\\lib\\site-packages\\castle\\datasets\\simulator.py[line:270] - INFO: Finished synthetic dataset\n"
     ]
    },
    {
     "name": "stdout",
     "output_type": "stream",
     "text": [
      "Duration of algorithm was 0.70sec\n",
      "Warning: n_edges is not exact due to gcastle implementation\n",
      "Duration of algorithm was 0.49sec\n"
     ]
    },
    {
     "name": "stderr",
     "output_type": "stream",
     "text": [
      "2023-11-10 17:34:41,455 - c:\\Users\\JanMarco\\MLProjects\\Masterthesis\\masterthesis\\mthesis\\lib\\site-packages\\castle\\datasets\\simulator.py[line:270] - INFO: Finished synthetic dataset\n"
     ]
    },
    {
     "name": "stdout",
     "output_type": "stream",
     "text": [
      "Duration of algorithm was 0.60sec\n",
      "Warning: n_edges is not exact due to gcastle implementation\n",
      "Duration of algorithm was 0.55sec\n"
     ]
    },
    {
     "name": "stderr",
     "output_type": "stream",
     "text": [
      "2023-11-10 17:34:43,298 - c:\\Users\\JanMarco\\MLProjects\\Masterthesis\\masterthesis\\mthesis\\lib\\site-packages\\castle\\datasets\\simulator.py[line:270] - INFO: Finished synthetic dataset\n"
     ]
    },
    {
     "name": "stdout",
     "output_type": "stream",
     "text": [
      "Duration of algorithm was 0.62sec\n",
      "Warning: n_edges is not exact due to gcastle implementation\n",
      "Duration of algorithm was 0.69sec\n"
     ]
    },
    {
     "name": "stderr",
     "output_type": "stream",
     "text": [
      "2023-11-10 17:34:45,839 - c:\\Users\\JanMarco\\MLProjects\\Masterthesis\\masterthesis\\mthesis\\lib\\site-packages\\castle\\datasets\\simulator.py[line:270] - INFO: Finished synthetic dataset\n"
     ]
    },
    {
     "name": "stdout",
     "output_type": "stream",
     "text": [
      "Duration of algorithm was 0.90sec\n",
      "Warning: n_edges is not exact due to gcastle implementation\n",
      "Duration of algorithm was 0.68sec\n"
     ]
    },
    {
     "name": "stderr",
     "output_type": "stream",
     "text": [
      "2023-11-10 17:34:48,576 - c:\\Users\\JanMarco\\MLProjects\\Masterthesis\\masterthesis\\mthesis\\lib\\site-packages\\castle\\datasets\\simulator.py[line:270] - INFO: Finished synthetic dataset\n"
     ]
    },
    {
     "name": "stdout",
     "output_type": "stream",
     "text": [
      "Duration of algorithm was 1.03sec\n",
      "Warning: n_edges is not exact due to gcastle implementation\n",
      "Duration of algorithm was 0.81sec\n"
     ]
    },
    {
     "name": "stderr",
     "output_type": "stream",
     "text": [
      "2023-11-10 17:34:51,202 - c:\\Users\\JanMarco\\MLProjects\\Masterthesis\\masterthesis\\mthesis\\lib\\site-packages\\castle\\datasets\\simulator.py[line:270] - INFO: Finished synthetic dataset\n"
     ]
    },
    {
     "name": "stdout",
     "output_type": "stream",
     "text": [
      "Duration of algorithm was 0.88sec\n",
      "Warning: n_edges is not exact due to gcastle implementation\n",
      "Duration of algorithm was 0.71sec\n"
     ]
    },
    {
     "name": "stderr",
     "output_type": "stream",
     "text": [
      "2023-11-10 17:34:53,846 - c:\\Users\\JanMarco\\MLProjects\\Masterthesis\\masterthesis\\mthesis\\lib\\site-packages\\castle\\datasets\\simulator.py[line:270] - INFO: Finished synthetic dataset\n"
     ]
    },
    {
     "name": "stdout",
     "output_type": "stream",
     "text": [
      "Duration of algorithm was 0.95sec\n",
      "Warning: n_edges is not exact due to gcastle implementation\n",
      "Duration of algorithm was 0.80sec\n"
     ]
    },
    {
     "name": "stderr",
     "output_type": "stream",
     "text": [
      "2023-11-10 17:34:56,571 - c:\\Users\\JanMarco\\MLProjects\\Masterthesis\\masterthesis\\mthesis\\lib\\site-packages\\castle\\datasets\\simulator.py[line:270] - INFO: Finished synthetic dataset\n"
     ]
    },
    {
     "name": "stdout",
     "output_type": "stream",
     "text": [
      "Duration of algorithm was 0.92sec\n",
      "Warning: n_edges is not exact due to gcastle implementation\n",
      "Duration of algorithm was 0.54sec\n"
     ]
    },
    {
     "name": "stderr",
     "output_type": "stream",
     "text": [
      "2023-11-10 17:34:58,706 - c:\\Users\\JanMarco\\MLProjects\\Masterthesis\\masterthesis\\mthesis\\lib\\site-packages\\castle\\datasets\\simulator.py[line:270] - INFO: Finished synthetic dataset\n"
     ]
    },
    {
     "name": "stdout",
     "output_type": "stream",
     "text": [
      "Duration of algorithm was 0.77sec\n",
      "Warning: n_edges is not exact due to gcastle implementation\n",
      "Duration of algorithm was 1.24sec\n"
     ]
    },
    {
     "name": "stderr",
     "output_type": "stream",
     "text": [
      "2023-11-10 17:35:02,759 - c:\\Users\\JanMarco\\MLProjects\\Masterthesis\\masterthesis\\mthesis\\lib\\site-packages\\castle\\datasets\\simulator.py[line:270] - INFO: Finished synthetic dataset\n"
     ]
    },
    {
     "name": "stdout",
     "output_type": "stream",
     "text": [
      "Duration of algorithm was 1.29sec\n",
      "Warning: n_edges is not exact due to gcastle implementation\n",
      "Duration of algorithm was 1.38sec\n"
     ]
    },
    {
     "name": "stderr",
     "output_type": "stream",
     "text": [
      "2023-11-10 17:35:07,358 - c:\\Users\\JanMarco\\MLProjects\\Masterthesis\\masterthesis\\mthesis\\lib\\site-packages\\castle\\datasets\\simulator.py[line:270] - INFO: Finished synthetic dataset\n"
     ]
    },
    {
     "name": "stdout",
     "output_type": "stream",
     "text": [
      "Duration of algorithm was 1.50sec\n",
      "Warning: n_edges is not exact due to gcastle implementation\n",
      "Duration of algorithm was 1.07sec\n"
     ]
    },
    {
     "name": "stderr",
     "output_type": "stream",
     "text": [
      "2023-11-10 17:35:11,215 - c:\\Users\\JanMarco\\MLProjects\\Masterthesis\\masterthesis\\mthesis\\lib\\site-packages\\castle\\datasets\\simulator.py[line:270] - INFO: Finished synthetic dataset\n"
     ]
    },
    {
     "name": "stdout",
     "output_type": "stream",
     "text": [
      "Duration of algorithm was 1.35sec\n",
      "Warning: n_edges is not exact due to gcastle implementation\n",
      "Duration of algorithm was 1.56sec\n"
     ]
    },
    {
     "name": "stderr",
     "output_type": "stream",
     "text": [
      "2023-11-10 17:35:17,169 - c:\\Users\\JanMarco\\MLProjects\\Masterthesis\\masterthesis\\mthesis\\lib\\site-packages\\castle\\datasets\\simulator.py[line:270] - INFO: Finished synthetic dataset\n"
     ]
    },
    {
     "name": "stdout",
     "output_type": "stream",
     "text": [
      "Duration of algorithm was 2.13sec\n",
      "Warning: n_edges is not exact due to gcastle implementation\n",
      "Duration of algorithm was 1.53sec\n"
     ]
    },
    {
     "name": "stderr",
     "output_type": "stream",
     "text": [
      "2023-11-10 17:35:22,826 - c:\\Users\\JanMarco\\MLProjects\\Masterthesis\\masterthesis\\mthesis\\lib\\site-packages\\castle\\datasets\\simulator.py[line:270] - INFO: Finished synthetic dataset\n"
     ]
    },
    {
     "name": "stdout",
     "output_type": "stream",
     "text": [
      "Duration of algorithm was 2.03sec\n",
      "Warning: n_edges is not exact due to gcastle implementation\n",
      "Duration of algorithm was 1.35sec\n"
     ]
    },
    {
     "name": "stderr",
     "output_type": "stream",
     "text": [
      "2023-11-10 17:35:28,019 - c:\\Users\\JanMarco\\MLProjects\\Masterthesis\\masterthesis\\mthesis\\lib\\site-packages\\castle\\datasets\\simulator.py[line:270] - INFO: Finished synthetic dataset\n"
     ]
    },
    {
     "name": "stdout",
     "output_type": "stream",
     "text": [
      "Duration of algorithm was 1.87sec\n",
      "Warning: n_edges is not exact due to gcastle implementation\n",
      "Duration of algorithm was 0.51sec\n"
     ]
    },
    {
     "name": "stderr",
     "output_type": "stream",
     "text": [
      "2023-11-10 17:35:30,014 - c:\\Users\\JanMarco\\MLProjects\\Masterthesis\\masterthesis\\mthesis\\lib\\site-packages\\castle\\datasets\\simulator.py[line:270] - INFO: Finished synthetic dataset\n"
     ]
    },
    {
     "name": "stdout",
     "output_type": "stream",
     "text": [
      "Duration of algorithm was 0.72sec\n",
      "Warning: n_edges is not exact due to gcastle implementation\n",
      "Duration of algorithm was 0.49sec\n"
     ]
    },
    {
     "name": "stderr",
     "output_type": "stream",
     "text": [
      "2023-11-10 17:35:31,859 - c:\\Users\\JanMarco\\MLProjects\\Masterthesis\\masterthesis\\mthesis\\lib\\site-packages\\castle\\datasets\\simulator.py[line:270] - INFO: Finished synthetic dataset\n"
     ]
    },
    {
     "name": "stdout",
     "output_type": "stream",
     "text": [
      "Duration of algorithm was 0.65sec\n",
      "Warning: n_edges is not exact due to gcastle implementation\n",
      "Duration of algorithm was 0.61sec\n"
     ]
    },
    {
     "name": "stderr",
     "output_type": "stream",
     "text": [
      "2023-11-10 17:35:33,902 - c:\\Users\\JanMarco\\MLProjects\\Masterthesis\\masterthesis\\mthesis\\lib\\site-packages\\castle\\datasets\\simulator.py[line:270] - INFO: Finished synthetic dataset\n"
     ]
    },
    {
     "name": "stdout",
     "output_type": "stream",
     "text": [
      "Duration of algorithm was 0.69sec\n",
      "Warning: n_edges is not exact due to gcastle implementation\n",
      "Duration of algorithm was 0.71sec\n"
     ]
    },
    {
     "name": "stderr",
     "output_type": "stream",
     "text": [
      "2023-11-10 17:35:36,617 - c:\\Users\\JanMarco\\MLProjects\\Masterthesis\\masterthesis\\mthesis\\lib\\site-packages\\castle\\datasets\\simulator.py[line:270] - INFO: Finished synthetic dataset\n"
     ]
    },
    {
     "name": "stdout",
     "output_type": "stream",
     "text": [
      "Duration of algorithm was 0.98sec\n",
      "Warning: n_edges is not exact due to gcastle implementation\n",
      "Duration of algorithm was 0.72sec\n"
     ]
    },
    {
     "name": "stderr",
     "output_type": "stream",
     "text": [
      "2023-11-10 17:35:39,504 - c:\\Users\\JanMarco\\MLProjects\\Masterthesis\\masterthesis\\mthesis\\lib\\site-packages\\castle\\datasets\\simulator.py[line:270] - INFO: Finished synthetic dataset\n"
     ]
    },
    {
     "name": "stdout",
     "output_type": "stream",
     "text": [
      "Duration of algorithm was 1.05sec\n",
      "Warning: n_edges is not exact due to gcastle implementation\n",
      "Duration of algorithm was 0.70sec\n"
     ]
    },
    {
     "name": "stderr",
     "output_type": "stream",
     "text": [
      "2023-11-10 17:35:41,904 - c:\\Users\\JanMarco\\MLProjects\\Masterthesis\\masterthesis\\mthesis\\lib\\site-packages\\castle\\datasets\\simulator.py[line:270] - INFO: Finished synthetic dataset\n"
     ]
    },
    {
     "name": "stdout",
     "output_type": "stream",
     "text": [
      "Duration of algorithm was 0.81sec\n",
      "Warning: n_edges is not exact due to gcastle implementation\n",
      "Duration of algorithm was 1.30sec\n"
     ]
    },
    {
     "name": "stderr",
     "output_type": "stream",
     "text": [
      "2023-11-10 17:35:45,118 - c:\\Users\\JanMarco\\MLProjects\\Masterthesis\\masterthesis\\mthesis\\lib\\site-packages\\castle\\datasets\\simulator.py[line:270] - INFO: Finished synthetic dataset\n"
     ]
    },
    {
     "name": "stdout",
     "output_type": "stream",
     "text": [
      "Duration of algorithm was 0.93sec\n",
      "Warning: n_edges is not exact due to gcastle implementation\n",
      "Duration of algorithm was 0.80sec\n"
     ]
    },
    {
     "name": "stderr",
     "output_type": "stream",
     "text": [
      "2023-11-10 17:35:47,930 - c:\\Users\\JanMarco\\MLProjects\\Masterthesis\\masterthesis\\mthesis\\lib\\site-packages\\castle\\datasets\\simulator.py[line:270] - INFO: Finished synthetic dataset\n"
     ]
    },
    {
     "name": "stdout",
     "output_type": "stream",
     "text": [
      "Duration of algorithm was 0.97sec\n",
      "Warning: n_edges is not exact due to gcastle implementation\n",
      "Duration of algorithm was 0.69sec\n"
     ]
    },
    {
     "name": "stderr",
     "output_type": "stream",
     "text": [
      "2023-11-10 17:35:50,127 - c:\\Users\\JanMarco\\MLProjects\\Masterthesis\\masterthesis\\mthesis\\lib\\site-packages\\castle\\datasets\\simulator.py[line:270] - INFO: Finished synthetic dataset\n"
     ]
    },
    {
     "name": "stdout",
     "output_type": "stream",
     "text": [
      "Duration of algorithm was 0.71sec\n",
      "Warning: n_edges is not exact due to gcastle implementation\n",
      "Duration of algorithm was 0.97sec\n"
     ]
    },
    {
     "name": "stderr",
     "output_type": "stream",
     "text": [
      "2023-11-10 17:35:53,139 - c:\\Users\\JanMarco\\MLProjects\\Masterthesis\\masterthesis\\mthesis\\lib\\site-packages\\castle\\datasets\\simulator.py[line:270] - INFO: Finished synthetic dataset\n"
     ]
    },
    {
     "name": "stdout",
     "output_type": "stream",
     "text": [
      "Duration of algorithm was 0.99sec\n",
      "Warning: n_edges is not exact due to gcastle implementation\n",
      "Duration of algorithm was 1.01sec\n"
     ]
    },
    {
     "name": "stderr",
     "output_type": "stream",
     "text": [
      "2023-11-10 17:35:56,575 - c:\\Users\\JanMarco\\MLProjects\\Masterthesis\\masterthesis\\mthesis\\lib\\site-packages\\castle\\datasets\\simulator.py[line:270] - INFO: Finished synthetic dataset\n"
     ]
    },
    {
     "name": "stdout",
     "output_type": "stream",
     "text": [
      "Duration of algorithm was 1.19sec\n",
      "Warning: n_edges is not exact due to gcastle implementation\n",
      "Duration of algorithm was 1.09sec\n"
     ]
    },
    {
     "name": "stderr",
     "output_type": "stream",
     "text": [
      "2023-11-10 17:36:00,861 - c:\\Users\\JanMarco\\MLProjects\\Masterthesis\\masterthesis\\mthesis\\lib\\site-packages\\castle\\datasets\\simulator.py[line:270] - INFO: Finished synthetic dataset\n"
     ]
    },
    {
     "name": "stdout",
     "output_type": "stream",
     "text": [
      "Duration of algorithm was 1.58sec\n",
      "Warning: n_edges is not exact due to gcastle implementation\n",
      "Duration of algorithm was 1.18sec\n"
     ]
    },
    {
     "name": "stderr",
     "output_type": "stream",
     "text": [
      "2023-11-10 17:36:05,086 - c:\\Users\\JanMarco\\MLProjects\\Masterthesis\\masterthesis\\mthesis\\lib\\site-packages\\castle\\datasets\\simulator.py[line:270] - INFO: Finished synthetic dataset\n"
     ]
    },
    {
     "name": "stdout",
     "output_type": "stream",
     "text": [
      "Duration of algorithm was 1.46sec\n",
      "Warning: n_edges is not exact due to gcastle implementation\n",
      "Duration of algorithm was 1.15sec\n"
     ]
    },
    {
     "name": "stderr",
     "output_type": "stream",
     "text": [
      "2023-11-10 17:36:09,720 - c:\\Users\\JanMarco\\MLProjects\\Masterthesis\\masterthesis\\mthesis\\lib\\site-packages\\castle\\datasets\\simulator.py[line:270] - INFO: Finished synthetic dataset\n"
     ]
    },
    {
     "name": "stdout",
     "output_type": "stream",
     "text": [
      "Duration of algorithm was 1.71sec\n",
      "Warning: n_edges is not exact due to gcastle implementation\n",
      "Duration of algorithm was 1.17sec\n"
     ]
    },
    {
     "name": "stderr",
     "output_type": "stream",
     "text": [
      "2023-11-10 17:36:14,673 - c:\\Users\\JanMarco\\MLProjects\\Masterthesis\\masterthesis\\mthesis\\lib\\site-packages\\castle\\datasets\\simulator.py[line:270] - INFO: Finished synthetic dataset\n"
     ]
    },
    {
     "name": "stdout",
     "output_type": "stream",
     "text": [
      "Duration of algorithm was 1.85sec\n",
      "Warning: n_edges is not exact due to gcastle implementation\n",
      "Duration of algorithm was 0.46sec\n"
     ]
    },
    {
     "name": "stderr",
     "output_type": "stream",
     "text": [
      "2023-11-10 17:36:16,526 - c:\\Users\\JanMarco\\MLProjects\\Masterthesis\\masterthesis\\mthesis\\lib\\site-packages\\castle\\datasets\\simulator.py[line:270] - INFO: Finished synthetic dataset\n"
     ]
    },
    {
     "name": "stdout",
     "output_type": "stream",
     "text": [
      "Duration of algorithm was 0.67sec\n",
      "Warning: n_edges is not exact due to gcastle implementation\n",
      "Duration of algorithm was 0.52sec\n"
     ]
    },
    {
     "name": "stderr",
     "output_type": "stream",
     "text": [
      "2023-11-10 17:36:18,469 - c:\\Users\\JanMarco\\MLProjects\\Masterthesis\\masterthesis\\mthesis\\lib\\site-packages\\castle\\datasets\\simulator.py[line:270] - INFO: Finished synthetic dataset\n"
     ]
    },
    {
     "name": "stdout",
     "output_type": "stream",
     "text": [
      "Duration of algorithm was 0.69sec\n",
      "Warning: n_edges is not exact due to gcastle implementation\n",
      "Duration of algorithm was 0.56sec\n"
     ]
    },
    {
     "name": "stderr",
     "output_type": "stream",
     "text": [
      "2023-11-10 17:36:20,645 - c:\\Users\\JanMarco\\MLProjects\\Masterthesis\\masterthesis\\mthesis\\lib\\site-packages\\castle\\datasets\\simulator.py[line:270] - INFO: Finished synthetic dataset\n"
     ]
    },
    {
     "name": "stdout",
     "output_type": "stream",
     "text": [
      "Duration of algorithm was 0.77sec\n",
      "Warning: n_edges is not exact due to gcastle implementation\n",
      "Duration of algorithm was 0.65sec\n"
     ]
    },
    {
     "name": "stderr",
     "output_type": "stream",
     "text": [
      "2023-11-10 17:36:22,857 - c:\\Users\\JanMarco\\MLProjects\\Masterthesis\\masterthesis\\mthesis\\lib\\site-packages\\castle\\datasets\\simulator.py[line:270] - INFO: Finished synthetic dataset\n"
     ]
    },
    {
     "name": "stdout",
     "output_type": "stream",
     "text": [
      "Duration of algorithm was 0.76sec\n",
      "Warning: n_edges is not exact due to gcastle implementation\n",
      "Duration of algorithm was 0.64sec\n"
     ]
    },
    {
     "name": "stderr",
     "output_type": "stream",
     "text": [
      "2023-11-10 17:36:25,340 - c:\\Users\\JanMarco\\MLProjects\\Masterthesis\\masterthesis\\mthesis\\lib\\site-packages\\castle\\datasets\\simulator.py[line:270] - INFO: Finished synthetic dataset\n"
     ]
    },
    {
     "name": "stdout",
     "output_type": "stream",
     "text": [
      "Duration of algorithm was 0.90sec\n",
      "Warning: n_edges is not exact due to gcastle implementation\n",
      "Duration of algorithm was 0.48sec\n"
     ]
    },
    {
     "name": "stderr",
     "output_type": "stream",
     "text": [
      "2023-11-10 17:36:27,232 - c:\\Users\\JanMarco\\MLProjects\\Masterthesis\\masterthesis\\mthesis\\lib\\site-packages\\castle\\datasets\\simulator.py[line:270] - INFO: Finished synthetic dataset\n"
     ]
    },
    {
     "name": "stdout",
     "output_type": "stream",
     "text": [
      "Duration of algorithm was 0.71sec\n",
      "Warning: n_edges is not exact due to gcastle implementation\n",
      "Duration of algorithm was 0.75sec\n"
     ]
    },
    {
     "name": "stderr",
     "output_type": "stream",
     "text": [
      "2023-11-10 17:36:30,063 - c:\\Users\\JanMarco\\MLProjects\\Masterthesis\\masterthesis\\mthesis\\lib\\site-packages\\castle\\datasets\\simulator.py[line:270] - INFO: Finished synthetic dataset\n"
     ]
    },
    {
     "name": "stdout",
     "output_type": "stream",
     "text": [
      "Duration of algorithm was 0.96sec\n",
      "Warning: n_edges is not exact due to gcastle implementation\n",
      "Duration of algorithm was 0.57sec\n"
     ]
    },
    {
     "name": "stderr",
     "output_type": "stream",
     "text": [
      "2023-11-10 17:36:32,748 - c:\\Users\\JanMarco\\MLProjects\\Masterthesis\\masterthesis\\mthesis\\lib\\site-packages\\castle\\datasets\\simulator.py[line:270] - INFO: Finished synthetic dataset\n"
     ]
    },
    {
     "name": "stdout",
     "output_type": "stream",
     "text": [
      "Duration of algorithm was 1.03sec\n",
      "Warning: n_edges is not exact due to gcastle implementation\n",
      "Duration of algorithm was 0.71sec\n"
     ]
    },
    {
     "name": "stderr",
     "output_type": "stream",
     "text": [
      "2023-11-10 17:36:35,654 - c:\\Users\\JanMarco\\MLProjects\\Masterthesis\\masterthesis\\mthesis\\lib\\site-packages\\castle\\datasets\\simulator.py[line:270] - INFO: Finished synthetic dataset\n"
     ]
    },
    {
     "name": "stdout",
     "output_type": "stream",
     "text": [
      "Duration of algorithm was 1.06sec\n",
      "Warning: n_edges is not exact due to gcastle implementation\n",
      "Duration of algorithm was 0.85sec\n"
     ]
    },
    {
     "name": "stderr",
     "output_type": "stream",
     "text": [
      "2023-11-10 17:36:39,247 - c:\\Users\\JanMarco\\MLProjects\\Masterthesis\\masterthesis\\mthesis\\lib\\site-packages\\castle\\datasets\\simulator.py[line:270] - INFO: Finished synthetic dataset\n"
     ]
    },
    {
     "name": "stdout",
     "output_type": "stream",
     "text": [
      "Duration of algorithm was 1.36sec\n",
      "Warning: n_edges is not exact due to gcastle implementation\n",
      "Duration of algorithm was 0.82sec\n"
     ]
    },
    {
     "name": "stderr",
     "output_type": "stream",
     "text": [
      "2023-11-10 17:36:43,062 - c:\\Users\\JanMarco\\MLProjects\\Masterthesis\\masterthesis\\mthesis\\lib\\site-packages\\castle\\datasets\\simulator.py[line:270] - INFO: Finished synthetic dataset\n"
     ]
    },
    {
     "name": "stdout",
     "output_type": "stream",
     "text": [
      "Duration of algorithm was 1.44sec\n",
      "Warning: n_edges is not exact due to gcastle implementation\n",
      "Duration of algorithm was 0.81sec\n"
     ]
    },
    {
     "name": "stderr",
     "output_type": "stream",
     "text": [
      "2023-11-10 17:36:46,250 - c:\\Users\\JanMarco\\MLProjects\\Masterthesis\\masterthesis\\mthesis\\lib\\site-packages\\castle\\datasets\\simulator.py[line:270] - INFO: Finished synthetic dataset\n"
     ]
    },
    {
     "name": "stdout",
     "output_type": "stream",
     "text": [
      "Duration of algorithm was 1.17sec\n",
      "Warning: n_edges is not exact due to gcastle implementation\n",
      "Duration of algorithm was 1.28sec\n"
     ]
    },
    {
     "name": "stderr",
     "output_type": "stream",
     "text": [
      "2023-11-10 17:36:51,538 - c:\\Users\\JanMarco\\MLProjects\\Masterthesis\\masterthesis\\mthesis\\lib\\site-packages\\castle\\datasets\\simulator.py[line:270] - INFO: Finished synthetic dataset\n"
     ]
    },
    {
     "name": "stdout",
     "output_type": "stream",
     "text": [
      "Duration of algorithm was 1.97sec\n",
      "Warning: n_edges is not exact due to gcastle implementation\n",
      "Duration of algorithm was 1.49sec\n"
     ]
    },
    {
     "name": "stderr",
     "output_type": "stream",
     "text": [
      "2023-11-10 17:36:56,883 - c:\\Users\\JanMarco\\MLProjects\\Masterthesis\\masterthesis\\mthesis\\lib\\site-packages\\castle\\datasets\\simulator.py[line:270] - INFO: Finished synthetic dataset\n"
     ]
    },
    {
     "name": "stdout",
     "output_type": "stream",
     "text": [
      "Duration of algorithm was 1.89sec\n",
      "Warning: n_edges is not exact due to gcastle implementation\n",
      "Duration of algorithm was 1.05sec\n",
      "Duration of algorithm was 1.53sec\n"
     ]
    }
   ],
   "source": [
    "# config_path = 'clustercausal\\experiments\\configs\\cluster_pc_1.yaml'\n",
    "# config_path = config_path.replace('\\\\', '/')\n",
    "# experiment = ExperimentRunner(config_path)\n",
    "# experiment.run_gridsearch_experiment()"
   ]
  },
  {
   "cell_type": "markdown",
   "metadata": {},
   "source": [
    "## Evaluating the simulation\n",
    "\n",
    "First load the data. "
   ]
  },
  {
   "cell_type": "code",
   "execution_count": 6,
   "metadata": {},
   "outputs": [],
   "source": [
    "# Can take a longer time depending on the numer of experiments, ca. 5sec for 100 experiments\n",
    "# This loads all experiment folder present in _results\n",
    "data = load_experiment_folder('clustercausal\\experiments\\_results')\n",
    "# If one wants to load only specific simulation folders, put these in a separate folder named e.g. my_experiment and load\n",
    "# data = load_experiment_folder('clustercausal\\experiments\\_results\\my_experiment')\n",
    "# where my_experiment contains the simulations of interest"
   ]
  },
  {
   "cell_type": "markdown",
   "metadata": {},
   "source": [
    "### Data exploration"
   ]
  },
  {
   "cell_type": "code",
   "execution_count": 29,
   "metadata": {},
   "outputs": [
    {
     "data": {
      "text/html": [
       "<div>\n",
       "<style scoped>\n",
       "    .dataframe tbody tr th:only-of-type {\n",
       "        vertical-align: middle;\n",
       "    }\n",
       "\n",
       "    .dataframe tbody tr th {\n",
       "        vertical-align: top;\n",
       "    }\n",
       "\n",
       "    .dataframe thead th {\n",
       "        text-align: right;\n",
       "    }\n",
       "</style>\n",
       "<table border=\"1\" class=\"dataframe\">\n",
       "  <thead>\n",
       "    <tr style=\"text-align: right;\">\n",
       "      <th></th>\n",
       "      <th>base_adj_f1_score</th>\n",
       "      <th>base_adj_false_negative</th>\n",
       "      <th>base_adj_false_positive</th>\n",
       "      <th>base_adj_precision</th>\n",
       "      <th>base_adj_recall</th>\n",
       "      <th>base_adj_true_negative</th>\n",
       "      <th>base_adj_true_positive</th>\n",
       "      <th>base_arrow_f1_score</th>\n",
       "      <th>base_arrow_f1_score_ce</th>\n",
       "      <th>base_arrow_false_negative</th>\n",
       "      <th>base_arrow_false_negative_ce</th>\n",
       "      <th>base_arrow_false_positive</th>\n",
       "      <th>base_arrow_false_positive_ce</th>\n",
       "      <th>base_arrow_precision</th>\n",
       "      <th>base_arrow_precision_ce</th>\n",
       "      <th>base_arrow_recall</th>\n",
       "      <th>base_arrow_recall_ce</th>\n",
       "      <th>base_arrow_true_negative</th>\n",
       "      <th>base_arrow_true_negative_ce</th>\n",
       "      <th>base_arrow_true_positive</th>\n",
       "      <th>base_arrow_true_positive_ce</th>\n",
       "      <th>base_base_shd</th>\n",
       "      <th>base_sid_lower</th>\n",
       "      <th>cluster_adj_f1_score</th>\n",
       "      <th>cluster_adj_false_negative</th>\n",
       "      <th>cluster_adj_false_positive</th>\n",
       "      <th>cluster_adj_precision</th>\n",
       "      <th>cluster_adj_recall</th>\n",
       "      <th>cluster_adj_true_negative</th>\n",
       "      <th>cluster_adj_true_positive</th>\n",
       "      <th>cluster_arrow_f1_score</th>\n",
       "      <th>cluster_arrow_f1_score_ce</th>\n",
       "      <th>cluster_arrow_false_negative</th>\n",
       "      <th>cluster_arrow_false_negative_ce</th>\n",
       "      <th>cluster_arrow_false_positive</th>\n",
       "      <th>cluster_arrow_false_positive_ce</th>\n",
       "      <th>cluster_arrow_precision</th>\n",
       "      <th>cluster_arrow_precision_ce</th>\n",
       "      <th>cluster_arrow_recall</th>\n",
       "      <th>cluster_arrow_recall_ce</th>\n",
       "      <th>cluster_arrow_true_negative</th>\n",
       "      <th>cluster_arrow_true_negative_ce</th>\n",
       "      <th>cluster_arrow_true_positive</th>\n",
       "      <th>cluster_arrow_true_positive_ce</th>\n",
       "      <th>cluster_cluster_shd</th>\n",
       "      <th>cluster_sid_lower</th>\n",
       "      <th>pruned_base_adj_f1_score</th>\n",
       "      <th>pruned_base_adj_false_negative</th>\n",
       "      <th>pruned_base_adj_false_positive</th>\n",
       "      <th>pruned_base_adj_precision</th>\n",
       "      <th>pruned_base_adj_recall</th>\n",
       "      <th>pruned_base_adj_true_negative</th>\n",
       "      <th>pruned_base_adj_true_positive</th>\n",
       "      <th>pruned_base_arrow_f1_score</th>\n",
       "      <th>pruned_base_arrow_f1_score_ce</th>\n",
       "      <th>pruned_base_arrow_false_negative</th>\n",
       "      <th>pruned_base_arrow_false_negative_ce</th>\n",
       "      <th>pruned_base_arrow_false_positive</th>\n",
       "      <th>pruned_base_arrow_false_positive_ce</th>\n",
       "      <th>pruned_base_arrow_precision</th>\n",
       "      <th>pruned_base_arrow_precision_ce</th>\n",
       "      <th>pruned_base_arrow_recall</th>\n",
       "      <th>pruned_base_arrow_recall_ce</th>\n",
       "      <th>pruned_base_arrow_true_negative</th>\n",
       "      <th>pruned_base_arrow_true_negative_ce</th>\n",
       "      <th>pruned_base_arrow_true_positive</th>\n",
       "      <th>pruned_base_arrow_true_positive_ce</th>\n",
       "      <th>pruned_base_pruned_base_shd</th>\n",
       "      <th>pruned_base_sid_lower</th>\n",
       "      <th>Base indep tests</th>\n",
       "      <th>C-PC indep tests</th>\n",
       "      <th>alpha</th>\n",
       "      <th>cluster_connectivity</th>\n",
       "      <th>dag_method</th>\n",
       "      <th>distribution_type</th>\n",
       "      <th>edge_ratios</th>\n",
       "      <th>empty_graph_shd</th>\n",
       "      <th>indep_test</th>\n",
       "      <th>n_clusters</th>\n",
       "      <th>n_edges</th>\n",
       "      <th>n_nodes</th>\n",
       "      <th>noise_scale</th>\n",
       "      <th>sample_size</th>\n",
       "      <th>scm_method</th>\n",
       "      <th>seed</th>\n",
       "      <th>true_sid_lower</th>\n",
       "      <th>true_sid_upper</th>\n",
       "      <th>weight_range</th>\n",
       "      <th>base_total_true</th>\n",
       "      <th>base_total_false</th>\n",
       "      <th>pruned_base_total_true</th>\n",
       "      <th>pruned_base_total_false</th>\n",
       "      <th>cluster_total_true</th>\n",
       "      <th>cluster_total_false</th>\n",
       "    </tr>\n",
       "  </thead>\n",
       "  <tbody>\n",
       "    <tr>\n",
       "      <th>0</th>\n",
       "      <td>0.857143</td>\n",
       "      <td>4.0</td>\n",
       "      <td>1.0</td>\n",
       "      <td>0.937500</td>\n",
       "      <td>0.789474</td>\n",
       "      <td>85.0</td>\n",
       "      <td>15.0</td>\n",
       "      <td>0.242424</td>\n",
       "      <td>0.285714</td>\n",
       "      <td>15.0</td>\n",
       "      <td>11.0</td>\n",
       "      <td>10.0</td>\n",
       "      <td>9.0</td>\n",
       "      <td>0.285714</td>\n",
       "      <td>0.307692</td>\n",
       "      <td>0.210526</td>\n",
       "      <td>0.266667</td>\n",
       "      <td>196.0</td>\n",
       "      <td>201.0</td>\n",
       "      <td>4.0</td>\n",
       "      <td>4.0</td>\n",
       "      <td>14.0</td>\n",
       "      <td>NaN</td>\n",
       "      <td>0.857143</td>\n",
       "      <td>4.0</td>\n",
       "      <td>1.0</td>\n",
       "      <td>0.937500</td>\n",
       "      <td>0.789474</td>\n",
       "      <td>85.0</td>\n",
       "      <td>15.0</td>\n",
       "      <td>0.242424</td>\n",
       "      <td>0.285714</td>\n",
       "      <td>15.0</td>\n",
       "      <td>11.0</td>\n",
       "      <td>10.0</td>\n",
       "      <td>9.0</td>\n",
       "      <td>0.285714</td>\n",
       "      <td>0.307692</td>\n",
       "      <td>0.210526</td>\n",
       "      <td>0.266667</td>\n",
       "      <td>196.0</td>\n",
       "      <td>201.0</td>\n",
       "      <td>4.0</td>\n",
       "      <td>4.0</td>\n",
       "      <td>14.0</td>\n",
       "      <td>NaN</td>\n",
       "      <td>0.857143</td>\n",
       "      <td>4.0</td>\n",
       "      <td>1.0</td>\n",
       "      <td>0.937500</td>\n",
       "      <td>0.789474</td>\n",
       "      <td>85.0</td>\n",
       "      <td>15.0</td>\n",
       "      <td>0.242424</td>\n",
       "      <td>0.285714</td>\n",
       "      <td>15.0</td>\n",
       "      <td>11.0</td>\n",
       "      <td>10.0</td>\n",
       "      <td>9.0</td>\n",
       "      <td>0.285714</td>\n",
       "      <td>0.307692</td>\n",
       "      <td>0.210526</td>\n",
       "      <td>0.266667</td>\n",
       "      <td>196.0</td>\n",
       "      <td>201.0</td>\n",
       "      <td>4.0</td>\n",
       "      <td>4.0</td>\n",
       "      <td>14.0</td>\n",
       "      <td>NaN</td>\n",
       "      <td>497.0</td>\n",
       "      <td>497.0</td>\n",
       "      <td>0.01</td>\n",
       "      <td>NaN</td>\n",
       "      <td>erdos_renyi</td>\n",
       "      <td>exp</td>\n",
       "      <td>[0.18, nan, nan]</td>\n",
       "      <td>19.0</td>\n",
       "      <td>fisherz</td>\n",
       "      <td>1.0</td>\n",
       "      <td>15.0</td>\n",
       "      <td>15.0</td>\n",
       "      <td>1.0</td>\n",
       "      <td>1000.0</td>\n",
       "      <td>linear</td>\n",
       "      <td>None</td>\n",
       "      <td>NaN</td>\n",
       "      <td>NaN</td>\n",
       "      <td>(-1, 2)</td>\n",
       "      <td>100.0</td>\n",
       "      <td>5.0</td>\n",
       "      <td>100.0</td>\n",
       "      <td>5.0</td>\n",
       "      <td>100.0</td>\n",
       "      <td>5.0</td>\n",
       "    </tr>\n",
       "    <tr>\n",
       "      <th>1</th>\n",
       "      <td>1.000000</td>\n",
       "      <td>0.0</td>\n",
       "      <td>0.0</td>\n",
       "      <td>1.000000</td>\n",
       "      <td>1.000000</td>\n",
       "      <td>91.0</td>\n",
       "      <td>14.0</td>\n",
       "      <td>0.750000</td>\n",
       "      <td>0.750000</td>\n",
       "      <td>5.0</td>\n",
       "      <td>5.0</td>\n",
       "      <td>1.0</td>\n",
       "      <td>1.0</td>\n",
       "      <td>0.900000</td>\n",
       "      <td>0.900000</td>\n",
       "      <td>0.642857</td>\n",
       "      <td>0.642857</td>\n",
       "      <td>210.0</td>\n",
       "      <td>210.0</td>\n",
       "      <td>9.0</td>\n",
       "      <td>9.0</td>\n",
       "      <td>1.0</td>\n",
       "      <td>NaN</td>\n",
       "      <td>1.000000</td>\n",
       "      <td>0.0</td>\n",
       "      <td>0.0</td>\n",
       "      <td>1.000000</td>\n",
       "      <td>1.000000</td>\n",
       "      <td>91.0</td>\n",
       "      <td>14.0</td>\n",
       "      <td>0.750000</td>\n",
       "      <td>0.750000</td>\n",
       "      <td>5.0</td>\n",
       "      <td>5.0</td>\n",
       "      <td>1.0</td>\n",
       "      <td>1.0</td>\n",
       "      <td>0.900000</td>\n",
       "      <td>0.900000</td>\n",
       "      <td>0.642857</td>\n",
       "      <td>0.642857</td>\n",
       "      <td>210.0</td>\n",
       "      <td>210.0</td>\n",
       "      <td>9.0</td>\n",
       "      <td>9.0</td>\n",
       "      <td>1.0</td>\n",
       "      <td>NaN</td>\n",
       "      <td>1.000000</td>\n",
       "      <td>0.0</td>\n",
       "      <td>0.0</td>\n",
       "      <td>1.000000</td>\n",
       "      <td>1.000000</td>\n",
       "      <td>91.0</td>\n",
       "      <td>14.0</td>\n",
       "      <td>0.750000</td>\n",
       "      <td>0.750000</td>\n",
       "      <td>5.0</td>\n",
       "      <td>5.0</td>\n",
       "      <td>1.0</td>\n",
       "      <td>1.0</td>\n",
       "      <td>0.900000</td>\n",
       "      <td>0.900000</td>\n",
       "      <td>0.642857</td>\n",
       "      <td>0.642857</td>\n",
       "      <td>210.0</td>\n",
       "      <td>210.0</td>\n",
       "      <td>9.0</td>\n",
       "      <td>9.0</td>\n",
       "      <td>1.0</td>\n",
       "      <td>NaN</td>\n",
       "      <td>993.0</td>\n",
       "      <td>993.0</td>\n",
       "      <td>0.05</td>\n",
       "      <td>NaN</td>\n",
       "      <td>erdos_renyi</td>\n",
       "      <td>exp</td>\n",
       "      <td>[0.13, nan, nan]</td>\n",
       "      <td>14.0</td>\n",
       "      <td>fisherz</td>\n",
       "      <td>1.0</td>\n",
       "      <td>15.0</td>\n",
       "      <td>15.0</td>\n",
       "      <td>1.0</td>\n",
       "      <td>1000.0</td>\n",
       "      <td>linear</td>\n",
       "      <td>None</td>\n",
       "      <td>NaN</td>\n",
       "      <td>NaN</td>\n",
       "      <td>(-1, 2)</td>\n",
       "      <td>105.0</td>\n",
       "      <td>0.0</td>\n",
       "      <td>105.0</td>\n",
       "      <td>0.0</td>\n",
       "      <td>105.0</td>\n",
       "      <td>0.0</td>\n",
       "    </tr>\n",
       "    <tr>\n",
       "      <th>2</th>\n",
       "      <td>0.937500</td>\n",
       "      <td>0.0</td>\n",
       "      <td>2.0</td>\n",
       "      <td>0.882353</td>\n",
       "      <td>1.000000</td>\n",
       "      <td>88.0</td>\n",
       "      <td>15.0</td>\n",
       "      <td>0.620690</td>\n",
       "      <td>0.642857</td>\n",
       "      <td>6.0</td>\n",
       "      <td>6.0</td>\n",
       "      <td>5.0</td>\n",
       "      <td>4.0</td>\n",
       "      <td>0.642857</td>\n",
       "      <td>0.692308</td>\n",
       "      <td>0.600000</td>\n",
       "      <td>0.600000</td>\n",
       "      <td>205.0</td>\n",
       "      <td>206.0</td>\n",
       "      <td>9.0</td>\n",
       "      <td>9.0</td>\n",
       "      <td>6.0</td>\n",
       "      <td>NaN</td>\n",
       "      <td>0.937500</td>\n",
       "      <td>0.0</td>\n",
       "      <td>2.0</td>\n",
       "      <td>0.882353</td>\n",
       "      <td>1.000000</td>\n",
       "      <td>88.0</td>\n",
       "      <td>15.0</td>\n",
       "      <td>0.620690</td>\n",
       "      <td>0.642857</td>\n",
       "      <td>6.0</td>\n",
       "      <td>6.0</td>\n",
       "      <td>5.0</td>\n",
       "      <td>4.0</td>\n",
       "      <td>0.642857</td>\n",
       "      <td>0.692308</td>\n",
       "      <td>0.600000</td>\n",
       "      <td>0.600000</td>\n",
       "      <td>205.0</td>\n",
       "      <td>206.0</td>\n",
       "      <td>9.0</td>\n",
       "      <td>9.0</td>\n",
       "      <td>6.0</td>\n",
       "      <td>NaN</td>\n",
       "      <td>0.937500</td>\n",
       "      <td>0.0</td>\n",
       "      <td>2.0</td>\n",
       "      <td>0.882353</td>\n",
       "      <td>1.000000</td>\n",
       "      <td>88.0</td>\n",
       "      <td>15.0</td>\n",
       "      <td>0.620690</td>\n",
       "      <td>0.642857</td>\n",
       "      <td>6.0</td>\n",
       "      <td>6.0</td>\n",
       "      <td>5.0</td>\n",
       "      <td>4.0</td>\n",
       "      <td>0.642857</td>\n",
       "      <td>0.692308</td>\n",
       "      <td>0.600000</td>\n",
       "      <td>0.600000</td>\n",
       "      <td>205.0</td>\n",
       "      <td>206.0</td>\n",
       "      <td>9.0</td>\n",
       "      <td>9.0</td>\n",
       "      <td>6.0</td>\n",
       "      <td>NaN</td>\n",
       "      <td>894.0</td>\n",
       "      <td>894.0</td>\n",
       "      <td>0.10</td>\n",
       "      <td>NaN</td>\n",
       "      <td>erdos_renyi</td>\n",
       "      <td>exp</td>\n",
       "      <td>[0.14, nan, nan]</td>\n",
       "      <td>15.0</td>\n",
       "      <td>fisherz</td>\n",
       "      <td>1.0</td>\n",
       "      <td>15.0</td>\n",
       "      <td>15.0</td>\n",
       "      <td>1.0</td>\n",
       "      <td>1000.0</td>\n",
       "      <td>linear</td>\n",
       "      <td>None</td>\n",
       "      <td>NaN</td>\n",
       "      <td>NaN</td>\n",
       "      <td>(-1, 2)</td>\n",
       "      <td>103.0</td>\n",
       "      <td>2.0</td>\n",
       "      <td>103.0</td>\n",
       "      <td>2.0</td>\n",
       "      <td>103.0</td>\n",
       "      <td>2.0</td>\n",
       "    </tr>\n",
       "    <tr>\n",
       "      <th>3</th>\n",
       "      <td>0.451613</td>\n",
       "      <td>0.0</td>\n",
       "      <td>17.0</td>\n",
       "      <td>0.291667</td>\n",
       "      <td>1.000000</td>\n",
       "      <td>81.0</td>\n",
       "      <td>7.0</td>\n",
       "      <td>0.129032</td>\n",
       "      <td>0.285714</td>\n",
       "      <td>5.0</td>\n",
       "      <td>5.0</td>\n",
       "      <td>22.0</td>\n",
       "      <td>5.0</td>\n",
       "      <td>0.083333</td>\n",
       "      <td>0.285714</td>\n",
       "      <td>0.285714</td>\n",
       "      <td>0.285714</td>\n",
       "      <td>196.0</td>\n",
       "      <td>213.0</td>\n",
       "      <td>2.0</td>\n",
       "      <td>2.0</td>\n",
       "      <td>22.0</td>\n",
       "      <td>NaN</td>\n",
       "      <td>0.451613</td>\n",
       "      <td>0.0</td>\n",
       "      <td>17.0</td>\n",
       "      <td>0.291667</td>\n",
       "      <td>1.000000</td>\n",
       "      <td>81.0</td>\n",
       "      <td>7.0</td>\n",
       "      <td>0.129032</td>\n",
       "      <td>0.285714</td>\n",
       "      <td>5.0</td>\n",
       "      <td>5.0</td>\n",
       "      <td>22.0</td>\n",
       "      <td>5.0</td>\n",
       "      <td>0.083333</td>\n",
       "      <td>0.285714</td>\n",
       "      <td>0.285714</td>\n",
       "      <td>0.285714</td>\n",
       "      <td>196.0</td>\n",
       "      <td>213.0</td>\n",
       "      <td>2.0</td>\n",
       "      <td>2.0</td>\n",
       "      <td>22.0</td>\n",
       "      <td>NaN</td>\n",
       "      <td>0.451613</td>\n",
       "      <td>0.0</td>\n",
       "      <td>17.0</td>\n",
       "      <td>0.291667</td>\n",
       "      <td>1.000000</td>\n",
       "      <td>81.0</td>\n",
       "      <td>7.0</td>\n",
       "      <td>0.129032</td>\n",
       "      <td>0.285714</td>\n",
       "      <td>5.0</td>\n",
       "      <td>5.0</td>\n",
       "      <td>22.0</td>\n",
       "      <td>5.0</td>\n",
       "      <td>0.083333</td>\n",
       "      <td>0.285714</td>\n",
       "      <td>0.285714</td>\n",
       "      <td>0.285714</td>\n",
       "      <td>196.0</td>\n",
       "      <td>213.0</td>\n",
       "      <td>2.0</td>\n",
       "      <td>2.0</td>\n",
       "      <td>22.0</td>\n",
       "      <td>NaN</td>\n",
       "      <td>1140.0</td>\n",
       "      <td>1140.0</td>\n",
       "      <td>0.25</td>\n",
       "      <td>NaN</td>\n",
       "      <td>erdos_renyi</td>\n",
       "      <td>exp</td>\n",
       "      <td>[0.07, nan, nan]</td>\n",
       "      <td>7.0</td>\n",
       "      <td>fisherz</td>\n",
       "      <td>1.0</td>\n",
       "      <td>15.0</td>\n",
       "      <td>15.0</td>\n",
       "      <td>1.0</td>\n",
       "      <td>1000.0</td>\n",
       "      <td>linear</td>\n",
       "      <td>None</td>\n",
       "      <td>NaN</td>\n",
       "      <td>NaN</td>\n",
       "      <td>(-1, 2)</td>\n",
       "      <td>88.0</td>\n",
       "      <td>17.0</td>\n",
       "      <td>88.0</td>\n",
       "      <td>17.0</td>\n",
       "      <td>88.0</td>\n",
       "      <td>17.0</td>\n",
       "    </tr>\n",
       "    <tr>\n",
       "      <th>4</th>\n",
       "      <td>0.577778</td>\n",
       "      <td>2.0</td>\n",
       "      <td>17.0</td>\n",
       "      <td>0.433333</td>\n",
       "      <td>0.866667</td>\n",
       "      <td>73.0</td>\n",
       "      <td>13.0</td>\n",
       "      <td>0.350000</td>\n",
       "      <td>0.636364</td>\n",
       "      <td>8.0</td>\n",
       "      <td>6.0</td>\n",
       "      <td>18.0</td>\n",
       "      <td>2.0</td>\n",
       "      <td>0.280000</td>\n",
       "      <td>0.777778</td>\n",
       "      <td>0.466667</td>\n",
       "      <td>0.538462</td>\n",
       "      <td>192.0</td>\n",
       "      <td>210.0</td>\n",
       "      <td>7.0</td>\n",
       "      <td>7.0</td>\n",
       "      <td>21.0</td>\n",
       "      <td>NaN</td>\n",
       "      <td>0.577778</td>\n",
       "      <td>2.0</td>\n",
       "      <td>17.0</td>\n",
       "      <td>0.433333</td>\n",
       "      <td>0.866667</td>\n",
       "      <td>73.0</td>\n",
       "      <td>13.0</td>\n",
       "      <td>0.350000</td>\n",
       "      <td>0.636364</td>\n",
       "      <td>8.0</td>\n",
       "      <td>6.0</td>\n",
       "      <td>18.0</td>\n",
       "      <td>2.0</td>\n",
       "      <td>0.280000</td>\n",
       "      <td>0.777778</td>\n",
       "      <td>0.466667</td>\n",
       "      <td>0.538462</td>\n",
       "      <td>192.0</td>\n",
       "      <td>210.0</td>\n",
       "      <td>7.0</td>\n",
       "      <td>7.0</td>\n",
       "      <td>21.0</td>\n",
       "      <td>NaN</td>\n",
       "      <td>0.577778</td>\n",
       "      <td>2.0</td>\n",
       "      <td>17.0</td>\n",
       "      <td>0.433333</td>\n",
       "      <td>0.866667</td>\n",
       "      <td>73.0</td>\n",
       "      <td>13.0</td>\n",
       "      <td>0.350000</td>\n",
       "      <td>0.636364</td>\n",
       "      <td>8.0</td>\n",
       "      <td>6.0</td>\n",
       "      <td>18.0</td>\n",
       "      <td>2.0</td>\n",
       "      <td>0.280000</td>\n",
       "      <td>0.777778</td>\n",
       "      <td>0.466667</td>\n",
       "      <td>0.538462</td>\n",
       "      <td>192.0</td>\n",
       "      <td>210.0</td>\n",
       "      <td>7.0</td>\n",
       "      <td>7.0</td>\n",
       "      <td>21.0</td>\n",
       "      <td>NaN</td>\n",
       "      <td>1755.0</td>\n",
       "      <td>1755.0</td>\n",
       "      <td>0.50</td>\n",
       "      <td>NaN</td>\n",
       "      <td>erdos_renyi</td>\n",
       "      <td>exp</td>\n",
       "      <td>[0.14, nan, nan]</td>\n",
       "      <td>15.0</td>\n",
       "      <td>fisherz</td>\n",
       "      <td>1.0</td>\n",
       "      <td>15.0</td>\n",
       "      <td>15.0</td>\n",
       "      <td>1.0</td>\n",
       "      <td>1000.0</td>\n",
       "      <td>linear</td>\n",
       "      <td>None</td>\n",
       "      <td>NaN</td>\n",
       "      <td>NaN</td>\n",
       "      <td>(-1, 2)</td>\n",
       "      <td>86.0</td>\n",
       "      <td>19.0</td>\n",
       "      <td>86.0</td>\n",
       "      <td>19.0</td>\n",
       "      <td>86.0</td>\n",
       "      <td>19.0</td>\n",
       "    </tr>\n",
       "    <tr>\n",
       "      <th>5</th>\n",
       "      <td>0.900000</td>\n",
       "      <td>1.0</td>\n",
       "      <td>1.0</td>\n",
       "      <td>0.900000</td>\n",
       "      <td>0.900000</td>\n",
       "      <td>94.0</td>\n",
       "      <td>9.0</td>\n",
       "      <td>0.470588</td>\n",
       "      <td>0.533333</td>\n",
       "      <td>6.0</td>\n",
       "      <td>5.0</td>\n",
       "      <td>3.0</td>\n",
       "      <td>2.0</td>\n",
       "      <td>0.571429</td>\n",
       "      <td>0.666667</td>\n",
       "      <td>0.400000</td>\n",
       "      <td>0.444444</td>\n",
       "      <td>212.0</td>\n",
       "      <td>214.0</td>\n",
       "      <td>4.0</td>\n",
       "      <td>4.0</td>\n",
       "      <td>4.0</td>\n",
       "      <td>NaN</td>\n",
       "      <td>0.900000</td>\n",
       "      <td>1.0</td>\n",
       "      <td>1.0</td>\n",
       "      <td>0.900000</td>\n",
       "      <td>0.900000</td>\n",
       "      <td>94.0</td>\n",
       "      <td>9.0</td>\n",
       "      <td>0.470588</td>\n",
       "      <td>0.533333</td>\n",
       "      <td>6.0</td>\n",
       "      <td>5.0</td>\n",
       "      <td>3.0</td>\n",
       "      <td>2.0</td>\n",
       "      <td>0.571429</td>\n",
       "      <td>0.666667</td>\n",
       "      <td>0.400000</td>\n",
       "      <td>0.444444</td>\n",
       "      <td>212.0</td>\n",
       "      <td>214.0</td>\n",
       "      <td>4.0</td>\n",
       "      <td>4.0</td>\n",
       "      <td>4.0</td>\n",
       "      <td>NaN</td>\n",
       "      <td>0.900000</td>\n",
       "      <td>1.0</td>\n",
       "      <td>1.0</td>\n",
       "      <td>0.900000</td>\n",
       "      <td>0.900000</td>\n",
       "      <td>94.0</td>\n",
       "      <td>9.0</td>\n",
       "      <td>0.470588</td>\n",
       "      <td>0.533333</td>\n",
       "      <td>6.0</td>\n",
       "      <td>5.0</td>\n",
       "      <td>3.0</td>\n",
       "      <td>2.0</td>\n",
       "      <td>0.571429</td>\n",
       "      <td>0.666667</td>\n",
       "      <td>0.400000</td>\n",
       "      <td>0.444444</td>\n",
       "      <td>212.0</td>\n",
       "      <td>214.0</td>\n",
       "      <td>4.0</td>\n",
       "      <td>4.0</td>\n",
       "      <td>4.0</td>\n",
       "      <td>NaN</td>\n",
       "      <td>333.0</td>\n",
       "      <td>333.0</td>\n",
       "      <td>0.01</td>\n",
       "      <td>NaN</td>\n",
       "      <td>erdos_renyi</td>\n",
       "      <td>gauss</td>\n",
       "      <td>[0.1, nan, nan]</td>\n",
       "      <td>10.0</td>\n",
       "      <td>fisherz</td>\n",
       "      <td>1.0</td>\n",
       "      <td>15.0</td>\n",
       "      <td>15.0</td>\n",
       "      <td>1.0</td>\n",
       "      <td>1000.0</td>\n",
       "      <td>linear</td>\n",
       "      <td>None</td>\n",
       "      <td>NaN</td>\n",
       "      <td>NaN</td>\n",
       "      <td>(-1, 2)</td>\n",
       "      <td>103.0</td>\n",
       "      <td>2.0</td>\n",
       "      <td>103.0</td>\n",
       "      <td>2.0</td>\n",
       "      <td>103.0</td>\n",
       "      <td>2.0</td>\n",
       "    </tr>\n",
       "    <tr>\n",
       "      <th>6</th>\n",
       "      <td>0.956522</td>\n",
       "      <td>1.0</td>\n",
       "      <td>0.0</td>\n",
       "      <td>1.000000</td>\n",
       "      <td>0.916667</td>\n",
       "      <td>93.0</td>\n",
       "      <td>11.0</td>\n",
       "      <td>0.700000</td>\n",
       "      <td>0.736842</td>\n",
       "      <td>5.0</td>\n",
       "      <td>4.0</td>\n",
       "      <td>1.0</td>\n",
       "      <td>1.0</td>\n",
       "      <td>0.875000</td>\n",
       "      <td>0.875000</td>\n",
       "      <td>0.583333</td>\n",
       "      <td>0.636364</td>\n",
       "      <td>212.0</td>\n",
       "      <td>213.0</td>\n",
       "      <td>7.0</td>\n",
       "      <td>7.0</td>\n",
       "      <td>2.0</td>\n",
       "      <td>NaN</td>\n",
       "      <td>0.956522</td>\n",
       "      <td>1.0</td>\n",
       "      <td>0.0</td>\n",
       "      <td>1.000000</td>\n",
       "      <td>0.916667</td>\n",
       "      <td>93.0</td>\n",
       "      <td>11.0</td>\n",
       "      <td>0.700000</td>\n",
       "      <td>0.736842</td>\n",
       "      <td>5.0</td>\n",
       "      <td>4.0</td>\n",
       "      <td>1.0</td>\n",
       "      <td>1.0</td>\n",
       "      <td>0.875000</td>\n",
       "      <td>0.875000</td>\n",
       "      <td>0.583333</td>\n",
       "      <td>0.636364</td>\n",
       "      <td>212.0</td>\n",
       "      <td>213.0</td>\n",
       "      <td>7.0</td>\n",
       "      <td>7.0</td>\n",
       "      <td>2.0</td>\n",
       "      <td>NaN</td>\n",
       "      <td>0.956522</td>\n",
       "      <td>1.0</td>\n",
       "      <td>0.0</td>\n",
       "      <td>1.000000</td>\n",
       "      <td>0.916667</td>\n",
       "      <td>93.0</td>\n",
       "      <td>11.0</td>\n",
       "      <td>0.700000</td>\n",
       "      <td>0.736842</td>\n",
       "      <td>5.0</td>\n",
       "      <td>4.0</td>\n",
       "      <td>1.0</td>\n",
       "      <td>1.0</td>\n",
       "      <td>0.875000</td>\n",
       "      <td>0.875000</td>\n",
       "      <td>0.583333</td>\n",
       "      <td>0.636364</td>\n",
       "      <td>212.0</td>\n",
       "      <td>213.0</td>\n",
       "      <td>7.0</td>\n",
       "      <td>7.0</td>\n",
       "      <td>2.0</td>\n",
       "      <td>NaN</td>\n",
       "      <td>375.0</td>\n",
       "      <td>375.0</td>\n",
       "      <td>0.05</td>\n",
       "      <td>NaN</td>\n",
       "      <td>erdos_renyi</td>\n",
       "      <td>gauss</td>\n",
       "      <td>[0.11, nan, nan]</td>\n",
       "      <td>12.0</td>\n",
       "      <td>fisherz</td>\n",
       "      <td>1.0</td>\n",
       "      <td>15.0</td>\n",
       "      <td>15.0</td>\n",
       "      <td>1.0</td>\n",
       "      <td>1000.0</td>\n",
       "      <td>linear</td>\n",
       "      <td>None</td>\n",
       "      <td>NaN</td>\n",
       "      <td>NaN</td>\n",
       "      <td>(-1, 2)</td>\n",
       "      <td>104.0</td>\n",
       "      <td>1.0</td>\n",
       "      <td>104.0</td>\n",
       "      <td>1.0</td>\n",
       "      <td>104.0</td>\n",
       "      <td>1.0</td>\n",
       "    </tr>\n",
       "    <tr>\n",
       "      <th>7</th>\n",
       "      <td>0.838710</td>\n",
       "      <td>4.0</td>\n",
       "      <td>1.0</td>\n",
       "      <td>0.928571</td>\n",
       "      <td>0.764706</td>\n",
       "      <td>87.0</td>\n",
       "      <td>13.0</td>\n",
       "      <td>0.615385</td>\n",
       "      <td>0.761905</td>\n",
       "      <td>9.0</td>\n",
       "      <td>5.0</td>\n",
       "      <td>1.0</td>\n",
       "      <td>0.0</td>\n",
       "      <td>0.888889</td>\n",
       "      <td>1.000000</td>\n",
       "      <td>0.470588</td>\n",
       "      <td>0.615385</td>\n",
       "      <td>207.0</td>\n",
       "      <td>212.0</td>\n",
       "      <td>8.0</td>\n",
       "      <td>8.0</td>\n",
       "      <td>5.0</td>\n",
       "      <td>NaN</td>\n",
       "      <td>0.838710</td>\n",
       "      <td>4.0</td>\n",
       "      <td>1.0</td>\n",
       "      <td>0.928571</td>\n",
       "      <td>0.764706</td>\n",
       "      <td>87.0</td>\n",
       "      <td>13.0</td>\n",
       "      <td>0.615385</td>\n",
       "      <td>0.761905</td>\n",
       "      <td>9.0</td>\n",
       "      <td>5.0</td>\n",
       "      <td>1.0</td>\n",
       "      <td>0.0</td>\n",
       "      <td>0.888889</td>\n",
       "      <td>1.000000</td>\n",
       "      <td>0.470588</td>\n",
       "      <td>0.615385</td>\n",
       "      <td>207.0</td>\n",
       "      <td>212.0</td>\n",
       "      <td>8.0</td>\n",
       "      <td>8.0</td>\n",
       "      <td>5.0</td>\n",
       "      <td>NaN</td>\n",
       "      <td>0.838710</td>\n",
       "      <td>4.0</td>\n",
       "      <td>1.0</td>\n",
       "      <td>0.928571</td>\n",
       "      <td>0.764706</td>\n",
       "      <td>87.0</td>\n",
       "      <td>13.0</td>\n",
       "      <td>0.615385</td>\n",
       "      <td>0.761905</td>\n",
       "      <td>9.0</td>\n",
       "      <td>5.0</td>\n",
       "      <td>1.0</td>\n",
       "      <td>0.0</td>\n",
       "      <td>0.888889</td>\n",
       "      <td>1.000000</td>\n",
       "      <td>0.470588</td>\n",
       "      <td>0.615385</td>\n",
       "      <td>207.0</td>\n",
       "      <td>212.0</td>\n",
       "      <td>8.0</td>\n",
       "      <td>8.0</td>\n",
       "      <td>5.0</td>\n",
       "      <td>NaN</td>\n",
       "      <td>1127.0</td>\n",
       "      <td>1127.0</td>\n",
       "      <td>0.10</td>\n",
       "      <td>NaN</td>\n",
       "      <td>erdos_renyi</td>\n",
       "      <td>gauss</td>\n",
       "      <td>[0.16, nan, nan]</td>\n",
       "      <td>17.0</td>\n",
       "      <td>fisherz</td>\n",
       "      <td>1.0</td>\n",
       "      <td>15.0</td>\n",
       "      <td>15.0</td>\n",
       "      <td>1.0</td>\n",
       "      <td>1000.0</td>\n",
       "      <td>linear</td>\n",
       "      <td>None</td>\n",
       "      <td>NaN</td>\n",
       "      <td>NaN</td>\n",
       "      <td>(-1, 2)</td>\n",
       "      <td>100.0</td>\n",
       "      <td>5.0</td>\n",
       "      <td>100.0</td>\n",
       "      <td>5.0</td>\n",
       "      <td>100.0</td>\n",
       "      <td>5.0</td>\n",
       "    </tr>\n",
       "    <tr>\n",
       "      <th>8</th>\n",
       "      <td>0.720000</td>\n",
       "      <td>1.0</td>\n",
       "      <td>6.0</td>\n",
       "      <td>0.600000</td>\n",
       "      <td>0.900000</td>\n",
       "      <td>89.0</td>\n",
       "      <td>9.0</td>\n",
       "      <td>0.416667</td>\n",
       "      <td>0.588235</td>\n",
       "      <td>5.0</td>\n",
       "      <td>4.0</td>\n",
       "      <td>9.0</td>\n",
       "      <td>3.0</td>\n",
       "      <td>0.357143</td>\n",
       "      <td>0.625000</td>\n",
       "      <td>0.500000</td>\n",
       "      <td>0.555556</td>\n",
       "      <td>206.0</td>\n",
       "      <td>213.0</td>\n",
       "      <td>5.0</td>\n",
       "      <td>5.0</td>\n",
       "      <td>10.0</td>\n",
       "      <td>NaN</td>\n",
       "      <td>0.720000</td>\n",
       "      <td>1.0</td>\n",
       "      <td>6.0</td>\n",
       "      <td>0.600000</td>\n",
       "      <td>0.900000</td>\n",
       "      <td>89.0</td>\n",
       "      <td>9.0</td>\n",
       "      <td>0.416667</td>\n",
       "      <td>0.588235</td>\n",
       "      <td>5.0</td>\n",
       "      <td>4.0</td>\n",
       "      <td>9.0</td>\n",
       "      <td>3.0</td>\n",
       "      <td>0.357143</td>\n",
       "      <td>0.625000</td>\n",
       "      <td>0.500000</td>\n",
       "      <td>0.555556</td>\n",
       "      <td>206.0</td>\n",
       "      <td>213.0</td>\n",
       "      <td>5.0</td>\n",
       "      <td>5.0</td>\n",
       "      <td>10.0</td>\n",
       "      <td>NaN</td>\n",
       "      <td>0.720000</td>\n",
       "      <td>1.0</td>\n",
       "      <td>6.0</td>\n",
       "      <td>0.600000</td>\n",
       "      <td>0.900000</td>\n",
       "      <td>89.0</td>\n",
       "      <td>9.0</td>\n",
       "      <td>0.416667</td>\n",
       "      <td>0.588235</td>\n",
       "      <td>5.0</td>\n",
       "      <td>4.0</td>\n",
       "      <td>9.0</td>\n",
       "      <td>3.0</td>\n",
       "      <td>0.357143</td>\n",
       "      <td>0.625000</td>\n",
       "      <td>0.500000</td>\n",
       "      <td>0.555556</td>\n",
       "      <td>206.0</td>\n",
       "      <td>213.0</td>\n",
       "      <td>5.0</td>\n",
       "      <td>5.0</td>\n",
       "      <td>10.0</td>\n",
       "      <td>NaN</td>\n",
       "      <td>593.0</td>\n",
       "      <td>593.0</td>\n",
       "      <td>0.25</td>\n",
       "      <td>NaN</td>\n",
       "      <td>erdos_renyi</td>\n",
       "      <td>gauss</td>\n",
       "      <td>[0.1, nan, nan]</td>\n",
       "      <td>10.0</td>\n",
       "      <td>fisherz</td>\n",
       "      <td>1.0</td>\n",
       "      <td>15.0</td>\n",
       "      <td>15.0</td>\n",
       "      <td>1.0</td>\n",
       "      <td>1000.0</td>\n",
       "      <td>linear</td>\n",
       "      <td>None</td>\n",
       "      <td>NaN</td>\n",
       "      <td>NaN</td>\n",
       "      <td>(-1, 2)</td>\n",
       "      <td>98.0</td>\n",
       "      <td>7.0</td>\n",
       "      <td>98.0</td>\n",
       "      <td>7.0</td>\n",
       "      <td>98.0</td>\n",
       "      <td>7.0</td>\n",
       "    </tr>\n",
       "    <tr>\n",
       "      <th>9</th>\n",
       "      <td>0.536585</td>\n",
       "      <td>0.0</td>\n",
       "      <td>19.0</td>\n",
       "      <td>0.366667</td>\n",
       "      <td>1.000000</td>\n",
       "      <td>75.0</td>\n",
       "      <td>11.0</td>\n",
       "      <td>0.410256</td>\n",
       "      <td>0.761905</td>\n",
       "      <td>3.0</td>\n",
       "      <td>3.0</td>\n",
       "      <td>20.0</td>\n",
       "      <td>2.0</td>\n",
       "      <td>0.285714</td>\n",
       "      <td>0.800000</td>\n",
       "      <td>0.727273</td>\n",
       "      <td>0.727273</td>\n",
       "      <td>194.0</td>\n",
       "      <td>212.0</td>\n",
       "      <td>8.0</td>\n",
       "      <td>8.0</td>\n",
       "      <td>21.0</td>\n",
       "      <td>NaN</td>\n",
       "      <td>0.536585</td>\n",
       "      <td>0.0</td>\n",
       "      <td>19.0</td>\n",
       "      <td>0.366667</td>\n",
       "      <td>1.000000</td>\n",
       "      <td>75.0</td>\n",
       "      <td>11.0</td>\n",
       "      <td>0.410256</td>\n",
       "      <td>0.761905</td>\n",
       "      <td>3.0</td>\n",
       "      <td>3.0</td>\n",
       "      <td>20.0</td>\n",
       "      <td>2.0</td>\n",
       "      <td>0.285714</td>\n",
       "      <td>0.800000</td>\n",
       "      <td>0.727273</td>\n",
       "      <td>0.727273</td>\n",
       "      <td>194.0</td>\n",
       "      <td>212.0</td>\n",
       "      <td>8.0</td>\n",
       "      <td>8.0</td>\n",
       "      <td>21.0</td>\n",
       "      <td>NaN</td>\n",
       "      <td>0.536585</td>\n",
       "      <td>0.0</td>\n",
       "      <td>19.0</td>\n",
       "      <td>0.366667</td>\n",
       "      <td>1.000000</td>\n",
       "      <td>75.0</td>\n",
       "      <td>11.0</td>\n",
       "      <td>0.410256</td>\n",
       "      <td>0.761905</td>\n",
       "      <td>3.0</td>\n",
       "      <td>3.0</td>\n",
       "      <td>20.0</td>\n",
       "      <td>2.0</td>\n",
       "      <td>0.285714</td>\n",
       "      <td>0.800000</td>\n",
       "      <td>0.727273</td>\n",
       "      <td>0.727273</td>\n",
       "      <td>194.0</td>\n",
       "      <td>212.0</td>\n",
       "      <td>8.0</td>\n",
       "      <td>8.0</td>\n",
       "      <td>21.0</td>\n",
       "      <td>NaN</td>\n",
       "      <td>1789.0</td>\n",
       "      <td>1789.0</td>\n",
       "      <td>0.50</td>\n",
       "      <td>NaN</td>\n",
       "      <td>erdos_renyi</td>\n",
       "      <td>gauss</td>\n",
       "      <td>[0.1, nan, nan]</td>\n",
       "      <td>11.0</td>\n",
       "      <td>fisherz</td>\n",
       "      <td>1.0</td>\n",
       "      <td>15.0</td>\n",
       "      <td>15.0</td>\n",
       "      <td>1.0</td>\n",
       "      <td>1000.0</td>\n",
       "      <td>linear</td>\n",
       "      <td>None</td>\n",
       "      <td>NaN</td>\n",
       "      <td>NaN</td>\n",
       "      <td>(-1, 2)</td>\n",
       "      <td>86.0</td>\n",
       "      <td>19.0</td>\n",
       "      <td>86.0</td>\n",
       "      <td>19.0</td>\n",
       "      <td>86.0</td>\n",
       "      <td>19.0</td>\n",
       "    </tr>\n",
       "  </tbody>\n",
       "</table>\n",
       "</div>"
      ],
      "text/plain": [
       "   base_adj_f1_score  base_adj_false_negative  base_adj_false_positive  \\\n",
       "0           0.857143                      4.0                      1.0   \n",
       "1           1.000000                      0.0                      0.0   \n",
       "2           0.937500                      0.0                      2.0   \n",
       "3           0.451613                      0.0                     17.0   \n",
       "4           0.577778                      2.0                     17.0   \n",
       "5           0.900000                      1.0                      1.0   \n",
       "6           0.956522                      1.0                      0.0   \n",
       "7           0.838710                      4.0                      1.0   \n",
       "8           0.720000                      1.0                      6.0   \n",
       "9           0.536585                      0.0                     19.0   \n",
       "\n",
       "   base_adj_precision  base_adj_recall  base_adj_true_negative  \\\n",
       "0            0.937500         0.789474                    85.0   \n",
       "1            1.000000         1.000000                    91.0   \n",
       "2            0.882353         1.000000                    88.0   \n",
       "3            0.291667         1.000000                    81.0   \n",
       "4            0.433333         0.866667                    73.0   \n",
       "5            0.900000         0.900000                    94.0   \n",
       "6            1.000000         0.916667                    93.0   \n",
       "7            0.928571         0.764706                    87.0   \n",
       "8            0.600000         0.900000                    89.0   \n",
       "9            0.366667         1.000000                    75.0   \n",
       "\n",
       "   base_adj_true_positive  base_arrow_f1_score  base_arrow_f1_score_ce  \\\n",
       "0                    15.0             0.242424                0.285714   \n",
       "1                    14.0             0.750000                0.750000   \n",
       "2                    15.0             0.620690                0.642857   \n",
       "3                     7.0             0.129032                0.285714   \n",
       "4                    13.0             0.350000                0.636364   \n",
       "5                     9.0             0.470588                0.533333   \n",
       "6                    11.0             0.700000                0.736842   \n",
       "7                    13.0             0.615385                0.761905   \n",
       "8                     9.0             0.416667                0.588235   \n",
       "9                    11.0             0.410256                0.761905   \n",
       "\n",
       "   base_arrow_false_negative  base_arrow_false_negative_ce  \\\n",
       "0                       15.0                          11.0   \n",
       "1                        5.0                           5.0   \n",
       "2                        6.0                           6.0   \n",
       "3                        5.0                           5.0   \n",
       "4                        8.0                           6.0   \n",
       "5                        6.0                           5.0   \n",
       "6                        5.0                           4.0   \n",
       "7                        9.0                           5.0   \n",
       "8                        5.0                           4.0   \n",
       "9                        3.0                           3.0   \n",
       "\n",
       "   base_arrow_false_positive  base_arrow_false_positive_ce  \\\n",
       "0                       10.0                           9.0   \n",
       "1                        1.0                           1.0   \n",
       "2                        5.0                           4.0   \n",
       "3                       22.0                           5.0   \n",
       "4                       18.0                           2.0   \n",
       "5                        3.0                           2.0   \n",
       "6                        1.0                           1.0   \n",
       "7                        1.0                           0.0   \n",
       "8                        9.0                           3.0   \n",
       "9                       20.0                           2.0   \n",
       "\n",
       "   base_arrow_precision  base_arrow_precision_ce  base_arrow_recall  \\\n",
       "0              0.285714                 0.307692           0.210526   \n",
       "1              0.900000                 0.900000           0.642857   \n",
       "2              0.642857                 0.692308           0.600000   \n",
       "3              0.083333                 0.285714           0.285714   \n",
       "4              0.280000                 0.777778           0.466667   \n",
       "5              0.571429                 0.666667           0.400000   \n",
       "6              0.875000                 0.875000           0.583333   \n",
       "7              0.888889                 1.000000           0.470588   \n",
       "8              0.357143                 0.625000           0.500000   \n",
       "9              0.285714                 0.800000           0.727273   \n",
       "\n",
       "   base_arrow_recall_ce  base_arrow_true_negative  \\\n",
       "0              0.266667                     196.0   \n",
       "1              0.642857                     210.0   \n",
       "2              0.600000                     205.0   \n",
       "3              0.285714                     196.0   \n",
       "4              0.538462                     192.0   \n",
       "5              0.444444                     212.0   \n",
       "6              0.636364                     212.0   \n",
       "7              0.615385                     207.0   \n",
       "8              0.555556                     206.0   \n",
       "9              0.727273                     194.0   \n",
       "\n",
       "   base_arrow_true_negative_ce  base_arrow_true_positive  \\\n",
       "0                        201.0                       4.0   \n",
       "1                        210.0                       9.0   \n",
       "2                        206.0                       9.0   \n",
       "3                        213.0                       2.0   \n",
       "4                        210.0                       7.0   \n",
       "5                        214.0                       4.0   \n",
       "6                        213.0                       7.0   \n",
       "7                        212.0                       8.0   \n",
       "8                        213.0                       5.0   \n",
       "9                        212.0                       8.0   \n",
       "\n",
       "   base_arrow_true_positive_ce  base_base_shd  base_sid_lower  \\\n",
       "0                          4.0           14.0             NaN   \n",
       "1                          9.0            1.0             NaN   \n",
       "2                          9.0            6.0             NaN   \n",
       "3                          2.0           22.0             NaN   \n",
       "4                          7.0           21.0             NaN   \n",
       "5                          4.0            4.0             NaN   \n",
       "6                          7.0            2.0             NaN   \n",
       "7                          8.0            5.0             NaN   \n",
       "8                          5.0           10.0             NaN   \n",
       "9                          8.0           21.0             NaN   \n",
       "\n",
       "   cluster_adj_f1_score  cluster_adj_false_negative  \\\n",
       "0              0.857143                         4.0   \n",
       "1              1.000000                         0.0   \n",
       "2              0.937500                         0.0   \n",
       "3              0.451613                         0.0   \n",
       "4              0.577778                         2.0   \n",
       "5              0.900000                         1.0   \n",
       "6              0.956522                         1.0   \n",
       "7              0.838710                         4.0   \n",
       "8              0.720000                         1.0   \n",
       "9              0.536585                         0.0   \n",
       "\n",
       "   cluster_adj_false_positive  cluster_adj_precision  cluster_adj_recall  \\\n",
       "0                         1.0               0.937500            0.789474   \n",
       "1                         0.0               1.000000            1.000000   \n",
       "2                         2.0               0.882353            1.000000   \n",
       "3                        17.0               0.291667            1.000000   \n",
       "4                        17.0               0.433333            0.866667   \n",
       "5                         1.0               0.900000            0.900000   \n",
       "6                         0.0               1.000000            0.916667   \n",
       "7                         1.0               0.928571            0.764706   \n",
       "8                         6.0               0.600000            0.900000   \n",
       "9                        19.0               0.366667            1.000000   \n",
       "\n",
       "   cluster_adj_true_negative  cluster_adj_true_positive  \\\n",
       "0                       85.0                       15.0   \n",
       "1                       91.0                       14.0   \n",
       "2                       88.0                       15.0   \n",
       "3                       81.0                        7.0   \n",
       "4                       73.0                       13.0   \n",
       "5                       94.0                        9.0   \n",
       "6                       93.0                       11.0   \n",
       "7                       87.0                       13.0   \n",
       "8                       89.0                        9.0   \n",
       "9                       75.0                       11.0   \n",
       "\n",
       "   cluster_arrow_f1_score  cluster_arrow_f1_score_ce  \\\n",
       "0                0.242424                   0.285714   \n",
       "1                0.750000                   0.750000   \n",
       "2                0.620690                   0.642857   \n",
       "3                0.129032                   0.285714   \n",
       "4                0.350000                   0.636364   \n",
       "5                0.470588                   0.533333   \n",
       "6                0.700000                   0.736842   \n",
       "7                0.615385                   0.761905   \n",
       "8                0.416667                   0.588235   \n",
       "9                0.410256                   0.761905   \n",
       "\n",
       "   cluster_arrow_false_negative  cluster_arrow_false_negative_ce  \\\n",
       "0                          15.0                             11.0   \n",
       "1                           5.0                              5.0   \n",
       "2                           6.0                              6.0   \n",
       "3                           5.0                              5.0   \n",
       "4                           8.0                              6.0   \n",
       "5                           6.0                              5.0   \n",
       "6                           5.0                              4.0   \n",
       "7                           9.0                              5.0   \n",
       "8                           5.0                              4.0   \n",
       "9                           3.0                              3.0   \n",
       "\n",
       "   cluster_arrow_false_positive  cluster_arrow_false_positive_ce  \\\n",
       "0                          10.0                              9.0   \n",
       "1                           1.0                              1.0   \n",
       "2                           5.0                              4.0   \n",
       "3                          22.0                              5.0   \n",
       "4                          18.0                              2.0   \n",
       "5                           3.0                              2.0   \n",
       "6                           1.0                              1.0   \n",
       "7                           1.0                              0.0   \n",
       "8                           9.0                              3.0   \n",
       "9                          20.0                              2.0   \n",
       "\n",
       "   cluster_arrow_precision  cluster_arrow_precision_ce  cluster_arrow_recall  \\\n",
       "0                 0.285714                    0.307692              0.210526   \n",
       "1                 0.900000                    0.900000              0.642857   \n",
       "2                 0.642857                    0.692308              0.600000   \n",
       "3                 0.083333                    0.285714              0.285714   \n",
       "4                 0.280000                    0.777778              0.466667   \n",
       "5                 0.571429                    0.666667              0.400000   \n",
       "6                 0.875000                    0.875000              0.583333   \n",
       "7                 0.888889                    1.000000              0.470588   \n",
       "8                 0.357143                    0.625000              0.500000   \n",
       "9                 0.285714                    0.800000              0.727273   \n",
       "\n",
       "   cluster_arrow_recall_ce  cluster_arrow_true_negative  \\\n",
       "0                 0.266667                        196.0   \n",
       "1                 0.642857                        210.0   \n",
       "2                 0.600000                        205.0   \n",
       "3                 0.285714                        196.0   \n",
       "4                 0.538462                        192.0   \n",
       "5                 0.444444                        212.0   \n",
       "6                 0.636364                        212.0   \n",
       "7                 0.615385                        207.0   \n",
       "8                 0.555556                        206.0   \n",
       "9                 0.727273                        194.0   \n",
       "\n",
       "   cluster_arrow_true_negative_ce  cluster_arrow_true_positive  \\\n",
       "0                           201.0                          4.0   \n",
       "1                           210.0                          9.0   \n",
       "2                           206.0                          9.0   \n",
       "3                           213.0                          2.0   \n",
       "4                           210.0                          7.0   \n",
       "5                           214.0                          4.0   \n",
       "6                           213.0                          7.0   \n",
       "7                           212.0                          8.0   \n",
       "8                           213.0                          5.0   \n",
       "9                           212.0                          8.0   \n",
       "\n",
       "   cluster_arrow_true_positive_ce  cluster_cluster_shd  cluster_sid_lower  \\\n",
       "0                             4.0                 14.0                NaN   \n",
       "1                             9.0                  1.0                NaN   \n",
       "2                             9.0                  6.0                NaN   \n",
       "3                             2.0                 22.0                NaN   \n",
       "4                             7.0                 21.0                NaN   \n",
       "5                             4.0                  4.0                NaN   \n",
       "6                             7.0                  2.0                NaN   \n",
       "7                             8.0                  5.0                NaN   \n",
       "8                             5.0                 10.0                NaN   \n",
       "9                             8.0                 21.0                NaN   \n",
       "\n",
       "   pruned_base_adj_f1_score  pruned_base_adj_false_negative  \\\n",
       "0                  0.857143                             4.0   \n",
       "1                  1.000000                             0.0   \n",
       "2                  0.937500                             0.0   \n",
       "3                  0.451613                             0.0   \n",
       "4                  0.577778                             2.0   \n",
       "5                  0.900000                             1.0   \n",
       "6                  0.956522                             1.0   \n",
       "7                  0.838710                             4.0   \n",
       "8                  0.720000                             1.0   \n",
       "9                  0.536585                             0.0   \n",
       "\n",
       "   pruned_base_adj_false_positive  pruned_base_adj_precision  \\\n",
       "0                             1.0                   0.937500   \n",
       "1                             0.0                   1.000000   \n",
       "2                             2.0                   0.882353   \n",
       "3                            17.0                   0.291667   \n",
       "4                            17.0                   0.433333   \n",
       "5                             1.0                   0.900000   \n",
       "6                             0.0                   1.000000   \n",
       "7                             1.0                   0.928571   \n",
       "8                             6.0                   0.600000   \n",
       "9                            19.0                   0.366667   \n",
       "\n",
       "   pruned_base_adj_recall  pruned_base_adj_true_negative  \\\n",
       "0                0.789474                           85.0   \n",
       "1                1.000000                           91.0   \n",
       "2                1.000000                           88.0   \n",
       "3                1.000000                           81.0   \n",
       "4                0.866667                           73.0   \n",
       "5                0.900000                           94.0   \n",
       "6                0.916667                           93.0   \n",
       "7                0.764706                           87.0   \n",
       "8                0.900000                           89.0   \n",
       "9                1.000000                           75.0   \n",
       "\n",
       "   pruned_base_adj_true_positive  pruned_base_arrow_f1_score  \\\n",
       "0                           15.0                    0.242424   \n",
       "1                           14.0                    0.750000   \n",
       "2                           15.0                    0.620690   \n",
       "3                            7.0                    0.129032   \n",
       "4                           13.0                    0.350000   \n",
       "5                            9.0                    0.470588   \n",
       "6                           11.0                    0.700000   \n",
       "7                           13.0                    0.615385   \n",
       "8                            9.0                    0.416667   \n",
       "9                           11.0                    0.410256   \n",
       "\n",
       "   pruned_base_arrow_f1_score_ce  pruned_base_arrow_false_negative  \\\n",
       "0                       0.285714                              15.0   \n",
       "1                       0.750000                               5.0   \n",
       "2                       0.642857                               6.0   \n",
       "3                       0.285714                               5.0   \n",
       "4                       0.636364                               8.0   \n",
       "5                       0.533333                               6.0   \n",
       "6                       0.736842                               5.0   \n",
       "7                       0.761905                               9.0   \n",
       "8                       0.588235                               5.0   \n",
       "9                       0.761905                               3.0   \n",
       "\n",
       "   pruned_base_arrow_false_negative_ce  pruned_base_arrow_false_positive  \\\n",
       "0                                 11.0                              10.0   \n",
       "1                                  5.0                               1.0   \n",
       "2                                  6.0                               5.0   \n",
       "3                                  5.0                              22.0   \n",
       "4                                  6.0                              18.0   \n",
       "5                                  5.0                               3.0   \n",
       "6                                  4.0                               1.0   \n",
       "7                                  5.0                               1.0   \n",
       "8                                  4.0                               9.0   \n",
       "9                                  3.0                              20.0   \n",
       "\n",
       "   pruned_base_arrow_false_positive_ce  pruned_base_arrow_precision  \\\n",
       "0                                  9.0                     0.285714   \n",
       "1                                  1.0                     0.900000   \n",
       "2                                  4.0                     0.642857   \n",
       "3                                  5.0                     0.083333   \n",
       "4                                  2.0                     0.280000   \n",
       "5                                  2.0                     0.571429   \n",
       "6                                  1.0                     0.875000   \n",
       "7                                  0.0                     0.888889   \n",
       "8                                  3.0                     0.357143   \n",
       "9                                  2.0                     0.285714   \n",
       "\n",
       "   pruned_base_arrow_precision_ce  pruned_base_arrow_recall  \\\n",
       "0                        0.307692                  0.210526   \n",
       "1                        0.900000                  0.642857   \n",
       "2                        0.692308                  0.600000   \n",
       "3                        0.285714                  0.285714   \n",
       "4                        0.777778                  0.466667   \n",
       "5                        0.666667                  0.400000   \n",
       "6                        0.875000                  0.583333   \n",
       "7                        1.000000                  0.470588   \n",
       "8                        0.625000                  0.500000   \n",
       "9                        0.800000                  0.727273   \n",
       "\n",
       "   pruned_base_arrow_recall_ce  pruned_base_arrow_true_negative  \\\n",
       "0                     0.266667                            196.0   \n",
       "1                     0.642857                            210.0   \n",
       "2                     0.600000                            205.0   \n",
       "3                     0.285714                            196.0   \n",
       "4                     0.538462                            192.0   \n",
       "5                     0.444444                            212.0   \n",
       "6                     0.636364                            212.0   \n",
       "7                     0.615385                            207.0   \n",
       "8                     0.555556                            206.0   \n",
       "9                     0.727273                            194.0   \n",
       "\n",
       "   pruned_base_arrow_true_negative_ce  pruned_base_arrow_true_positive  \\\n",
       "0                               201.0                              4.0   \n",
       "1                               210.0                              9.0   \n",
       "2                               206.0                              9.0   \n",
       "3                               213.0                              2.0   \n",
       "4                               210.0                              7.0   \n",
       "5                               214.0                              4.0   \n",
       "6                               213.0                              7.0   \n",
       "7                               212.0                              8.0   \n",
       "8                               213.0                              5.0   \n",
       "9                               212.0                              8.0   \n",
       "\n",
       "   pruned_base_arrow_true_positive_ce  pruned_base_pruned_base_shd  \\\n",
       "0                                 4.0                         14.0   \n",
       "1                                 9.0                          1.0   \n",
       "2                                 9.0                          6.0   \n",
       "3                                 2.0                         22.0   \n",
       "4                                 7.0                         21.0   \n",
       "5                                 4.0                          4.0   \n",
       "6                                 7.0                          2.0   \n",
       "7                                 8.0                          5.0   \n",
       "8                                 5.0                         10.0   \n",
       "9                                 8.0                         21.0   \n",
       "\n",
       "   pruned_base_sid_lower  Base indep tests  C-PC indep tests  alpha  \\\n",
       "0                    NaN             497.0             497.0   0.01   \n",
       "1                    NaN             993.0             993.0   0.05   \n",
       "2                    NaN             894.0             894.0   0.10   \n",
       "3                    NaN            1140.0            1140.0   0.25   \n",
       "4                    NaN            1755.0            1755.0   0.50   \n",
       "5                    NaN             333.0             333.0   0.01   \n",
       "6                    NaN             375.0             375.0   0.05   \n",
       "7                    NaN            1127.0            1127.0   0.10   \n",
       "8                    NaN             593.0             593.0   0.25   \n",
       "9                    NaN            1789.0            1789.0   0.50   \n",
       "\n",
       "   cluster_connectivity   dag_method distribution_type       edge_ratios  \\\n",
       "0                   NaN  erdos_renyi               exp  [0.18, nan, nan]   \n",
       "1                   NaN  erdos_renyi               exp  [0.13, nan, nan]   \n",
       "2                   NaN  erdos_renyi               exp  [0.14, nan, nan]   \n",
       "3                   NaN  erdos_renyi               exp  [0.07, nan, nan]   \n",
       "4                   NaN  erdos_renyi               exp  [0.14, nan, nan]   \n",
       "5                   NaN  erdos_renyi             gauss   [0.1, nan, nan]   \n",
       "6                   NaN  erdos_renyi             gauss  [0.11, nan, nan]   \n",
       "7                   NaN  erdos_renyi             gauss  [0.16, nan, nan]   \n",
       "8                   NaN  erdos_renyi             gauss   [0.1, nan, nan]   \n",
       "9                   NaN  erdos_renyi             gauss   [0.1, nan, nan]   \n",
       "\n",
       "   empty_graph_shd indep_test  n_clusters  n_edges  n_nodes  noise_scale  \\\n",
       "0             19.0    fisherz         1.0     15.0     15.0          1.0   \n",
       "1             14.0    fisherz         1.0     15.0     15.0          1.0   \n",
       "2             15.0    fisherz         1.0     15.0     15.0          1.0   \n",
       "3              7.0    fisherz         1.0     15.0     15.0          1.0   \n",
       "4             15.0    fisherz         1.0     15.0     15.0          1.0   \n",
       "5             10.0    fisherz         1.0     15.0     15.0          1.0   \n",
       "6             12.0    fisherz         1.0     15.0     15.0          1.0   \n",
       "7             17.0    fisherz         1.0     15.0     15.0          1.0   \n",
       "8             10.0    fisherz         1.0     15.0     15.0          1.0   \n",
       "9             11.0    fisherz         1.0     15.0     15.0          1.0   \n",
       "\n",
       "   sample_size scm_method  seed  true_sid_lower  true_sid_upper weight_range  \\\n",
       "0       1000.0     linear  None             NaN             NaN      (-1, 2)   \n",
       "1       1000.0     linear  None             NaN             NaN      (-1, 2)   \n",
       "2       1000.0     linear  None             NaN             NaN      (-1, 2)   \n",
       "3       1000.0     linear  None             NaN             NaN      (-1, 2)   \n",
       "4       1000.0     linear  None             NaN             NaN      (-1, 2)   \n",
       "5       1000.0     linear  None             NaN             NaN      (-1, 2)   \n",
       "6       1000.0     linear  None             NaN             NaN      (-1, 2)   \n",
       "7       1000.0     linear  None             NaN             NaN      (-1, 2)   \n",
       "8       1000.0     linear  None             NaN             NaN      (-1, 2)   \n",
       "9       1000.0     linear  None             NaN             NaN      (-1, 2)   \n",
       "\n",
       "   base_total_true  base_total_false  pruned_base_total_true  \\\n",
       "0            100.0               5.0                   100.0   \n",
       "1            105.0               0.0                   105.0   \n",
       "2            103.0               2.0                   103.0   \n",
       "3             88.0              17.0                    88.0   \n",
       "4             86.0              19.0                    86.0   \n",
       "5            103.0               2.0                   103.0   \n",
       "6            104.0               1.0                   104.0   \n",
       "7            100.0               5.0                   100.0   \n",
       "8             98.0               7.0                    98.0   \n",
       "9             86.0              19.0                    86.0   \n",
       "\n",
       "   pruned_base_total_false  cluster_total_true  cluster_total_false  \n",
       "0                      5.0               100.0                  5.0  \n",
       "1                      0.0               105.0                  0.0  \n",
       "2                      2.0               103.0                  2.0  \n",
       "3                     17.0                88.0                 17.0  \n",
       "4                     19.0                86.0                 19.0  \n",
       "5                      2.0               103.0                  2.0  \n",
       "6                      1.0               104.0                  1.0  \n",
       "7                      5.0               100.0                  5.0  \n",
       "8                      7.0                98.0                  7.0  \n",
       "9                     19.0                86.0                 19.0  "
      ]
     },
     "execution_count": 29,
     "metadata": {},
     "output_type": "execute_result"
    }
   ],
   "source": [
    "pd.set_option('display.max_columns', None)\n",
    "data[:10]"
   ]
  },
  {
   "cell_type": "markdown",
   "metadata": {},
   "source": [
    "The data contains the following information on the settings of the simulation:"
   ]
  },
  {
   "cell_type": "code",
   "execution_count": null,
   "metadata": {},
   "outputs": [],
   "source": [
    "# settings_results = {\n",
    "#             \"n_nodes\": simulation.n_nodes,\n",
    "#             \"n_edges\": simulation.n_edges,\n",
    "#             \"n_clusters\": simulation.n_clusters,\n",
    "#             \"edge_ratios\": edge_ratios,\n",
    "#             \"dag_method\": simulation.dag_method,\n",
    "#             \"distribution_type\": simulation.distribution_type,\n",
    "#             \"scm_method\": simulation.scm_method,\n",
    "#             \"weight_range\": simulation.weight_range,\n",
    "#             \"sample_size\": simulation.sample_size,\n",
    "#             \"seed\": simulation.seed,\n",
    "#             \"noise_scale\": simulation.noise_scale,\n",
    "#             # \"n_c_edges\": simulation.n_c_edges,\n",
    "#             \"alpha\": simulation.alpha,\n",
    "#             \"true_sid_lower\": true_sid_bounds[\"sid_lower\"],\n",
    "#             \"true_sid_upper\": true_sid_bounds[\"sid_upper\"],\n",
    "#             \"indep_test\": self.indep_test,\n",
    "#             \"empty_graph_shd\": empty_graph_shd,\n",
    "#             \"cluster_connectivity\": cluster_connectivity,\n",
    "#             \"C-PC indep tests\": clust_no_indep_tests,\n",
    "#             \"Base indep tests\": one_clust_no_indep_tests,\n",
    "#         }"
   ]
  },
  {
   "cell_type": "markdown",
   "metadata": {},
   "source": [
    "In addition the metrics for the runs are as follows (where pruned is the results of PC but edges that could be removed from C-DAG are removed):"
   ]
  },
  {
   "cell_type": "code",
   "execution_count": null,
   "metadata": {},
   "outputs": [],
   "source": [
    "# cluster_adjacency_confusion,\n",
    "# cluster_arrow_confusion,\n",
    "# cluster_shd,\n",
    "# cluster_sid,\n",
    "\n",
    "# base_adjacency_confusion,\n",
    "# base_arrow_confusion,\n",
    "# base_shd,\n",
    "# base_sid,\n",
    "\n",
    "# pruned_base_adjacency_confusion,\n",
    "# pruned_base_arrow_confusion,\n",
    "# pruned_base_shd,\n",
    "# pruned_base_sid,"
   ]
  },
  {
   "cell_type": "markdown",
   "metadata": {},
   "source": [
    "Pruned and base results are identical, as it seems PC never failed to delete an edge between non-adjacent clusters. "
   ]
  },
  {
   "cell_type": "code",
   "execution_count": 30,
   "metadata": {},
   "outputs": [
    {
     "data": {
      "text/html": [
       "<div>\n",
       "<style scoped>\n",
       "    .dataframe tbody tr th:only-of-type {\n",
       "        vertical-align: middle;\n",
       "    }\n",
       "\n",
       "    .dataframe tbody tr th {\n",
       "        vertical-align: top;\n",
       "    }\n",
       "\n",
       "    .dataframe thead th {\n",
       "        text-align: right;\n",
       "    }\n",
       "</style>\n",
       "<table border=\"1\" class=\"dataframe\">\n",
       "  <thead>\n",
       "    <tr style=\"text-align: right;\">\n",
       "      <th></th>\n",
       "      <th>base_adj_f1_score</th>\n",
       "      <th>base_adj_false_negative</th>\n",
       "      <th>base_adj_false_positive</th>\n",
       "      <th>base_adj_precision</th>\n",
       "      <th>base_adj_recall</th>\n",
       "      <th>base_adj_true_negative</th>\n",
       "      <th>base_adj_true_positive</th>\n",
       "      <th>base_arrow_f1_score</th>\n",
       "      <th>base_arrow_f1_score_ce</th>\n",
       "      <th>base_arrow_false_negative</th>\n",
       "      <th>base_arrow_false_negative_ce</th>\n",
       "      <th>base_arrow_false_positive</th>\n",
       "      <th>base_arrow_false_positive_ce</th>\n",
       "      <th>base_arrow_precision</th>\n",
       "      <th>base_arrow_precision_ce</th>\n",
       "      <th>base_arrow_recall</th>\n",
       "      <th>base_arrow_recall_ce</th>\n",
       "      <th>base_arrow_true_negative</th>\n",
       "      <th>base_arrow_true_negative_ce</th>\n",
       "      <th>base_arrow_true_positive</th>\n",
       "      <th>base_arrow_true_positive_ce</th>\n",
       "      <th>base_base_shd</th>\n",
       "      <th>base_sid_lower</th>\n",
       "      <th>cluster_adj_f1_score</th>\n",
       "      <th>cluster_adj_false_negative</th>\n",
       "      <th>cluster_adj_false_positive</th>\n",
       "      <th>cluster_adj_precision</th>\n",
       "      <th>cluster_adj_recall</th>\n",
       "      <th>cluster_adj_true_negative</th>\n",
       "      <th>cluster_adj_true_positive</th>\n",
       "      <th>cluster_arrow_f1_score</th>\n",
       "      <th>cluster_arrow_f1_score_ce</th>\n",
       "      <th>cluster_arrow_false_negative</th>\n",
       "      <th>cluster_arrow_false_negative_ce</th>\n",
       "      <th>cluster_arrow_false_positive</th>\n",
       "      <th>cluster_arrow_false_positive_ce</th>\n",
       "      <th>cluster_arrow_precision</th>\n",
       "      <th>cluster_arrow_precision_ce</th>\n",
       "      <th>cluster_arrow_recall</th>\n",
       "      <th>cluster_arrow_recall_ce</th>\n",
       "      <th>cluster_arrow_true_negative</th>\n",
       "      <th>cluster_arrow_true_negative_ce</th>\n",
       "      <th>cluster_arrow_true_positive</th>\n",
       "      <th>cluster_arrow_true_positive_ce</th>\n",
       "      <th>cluster_cluster_shd</th>\n",
       "      <th>cluster_sid_lower</th>\n",
       "      <th>pruned_base_adj_f1_score</th>\n",
       "      <th>pruned_base_adj_false_negative</th>\n",
       "      <th>pruned_base_adj_false_positive</th>\n",
       "      <th>pruned_base_adj_precision</th>\n",
       "      <th>pruned_base_adj_recall</th>\n",
       "      <th>pruned_base_adj_true_negative</th>\n",
       "      <th>pruned_base_adj_true_positive</th>\n",
       "      <th>pruned_base_arrow_f1_score</th>\n",
       "      <th>pruned_base_arrow_f1_score_ce</th>\n",
       "      <th>pruned_base_arrow_false_negative</th>\n",
       "      <th>pruned_base_arrow_false_negative_ce</th>\n",
       "      <th>pruned_base_arrow_false_positive</th>\n",
       "      <th>pruned_base_arrow_false_positive_ce</th>\n",
       "      <th>pruned_base_arrow_precision</th>\n",
       "      <th>pruned_base_arrow_precision_ce</th>\n",
       "      <th>pruned_base_arrow_recall</th>\n",
       "      <th>pruned_base_arrow_recall_ce</th>\n",
       "      <th>pruned_base_arrow_true_negative</th>\n",
       "      <th>pruned_base_arrow_true_negative_ce</th>\n",
       "      <th>pruned_base_arrow_true_positive</th>\n",
       "      <th>pruned_base_arrow_true_positive_ce</th>\n",
       "      <th>pruned_base_pruned_base_shd</th>\n",
       "      <th>pruned_base_sid_lower</th>\n",
       "      <th>Base indep tests</th>\n",
       "      <th>C-PC indep tests</th>\n",
       "      <th>alpha</th>\n",
       "      <th>cluster_connectivity</th>\n",
       "      <th>empty_graph_shd</th>\n",
       "      <th>n_clusters</th>\n",
       "      <th>n_edges</th>\n",
       "      <th>n_nodes</th>\n",
       "      <th>noise_scale</th>\n",
       "      <th>sample_size</th>\n",
       "      <th>true_sid_lower</th>\n",
       "      <th>true_sid_upper</th>\n",
       "      <th>base_total_true</th>\n",
       "      <th>base_total_false</th>\n",
       "      <th>pruned_base_total_true</th>\n",
       "      <th>pruned_base_total_false</th>\n",
       "      <th>cluster_total_true</th>\n",
       "      <th>cluster_total_false</th>\n",
       "    </tr>\n",
       "  </thead>\n",
       "  <tbody>\n",
       "    <tr>\n",
       "      <th>count</th>\n",
       "      <td>675.000000</td>\n",
       "      <td>675.000000</td>\n",
       "      <td>675.000000</td>\n",
       "      <td>675.000000</td>\n",
       "      <td>675.000000</td>\n",
       "      <td>675.000000</td>\n",
       "      <td>675.000000</td>\n",
       "      <td>674.000000</td>\n",
       "      <td>674.000000</td>\n",
       "      <td>675.000000</td>\n",
       "      <td>675.000000</td>\n",
       "      <td>675.000000</td>\n",
       "      <td>675.000000</td>\n",
       "      <td>675.000000</td>\n",
       "      <td>675.000000</td>\n",
       "      <td>675.000000</td>\n",
       "      <td>675.000000</td>\n",
       "      <td>675.000000</td>\n",
       "      <td>675.000000</td>\n",
       "      <td>675.000000</td>\n",
       "      <td>675.000000</td>\n",
       "      <td>675.000000</td>\n",
       "      <td>0.0</td>\n",
       "      <td>675.000000</td>\n",
       "      <td>675.000000</td>\n",
       "      <td>675.000000</td>\n",
       "      <td>675.000000</td>\n",
       "      <td>675.000000</td>\n",
       "      <td>675.000000</td>\n",
       "      <td>675.000000</td>\n",
       "      <td>674.000000</td>\n",
       "      <td>674.000000</td>\n",
       "      <td>675.000000</td>\n",
       "      <td>675.000000</td>\n",
       "      <td>675.000000</td>\n",
       "      <td>675.000000</td>\n",
       "      <td>675.000000</td>\n",
       "      <td>675.000000</td>\n",
       "      <td>675.000000</td>\n",
       "      <td>675.000000</td>\n",
       "      <td>675.000000</td>\n",
       "      <td>675.000000</td>\n",
       "      <td>675.000000</td>\n",
       "      <td>675.000000</td>\n",
       "      <td>675.000000</td>\n",
       "      <td>0.0</td>\n",
       "      <td>675.000000</td>\n",
       "      <td>675.000000</td>\n",
       "      <td>675.000000</td>\n",
       "      <td>675.000000</td>\n",
       "      <td>675.000000</td>\n",
       "      <td>675.000000</td>\n",
       "      <td>675.000000</td>\n",
       "      <td>674.000000</td>\n",
       "      <td>674.000000</td>\n",
       "      <td>675.000000</td>\n",
       "      <td>675.000000</td>\n",
       "      <td>675.000000</td>\n",
       "      <td>675.000000</td>\n",
       "      <td>675.000000</td>\n",
       "      <td>675.000000</td>\n",
       "      <td>675.000000</td>\n",
       "      <td>675.000000</td>\n",
       "      <td>675.000000</td>\n",
       "      <td>675.000000</td>\n",
       "      <td>675.000000</td>\n",
       "      <td>675.000000</td>\n",
       "      <td>675.000000</td>\n",
       "      <td>0.0</td>\n",
       "      <td>675.000000</td>\n",
       "      <td>675.000000</td>\n",
       "      <td>675.000000</td>\n",
       "      <td>540.000000</td>\n",
       "      <td>675.000000</td>\n",
       "      <td>675.000000</td>\n",
       "      <td>675.000000</td>\n",
       "      <td>675.0</td>\n",
       "      <td>675.0</td>\n",
       "      <td>675.0</td>\n",
       "      <td>0.0</td>\n",
       "      <td>0.0</td>\n",
       "      <td>675.000000</td>\n",
       "      <td>675.000000</td>\n",
       "      <td>675.000000</td>\n",
       "      <td>675.000000</td>\n",
       "      <td>675.000000</td>\n",
       "      <td>675.000000</td>\n",
       "    </tr>\n",
       "    <tr>\n",
       "      <th>mean</th>\n",
       "      <td>0.607267</td>\n",
       "      <td>27.814815</td>\n",
       "      <td>2.965926</td>\n",
       "      <td>0.865765</td>\n",
       "      <td>0.527168</td>\n",
       "      <td>56.921481</td>\n",
       "      <td>17.297778</td>\n",
       "      <td>0.385408</td>\n",
       "      <td>0.654480</td>\n",
       "      <td>34.557037</td>\n",
       "      <td>6.742222</td>\n",
       "      <td>6.468148</td>\n",
       "      <td>3.798519</td>\n",
       "      <td>0.638856</td>\n",
       "      <td>0.737861</td>\n",
       "      <td>0.307679</td>\n",
       "      <td>0.596464</td>\n",
       "      <td>173.419259</td>\n",
       "      <td>203.903704</td>\n",
       "      <td>10.555556</td>\n",
       "      <td>10.555556</td>\n",
       "      <td>34.579259</td>\n",
       "      <td>NaN</td>\n",
       "      <td>0.649075</td>\n",
       "      <td>24.250370</td>\n",
       "      <td>4.512593</td>\n",
       "      <td>0.834246</td>\n",
       "      <td>0.590966</td>\n",
       "      <td>55.374815</td>\n",
       "      <td>20.862222</td>\n",
       "      <td>0.545580</td>\n",
       "      <td>0.839087</td>\n",
       "      <td>27.912593</td>\n",
       "      <td>3.662222</td>\n",
       "      <td>6.324444</td>\n",
       "      <td>2.146667</td>\n",
       "      <td>0.735194</td>\n",
       "      <td>0.876950</td>\n",
       "      <td>0.481199</td>\n",
       "      <td>0.808003</td>\n",
       "      <td>173.562963</td>\n",
       "      <td>201.991111</td>\n",
       "      <td>17.200000</td>\n",
       "      <td>17.200000</td>\n",
       "      <td>30.909630</td>\n",
       "      <td>NaN</td>\n",
       "      <td>0.607267</td>\n",
       "      <td>27.814815</td>\n",
       "      <td>2.965926</td>\n",
       "      <td>0.865765</td>\n",
       "      <td>0.527168</td>\n",
       "      <td>56.921481</td>\n",
       "      <td>17.297778</td>\n",
       "      <td>0.385408</td>\n",
       "      <td>0.654480</td>\n",
       "      <td>34.557037</td>\n",
       "      <td>6.742222</td>\n",
       "      <td>6.468148</td>\n",
       "      <td>3.798519</td>\n",
       "      <td>0.638856</td>\n",
       "      <td>0.737861</td>\n",
       "      <td>0.307679</td>\n",
       "      <td>0.596464</td>\n",
       "      <td>173.419259</td>\n",
       "      <td>203.903704</td>\n",
       "      <td>10.555556</td>\n",
       "      <td>10.555556</td>\n",
       "      <td>34.579259</td>\n",
       "      <td>NaN</td>\n",
       "      <td>4104.645926</td>\n",
       "      <td>2886.837037</td>\n",
       "      <td>0.182000</td>\n",
       "      <td>0.890432</td>\n",
       "      <td>45.112593</td>\n",
       "      <td>3.000000</td>\n",
       "      <td>31.666667</td>\n",
       "      <td>15.0</td>\n",
       "      <td>1.0</td>\n",
       "      <td>1000.0</td>\n",
       "      <td>NaN</td>\n",
       "      <td>NaN</td>\n",
       "      <td>74.219259</td>\n",
       "      <td>30.780741</td>\n",
       "      <td>74.219259</td>\n",
       "      <td>30.780741</td>\n",
       "      <td>76.237037</td>\n",
       "      <td>28.762963</td>\n",
       "    </tr>\n",
       "    <tr>\n",
       "      <th>std</th>\n",
       "      <td>0.198816</td>\n",
       "      <td>24.985926</td>\n",
       "      <td>3.313540</td>\n",
       "      <td>0.125524</td>\n",
       "      <td>0.261653</td>\n",
       "      <td>26.470824</td>\n",
       "      <td>4.020191</td>\n",
       "      <td>0.168134</td>\n",
       "      <td>0.167585</td>\n",
       "      <td>24.855205</td>\n",
       "      <td>2.888416</td>\n",
       "      <td>4.561818</td>\n",
       "      <td>2.867137</td>\n",
       "      <td>0.204371</td>\n",
       "      <td>0.184673</td>\n",
       "      <td>0.179103</td>\n",
       "      <td>0.172719</td>\n",
       "      <td>26.823534</td>\n",
       "      <td>5.641982</td>\n",
       "      <td>4.542360</td>\n",
       "      <td>4.542360</td>\n",
       "      <td>24.637927</td>\n",
       "      <td>NaN</td>\n",
       "      <td>0.162972</td>\n",
       "      <td>22.348092</td>\n",
       "      <td>4.520091</td>\n",
       "      <td>0.141842</td>\n",
       "      <td>0.238174</td>\n",
       "      <td>26.288520</td>\n",
       "      <td>6.841376</td>\n",
       "      <td>0.185605</td>\n",
       "      <td>0.149962</td>\n",
       "      <td>22.824314</td>\n",
       "      <td>2.966926</td>\n",
       "      <td>4.985728</td>\n",
       "      <td>2.214224</td>\n",
       "      <td>0.181077</td>\n",
       "      <td>0.141223</td>\n",
       "      <td>0.232484</td>\n",
       "      <td>0.170613</td>\n",
       "      <td>26.709562</td>\n",
       "      <td>7.295780</td>\n",
       "      <td>7.574555</td>\n",
       "      <td>7.574555</td>\n",
       "      <td>21.969749</td>\n",
       "      <td>NaN</td>\n",
       "      <td>0.198816</td>\n",
       "      <td>24.985926</td>\n",
       "      <td>3.313540</td>\n",
       "      <td>0.125524</td>\n",
       "      <td>0.261653</td>\n",
       "      <td>26.470824</td>\n",
       "      <td>4.020191</td>\n",
       "      <td>0.168134</td>\n",
       "      <td>0.167585</td>\n",
       "      <td>24.855205</td>\n",
       "      <td>2.888416</td>\n",
       "      <td>4.561818</td>\n",
       "      <td>2.867137</td>\n",
       "      <td>0.204371</td>\n",
       "      <td>0.184673</td>\n",
       "      <td>0.179103</td>\n",
       "      <td>0.172719</td>\n",
       "      <td>26.823534</td>\n",
       "      <td>5.641982</td>\n",
       "      <td>4.542360</td>\n",
       "      <td>4.542360</td>\n",
       "      <td>24.637927</td>\n",
       "      <td>NaN</td>\n",
       "      <td>3360.394616</td>\n",
       "      <td>2970.030773</td>\n",
       "      <td>0.178727</td>\n",
       "      <td>0.168863</td>\n",
       "      <td>27.032277</td>\n",
       "      <td>1.415262</td>\n",
       "      <td>14.347841</td>\n",
       "      <td>0.0</td>\n",
       "      <td>0.0</td>\n",
       "      <td>0.0</td>\n",
       "      <td>NaN</td>\n",
       "      <td>NaN</td>\n",
       "      <td>24.473311</td>\n",
       "      <td>24.473311</td>\n",
       "      <td>24.473311</td>\n",
       "      <td>24.473311</td>\n",
       "      <td>21.583599</td>\n",
       "      <td>21.583599</td>\n",
       "    </tr>\n",
       "    <tr>\n",
       "      <th>min</th>\n",
       "      <td>0.187500</td>\n",
       "      <td>0.000000</td>\n",
       "      <td>0.000000</td>\n",
       "      <td>0.291667</td>\n",
       "      <td>0.105882</td>\n",
       "      <td>11.000000</td>\n",
       "      <td>7.000000</td>\n",
       "      <td>0.044444</td>\n",
       "      <td>0.133333</td>\n",
       "      <td>1.000000</td>\n",
       "      <td>0.000000</td>\n",
       "      <td>0.000000</td>\n",
       "      <td>0.000000</td>\n",
       "      <td>0.000000</td>\n",
       "      <td>0.000000</td>\n",
       "      <td>0.000000</td>\n",
       "      <td>0.000000</td>\n",
       "      <td>127.000000</td>\n",
       "      <td>187.000000</td>\n",
       "      <td>0.000000</td>\n",
       "      <td>0.000000</td>\n",
       "      <td>0.000000</td>\n",
       "      <td>NaN</td>\n",
       "      <td>0.254902</td>\n",
       "      <td>0.000000</td>\n",
       "      <td>0.000000</td>\n",
       "      <td>0.285714</td>\n",
       "      <td>0.151163</td>\n",
       "      <td>10.000000</td>\n",
       "      <td>7.000000</td>\n",
       "      <td>0.100000</td>\n",
       "      <td>0.133333</td>\n",
       "      <td>0.000000</td>\n",
       "      <td>0.000000</td>\n",
       "      <td>0.000000</td>\n",
       "      <td>0.000000</td>\n",
       "      <td>0.000000</td>\n",
       "      <td>0.000000</td>\n",
       "      <td>0.000000</td>\n",
       "      <td>0.000000</td>\n",
       "      <td>127.000000</td>\n",
       "      <td>181.000000</td>\n",
       "      <td>0.000000</td>\n",
       "      <td>0.000000</td>\n",
       "      <td>0.000000</td>\n",
       "      <td>NaN</td>\n",
       "      <td>0.187500</td>\n",
       "      <td>0.000000</td>\n",
       "      <td>0.000000</td>\n",
       "      <td>0.291667</td>\n",
       "      <td>0.105882</td>\n",
       "      <td>11.000000</td>\n",
       "      <td>7.000000</td>\n",
       "      <td>0.044444</td>\n",
       "      <td>0.133333</td>\n",
       "      <td>1.000000</td>\n",
       "      <td>0.000000</td>\n",
       "      <td>0.000000</td>\n",
       "      <td>0.000000</td>\n",
       "      <td>0.000000</td>\n",
       "      <td>0.000000</td>\n",
       "      <td>0.000000</td>\n",
       "      <td>0.000000</td>\n",
       "      <td>127.000000</td>\n",
       "      <td>187.000000</td>\n",
       "      <td>0.000000</td>\n",
       "      <td>0.000000</td>\n",
       "      <td>0.000000</td>\n",
       "      <td>NaN</td>\n",
       "      <td>262.000000</td>\n",
       "      <td>113.000000</td>\n",
       "      <td>0.010000</td>\n",
       "      <td>0.333333</td>\n",
       "      <td>7.000000</td>\n",
       "      <td>1.000000</td>\n",
       "      <td>15.000000</td>\n",
       "      <td>15.0</td>\n",
       "      <td>1.0</td>\n",
       "      <td>1000.0</td>\n",
       "      <td>NaN</td>\n",
       "      <td>NaN</td>\n",
       "      <td>27.000000</td>\n",
       "      <td>0.000000</td>\n",
       "      <td>27.000000</td>\n",
       "      <td>0.000000</td>\n",
       "      <td>29.000000</td>\n",
       "      <td>0.000000</td>\n",
       "    </tr>\n",
       "    <tr>\n",
       "      <th>25%</th>\n",
       "      <td>0.419877</td>\n",
       "      <td>6.000000</td>\n",
       "      <td>1.000000</td>\n",
       "      <td>0.809524</td>\n",
       "      <td>0.279690</td>\n",
       "      <td>25.000000</td>\n",
       "      <td>14.000000</td>\n",
       "      <td>0.266667</td>\n",
       "      <td>0.538462</td>\n",
       "      <td>13.000000</td>\n",
       "      <td>5.000000</td>\n",
       "      <td>3.000000</td>\n",
       "      <td>2.000000</td>\n",
       "      <td>0.500000</td>\n",
       "      <td>0.625000</td>\n",
       "      <td>0.176471</td>\n",
       "      <td>0.470588</td>\n",
       "      <td>143.000000</td>\n",
       "      <td>200.000000</td>\n",
       "      <td>7.000000</td>\n",
       "      <td>7.000000</td>\n",
       "      <td>14.000000</td>\n",
       "      <td>NaN</td>\n",
       "      <td>0.531542</td>\n",
       "      <td>4.000000</td>\n",
       "      <td>2.000000</td>\n",
       "      <td>0.772727</td>\n",
       "      <td>0.390037</td>\n",
       "      <td>24.000000</td>\n",
       "      <td>16.000000</td>\n",
       "      <td>0.413948</td>\n",
       "      <td>0.769906</td>\n",
       "      <td>8.000000</td>\n",
       "      <td>1.000000</td>\n",
       "      <td>3.000000</td>\n",
       "      <td>0.000000</td>\n",
       "      <td>0.626786</td>\n",
       "      <td>0.827586</td>\n",
       "      <td>0.300110</td>\n",
       "      <td>0.722222</td>\n",
       "      <td>143.000000</td>\n",
       "      <td>197.000000</td>\n",
       "      <td>12.000000</td>\n",
       "      <td>12.000000</td>\n",
       "      <td>13.000000</td>\n",
       "      <td>NaN</td>\n",
       "      <td>0.419877</td>\n",
       "      <td>6.000000</td>\n",
       "      <td>1.000000</td>\n",
       "      <td>0.809524</td>\n",
       "      <td>0.279690</td>\n",
       "      <td>25.000000</td>\n",
       "      <td>14.000000</td>\n",
       "      <td>0.266667</td>\n",
       "      <td>0.538462</td>\n",
       "      <td>13.000000</td>\n",
       "      <td>5.000000</td>\n",
       "      <td>3.000000</td>\n",
       "      <td>2.000000</td>\n",
       "      <td>0.500000</td>\n",
       "      <td>0.625000</td>\n",
       "      <td>0.176471</td>\n",
       "      <td>0.470588</td>\n",
       "      <td>143.000000</td>\n",
       "      <td>200.000000</td>\n",
       "      <td>7.000000</td>\n",
       "      <td>7.000000</td>\n",
       "      <td>14.000000</td>\n",
       "      <td>NaN</td>\n",
       "      <td>2010.000000</td>\n",
       "      <td>1213.000000</td>\n",
       "      <td>0.050000</td>\n",
       "      <td>0.833333</td>\n",
       "      <td>26.000000</td>\n",
       "      <td>2.000000</td>\n",
       "      <td>15.000000</td>\n",
       "      <td>15.0</td>\n",
       "      <td>1.0</td>\n",
       "      <td>1000.0</td>\n",
       "      <td>NaN</td>\n",
       "      <td>NaN</td>\n",
       "      <td>46.000000</td>\n",
       "      <td>10.000000</td>\n",
       "      <td>46.000000</td>\n",
       "      <td>10.000000</td>\n",
       "      <td>53.500000</td>\n",
       "      <td>11.000000</td>\n",
       "    </tr>\n",
       "    <tr>\n",
       "      <th>50%</th>\n",
       "      <td>0.618182</td>\n",
       "      <td>18.000000</td>\n",
       "      <td>2.000000</td>\n",
       "      <td>0.888889</td>\n",
       "      <td>0.500000</td>\n",
       "      <td>66.000000</td>\n",
       "      <td>17.000000</td>\n",
       "      <td>0.352941</td>\n",
       "      <td>0.666667</td>\n",
       "      <td>27.000000</td>\n",
       "      <td>6.000000</td>\n",
       "      <td>6.000000</td>\n",
       "      <td>3.000000</td>\n",
       "      <td>0.642857</td>\n",
       "      <td>0.764706</td>\n",
       "      <td>0.258427</td>\n",
       "      <td>0.611111</td>\n",
       "      <td>180.000000</td>\n",
       "      <td>204.000000</td>\n",
       "      <td>10.000000</td>\n",
       "      <td>10.000000</td>\n",
       "      <td>27.000000</td>\n",
       "      <td>NaN</td>\n",
       "      <td>0.642857</td>\n",
       "      <td>16.000000</td>\n",
       "      <td>3.000000</td>\n",
       "      <td>0.871795</td>\n",
       "      <td>0.567568</td>\n",
       "      <td>64.000000</td>\n",
       "      <td>20.000000</td>\n",
       "      <td>0.528594</td>\n",
       "      <td>0.878049</td>\n",
       "      <td>21.000000</td>\n",
       "      <td>3.000000</td>\n",
       "      <td>5.000000</td>\n",
       "      <td>2.000000</td>\n",
       "      <td>0.764706</td>\n",
       "      <td>0.916667</td>\n",
       "      <td>0.423077</td>\n",
       "      <td>0.850000</td>\n",
       "      <td>180.000000</td>\n",
       "      <td>202.000000</td>\n",
       "      <td>16.000000</td>\n",
       "      <td>16.000000</td>\n",
       "      <td>25.000000</td>\n",
       "      <td>NaN</td>\n",
       "      <td>0.618182</td>\n",
       "      <td>18.000000</td>\n",
       "      <td>2.000000</td>\n",
       "      <td>0.888889</td>\n",
       "      <td>0.500000</td>\n",
       "      <td>66.000000</td>\n",
       "      <td>17.000000</td>\n",
       "      <td>0.352941</td>\n",
       "      <td>0.666667</td>\n",
       "      <td>27.000000</td>\n",
       "      <td>6.000000</td>\n",
       "      <td>6.000000</td>\n",
       "      <td>3.000000</td>\n",
       "      <td>0.642857</td>\n",
       "      <td>0.764706</td>\n",
       "      <td>0.258427</td>\n",
       "      <td>0.611111</td>\n",
       "      <td>180.000000</td>\n",
       "      <td>204.000000</td>\n",
       "      <td>10.000000</td>\n",
       "      <td>10.000000</td>\n",
       "      <td>27.000000</td>\n",
       "      <td>NaN</td>\n",
       "      <td>3595.000000</td>\n",
       "      <td>2434.000000</td>\n",
       "      <td>0.100000</td>\n",
       "      <td>1.000000</td>\n",
       "      <td>36.000000</td>\n",
       "      <td>3.000000</td>\n",
       "      <td>30.000000</td>\n",
       "      <td>15.0</td>\n",
       "      <td>1.0</td>\n",
       "      <td>1000.0</td>\n",
       "      <td>NaN</td>\n",
       "      <td>NaN</td>\n",
       "      <td>84.000000</td>\n",
       "      <td>21.000000</td>\n",
       "      <td>84.000000</td>\n",
       "      <td>21.000000</td>\n",
       "      <td>84.000000</td>\n",
       "      <td>21.000000</td>\n",
       "    </tr>\n",
       "    <tr>\n",
       "      <th>75%</th>\n",
       "      <td>0.765332</td>\n",
       "      <td>57.000000</td>\n",
       "      <td>4.000000</td>\n",
       "      <td>0.952381</td>\n",
       "      <td>0.745968</td>\n",
       "      <td>78.000000</td>\n",
       "      <td>20.000000</td>\n",
       "      <td>0.487805</td>\n",
       "      <td>0.782609</td>\n",
       "      <td>62.000000</td>\n",
       "      <td>9.000000</td>\n",
       "      <td>9.000000</td>\n",
       "      <td>6.000000</td>\n",
       "      <td>0.791667</td>\n",
       "      <td>0.882353</td>\n",
       "      <td>0.420204</td>\n",
       "      <td>0.727273</td>\n",
       "      <td>195.000000</td>\n",
       "      <td>208.000000</td>\n",
       "      <td>13.000000</td>\n",
       "      <td>13.000000</td>\n",
       "      <td>62.000000</td>\n",
       "      <td>NaN</td>\n",
       "      <td>0.772329</td>\n",
       "      <td>48.000000</td>\n",
       "      <td>6.000000</td>\n",
       "      <td>0.928571</td>\n",
       "      <td>0.802778</td>\n",
       "      <td>77.000000</td>\n",
       "      <td>25.000000</td>\n",
       "      <td>0.656716</td>\n",
       "      <td>0.950000</td>\n",
       "      <td>50.000000</td>\n",
       "      <td>5.000000</td>\n",
       "      <td>9.000000</td>\n",
       "      <td>3.000000</td>\n",
       "      <td>0.869565</td>\n",
       "      <td>1.000000</td>\n",
       "      <td>0.653846</td>\n",
       "      <td>0.934409</td>\n",
       "      <td>195.000000</td>\n",
       "      <td>207.000000</td>\n",
       "      <td>22.000000</td>\n",
       "      <td>22.000000</td>\n",
       "      <td>52.000000</td>\n",
       "      <td>NaN</td>\n",
       "      <td>0.765332</td>\n",
       "      <td>57.000000</td>\n",
       "      <td>4.000000</td>\n",
       "      <td>0.952381</td>\n",
       "      <td>0.745968</td>\n",
       "      <td>78.000000</td>\n",
       "      <td>20.000000</td>\n",
       "      <td>0.487805</td>\n",
       "      <td>0.782609</td>\n",
       "      <td>62.000000</td>\n",
       "      <td>9.000000</td>\n",
       "      <td>9.000000</td>\n",
       "      <td>6.000000</td>\n",
       "      <td>0.791667</td>\n",
       "      <td>0.882353</td>\n",
       "      <td>0.420204</td>\n",
       "      <td>0.727273</td>\n",
       "      <td>195.000000</td>\n",
       "      <td>208.000000</td>\n",
       "      <td>13.000000</td>\n",
       "      <td>13.000000</td>\n",
       "      <td>62.000000</td>\n",
       "      <td>NaN</td>\n",
       "      <td>5454.000000</td>\n",
       "      <td>3859.500000</td>\n",
       "      <td>0.250000</td>\n",
       "      <td>1.000000</td>\n",
       "      <td>78.000000</td>\n",
       "      <td>4.000000</td>\n",
       "      <td>50.000000</td>\n",
       "      <td>15.0</td>\n",
       "      <td>1.0</td>\n",
       "      <td>1000.0</td>\n",
       "      <td>NaN</td>\n",
       "      <td>NaN</td>\n",
       "      <td>95.000000</td>\n",
       "      <td>59.000000</td>\n",
       "      <td>95.000000</td>\n",
       "      <td>59.000000</td>\n",
       "      <td>94.000000</td>\n",
       "      <td>51.500000</td>\n",
       "    </tr>\n",
       "    <tr>\n",
       "      <th>max</th>\n",
       "      <td>1.000000</td>\n",
       "      <td>76.000000</td>\n",
       "      <td>26.000000</td>\n",
       "      <td>1.000000</td>\n",
       "      <td>1.000000</td>\n",
       "      <td>97.000000</td>\n",
       "      <td>31.000000</td>\n",
       "      <td>0.962963</td>\n",
       "      <td>1.000000</td>\n",
       "      <td>83.000000</td>\n",
       "      <td>17.000000</td>\n",
       "      <td>31.000000</td>\n",
       "      <td>16.000000</td>\n",
       "      <td>1.000000</td>\n",
       "      <td>1.000000</td>\n",
       "      <td>0.928571</td>\n",
       "      <td>1.000000</td>\n",
       "      <td>217.000000</td>\n",
       "      <td>218.000000</td>\n",
       "      <td>25.000000</td>\n",
       "      <td>25.000000</td>\n",
       "      <td>80.000000</td>\n",
       "      <td>NaN</td>\n",
       "      <td>1.000000</td>\n",
       "      <td>73.000000</td>\n",
       "      <td>35.000000</td>\n",
       "      <td>1.000000</td>\n",
       "      <td>1.000000</td>\n",
       "      <td>97.000000</td>\n",
       "      <td>41.000000</td>\n",
       "      <td>1.000000</td>\n",
       "      <td>1.000000</td>\n",
       "      <td>80.000000</td>\n",
       "      <td>14.000000</td>\n",
       "      <td>34.000000</td>\n",
       "      <td>11.000000</td>\n",
       "      <td>1.000000</td>\n",
       "      <td>1.000000</td>\n",
       "      <td>1.000000</td>\n",
       "      <td>1.000000</td>\n",
       "      <td>217.000000</td>\n",
       "      <td>218.000000</td>\n",
       "      <td>40.000000</td>\n",
       "      <td>40.000000</td>\n",
       "      <td>78.000000</td>\n",
       "      <td>NaN</td>\n",
       "      <td>1.000000</td>\n",
       "      <td>76.000000</td>\n",
       "      <td>26.000000</td>\n",
       "      <td>1.000000</td>\n",
       "      <td>1.000000</td>\n",
       "      <td>97.000000</td>\n",
       "      <td>31.000000</td>\n",
       "      <td>0.962963</td>\n",
       "      <td>1.000000</td>\n",
       "      <td>83.000000</td>\n",
       "      <td>17.000000</td>\n",
       "      <td>31.000000</td>\n",
       "      <td>16.000000</td>\n",
       "      <td>1.000000</td>\n",
       "      <td>1.000000</td>\n",
       "      <td>0.928571</td>\n",
       "      <td>1.000000</td>\n",
       "      <td>217.000000</td>\n",
       "      <td>218.000000</td>\n",
       "      <td>25.000000</td>\n",
       "      <td>25.000000</td>\n",
       "      <td>80.000000</td>\n",
       "      <td>NaN</td>\n",
       "      <td>55246.000000</td>\n",
       "      <td>56802.000000</td>\n",
       "      <td>0.500000</td>\n",
       "      <td>1.000000</td>\n",
       "      <td>89.000000</td>\n",
       "      <td>5.000000</td>\n",
       "      <td>50.000000</td>\n",
       "      <td>15.0</td>\n",
       "      <td>1.0</td>\n",
       "      <td>1000.0</td>\n",
       "      <td>NaN</td>\n",
       "      <td>NaN</td>\n",
       "      <td>105.000000</td>\n",
       "      <td>78.000000</td>\n",
       "      <td>105.000000</td>\n",
       "      <td>78.000000</td>\n",
       "      <td>105.000000</td>\n",
       "      <td>76.000000</td>\n",
       "    </tr>\n",
       "  </tbody>\n",
       "</table>\n",
       "</div>"
      ],
      "text/plain": [
       "       base_adj_f1_score  base_adj_false_negative  base_adj_false_positive  \\\n",
       "count         675.000000               675.000000               675.000000   \n",
       "mean            0.607267                27.814815                 2.965926   \n",
       "std             0.198816                24.985926                 3.313540   \n",
       "min             0.187500                 0.000000                 0.000000   \n",
       "25%             0.419877                 6.000000                 1.000000   \n",
       "50%             0.618182                18.000000                 2.000000   \n",
       "75%             0.765332                57.000000                 4.000000   \n",
       "max             1.000000                76.000000                26.000000   \n",
       "\n",
       "       base_adj_precision  base_adj_recall  base_adj_true_negative  \\\n",
       "count          675.000000       675.000000              675.000000   \n",
       "mean             0.865765         0.527168               56.921481   \n",
       "std              0.125524         0.261653               26.470824   \n",
       "min              0.291667         0.105882               11.000000   \n",
       "25%              0.809524         0.279690               25.000000   \n",
       "50%              0.888889         0.500000               66.000000   \n",
       "75%              0.952381         0.745968               78.000000   \n",
       "max              1.000000         1.000000               97.000000   \n",
       "\n",
       "       base_adj_true_positive  base_arrow_f1_score  base_arrow_f1_score_ce  \\\n",
       "count              675.000000           674.000000              674.000000   \n",
       "mean                17.297778             0.385408                0.654480   \n",
       "std                  4.020191             0.168134                0.167585   \n",
       "min                  7.000000             0.044444                0.133333   \n",
       "25%                 14.000000             0.266667                0.538462   \n",
       "50%                 17.000000             0.352941                0.666667   \n",
       "75%                 20.000000             0.487805                0.782609   \n",
       "max                 31.000000             0.962963                1.000000   \n",
       "\n",
       "       base_arrow_false_negative  base_arrow_false_negative_ce  \\\n",
       "count                 675.000000                    675.000000   \n",
       "mean                   34.557037                      6.742222   \n",
       "std                    24.855205                      2.888416   \n",
       "min                     1.000000                      0.000000   \n",
       "25%                    13.000000                      5.000000   \n",
       "50%                    27.000000                      6.000000   \n",
       "75%                    62.000000                      9.000000   \n",
       "max                    83.000000                     17.000000   \n",
       "\n",
       "       base_arrow_false_positive  base_arrow_false_positive_ce  \\\n",
       "count                 675.000000                    675.000000   \n",
       "mean                    6.468148                      3.798519   \n",
       "std                     4.561818                      2.867137   \n",
       "min                     0.000000                      0.000000   \n",
       "25%                     3.000000                      2.000000   \n",
       "50%                     6.000000                      3.000000   \n",
       "75%                     9.000000                      6.000000   \n",
       "max                    31.000000                     16.000000   \n",
       "\n",
       "       base_arrow_precision  base_arrow_precision_ce  base_arrow_recall  \\\n",
       "count            675.000000               675.000000         675.000000   \n",
       "mean               0.638856                 0.737861           0.307679   \n",
       "std                0.204371                 0.184673           0.179103   \n",
       "min                0.000000                 0.000000           0.000000   \n",
       "25%                0.500000                 0.625000           0.176471   \n",
       "50%                0.642857                 0.764706           0.258427   \n",
       "75%                0.791667                 0.882353           0.420204   \n",
       "max                1.000000                 1.000000           0.928571   \n",
       "\n",
       "       base_arrow_recall_ce  base_arrow_true_negative  \\\n",
       "count            675.000000                675.000000   \n",
       "mean               0.596464                173.419259   \n",
       "std                0.172719                 26.823534   \n",
       "min                0.000000                127.000000   \n",
       "25%                0.470588                143.000000   \n",
       "50%                0.611111                180.000000   \n",
       "75%                0.727273                195.000000   \n",
       "max                1.000000                217.000000   \n",
       "\n",
       "       base_arrow_true_negative_ce  base_arrow_true_positive  \\\n",
       "count                   675.000000                675.000000   \n",
       "mean                    203.903704                 10.555556   \n",
       "std                       5.641982                  4.542360   \n",
       "min                     187.000000                  0.000000   \n",
       "25%                     200.000000                  7.000000   \n",
       "50%                     204.000000                 10.000000   \n",
       "75%                     208.000000                 13.000000   \n",
       "max                     218.000000                 25.000000   \n",
       "\n",
       "       base_arrow_true_positive_ce  base_base_shd  base_sid_lower  \\\n",
       "count                   675.000000     675.000000             0.0   \n",
       "mean                     10.555556      34.579259             NaN   \n",
       "std                       4.542360      24.637927             NaN   \n",
       "min                       0.000000       0.000000             NaN   \n",
       "25%                       7.000000      14.000000             NaN   \n",
       "50%                      10.000000      27.000000             NaN   \n",
       "75%                      13.000000      62.000000             NaN   \n",
       "max                      25.000000      80.000000             NaN   \n",
       "\n",
       "       cluster_adj_f1_score  cluster_adj_false_negative  \\\n",
       "count            675.000000                  675.000000   \n",
       "mean               0.649075                   24.250370   \n",
       "std                0.162972                   22.348092   \n",
       "min                0.254902                    0.000000   \n",
       "25%                0.531542                    4.000000   \n",
       "50%                0.642857                   16.000000   \n",
       "75%                0.772329                   48.000000   \n",
       "max                1.000000                   73.000000   \n",
       "\n",
       "       cluster_adj_false_positive  cluster_adj_precision  cluster_adj_recall  \\\n",
       "count                  675.000000             675.000000          675.000000   \n",
       "mean                     4.512593               0.834246            0.590966   \n",
       "std                      4.520091               0.141842            0.238174   \n",
       "min                      0.000000               0.285714            0.151163   \n",
       "25%                      2.000000               0.772727            0.390037   \n",
       "50%                      3.000000               0.871795            0.567568   \n",
       "75%                      6.000000               0.928571            0.802778   \n",
       "max                     35.000000               1.000000            1.000000   \n",
       "\n",
       "       cluster_adj_true_negative  cluster_adj_true_positive  \\\n",
       "count                 675.000000                 675.000000   \n",
       "mean                   55.374815                  20.862222   \n",
       "std                    26.288520                   6.841376   \n",
       "min                    10.000000                   7.000000   \n",
       "25%                    24.000000                  16.000000   \n",
       "50%                    64.000000                  20.000000   \n",
       "75%                    77.000000                  25.000000   \n",
       "max                    97.000000                  41.000000   \n",
       "\n",
       "       cluster_arrow_f1_score  cluster_arrow_f1_score_ce  \\\n",
       "count              674.000000                 674.000000   \n",
       "mean                 0.545580                   0.839087   \n",
       "std                  0.185605                   0.149962   \n",
       "min                  0.100000                   0.133333   \n",
       "25%                  0.413948                   0.769906   \n",
       "50%                  0.528594                   0.878049   \n",
       "75%                  0.656716                   0.950000   \n",
       "max                  1.000000                   1.000000   \n",
       "\n",
       "       cluster_arrow_false_negative  cluster_arrow_false_negative_ce  \\\n",
       "count                    675.000000                       675.000000   \n",
       "mean                      27.912593                         3.662222   \n",
       "std                       22.824314                         2.966926   \n",
       "min                        0.000000                         0.000000   \n",
       "25%                        8.000000                         1.000000   \n",
       "50%                       21.000000                         3.000000   \n",
       "75%                       50.000000                         5.000000   \n",
       "max                       80.000000                        14.000000   \n",
       "\n",
       "       cluster_arrow_false_positive  cluster_arrow_false_positive_ce  \\\n",
       "count                    675.000000                       675.000000   \n",
       "mean                       6.324444                         2.146667   \n",
       "std                        4.985728                         2.214224   \n",
       "min                        0.000000                         0.000000   \n",
       "25%                        3.000000                         0.000000   \n",
       "50%                        5.000000                         2.000000   \n",
       "75%                        9.000000                         3.000000   \n",
       "max                       34.000000                        11.000000   \n",
       "\n",
       "       cluster_arrow_precision  cluster_arrow_precision_ce  \\\n",
       "count               675.000000                  675.000000   \n",
       "mean                  0.735194                    0.876950   \n",
       "std                   0.181077                    0.141223   \n",
       "min                   0.000000                    0.000000   \n",
       "25%                   0.626786                    0.827586   \n",
       "50%                   0.764706                    0.916667   \n",
       "75%                   0.869565                    1.000000   \n",
       "max                   1.000000                    1.000000   \n",
       "\n",
       "       cluster_arrow_recall  cluster_arrow_recall_ce  \\\n",
       "count            675.000000               675.000000   \n",
       "mean               0.481199                 0.808003   \n",
       "std                0.232484                 0.170613   \n",
       "min                0.000000                 0.000000   \n",
       "25%                0.300110                 0.722222   \n",
       "50%                0.423077                 0.850000   \n",
       "75%                0.653846                 0.934409   \n",
       "max                1.000000                 1.000000   \n",
       "\n",
       "       cluster_arrow_true_negative  cluster_arrow_true_negative_ce  \\\n",
       "count                   675.000000                      675.000000   \n",
       "mean                    173.562963                      201.991111   \n",
       "std                      26.709562                        7.295780   \n",
       "min                     127.000000                      181.000000   \n",
       "25%                     143.000000                      197.000000   \n",
       "50%                     180.000000                      202.000000   \n",
       "75%                     195.000000                      207.000000   \n",
       "max                     217.000000                      218.000000   \n",
       "\n",
       "       cluster_arrow_true_positive  cluster_arrow_true_positive_ce  \\\n",
       "count                   675.000000                      675.000000   \n",
       "mean                     17.200000                       17.200000   \n",
       "std                       7.574555                        7.574555   \n",
       "min                       0.000000                        0.000000   \n",
       "25%                      12.000000                       12.000000   \n",
       "50%                      16.000000                       16.000000   \n",
       "75%                      22.000000                       22.000000   \n",
       "max                      40.000000                       40.000000   \n",
       "\n",
       "       cluster_cluster_shd  cluster_sid_lower  pruned_base_adj_f1_score  \\\n",
       "count           675.000000                0.0                675.000000   \n",
       "mean             30.909630                NaN                  0.607267   \n",
       "std              21.969749                NaN                  0.198816   \n",
       "min               0.000000                NaN                  0.187500   \n",
       "25%              13.000000                NaN                  0.419877   \n",
       "50%              25.000000                NaN                  0.618182   \n",
       "75%              52.000000                NaN                  0.765332   \n",
       "max              78.000000                NaN                  1.000000   \n",
       "\n",
       "       pruned_base_adj_false_negative  pruned_base_adj_false_positive  \\\n",
       "count                      675.000000                      675.000000   \n",
       "mean                        27.814815                        2.965926   \n",
       "std                         24.985926                        3.313540   \n",
       "min                          0.000000                        0.000000   \n",
       "25%                          6.000000                        1.000000   \n",
       "50%                         18.000000                        2.000000   \n",
       "75%                         57.000000                        4.000000   \n",
       "max                         76.000000                       26.000000   \n",
       "\n",
       "       pruned_base_adj_precision  pruned_base_adj_recall  \\\n",
       "count                 675.000000              675.000000   \n",
       "mean                    0.865765                0.527168   \n",
       "std                     0.125524                0.261653   \n",
       "min                     0.291667                0.105882   \n",
       "25%                     0.809524                0.279690   \n",
       "50%                     0.888889                0.500000   \n",
       "75%                     0.952381                0.745968   \n",
       "max                     1.000000                1.000000   \n",
       "\n",
       "       pruned_base_adj_true_negative  pruned_base_adj_true_positive  \\\n",
       "count                     675.000000                     675.000000   \n",
       "mean                       56.921481                      17.297778   \n",
       "std                        26.470824                       4.020191   \n",
       "min                        11.000000                       7.000000   \n",
       "25%                        25.000000                      14.000000   \n",
       "50%                        66.000000                      17.000000   \n",
       "75%                        78.000000                      20.000000   \n",
       "max                        97.000000                      31.000000   \n",
       "\n",
       "       pruned_base_arrow_f1_score  pruned_base_arrow_f1_score_ce  \\\n",
       "count                  674.000000                     674.000000   \n",
       "mean                     0.385408                       0.654480   \n",
       "std                      0.168134                       0.167585   \n",
       "min                      0.044444                       0.133333   \n",
       "25%                      0.266667                       0.538462   \n",
       "50%                      0.352941                       0.666667   \n",
       "75%                      0.487805                       0.782609   \n",
       "max                      0.962963                       1.000000   \n",
       "\n",
       "       pruned_base_arrow_false_negative  pruned_base_arrow_false_negative_ce  \\\n",
       "count                        675.000000                           675.000000   \n",
       "mean                          34.557037                             6.742222   \n",
       "std                           24.855205                             2.888416   \n",
       "min                            1.000000                             0.000000   \n",
       "25%                           13.000000                             5.000000   \n",
       "50%                           27.000000                             6.000000   \n",
       "75%                           62.000000                             9.000000   \n",
       "max                           83.000000                            17.000000   \n",
       "\n",
       "       pruned_base_arrow_false_positive  pruned_base_arrow_false_positive_ce  \\\n",
       "count                        675.000000                           675.000000   \n",
       "mean                           6.468148                             3.798519   \n",
       "std                            4.561818                             2.867137   \n",
       "min                            0.000000                             0.000000   \n",
       "25%                            3.000000                             2.000000   \n",
       "50%                            6.000000                             3.000000   \n",
       "75%                            9.000000                             6.000000   \n",
       "max                           31.000000                            16.000000   \n",
       "\n",
       "       pruned_base_arrow_precision  pruned_base_arrow_precision_ce  \\\n",
       "count                   675.000000                      675.000000   \n",
       "mean                      0.638856                        0.737861   \n",
       "std                       0.204371                        0.184673   \n",
       "min                       0.000000                        0.000000   \n",
       "25%                       0.500000                        0.625000   \n",
       "50%                       0.642857                        0.764706   \n",
       "75%                       0.791667                        0.882353   \n",
       "max                       1.000000                        1.000000   \n",
       "\n",
       "       pruned_base_arrow_recall  pruned_base_arrow_recall_ce  \\\n",
       "count                675.000000                   675.000000   \n",
       "mean                   0.307679                     0.596464   \n",
       "std                    0.179103                     0.172719   \n",
       "min                    0.000000                     0.000000   \n",
       "25%                    0.176471                     0.470588   \n",
       "50%                    0.258427                     0.611111   \n",
       "75%                    0.420204                     0.727273   \n",
       "max                    0.928571                     1.000000   \n",
       "\n",
       "       pruned_base_arrow_true_negative  pruned_base_arrow_true_negative_ce  \\\n",
       "count                       675.000000                          675.000000   \n",
       "mean                        173.419259                          203.903704   \n",
       "std                          26.823534                            5.641982   \n",
       "min                         127.000000                          187.000000   \n",
       "25%                         143.000000                          200.000000   \n",
       "50%                         180.000000                          204.000000   \n",
       "75%                         195.000000                          208.000000   \n",
       "max                         217.000000                          218.000000   \n",
       "\n",
       "       pruned_base_arrow_true_positive  pruned_base_arrow_true_positive_ce  \\\n",
       "count                       675.000000                          675.000000   \n",
       "mean                         10.555556                           10.555556   \n",
       "std                           4.542360                            4.542360   \n",
       "min                           0.000000                            0.000000   \n",
       "25%                           7.000000                            7.000000   \n",
       "50%                          10.000000                           10.000000   \n",
       "75%                          13.000000                           13.000000   \n",
       "max                          25.000000                           25.000000   \n",
       "\n",
       "       pruned_base_pruned_base_shd  pruned_base_sid_lower  Base indep tests  \\\n",
       "count                   675.000000                    0.0        675.000000   \n",
       "mean                     34.579259                    NaN       4104.645926   \n",
       "std                      24.637927                    NaN       3360.394616   \n",
       "min                       0.000000                    NaN        262.000000   \n",
       "25%                      14.000000                    NaN       2010.000000   \n",
       "50%                      27.000000                    NaN       3595.000000   \n",
       "75%                      62.000000                    NaN       5454.000000   \n",
       "max                      80.000000                    NaN      55246.000000   \n",
       "\n",
       "       C-PC indep tests       alpha  cluster_connectivity  empty_graph_shd  \\\n",
       "count        675.000000  675.000000            540.000000       675.000000   \n",
       "mean        2886.837037    0.182000              0.890432        45.112593   \n",
       "std         2970.030773    0.178727              0.168863        27.032277   \n",
       "min          113.000000    0.010000              0.333333         7.000000   \n",
       "25%         1213.000000    0.050000              0.833333        26.000000   \n",
       "50%         2434.000000    0.100000              1.000000        36.000000   \n",
       "75%         3859.500000    0.250000              1.000000        78.000000   \n",
       "max        56802.000000    0.500000              1.000000        89.000000   \n",
       "\n",
       "       n_clusters     n_edges  n_nodes  noise_scale  sample_size  \\\n",
       "count  675.000000  675.000000    675.0        675.0        675.0   \n",
       "mean     3.000000   31.666667     15.0          1.0       1000.0   \n",
       "std      1.415262   14.347841      0.0          0.0          0.0   \n",
       "min      1.000000   15.000000     15.0          1.0       1000.0   \n",
       "25%      2.000000   15.000000     15.0          1.0       1000.0   \n",
       "50%      3.000000   30.000000     15.0          1.0       1000.0   \n",
       "75%      4.000000   50.000000     15.0          1.0       1000.0   \n",
       "max      5.000000   50.000000     15.0          1.0       1000.0   \n",
       "\n",
       "       true_sid_lower  true_sid_upper  base_total_true  base_total_false  \\\n",
       "count             0.0             0.0       675.000000        675.000000   \n",
       "mean              NaN             NaN        74.219259         30.780741   \n",
       "std               NaN             NaN        24.473311         24.473311   \n",
       "min               NaN             NaN        27.000000          0.000000   \n",
       "25%               NaN             NaN        46.000000         10.000000   \n",
       "50%               NaN             NaN        84.000000         21.000000   \n",
       "75%               NaN             NaN        95.000000         59.000000   \n",
       "max               NaN             NaN       105.000000         78.000000   \n",
       "\n",
       "       pruned_base_total_true  pruned_base_total_false  cluster_total_true  \\\n",
       "count              675.000000               675.000000          675.000000   \n",
       "mean                74.219259                30.780741           76.237037   \n",
       "std                 24.473311                24.473311           21.583599   \n",
       "min                 27.000000                 0.000000           29.000000   \n",
       "25%                 46.000000                10.000000           53.500000   \n",
       "50%                 84.000000                21.000000           84.000000   \n",
       "75%                 95.000000                59.000000           94.000000   \n",
       "max                105.000000                78.000000          105.000000   \n",
       "\n",
       "       cluster_total_false  \n",
       "count           675.000000  \n",
       "mean             28.762963  \n",
       "std              21.583599  \n",
       "min               0.000000  \n",
       "25%              11.000000  \n",
       "50%              21.000000  \n",
       "75%              51.500000  \n",
       "max              76.000000  "
      ]
     },
     "execution_count": 30,
     "metadata": {},
     "output_type": "execute_result"
    }
   ],
   "source": [
    "data.describe()"
   ]
  },
  {
   "cell_type": "markdown",
   "metadata": {},
   "source": [
    "The precision of C-PC is slightly lower, but the recall is higher. In total C-PC has a higher F1 score."
   ]
  },
  {
   "cell_type": "code",
   "execution_count": 55,
   "metadata": {},
   "outputs": [
    {
     "data": {
      "text/html": [
       "<div>\n",
       "<style scoped>\n",
       "    .dataframe tbody tr th:only-of-type {\n",
       "        vertical-align: middle;\n",
       "    }\n",
       "\n",
       "    .dataframe tbody tr th {\n",
       "        vertical-align: top;\n",
       "    }\n",
       "\n",
       "    .dataframe thead th {\n",
       "        text-align: right;\n",
       "    }\n",
       "</style>\n",
       "<table border=\"1\" class=\"dataframe\">\n",
       "  <thead>\n",
       "    <tr style=\"text-align: right;\">\n",
       "      <th></th>\n",
       "      <th>base_adj_precision</th>\n",
       "      <th>cluster_adj_precision</th>\n",
       "      <th>base_adj_recall</th>\n",
       "      <th>cluster_adj_recall</th>\n",
       "      <th>base_adj_f1_score</th>\n",
       "      <th>cluster_adj_f1_score</th>\n",
       "    </tr>\n",
       "  </thead>\n",
       "  <tbody>\n",
       "    <tr>\n",
       "      <th>count</th>\n",
       "      <td>675.000000</td>\n",
       "      <td>675.000000</td>\n",
       "      <td>675.000000</td>\n",
       "      <td>675.000000</td>\n",
       "      <td>675.000000</td>\n",
       "      <td>675.000000</td>\n",
       "    </tr>\n",
       "    <tr>\n",
       "      <th>mean</th>\n",
       "      <td>0.865765</td>\n",
       "      <td>0.834246</td>\n",
       "      <td>0.527168</td>\n",
       "      <td>0.590966</td>\n",
       "      <td>0.607267</td>\n",
       "      <td>0.649075</td>\n",
       "    </tr>\n",
       "    <tr>\n",
       "      <th>std</th>\n",
       "      <td>0.125524</td>\n",
       "      <td>0.141842</td>\n",
       "      <td>0.261653</td>\n",
       "      <td>0.238174</td>\n",
       "      <td>0.198816</td>\n",
       "      <td>0.162972</td>\n",
       "    </tr>\n",
       "    <tr>\n",
       "      <th>min</th>\n",
       "      <td>0.291667</td>\n",
       "      <td>0.285714</td>\n",
       "      <td>0.105882</td>\n",
       "      <td>0.151163</td>\n",
       "      <td>0.187500</td>\n",
       "      <td>0.254902</td>\n",
       "    </tr>\n",
       "    <tr>\n",
       "      <th>25%</th>\n",
       "      <td>0.809524</td>\n",
       "      <td>0.772727</td>\n",
       "      <td>0.279690</td>\n",
       "      <td>0.390037</td>\n",
       "      <td>0.419877</td>\n",
       "      <td>0.531542</td>\n",
       "    </tr>\n",
       "    <tr>\n",
       "      <th>50%</th>\n",
       "      <td>0.888889</td>\n",
       "      <td>0.871795</td>\n",
       "      <td>0.500000</td>\n",
       "      <td>0.567568</td>\n",
       "      <td>0.618182</td>\n",
       "      <td>0.642857</td>\n",
       "    </tr>\n",
       "    <tr>\n",
       "      <th>75%</th>\n",
       "      <td>0.952381</td>\n",
       "      <td>0.928571</td>\n",
       "      <td>0.745968</td>\n",
       "      <td>0.802778</td>\n",
       "      <td>0.765332</td>\n",
       "      <td>0.772329</td>\n",
       "    </tr>\n",
       "    <tr>\n",
       "      <th>max</th>\n",
       "      <td>1.000000</td>\n",
       "      <td>1.000000</td>\n",
       "      <td>1.000000</td>\n",
       "      <td>1.000000</td>\n",
       "      <td>1.000000</td>\n",
       "      <td>1.000000</td>\n",
       "    </tr>\n",
       "  </tbody>\n",
       "</table>\n",
       "</div>"
      ],
      "text/plain": [
       "       base_adj_precision  cluster_adj_precision  base_adj_recall  \\\n",
       "count          675.000000             675.000000       675.000000   \n",
       "mean             0.865765               0.834246         0.527168   \n",
       "std              0.125524               0.141842         0.261653   \n",
       "min              0.291667               0.285714         0.105882   \n",
       "25%              0.809524               0.772727         0.279690   \n",
       "50%              0.888889               0.871795         0.500000   \n",
       "75%              0.952381               0.928571         0.745968   \n",
       "max              1.000000               1.000000         1.000000   \n",
       "\n",
       "       cluster_adj_recall  base_adj_f1_score  cluster_adj_f1_score  \n",
       "count          675.000000         675.000000            675.000000  \n",
       "mean             0.590966           0.607267              0.649075  \n",
       "std              0.238174           0.198816              0.162972  \n",
       "min              0.151163           0.187500              0.254902  \n",
       "25%              0.390037           0.419877              0.531542  \n",
       "50%              0.567568           0.618182              0.642857  \n",
       "75%              0.802778           0.765332              0.772329  \n",
       "max              1.000000           1.000000              1.000000  "
      ]
     },
     "execution_count": 55,
     "metadata": {},
     "output_type": "execute_result"
    }
   ],
   "source": [
    "prec_recall_metrics_with_pruned = ['base_adj_precision', 'pruned_base_adj_precision', 'cluster_adj_precision', \\\n",
    "           'base_adj_recall', 'pruned_base_adj_recall','cluster_adj_recall', \\\n",
    "           'base_adj_f1_score', 'pruned_base_adj_f1_score', 'cluster_adj_f1_score']\n",
    "prec_recall_metrics = ['base_adj_precision', 'cluster_adj_precision', \\\n",
    "              'base_adj_recall', 'cluster_adj_recall', \\\n",
    "                'base_adj_f1_score', 'cluster_adj_f1_score']\n",
    "data[prec_recall_metrics].describe()"
   ]
  },
  {
   "cell_type": "markdown",
   "metadata": {},
   "source": [
    "C-PC has slightly lower true negative and higher true positive. Positive is defined as an edge that is present in the true graph. "
   ]
  },
  {
   "cell_type": "code",
   "execution_count": 75,
   "metadata": {},
   "outputs": [
    {
     "data": {
      "text/html": [
       "<div>\n",
       "<style scoped>\n",
       "    .dataframe tbody tr th:only-of-type {\n",
       "        vertical-align: middle;\n",
       "    }\n",
       "\n",
       "    .dataframe tbody tr th {\n",
       "        vertical-align: top;\n",
       "    }\n",
       "\n",
       "    .dataframe thead th {\n",
       "        text-align: right;\n",
       "    }\n",
       "</style>\n",
       "<table border=\"1\" class=\"dataframe\">\n",
       "  <thead>\n",
       "    <tr style=\"text-align: right;\">\n",
       "      <th></th>\n",
       "      <th>base_adj_false_negative</th>\n",
       "      <th>cluster_adj_false_negative</th>\n",
       "      <th>base_adj_false_positive</th>\n",
       "      <th>cluster_adj_false_positive</th>\n",
       "      <th>base_adj_true_negative</th>\n",
       "      <th>cluster_adj_true_negative</th>\n",
       "      <th>base_adj_true_positive</th>\n",
       "      <th>cluster_adj_true_positive</th>\n",
       "    </tr>\n",
       "  </thead>\n",
       "  <tbody>\n",
       "    <tr>\n",
       "      <th>count</th>\n",
       "      <td>675.000000</td>\n",
       "      <td>675.000000</td>\n",
       "      <td>675.000000</td>\n",
       "      <td>675.000000</td>\n",
       "      <td>675.000000</td>\n",
       "      <td>675.000000</td>\n",
       "      <td>675.000000</td>\n",
       "      <td>675.000000</td>\n",
       "    </tr>\n",
       "    <tr>\n",
       "      <th>mean</th>\n",
       "      <td>27.814815</td>\n",
       "      <td>24.250370</td>\n",
       "      <td>2.965926</td>\n",
       "      <td>4.512593</td>\n",
       "      <td>56.921481</td>\n",
       "      <td>55.374815</td>\n",
       "      <td>17.297778</td>\n",
       "      <td>20.862222</td>\n",
       "    </tr>\n",
       "    <tr>\n",
       "      <th>std</th>\n",
       "      <td>24.985926</td>\n",
       "      <td>22.348092</td>\n",
       "      <td>3.313540</td>\n",
       "      <td>4.520091</td>\n",
       "      <td>26.470824</td>\n",
       "      <td>26.288520</td>\n",
       "      <td>4.020191</td>\n",
       "      <td>6.841376</td>\n",
       "    </tr>\n",
       "    <tr>\n",
       "      <th>min</th>\n",
       "      <td>0.000000</td>\n",
       "      <td>0.000000</td>\n",
       "      <td>0.000000</td>\n",
       "      <td>0.000000</td>\n",
       "      <td>11.000000</td>\n",
       "      <td>10.000000</td>\n",
       "      <td>7.000000</td>\n",
       "      <td>7.000000</td>\n",
       "    </tr>\n",
       "    <tr>\n",
       "      <th>25%</th>\n",
       "      <td>6.000000</td>\n",
       "      <td>4.000000</td>\n",
       "      <td>1.000000</td>\n",
       "      <td>2.000000</td>\n",
       "      <td>25.000000</td>\n",
       "      <td>24.000000</td>\n",
       "      <td>14.000000</td>\n",
       "      <td>16.000000</td>\n",
       "    </tr>\n",
       "    <tr>\n",
       "      <th>50%</th>\n",
       "      <td>18.000000</td>\n",
       "      <td>16.000000</td>\n",
       "      <td>2.000000</td>\n",
       "      <td>3.000000</td>\n",
       "      <td>66.000000</td>\n",
       "      <td>64.000000</td>\n",
       "      <td>17.000000</td>\n",
       "      <td>20.000000</td>\n",
       "    </tr>\n",
       "    <tr>\n",
       "      <th>75%</th>\n",
       "      <td>57.000000</td>\n",
       "      <td>48.000000</td>\n",
       "      <td>4.000000</td>\n",
       "      <td>6.000000</td>\n",
       "      <td>78.000000</td>\n",
       "      <td>77.000000</td>\n",
       "      <td>20.000000</td>\n",
       "      <td>25.000000</td>\n",
       "    </tr>\n",
       "    <tr>\n",
       "      <th>max</th>\n",
       "      <td>76.000000</td>\n",
       "      <td>73.000000</td>\n",
       "      <td>26.000000</td>\n",
       "      <td>35.000000</td>\n",
       "      <td>97.000000</td>\n",
       "      <td>97.000000</td>\n",
       "      <td>31.000000</td>\n",
       "      <td>41.000000</td>\n",
       "    </tr>\n",
       "  </tbody>\n",
       "</table>\n",
       "</div>"
      ],
      "text/plain": [
       "       base_adj_false_negative  cluster_adj_false_negative  \\\n",
       "count               675.000000                  675.000000   \n",
       "mean                 27.814815                   24.250370   \n",
       "std                  24.985926                   22.348092   \n",
       "min                   0.000000                    0.000000   \n",
       "25%                   6.000000                    4.000000   \n",
       "50%                  18.000000                   16.000000   \n",
       "75%                  57.000000                   48.000000   \n",
       "max                  76.000000                   73.000000   \n",
       "\n",
       "       base_adj_false_positive  cluster_adj_false_positive  \\\n",
       "count               675.000000                  675.000000   \n",
       "mean                  2.965926                    4.512593   \n",
       "std                   3.313540                    4.520091   \n",
       "min                   0.000000                    0.000000   \n",
       "25%                   1.000000                    2.000000   \n",
       "50%                   2.000000                    3.000000   \n",
       "75%                   4.000000                    6.000000   \n",
       "max                  26.000000                   35.000000   \n",
       "\n",
       "       base_adj_true_negative  cluster_adj_true_negative  \\\n",
       "count              675.000000                 675.000000   \n",
       "mean                56.921481                  55.374815   \n",
       "std                 26.470824                  26.288520   \n",
       "min                 11.000000                  10.000000   \n",
       "25%                 25.000000                  24.000000   \n",
       "50%                 66.000000                  64.000000   \n",
       "75%                 78.000000                  77.000000   \n",
       "max                 97.000000                  97.000000   \n",
       "\n",
       "       base_adj_true_positive  cluster_adj_true_positive  \n",
       "count              675.000000                 675.000000  \n",
       "mean                17.297778                  20.862222  \n",
       "std                  4.020191                   6.841376  \n",
       "min                  7.000000                   7.000000  \n",
       "25%                 14.000000                  16.000000  \n",
       "50%                 17.000000                  20.000000  \n",
       "75%                 20.000000                  25.000000  \n",
       "max                 31.000000                  41.000000  "
      ]
     },
     "execution_count": 75,
     "metadata": {},
     "output_type": "execute_result"
    }
   ],
   "source": [
    "count_metrics_with_pruned = ['base_adj_false_negative', 'pruned_base_adj_false_negative', 'cluster_adj_false_negative', \\\n",
    "                 'base_adj_false_positive', 'pruned_base_adj_false_positive','cluster_adj_false_positive', \\\n",
    "                    'base_adj_true_negative', 'pruned_base_adj_true_negative', 'cluster_adj_true_negative', \\\n",
    "                        'base_adj_true_positive', 'pruned_base_adj_true_positive', 'cluster_adj_true_positive']\n",
    "count_metrics = ['base_adj_false_negative', 'cluster_adj_false_negative', \\\n",
    "                    'base_adj_false_positive','cluster_adj_false_positive', \\\n",
    "                        'base_adj_true_negative', 'cluster_adj_true_negative', \\\n",
    "                            'base_adj_true_positive', 'cluster_adj_true_positive']\n",
    "data[count_metrics].describe()"
   ]
  },
  {
   "cell_type": "markdown",
   "metadata": {},
   "source": [
    "Calculating the total of correctly identified edges ratio: $TCIE = \\frac{TP + TN}{TP + TN + FP + FN}$. \n",
    "\n",
    "In total C-PC has slightly higher TCIE. "
   ]
  },
  {
   "cell_type": "code",
   "execution_count": 80,
   "metadata": {},
   "outputs": [
    {
     "data": {
      "text/html": [
       "<div>\n",
       "<style scoped>\n",
       "    .dataframe tbody tr th:only-of-type {\n",
       "        vertical-align: middle;\n",
       "    }\n",
       "\n",
       "    .dataframe tbody tr th {\n",
       "        vertical-align: top;\n",
       "    }\n",
       "\n",
       "    .dataframe thead th {\n",
       "        text-align: right;\n",
       "    }\n",
       "</style>\n",
       "<table border=\"1\" class=\"dataframe\">\n",
       "  <thead>\n",
       "    <tr style=\"text-align: right;\">\n",
       "      <th></th>\n",
       "      <th>base_TCIE</th>\n",
       "      <th>cluster_TCIE</th>\n",
       "    </tr>\n",
       "  </thead>\n",
       "  <tbody>\n",
       "    <tr>\n",
       "      <th>count</th>\n",
       "      <td>675.000000</td>\n",
       "      <td>675.000000</td>\n",
       "    </tr>\n",
       "    <tr>\n",
       "      <th>mean</th>\n",
       "      <td>0.706850</td>\n",
       "      <td>0.726067</td>\n",
       "    </tr>\n",
       "    <tr>\n",
       "      <th>std</th>\n",
       "      <td>0.233079</td>\n",
       "      <td>0.205558</td>\n",
       "    </tr>\n",
       "    <tr>\n",
       "      <th>min</th>\n",
       "      <td>0.257143</td>\n",
       "      <td>0.276190</td>\n",
       "    </tr>\n",
       "    <tr>\n",
       "      <th>25%</th>\n",
       "      <td>0.438095</td>\n",
       "      <td>0.509524</td>\n",
       "    </tr>\n",
       "    <tr>\n",
       "      <th>50%</th>\n",
       "      <td>0.800000</td>\n",
       "      <td>0.800000</td>\n",
       "    </tr>\n",
       "    <tr>\n",
       "      <th>75%</th>\n",
       "      <td>0.904762</td>\n",
       "      <td>0.895238</td>\n",
       "    </tr>\n",
       "    <tr>\n",
       "      <th>max</th>\n",
       "      <td>1.000000</td>\n",
       "      <td>1.000000</td>\n",
       "    </tr>\n",
       "  </tbody>\n",
       "</table>\n",
       "</div>"
      ],
      "text/plain": [
       "        base_TCIE  cluster_TCIE\n",
       "count  675.000000    675.000000\n",
       "mean     0.706850      0.726067\n",
       "std      0.233079      0.205558\n",
       "min      0.257143      0.276190\n",
       "25%      0.438095      0.509524\n",
       "50%      0.800000      0.800000\n",
       "75%      0.904762      0.895238\n",
       "max      1.000000      1.000000"
      ]
     },
     "execution_count": 80,
     "metadata": {},
     "output_type": "execute_result"
    }
   ],
   "source": [
    "data['cluster_TCIE'] = (data['cluster_adj_true_positive'] + \n",
    "                data['cluster_adj_true_negative']) / (data['cluster_adj_true_positive'] + \n",
    "                                                                                        data['cluster_adj_true_negative'] + \n",
    "                                                                                        data['cluster_adj_false_positive'] + \n",
    "                                                                                        data['cluster_adj_false_negative'])\n",
    "data['base_TCIE'] = (data['base_adj_true_positive'] +\n",
    "                data['base_adj_true_negative']) / (data['base_adj_true_positive'] + \n",
    "                                                                                        data['base_adj_true_negative'] + \n",
    "                                                                                        data['base_adj_false_positive'] + \n",
    "                                                                                        data['base_adj_false_negative'])\n",
    "data[['base_TCIE', 'cluster_TCIE']].describe()"
   ]
  },
  {
   "cell_type": "markdown",
   "metadata": {},
   "source": [
    "All in all one can say that C-PC removes slightly less edges than PC. It doesn't remove as many edges that shouldn't be removed, but also keeps more edges that should be removed. "
   ]
  },
  {
   "cell_type": "markdown",
   "metadata": {},
   "source": [
    "C-PC has a slightly lower SHD. If one was to calculate the SID, it would show a similar trend to the SHD. "
   ]
  },
  {
   "cell_type": "code",
   "execution_count": 76,
   "metadata": {},
   "outputs": [
    {
     "data": {
      "text/html": [
       "<div>\n",
       "<style scoped>\n",
       "    .dataframe tbody tr th:only-of-type {\n",
       "        vertical-align: middle;\n",
       "    }\n",
       "\n",
       "    .dataframe tbody tr th {\n",
       "        vertical-align: top;\n",
       "    }\n",
       "\n",
       "    .dataframe thead th {\n",
       "        text-align: right;\n",
       "    }\n",
       "</style>\n",
       "<table border=\"1\" class=\"dataframe\">\n",
       "  <thead>\n",
       "    <tr style=\"text-align: right;\">\n",
       "      <th></th>\n",
       "      <th>base_base_shd</th>\n",
       "      <th>cluster_cluster_shd</th>\n",
       "    </tr>\n",
       "  </thead>\n",
       "  <tbody>\n",
       "    <tr>\n",
       "      <th>count</th>\n",
       "      <td>675.000000</td>\n",
       "      <td>675.000000</td>\n",
       "    </tr>\n",
       "    <tr>\n",
       "      <th>mean</th>\n",
       "      <td>34.579259</td>\n",
       "      <td>30.909630</td>\n",
       "    </tr>\n",
       "    <tr>\n",
       "      <th>std</th>\n",
       "      <td>24.637927</td>\n",
       "      <td>21.969749</td>\n",
       "    </tr>\n",
       "    <tr>\n",
       "      <th>min</th>\n",
       "      <td>0.000000</td>\n",
       "      <td>0.000000</td>\n",
       "    </tr>\n",
       "    <tr>\n",
       "      <th>25%</th>\n",
       "      <td>14.000000</td>\n",
       "      <td>13.000000</td>\n",
       "    </tr>\n",
       "    <tr>\n",
       "      <th>50%</th>\n",
       "      <td>27.000000</td>\n",
       "      <td>25.000000</td>\n",
       "    </tr>\n",
       "    <tr>\n",
       "      <th>75%</th>\n",
       "      <td>62.000000</td>\n",
       "      <td>52.000000</td>\n",
       "    </tr>\n",
       "    <tr>\n",
       "      <th>max</th>\n",
       "      <td>80.000000</td>\n",
       "      <td>78.000000</td>\n",
       "    </tr>\n",
       "  </tbody>\n",
       "</table>\n",
       "</div>"
      ],
      "text/plain": [
       "       base_base_shd  cluster_cluster_shd\n",
       "count     675.000000           675.000000\n",
       "mean       34.579259            30.909630\n",
       "std        24.637927            21.969749\n",
       "min         0.000000             0.000000\n",
       "25%        14.000000            13.000000\n",
       "50%        27.000000            25.000000\n",
       "75%        62.000000            52.000000\n",
       "max        80.000000            78.000000"
      ]
     },
     "execution_count": 76,
     "metadata": {},
     "output_type": "execute_result"
    }
   ],
   "source": [
    "dist_metrics_with_pruned = ['base_base_shd', 'pruned_base_pruned_base_shd', 'cluster_cluster_shd']#, \\\n",
    "         #   'base_sid_lower', 'base_sid_upper', 'pruned_base_sid_lower', 'pruned_base_sid_upper', \\\n",
    "         #      'cluster_sid_lower', 'cluster_sid_upper']\n",
    "dist_metrics = ['base_base_shd', 'cluster_cluster_shd']#, \\\n",
    "            #   'base_sid_lower', 'base_sid_upper \\\n",
    "            #      'cluster_sid_lower', 'cluster_sid_upper']\n",
    "data[dist_metrics].describe()"
   ]
  },
  {
   "cell_type": "markdown",
   "metadata": {},
   "source": [
    "This is the edge density, intra_cluster is number_edges_within_cluster/number_possible_edges_within_cluster, \n",
    "\n",
    "inter_cluster is number_edges_between_connected_clusters/number_possible_edges_between_connected_clusters and\n",
    "\n",
    "inter_including_disconnected_cluster is number_edges_between_all_clusters/number_possible_edges_between_all_clusters.\n",
    "\n",
    "This means inter_including_disconnected_cluster also has edges between disconnected clusters in the denominator (and is therefore slightly lower)."
   ]
  },
  {
   "cell_type": "code",
   "execution_count": 77,
   "metadata": {},
   "outputs": [
    {
     "name": "stdout",
     "output_type": "stream",
     "text": [
      "Edge Ratios \n",
      "    intra_cluster  inter_cluster  inter_including_disconnected_cluster\n",
      "0       0.358281       0.495796                              0.453185\n"
     ]
    }
   ],
   "source": [
    "edge_ratios = data['edge_ratios'].apply(pd.Series)\n",
    "edge_ratios.columns = ['intra_cluster', 'inter_cluster', 'inter_including_disconnected_cluster']\n",
    "mean_values = edge_ratios.mean()\n",
    "mean_values = pd.DataFrame([mean_values])\n",
    "print('Edge Ratios \\n', mean_values)"
   ]
  },
  {
   "cell_type": "markdown",
   "metadata": {},
   "source": [
    "### Grouping by clusters"
   ]
  },
  {
   "cell_type": "code",
   "execution_count": 63,
   "metadata": {},
   "outputs": [
    {
     "data": {
      "text/html": [
       "<div>\n",
       "<style scoped>\n",
       "    .dataframe tbody tr th:only-of-type {\n",
       "        vertical-align: middle;\n",
       "    }\n",
       "\n",
       "    .dataframe tbody tr th {\n",
       "        vertical-align: top;\n",
       "    }\n",
       "\n",
       "    .dataframe thead th {\n",
       "        text-align: right;\n",
       "    }\n",
       "</style>\n",
       "<table border=\"1\" class=\"dataframe\">\n",
       "  <thead>\n",
       "    <tr style=\"text-align: right;\">\n",
       "      <th></th>\n",
       "      <th>base_adj_precision</th>\n",
       "      <th>pruned_base_adj_precision</th>\n",
       "      <th>cluster_adj_precision</th>\n",
       "      <th>base_adj_recall</th>\n",
       "      <th>pruned_base_adj_recall</th>\n",
       "      <th>cluster_adj_recall</th>\n",
       "      <th>base_adj_f1_score</th>\n",
       "      <th>pruned_base_adj_f1_score</th>\n",
       "      <th>cluster_adj_f1_score</th>\n",
       "    </tr>\n",
       "    <tr>\n",
       "      <th>n_clusters</th>\n",
       "      <th></th>\n",
       "      <th></th>\n",
       "      <th></th>\n",
       "      <th></th>\n",
       "      <th></th>\n",
       "      <th></th>\n",
       "      <th></th>\n",
       "      <th></th>\n",
       "      <th></th>\n",
       "    </tr>\n",
       "  </thead>\n",
       "  <tbody>\n",
       "    <tr>\n",
       "      <th>1.0</th>\n",
       "      <td>0.858389</td>\n",
       "      <td>0.858389</td>\n",
       "      <td>0.858389</td>\n",
       "      <td>0.526222</td>\n",
       "      <td>0.526222</td>\n",
       "      <td>0.526222</td>\n",
       "      <td>0.601085</td>\n",
       "      <td>0.601085</td>\n",
       "      <td>0.601085</td>\n",
       "    </tr>\n",
       "    <tr>\n",
       "      <th>2.0</th>\n",
       "      <td>0.860529</td>\n",
       "      <td>0.860529</td>\n",
       "      <td>0.837935</td>\n",
       "      <td>0.528636</td>\n",
       "      <td>0.528636</td>\n",
       "      <td>0.574486</td>\n",
       "      <td>0.605815</td>\n",
       "      <td>0.605815</td>\n",
       "      <td>0.636934</td>\n",
       "    </tr>\n",
       "    <tr>\n",
       "      <th>3.0</th>\n",
       "      <td>0.857865</td>\n",
       "      <td>0.857865</td>\n",
       "      <td>0.817542</td>\n",
       "      <td>0.536580</td>\n",
       "      <td>0.536580</td>\n",
       "      <td>0.601341</td>\n",
       "      <td>0.608773</td>\n",
       "      <td>0.608773</td>\n",
       "      <td>0.648994</td>\n",
       "    </tr>\n",
       "    <tr>\n",
       "      <th>4.0</th>\n",
       "      <td>0.873875</td>\n",
       "      <td>0.873875</td>\n",
       "      <td>0.825828</td>\n",
       "      <td>0.519753</td>\n",
       "      <td>0.519753</td>\n",
       "      <td>0.612407</td>\n",
       "      <td>0.608266</td>\n",
       "      <td>0.608266</td>\n",
       "      <td>0.667772</td>\n",
       "    </tr>\n",
       "    <tr>\n",
       "      <th>5.0</th>\n",
       "      <td>0.878167</td>\n",
       "      <td>0.878167</td>\n",
       "      <td>0.831534</td>\n",
       "      <td>0.524651</td>\n",
       "      <td>0.524651</td>\n",
       "      <td>0.640374</td>\n",
       "      <td>0.612399</td>\n",
       "      <td>0.612399</td>\n",
       "      <td>0.690590</td>\n",
       "    </tr>\n",
       "  </tbody>\n",
       "</table>\n",
       "</div>"
      ],
      "text/plain": [
       "            base_adj_precision  pruned_base_adj_precision  \\\n",
       "n_clusters                                                  \n",
       "1.0                   0.858389                   0.858389   \n",
       "2.0                   0.860529                   0.860529   \n",
       "3.0                   0.857865                   0.857865   \n",
       "4.0                   0.873875                   0.873875   \n",
       "5.0                   0.878167                   0.878167   \n",
       "\n",
       "            cluster_adj_precision  base_adj_recall  pruned_base_adj_recall  \\\n",
       "n_clusters                                                                   \n",
       "1.0                      0.858389         0.526222                0.526222   \n",
       "2.0                      0.837935         0.528636                0.528636   \n",
       "3.0                      0.817542         0.536580                0.536580   \n",
       "4.0                      0.825828         0.519753                0.519753   \n",
       "5.0                      0.831534         0.524651                0.524651   \n",
       "\n",
       "            cluster_adj_recall  base_adj_f1_score  pruned_base_adj_f1_score  \\\n",
       "n_clusters                                                                    \n",
       "1.0                   0.526222           0.601085                  0.601085   \n",
       "2.0                   0.574486           0.605815                  0.605815   \n",
       "3.0                   0.601341           0.608773                  0.608773   \n",
       "4.0                   0.612407           0.608266                  0.608266   \n",
       "5.0                   0.640374           0.612399                  0.612399   \n",
       "\n",
       "            cluster_adj_f1_score  \n",
       "n_clusters                        \n",
       "1.0                     0.601085  \n",
       "2.0                     0.636934  \n",
       "3.0                     0.648994  \n",
       "4.0                     0.667772  \n",
       "5.0                     0.690590  "
      ]
     },
     "execution_count": 63,
     "metadata": {},
     "output_type": "execute_result"
    }
   ],
   "source": [
    "data.groupby('n_clusters').mean()[prec_recall_metrics]"
   ]
  },
  {
   "cell_type": "code",
   "execution_count": 64,
   "metadata": {},
   "outputs": [
    {
     "data": {
      "text/html": [
       "<div>\n",
       "<style scoped>\n",
       "    .dataframe tbody tr th:only-of-type {\n",
       "        vertical-align: middle;\n",
       "    }\n",
       "\n",
       "    .dataframe tbody tr th {\n",
       "        vertical-align: top;\n",
       "    }\n",
       "\n",
       "    .dataframe thead th {\n",
       "        text-align: right;\n",
       "    }\n",
       "</style>\n",
       "<table border=\"1\" class=\"dataframe\">\n",
       "  <thead>\n",
       "    <tr style=\"text-align: right;\">\n",
       "      <th></th>\n",
       "      <th>base_base_shd</th>\n",
       "      <th>cluster_cluster_shd</th>\n",
       "    </tr>\n",
       "    <tr>\n",
       "      <th>n_clusters</th>\n",
       "      <th></th>\n",
       "      <th></th>\n",
       "    </tr>\n",
       "  </thead>\n",
       "  <tbody>\n",
       "    <tr>\n",
       "      <th>1.0</th>\n",
       "      <td>34.829630</td>\n",
       "      <td>34.829630</td>\n",
       "    </tr>\n",
       "    <tr>\n",
       "      <th>2.0</th>\n",
       "      <td>35.051852</td>\n",
       "      <td>32.296296</td>\n",
       "    </tr>\n",
       "    <tr>\n",
       "      <th>3.0</th>\n",
       "      <td>34.429630</td>\n",
       "      <td>30.851852</td>\n",
       "    </tr>\n",
       "    <tr>\n",
       "      <th>4.0</th>\n",
       "      <td>34.451852</td>\n",
       "      <td>29.407407</td>\n",
       "    </tr>\n",
       "    <tr>\n",
       "      <th>5.0</th>\n",
       "      <td>34.133333</td>\n",
       "      <td>27.162963</td>\n",
       "    </tr>\n",
       "  </tbody>\n",
       "</table>\n",
       "</div>"
      ],
      "text/plain": [
       "            base_base_shd  cluster_cluster_shd\n",
       "n_clusters                                    \n",
       "1.0             34.829630            34.829630\n",
       "2.0             35.051852            32.296296\n",
       "3.0             34.429630            30.851852\n",
       "4.0             34.451852            29.407407\n",
       "5.0             34.133333            27.162963"
      ]
     },
     "execution_count": 64,
     "metadata": {},
     "output_type": "execute_result"
    }
   ],
   "source": [
    "data.groupby('n_clusters').mean()[dist_metrics]"
   ]
  },
  {
   "cell_type": "markdown",
   "metadata": {},
   "source": [
    "### Grouping by alpha"
   ]
  },
  {
   "cell_type": "code",
   "execution_count": 81,
   "metadata": {},
   "outputs": [
    {
     "data": {
      "text/html": [
       "<div>\n",
       "<style scoped>\n",
       "    .dataframe tbody tr th:only-of-type {\n",
       "        vertical-align: middle;\n",
       "    }\n",
       "\n",
       "    .dataframe tbody tr th {\n",
       "        vertical-align: top;\n",
       "    }\n",
       "\n",
       "    .dataframe thead th {\n",
       "        text-align: right;\n",
       "    }\n",
       "</style>\n",
       "<table border=\"1\" class=\"dataframe\">\n",
       "  <thead>\n",
       "    <tr style=\"text-align: right;\">\n",
       "      <th></th>\n",
       "      <th>base_adj_precision</th>\n",
       "      <th>pruned_base_adj_precision</th>\n",
       "      <th>cluster_adj_precision</th>\n",
       "      <th>base_adj_recall</th>\n",
       "      <th>pruned_base_adj_recall</th>\n",
       "      <th>cluster_adj_recall</th>\n",
       "      <th>base_adj_f1_score</th>\n",
       "      <th>pruned_base_adj_f1_score</th>\n",
       "      <th>cluster_adj_f1_score</th>\n",
       "    </tr>\n",
       "    <tr>\n",
       "      <th>alpha</th>\n",
       "      <th></th>\n",
       "      <th></th>\n",
       "      <th></th>\n",
       "      <th></th>\n",
       "      <th></th>\n",
       "      <th></th>\n",
       "      <th></th>\n",
       "      <th></th>\n",
       "      <th></th>\n",
       "    </tr>\n",
       "  </thead>\n",
       "  <tbody>\n",
       "    <tr>\n",
       "      <th>0.01</th>\n",
       "      <td>0.927636</td>\n",
       "      <td>0.927636</td>\n",
       "      <td>0.917008</td>\n",
       "      <td>0.481849</td>\n",
       "      <td>0.481849</td>\n",
       "      <td>0.546481</td>\n",
       "      <td>0.599164</td>\n",
       "      <td>0.599164</td>\n",
       "      <td>0.656697</td>\n",
       "    </tr>\n",
       "    <tr>\n",
       "      <th>0.05</th>\n",
       "      <td>0.919348</td>\n",
       "      <td>0.919348</td>\n",
       "      <td>0.895484</td>\n",
       "      <td>0.509712</td>\n",
       "      <td>0.509712</td>\n",
       "      <td>0.569709</td>\n",
       "      <td>0.618209</td>\n",
       "      <td>0.618209</td>\n",
       "      <td>0.665964</td>\n",
       "    </tr>\n",
       "    <tr>\n",
       "      <th>0.10</th>\n",
       "      <td>0.892330</td>\n",
       "      <td>0.892330</td>\n",
       "      <td>0.875344</td>\n",
       "      <td>0.514462</td>\n",
       "      <td>0.514462</td>\n",
       "      <td>0.582102</td>\n",
       "      <td>0.615255</td>\n",
       "      <td>0.615255</td>\n",
       "      <td>0.669650</td>\n",
       "    </tr>\n",
       "    <tr>\n",
       "      <th>0.25</th>\n",
       "      <td>0.829556</td>\n",
       "      <td>0.829556</td>\n",
       "      <td>0.782495</td>\n",
       "      <td>0.555679</td>\n",
       "      <td>0.555679</td>\n",
       "      <td>0.618632</td>\n",
       "      <td>0.611183</td>\n",
       "      <td>0.611183</td>\n",
       "      <td>0.643134</td>\n",
       "    </tr>\n",
       "    <tr>\n",
       "      <th>0.50</th>\n",
       "      <td>0.759956</td>\n",
       "      <td>0.759956</td>\n",
       "      <td>0.700898</td>\n",
       "      <td>0.574139</td>\n",
       "      <td>0.574139</td>\n",
       "      <td>0.637906</td>\n",
       "      <td>0.592527</td>\n",
       "      <td>0.592527</td>\n",
       "      <td>0.609929</td>\n",
       "    </tr>\n",
       "  </tbody>\n",
       "</table>\n",
       "</div>"
      ],
      "text/plain": [
       "       base_adj_precision  pruned_base_adj_precision  cluster_adj_precision  \\\n",
       "alpha                                                                         \n",
       "0.01             0.927636                   0.927636               0.917008   \n",
       "0.05             0.919348                   0.919348               0.895484   \n",
       "0.10             0.892330                   0.892330               0.875344   \n",
       "0.25             0.829556                   0.829556               0.782495   \n",
       "0.50             0.759956                   0.759956               0.700898   \n",
       "\n",
       "       base_adj_recall  pruned_base_adj_recall  cluster_adj_recall  \\\n",
       "alpha                                                                \n",
       "0.01          0.481849                0.481849            0.546481   \n",
       "0.05          0.509712                0.509712            0.569709   \n",
       "0.10          0.514462                0.514462            0.582102   \n",
       "0.25          0.555679                0.555679            0.618632   \n",
       "0.50          0.574139                0.574139            0.637906   \n",
       "\n",
       "       base_adj_f1_score  pruned_base_adj_f1_score  cluster_adj_f1_score  \n",
       "alpha                                                                     \n",
       "0.01            0.599164                  0.599164              0.656697  \n",
       "0.05            0.618209                  0.618209              0.665964  \n",
       "0.10            0.615255                  0.615255              0.669650  \n",
       "0.25            0.611183                  0.611183              0.643134  \n",
       "0.50            0.592527                  0.592527              0.609929  "
      ]
     },
     "execution_count": 81,
     "metadata": {},
     "output_type": "execute_result"
    }
   ],
   "source": [
    "data.groupby('alpha').mean()[prec_recall_metrics]"
   ]
  },
  {
   "cell_type": "code",
   "execution_count": 82,
   "metadata": {},
   "outputs": [
    {
     "data": {
      "text/html": [
       "<div>\n",
       "<style scoped>\n",
       "    .dataframe tbody tr th:only-of-type {\n",
       "        vertical-align: middle;\n",
       "    }\n",
       "\n",
       "    .dataframe tbody tr th {\n",
       "        vertical-align: top;\n",
       "    }\n",
       "\n",
       "    .dataframe thead th {\n",
       "        text-align: right;\n",
       "    }\n",
       "</style>\n",
       "<table border=\"1\" class=\"dataframe\">\n",
       "  <thead>\n",
       "    <tr style=\"text-align: right;\">\n",
       "      <th></th>\n",
       "      <th>base_base_shd</th>\n",
       "      <th>cluster_cluster_shd</th>\n",
       "    </tr>\n",
       "    <tr>\n",
       "      <th>alpha</th>\n",
       "      <th></th>\n",
       "      <th></th>\n",
       "    </tr>\n",
       "  </thead>\n",
       "  <tbody>\n",
       "    <tr>\n",
       "      <th>0.01</th>\n",
       "      <td>34.607407</td>\n",
       "      <td>30.511111</td>\n",
       "    </tr>\n",
       "    <tr>\n",
       "      <th>0.05</th>\n",
       "      <td>33.488889</td>\n",
       "      <td>29.607407</td>\n",
       "    </tr>\n",
       "    <tr>\n",
       "      <th>0.10</th>\n",
       "      <td>33.674074</td>\n",
       "      <td>29.074074</td>\n",
       "    </tr>\n",
       "    <tr>\n",
       "      <th>0.25</th>\n",
       "      <td>34.325926</td>\n",
       "      <td>30.925926</td>\n",
       "    </tr>\n",
       "    <tr>\n",
       "      <th>0.50</th>\n",
       "      <td>36.800000</td>\n",
       "      <td>34.429630</td>\n",
       "    </tr>\n",
       "  </tbody>\n",
       "</table>\n",
       "</div>"
      ],
      "text/plain": [
       "       base_base_shd  cluster_cluster_shd\n",
       "alpha                                    \n",
       "0.01       34.607407            30.511111\n",
       "0.05       33.488889            29.607407\n",
       "0.10       33.674074            29.074074\n",
       "0.25       34.325926            30.925926\n",
       "0.50       36.800000            34.429630"
      ]
     },
     "execution_count": 82,
     "metadata": {},
     "output_type": "execute_result"
    }
   ],
   "source": [
    "data.groupby('alpha').mean()[dist_metrics]"
   ]
  },
  {
   "cell_type": "markdown",
   "metadata": {},
   "source": [
    "### Grouping by distribution type\n"
   ]
  },
  {
   "cell_type": "code",
   "execution_count": 83,
   "metadata": {},
   "outputs": [
    {
     "data": {
      "text/html": [
       "<div>\n",
       "<style scoped>\n",
       "    .dataframe tbody tr th:only-of-type {\n",
       "        vertical-align: middle;\n",
       "    }\n",
       "\n",
       "    .dataframe tbody tr th {\n",
       "        vertical-align: top;\n",
       "    }\n",
       "\n",
       "    .dataframe thead th {\n",
       "        text-align: right;\n",
       "    }\n",
       "</style>\n",
       "<table border=\"1\" class=\"dataframe\">\n",
       "  <thead>\n",
       "    <tr style=\"text-align: right;\">\n",
       "      <th></th>\n",
       "      <th>base_adj_precision</th>\n",
       "      <th>pruned_base_adj_precision</th>\n",
       "      <th>cluster_adj_precision</th>\n",
       "      <th>base_adj_recall</th>\n",
       "      <th>pruned_base_adj_recall</th>\n",
       "      <th>cluster_adj_recall</th>\n",
       "      <th>base_adj_f1_score</th>\n",
       "      <th>pruned_base_adj_f1_score</th>\n",
       "      <th>cluster_adj_f1_score</th>\n",
       "    </tr>\n",
       "    <tr>\n",
       "      <th>distribution_type</th>\n",
       "      <th></th>\n",
       "      <th></th>\n",
       "      <th></th>\n",
       "      <th></th>\n",
       "      <th></th>\n",
       "      <th></th>\n",
       "      <th></th>\n",
       "      <th></th>\n",
       "      <th></th>\n",
       "    </tr>\n",
       "  </thead>\n",
       "  <tbody>\n",
       "    <tr>\n",
       "      <th>exp</th>\n",
       "      <td>0.860128</td>\n",
       "      <td>0.860128</td>\n",
       "      <td>0.832979</td>\n",
       "      <td>0.529210</td>\n",
       "      <td>0.529210</td>\n",
       "      <td>0.593297</td>\n",
       "      <td>0.605987</td>\n",
       "      <td>0.605987</td>\n",
       "      <td>0.649129</td>\n",
       "    </tr>\n",
       "    <tr>\n",
       "      <th>gauss</th>\n",
       "      <td>0.866659</td>\n",
       "      <td>0.866659</td>\n",
       "      <td>0.836819</td>\n",
       "      <td>0.524078</td>\n",
       "      <td>0.524078</td>\n",
       "      <td>0.592280</td>\n",
       "      <td>0.604722</td>\n",
       "      <td>0.604722</td>\n",
       "      <td>0.650145</td>\n",
       "    </tr>\n",
       "    <tr>\n",
       "      <th>gumbel</th>\n",
       "      <td>0.870508</td>\n",
       "      <td>0.870508</td>\n",
       "      <td>0.832939</td>\n",
       "      <td>0.528216</td>\n",
       "      <td>0.528216</td>\n",
       "      <td>0.587321</td>\n",
       "      <td>0.611093</td>\n",
       "      <td>0.611093</td>\n",
       "      <td>0.647951</td>\n",
       "    </tr>\n",
       "  </tbody>\n",
       "</table>\n",
       "</div>"
      ],
      "text/plain": [
       "                   base_adj_precision  pruned_base_adj_precision  \\\n",
       "distribution_type                                                  \n",
       "exp                          0.860128                   0.860128   \n",
       "gauss                        0.866659                   0.866659   \n",
       "gumbel                       0.870508                   0.870508   \n",
       "\n",
       "                   cluster_adj_precision  base_adj_recall  \\\n",
       "distribution_type                                           \n",
       "exp                             0.832979         0.529210   \n",
       "gauss                           0.836819         0.524078   \n",
       "gumbel                          0.832939         0.528216   \n",
       "\n",
       "                   pruned_base_adj_recall  cluster_adj_recall  \\\n",
       "distribution_type                                               \n",
       "exp                              0.529210            0.593297   \n",
       "gauss                            0.524078            0.592280   \n",
       "gumbel                           0.528216            0.587321   \n",
       "\n",
       "                   base_adj_f1_score  pruned_base_adj_f1_score  \\\n",
       "distribution_type                                                \n",
       "exp                         0.605987                  0.605987   \n",
       "gauss                       0.604722                  0.604722   \n",
       "gumbel                      0.611093                  0.611093   \n",
       "\n",
       "                   cluster_adj_f1_score  \n",
       "distribution_type                        \n",
       "exp                            0.649129  \n",
       "gauss                          0.650145  \n",
       "gumbel                         0.647951  "
      ]
     },
     "execution_count": 83,
     "metadata": {},
     "output_type": "execute_result"
    }
   ],
   "source": [
    "data.groupby('distribution_type').mean()[prec_recall_metrics]"
   ]
  },
  {
   "cell_type": "code",
   "execution_count": 84,
   "metadata": {},
   "outputs": [
    {
     "data": {
      "text/html": [
       "<div>\n",
       "<style scoped>\n",
       "    .dataframe tbody tr th:only-of-type {\n",
       "        vertical-align: middle;\n",
       "    }\n",
       "\n",
       "    .dataframe tbody tr th {\n",
       "        vertical-align: top;\n",
       "    }\n",
       "\n",
       "    .dataframe thead th {\n",
       "        text-align: right;\n",
       "    }\n",
       "</style>\n",
       "<table border=\"1\" class=\"dataframe\">\n",
       "  <thead>\n",
       "    <tr style=\"text-align: right;\">\n",
       "      <th></th>\n",
       "      <th>base_base_shd</th>\n",
       "      <th>cluster_cluster_shd</th>\n",
       "    </tr>\n",
       "    <tr>\n",
       "      <th>distribution_type</th>\n",
       "      <th></th>\n",
       "      <th></th>\n",
       "    </tr>\n",
       "  </thead>\n",
       "  <tbody>\n",
       "    <tr>\n",
       "      <th>exp</th>\n",
       "      <td>35.120000</td>\n",
       "      <td>31.102222</td>\n",
       "    </tr>\n",
       "    <tr>\n",
       "      <th>gauss</th>\n",
       "      <td>34.551111</td>\n",
       "      <td>30.622222</td>\n",
       "    </tr>\n",
       "    <tr>\n",
       "      <th>gumbel</th>\n",
       "      <td>34.066667</td>\n",
       "      <td>31.004444</td>\n",
       "    </tr>\n",
       "  </tbody>\n",
       "</table>\n",
       "</div>"
      ],
      "text/plain": [
       "                   base_base_shd  cluster_cluster_shd\n",
       "distribution_type                                    \n",
       "exp                    35.120000            31.102222\n",
       "gauss                  34.551111            30.622222\n",
       "gumbel                 34.066667            31.004444"
      ]
     },
     "execution_count": 84,
     "metadata": {},
     "output_type": "execute_result"
    }
   ],
   "source": [
    "data.groupby('distribution_type').mean()[dist_metrics]"
   ]
  },
  {
   "cell_type": "markdown",
   "metadata": {},
   "source": [
    "### Grouping by DAG method"
   ]
  },
  {
   "cell_type": "code",
   "execution_count": 85,
   "metadata": {},
   "outputs": [
    {
     "data": {
      "text/html": [
       "<div>\n",
       "<style scoped>\n",
       "    .dataframe tbody tr th:only-of-type {\n",
       "        vertical-align: middle;\n",
       "    }\n",
       "\n",
       "    .dataframe tbody tr th {\n",
       "        vertical-align: top;\n",
       "    }\n",
       "\n",
       "    .dataframe thead th {\n",
       "        text-align: right;\n",
       "    }\n",
       "</style>\n",
       "<table border=\"1\" class=\"dataframe\">\n",
       "  <thead>\n",
       "    <tr style=\"text-align: right;\">\n",
       "      <th></th>\n",
       "      <th>base_adj_precision</th>\n",
       "      <th>pruned_base_adj_precision</th>\n",
       "      <th>cluster_adj_precision</th>\n",
       "      <th>base_adj_recall</th>\n",
       "      <th>pruned_base_adj_recall</th>\n",
       "      <th>cluster_adj_recall</th>\n",
       "      <th>base_adj_f1_score</th>\n",
       "      <th>pruned_base_adj_f1_score</th>\n",
       "      <th>cluster_adj_f1_score</th>\n",
       "    </tr>\n",
       "    <tr>\n",
       "      <th>dag_method</th>\n",
       "      <th></th>\n",
       "      <th></th>\n",
       "      <th></th>\n",
       "      <th></th>\n",
       "      <th></th>\n",
       "      <th></th>\n",
       "      <th></th>\n",
       "      <th></th>\n",
       "      <th></th>\n",
       "    </tr>\n",
       "  </thead>\n",
       "  <tbody>\n",
       "    <tr>\n",
       "      <th>erdos_renyi</th>\n",
       "      <td>0.842107</td>\n",
       "      <td>0.842107</td>\n",
       "      <td>0.799619</td>\n",
       "      <td>0.645832</td>\n",
       "      <td>0.645832</td>\n",
       "      <td>0.695911</td>\n",
       "      <td>0.697519</td>\n",
       "      <td>0.697519</td>\n",
       "      <td>0.714539</td>\n",
       "    </tr>\n",
       "    <tr>\n",
       "      <th>hierarchical</th>\n",
       "      <td>0.907336</td>\n",
       "      <td>0.907336</td>\n",
       "      <td>0.901760</td>\n",
       "      <td>0.247657</td>\n",
       "      <td>0.247657</td>\n",
       "      <td>0.338009</td>\n",
       "      <td>0.386172</td>\n",
       "      <td>0.386172</td>\n",
       "      <td>0.485770</td>\n",
       "    </tr>\n",
       "    <tr>\n",
       "      <th>scale_free</th>\n",
       "      <td>0.847853</td>\n",
       "      <td>0.847853</td>\n",
       "      <td>0.801358</td>\n",
       "      <td>0.688017</td>\n",
       "      <td>0.688017</td>\n",
       "      <td>0.738978</td>\n",
       "      <td>0.738111</td>\n",
       "      <td>0.738111</td>\n",
       "      <td>0.746916</td>\n",
       "    </tr>\n",
       "  </tbody>\n",
       "</table>\n",
       "</div>"
      ],
      "text/plain": [
       "              base_adj_precision  pruned_base_adj_precision  \\\n",
       "dag_method                                                    \n",
       "erdos_renyi             0.842107                   0.842107   \n",
       "hierarchical            0.907336                   0.907336   \n",
       "scale_free              0.847853                   0.847853   \n",
       "\n",
       "              cluster_adj_precision  base_adj_recall  pruned_base_adj_recall  \\\n",
       "dag_method                                                                     \n",
       "erdos_renyi                0.799619         0.645832                0.645832   \n",
       "hierarchical               0.901760         0.247657                0.247657   \n",
       "scale_free                 0.801358         0.688017                0.688017   \n",
       "\n",
       "              cluster_adj_recall  base_adj_f1_score  pruned_base_adj_f1_score  \\\n",
       "dag_method                                                                      \n",
       "erdos_renyi             0.695911           0.697519                  0.697519   \n",
       "hierarchical            0.338009           0.386172                  0.386172   \n",
       "scale_free              0.738978           0.738111                  0.738111   \n",
       "\n",
       "              cluster_adj_f1_score  \n",
       "dag_method                          \n",
       "erdos_renyi               0.714539  \n",
       "hierarchical              0.485770  \n",
       "scale_free                0.746916  "
      ]
     },
     "execution_count": 85,
     "metadata": {},
     "output_type": "execute_result"
    }
   ],
   "source": [
    "data.groupby('dag_method').mean()[prec_recall_metrics]"
   ]
  },
  {
   "cell_type": "code",
   "execution_count": 86,
   "metadata": {},
   "outputs": [
    {
     "data": {
      "text/html": [
       "<div>\n",
       "<style scoped>\n",
       "    .dataframe tbody tr th:only-of-type {\n",
       "        vertical-align: middle;\n",
       "    }\n",
       "\n",
       "    .dataframe tbody tr th {\n",
       "        vertical-align: top;\n",
       "    }\n",
       "\n",
       "    .dataframe thead th {\n",
       "        text-align: right;\n",
       "    }\n",
       "</style>\n",
       "<table border=\"1\" class=\"dataframe\">\n",
       "  <thead>\n",
       "    <tr style=\"text-align: right;\">\n",
       "      <th></th>\n",
       "      <th>base_base_shd</th>\n",
       "      <th>cluster_cluster_shd</th>\n",
       "    </tr>\n",
       "    <tr>\n",
       "      <th>dag_method</th>\n",
       "      <th></th>\n",
       "      <th></th>\n",
       "    </tr>\n",
       "  </thead>\n",
       "  <tbody>\n",
       "    <tr>\n",
       "      <th>erdos_renyi</th>\n",
       "      <td>21.426667</td>\n",
       "      <td>19.217778</td>\n",
       "    </tr>\n",
       "    <tr>\n",
       "      <th>hierarchical</th>\n",
       "      <td>65.684444</td>\n",
       "      <td>58.333333</td>\n",
       "    </tr>\n",
       "    <tr>\n",
       "      <th>scale_free</th>\n",
       "      <td>16.626667</td>\n",
       "      <td>15.177778</td>\n",
       "    </tr>\n",
       "  </tbody>\n",
       "</table>\n",
       "</div>"
      ],
      "text/plain": [
       "              base_base_shd  cluster_cluster_shd\n",
       "dag_method                                      \n",
       "erdos_renyi       21.426667            19.217778\n",
       "hierarchical      65.684444            58.333333\n",
       "scale_free        16.626667            15.177778"
      ]
     },
     "execution_count": 86,
     "metadata": {},
     "output_type": "execute_result"
    }
   ],
   "source": [
    "data.groupby('dag_method').mean()[dist_metrics]"
   ]
  },
  {
   "cell_type": "markdown",
   "metadata": {},
   "source": [
    "### Grouping by #clusters"
   ]
  },
  {
   "cell_type": "code",
   "execution_count": 87,
   "metadata": {},
   "outputs": [
    {
     "data": {
      "text/html": [
       "<div>\n",
       "<style scoped>\n",
       "    .dataframe tbody tr th:only-of-type {\n",
       "        vertical-align: middle;\n",
       "    }\n",
       "\n",
       "    .dataframe tbody tr th {\n",
       "        vertical-align: top;\n",
       "    }\n",
       "\n",
       "    .dataframe thead th {\n",
       "        text-align: right;\n",
       "    }\n",
       "</style>\n",
       "<table border=\"1\" class=\"dataframe\">\n",
       "  <thead>\n",
       "    <tr style=\"text-align: right;\">\n",
       "      <th></th>\n",
       "      <th>base_adj_precision</th>\n",
       "      <th>pruned_base_adj_precision</th>\n",
       "      <th>cluster_adj_precision</th>\n",
       "      <th>base_adj_recall</th>\n",
       "      <th>pruned_base_adj_recall</th>\n",
       "      <th>cluster_adj_recall</th>\n",
       "      <th>base_adj_f1_score</th>\n",
       "      <th>pruned_base_adj_f1_score</th>\n",
       "      <th>cluster_adj_f1_score</th>\n",
       "    </tr>\n",
       "    <tr>\n",
       "      <th>n_clusters</th>\n",
       "      <th></th>\n",
       "      <th></th>\n",
       "      <th></th>\n",
       "      <th></th>\n",
       "      <th></th>\n",
       "      <th></th>\n",
       "      <th></th>\n",
       "      <th></th>\n",
       "      <th></th>\n",
       "    </tr>\n",
       "  </thead>\n",
       "  <tbody>\n",
       "    <tr>\n",
       "      <th>1.0</th>\n",
       "      <td>0.858389</td>\n",
       "      <td>0.858389</td>\n",
       "      <td>0.858389</td>\n",
       "      <td>0.526222</td>\n",
       "      <td>0.526222</td>\n",
       "      <td>0.526222</td>\n",
       "      <td>0.601085</td>\n",
       "      <td>0.601085</td>\n",
       "      <td>0.601085</td>\n",
       "    </tr>\n",
       "    <tr>\n",
       "      <th>2.0</th>\n",
       "      <td>0.860529</td>\n",
       "      <td>0.860529</td>\n",
       "      <td>0.837935</td>\n",
       "      <td>0.528636</td>\n",
       "      <td>0.528636</td>\n",
       "      <td>0.574486</td>\n",
       "      <td>0.605815</td>\n",
       "      <td>0.605815</td>\n",
       "      <td>0.636934</td>\n",
       "    </tr>\n",
       "    <tr>\n",
       "      <th>3.0</th>\n",
       "      <td>0.857865</td>\n",
       "      <td>0.857865</td>\n",
       "      <td>0.817542</td>\n",
       "      <td>0.536580</td>\n",
       "      <td>0.536580</td>\n",
       "      <td>0.601341</td>\n",
       "      <td>0.608773</td>\n",
       "      <td>0.608773</td>\n",
       "      <td>0.648994</td>\n",
       "    </tr>\n",
       "    <tr>\n",
       "      <th>4.0</th>\n",
       "      <td>0.873875</td>\n",
       "      <td>0.873875</td>\n",
       "      <td>0.825828</td>\n",
       "      <td>0.519753</td>\n",
       "      <td>0.519753</td>\n",
       "      <td>0.612407</td>\n",
       "      <td>0.608266</td>\n",
       "      <td>0.608266</td>\n",
       "      <td>0.667772</td>\n",
       "    </tr>\n",
       "    <tr>\n",
       "      <th>5.0</th>\n",
       "      <td>0.878167</td>\n",
       "      <td>0.878167</td>\n",
       "      <td>0.831534</td>\n",
       "      <td>0.524651</td>\n",
       "      <td>0.524651</td>\n",
       "      <td>0.640374</td>\n",
       "      <td>0.612399</td>\n",
       "      <td>0.612399</td>\n",
       "      <td>0.690590</td>\n",
       "    </tr>\n",
       "  </tbody>\n",
       "</table>\n",
       "</div>"
      ],
      "text/plain": [
       "            base_adj_precision  pruned_base_adj_precision  \\\n",
       "n_clusters                                                  \n",
       "1.0                   0.858389                   0.858389   \n",
       "2.0                   0.860529                   0.860529   \n",
       "3.0                   0.857865                   0.857865   \n",
       "4.0                   0.873875                   0.873875   \n",
       "5.0                   0.878167                   0.878167   \n",
       "\n",
       "            cluster_adj_precision  base_adj_recall  pruned_base_adj_recall  \\\n",
       "n_clusters                                                                   \n",
       "1.0                      0.858389         0.526222                0.526222   \n",
       "2.0                      0.837935         0.528636                0.528636   \n",
       "3.0                      0.817542         0.536580                0.536580   \n",
       "4.0                      0.825828         0.519753                0.519753   \n",
       "5.0                      0.831534         0.524651                0.524651   \n",
       "\n",
       "            cluster_adj_recall  base_adj_f1_score  pruned_base_adj_f1_score  \\\n",
       "n_clusters                                                                    \n",
       "1.0                   0.526222           0.601085                  0.601085   \n",
       "2.0                   0.574486           0.605815                  0.605815   \n",
       "3.0                   0.601341           0.608773                  0.608773   \n",
       "4.0                   0.612407           0.608266                  0.608266   \n",
       "5.0                   0.640374           0.612399                  0.612399   \n",
       "\n",
       "            cluster_adj_f1_score  \n",
       "n_clusters                        \n",
       "1.0                     0.601085  \n",
       "2.0                     0.636934  \n",
       "3.0                     0.648994  \n",
       "4.0                     0.667772  \n",
       "5.0                     0.690590  "
      ]
     },
     "execution_count": 87,
     "metadata": {},
     "output_type": "execute_result"
    }
   ],
   "source": [
    "data.groupby('n_clusters').mean()[prec_recall_metrics]"
   ]
  },
  {
   "cell_type": "code",
   "execution_count": 88,
   "metadata": {},
   "outputs": [
    {
     "data": {
      "text/html": [
       "<div>\n",
       "<style scoped>\n",
       "    .dataframe tbody tr th:only-of-type {\n",
       "        vertical-align: middle;\n",
       "    }\n",
       "\n",
       "    .dataframe tbody tr th {\n",
       "        vertical-align: top;\n",
       "    }\n",
       "\n",
       "    .dataframe thead th {\n",
       "        text-align: right;\n",
       "    }\n",
       "</style>\n",
       "<table border=\"1\" class=\"dataframe\">\n",
       "  <thead>\n",
       "    <tr style=\"text-align: right;\">\n",
       "      <th></th>\n",
       "      <th>base_base_shd</th>\n",
       "      <th>cluster_cluster_shd</th>\n",
       "    </tr>\n",
       "    <tr>\n",
       "      <th>n_clusters</th>\n",
       "      <th></th>\n",
       "      <th></th>\n",
       "    </tr>\n",
       "  </thead>\n",
       "  <tbody>\n",
       "    <tr>\n",
       "      <th>1.0</th>\n",
       "      <td>34.829630</td>\n",
       "      <td>34.829630</td>\n",
       "    </tr>\n",
       "    <tr>\n",
       "      <th>2.0</th>\n",
       "      <td>35.051852</td>\n",
       "      <td>32.296296</td>\n",
       "    </tr>\n",
       "    <tr>\n",
       "      <th>3.0</th>\n",
       "      <td>34.429630</td>\n",
       "      <td>30.851852</td>\n",
       "    </tr>\n",
       "    <tr>\n",
       "      <th>4.0</th>\n",
       "      <td>34.451852</td>\n",
       "      <td>29.407407</td>\n",
       "    </tr>\n",
       "    <tr>\n",
       "      <th>5.0</th>\n",
       "      <td>34.133333</td>\n",
       "      <td>27.162963</td>\n",
       "    </tr>\n",
       "  </tbody>\n",
       "</table>\n",
       "</div>"
      ],
      "text/plain": [
       "            base_base_shd  cluster_cluster_shd\n",
       "n_clusters                                    \n",
       "1.0             34.829630            34.829630\n",
       "2.0             35.051852            32.296296\n",
       "3.0             34.429630            30.851852\n",
       "4.0             34.451852            29.407407\n",
       "5.0             34.133333            27.162963"
      ]
     },
     "execution_count": 88,
     "metadata": {},
     "output_type": "execute_result"
    }
   ],
   "source": [
    "data.groupby('n_clusters').mean()[dist_metrics]"
   ]
  },
  {
   "cell_type": "markdown",
   "metadata": {},
   "source": [
    "### Grouping by #edges"
   ]
  },
  {
   "cell_type": "code",
   "execution_count": 89,
   "metadata": {},
   "outputs": [
    {
     "data": {
      "text/html": [
       "<div>\n",
       "<style scoped>\n",
       "    .dataframe tbody tr th:only-of-type {\n",
       "        vertical-align: middle;\n",
       "    }\n",
       "\n",
       "    .dataframe tbody tr th {\n",
       "        vertical-align: top;\n",
       "    }\n",
       "\n",
       "    .dataframe thead th {\n",
       "        text-align: right;\n",
       "    }\n",
       "</style>\n",
       "<table border=\"1\" class=\"dataframe\">\n",
       "  <thead>\n",
       "    <tr style=\"text-align: right;\">\n",
       "      <th></th>\n",
       "      <th>base_adj_precision</th>\n",
       "      <th>pruned_base_adj_precision</th>\n",
       "      <th>cluster_adj_precision</th>\n",
       "      <th>base_adj_recall</th>\n",
       "      <th>pruned_base_adj_recall</th>\n",
       "      <th>cluster_adj_recall</th>\n",
       "      <th>base_adj_f1_score</th>\n",
       "      <th>pruned_base_adj_f1_score</th>\n",
       "      <th>cluster_adj_f1_score</th>\n",
       "    </tr>\n",
       "    <tr>\n",
       "      <th>n_edges</th>\n",
       "      <th></th>\n",
       "      <th></th>\n",
       "      <th></th>\n",
       "      <th></th>\n",
       "      <th></th>\n",
       "      <th></th>\n",
       "      <th></th>\n",
       "      <th></th>\n",
       "      <th></th>\n",
       "    </tr>\n",
       "  </thead>\n",
       "  <tbody>\n",
       "    <tr>\n",
       "      <th>15.0</th>\n",
       "      <td>0.836885</td>\n",
       "      <td>0.836885</td>\n",
       "      <td>0.804019</td>\n",
       "      <td>0.675344</td>\n",
       "      <td>0.675344</td>\n",
       "      <td>0.717304</td>\n",
       "      <td>0.674878</td>\n",
       "      <td>0.674878</td>\n",
       "      <td>0.695398</td>\n",
       "    </tr>\n",
       "    <tr>\n",
       "      <th>30.0</th>\n",
       "      <td>0.887058</td>\n",
       "      <td>0.887058</td>\n",
       "      <td>0.849136</td>\n",
       "      <td>0.522147</td>\n",
       "      <td>0.522147</td>\n",
       "      <td>0.591069</td>\n",
       "      <td>0.626786</td>\n",
       "      <td>0.626786</td>\n",
       "      <td>0.666686</td>\n",
       "    </tr>\n",
       "    <tr>\n",
       "      <th>50.0</th>\n",
       "      <td>0.873353</td>\n",
       "      <td>0.873353</td>\n",
       "      <td>0.849582</td>\n",
       "      <td>0.384015</td>\n",
       "      <td>0.384015</td>\n",
       "      <td>0.464525</td>\n",
       "      <td>0.520139</td>\n",
       "      <td>0.520139</td>\n",
       "      <td>0.585141</td>\n",
       "    </tr>\n",
       "  </tbody>\n",
       "</table>\n",
       "</div>"
      ],
      "text/plain": [
       "         base_adj_precision  pruned_base_adj_precision  cluster_adj_precision  \\\n",
       "n_edges                                                                         \n",
       "15.0               0.836885                   0.836885               0.804019   \n",
       "30.0               0.887058                   0.887058               0.849136   \n",
       "50.0               0.873353                   0.873353               0.849582   \n",
       "\n",
       "         base_adj_recall  pruned_base_adj_recall  cluster_adj_recall  \\\n",
       "n_edges                                                                \n",
       "15.0            0.675344                0.675344            0.717304   \n",
       "30.0            0.522147                0.522147            0.591069   \n",
       "50.0            0.384015                0.384015            0.464525   \n",
       "\n",
       "         base_adj_f1_score  pruned_base_adj_f1_score  cluster_adj_f1_score  \n",
       "n_edges                                                                     \n",
       "15.0              0.674878                  0.674878              0.695398  \n",
       "30.0              0.626786                  0.626786              0.666686  \n",
       "50.0              0.520139                  0.520139              0.585141  "
      ]
     },
     "execution_count": 89,
     "metadata": {},
     "output_type": "execute_result"
    }
   ],
   "source": [
    "data.groupby('n_edges').mean()[prec_recall_metrics]"
   ]
  },
  {
   "cell_type": "code",
   "execution_count": 90,
   "metadata": {},
   "outputs": [
    {
     "data": {
      "text/html": [
       "<div>\n",
       "<style scoped>\n",
       "    .dataframe tbody tr th:only-of-type {\n",
       "        vertical-align: middle;\n",
       "    }\n",
       "\n",
       "    .dataframe tbody tr th {\n",
       "        vertical-align: top;\n",
       "    }\n",
       "\n",
       "    .dataframe thead th {\n",
       "        text-align: right;\n",
       "    }\n",
       "</style>\n",
       "<table border=\"1\" class=\"dataframe\">\n",
       "  <thead>\n",
       "    <tr style=\"text-align: right;\">\n",
       "      <th></th>\n",
       "      <th>base_base_shd</th>\n",
       "      <th>cluster_cluster_shd</th>\n",
       "    </tr>\n",
       "    <tr>\n",
       "      <th>n_edges</th>\n",
       "      <th></th>\n",
       "      <th></th>\n",
       "    </tr>\n",
       "  </thead>\n",
       "  <tbody>\n",
       "    <tr>\n",
       "      <th>15.0</th>\n",
       "      <td>27.275556</td>\n",
       "      <td>24.813333</td>\n",
       "    </tr>\n",
       "    <tr>\n",
       "      <th>30.0</th>\n",
       "      <td>33.155556</td>\n",
       "      <td>29.688889</td>\n",
       "    </tr>\n",
       "    <tr>\n",
       "      <th>50.0</th>\n",
       "      <td>43.306667</td>\n",
       "      <td>38.226667</td>\n",
       "    </tr>\n",
       "  </tbody>\n",
       "</table>\n",
       "</div>"
      ],
      "text/plain": [
       "         base_base_shd  cluster_cluster_shd\n",
       "n_edges                                    \n",
       "15.0         27.275556            24.813333\n",
       "30.0         33.155556            29.688889\n",
       "50.0         43.306667            38.226667"
      ]
     },
     "execution_count": 90,
     "metadata": {},
     "output_type": "execute_result"
    }
   ],
   "source": [
    "data.groupby('n_edges').mean()[dist_metrics]"
   ]
  },
  {
   "cell_type": "code",
   "execution_count": null,
   "metadata": {},
   "outputs": [],
   "source": []
  }
 ],
 "metadata": {
  "kernelspec": {
   "display_name": "mthesis",
   "language": "python",
   "name": "python3"
  },
  "language_info": {
   "codemirror_mode": {
    "name": "ipython",
    "version": 3
   },
   "file_extension": ".py",
   "mimetype": "text/x-python",
   "name": "python",
   "nbconvert_exporter": "python",
   "pygments_lexer": "ipython3",
   "version": "3.10.0"
  },
  "orig_nbformat": 4
 },
 "nbformat": 4,
 "nbformat_minor": 2
}
