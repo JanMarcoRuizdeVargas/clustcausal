{
 "cells": [
  {
   "cell_type": "code",
   "execution_count": 29,
   "metadata": {},
   "outputs": [],
   "source": [
    "import numpy as np\n",
    "import pandas as pd\n",
    "import networkx as nx\n",
    "import causallearn\n",
    "import castle\n",
    "import pydot\n",
    "import logging\n",
    "\n",
    "from itertools import combinations\n",
    "from causallearn.graph.GraphClass import CausalGraph\n",
    "from causallearn.utils.PCUtils.BackgroundKnowledge import BackgroundKnowledge\n",
    "\n",
    "logging.basicConfig(level=logging.INFO, format='%(levelname)s: %(message)s')\n",
    "\n",
    "class CDAG:\n",
    "    \"\"\"\n",
    "    Class for functionality regarding CDAGS\n",
    "\n",
    "    attributes:\n",
    "        clusters: dictionary of clusters\n",
    "        cluster_edges: list of tuples of cluster edges\n",
    "        graph: CausalGraph object\n",
    "        background_knowledge: BackgroundKnowledge object\n",
    "        node_names: list of node names\n",
    "        node_indices: dictionary that points to which cluster the node is in\n",
    "    \n",
    "    methods:\n",
    "        cdag_to_mpdag: constructs a MPDAG from a CDAG\n",
    "\n",
    "    \"\"\"\n",
    "    def __init__(self, cluster_mapping: dict, \n",
    "        cluster_edges: list):\n",
    "        \"\"\"\n",
    "        Construct a CDAG object from a cluster dictionary\n",
    "        The CDAG is stored as a dictionary. \n",
    "        The cluster_nodes are stored as a dictionary pointing \n",
    "        to a list of cluster members. \n",
    "        The cluster_edges are stored as a list of tuples.\n",
    "        An example CDAG:\n",
    "            cdag = {}\n",
    "            cdag['clusters'] = {'C1':['X1','X2','X3'], 'C2': ['X4','X5']}\n",
    "            cdag['cluster_edges'] = [('C1','C2')] \n",
    "        \"\"\"\n",
    "        self.clusters = cluster_mapping\n",
    "        self.cluster_edges = cluster_edges\n",
    "        self.node_names = []\n",
    "        for cluster in self.clusters:\n",
    "            self.node_names.extend(self.clusters[cluster])\n",
    "        self.node_indices = {} # Dictionary that points to which cluster the node is in\n",
    "        for node in self.node_names:\n",
    "            for cluster, vertice in self.clusters.items():\n",
    "                if node in vertice:\n",
    "                    self.node_indices[node] = cluster\n",
    "        self.cluster_dag = CausalGraph(no_of_var = len(self.clusters),\n",
    "                                node_names = list(self.clusters.keys()))\n",
    "        for edge in self.cluster_dag.G.get_graph_edges():\n",
    "            cluster1 = edge.get_node1()\n",
    "            cluster2 = edge.get_node2()\n",
    "            cluster1_name = cluster1.get_name()\n",
    "            cluster2_name = cluster2.get_name()\n",
    "            if cluster1 != cluster2:\n",
    "                if (cluster1_name, cluster2_name) not in self.cluster_edges:\n",
    "                    self.cluster_dag.G.remove_edge(edge)\n",
    "                    logging.info(f'removed edge: ({cluster1.get_name()},{cluster2.get_name()})')\n",
    "                if (cluster1_name, cluster2_name) in self.cluster_edges:\n",
    "                    self.cluster_dag.G.remove_edge(edge)\n",
    "                    self.cluster_dag.G.add_directed_edge(cluster1, cluster2)\n",
    "                    logging.info(f'oriented edge: ({cluster1.get_name()},{cluster2.get_name()})')\n",
    "        \n",
    "\n",
    "    def cdag_to_mpdag(self):\n",
    "        \"\"\"\n",
    "        Constructs a MPDAG from a CDAG and stores it in a causallearn\n",
    "        BackgroundKnowledge object. \n",
    "        \"\"\"\n",
    "        # Create the list of node_names needed for CausalGraph\n",
    "        self.cg = CausalGraph(no_of_var = len(self.node_names), \n",
    "                                                      node_names = self.node_names)\n",
    "        # Remove edges that are forbidden by the CDAG\n",
    "        # self.background_knowledge = BackgroundKnowledge()\n",
    "        for edge in self.cg.G.get_graph_edges():\n",
    "            # There must be a better way to do this by only adressing the edges needed to be changed\n",
    "            node1 = edge.get_node1()\n",
    "            node2 = edge.get_node2()\n",
    "            cluster1 = self.node_indices[node1.get_name()]\n",
    "            cluster2 = self.node_indices[node2.get_name()]\n",
    "            if cluster1 != cluster2:\n",
    "                if (cluster1, cluster2) not in self.cluster_edges:\n",
    "                    self.cg.G.remove_edge(edge)\n",
    "                    logging.info(f'removed edge: ({node1.get_name()},{node2.get_name()})')\n",
    "                if (cluster1, cluster2) in self.cluster_edges:\n",
    "                    self.cg.G.remove_edge(edge)\n",
    "                    self.cg.G.add_directed_edge(node1, node2)\n",
    "                    logging.info(f'oriented edge: ({node1.get_name()},{node2.get_name()})')\n",
    "\n",
    "    def draw_cluster_dag(self):\n",
    "        \"\"\"\n",
    "        Draws the cluster DAG using causallearn visualization\n",
    "        \"\"\"\n",
    "        self.cluster_dag.draw_pydot_graph()\n",
    "\n",
    "    def get_topological_ordering(self):\n",
    "        \"\"\"\n",
    "        Calculates a topological ordering of the CDAG\n",
    "        and saves it to self.cdag_topological_sort and \n",
    "        self.cdag_list_of_topological_sort\n",
    "        \"\"\"\n",
    "        nx_helper_graph = nx.DiGraph()\n",
    "        nx_helper_graph.add_edges_from(self.cluster_edges)\n",
    "        self.nx_helper_graph = nx_helper_graph\n",
    "        self.cdag_topological_sort = nx.topological_sort(nx_helper_graph)\n",
    "        self.cdag_list_of_topological_sort = list(self.cdag_topological_sort)"
   ]
  },
  {
   "cell_type": "code",
   "execution_count": 30,
   "metadata": {},
   "outputs": [
    {
     "name": "stderr",
     "output_type": "stream",
     "text": [
      "2023-06-20 14:16:57,341 - C:\\Users\\JanMarco\\AppData\\Local\\Temp\\ipykernel_69028\\1030580614.py[line:68] - INFO: oriented edge: (C1,C2)\n",
      "2023-06-20 14:16:57,341 - C:\\Users\\JanMarco\\AppData\\Local\\Temp\\ipykernel_69028\\1030580614.py[line:64] - INFO: removed edge: (C1,C3)\n",
      "2023-06-20 14:16:57,342 - C:\\Users\\JanMarco\\AppData\\Local\\Temp\\ipykernel_69028\\1030580614.py[line:68] - INFO: oriented edge: (C2,C3)\n"
     ]
    }
   ],
   "source": [
    "cluster_dict = {}\n",
    "cluster_dict['clusters'] = {'C1':['X1','X2','X3'], 'C2': ['X4','X5'], 'C3':['X6','X7']}\n",
    "cluster_dict['cluster_edges'] = [('C1','C2'), ('C2','C3')] \n",
    "cdag = CDAG(cluster_mapping=cluster_dict['clusters'], cluster_edges = cluster_dict['cluster_edges'])"
   ]
  },
  {
   "cell_type": "code",
   "execution_count": 31,
   "metadata": {},
   "outputs": [
    {
     "data": {
      "text/plain": [
       "['C1', 'C2', 'C3']"
      ]
     },
     "execution_count": 31,
     "metadata": {},
     "output_type": "execute_result"
    }
   ],
   "source": [
    "cdag.get_topological_ordering()\n",
    "cdag.cdag_list_of_topological_sort"
   ]
  },
  {
   "cell_type": "code",
   "execution_count": 28,
   "metadata": {},
   "outputs": [
    {
     "data": {
      "text/plain": [
       "['C1', 'C2', 'C3']"
      ]
     },
     "execution_count": 28,
     "metadata": {},
     "output_type": "execute_result"
    }
   ],
   "source": []
  }
 ],
 "metadata": {
  "kernelspec": {
   "display_name": "mthesis",
   "language": "python",
   "name": "python3"
  },
  "language_info": {
   "codemirror_mode": {
    "name": "ipython",
    "version": 3
   },
   "file_extension": ".py",
   "mimetype": "text/x-python",
   "name": "python",
   "nbconvert_exporter": "python",
   "pygments_lexer": "ipython3",
   "version": "3.10.0"
  },
  "orig_nbformat": 4
 },
 "nbformat": 4,
 "nbformat_minor": 2
}
