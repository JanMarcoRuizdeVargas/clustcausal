{
 "cells": [
  {
   "cell_type": "code",
   "execution_count": 1,
   "metadata": {},
   "outputs": [],
   "source": [
    "%load_ext autoreload"
   ]
  },
  {
   "cell_type": "code",
   "execution_count": 2,
   "metadata": {},
   "outputs": [
    {
     "name": "stderr",
     "output_type": "stream",
     "text": [
      "c:\\Users\\JanMarco\\MLProjects\\Masterthesis\\masterthesis\\mthesis\\lib\\site-packages\\tqdm\\auto.py:21: TqdmWarning: IProgress not found. Please update jupyter and ipywidgets. See https://ipywidgets.readthedocs.io/en/stable/user_install.html\n",
      "  from .autonotebook import tqdm as notebook_tqdm\n"
     ]
    }
   ],
   "source": [
    "%autoreload 2\n",
    "# from ipython import autoreload\n",
    "import numpy as np\n",
    "import causallearn\n",
    "import random\n",
    "from clustercausal.algorithms.ClusterPC import ClusterPC\n",
    "from clustercausal.clusterdag.ClusterDAG import ClusterDAG\n",
    "from clustercausal.utils.Utils import *"
   ]
  },
  {
   "cell_type": "code",
   "execution_count": 3,
   "metadata": {},
   "outputs": [],
   "source": [
    "# For easier debugging visualization or better understanding the verbose output\n",
    "# Comment out if not needed and prefer other cluster names\n",
    "debug_nodes = ['0', '1', '2', '3', '4', '5', '6', '7']\n",
    "debug_edges = [('0', '1'), ('2', '1'), ('2', '7'), ('1', '6'), ('0','5'), ('3','5'), ('4', '6'), ('3','6'), ('5','6'), ('6','7')]\n",
    "debug_cluster_mapping = {'X': ['0', '1', '2'], 'Y': ['3', '4'], 'Z': ['5', '6', '7']}\n",
    "debug_cluster_edges = [('X', 'Z'), ('Y', 'Z')]\n",
    "debug_no_clust_mapping = {'A' : ['0', '1', '2', '3', '4', '5', '6', '7']}\n",
    "debug_no_clust_edges = []\n",
    "nodes = debug_nodes\n",
    "edges = debug_edges\n",
    "cluster_mapping = debug_cluster_mapping\n",
    "cluster_edges = debug_cluster_edges\n",
    "no_clust_mapping = debug_no_clust_mapping\n",
    "no_clust_edges = debug_no_clust_edges"
   ]
  },
  {
   "cell_type": "code",
   "execution_count": 4,
   "metadata": {},
   "outputs": [
    {
     "name": "stdout",
     "output_type": "stream",
     "text": [
      "(10000, 8) {('0', '1'): -3, ('2', '1'): 2, ('2', '7'): 1, ('1', '6'): -1, ('0', '5'): -1, ('3', '5'): 3, ('4', '6'): -3, ('3', '6'): 2, ('5', '6'): -2, ('6', '7'): -3}\n",
      "[[-1.30217951e+00  3.97213867e+00  1.03677079e+00 -4.21885354e-01\n",
      "  -1.30193461e+00 -9.67256058e-01 -9.04753175e-01  4.08943541e+00]\n",
      " [ 1.27840403e-01  1.08381260e+00  7.31240517e-01  7.26907602e-01\n",
      "   2.55188152e-01  5.55638406e-01 -7.11890862e-01  2.39881211e+00]\n",
      " [-3.16242592e-01 -6.27195581e-01 -1.27923458e-01 -7.37827617e-01\n",
      "  -7.22138218e-02 -4.66761168e+00  8.00734084e+00 -2.33589462e+01]\n",
      " [-1.68011575e-02 -1.63959830e+00 -1.13910746e+00 -2.46998124e+00\n",
      "  -4.00931718e-01 -8.42940691e+00  1.46208762e+01 -4.55776855e+01]]\n"
     ]
    }
   ],
   "source": [
    "# Generate Gaussian ANM\n",
    "# Example edge_weights, if None is given, they will be generated randomly\n",
    "# edge_weights = {('X1', 'Z1'): 1, ('Y1', 'Z1'): 2, ('Y1', 'Z2'): 1, ('Z1', 'Z2'): -3, ('Z2', 'Z3'): 2}\n",
    "edge_weights = None\n",
    "data, edge_weights = generate_gaussian_anm(nodes, edges, seed = 42, edge_weights = edge_weights)\n",
    "print(data.shape, edge_weights)\n",
    "print(data[:4,:])"
   ]
  },
  {
   "cell_type": "code",
   "execution_count": 5,
   "metadata": {},
   "outputs": [
    {
     "name": "stderr",
     "output_type": "stream",
     "text": [
      "Depth=3, working on node 7: 100%|██████████| 8/8 [00:00<00:00, 887.57it/s] \n"
     ]
    },
    {
     "name": "stdout",
     "output_type": "stream",
     "text": [
      "X7 --> X8\n"
     ]
    }
   ],
   "source": [
    "#FCI baseline\n",
    "from causallearn.search.ConstraintBased.FCI import fci\n",
    "\n",
    "# default parameters\n",
    "G, edges = fci(data)\n",
    "\n",
    "# or customized parameters\n",
    "# G, edges = fci(data, independence_test_method, alpha, depth, max_path_length,\n",
    "#     verbose, background_knowledge, cache_variables_map)\n",
    "\n",
    "# visualization\n",
    "from causallearn.utils.GraphUtils import GraphUtils\n",
    "\n",
    "pdy = GraphUtils.to_pydot(G)\n",
    "pdy.write_png('simple_test.png')"
   ]
  },
  {
   "cell_type": "code",
   "execution_count": null,
   "metadata": {},
   "outputs": [],
   "source": []
  }
 ],
 "metadata": {
  "kernelspec": {
   "display_name": "mthesis",
   "language": "python",
   "name": "python3"
  },
  "language_info": {
   "codemirror_mode": {
    "name": "ipython",
    "version": 3
   },
   "file_extension": ".py",
   "mimetype": "text/x-python",
   "name": "python",
   "nbconvert_exporter": "python",
   "pygments_lexer": "ipython3",
   "version": "3.10.0"
  },
  "orig_nbformat": 4
 },
 "nbformat": 4,
 "nbformat_minor": 2
}
