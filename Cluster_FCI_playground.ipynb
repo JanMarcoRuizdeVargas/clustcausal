{
 "cells": [
  {
   "cell_type": "code",
   "execution_count": 7,
   "metadata": {},
   "outputs": [
    {
     "name": "stdout",
     "output_type": "stream",
     "text": [
      "The autoreload extension is already loaded. To reload it, use:\n",
      "  %reload_ext autoreload\n"
     ]
    }
   ],
   "source": [
    "%load_ext autoreload"
   ]
  },
  {
   "cell_type": "code",
   "execution_count": 8,
   "metadata": {},
   "outputs": [
    {
     "name": "stderr",
     "output_type": "stream",
     "text": [
      "c:\\Users\\JanMarco\\MLProjects\\Masterthesis\\masterthesis\\mthesis\\lib\\site-packages\\tqdm\\auto.py:21: TqdmWarning: IProgress not found. Please update jupyter and ipywidgets. See https://ipywidgets.readthedocs.io/en/stable/user_install.html\n",
      "  from .autonotebook import tqdm as notebook_tqdm\n"
     ]
    }
   ],
   "source": [
    "%autoreload 2\n",
    "# from ipython import autoreload\n",
    "import numpy as np\n",
    "import causallearn\n",
    "import random\n",
    "from clustercausal.algorithms.ClusterPC import ClusterPC\n",
    "from clustercausal.clusterdag.ClusterDAG import ClusterDAG\n",
    "from clustercausal.utils.Utils import *"
   ]
  },
  {
   "cell_type": "code",
   "execution_count": 9,
   "metadata": {},
   "outputs": [],
   "source": [
    "# For easier debugging visualization or better understanding the verbose output\n",
    "# Comment out if not needed and prefer other cluster names\n",
    "debug_nodes = ['0', '1', '2', '3', '4', '5', '6', '7']\n",
    "debug_edges = [('0', '1'), ('2', '1'), ('2', '7'), ('1', '6'), ('0','5'), ('3','5'), ('4', '6'), ('3','6'), ('5','6'), ('6','7')]\n",
    "debug_cluster_mapping = {'X': ['0', '1', '2'], 'Y': ['3', '4'], 'Z': ['5', '6', '7']}\n",
    "debug_cluster_edges = [('X', 'Z'), ('Y', 'Z')]\n",
    "debug_no_clust_mapping = {'A' : ['0', '1', '2', '3', '4', '5', '6', '7']}\n",
    "debug_no_clust_edges = []\n",
    "nodes = debug_nodes\n",
    "edges = debug_edges\n",
    "cluster_mapping = debug_cluster_mapping\n",
    "cluster_edges = debug_cluster_edges\n",
    "no_clust_mapping = debug_no_clust_mapping\n",
    "no_clust_edges = debug_no_clust_edges"
   ]
  },
  {
   "cell_type": "code",
   "execution_count": 10,
   "metadata": {},
   "outputs": [
    {
     "name": "stdout",
     "output_type": "stream",
     "text": [
      "(10000, 8) {('0', '1'): -3, ('2', '1'): 2, ('2', '7'): 1, ('1', '6'): -1, ('0', '5'): -1, ('3', '5'): 3, ('4', '6'): -3, ('3', '6'): 2, ('5', '6'): -2, ('6', '7'): -3}\n",
      "[[-1.30217951e+00  3.97213867e+00  1.03677079e+00 -4.21885354e-01\n",
      "  -1.30193461e+00 -9.67256058e-01 -9.04753175e-01  4.08943541e+00]\n",
      " [ 1.27840403e-01  1.08381260e+00  7.31240517e-01  7.26907602e-01\n",
      "   2.55188152e-01  5.55638406e-01 -7.11890862e-01  2.39881211e+00]\n",
      " [-3.16242592e-01 -6.27195581e-01 -1.27923458e-01 -7.37827617e-01\n",
      "  -7.22138218e-02 -4.66761168e+00  8.00734084e+00 -2.33589462e+01]\n",
      " [-1.68011575e-02 -1.63959830e+00 -1.13910746e+00 -2.46998124e+00\n",
      "  -4.00931718e-01 -8.42940691e+00  1.46208762e+01 -4.55776855e+01]]\n"
     ]
    }
   ],
   "source": [
    "# Generate Gaussian ANM\n",
    "# Example edge_weights, if None is given, they will be generated randomly\n",
    "# edge_weights = {('X1', 'Z1'): 1, ('Y1', 'Z1'): 2, ('Y1', 'Z2'): 1, ('Z1', 'Z2'): -3, ('Z2', 'Z3'): 2}\n",
    "edge_weights = None\n",
    "data, edge_weights = generate_gaussian_anm(nodes, edges, seed = 42, edge_weights = edge_weights)\n",
    "print(data.shape, edge_weights)\n",
    "print(data[:4,:])"
   ]
  },
  {
   "cell_type": "code",
   "execution_count": 11,
   "metadata": {},
   "outputs": [
    {
     "name": "stderr",
     "output_type": "stream",
     "text": [
      "Depth=3, working on node 7: 100%|██████████| 8/8 [00:00<00:00, 1000.58it/s]\n"
     ]
    },
    {
     "name": "stdout",
     "output_type": "stream",
     "text": [
      "X7 --> X8\n"
     ]
    }
   ],
   "source": [
    "#FCI baseline\n",
    "from causallearn.search.ConstraintBased.FCI import fci\n",
    "\n",
    "# default parameters\n",
    "G, edges = fci(data)\n",
    "\n",
    "# or customized parameters\n",
    "# G, edges = fci(data, independence_test_method, alpha, depth, max_path_length,\n",
    "#     verbose, background_knowledge, cache_variables_map)\n",
    "\n",
    "# visualization\n",
    "from causallearn.utils.GraphUtils import GraphUtils\n",
    "\n",
    "pdy = GraphUtils.to_pydot(G)\n",
    "pdy.write_png('simple_test.png')"
   ]
  },
  {
   "cell_type": "code",
   "execution_count": 12,
   "metadata": {},
   "outputs": [],
   "source": [
    "from castle.datasets.simulator import IIDSimulation, DAG\n",
    "import networkx as nx\n",
    "from clustercausal.experiments.Simulator import Simulator"
   ]
  },
  {
   "cell_type": "code",
   "execution_count": 13,
   "metadata": {},
   "outputs": [
    {
     "name": "stdout",
     "output_type": "stream",
     "text": [
      "True\n",
      "True\n",
      "True\n",
      "True\n",
      "True\n",
      "True\n",
      "True\n",
      "True\n",
      "True\n",
      "True\n"
     ]
    }
   ],
   "source": [
    "import networkx as nx\n",
    "for i in range(10):\n",
    "    weighted_random_dag = DAG.erdos_renyi(n_nodes=5, n_edges=200, \n",
    "                                      weight_range=(0.5, 2.0), seed=None)\n",
    "    nx_graph = nx.from_numpy_array(weighted_random_dag, create_using=nx.DiGraph)\n",
    "    Flag = nx.is_directed_acyclic_graph(nx_graph)\n",
    "    print(Flag)\n"
   ]
  },
  {
   "cell_type": "code",
   "execution_count": 14,
   "metadata": {},
   "outputs": [],
   "source": [
    "# method: str, (linear or nonlinear), default='linear'\n",
    "#         Distribution for standard trainning dataset.\n",
    "#     sem_type: str\n",
    "#         gauss, exp, gumbel, uniform, logistic (linear); \n",
    "#         mlp, mim, gp, gp-add, quadratic (nonlinear).\n",
    "#     noise_scale: float\n",
    "#         Scale parameter of noise distribution in linear SEM."
   ]
  },
  {
   "cell_type": "code",
   "execution_count": 15,
   "metadata": {},
   "outputs": [
    {
     "name": "stdout",
     "output_type": "stream",
     "text": [
      "The autoreload extension is already loaded. To reload it, use:\n",
      "  %reload_ext autoreload\n"
     ]
    }
   ],
   "source": [
    "%load_ext autoreload\n",
    "%autoreload 2\n",
    "def test_simulator():\n",
    "    list_of_dag_nodes = [5, 10, 15, 20]\n",
    "    list_of_dag_edges = [3, 5, 7, 10]\n",
    "    list_of_methods = [\"erdos_renyi\", \"scale_free\", \"bipartite\", \"hierarchical\", \"low_rank\"]\n",
    "    list_of_sem_types = [\"gauss\", \"exp\", \"gumbel\", \"uniform\", \"logistic\", \n",
    "                         \"mlp\", \"mim\", \"gp\", \"gp-add\", \"quadratic\"]\n",
    "    list_of_noise_scales = [0.1, 0.5, 1.0, 2.0]\n",
    "    for n_nodes in list_of_dag_nodes:\n",
    "        for n_edges in list_of_dag_edges:\n",
    "            for method in list_of_methods:\n",
    "                for sem_type in list_of_sem_types:\n",
    "                    simulation = Simulator()\n",
    "                    true_dag, data = simulation.run(true_dag = None, n_nodes = n_nodes, n_edges = n_edges, \n",
    "                                                   method=method, weight_range=(-1, 2), \n",
    "                                                   distribution_type= sem_type, sample_size = 100,  seed=42, noise_scale = 1.0)\n",
    "                    nx_graph = nx.from_numpy_array(true_dag.adjacency_matrix, create_using=nx.DiGraph)\n",
    "                    assert data.shape == (100, n_nodes)\n",
    "                    assert nx.is_directed_acyclic_graph(nx_graph) == True"
   ]
  },
  {
   "cell_type": "code",
   "execution_count": 20,
   "metadata": {},
   "outputs": [],
   "source": [
    "weighted_random_dag = DAG.scale_free(n_nodes=10, n_edges=10, \n",
    "                                      weight_range=(0.5, 2.0), seed=1)"
   ]
  },
  {
   "cell_type": "code",
   "execution_count": 18,
   "metadata": {},
   "outputs": [
    {
     "name": "stderr",
     "output_type": "stream",
     "text": [
      "2023-07-12 21:04:56,697 - c:\\Users\\JanMarco\\MLProjects\\Masterthesis\\masterthesis\\mthesis\\lib\\site-packages\\castle\\datasets\\simulator.py[line:270] - INFO: Finished synthetic dataset\n"
     ]
    }
   ],
   "source": [
    "from castle.datasets.simulator import IIDSimulation, DAG\n",
    "weighted_random_dag = DAG.erdos_renyi(n_nodes=10, n_edges=10, \n",
    "                                      weight_range=(0.5, 2.0), seed=1)\n",
    "dataset = IIDSimulation(W=weighted_random_dag, n=2000, method='linear', \n",
    "                        sem_type='gauss')"
   ]
  },
  {
   "cell_type": "code",
   "execution_count": 19,
   "metadata": {},
   "outputs": [
    {
     "data": {
      "text/plain": [
       "array([[-0.2867778 ,  2.39353195,  1.13069414, ..., -1.10688701,\n",
       "         2.01687582, -0.00320336],\n",
       "       [-1.41687082, -1.06307858, -3.00925579, ...,  1.15592087,\n",
       "         0.42760378,  1.17829491],\n",
       "       [-0.95379946,  0.53137178, -0.71413117, ...,  0.79099154,\n",
       "        -0.12547499,  0.73371887],\n",
       "       ...,\n",
       "       [ 1.22533869, -1.76505495,  0.92812594, ..., -0.2902744 ,\n",
       "        -0.34434241,  0.58844553],\n",
       "       [ 0.23581863,  0.86579349, -0.64452184, ...,  1.11478334,\n",
       "        -1.02037232,  1.59063352],\n",
       "       [-0.87610645,  2.16661946, -1.32822531, ...,  0.02340463,\n",
       "        -0.12653551,  0.59622576]])"
      ]
     },
     "execution_count": 19,
     "metadata": {},
     "output_type": "execute_result"
    }
   ],
   "source": [
    "dataset.X"
   ]
  },
  {
   "cell_type": "code",
   "execution_count": 17,
   "metadata": {},
   "outputs": [
    {
     "name": "stderr",
     "output_type": "stream",
     "text": [
      "2023-07-12 20:59:09,963 - c:\\Users\\JanMarco\\MLProjects\\Masterthesis\\masterthesis\\mthesis\\lib\\site-packages\\castle\\datasets\\simulator.py[line:270] - INFO: Finished synthetic dataset\n"
     ]
    },
    {
     "ename": "AttributeError",
     "evalue": "'IIDSimulation' object has no attribute 'X'",
     "output_type": "error",
     "traceback": [
      "\u001b[1;31m---------------------------------------------------------------------------\u001b[0m",
      "\u001b[1;31mAttributeError\u001b[0m                            Traceback (most recent call last)",
      "Cell \u001b[1;32mIn[17], line 1\u001b[0m\n\u001b[1;32m----> 1\u001b[0m test_simulator()\n",
      "Cell \u001b[1;32mIn[15], line 15\u001b[0m, in \u001b[0;36mtest_simulator\u001b[1;34m()\u001b[0m\n\u001b[0;32m     13\u001b[0m \u001b[39mfor\u001b[39;00m sem_type \u001b[39min\u001b[39;00m list_of_sem_types:\n\u001b[0;32m     14\u001b[0m     simulation \u001b[39m=\u001b[39m Simulator()\n\u001b[1;32m---> 15\u001b[0m     true_dag, data \u001b[39m=\u001b[39m simulation\u001b[39m.\u001b[39;49mrun(true_dag \u001b[39m=\u001b[39;49m \u001b[39mNone\u001b[39;49;00m, n_nodes \u001b[39m=\u001b[39;49m n_nodes, n_edges \u001b[39m=\u001b[39;49m n_edges, \n\u001b[0;32m     16\u001b[0m                                    method\u001b[39m=\u001b[39;49mmethod, weight_range\u001b[39m=\u001b[39;49m(\u001b[39m-\u001b[39;49m\u001b[39m1\u001b[39;49m, \u001b[39m2\u001b[39;49m), \n\u001b[0;32m     17\u001b[0m                                    distribution_type\u001b[39m=\u001b[39;49m sem_type, sample_size \u001b[39m=\u001b[39;49m \u001b[39m100\u001b[39;49m,  seed\u001b[39m=\u001b[39;49m\u001b[39m42\u001b[39;49m, noise_scale \u001b[39m=\u001b[39;49m \u001b[39m1.0\u001b[39;49m)\n\u001b[0;32m     18\u001b[0m     nx_graph \u001b[39m=\u001b[39m nx\u001b[39m.\u001b[39mfrom_numpy_array(true_dag\u001b[39m.\u001b[39madjacency_matrix, create_using\u001b[39m=\u001b[39mnx\u001b[39m.\u001b[39mDiGraph)\n\u001b[0;32m     19\u001b[0m     \u001b[39massert\u001b[39;00m data\u001b[39m.\u001b[39mshape \u001b[39m==\u001b[39m (\u001b[39m100\u001b[39m, n_nodes)\n",
      "File \u001b[1;32mc:\\Users\\JanMarco\\MLProjects\\Masterthesis\\masterthesis\\clustercausal\\experiments\\Simulator.py:39\u001b[0m, in \u001b[0;36mSimulator.run\u001b[1;34m(self, true_dag, n_nodes, n_edges, method, weight_range, distribution_type, sample_size, seed, noise_scale)\u001b[0m\n\u001b[0;32m     35\u001b[0m \u001b[39mif\u001b[39;00m true_dag \u001b[39mis\u001b[39;00m \u001b[39mNone\u001b[39;00m:\n\u001b[0;32m     36\u001b[0m     true_dag \u001b[39m=\u001b[39m \u001b[39mself\u001b[39m\u001b[39m.\u001b[39mgenerate_dag(\n\u001b[0;32m     37\u001b[0m         n_nodes, n_edges, method, weight_range, seed\n\u001b[0;32m     38\u001b[0m     )\n\u001b[1;32m---> 39\u001b[0m data \u001b[39m=\u001b[39m \u001b[39mself\u001b[39;49m\u001b[39m.\u001b[39;49mgenerate_data(\n\u001b[0;32m     40\u001b[0m     true_dag, sample_size, method, distribution_type, noise_scale\n\u001b[0;32m     41\u001b[0m )\n\u001b[0;32m     42\u001b[0m \u001b[39mreturn\u001b[39;00m true_dag, data\n",
      "File \u001b[1;32mc:\\Users\\JanMarco\\MLProjects\\Masterthesis\\masterthesis\\clustercausal\\experiments\\Simulator.py:116\u001b[0m, in \u001b[0;36mSimulator.generate_data\u001b[1;34m(self, true_dag, sample_size, method, distribution_type, noise_scale)\u001b[0m\n\u001b[0;32m    108\u001b[0m     \u001b[39mraise\u001b[39;00m \u001b[39mValueError\u001b[39;00m(\u001b[39m\"\u001b[39m\u001b[39mAdjacency matrix is None\u001b[39m\u001b[39m\"\u001b[39m)\n\u001b[0;32m    109\u001b[0m dataset \u001b[39m=\u001b[39m IIDSimulation(\n\u001b[0;32m    110\u001b[0m     true_dag\u001b[39m.\u001b[39madjacency_matrix,\n\u001b[0;32m    111\u001b[0m     n\u001b[39m=\u001b[39msample_size,\n\u001b[1;32m   (...)\u001b[0m\n\u001b[0;32m    114\u001b[0m     noise_scale\u001b[39m=\u001b[39mnoise_scale,\n\u001b[0;32m    115\u001b[0m )\n\u001b[1;32m--> 116\u001b[0m \u001b[39mreturn\u001b[39;00m dataset\u001b[39m.\u001b[39;49mX\n",
      "\u001b[1;31mAttributeError\u001b[0m: 'IIDSimulation' object has no attribute 'X'"
     ]
    }
   ],
   "source": [
    "test_simulator()"
   ]
  },
  {
   "cell_type": "code",
   "execution_count": null,
   "metadata": {},
   "outputs": [
    {
     "ename": "AssertionError",
     "evalue": "",
     "output_type": "error",
     "traceback": [
      "\u001b[1;31m---------------------------------------------------------------------------\u001b[0m",
      "\u001b[1;31mAssertionError\u001b[0m                            Traceback (most recent call last)",
      "Cell \u001b[1;32mIn[15], line 1\u001b[0m\n\u001b[1;32m----> 1\u001b[0m \u001b[39massert\u001b[39;00m \u001b[39mFalse\u001b[39;00m \u001b[39m==\u001b[39m \u001b[39mTrue\u001b[39;00m\n",
      "\u001b[1;31mAssertionError\u001b[0m: "
     ]
    }
   ],
   "source": [
    "assert False == True"
   ]
  },
  {
   "cell_type": "code",
   "execution_count": null,
   "metadata": {},
   "outputs": [],
   "source": []
  }
 ],
 "metadata": {
  "kernelspec": {
   "display_name": "mthesis",
   "language": "python",
   "name": "python3"
  },
  "language_info": {
   "codemirror_mode": {
    "name": "ipython",
    "version": 3
   },
   "file_extension": ".py",
   "mimetype": "text/x-python",
   "name": "python",
   "nbconvert_exporter": "python",
   "pygments_lexer": "ipython3",
   "version": "3.10.0"
  },
  "orig_nbformat": 4
 },
 "nbformat": 4,
 "nbformat_minor": 2
}
